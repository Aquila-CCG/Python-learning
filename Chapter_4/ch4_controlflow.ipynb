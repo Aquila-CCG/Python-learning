{
 "cells": [
  {
   "cell_type": "markdown",
   "metadata": {},
   "source": [
    "Before you turn this problem in, make sure everything runs as expected. First, **restart the kernel** (in the menubar, select Kernel$\\rightarrow$Restart) and then **run all cells** (in the menubar, select Cell$\\rightarrow$Run All).\n",
    "\n",
    "Make sure you fill in any place that says `YOUR CODE HERE` or \"YOUR ANSWER HERE\", as well as your name and collaborators below:"
   ]
  },
  {
   "cell_type": "code",
   "execution_count": null,
   "metadata": {},
   "outputs": [],
   "source": [
    "NAME = \"Chen Yuxuan\"\n",
    "COLLABORATORS = \"\""
   ]
  },
  {
   "cell_type": "markdown",
   "metadata": {},
   "source": [
    "---"
   ]
  },
  {
   "cell_type": "markdown",
   "metadata": {
    "toc": true
   },
   "source": [
    "<h1>Table of Contents<span class=\"tocSkip\"></span></h1>\n",
    "<div class=\"toc\"><ul class=\"toc-item\"><li><span><a href=\"#The-while-statement\" data-toc-modified-id=\"The-while-statement-1\"><span class=\"toc-item-num\">1&nbsp;&nbsp;</span>The <em><code>while</code></em> statement</a></span><ul class=\"toc-item\"><li><span><a href=\"#Simple-while\" data-toc-modified-id=\"Simple-while-1.1\"><span class=\"toc-item-num\">1.1&nbsp;&nbsp;</span>Simple <em><code>while</code></em></a></span></li><li><span><a href=\"#while-...-else-...\" data-toc-modified-id=\"while-...-else-...-1.2\"><span class=\"toc-item-num\">1.2&nbsp;&nbsp;</span><em><code>while</code> ... <code>else</code> ...</em></a></span></li></ul></li><li><span><a href=\"#The-for-loop\" data-toc-modified-id=\"The-for-loop-2\"><span class=\"toc-item-num\">2&nbsp;&nbsp;</span>The <em><code>for</code></em> loop</a></span><ul class=\"toc-item\"><li><span><a href=\"#Usage\" data-toc-modified-id=\"Usage-2.1\"><span class=\"toc-item-num\">2.1&nbsp;&nbsp;</span>Usage</a></span></li><li><span><a href=\"#The-for-loop-with-else\" data-toc-modified-id=\"The-for-loop-with-else-2.2\"><span class=\"toc-item-num\">2.2&nbsp;&nbsp;</span>The <em><code>for</code></em> loop with <em><code>else</code></em></a></span></li><li><span><a href=\"#The-range-function\" data-toc-modified-id=\"The-range-function-2.3\"><span class=\"toc-item-num\">2.3&nbsp;&nbsp;</span>The <em><code>range</code></em> function</a></span></li></ul></li><li><span><a href=\"#The-break-statement\" data-toc-modified-id=\"The-break-statement-3\"><span class=\"toc-item-num\">3&nbsp;&nbsp;</span>The <em><code>break</code></em> statement</a></span></li><li><span><a href=\"#The-continue-statement\" data-toc-modified-id=\"The-continue-statement-4\"><span class=\"toc-item-num\">4&nbsp;&nbsp;</span>The <em><code>continue</code></em> statement</a></span></li><li><span><a href=\"#Practice-Examples\" data-toc-modified-id=\"Practice-Examples-5\"><span class=\"toc-item-num\">5&nbsp;&nbsp;</span>Practice Examples</a></span></li><li><span><a href=\"#Exercises\" data-toc-modified-id=\"Exercises-6\"><span class=\"toc-item-num\">6&nbsp;&nbsp;</span>Exercises</a></span></li></ul></div>"
   ]
  },
  {
   "cell_type": "markdown",
   "metadata": {},
   "source": [
    "# Control Flow\n",
    "\n"
   ]
  },
  {
   "cell_type": "markdown",
   "metadata": {},
   "source": [
    "Previously we have seen the if control flow. In this class you will learn:\n",
    "\n",
    "* 2) What is a while statement?\n",
    "\n",
    "* 3) What is a for loop?\n",
    "\n",
    "* 4) What are break and continue statments?"
   ]
  },
  {
   "cell_type": "markdown",
   "metadata": {},
   "source": [
    "---"
   ]
  },
  {
   "cell_type": "markdown",
   "metadata": {},
   "source": [
    "## The *`while`* statement\n",
    "\n",
    "### Simple *`while`* \n",
    "\n",
    "The `while` statement allows you to repeatedly execute a block of statements as long as the condition is `True`. A `while` statement is an example of what is called a **looping statement**. "
   ]
  },
  {
   "cell_type": "markdown",
   "metadata": {},
   "source": [
    " <img src=\"./Figures/while-loop.png\" width = \"380\" height = \"250\" alt=\"图片名称\" align=center />"
   ]
  },
  {
   "cell_type": "markdown",
   "metadata": {},
   "source": [
    "* In a `while` loop, the test expression is checked first. The body of the loop is entered only if the test expression evaluates to be `True`. After one iteration, the test expression is checked again. This process continues until the test expression evaluates to be `False`.\n",
    "\n",
    "* In Python, the body of the `while` loop is determined through indentation.\n",
    "\n",
    "* Body starts with indentation and the first unindented line marks the end.\n",
    "\n",
    "* Python interprets any non-zero value as `True`. **None** and **0** are interpreted as `False`.\n",
    "\n",
    "* Below is the syntax:\n",
    "\n",
    "```py\n",
    "while test_expression:\n",
    "    # Body of while\n",
    "```"
   ]
  },
  {
   "cell_type": "markdown",
   "metadata": {},
   "source": [
    "**Example**"
   ]
  },
  {
   "cell_type": "code",
   "execution_count": 1,
   "metadata": {
    "ExecuteTime": {
     "end_time": "2024-03-11T05:39:12.237649Z",
     "start_time": "2024-03-11T05:39:12.233298Z"
    }
   },
   "outputs": [
    {
     "name": "stdout",
     "output_type": "stream",
     "text": [
      "The sum is 55\n"
     ]
    }
   ],
   "source": [
    "# This chunck of codes below is to add natural numbers up to n.\n",
    "# sum = 1 + 2 + 3 + ... + n\n",
    "\n",
    "# To take input from the user,\n",
    "# n = int(input(\"Enter n: \"))\n",
    "n = 10\n",
    "\n",
    "# initialize sum and counter\n",
    "sum_value = 0\n",
    "i = 1\n",
    "\n",
    "while i <= n:\n",
    "    sum_value = sum_value + i\n",
    "    i = i + 1    # update counter\n",
    "\n",
    "# print the sum\n",
    "print(\"The sum is\", sum_value)"
   ]
  },
  {
   "cell_type": "markdown",
   "metadata": {},
   "source": [
    "**Example**"
   ]
  },
  {
   "cell_type": "code",
   "execution_count": 49,
   "metadata": {
    "ExecuteTime": {
     "end_time": "2024-03-15T09:03:16.565647Z",
     "start_time": "2024-03-15T09:03:05.243880Z"
    }
   },
   "outputs": [
    {
     "name": "stdout",
     "output_type": "stream",
     "text": [
      "Enter an integer: 6\n",
      "No, it is a little higher than that.\n",
      "Enter an integer: 241\n",
      "No, it is a little lower than that.\n",
      "Enter an integer: 200\n",
      "No, it is a little lower than that.\n",
      "Enter an integer: 23\n",
      "Congratulations, you guessed it.\n"
     ]
    }
   ],
   "source": [
    "number = 23\n",
    "running = True\n",
    "\n",
    "while running == True:\n",
    "    guess = int(input('Enter an integer: '))\n",
    "    if guess == number:\n",
    "        print('Congratulations, you guessed it.')\n",
    "        running = False # this causes the while loop to stop\n",
    "    elif guess < number:\n",
    "        print('No, it is a little higher than that.')        \n",
    "    else:\n",
    "        print('No, it is a little lower than that.')"
   ]
  },
  {
   "cell_type": "markdown",
   "metadata": {},
   "source": [
    "* When you use a `while` loop, be cautious not to **loop infinitely**. You should make sure the `while` condition should be `False` in some time so that your program can end up with a result. If you accidentally make the program loop infinitely, press the `control+C` key."
   ]
  },
  {
   "cell_type": "markdown",
   "metadata": {},
   "source": [
    "###  *`while` ... `else` ...*\n",
    "\n",
    "* A `while` loop can have an optional `else` block as well. The `else` part is executed when the test expression of the `while` becomes `False`.\n",
    "\n",
    "* The `break` statement can be used to stop a `while` loop immediately. In such case, the `else` part is ignored.\n",
    "\n",
    "* Hence, a `while` loop's `else` part runs if no `break` occurs."
   ]
  },
  {
   "cell_type": "markdown",
   "metadata": {},
   "source": [
    "**Example**"
   ]
  },
  {
   "cell_type": "code",
   "execution_count": 52,
   "metadata": {
    "ExecuteTime": {
     "end_time": "2024-03-15T09:04:13.132694Z",
     "start_time": "2024-03-15T09:04:13.128800Z"
    }
   },
   "outputs": [
    {
     "name": "stdout",
     "output_type": "stream",
     "text": [
      "Inside loop, counter is 0\n",
      "Inside loop, counter is 1\n",
      "Inside loop, counter is 2\n",
      "Inside else, counter is 3\n",
      "Out of loop\n"
     ]
    }
   ],
   "source": [
    "counter = 0\n",
    "\n",
    "while counter < 3:\n",
    "    print(\"Inside loop, counter is\", counter)\n",
    "    counter = counter + 1\n",
    "else:\n",
    "    print(\"Inside else, counter is\", counter)\n",
    "\n",
    "print(\"Out of loop\")"
   ]
  },
  {
   "cell_type": "markdown",
   "metadata": {},
   "source": [
    "## The *`for`* loop\n",
    "\n",
    "### Usage \n",
    "\n",
    "The `for` statement is another looping statement which iterates over a sequence of objects, i.e. go through each item in a sequence. We will see more about sequences in detail in later chapters. What you need to know right now is that a sequence is just an ordered collection of items."
   ]
  },
  {
   "cell_type": "markdown",
   "metadata": {},
   "source": [
    " <img src=\"./Figures/forLoop.jpg\" width = \"180\" height = \"50\" alt=\"图片名称\" align=center />"
   ]
  },
  {
   "cell_type": "markdown",
   "metadata": {},
   "source": [
    "**Example**"
   ]
  },
  {
   "cell_type": "code",
   "execution_count": 53,
   "metadata": {
    "ExecuteTime": {
     "end_time": "2024-03-15T09:04:28.691009Z",
     "start_time": "2024-03-15T09:04:28.687844Z"
    }
   },
   "outputs": [
    {
     "name": "stdout",
     "output_type": "stream",
     "text": [
      "1\n",
      "4\n",
      "9\n",
      "16\n"
     ]
    }
   ],
   "source": [
    "for i in [1, 2, 3, 4]:\n",
    "    print(i*i)"
   ]
  },
  {
   "cell_type": "code",
   "execution_count": 54,
   "metadata": {
    "ExecuteTime": {
     "end_time": "2024-03-15T09:04:37.402669Z",
     "start_time": "2024-03-15T09:04:37.396957Z"
    }
   },
   "outputs": [
    {
     "name": "stdout",
     "output_type": "stream",
     "text": [
      "current i is  1\n",
      "current total is  1\n",
      "\n",
      "\n",
      "current i is  2\n",
      "current total is  3\n",
      "\n",
      "\n",
      "current i is  3\n",
      "current total is  6\n",
      "\n",
      "\n",
      "loop ends, final total is  6\n"
     ]
    }
   ],
   "source": [
    "# range() function returns the sequence of the given number between the given range.\n",
    "# range(start, stop, step)\n",
    "total = 0\n",
    "for i in range(1, 4): \n",
    "    print('current i is ', i)\n",
    "    total += i\n",
    "    print('current total is ', total)\n",
    "    print('\\n')\n",
    "print('loop ends, final total is ', total)"
   ]
  },
  {
   "cell_type": "markdown",
   "metadata": {},
   "source": [
    "**Example: Calculate the Sum**"
   ]
  },
  {
   "cell_type": "code",
   "execution_count": 55,
   "metadata": {
    "ExecuteTime": {
     "end_time": "2024-03-15T09:04:48.583342Z",
     "start_time": "2024-03-15T09:04:48.578947Z"
    }
   },
   "outputs": [
    {
     "name": "stdout",
     "output_type": "stream",
     "text": [
      "The sum is 48\n"
     ]
    }
   ],
   "source": [
    "# This chunck of codes below is to find the sum of all numbers stored in a list.\n",
    "\n",
    "# List of numbers\n",
    "numbers = [6, 5, 3, 8, 4, 2, 5, 4, 11]\n",
    "\n",
    "# variable to store the sum\n",
    "sum_value = 0\n",
    "\n",
    "# iterate over the list\n",
    "for num in numbers:\n",
    "    sum_value = sum_value + num\n",
    "\n",
    "# Output: The sum is 48\n",
    "print(\"The sum is\", sum_value)"
   ]
  },
  {
   "cell_type": "markdown",
   "metadata": {},
   "source": [
    "### The *`for`* loop with *`else`*\n",
    "\n",
    "* A `for` loop can have an optional `else` block as well. The `else` part is executed the test expression of the `for` loop becomes `False`.\n",
    "\n",
    "* A `break` statement can be used to stop a `for` loop immediately. In such case, the `else` part is ignored.\n",
    "\n",
    "* Hence, a `for` loop's `else` part runs if no `break` occurs."
   ]
  },
  {
   "cell_type": "markdown",
   "metadata": {},
   "source": [
    "**Example**"
   ]
  },
  {
   "cell_type": "code",
   "execution_count": 56,
   "metadata": {
    "ExecuteTime": {
     "end_time": "2024-03-15T09:04:56.278282Z",
     "start_time": "2024-03-15T09:04:56.275140Z"
    }
   },
   "outputs": [
    {
     "name": "stdout",
     "output_type": "stream",
     "text": [
      "0\n",
      "1\n",
      "5\n",
      "No items left.\n"
     ]
    }
   ],
   "source": [
    "digits = [0, 1, 5]\n",
    "\n",
    "for i in digits:\n",
    "    print(i)\n",
    "else:\n",
    "    print(\"No items left.\")"
   ]
  },
  {
   "cell_type": "markdown",
   "metadata": {},
   "source": [
    "### The *`range`* function\n",
    "\n",
    "* We can generate a sequence of numbers using the `range()` function. \n",
    "\n",
    "* We can simply code as `range(stop)`. For example, `range(10)` will generate numbers from 0 to 9 (10 numbers).\n",
    "\n",
    "* We can also define the `start`, `stop` and `step size` as `range(start, stop, step size)`. `step size` defaults to 1 if not provided."
   ]
  },
  {
   "cell_type": "code",
   "execution_count": 11,
   "metadata": {
    "ExecuteTime": {
     "end_time": "2024-03-15T04:56:24.191325Z",
     "start_time": "2024-03-15T04:56:24.186049Z"
    }
   },
   "outputs": [
    {
     "name": "stdout",
     "output_type": "stream",
     "text": [
      "0\n",
      "1\n",
      "2\n",
      "3\n",
      "4\n",
      "5\n",
      "6\n",
      "7\n",
      "8\n",
      "9\n"
     ]
    }
   ],
   "source": [
    "for i in range(10):\n",
    "    \n",
    "    print(i)"
   ]
  },
  {
   "cell_type": "code",
   "execution_count": 12,
   "metadata": {
    "ExecuteTime": {
     "end_time": "2024-03-15T04:56:26.095647Z",
     "start_time": "2024-03-15T04:56:26.092586Z"
    }
   },
   "outputs": [
    {
     "name": "stdout",
     "output_type": "stream",
     "text": [
      "2\n",
      "3\n",
      "4\n",
      "5\n",
      "6\n",
      "7\n"
     ]
    }
   ],
   "source": [
    "for i in range(2, 8):\n",
    "    print(i)"
   ]
  },
  {
   "cell_type": "code",
   "execution_count": 13,
   "metadata": {
    "ExecuteTime": {
     "end_time": "2024-03-15T04:56:28.051328Z",
     "start_time": "2024-03-15T04:56:28.031950Z"
    }
   },
   "outputs": [
    {
     "name": "stdout",
     "output_type": "stream",
     "text": [
      "2\n",
      "5\n",
      "8\n",
      "11\n",
      "14\n",
      "17\n"
     ]
    }
   ],
   "source": [
    "for i in range(2, 20, 3):\n",
    "    print(i)"
   ]
  },
  {
   "cell_type": "markdown",
   "metadata": {},
   "source": [
    "**Example**"
   ]
  },
  {
   "cell_type": "code",
   "execution_count": 16,
   "metadata": {
    "ExecuteTime": {
     "end_time": "2024-03-15T04:57:28.950495Z",
     "start_time": "2024-03-15T04:57:28.942762Z"
    }
   },
   "outputs": [
    {
     "name": "stdout",
     "output_type": "stream",
     "text": [
      "I like Pop\n",
      "I like Pop\n",
      "I like Rock\n",
      "I like Rock\n",
      "I like Jazz\n",
      "I like Jazz\n"
     ]
    }
   ],
   "source": [
    "# This chunck of codes below is to iterate through a list using indexing.\n",
    "genre = ['pop', 'rock', 'jazz']\n",
    "\n",
    "# iterate over the list using index\n",
    "\n",
    "for i in range(len(genre)):\n",
    "    print(f\"I like {genre[i].title()}\")\n",
    "    print(\"I like\", genre[i].title())"
   ]
  },
  {
   "cell_type": "markdown",
   "metadata": {},
   "source": [
    "## The *`break`* statement\n",
    "\n",
    "The `break` statement is used to break out of a loop statement, i.e. stop the execution of a looping statement, even if the loop condition has not become `False` and the sequence of items has not been completely iterated over yet."
   ]
  },
  {
   "cell_type": "markdown",
   "metadata": {},
   "source": [
    "**Example**"
   ]
  },
  {
   "cell_type": "code",
   "execution_count": 1,
   "metadata": {
    "ExecuteTime": {
     "end_time": "2024-05-30T07:23:03.774340Z",
     "start_time": "2024-05-30T07:22:25.827689Z"
    }
   },
   "outputs": [
    {
     "name": "stdout",
     "output_type": "stream",
     "text": [
      "Enter something: 阳光彩虹小白马\n",
      "Length of the string is 7\n",
      "Enter something: 一个字有两个bit。\n",
      "Length of the string is 10\n",
      "Enter something: 。\n",
      "Length of the string is 1\n",
      "Enter something: .\n",
      "Length of the string is 1\n",
      "Enter something: ..\n",
      "Length of the string is 2\n",
      "Enter something: quit\n"
     ]
    }
   ],
   "source": [
    "while True:\n",
    "    s = input('Enter something: ')\n",
    "    if s == 'quit':\n",
    "        break\n",
    "    print('Length of the string is', len(s))"
   ]
  },
  {
   "cell_type": "markdown",
   "metadata": {},
   "source": [
    "**Example: *for...else...* with *break***"
   ]
  },
  {
   "cell_type": "code",
   "execution_count": 4,
   "metadata": {
    "ExecuteTime": {
     "end_time": "2024-05-30T07:24:03.130356Z",
     "start_time": "2024-05-30T07:24:03.126633Z"
    }
   },
   "outputs": [
    {
     "name": "stdout",
     "output_type": "stream",
     "text": [
      "0\n",
      "1\n"
     ]
    }
   ],
   "source": [
    "digits = [0, 1, 5]\n",
    "\n",
    "for i in digits:\n",
    "    print(i)\n",
    "    if i%2 == 1:\n",
    "        break\n",
    "else:\n",
    "    print(\"No items left.\")"
   ]
  },
  {
   "cell_type": "markdown",
   "metadata": {},
   "source": [
    "## The *`continue`* statement\n",
    "\n",
    "The `continue` statement is used to tell Python to skip the rest of the statements in the **current loop block** and to continue to the **next iteration** of the loop.\n",
    "* 如果遇到‘continue’，跳到下一次循环（而非跳出循环）"
   ]
  },
  {
   "cell_type": "markdown",
   "metadata": {},
   "source": [
    "**Example**"
   ]
  },
  {
   "cell_type": "code",
   "execution_count": 6,
   "metadata": {
    "ExecuteTime": {
     "end_time": "2024-05-30T07:26:11.030892Z",
     "start_time": "2024-05-30T07:25:54.811648Z"
    }
   },
   "outputs": [
    {
     "name": "stdout",
     "output_type": "stream",
     "text": [
      "Enter something: ajkjfdskjfdkjkdjdkjdkjdkdjkdkdsjkjdkjdskf\n",
      "Input has the length that is longer than 5.\n",
      "Enter something: s\n",
      "Enter something: f\n",
      "Enter something: g\n",
      "Enter something: \n",
      "Enter something: quit\n"
     ]
    }
   ],
   "source": [
    "while True:\n",
    "    s = input('Enter something: ')\n",
    "    if s == 'quit':\n",
    "        break\n",
    "    if len(s) < 5:\n",
    "        continue\n",
    "    print('Input has the length that is longer than 5.')"
   ]
  },
  {
   "cell_type": "markdown",
   "metadata": {},
   "source": [
    "## Practice Examples"
   ]
  },
  {
   "cell_type": "markdown",
   "metadata": {},
   "source": [
    "**Example 1: Calculate the sum between 1 and 100**"
   ]
  },
  {
   "cell_type": "code",
   "execution_count": 7,
   "metadata": {
    "ExecuteTime": {
     "end_time": "2024-05-30T07:27:16.991064Z",
     "start_time": "2024-05-30T07:27:16.987266Z"
    }
   },
   "outputs": [
    {
     "name": "stdout",
     "output_type": "stream",
     "text": [
      "5050\n"
     ]
    }
   ],
   "source": [
    "s = 0\n",
    "for i in range(1, 101):\n",
    "    s = s + i\n",
    "print(s)"
   ]
  },
  {
   "cell_type": "markdown",
   "metadata": {},
   "source": [
    "**Example 2: Find the prime numbers between 2 and 100**"
   ]
  },
  {
   "cell_type": "code",
   "execution_count": 10,
   "metadata": {
    "ExecuteTime": {
     "end_time": "2024-05-30T07:39:43.883050Z",
     "start_time": "2024-05-30T07:39:43.840008Z"
    },
    "scrolled": true
   },
   "outputs": [
    {
     "name": "stdout",
     "output_type": "stream",
     "text": [
      "4 = 2 * 2\n",
      "6 = 2 * 3\n",
      "8 = 2 * 4\n",
      "9 = 3 * 3\n",
      "10 = 2 * 5\n",
      "12 = 2 * 6\n",
      "14 = 2 * 7\n",
      "15 = 3 * 5\n",
      "16 = 2 * 8\n",
      "18 = 2 * 9\n",
      "20 = 2 * 10\n",
      "21 = 3 * 7\n",
      "22 = 2 * 11\n",
      "24 = 2 * 12\n",
      "25 = 5 * 5\n",
      "26 = 2 * 13\n",
      "27 = 3 * 9\n",
      "28 = 2 * 14\n",
      "30 = 2 * 15\n",
      "32 = 2 * 16\n",
      "33 = 3 * 11\n",
      "34 = 2 * 17\n",
      "35 = 5 * 7\n",
      "36 = 2 * 18\n",
      "38 = 2 * 19\n",
      "39 = 3 * 13\n",
      "40 = 2 * 20\n",
      "42 = 2 * 21\n",
      "44 = 2 * 22\n",
      "45 = 3 * 15\n",
      "46 = 2 * 23\n",
      "48 = 2 * 24\n",
      "49 = 7 * 7\n",
      "50 = 2 * 25\n",
      "51 = 3 * 17\n",
      "52 = 2 * 26\n",
      "54 = 2 * 27\n",
      "55 = 5 * 11\n",
      "56 = 2 * 28\n",
      "57 = 3 * 19\n",
      "58 = 2 * 29\n",
      "60 = 2 * 30\n",
      "62 = 2 * 31\n",
      "63 = 3 * 21\n",
      "64 = 2 * 32\n",
      "65 = 5 * 13\n",
      "66 = 2 * 33\n",
      "68 = 2 * 34\n",
      "69 = 3 * 23\n",
      "70 = 2 * 35\n",
      "72 = 2 * 36\n",
      "74 = 2 * 37\n",
      "75 = 3 * 25\n",
      "76 = 2 * 38\n",
      "77 = 7 * 11\n",
      "78 = 2 * 39\n",
      "80 = 2 * 40\n",
      "81 = 3 * 27\n",
      "82 = 2 * 41\n",
      "84 = 2 * 42\n",
      "85 = 5 * 17\n",
      "86 = 2 * 43\n",
      "87 = 3 * 29\n",
      "88 = 2 * 44\n",
      "90 = 2 * 45\n",
      "91 = 7 * 13\n",
      "92 = 2 * 46\n",
      "93 = 3 * 31\n",
      "94 = 2 * 47\n",
      "95 = 5 * 19\n",
      "96 = 2 * 48\n",
      "98 = 2 * 49\n",
      "99 = 3 * 33\n",
      "100 = 2 * 50\n",
      "[2, 3, 5, 7, 11, 13, 17, 19, 23, 29, 31, 37, 41, 43, 47, 53, 59, 61, 67, 71, 73, 79, 83, 89, 97]\n"
     ]
    }
   ],
   "source": [
    "factor = []\n",
    "for n in range(2, 101):\n",
    "    for x in range(2, n):\n",
    "        if n%x == 0:\n",
    "            print(n, \"=\", x, \"*\", n//x)\n",
    "            break\n",
    "    else:   # see how indentation works          \n",
    "        factor.append(n)\n",
    "print(factor)"
   ]
  },
  {
   "cell_type": "markdown",
   "metadata": {},
   "source": [
    "**Example 3: Print  number triangle like below**"
   ]
  },
  {
   "cell_type": "markdown",
   "metadata": {},
   "source": [
    " <img src=\"./Figures/number-triangle.png\" width = \"180\" height = \"30\" alt=\"图片名称\" align=center />"
   ]
  },
  {
   "cell_type": "markdown",
   "metadata": {},
   "source": [
    "By default the `print()` function in python ends with a newline. It comes with a parameter called `end`. By default, the value of this parameter is `\\n`, i.e. the new line character. You can end a `print()` with any character/string using this parameter. "
   ]
  },
  {
   "cell_type": "code",
   "execution_count": 25,
   "metadata": {
    "ExecuteTime": {
     "end_time": "2024-05-30T07:49:17.499499Z",
     "start_time": "2024-05-30T07:49:17.494273Z"
    }
   },
   "outputs": [
    {
     "name": "stdout",
     "output_type": "stream",
     "text": [
      "1 \n",
      "\n",
      "1 2 \n",
      "\n",
      "1 2 3 \n",
      "\n",
      "1 2 3 4 \n",
      "\n",
      "1 2 3 4 5 \n",
      "\n",
      "1 2 3 4 5 6 \n",
      "\n",
      "1 2 3 4 5 6 7 \n",
      "\n",
      "1 2 3 4 5 6 7 8 \n",
      "\n",
      "1 2 3 4 5 6 7 8 9 \n",
      "\n"
     ]
    }
   ],
   "source": [
    "n = 10\n",
    "for row in range(1, n):\n",
    "    for num in range(1, row+1):\n",
    "        print(num, end = ' ')\n",
    "    else:\n",
    "        print('\\n')"
   ]
  },
  {
   "cell_type": "markdown",
   "metadata": {},
   "source": [
    "---\n",
    "\n",
    "**Example 4**\n",
    "\n",
    "> _Write a program that will find all such numbers which are divisible by 7 but are not a multiple of 5,\n",
    "> between 2000 and 3200 (both included).The numbers obtained should be printed in a comma-separated sequence on a single line._\n",
    "\n",
    "**Hints:**\n",
    "> _Consider use `range(a, b)` method._**\n",
    "\n",
    "**Solution**:\n",
    "\n",
    "\n"
   ]
  },
  {
   "cell_type": "code",
   "execution_count": 30,
   "metadata": {
    "ExecuteTime": {
     "end_time": "2024-05-30T07:53:08.338213Z",
     "start_time": "2024-05-30T07:53:08.321859Z"
    }
   },
   "outputs": [
    {
     "name": "stdout",
     "output_type": "stream",
     "text": [
      "2002,2009,2016,2023,2037,2044,2051,2058,2072,2079,2086,2093,2107,2114,2121,2128,2142,2149,2156,2163,2177,2184,2191,2198,2212,2219,2226,2233,2247,2254,2261,2268,2282,2289,2296,2303,2317,2324,2331,2338,2352,2359,2366,2373,2387,2394,2401,2408,2422,2429,2436,2443,2457,2464,2471,2478,2492,2499,2506,2513,2527,2534,2541,2548,2562,2569,2576,2583,2597,2604,2611,2618,2632,2639,2646,2653,2667,2674,2681,2688,2702,2709,2716,2723,2737,2744,2751,2758,2772,2779,2786,2793,2807,2814,2821,2828,2842,2849,2856,2863,2877,2884,2891,2898,2912,2919,2926,2933,2947,2954,2961,2968,2982,2989,2996,3003,3017,3024,3031,3038,3052,3059,3066,3073,3087,3094,3101,3108,3122,3129,3136,3143,3157,3164,3171,3178,3192,3199,\b\n"
     ]
    }
   ],
   "source": [
    "# Solution\n",
    "for i in range(2000, 3201):\n",
    "    if i % 7 == 0 and i % 5 != 0:\n",
    "        print(i, end=\",\")\n",
    "\n",
    "print(\"\\b\") # 打印一个退格字符"
   ]
  },
  {
   "cell_type": "markdown",
   "metadata": {},
   "source": [
    "---\n",
    "**Example 5**\n",
    "\n",
    "> Define a function `fact(n)` that returns the factorial of a `n`. \n",
    "\n",
    "**Hints:**\n",
    "\n",
    "> _The factorial of 8 is equal to 8! which is 1 * 2 * 3 * 4 * 5 * 6 * 7 * 8_\n",
    "\n",
    "\n",
    "\n",
    "**Solution (to be completed):**"
   ]
  },
  {
   "cell_type": "code",
   "execution_count": 66,
   "metadata": {
    "ExecuteTime": {
     "end_time": "2024-03-15T09:12:11.592042Z",
     "start_time": "2024-03-15T09:12:11.588038Z"
    }
   },
   "outputs": [],
   "source": [
    "def fact(n):\n",
    "    factorial = 1\n",
    "    for i in range(1, n+1):\n",
    "        factorial = factorial * i\n",
    "    return factorial"
   ]
  },
  {
   "cell_type": "code",
   "execution_count": 67,
   "metadata": {
    "ExecuteTime": {
     "end_time": "2024-03-15T09:12:16.706446Z",
     "start_time": "2024-03-15T09:12:16.702351Z"
    }
   },
   "outputs": [
    {
     "data": {
      "text/plain": [
       "40320"
      ]
     },
     "execution_count": 67,
     "metadata": {},
     "output_type": "execute_result"
    }
   ],
   "source": [
    "fact(8)"
   ]
  },
  {
   "cell_type": "code",
   "execution_count": 68,
   "metadata": {
    "ExecuteTime": {
     "end_time": "2024-03-15T09:12:18.127981Z",
     "start_time": "2024-03-15T09:12:18.124694Z"
    }
   },
   "outputs": [
    {
     "data": {
      "text/plain": [
       "40320"
      ]
     },
     "execution_count": 68,
     "metadata": {},
     "output_type": "execute_result"
    }
   ],
   "source": [
    "1*2*3*4*5*6*7*8"
   ]
  },
  {
   "cell_type": "markdown",
   "metadata": {},
   "source": [
    "## Exercises"
   ]
  },
  {
   "cell_type": "markdown",
   "metadata": {
    "ExecuteTime": {
     "end_time": "2023-06-26T07:17:46.659938Z",
     "start_time": "2023-06-26T07:17:46.652657Z"
    },
    "deletable": false,
    "editable": false,
    "nbgrader": {
     "cell_type": "markdown",
     "checksum": "2ff22c6f8fafe93fb5a21173175f91d1",
     "grade": false,
     "grade_id": "cell-5ca66e1ce9012f9a",
     "locked": true,
     "schema_version": 3,
     "solution": false,
     "task": false
    }
   },
   "source": [
    "**Question 1.** Define a function ``letter_grade(grade)``, where ``grade`` is a numeric argument.\n",
    "\n",
    "* If `grade` is above or equal to 85, assign `\"A\"` to the variable `lettergrade`\n",
    "* If `grade` is between 65 (included) and 85 (excluded), assign `\"B\"` to the variable `lettergrade`\n",
    "* If `grade` is between 45 (included) and 65 (excluded), assign `\"C\"` to the variable `lettergrade`\n",
    "* If `grade` is between 25 (included) and 45 (excluded), assign `\"D\"` to the variable `lettergrade`\n",
    "* If `grade` is below 25, assign `\"F\"` to the variable `lettergrade`\n",
    "* **Returns** the variable `lettergrade`"
   ]
  },
  {
   "cell_type": "code",
   "execution_count": 17,
   "metadata": {
    "ExecuteTime": {
     "end_time": "2024-03-15T05:00:40.872949Z",
     "start_time": "2024-03-15T05:00:40.868995Z"
    },
    "deletable": false,
    "nbgrader": {
     "cell_type": "code",
     "checksum": "b911a1abcb3934099914af0fabfb08ba",
     "grade": false,
     "grade_id": "cell-72a281b74387701b",
     "locked": false,
     "schema_version": 3,
     "solution": true,
     "task": false
    }
   },
   "outputs": [],
   "source": [
    "def letter_grade(grade):\n",
    "    lettergrade = ''\n",
    "    \n",
    "    while True:\n",
    "        if grade >= 85:\n",
    "            lettergrade = 'A'\n",
    "            break\n",
    "        if grade < 85 and grade >= 65:\n",
    "            lettergrade = 'B'\n",
    "            break\n",
    "        if grade < 65 and grade >= 45:\n",
    "            lettergrade = 'C'\n",
    "            break\n",
    "        if grade < 45 and grade >= 25:\n",
    "            lettergrade = 'D'\n",
    "            break\n",
    "        if grade < 25:\n",
    "            lettergrade = 'F'\n",
    "            break\n",
    "    return lettergrade"
   ]
  },
  {
   "cell_type": "code",
   "execution_count": 18,
   "metadata": {
    "ExecuteTime": {
     "end_time": "2024-03-15T05:00:59.193137Z",
     "start_time": "2024-03-15T05:00:59.174524Z"
    }
   },
   "outputs": [
    {
     "data": {
      "text/plain": [
       "'D'"
      ]
     },
     "execution_count": 18,
     "metadata": {},
     "output_type": "execute_result"
    }
   ],
   "source": [
    "letter_grade(44)"
   ]
  },
  {
   "cell_type": "code",
   "execution_count": 19,
   "metadata": {
    "ExecuteTime": {
     "end_time": "2024-03-15T05:01:16.673601Z",
     "start_time": "2024-03-15T05:01:16.669631Z"
    }
   },
   "outputs": [
    {
     "data": {
      "text/plain": [
       "'D'"
      ]
     },
     "execution_count": 19,
     "metadata": {},
     "output_type": "execute_result"
    }
   ],
   "source": [
    "letter_grade(25)"
   ]
  },
  {
   "cell_type": "code",
   "execution_count": null,
   "metadata": {
    "ExecuteTime": {
     "end_time": "2023-06-26T07:18:20.501721Z",
     "start_time": "2023-06-26T07:18:20.499106Z"
    },
    "deletable": false,
    "editable": false,
    "nbgrader": {
     "cell_type": "code",
     "checksum": "6b42dd99679a9672a632044b265bc1d2",
     "grade": true,
     "grade_id": "cell-d915ca2cb7387652",
     "locked": true,
     "points": 5,
     "schema_version": 3,
     "solution": false,
     "task": false
    }
   },
   "outputs": [],
   "source": []
  },
  {
   "cell_type": "code",
   "execution_count": null,
   "metadata": {
    "deletable": false,
    "editable": false,
    "nbgrader": {
     "cell_type": "code",
     "checksum": "297f27f46f0163b63ff0909fe0e2db51",
     "grade": true,
     "grade_id": "cell-2611b5c5b5fecd09",
     "locked": true,
     "points": 5,
     "schema_version": 3,
     "solution": false,
     "task": false
    }
   },
   "outputs": [],
   "source": []
  },
  {
   "cell_type": "code",
   "execution_count": null,
   "metadata": {
    "deletable": false,
    "editable": false,
    "nbgrader": {
     "cell_type": "code",
     "checksum": "57ed78846f17be19a9f1517ed0cd69b8",
     "grade": true,
     "grade_id": "cell-0dd455292656bbac",
     "locked": true,
     "points": 5,
     "schema_version": 3,
     "solution": false,
     "task": false
    }
   },
   "outputs": [],
   "source": []
  },
  {
   "cell_type": "code",
   "execution_count": null,
   "metadata": {
    "deletable": false,
    "editable": false,
    "nbgrader": {
     "cell_type": "code",
     "checksum": "ad82fbfd6ad93972f0165ba9603dc762",
     "grade": true,
     "grade_id": "cell-825561562ee403c2",
     "locked": true,
     "points": 5,
     "schema_version": 3,
     "solution": false,
     "task": false
    }
   },
   "outputs": [],
   "source": []
  },
  {
   "cell_type": "markdown",
   "metadata": {
    "ExecuteTime": {
     "end_time": "2023-06-26T07:20:32.883175Z",
     "start_time": "2023-06-26T07:20:32.879364Z"
    },
    "deletable": false,
    "editable": false,
    "nbgrader": {
     "cell_type": "markdown",
     "checksum": "e0356da42a6b07752323ca8073fb83da",
     "grade": false,
     "grade_id": "cell-c8b4a3a3c21f16d6",
     "locked": true,
     "schema_version": 3,
     "solution": false,
     "task": false
    }
   },
   "source": [
    "**Question 2**. Define a function ``cumsum(num)``. The function **returns** the sum of all positive integers smaller or equal to `num`.  \n",
    "\n",
    "**Example** \n",
    "```py\n",
    "cumsum(4) -> 1 + 2 + 3 + 4 = 10\n",
    "cumsum(5.5) -> 1 + 2 + 3 + 4 + 5 = 15\n",
    "```\n",
    "\n",
    "**Hint**\n",
    "* `int()` converts a float type value into an interger."
   ]
  },
  {
   "cell_type": "code",
   "execution_count": 26,
   "metadata": {
    "ExecuteTime": {
     "end_time": "2024-03-15T05:10:21.725993Z",
     "start_time": "2024-03-15T05:10:21.723534Z"
    },
    "deletable": false,
    "nbgrader": {
     "cell_type": "code",
     "checksum": "802019a4e708c46c3f1c264292e692e6",
     "grade": false,
     "grade_id": "cell-a5b8cd9bee963cac",
     "locked": false,
     "schema_version": 3,
     "solution": true,
     "task": false
    }
   },
   "outputs": [],
   "source": [
    "def cumsum(num):\n",
    "    result = 0\n",
    "    num = int(num)\n",
    "    for i in range(num+1):\n",
    "        result += i\n",
    "    return result\n"
   ]
  },
  {
   "cell_type": "code",
   "execution_count": 24,
   "metadata": {
    "ExecuteTime": {
     "end_time": "2024-03-15T05:09:57.677911Z",
     "start_time": "2024-03-15T05:09:57.674898Z"
    }
   },
   "outputs": [
    {
     "data": {
      "text/plain": [
       "10"
      ]
     },
     "execution_count": 24,
     "metadata": {},
     "output_type": "execute_result"
    }
   ],
   "source": [
    "cumsum(4)"
   ]
  },
  {
   "cell_type": "code",
   "execution_count": 30,
   "metadata": {
    "ExecuteTime": {
     "end_time": "2024-03-15T05:10:38.479374Z",
     "start_time": "2024-03-15T05:10:38.476136Z"
    }
   },
   "outputs": [
    {
     "data": {
      "text/plain": [
       "15"
      ]
     },
     "execution_count": 30,
     "metadata": {},
     "output_type": "execute_result"
    }
   ],
   "source": [
    "cumsum(5.8)"
   ]
  },
  {
   "cell_type": "code",
   "execution_count": null,
   "metadata": {
    "deletable": false,
    "editable": false,
    "nbgrader": {
     "cell_type": "code",
     "checksum": "990d80568379f70af3a4f00a8760d58a",
     "grade": true,
     "grade_id": "cell-56a4393f392211b5",
     "locked": true,
     "points": 10,
     "schema_version": 3,
     "solution": false,
     "task": false
    }
   },
   "outputs": [],
   "source": []
  },
  {
   "cell_type": "code",
   "execution_count": null,
   "metadata": {
    "deletable": false,
    "editable": false,
    "nbgrader": {
     "cell_type": "code",
     "checksum": "15fa7ebafe259791088cfba197136fa4",
     "grade": true,
     "grade_id": "cell-5354efeaa9fd1d62",
     "locked": true,
     "points": 10,
     "schema_version": 3,
     "solution": false,
     "task": false
    }
   },
   "outputs": [],
   "source": []
  },
  {
   "cell_type": "markdown",
   "metadata": {
    "deletable": false,
    "editable": false,
    "nbgrader": {
     "cell_type": "markdown",
     "checksum": "fb7ddc5039bee56c5fbbc5904a0fca83",
     "grade": false,
     "grade_id": "cell-07ff7e1b15fc3a25",
     "locked": true,
     "schema_version": 3,
     "solution": false,
     "task": false
    }
   },
   "source": [
    "**Question 3.** Define a function ``even_sum(num)``, where `num` is a positive number. The function iterates all the integers numbers from 0 to `num`, sums them up if they are even numbers, and **returns** the sum.\n",
    "\n",
    "**Example** \n",
    "```py\n",
    "even_sum(4) -> 2 + 4 = 6\n",
    "even_sum(8.5) -> 2 + 4 + 6 + 8 = 20\n",
    "```"
   ]
  },
  {
   "cell_type": "code",
   "execution_count": 71,
   "metadata": {
    "ExecuteTime": {
     "end_time": "2024-03-15T09:14:08.208218Z",
     "start_time": "2024-03-15T09:14:08.205213Z"
    },
    "deletable": false,
    "nbgrader": {
     "cell_type": "code",
     "checksum": "90327d5d70ea59104788e4d5d1634cfa",
     "grade": false,
     "grade_id": "cell-c47ab7ec879771c7",
     "locked": false,
     "schema_version": 3,
     "solution": true,
     "task": false
    }
   },
   "outputs": [],
   "source": [
    "def even_sum(num):\n",
    "    num = int(num)\n",
    "    result = 0\n",
    "    for i in range(0,num+2,2):\n",
    "        result += i\n",
    "    return result"
   ]
  },
  {
   "cell_type": "code",
   "execution_count": 72,
   "metadata": {
    "ExecuteTime": {
     "end_time": "2024-03-15T09:14:09.670806Z",
     "start_time": "2024-03-15T09:14:09.667630Z"
    }
   },
   "outputs": [
    {
     "data": {
      "text/plain": [
       "6"
      ]
     },
     "execution_count": 72,
     "metadata": {},
     "output_type": "execute_result"
    }
   ],
   "source": [
    "even_sum(4)"
   ]
  },
  {
   "cell_type": "code",
   "execution_count": 73,
   "metadata": {
    "ExecuteTime": {
     "end_time": "2024-03-15T09:14:16.250239Z",
     "start_time": "2024-03-15T09:14:16.246957Z"
    }
   },
   "outputs": [
    {
     "data": {
      "text/plain": [
       "20"
      ]
     },
     "execution_count": 73,
     "metadata": {},
     "output_type": "execute_result"
    }
   ],
   "source": [
    "even_sum(8.5)"
   ]
  },
  {
   "cell_type": "code",
   "execution_count": null,
   "metadata": {
    "deletable": false,
    "editable": false,
    "nbgrader": {
     "cell_type": "code",
     "checksum": "de29e7484dbfa0b485cf84c65d1a772d",
     "grade": true,
     "grade_id": "cell-145fc145893adc79",
     "locked": true,
     "points": 10,
     "schema_version": 3,
     "solution": false,
     "task": false
    }
   },
   "outputs": [],
   "source": []
  },
  {
   "cell_type": "code",
   "execution_count": null,
   "metadata": {
    "deletable": false,
    "editable": false,
    "nbgrader": {
     "cell_type": "code",
     "checksum": "092d27bd21643457012717aed7006a20",
     "grade": true,
     "grade_id": "cell-11414177306fede1",
     "locked": true,
     "points": 10,
     "schema_version": 3,
     "solution": false,
     "task": false
    }
   },
   "outputs": [],
   "source": []
  },
  {
   "cell_type": "markdown",
   "metadata": {
    "ExecuteTime": {
     "end_time": "2023-06-26T07:23:29.605166Z",
     "start_time": "2023-06-26T07:23:29.599012Z"
    },
    "deletable": false,
    "editable": false,
    "nbgrader": {
     "cell_type": "markdown",
     "checksum": "785ecc15470715d833a5df148cc74a57",
     "grade": false,
     "grade_id": "cell-f629a756fdf1a080",
     "locked": true,
     "schema_version": 3,
     "solution": false,
     "task": false
    }
   },
   "source": [
    "**Question 4.** Define a function ``num_char_before_period(sentence)``. The function **returns** the number of characters in a given string before encountering the symbol \".\", using **while loop**. Assume the argument `sentence` always include a period \".\"\n",
    "\n",
    "**Example**\n",
    "```py\n",
    "num_char_before_period('I love python.') -> 13\n",
    "num_char_before_period('I hate you. I love python.') -> 10\n",
    "num_char_before_period('...') -> 0\n",
    "```\n",
    "\n",
    "**Hint**\n",
    "* `!=` denotes not equal.\n",
    "* the element on index i can be accessed by using `sentence[i]`.\n",
    "* len(sentence) gives the number of characters in a the sentence"
   ]
  },
  {
   "cell_type": "code",
   "execution_count": null,
   "metadata": {
    "ExecuteTime": {
     "start_time": "2024-03-15T09:20:04.597Z"
    },
    "deletable": false,
    "nbgrader": {
     "cell_type": "code",
     "checksum": "24e66da9c5370e33524cbffc61c36358",
     "grade": false,
     "grade_id": "cell-6962073077c1dfe2",
     "locked": false,
     "schema_version": 3,
     "solution": true,
     "task": false
    }
   },
   "outputs": [],
   "source": [
    "def num_char_before_period(sentence):\n",
    "    result = 0\n",
    "    for i in range(len(sentence)):\n",
    "        while i != '.':\n",
    "            result += 1\n",
    "        else:\n",
    "            break\n",
    "    return result\n",
    "    \n",
    "# Test your solution\n",
    "# num_char_before_period('I love python.')\n",
    "# num_char_before_period('...')"
   ]
  },
  {
   "cell_type": "code",
   "execution_count": null,
   "metadata": {
    "ExecuteTime": {
     "start_time": "2024-03-15T09:20:05.978Z"
    }
   },
   "outputs": [],
   "source": [
    "num_char_before_period('I love python.')"
   ]
  },
  {
   "cell_type": "code",
   "execution_count": null,
   "metadata": {
    "ExecuteTime": {
     "start_time": "2024-03-15T09:20:07.595Z"
    }
   },
   "outputs": [],
   "source": [
    "num_char_before_period('I hate you. I love python.')"
   ]
  },
  {
   "cell_type": "code",
   "execution_count": null,
   "metadata": {},
   "outputs": [],
   "source": []
  },
  {
   "cell_type": "code",
   "execution_count": null,
   "metadata": {
    "deletable": false,
    "editable": false,
    "nbgrader": {
     "cell_type": "code",
     "checksum": "d6000a936fee3a6472393ef32821977b",
     "grade": true,
     "grade_id": "cell-4a83a91733e5d785",
     "locked": true,
     "points": 5,
     "schema_version": 3,
     "solution": false,
     "task": false
    }
   },
   "outputs": [],
   "source": []
  },
  {
   "cell_type": "code",
   "execution_count": null,
   "metadata": {
    "deletable": false,
    "editable": false,
    "nbgrader": {
     "cell_type": "code",
     "checksum": "0060fe3f7aed14144596b1bd1ad76079",
     "grade": true,
     "grade_id": "cell-df193272174abdd6",
     "locked": true,
     "points": 10,
     "schema_version": 3,
     "solution": false,
     "task": false
    }
   },
   "outputs": [],
   "source": []
  },
  {
   "cell_type": "code",
   "execution_count": null,
   "metadata": {
    "deletable": false,
    "editable": false,
    "nbgrader": {
     "cell_type": "code",
     "checksum": "5acef30a6286f8e6519e067716a5069c",
     "grade": true,
     "grade_id": "cell-22f89f3e85a3b143",
     "locked": true,
     "points": 5,
     "schema_version": 3,
     "solution": false,
     "task": false
    }
   },
   "outputs": [],
   "source": []
  },
  {
   "cell_type": "markdown",
   "metadata": {
    "deletable": false,
    "editable": false,
    "nbgrader": {
     "cell_type": "markdown",
     "checksum": "f07c24eff21c5199f810284a1314a3d5",
     "grade": false,
     "grade_id": "cell-f25887f5ce340df5",
     "locked": true,
     "schema_version": 3,
     "solution": false,
     "task": false
    }
   },
   "source": [
    "**Question 5.** Define a function ``remove_vowel(string1)``. The function **returns** a new string with all vowels removed. Vowels are any of `a, e, i, o, u` and `A, E, I, O, U`. \n",
    "\n",
    "**Example**\n",
    "```py\n",
    "remove_vowel('python') -> 'pythn'\n",
    "remove_vowel('I love ice cream') -> ' lv c crm'\n",
    "```\n",
    "\n",
    "**Hint**\n",
    "* you can check if a character or an element (not) in a string or a list by using `in`, or `not in`.\n"
   ]
  },
  {
   "cell_type": "code",
   "execution_count": 46,
   "metadata": {
    "ExecuteTime": {
     "end_time": "2024-03-15T05:32:26.743710Z",
     "start_time": "2024-03-15T05:32:26.740581Z"
    },
    "deletable": false,
    "nbgrader": {
     "cell_type": "code",
     "checksum": "f173b63399ac2454f574f988b076190e",
     "grade": false,
     "grade_id": "cell-88b842060fc6b4d0",
     "locked": false,
     "schema_version": 3,
     "solution": true,
     "task": false
    }
   },
   "outputs": [],
   "source": [
    "def remove_vowel(string1):\n",
    "    vowels = [\"a\", \"e\", \"i\", \"o\", \"u\", \"A\", \"E\", \"I\", \"O\", \"U\"]\n",
    "    output = \"\"\n",
    "    \n",
    "    for i in range(len(string1)):\n",
    "        if string1[i] in vowels:\n",
    "            output += ''\n",
    "        else:\n",
    "            output += string1[i]\n",
    "            \n",
    "    return output"
   ]
  },
  {
   "cell_type": "code",
   "execution_count": 47,
   "metadata": {
    "ExecuteTime": {
     "end_time": "2024-03-15T05:32:29.066407Z",
     "start_time": "2024-03-15T05:32:29.062916Z"
    }
   },
   "outputs": [
    {
     "data": {
      "text/plain": [
       "'pythn'"
      ]
     },
     "execution_count": 47,
     "metadata": {},
     "output_type": "execute_result"
    }
   ],
   "source": [
    "remove_vowel('python')"
   ]
  },
  {
   "cell_type": "code",
   "execution_count": 48,
   "metadata": {
    "ExecuteTime": {
     "end_time": "2024-03-15T05:32:41.259335Z",
     "start_time": "2024-03-15T05:32:41.256434Z"
    }
   },
   "outputs": [
    {
     "data": {
      "text/plain": [
       "' lv c crm'"
      ]
     },
     "execution_count": 48,
     "metadata": {},
     "output_type": "execute_result"
    }
   ],
   "source": [
    "remove_vowel('I love ice cream')"
   ]
  },
  {
   "cell_type": "code",
   "execution_count": null,
   "metadata": {
    "deletable": false,
    "editable": false,
    "nbgrader": {
     "cell_type": "code",
     "checksum": "b8ba7fd5bdcdbeca4095ce49a44bf0e8",
     "grade": true,
     "grade_id": "cell-c6ed84c381da4a60",
     "locked": true,
     "points": 6,
     "schema_version": 3,
     "solution": false,
     "task": false
    }
   },
   "outputs": [],
   "source": []
  },
  {
   "cell_type": "code",
   "execution_count": null,
   "metadata": {
    "deletable": false,
    "editable": false,
    "nbgrader": {
     "cell_type": "code",
     "checksum": "2d53b9172dcf85fae20f2d2d79fd22ec",
     "grade": true,
     "grade_id": "cell-4edf049c5f02f9cd",
     "locked": true,
     "points": 7,
     "schema_version": 3,
     "solution": false,
     "task": false
    }
   },
   "outputs": [],
   "source": []
  },
  {
   "cell_type": "code",
   "execution_count": null,
   "metadata": {
    "deletable": false,
    "editable": false,
    "nbgrader": {
     "cell_type": "code",
     "checksum": "8eb261dfd4675c865c1551f0e8869b8f",
     "grade": true,
     "grade_id": "cell-547e1ec84c65cee1",
     "locked": true,
     "points": 7,
     "schema_version": 3,
     "solution": false,
     "task": false
    }
   },
   "outputs": [],
   "source": []
  }
 ],
 "metadata": {
  "kernelspec": {
   "display_name": "Python 3 (ipykernel)",
   "language": "python",
   "name": "python3"
  },
  "language_info": {
   "codemirror_mode": {
    "name": "ipython",
    "version": 3
   },
   "file_extension": ".py",
   "mimetype": "text/x-python",
   "name": "python",
   "nbconvert_exporter": "python",
   "pygments_lexer": "ipython3",
   "version": "3.8.10"
  },
  "latex_envs": {
   "LaTeX_envs_menu_present": true,
   "autoclose": false,
   "autocomplete": true,
   "bibliofile": "biblio.bib",
   "cite_by": "apalike",
   "current_citInitial": 1,
   "eqLabelWithNumbers": true,
   "eqNumInitial": 1,
   "hotkeys": {
    "equation": "Ctrl-E",
    "itemize": "Ctrl-I"
   },
   "labels_anchors": false,
   "latex_user_defs": false,
   "report_style_numbering": false,
   "user_envs_cfg": false
  },
  "toc": {
   "base_numbering": "1",
   "nav_menu": {},
   "number_sections": true,
   "sideBar": true,
   "skip_h1_title": true,
   "title_cell": "Table of Contents",
   "title_sidebar": "Contents",
   "toc_cell": true,
   "toc_position": {
    "height": "calc(100% - 180px)",
    "left": "10px",
    "top": "150px",
    "width": "268.112px"
   },
   "toc_section_display": true,
   "toc_window_display": true
  }
 },
 "nbformat": 4,
 "nbformat_minor": 1
}
