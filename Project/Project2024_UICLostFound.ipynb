{
 "cells": [
  {
   "cell_type": "markdown",
   "id": "5c8ab8b9",
   "metadata": {},
   "source": [
    "Before you turn this problem in, make sure everything runs as expected. First, **restart the kernel** (in the menubar, select Kernel$\\rightarrow$Restart) and then **run all cells** (in the menubar, select Cell$\\rightarrow$Run All).\n",
    "\n",
    "Make sure you fill in any place that says `YOUR CODE HERE` or \"YOUR ANSWER HERE\", as well as your name and collaborators below:"
   ]
  },
  {
   "cell_type": "code",
   "execution_count": null,
   "id": "62d982b1",
   "metadata": {
    "ExecuteTime": {
     "end_time": "2024-05-19T02:57:14.236422Z",
     "start_time": "2024-05-19T02:57:14.234354Z"
    }
   },
   "outputs": [],
   "source": [
    "NAME = \"Yuxuan Chen, 2330018009\"\n",
    "COLLABORATORS = \"Anxuan Che, 2330018003\""
   ]
  },
  {
   "cell_type": "markdown",
   "id": "8a8a7fb3",
   "metadata": {},
   "source": [
    "---"
   ]
  },
  {
   "cell_type": "code",
   "execution_count": null,
   "id": "a0c7dcc0",
   "metadata": {
    "ExecuteTime": {
     "end_time": "2024-05-23T01:25:15.203263Z",
     "start_time": "2024-05-23T01:25:15.200927Z"
    }
   },
   "outputs": [],
   "source": [
    "# If you carried out this project with a team mate, \n",
    "# write your team mate name and student id below. \n",
    "# Only one submission for the both of you is required. \n",
    "# Any of the two member can submit. \n",
    "\n",
    "# For example:\n",
    "# teammate1_name_studentID_email = \"Jiaqi Li, 21560012544, q21560012544@mail.uic.edu.cn\"\n",
    "\n",
    "teammate1_name_studentID_email = \"Anxuan Che, 2330018003, t330018003@mail.uic.edu.cn\"\n",
    "teammate2_name_studentID_email = \"Yuxuan Chen 2330018009, t330018009@mail.uic.edu.cn\""
   ]
  },
  {
   "cell_type": "markdown",
   "id": "514a4f6e",
   "metadata": {
    "deletable": false,
    "editable": false,
    "nbgrader": {
     "cell_type": "markdown",
     "checksum": "7083c843a8c624fa42572d05f376bc5e",
     "grade": false,
     "grade_id": "cell-9dd0bc95ed45c7c9",
     "locked": true,
     "schema_version": 3,
     "solution": false,
     "task": false
    }
   },
   "source": [
    "# Final Project\n",
    "\n",
    "This is your final project. It accounts for maximum 20% of the final grade. Read the following instructions carefully.\n",
    "\n",
    "## Submission and Deadlines\n",
    "* You should work on this project **either individually or in a team of 2 students (from the same course session)**. For the latter option, only one student of the team shall to submit the project online and both students will receive the same grade.\n",
    "* This project will be manually graded. **Do comment your code** to make it more readable.\n",
    "* You have a limited time to submit: by **Monday 27 May 2023, 23:59pm**. After the deadline, submission is not possible. Only your last submission counts.\n",
    "* Copying the solution of other student is forbidden. Plagiarized solutions (copied from other sources or other teams) will receive 0 points.\n"
   ]
  },
  {
   "cell_type": "markdown",
   "id": "d12e364d",
   "metadata": {
    "deletable": false,
    "editable": false,
    "nbgrader": {
     "cell_type": "markdown",
     "checksum": "9c401213cf80cfbc310e583d6c99afea",
     "grade": false,
     "grade_id": "cell-66552abad213abbc",
     "locked": true,
     "schema_version": 3,
     "solution": false,
     "task": false
    }
   },
   "source": [
    "## Introduction\n",
    "\n",
    "UIC would like to implement a Lost&Found System for our campus. A prototype has already been built, but poorly, with a bad design and some faults to fix. But no worries, we are here to help :)\n",
    "\n",
    "The current implementation includes the `Item` class and the `LostFoundSys` class. Please read the current code and understand how it works. The existing comments should have provided ample explanation."
   ]
  },
  {
   "cell_type": "code",
   "execution_count": 5,
   "id": "23a3ad30",
   "metadata": {
    "ExecuteTime": {
     "end_time": "2024-05-28T00:39:12.410801Z",
     "start_time": "2024-05-28T00:39:12.405111Z"
    },
    "run_control": {
     "marked": false
    }
   },
   "outputs": [],
   "source": [
    "class Item():\n",
    "    '''\n",
    "    The Item class can be used to create instances of item to report to the system.\n",
    "    \n",
    "    As of now, an item includes the following string type attributes:\n",
    "        statue（状态）: the current status of the item, which could be \"Found\", \"Claimed\" \n",
    "        name: the name of the item, e.g., \"Iphone\"\n",
    "        location: the location where the item was found, e.g., \"T6\"\n",
    "        secretQuestion: a secret question about the item that its owner is supposed to be able to answer,\n",
    "                        e.g., \"What color is it?\"\n",
    "        secretAnswer: the answer to the secret question, e.g., \"Red\"\n",
    "    '''\n",
    "    # Task4: Improve Item(), collect more information for Lost and Found System.\n",
    "    # Task7: By adding attribute \"discription\", in case of the items have same name and location.\n",
    "    def __init__(self, status, name, location, discription, secretQuestion, secretAnswer, \n",
    "                 foundBy, foundByNumber, claimBy, claimByNumber):\n",
    "        self.status = status\n",
    "        self.name = name\n",
    "        self.location = location\n",
    "        self.discription = discription\n",
    "        self.secretQuestion = secretQuestion\n",
    "        self.secretAnswer = secretAnswer\n",
    "        self.foundBy = foundBy\n",
    "        self.foundByNumber = foundByNumber\n",
    "        self.claimBy = claimBy\n",
    "        self.claimByNumber = claimByNumber\n",
    "\n",
    "\n",
    "    \n",
    "    def toString(self): \n",
    "        \"\"\"\n",
    "        returns a string description of the item with details of the object separated by comma\n",
    "        \"\"\"\n",
    "        str1 = \"%s,%s,%s,%s,%s,%s,%s,%s,%s,%s\" %(self.status, self.name, self.location, self.discription, \n",
    "                                                 self.secretQuestion, self.secretAnswer, self.foundBy, \n",
    "                                                 self.foundByNumber, self.claimBy, self.claimByNumber)\n",
    "        return str1\n",
    "              "
   ]
  },
  {
   "cell_type": "code",
   "execution_count": 6,
   "id": "77171469",
   "metadata": {
    "ExecuteTime": {
     "end_time": "2024-05-28T00:39:13.728916Z",
     "start_time": "2024-05-28T00:39:13.708358Z"
    },
    "code_folding": []
   },
   "outputs": [],
   "source": [
    "import pandas as pd\n",
    "\n",
    "class LostFoundSys(Item):\n",
    "    '''\n",
    "    The LostFoundSys class is the main system of the software.\n",
    "    When started, it will interract with a database, stored as lostfound.csv file\n",
    "    Currently, the class contains methods to start and exit the system, \n",
    "    and methods to report, claim, display and remove items.   \n",
    "    '''\n",
    "    \n",
    "    # All items are maintained as instances of the Item class, in a class variable ItemList[].\n",
    "    ItemList = [] \n",
    "    \n",
    "    \n",
    "    def __init__(self, status, name, location, discription, secretQuestion, secretAnswer, \n",
    "                 foundBy, foundByNumber, claimBy, claimByNumber):\n",
    "        Item.__init__(self, status, name, location, discription, secretQuestion, secretAnswer, \n",
    "                 foundBy, foundByNumber, claimBy, claimByNumber)\n",
    "    \n",
    "    # Task 1: Ensure Implement start() can run properly.\n",
    "    def start():\n",
    "        \"\"\"\n",
    "        To start the system, data is read from \"lostfound.csv\"\n",
    "        and is converted to instances of Item and is stored in ItemList\n",
    "        \"\"\"\n",
    "        try:\n",
    "            file1 = open(\"lostfound.csv\", \"r\")\n",
    "            str1 = file1.read()\n",
    "            records = str1.split('\\n') \n",
    "            LostFoundSys.ItemList.clear() #init the ItemList\n",
    "             \n",
    "            for i in range(len(records)): \n",
    "                strTemp = records[i].split(',') \n",
    "                if len(strTemp) == 10:\n",
    "                    itemTemp = Item(strTemp[0], strTemp[1], strTemp[2], strTemp[3], strTemp[4], \n",
    "                                    strTemp[5], strTemp[6], strTemp[7], strTemp[8], strTemp[9])\n",
    "                    LostFoundSys.ItemList.append(itemTemp)\n",
    "         \n",
    "        except FileNotFoundError:\n",
    "            file1 = open(\"lostfound.csv\", \"x\")\n",
    "\n",
    "        file1.close()\n",
    "        print(\"\\nThe UIC Lost&Found System is started.\\n\")\n",
    "        \n",
    "        # The return statement can be used for possible extension of the system\n",
    "        # For example, if a functionality shall be triggered by start(),\n",
    "        # then the boolean value can be used to test if start() is executed sucessfully.\n",
    "        return True\n",
    "\n",
    "    \n",
    "    \n",
    "    def exit():\n",
    "        \"\"\"\n",
    "        To exit the system, all instances of item in ItemList\n",
    "        are over-written into the database \"lostfound.csv\"\n",
    "        \"\"\"\n",
    "        # In case of the file accidently removed.\n",
    "        try:\n",
    "            file1 = open(\"lostfound.csv\", \"w\")\n",
    "        except FileNotFoundError:\n",
    "            file1 = open(\"lostfound.csv\", \"x\")\n",
    "        \n",
    "        for x in LostFoundSys.ItemList:\n",
    "                file1.write(x.toString() + '\\n')\n",
    "            \n",
    "\n",
    "        file1.close()\n",
    "        print(\"\\nThe UIC Lost&Found System is closed.\\n\")\n",
    "        \n",
    "        LostFoundSys.ItemList.clear()\n",
    "        \n",
    "        \n",
    "        return True\n",
    "\n",
    "    \n",
    "    \n",
    "    def report(item): # Task 2: report for new invetory appended\n",
    "        \"\"\"\n",
    "        To report an item, the instance of the item shall be added to Itemlist\n",
    "        \"\"\"\n",
    "        LostFoundSys.ItemList.append(item)\n",
    "        print(f\"\\nNew item {item.name.title()} has been reported.\")    \n",
    "        pass\n",
    "\n",
    "    \n",
    "\n",
    "    # The current implementation verifies the item name only, which is not ideal.\n",
    "    # How it works: When there is a matching item which is not claimed yet,\n",
    "    # the item's status will be updated to \"Claimed\".\n",
    "    # Otherwise, the item will not be claimed.\n",
    "    def claim(name,location,discription): #Task3: Improve the implementation of claim().\n",
    "        \"\"\"\n",
    "        To claim a specific item from the current inventory\n",
    "        \"\"\"\n",
    "        match = False # to indicate if there is an matching item or not\n",
    "        \n",
    "        for i in LostFoundSys.ItemList:\n",
    "            if i.name.lower() == name.lower() and i.location.lower() == location.lower() and i.discription.lower() == discription.lower():\n",
    "                match = True\n",
    "                # Match the correct item.\n",
    "                \n",
    "                if i.status == \"Found\":\n",
    "                    while True:\n",
    "                        print(\"\\n\" + i.secretQuestion) # Task3: Show the secret question and require the user to answer.\n",
    "                        a = input(\"The answer is: \") \n",
    "                        # Ask the user to check the information they entered.\n",
    "                        print(\"\\nThe answer you've entered is:\")\n",
    "                        print(\"\\n\"+a) \n",
    "                        b = input(\"\\nIf you're certained with your input,enter 'yes',else 'no':\") \n",
    "                        if b==\"yes\":\n",
    "                            if a.lower() == i.secretAnswer.lower(): # Task3: Test if user's answer match the correct answer.\n",
    "                                i.status = \"Claimed\"\n",
    "                                print(name + \" at %s\"%location + \" has been claimed.\")\n",
    "                                while True:\n",
    "                                    # update information about the claimer\n",
    "                                    print(\"We want to collect some information about you:\")\n",
    "                                    claimBy = input(\"Enter your name:\")\n",
    "                                    claimByNumber = input(\"Enter your phonenumber:\")\n",
    "                                    c = print(\"\\nThe answer you have entered is: \" + claimBy + \" \" + claimByNumber)\n",
    "                                    # Ask the user to check the information they entered.\n",
    "                                    d = input(\"\\nIf you're certained with your input,enter 'yes',else 'no':\")\n",
    "                                    if d == \"yes\":\n",
    "                                        print(\"\\nYour imformation has been uploaded.\")\n",
    "                                        i.claimBy = claimBy\n",
    "                                        i.claimByNumber = claimByNumber\n",
    "                                        break\n",
    "                                    else:\n",
    "                                        continue\n",
    "                                break   \n",
    "                        \n",
    "                            else:\n",
    "                                print(\"This is not your item.\")\n",
    "                                break\n",
    "                                \n",
    "                        if b==\"no\":\n",
    "                            continue # Allow user to amend their input.\n",
    "                \n",
    "                else:\n",
    "                    print(\"The item \" + name + location + \" has been already claimed.\")\n",
    "        \n",
    "        if match == False:\n",
    "            print(\"No such item.\")\n",
    "        \n",
    "        pass\n",
    "           \n",
    "\n",
    "           \n",
    "\n",
    "        \n",
    "    def remove(item): #Task2: To remove a specific item from the inventory\n",
    "        \"\"\"\n",
    "        To remove a specific item from the inventory\n",
    "        \"\"\"\n",
    "        remove_list = []\n",
    "        for i in LostFoundSys.ItemList:\n",
    "            if i.status.lower() == item.status.lower() and i.name.lower() == item.name.lower() and i.location.lower() == item.location.lower() and i.discription.lower() == item.discription.lower() and i.secretAnswer.lower() == item.secretAnswer.lower() and i.secretQuestion.lower() == item.secretQuestion.lower() and i.foundBy.lower() == item.foundBy.lower() and i.foundByNumber.lower() == item.foundByNumber.lower() and i.claimBy.lower() == item.claimBy.lower() and i.claimByNumber.lower() == item.claimByNumber.lower():\n",
    "                remove_list.append(i)\n",
    "                \n",
    "        if len(remove_list)>=1:\n",
    "            for i in remove_list:\n",
    "                LostFoundSys.ItemList.remove(i) # Task2: Remove the item that is specified\n",
    "                print(\"\\n\" + item.name + \" has been removed.\")\n",
    "        else:\n",
    "            print(\"Sorry, there's no such item.\")\n",
    "        pass\n",
    "    \n",
    "\n",
    "    def display(): # Task2: Display all items in itemlist.\n",
    "        \"\"\"\n",
    "        To display all all items that are currently in the inventory including both \n",
    "        found and claimed ones, without showing the secret question and answer\n",
    "        \"\"\"\n",
    "\n",
    "        print(\"\\nThe current inventory includes the following items:\")\n",
    "        list_found = []; status = []; item_Name = []; location = []; discription = []; foundBy = []; foundByNumber = []; claimBy = []; claimByNumber = []\n",
    "        # Task2＆Task6: Display items that are unclaimed.\n",
    "        for item in LostFoundSys.ItemList:\n",
    "            if item.status == \"Found\":\n",
    "                list_found.append(item)\n",
    "        for i in list_found:\n",
    "            status.append(i.status)\n",
    "            item_Name.append(i.name)\n",
    "            location.append(i.location)\n",
    "            discription.append(i.discription)\n",
    "            foundBy.append(i.foundBy.title())\n",
    "            foundByNumber.append(i.foundByNumber)\n",
    "            claimBy.append(i.claimBy.title())\n",
    "            claimByNumber.append(i.claimByNumber)\n",
    "\n",
    "        dic_found = {\n",
    "            \"Status\":status,\n",
    "            \"Item_Name\":item_Name,\n",
    "            \"Location\":location,\n",
    "            \"Discription\":discription,\n",
    "            \"Founder's Name\":foundBy,\n",
    "            \"Founder's Number\":foundByNumber,\n",
    "            \"Claimer's Name\":claimBy,\n",
    "            \"Claimer's Number\":claimByNumber\n",
    "            }\n",
    "        table = pd.DataFrame(dic_found) #use pandas module to creat a table.\n",
    "        print(table)\n",
    "        pass\n",
    "        \n",
    "    \n",
    "    \n",
    "    def score(): #Task5: Record individual's kindness.\n",
    "        \"\"\"The adminstrator can use a score() method to display a list of all participants\n",
    "        with their name and accumulated scores, sorted by their score descendingly.\"\"\"\n",
    "        \n",
    "        \n",
    "        Score = {}\n",
    "        list1 = []\n",
    "\n",
    "        for i in LostFoundSys.ItemList:\n",
    "            list1.append(i.foundBy)\n",
    "        \n",
    "        for element in list1:\n",
    "            Score[element] = Score.get(element,0)+1\n",
    "            # Task5: Count the frequecy of individual's kindness. \n",
    "            \n",
    "        Score1 = dict(sorted(Score.items(),key = lambda x: x[1], reverse = True))\n",
    "        # Task5: Sort individual's kindness frequency (from higher score to lower score).\n",
    "        \n",
    "        print(\"\\n\" + \"Following are the rank of finders:\")\n",
    "        print(\"\\n\" + \"Finder\" + '\\t'+ '\\t' + \"Rate\") \n",
    "        \n",
    "        for key,value in Score1.items():\n",
    "            print(\"\\n\" + key + \"\\t\" + '\\t' + str(value))\n",
    "        # Task5: Print out the list of ranking of individual kindness.\n",
    "        \n",
    "        pass\n",
    "\n"
   ]
  },
  {
   "cell_type": "code",
   "execution_count": 9,
   "id": "0767fd90",
   "metadata": {
    "ExecuteTime": {
     "end_time": "2024-05-28T00:40:33.415234Z",
     "start_time": "2024-05-28T00:39:15.003213Z"
    },
    "scrolled": false
   },
   "outputs": [
    {
     "name": "stdout",
     "output_type": "stream",
     "text": [
      "\n",
      "The UIC Lost&Found System is started.\n",
      "\n",
      "Welcome to Lost Found System:\n",
      "    To display items, press \"1\";\n",
      "\n",
      "    To report an item, press \"2\";\n",
      "\n",
      "    To claim an item, press \"3\";\n",
      "\n",
      "    To remove an item, press \"4\";\n",
      "\n",
      "    To shorw score list, press \"5\";\n",
      "\n",
      "    To exit the system, press \"0\".\n"
     ]
    },
    {
     "name": "stdout",
     "output_type": "stream",
     "text": [
      "\n",
      "The current inventory includes the following items:\n",
      "  Status Item_Name             Location Discription Founder's Name  \\\n",
      "0  Found      book                  v18         wet         Melody   \n",
      "1  Found   Pikachu                   t3       dirty   Gram-Schmidt   \n",
      "2  Found   Macbook                  LRC   power-off            Wei   \n",
      "3  Found   Macbook                   T5      broken          Bella   \n",
      "4  Found       key  table in classroom1  it is red.         Liuliu   \n",
      "\n",
      "  Founder's Number Claimer's Name Claimer's Number  \n",
      "0           123456           Null             Null  \n",
      "1      10293847566        Fourier             Null  \n",
      "2            10086          Annie             Null  \n",
      "3         12345678          Nancy             Null  \n",
      "4      13338259899                                  \n",
      "\n",
      "The current inventory includes the following items:\n",
      "  Status Item_Name             Location Discription Founder's Name  \\\n",
      "0  Found      book                  v18         wet         Melody   \n",
      "1  Found   Pikachu                   t3       dirty   Gram-Schmidt   \n",
      "2  Found   Macbook                  LRC   power-off            Wei   \n",
      "3  Found   Macbook                   T5      broken          Bella   \n",
      "4  Found       key  table in classroom1  it is red.         Liuliu   \n",
      "\n",
      "  Founder's Number Claimer's Name Claimer's Number  \n",
      "0           123456           Null             Null  \n",
      "1      10293847566        Fourier             Null  \n",
      "2            10086          Annie             Null  \n",
      "3         12345678          Nancy             Null  \n",
      "4      13338259899                                  \n",
      "\n",
      "The UIC Lost&Found System is closed.\n",
      "\n"
     ]
    }
   ],
   "source": [
    "# Task 9: Design a user-interaction system.\n",
    "\"\"\"\n",
    "Execute this cell(just like press the 'start' botten),\n",
    "then the user-interaction system will run, and you can play with it.\n",
    "\"\"\"\n",
    "LostFoundSys.start()\n",
    "\n",
    "print(\"\"\"Welcome to Lost Found System:\n",
    "    To display items, press \"1\";\\n\n",
    "    To report an item, press \"2\";\\n\n",
    "    To claim an item, press \"3\";\\n\n",
    "    To remove an item, press \"4\";\\n\n",
    "    To shorw score list, press \"5\";\\n\n",
    "    To exit the system, press \"0\".\"\"\")\n",
    "\n",
    "while True:\n",
    "    # Task8: Avoide malicious users from entering indiscriminately.\n",
    "    try:\n",
    "        selection = int(input(\"\\nPlease enter a number to get specific service:\"))\n",
    "        if selection < 0 or selection > 5:\n",
    "            raise Exception(\"\\nNumber should be within 0-5.\")\n",
    "    except ValueError:\n",
    "        print(\"\\nPlease enter an integer.\")\n",
    "    except Exception as Error:\n",
    "        print(Error)\n",
    "        \n",
    "    else:\n",
    "        \n",
    "        #display\n",
    "        if selection == 1: \n",
    "            LostFoundSys.display()\n",
    "            pass\n",
    "        \n",
    "        #report\n",
    "        if selection == 2:\n",
    "            while True:\n",
    "                print(\"\\nPlease enter some information about the item you want to report:\")\n",
    "                a = input(\"item name:\")\n",
    "                b = input(\"location:\")\n",
    "                c = input(\"discription:\")\n",
    "                d = input(\"secret question:\")\n",
    "                e = input(\"secret answer:\")\n",
    "                f = input(\"your name:\")\n",
    "                g = input(\"your phone number:\")\n",
    "                # We don't know whether the founder know the information about the claimer, maybe yes or no.\n",
    "                # If they don't know, they can just enter in 'Null', and the system will also record the information.\n",
    "                h = input(\"claimer's name (If you know he/her name, else, enter 'Null'.):\")\n",
    "                i = input(\"climer's plhone number (If you know he/her phone number, else, enter 'Null'.):\")\n",
    "                item = Item('Found', a, b, c, d, e, f, g, h, i)\n",
    "                \n",
    "                # Ask the user to check the information they entered.\n",
    "                print(\"\\nThe answer you have entered is:\" +a+' '+b+' '+c+' '+d+' '+e+' '+f+' '+g+' '+h+' '+i)\n",
    "                answer = input(\"\\nIf you're certained with your input, enter 'yes', else 'no':\")\n",
    "                if answer == 'yes':\n",
    "                    LostFoundSys.report(item)\n",
    "                    break\n",
    "                else:\n",
    "                    continue\n",
    "            pass\n",
    "        \n",
    "        #claim\n",
    "        if selection == 3: \n",
    "            print(\"\\nPlease enter the item's name and location you want to claim:\")\n",
    "            a = input(\"item name:\")\n",
    "            b = input(\"item location:\")\n",
    "            c = input(\"disciption:\")\n",
    "            LostFoundSys.claim(a, b, c)\n",
    "            pass\n",
    "\n",
    "        #remove\n",
    "        if selection == 4: \n",
    "            print(\"\\nPlease enter some information about the item you want to remove:\")\n",
    "            x = input(\"status:\")\n",
    "            a = input(\"item name:\")\n",
    "            b = input(\"location:\")\n",
    "            c = input(\"discription:\")\n",
    "            d = input(\"secret question:\")\n",
    "            e = input(\"secret answer:\")\n",
    "            f = input(\"founder name:\")\n",
    "            g = input(\"founder phone number:\")\n",
    "            h = input(\"claimer's name:\")\n",
    "            i = input(\"climer's phone number:\")\n",
    "            item = Item(x, a, b, c, d, e, f, g, h, i)\n",
    "            LostFoundSys.remove(item)\n",
    "            pass\n",
    "        \n",
    "        #score\n",
    "        if selection == 5: \n",
    "            LostFoundSys.score()\n",
    "            pass\n",
    "        \n",
    "        #exist\n",
    "        if selection == 0:\n",
    "            LostFoundSys.exit()\n",
    "            break\n",
    "            "
   ]
  },
  {
   "cell_type": "code",
   "execution_count": 3,
   "id": "4696555c",
   "metadata": {
    "ExecuteTime": {
     "end_time": "2024-05-27T14:54:38.127572Z",
     "start_time": "2024-05-27T14:54:04.779494Z"
    }
   },
   "outputs": [
    {
     "ename": "NameError",
     "evalue": "name 'LostFoundSys' is not defined",
     "output_type": "error",
     "traceback": [
      "\u001b[0;31m---------------------------------------------------------------------------\u001b[0m",
      "\u001b[0;31mNameError\u001b[0m                                 Traceback (most recent call last)",
      "Cell \u001b[0;32mIn[3], line 11\u001b[0m\n\u001b[1;32m      1\u001b[0m \u001b[38;5;124;03m\"\"\"\u001b[39;00m\n\u001b[1;32m      2\u001b[0m \u001b[38;5;124;03mSince we had already design the user-interaction system, \u001b[39;00m\n\u001b[1;32m      3\u001b[0m \u001b[38;5;124;03mthis example interaction is nolonger needed. \u001b[39;00m\n\u001b[1;32m      4\u001b[0m \u001b[38;5;124;03mYou can just play with the preveious cell, which is our human-intercantion system.\u001b[39;00m\n\u001b[1;32m      5\u001b[0m \u001b[38;5;124;03m\"\"\"\u001b[39;00m\n\u001b[1;32m      6\u001b[0m \u001b[38;5;66;03m# As of now, there is no user-interaction mechanism built in yet.\u001b[39;00m\n\u001b[1;32m      7\u001b[0m \u001b[38;5;66;03m# Only the administrator can interact with the system through direct coding.\u001b[39;00m\n\u001b[1;32m      8\u001b[0m \u001b[38;5;66;03m# The following is an example of such interaction:\u001b[39;00m\n\u001b[1;32m      9\u001b[0m \n\u001b[1;32m     10\u001b[0m \u001b[38;5;66;03m# To start the system\u001b[39;00m\n\u001b[0;32m---> 11\u001b[0m \u001b[43mLostFoundSys\u001b[49m\u001b[38;5;241m.\u001b[39mstart()\n\u001b[1;32m     13\u001b[0m \u001b[38;5;66;03m# To create instances of Item to report\u001b[39;00m\n\u001b[1;32m     14\u001b[0m item1 \u001b[38;5;241m=\u001b[39m Item(\u001b[38;5;124m\"\u001b[39m\u001b[38;5;124mFound\u001b[39m\u001b[38;5;124m\"\u001b[39m,\u001b[38;5;124m\"\u001b[39m\u001b[38;5;124mMacbook\u001b[39m\u001b[38;5;124m\"\u001b[39m,\u001b[38;5;124m\"\u001b[39m\u001b[38;5;124mLRC\u001b[39m\u001b[38;5;124m\"\u001b[39m,\u001b[38;5;124m\"\u001b[39m\u001b[38;5;124mpower-off\u001b[39m\u001b[38;5;124m\"\u001b[39m,\u001b[38;5;124m\"\u001b[39m\u001b[38;5;124mlocked screen pic?\u001b[39m\u001b[38;5;124m\"\u001b[39m,\u001b[38;5;124m\"\u001b[39m\u001b[38;5;124mgaza\u001b[39m\u001b[38;5;124m\"\u001b[39m,\u001b[38;5;124m\"\u001b[39m\u001b[38;5;124mWei\u001b[39m\u001b[38;5;124m\"\u001b[39m,\u001b[38;5;124m\"\u001b[39m\u001b[38;5;124m10086\u001b[39m\u001b[38;5;124m\"\u001b[39m,\u001b[38;5;124m\"\u001b[39m\u001b[38;5;124mAnnie\u001b[39m\u001b[38;5;124m\"\u001b[39m,\u001b[38;5;124m\"\u001b[39m\u001b[38;5;124mNull\u001b[39m\u001b[38;5;124m\"\u001b[39m)\n",
      "\u001b[0;31mNameError\u001b[0m: name 'LostFoundSys' is not defined"
     ]
    }
   ],
   "source": [
    "\"\"\"\n",
    "Since we had already design the user-interaction system, \n",
    "this example interaction is nolonger needed. \n",
    "You can just play with the preveious cell, which is our human-intercantion system.\n",
    "\"\"\"\n",
    "# As of now, there is no user-interaction mechanism built in yet.\n",
    "# Only the administrator can interact with the system through direct coding.\n",
    "# The following is an example of such interaction:\n",
    "\n",
    "# To start the system\n",
    "LostFoundSys.start()\n",
    "\n",
    "# To create instances of Item to report\n",
    "item1 = Item(\"Found\",\"Macbook\",\"LRC\",\"power-off\",\"locked screen pic?\",\"gaza\",\"Wei\",\"10086\",\"Annie\",\"Null\")\n",
    "item2 = Item(\"Found\", \"Macbook\", \"T5\", \"broken\",\"locked screen pic?\", \"Eagle\",\"Bella\",\"12345678\",\"Nancy\",\"Null\")\n",
    "\n",
    "# To report the above items\n",
    "LostFoundSys.report(item1)\n",
    "LostFoundSys.report(item2)\n",
    "\n",
    "\n",
    "# To claim item(s)\n",
    "LostFoundSys.claim(\"Macbook\",\"LRC\",\"power-off\")\n",
    "\n",
    "# To check on the current inventory\n",
    "LostFoundSys.display()\n",
    "\n",
    "# To exit the system\n",
    "LostFoundSys.exit()\n"
   ]
  },
  {
   "cell_type": "code",
   "execution_count": null,
   "id": "1be0c901",
   "metadata": {
    "ExecuteTime": {
     "end_time": "2024-05-23T01:34:11.910026Z",
     "start_time": "2024-05-23T01:34:11.906672Z"
    }
   },
   "outputs": [],
   "source": [
    "print(\"Status\" + '\\t' + \"Item Name\" + '\\t'+ \"Location Found\")\n",
    "print(\"Found\" + '\\t' + \"Iphone\" + '\\t\\t'+ \"t29\")\n",
    "print(\"Claimed\" + '\\t' + \"Macbook\" + '\\t\\t'+ \"t5\")"
   ]
  },
  {
   "cell_type": "markdown",
   "id": "a65f5779",
   "metadata": {},
   "source": [
    "Upon finishing **Task No. 1 and No. 2**, the above driver is supposed to produce console output as follows:\n",
    "<img src=\"./Figures/Sample.png\"  align=center />"
   ]
  },
  {
   "cell_type": "markdown",
   "id": "cbdc85aa",
   "metadata": {},
   "source": [
    "## Your Tasks"
   ]
  },
  {
   "cell_type": "markdown",
   "id": "e936e2b2",
   "metadata": {},
   "source": [
    "All of the methods of the two classes above shall be implemented, debugged and improved.\n",
    "\n",
    "**Task No. 1 to 8** are required. \n",
    "    \n",
    "**Task 9** is optional and open-ended, with possible extra credits rewarded."
   ]
  },
  {
   "cell_type": "markdown",
   "id": "6509bb81",
   "metadata": {
    "deletable": false,
    "editable": false,
    "nbgrader": {
     "cell_type": "markdown",
     "checksum": "07fae66df28708d13dba3ff0924ce314",
     "grade": false,
     "grade_id": "cell-529452999220cf3a",
     "locked": true,
     "points": 5,
     "schema_version": 3,
     "solution": false,
     "task": true
    }
   },
   "source": [
    "**Task No. 1: (5 points)** Find the exception and locate the fault, and handle them.\n",
    "Make sure you can get the system running properly, so that you can play with it and understand how it works.\n",
    "Hint: `start()`"
   ]
  },
  {
   "cell_type": "markdown",
   "id": "0522e4fe",
   "metadata": {
    "deletable": false,
    "editable": false,
    "nbgrader": {
     "cell_type": "markdown",
     "checksum": "42bdfe6ab9e2a94ea922f530da4144a7",
     "grade": false,
     "grade_id": "cell-579e71893b535d2a",
     "locked": true,
     "points": 15,
     "schema_version": 3,
     "solution": false,
     "task": true
    }
   },
   "source": [
    "**Task No. 2: (15 points)** Implement `report()`, `remove()`, and `display()` methods, according to the sample console output. You need to make your system behaves in the same way as the output example. "
   ]
  },
  {
   "cell_type": "markdown",
   "id": "143111c1",
   "metadata": {
    "deletable": false,
    "editable": false,
    "nbgrader": {
     "cell_type": "markdown",
     "checksum": "b44f4524fd528cb2ec199974bc6809a3",
     "grade": false,
     "grade_id": "cell-a49b33f6ba87c52b",
     "locked": true,
     "points": 15,
     "schema_version": 3,
     "solution": false,
     "task": true
    }
   },
   "source": [
    "**Task No. 3: (15 points)** The current implementaion of `claim()` is not reasonable, as there might be multiple items with the same name, which can be currently claimed all at once. **Improve the implementation of `claim()`** so that when an item found at a specific location is claimed, its secret question can be verified. For example, to claim Item(\"Found\", \"Iphone\", \"T29\",  \"what color is it?\", \"Red\"), the program shall prompt the adminstrator with the secret question \"what color is it?\", so that the adminstrator can verify the secret answer with the claimer. **It is OK to assume that no items share the same name & location combo.**"
   ]
  },
  {
   "cell_type": "markdown",
   "id": "1d3ac587",
   "metadata": {
    "deletable": false,
    "editable": false,
    "nbgrader": {
     "cell_type": "markdown",
     "checksum": "150d3c441bce19c89cc05982fd49dd45",
     "grade": false,
     "grade_id": "cell-8e0f858191e1cde0",
     "locked": true,
     "points": 15,
     "schema_version": 3,
     "solution": false,
     "task": true
    }
   },
   "source": [
    "**Task No. 4: (15 points)** When an item is found or claimed, UIC would like to keep a record of the name of the individual who did that. Please **improve the implementation of the `Item` class** so that the finder and claimer's names and their contact (for example phone number) can be registered. Notice that `LostFoundSys`class may also need to be updated accordingly."
   ]
  },
  {
   "cell_type": "markdown",
   "id": "131d268b",
   "metadata": {
    "deletable": false,
    "editable": false,
    "nbgrader": {
     "cell_type": "markdown",
     "checksum": "bfbbbcbe549443eac17d183e4351a398",
     "grade": false,
     "grade_id": "cell-162d364068bb4338",
     "locked": true,
     "points": 15,
     "schema_version": 3,
     "solution": false,
     "task": true
    }
   },
   "source": [
    "**Task No. 5: (15 points)** UIC would also like to reward those individual who actively participate in Lost&Found activity. Hence, when a participant reports a found item, s/he will be credited with a score which is equivalent to estimated cost of the item (if purchased new). The adminstrator can use a `score()` method to display a list of all participants with their names and accumulated scores, sorted by their score descendingly. **Make all necessary changes to your code and implement `score()`.**"
   ]
  },
  {
   "cell_type": "markdown",
   "id": "643651b7",
   "metadata": {
    "deletable": false,
    "editable": false,
    "nbgrader": {
     "cell_type": "markdown",
     "checksum": "b3c30925e0b4bbfa1aa713953fbc517b",
     "grade": false,
     "grade_id": "cell-cfe526794b7eb723",
     "locked": true,
     "points": 5,
     "schema_version": 3,
     "solution": false,
     "task": true
    }
   },
   "source": [
    "**Task No. 6: (5 points)** Revise `display()` so that only unclaimed items can be shown."
   ]
  },
  {
   "cell_type": "markdown",
   "id": "fb927b8b",
   "metadata": {
    "deletable": false,
    "editable": false,
    "nbgrader": {
     "cell_type": "markdown",
     "checksum": "ba138e6c48b743f58bd6096c6ddddcab",
     "grade": false,
     "grade_id": "cell-8fd1e9f8402cfdf1",
     "locked": true,
     "points": 10,
     "schema_version": 3,
     "solution": false,
     "task": true
    }
   },
   "source": [
    "**Task No. 7: (10 points)** It is possible that items with the same name are found at the same location. Improve your implementation so that such issue can be addressed."
   ]
  },
  {
   "cell_type": "markdown",
   "id": "8b56ba73",
   "metadata": {
    "deletable": false,
    "editable": false,
    "nbgrader": {
     "cell_type": "markdown",
     "checksum": "a00f85d9bc941601db76bfd377f50254",
     "grade": false,
     "grade_id": "cell-12b0c2d12b8bae2e",
     "locked": true,
     "points": 10,
     "schema_version": 3,
     "solution": false,
     "task": true
    }
   },
   "source": [
    "**Task No. 8: (10 points)** Conduct ample testing so that all possible exceptions are properly handled. If you use any assumptions of the lost&found domain, record them by commenting the code."
   ]
  },
  {
   "cell_type": "markdown",
   "id": "25a65531",
   "metadata": {},
   "source": [
    "**Optional Task** "
   ]
  },
  {
   "cell_type": "markdown",
   "id": "d2938996",
   "metadata": {
    "deletable": false,
    "editable": false,
    "nbgrader": {
     "cell_type": "markdown",
     "checksum": "fce7b4812c35a35631fd599063c96857",
     "grade": false,
     "grade_id": "cell-5a1232606a8f45cd",
     "locked": true,
     "points": 10,
     "schema_version": 3,
     "solution": false,
     "task": true
    }
   },
   "source": [
    "**Task No. 9: (Up to additional 10 points)** The current implementation requires the adminstrator to know how to program in Python, which is a strong requirement. Design and implement a user-interaction mechanism so that the adminstrator can interact with the system via the console. You may assume that there is a \"Start\" button on your desktop to trigger `start()` in `LostFoundSys` class, so that the following content is shown in the concole.\n",
    "<img src=\"./Figures/Sample2.png\"  align=center />\n",
    "\n",
    "Then, the adminstrator shall interact with the program via their keyboard commands to complete the above tasks. "
   ]
  },
  {
   "cell_type": "markdown",
   "id": "50537180",
   "metadata": {},
   "source": [
    "Note: If you have worked on Task 9, please do let us know what you have done in below:\n",
    "\n",
    "**For Task No.9, we have done:**\n",
    "\n",
    "\n",
    "1) Design a user-interaction system, which can let user interact with Lost and Found system without anticipate coding skills.\n",
    "\n",
    "2) Design some method to avoid malicious users from entering indiscriminately\n",
    "\n",
    "3) Enable user to check information they entered, if they made some mistake, they can re-enter immediately.\n",
    "\n",
    "4) Ask user entering some information about item, founder and claimer, then the Lost and Found system become more complete.\n"
   ]
  },
  {
   "cell_type": "markdown",
   "id": "aad3d4d7",
   "metadata": {
    "deletable": false,
    "editable": false,
    "nbgrader": {
     "cell_type": "markdown",
     "checksum": "98b9f6e2b8ae8b0d8911d7c1f680b7ba",
     "grade": false,
     "grade_id": "cell-22fad8acc44a8dbc",
     "locked": true,
     "schema_version": 3,
     "solution": false,
     "task": false
    }
   },
   "source": [
    "**Before submission**\n",
    "* Make sure to provide your name(s)\n",
    "* Make sure your program can be executed and provide a driver program with examples\n",
    "* Make ample commmenting and explanation of your program\n",
    "* If your program cannot be executed, it will be an automatic zero grade"
   ]
  }
 ],
 "metadata": {
  "kernelspec": {
   "display_name": "Python 3 (ipykernel)",
   "language": "python",
   "name": "python3"
  },
  "language_info": {
   "codemirror_mode": {
    "name": "ipython",
    "version": 3
   },
   "file_extension": ".py",
   "mimetype": "text/x-python",
   "name": "python",
   "nbconvert_exporter": "python",
   "pygments_lexer": "ipython3",
   "version": "3.12.0"
  },
  "latex_envs": {
   "LaTeX_envs_menu_present": true,
   "autoclose": false,
   "autocomplete": true,
   "bibliofile": "biblio.bib",
   "cite_by": "apalike",
   "current_citInitial": 1,
   "eqLabelWithNumbers": true,
   "eqNumInitial": 1,
   "hotkeys": {
    "equation": "Ctrl-E",
    "itemize": "Ctrl-I"
   },
   "labels_anchors": false,
   "latex_user_defs": false,
   "report_style_numbering": false,
   "user_envs_cfg": false
  },
  "toc": {
   "base_numbering": 1,
   "nav_menu": {
    "height": "106px",
    "width": "213px"
   },
   "number_sections": true,
   "sideBar": true,
   "skip_h1_title": true,
   "title_cell": "Table of Contents",
   "title_sidebar": "Contents",
   "toc_cell": false,
   "toc_position": {},
   "toc_section_display": true,
   "toc_window_display": false
  }
 },
 "nbformat": 4,
 "nbformat_minor": 5
}
