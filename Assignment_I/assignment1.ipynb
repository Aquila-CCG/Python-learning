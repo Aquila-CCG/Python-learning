{
 "cells": [
  {
   "cell_type": "markdown",
   "id": "f9c6bd69",
   "metadata": {},
   "source": [
    "Before you turn this problem in, make sure everything runs as expected. First, **restart the kernel** (in the menubar, select Kernel$\\rightarrow$Restart) and then **run all cells** (in the menubar, select Cell$\\rightarrow$Run All).\n",
    "\n",
    "Make sure you fill in any place that says `YOUR CODE HERE` or \"YOUR ANSWER HERE\", as well as your name and collaborators below:"
   ]
  },
  {
   "cell_type": "code",
   "execution_count": null,
   "id": "8ed6e50c",
   "metadata": {},
   "outputs": [],
   "source": [
    "NAME = \"\"\n",
    "COLLABORATORS = \"\""
   ]
  },
  {
   "cell_type": "markdown",
   "id": "c8a8d208",
   "metadata": {},
   "source": [
    "---"
   ]
  },
  {
   "cell_type": "markdown",
   "id": "bcaab8d3",
   "metadata": {
    "deletable": false,
    "editable": false,
    "nbgrader": {
     "cell_type": "markdown",
     "checksum": "135718c7194a6db09e47d150f51f127c",
     "grade": false,
     "grade_id": "cell-8c6153c5b77a1b7c",
     "locked": true,
     "schema_version": 3,
     "solution": false,
     "task": false
    }
   },
   "source": [
    "# Programming Assignment 1\n",
    "\n",
    "This is the programming part of your Assignment 1. \n",
    "Together with the multiple choice (iSpace), it accounts for maximum 10% of the final grade.\n",
    "\n",
    "**Note**\n",
    "* Write your code after you see `# YOUR CODE HERE` \n",
    "* Read the instruction of each question. You have a **limited time to submit: Friday Mar. 29, 5pm**. Only your last submission counts. After the deadline, submission is **not** possible\n",
    "* This assignment will be **auto-graded**. \n",
    "* For each exercise example, the symbol `->` indicates the value the function should return.\n"
   ]
  },
  {
   "cell_type": "markdown",
   "id": "c0df46b0",
   "metadata": {
    "ExecuteTime": {
     "end_time": "2023-06-29T08:51:42.556358Z",
     "start_time": "2023-06-29T08:51:42.551387Z"
    },
    "deletable": false,
    "editable": false,
    "nbgrader": {
     "cell_type": "markdown",
     "checksum": "d4543f4628169222ab5d1df374ea25f4",
     "grade": false,
     "grade_id": "cell-73a3282a5f9f0b32",
     "locked": true,
     "schema_version": 3,
     "solution": false,
     "task": false
    }
   },
   "source": [
    "**Question 1**. Given `day` of the week encoded as 0 = Sun, 1 = Mon, 2 = Tue, ... 6 = Sat, and a boolean `vacation` indicating if we are on vacation, write the function `alarm_clock(day, vacation)`.\n",
    "\n",
    "* If we are not on vacation, \n",
    "    * on weekdays (Mon-Fri), the function should **return** a string of the form \"7:00\"\n",
    "    * on weekends (Sat and Sun), the function should **return** a string of the form \"10:00\"\n",
    "\n",
    "* If we are on vacation,\n",
    "    * on weekdays (Mon-Fri), the function should **return** a string of the form \"10:00\"\n",
    "    * on weekends (Sat and Sun), the function should **return** a string of the form \"off\"\n",
    "\n",
    "**Examples**\n",
    "```py\n",
    "alarm_clock(3, False) -> \"7:00\"\n",
    "alarm_clock(6, False) -> \"10:00\"\n",
    "alarm_clock(1, True) -> \"10:00\"\n",
    "alarm_clock(6, True) -> \"off\"\n",
    "```"
   ]
  },
  {
   "cell_type": "code",
   "execution_count": 5,
   "id": "de464bb2",
   "metadata": {
    "ExecuteTime": {
     "end_time": "2024-03-23T11:43:52.099616Z",
     "start_time": "2024-03-23T11:43:52.096051Z"
    },
    "deletable": false,
    "nbgrader": {
     "cell_type": "code",
     "checksum": "fdc09adf3f3efe238d2550502ca806ec",
     "grade": false,
     "grade_id": "cell-d0e511ad12a28668",
     "locked": false,
     "schema_version": 3,
     "solution": true,
     "task": false
    }
   },
   "outputs": [],
   "source": [
    "def alarm_clock(day, vacation):\n",
    "    if vacation == True:\n",
    "        if day == 6 or day == 0:\n",
    "            return \"off\"\n",
    "        else:\n",
    "            return \"10:00\"\n",
    "    else:\n",
    "        if day == 6 or day == 0:\n",
    "            return \"10:00\"\n",
    "        else:\n",
    "            return \"7:00\""
   ]
  },
  {
   "cell_type": "code",
   "execution_count": 6,
   "id": "6164877e",
   "metadata": {
    "ExecuteTime": {
     "end_time": "2024-03-23T11:43:53.200984Z",
     "start_time": "2024-03-23T11:43:53.197299Z"
    }
   },
   "outputs": [
    {
     "data": {
      "text/plain": [
       "'7:00'"
      ]
     },
     "execution_count": 6,
     "metadata": {},
     "output_type": "execute_result"
    }
   ],
   "source": [
    "alarm_clock(3, False)"
   ]
  },
  {
   "cell_type": "code",
   "execution_count": 7,
   "id": "6b4d173c",
   "metadata": {
    "ExecuteTime": {
     "end_time": "2024-03-23T11:43:55.443824Z",
     "start_time": "2024-03-23T11:43:55.440493Z"
    }
   },
   "outputs": [
    {
     "data": {
      "text/plain": [
       "'10:00'"
      ]
     },
     "execution_count": 7,
     "metadata": {},
     "output_type": "execute_result"
    }
   ],
   "source": [
    "alarm_clock(6, False)"
   ]
  },
  {
   "cell_type": "code",
   "execution_count": 8,
   "id": "a92b37aa",
   "metadata": {
    "ExecuteTime": {
     "end_time": "2024-03-23T11:44:01.352833Z",
     "start_time": "2024-03-23T11:44:01.349462Z"
    }
   },
   "outputs": [
    {
     "data": {
      "text/plain": [
       "'10:00'"
      ]
     },
     "execution_count": 8,
     "metadata": {},
     "output_type": "execute_result"
    }
   ],
   "source": [
    "alarm_clock(1, True)"
   ]
  },
  {
   "cell_type": "code",
   "execution_count": 9,
   "id": "e46f2085",
   "metadata": {
    "ExecuteTime": {
     "end_time": "2024-03-23T11:44:07.398879Z",
     "start_time": "2024-03-23T11:44:07.395788Z"
    }
   },
   "outputs": [
    {
     "data": {
      "text/plain": [
       "'off'"
      ]
     },
     "execution_count": 9,
     "metadata": {},
     "output_type": "execute_result"
    }
   ],
   "source": [
    "alarm_clock(6, True)"
   ]
  },
  {
   "cell_type": "code",
   "execution_count": null,
   "id": "e6da05df",
   "metadata": {
    "deletable": false,
    "editable": false,
    "nbgrader": {
     "cell_type": "code",
     "checksum": "7a7e8ed6b716dfeda4974f0ff7bc837a",
     "grade": true,
     "grade_id": "cell-709c9999d3e88441",
     "locked": true,
     "points": 3,
     "schema_version": 3,
     "solution": false,
     "task": false
    }
   },
   "outputs": [],
   "source": []
  },
  {
   "cell_type": "code",
   "execution_count": null,
   "id": "d3e258d6",
   "metadata": {
    "deletable": false,
    "editable": false,
    "nbgrader": {
     "cell_type": "code",
     "checksum": "6d77f60d3d89d48eec71945c3cd8f0d1",
     "grade": true,
     "grade_id": "cell-4c00464c648dc052",
     "locked": true,
     "points": 3,
     "schema_version": 3,
     "solution": false,
     "task": false
    }
   },
   "outputs": [],
   "source": []
  },
  {
   "cell_type": "code",
   "execution_count": null,
   "id": "81627b63",
   "metadata": {
    "deletable": false,
    "editable": false,
    "nbgrader": {
     "cell_type": "code",
     "checksum": "2c9276be84872e764c12b1281a3d5bf1",
     "grade": true,
     "grade_id": "cell-1ef806bf1ed9c24b",
     "locked": true,
     "points": 3,
     "schema_version": 3,
     "solution": false,
     "task": false
    }
   },
   "outputs": [],
   "source": []
  },
  {
   "cell_type": "code",
   "execution_count": null,
   "id": "53c26eb3",
   "metadata": {
    "deletable": false,
    "editable": false,
    "nbgrader": {
     "cell_type": "code",
     "checksum": "a9c2cf5055c4f25b01e22e855f0d12c6",
     "grade": true,
     "grade_id": "cell-751aea08cbee9b80",
     "locked": true,
     "points": 4,
     "schema_version": 3,
     "solution": false,
     "task": false
    }
   },
   "outputs": [],
   "source": []
  },
  {
   "cell_type": "code",
   "execution_count": null,
   "id": "9b64205f",
   "metadata": {
    "deletable": false,
    "editable": false,
    "nbgrader": {
     "cell_type": "code",
     "checksum": "52d6795b7d8267bb6731b6bf86a8e8b5",
     "grade": true,
     "grade_id": "cell-acc5c9ab3fd6d509",
     "locked": true,
     "points": 4,
     "schema_version": 3,
     "solution": false,
     "task": false
    }
   },
   "outputs": [],
   "source": []
  },
  {
   "cell_type": "code",
   "execution_count": null,
   "id": "7079cb20",
   "metadata": {
    "deletable": false,
    "editable": false,
    "nbgrader": {
     "cell_type": "code",
     "checksum": "a591181939c0355ac77f01ec469b2237",
     "grade": true,
     "grade_id": "cell-fcd94b511ea54381",
     "locked": true,
     "points": 3,
     "schema_version": 3,
     "solution": false,
     "task": false
    }
   },
   "outputs": [],
   "source": []
  },
  {
   "cell_type": "markdown",
   "id": "194d8e43",
   "metadata": {
    "deletable": false,
    "editable": false,
    "nbgrader": {
     "cell_type": "markdown",
     "checksum": "fb4d288d81dbe500272b4f146f7f7968",
     "grade": false,
     "grade_id": "cell-4b36ae65d5618a5b",
     "locked": true,
     "schema_version": 3,
     "solution": false,
     "task": false
    }
   },
   "source": [
    "**Question 2**. Define the function `is_prime(num)` to check if given positive integer is a prime number or not. The function **returns** a boolean `True` if a number is divisible only by 1 and itself, and **returns** a boolean `False` if it is divisible by any other number than 1 or itself. 1 is considered as a prime number. 2 is also a prime number.\n",
    "\n",
    "**Examples**\n",
    "```py\n",
    "is_prime(7) -> True\n",
    "is_prime(100) -> False\n",
    "is_prime(1) -> True\n",
    "is_prime(2) -> True\n",
    "```"
   ]
  },
  {
   "cell_type": "code",
   "execution_count": 23,
   "id": "d3b0d83e",
   "metadata": {
    "ExecuteTime": {
     "end_time": "2024-03-23T11:55:30.994166Z",
     "start_time": "2024-03-23T11:55:30.990486Z"
    },
    "deletable": false,
    "nbgrader": {
     "cell_type": "code",
     "checksum": "bcb1988feab11fc9b48d7e413b4a8ca5",
     "grade": false,
     "grade_id": "cell-b02c2de34f2aff18",
     "locked": false,
     "schema_version": 3,
     "solution": true,
     "task": false
    }
   },
   "outputs": [],
   "source": [
    "def is_prime(num):\n",
    "    count = 0\n",
    "    if num == 1:\n",
    "        return True\n",
    "    else:\n",
    "        list = []\n",
    "        for number in range(2,num):\n",
    "            list.append(number)\n",
    "        for i in range(2,num+1):\n",
    "            if num/i in list:\n",
    "                count += 1\n",
    "        if count >= 1:\n",
    "            return False\n",
    "        else:\n",
    "            return True\n",
    "            \n",
    "        "
   ]
  },
  {
   "cell_type": "code",
   "execution_count": 24,
   "id": "5dc0bd2b",
   "metadata": {
    "ExecuteTime": {
     "end_time": "2024-03-23T11:55:33.114752Z",
     "start_time": "2024-03-23T11:55:33.111109Z"
    }
   },
   "outputs": [
    {
     "data": {
      "text/plain": [
       "True"
      ]
     },
     "execution_count": 24,
     "metadata": {},
     "output_type": "execute_result"
    }
   ],
   "source": [
    "is_prime(7)"
   ]
  },
  {
   "cell_type": "code",
   "execution_count": 123,
   "id": "e4c28d44",
   "metadata": {
    "ExecuteTime": {
     "end_time": "2024-03-28T14:04:19.911581Z",
     "start_time": "2024-03-28T14:04:19.750850Z"
    }
   },
   "outputs": [
    {
     "data": {
      "text/plain": [
       "True"
      ]
     },
     "execution_count": 123,
     "metadata": {},
     "output_type": "execute_result"
    }
   ],
   "source": [
    "is_prime(3)"
   ]
  },
  {
   "cell_type": "code",
   "execution_count": 25,
   "id": "0d184e0a",
   "metadata": {
    "ExecuteTime": {
     "end_time": "2024-03-23T11:55:34.668791Z",
     "start_time": "2024-03-23T11:55:34.664604Z"
    }
   },
   "outputs": [
    {
     "data": {
      "text/plain": [
       "False"
      ]
     },
     "execution_count": 25,
     "metadata": {},
     "output_type": "execute_result"
    }
   ],
   "source": [
    "is_prime(100)"
   ]
  },
  {
   "cell_type": "code",
   "execution_count": 26,
   "id": "1e97a578",
   "metadata": {
    "ExecuteTime": {
     "end_time": "2024-03-23T11:55:44.130907Z",
     "start_time": "2024-03-23T11:55:44.127222Z"
    }
   },
   "outputs": [
    {
     "data": {
      "text/plain": [
       "True"
      ]
     },
     "execution_count": 26,
     "metadata": {},
     "output_type": "execute_result"
    }
   ],
   "source": [
    "is_prime(1)"
   ]
  },
  {
   "cell_type": "code",
   "execution_count": 27,
   "id": "53e7302c",
   "metadata": {
    "ExecuteTime": {
     "end_time": "2024-03-23T11:55:50.623050Z",
     "start_time": "2024-03-23T11:55:50.619853Z"
    }
   },
   "outputs": [
    {
     "data": {
      "text/plain": [
       "True"
      ]
     },
     "execution_count": 27,
     "metadata": {},
     "output_type": "execute_result"
    }
   ],
   "source": [
    "is_prime(2)"
   ]
  },
  {
   "cell_type": "code",
   "execution_count": 28,
   "id": "a5602f9e",
   "metadata": {
    "ExecuteTime": {
     "end_time": "2024-03-23T11:56:16.898066Z",
     "start_time": "2024-03-23T11:56:16.893574Z"
    }
   },
   "outputs": [
    {
     "data": {
      "text/plain": [
       "True"
      ]
     },
     "execution_count": 28,
     "metadata": {},
     "output_type": "execute_result"
    }
   ],
   "source": [
    "is_prime(41)"
   ]
  },
  {
   "cell_type": "code",
   "execution_count": 29,
   "id": "e45c6a4f",
   "metadata": {
    "ExecuteTime": {
     "end_time": "2024-03-23T11:56:31.436382Z",
     "start_time": "2024-03-23T11:56:31.432779Z"
    }
   },
   "outputs": [
    {
     "data": {
      "text/plain": [
       "False"
      ]
     },
     "execution_count": 29,
     "metadata": {},
     "output_type": "execute_result"
    }
   ],
   "source": [
    "is_prime(57)"
   ]
  },
  {
   "cell_type": "code",
   "execution_count": null,
   "id": "f90382d6",
   "metadata": {
    "deletable": false,
    "editable": false,
    "nbgrader": {
     "cell_type": "code",
     "checksum": "4d236ebb2b3de75087f7dc48a42dcbea",
     "grade": true,
     "grade_id": "cell-4f0f2f24eddf8a45",
     "locked": true,
     "points": 3,
     "schema_version": 3,
     "solution": false,
     "task": false
    }
   },
   "outputs": [],
   "source": []
  },
  {
   "cell_type": "code",
   "execution_count": null,
   "id": "c0448256",
   "metadata": {
    "deletable": false,
    "editable": false,
    "nbgrader": {
     "cell_type": "code",
     "checksum": "16d0a4349e33ae877b15a910497d0f4e",
     "grade": true,
     "grade_id": "cell-f65605db4d113726",
     "locked": true,
     "points": 3,
     "schema_version": 3,
     "solution": false,
     "task": false
    }
   },
   "outputs": [],
   "source": []
  },
  {
   "cell_type": "code",
   "execution_count": null,
   "id": "f193bf1f",
   "metadata": {
    "deletable": false,
    "editable": false,
    "nbgrader": {
     "cell_type": "code",
     "checksum": "b942816a14ea947841512c765af20980",
     "grade": true,
     "grade_id": "cell-61078b85056bcc6b",
     "locked": true,
     "points": 3,
     "schema_version": 3,
     "solution": false,
     "task": false
    }
   },
   "outputs": [],
   "source": []
  },
  {
   "cell_type": "code",
   "execution_count": null,
   "id": "ba4bd8d4",
   "metadata": {
    "deletable": false,
    "editable": false,
    "nbgrader": {
     "cell_type": "code",
     "checksum": "a947da4a92b5e73697bc6cea0fa846f7",
     "grade": true,
     "grade_id": "cell-789433ac54975889",
     "locked": true,
     "points": 3,
     "schema_version": 3,
     "solution": false,
     "task": false
    }
   },
   "outputs": [],
   "source": []
  },
  {
   "cell_type": "code",
   "execution_count": null,
   "id": "ba0ece50",
   "metadata": {
    "deletable": false,
    "editable": false,
    "nbgrader": {
     "cell_type": "code",
     "checksum": "b95d759fdddccab50215b19375c2d01b",
     "grade": true,
     "grade_id": "cell-45295d7b9a6448c8",
     "locked": true,
     "points": 3,
     "schema_version": 3,
     "solution": false,
     "task": false
    }
   },
   "outputs": [],
   "source": []
  },
  {
   "cell_type": "markdown",
   "id": "a6f2f73e",
   "metadata": {
    "ExecuteTime": {
     "end_time": "2023-06-29T08:36:32.553506Z",
     "start_time": "2023-06-29T08:36:32.549872Z"
    },
    "deletable": false,
    "editable": false,
    "nbgrader": {
     "cell_type": "markdown",
     "checksum": "039d89b764d411b7c60e91e6399419f9",
     "grade": false,
     "grade_id": "cell-f5621f166a2729d8",
     "locked": true,
     "schema_version": 3,
     "solution": false,
     "task": false
    }
   },
   "source": [
    "**Question 3**. Define the function `remove_special(string1)` that **returns** the `string1` with all the characters `['?', '!', '*', '#', '@', '%', '&']` removed.\n",
    "\n",
    "**Examples** \n",
    "```py\n",
    "remove_special(\"python is such a fun!\") -> \"python is such a fun\"\n",
    "remove_special(\"?18?? UIC!\") -> \"18 UIC\"\n",
    "remove_special(\" @Mark, What!\") -> \" Mark, What\"\n",
    "```"
   ]
  },
  {
   "cell_type": "code",
   "execution_count": 119,
   "id": "e0b84600",
   "metadata": {
    "ExecuteTime": {
     "end_time": "2024-03-23T12:36:20.144189Z",
     "start_time": "2024-03-23T12:36:20.140715Z"
    },
    "deletable": false,
    "nbgrader": {
     "cell_type": "code",
     "checksum": "2a312cbdb8f09e439acd1479896669a0",
     "grade": false,
     "grade_id": "cell-a1465151b5509557",
     "locked": false,
     "schema_version": 3,
     "solution": true,
     "task": false
    }
   },
   "outputs": [],
   "source": [
    "def remove_special(string1):\n",
    "    special_characters = ['?', '!', '*', '#', '@', '%', '&']\n",
    "    for character in special_characters:\n",
    "        string1 = string1.replace(character,'')\n",
    "    return string1"
   ]
  },
  {
   "cell_type": "code",
   "execution_count": 120,
   "id": "9622f309",
   "metadata": {
    "ExecuteTime": {
     "end_time": "2024-03-23T12:36:21.970193Z",
     "start_time": "2024-03-23T12:36:21.966825Z"
    }
   },
   "outputs": [
    {
     "data": {
      "text/plain": [
       "'python is such a fun'"
      ]
     },
     "execution_count": 120,
     "metadata": {},
     "output_type": "execute_result"
    }
   ],
   "source": [
    "remove_special(\"python is such a fun!\")"
   ]
  },
  {
   "cell_type": "code",
   "execution_count": 121,
   "id": "f015a6c7",
   "metadata": {
    "ExecuteTime": {
     "end_time": "2024-03-23T12:36:23.554739Z",
     "start_time": "2024-03-23T12:36:23.551563Z"
    }
   },
   "outputs": [
    {
     "data": {
      "text/plain": [
       "'18 UIC'"
      ]
     },
     "execution_count": 121,
     "metadata": {},
     "output_type": "execute_result"
    }
   ],
   "source": [
    "remove_special(\"?18?? UIC!\")"
   ]
  },
  {
   "cell_type": "code",
   "execution_count": 122,
   "id": "e47088ea",
   "metadata": {
    "ExecuteTime": {
     "end_time": "2024-03-23T12:36:25.674684Z",
     "start_time": "2024-03-23T12:36:25.671557Z"
    }
   },
   "outputs": [
    {
     "data": {
      "text/plain": [
       "' Mark, What'"
      ]
     },
     "execution_count": 122,
     "metadata": {},
     "output_type": "execute_result"
    }
   ],
   "source": [
    "remove_special(\" @Mark, What!\")"
   ]
  },
  {
   "cell_type": "code",
   "execution_count": null,
   "id": "be339241",
   "metadata": {
    "ExecuteTime": {
     "end_time": "2023-06-29T08:50:42.056368Z",
     "start_time": "2023-06-29T08:50:42.051097Z"
    },
    "deletable": false,
    "editable": false,
    "nbgrader": {
     "cell_type": "code",
     "checksum": "2d4fb08a0d8e4dc816dd6c6dd16c7ed1",
     "grade": true,
     "grade_id": "cell-c90020f03f252ba0",
     "locked": true,
     "points": 4,
     "schema_version": 3,
     "solution": false,
     "task": false
    }
   },
   "outputs": [],
   "source": []
  },
  {
   "cell_type": "code",
   "execution_count": null,
   "id": "d3de04e0",
   "metadata": {
    "ExecuteTime": {
     "end_time": "2023-06-29T08:50:42.227456Z",
     "start_time": "2023-06-29T08:50:42.224792Z"
    },
    "deletable": false,
    "editable": false,
    "nbgrader": {
     "cell_type": "code",
     "checksum": "613db57d75bcf63d4d7cd069438c621d",
     "grade": true,
     "grade_id": "cell-1ea313d35c774d78",
     "locked": true,
     "points": 4,
     "schema_version": 3,
     "solution": false,
     "task": false
    }
   },
   "outputs": [],
   "source": []
  },
  {
   "cell_type": "code",
   "execution_count": null,
   "id": "61711d0b",
   "metadata": {
    "ExecuteTime": {
     "end_time": "2023-06-29T08:50:42.386408Z",
     "start_time": "2023-06-29T08:50:42.384199Z"
    },
    "deletable": false,
    "editable": false,
    "nbgrader": {
     "cell_type": "code",
     "checksum": "3f836058e619530cd7967ce597f24761",
     "grade": true,
     "grade_id": "cell-6e4ba18b6c325105",
     "locked": true,
     "points": 4,
     "schema_version": 3,
     "solution": false,
     "task": false
    }
   },
   "outputs": [],
   "source": []
  },
  {
   "cell_type": "code",
   "execution_count": null,
   "id": "a6acf245",
   "metadata": {
    "ExecuteTime": {
     "end_time": "2023-06-29T08:50:42.585295Z",
     "start_time": "2023-06-29T08:50:42.583215Z"
    },
    "deletable": false,
    "editable": false,
    "nbgrader": {
     "cell_type": "code",
     "checksum": "ccbede2cd8b58cd1da9d07dc66a5324f",
     "grade": true,
     "grade_id": "cell-0114f9878938ed9f",
     "locked": true,
     "points": 3,
     "schema_version": 3,
     "solution": false,
     "task": false
    }
   },
   "outputs": [],
   "source": []
  },
  {
   "cell_type": "markdown",
   "id": "37012a5c",
   "metadata": {
    "deletable": false,
    "editable": false,
    "nbgrader": {
     "cell_type": "markdown",
     "checksum": "978e50a0fd80bdada53d1063aa74adc9",
     "grade": false,
     "grade_id": "cell-a5f586da1fc691a9",
     "locked": true,
     "schema_version": 3,
     "solution": false,
     "task": false
    }
   },
   "source": [
    "**Question 4**. A website requires a user to input a username and a password to register. Define a function `check_password(string_arg)` to check the validity of the passwords input by the users. It should **return** a boolean value `True` if the password is valid and `False` if it is not valid. Following are the criteria for checking the password validity:\n",
    "\n",
    "* At least 1 letter between `[a-z]`\n",
    "* At least 1 letter between `[A-Z]`\n",
    "* At least 1 number between `[0-9]`\n",
    "* At least 1 character from `[*, #]`\n",
    "* Minimum length of characters: 4 (included)\n",
    "* Maximum length of characters: 8 (included)\n",
    "\n",
    "**Examples**\n",
    "```py\n",
    "check_password(\"AbraCad\") -> False\n",
    "check_password(\"AbraCadabra*123\") -> False\n",
    "check_password(\"Abra#123\") -> True\n",
    "check_password(\"Ab*1\") -> True\n",
    "check_password(\"Abr1@1\") -> False\n",
    "```"
   ]
  },
  {
   "cell_type": "code",
   "execution_count": 92,
   "id": "a14d4b35",
   "metadata": {
    "ExecuteTime": {
     "end_time": "2024-03-23T12:26:32.102955Z",
     "start_time": "2024-03-23T12:26:32.098472Z"
    },
    "deletable": false,
    "nbgrader": {
     "cell_type": "code",
     "checksum": "b98a6ce70adcb64b4a8bf3f6f2a2f2e7",
     "grade": false,
     "grade_id": "cell-374ed7097ee8748b",
     "locked": false,
     "schema_version": 3,
     "solution": true,
     "task": false
    }
   },
   "outputs": [],
   "source": [
    "def check_password(string1):\n",
    "    a = 0\n",
    "    b = 0\n",
    "    c = 0\n",
    "    d = 0\n",
    "    for i in string1:\n",
    "        if i in ['a','b','c','d','e','f','g','h','i','j','k','l','m','n','o','p','q','r','s','t','u','v','w','x','y','z']:\n",
    "            a += 1\n",
    "        if i in ['A','B','C','D','E','F','G','H','I','J','K','L','M','N','O','P','Q','R','S','T','U','V','W','X','Y','Z']:\n",
    "            b += 1\n",
    "        if i in ['0','1','2','3','4','5','6','7','8','9']:\n",
    "            c += 1\n",
    "        if i in ['*','#']:\n",
    "            d += 1\n",
    "    if a == 0 or b == 0 or c == 0 or d == 0 or len(string1)<4 or len(string1)>8:\n",
    "        return False\n",
    "    else:\n",
    "        return True\n",
    "\n",
    "        "
   ]
  },
  {
   "cell_type": "code",
   "execution_count": 96,
   "id": "eefc8a6a",
   "metadata": {
    "ExecuteTime": {
     "end_time": "2024-03-23T12:26:47.129967Z",
     "start_time": "2024-03-23T12:26:47.126616Z"
    }
   },
   "outputs": [
    {
     "data": {
      "text/plain": [
       "False"
      ]
     },
     "execution_count": 96,
     "metadata": {},
     "output_type": "execute_result"
    }
   ],
   "source": [
    "check_password(\"AbraCad\")"
   ]
  },
  {
   "cell_type": "code",
   "execution_count": 95,
   "id": "e5370b59",
   "metadata": {
    "ExecuteTime": {
     "end_time": "2024-03-23T12:26:45.141593Z",
     "start_time": "2024-03-23T12:26:45.138183Z"
    }
   },
   "outputs": [
    {
     "data": {
      "text/plain": [
       "False"
      ]
     },
     "execution_count": 95,
     "metadata": {},
     "output_type": "execute_result"
    }
   ],
   "source": [
    "check_password(\"AbraCadabra*123\")"
   ]
  },
  {
   "cell_type": "code",
   "execution_count": 94,
   "id": "873e75ef",
   "metadata": {
    "ExecuteTime": {
     "end_time": "2024-03-23T12:26:43.780861Z",
     "start_time": "2024-03-23T12:26:43.776705Z"
    }
   },
   "outputs": [
    {
     "data": {
      "text/plain": [
       "True"
      ]
     },
     "execution_count": 94,
     "metadata": {},
     "output_type": "execute_result"
    }
   ],
   "source": [
    "check_password(\"Abra#123\")"
   ]
  },
  {
   "cell_type": "code",
   "execution_count": 91,
   "id": "c303f35a",
   "metadata": {
    "ExecuteTime": {
     "end_time": "2024-03-23T12:26:26.274673Z",
     "start_time": "2024-03-23T12:26:26.271022Z"
    }
   },
   "outputs": [
    {
     "name": "stdout",
     "output_type": "stream",
     "text": [
      "1 1 1 1\n"
     ]
    },
    {
     "data": {
      "text/plain": [
       "True"
      ]
     },
     "execution_count": 91,
     "metadata": {},
     "output_type": "execute_result"
    }
   ],
   "source": [
    "check_password(\"Ab*1\")"
   ]
  },
  {
   "cell_type": "code",
   "execution_count": 93,
   "id": "38d45cc4",
   "metadata": {
    "ExecuteTime": {
     "end_time": "2024-03-23T12:26:41.163064Z",
     "start_time": "2024-03-23T12:26:41.158864Z"
    }
   },
   "outputs": [
    {
     "data": {
      "text/plain": [
       "False"
      ]
     },
     "execution_count": 93,
     "metadata": {},
     "output_type": "execute_result"
    }
   ],
   "source": [
    "check_password(\"Abr1@1\")"
   ]
  },
  {
   "cell_type": "code",
   "execution_count": null,
   "id": "2fc0317b",
   "metadata": {
    "deletable": false,
    "editable": false,
    "nbgrader": {
     "cell_type": "code",
     "checksum": "1b47e8dc1aeed413f87772072fb5e765",
     "grade": true,
     "grade_id": "cell-3384888edd533285",
     "locked": true,
     "points": 4,
     "schema_version": 3,
     "solution": false,
     "task": false
    }
   },
   "outputs": [],
   "source": []
  },
  {
   "cell_type": "code",
   "execution_count": null,
   "id": "4c5f9c3f",
   "metadata": {
    "deletable": false,
    "editable": false,
    "nbgrader": {
     "cell_type": "code",
     "checksum": "fcc056cc48f8654a97d6bf4c46591c03",
     "grade": true,
     "grade_id": "cell-bcb08932bbaf8fb3",
     "locked": true,
     "points": 4,
     "schema_version": 3,
     "solution": false,
     "task": false
    }
   },
   "outputs": [],
   "source": []
  },
  {
   "cell_type": "code",
   "execution_count": null,
   "id": "d6deeea2",
   "metadata": {
    "deletable": false,
    "editable": false,
    "nbgrader": {
     "cell_type": "code",
     "checksum": "c123ba3425d159abb7e96590821cf28a",
     "grade": true,
     "grade_id": "cell-6e24c4b085058a0c",
     "locked": true,
     "points": 4,
     "schema_version": 3,
     "solution": false,
     "task": false
    }
   },
   "outputs": [],
   "source": []
  },
  {
   "cell_type": "code",
   "execution_count": null,
   "id": "6feeeac8",
   "metadata": {
    "deletable": false,
    "editable": false,
    "nbgrader": {
     "cell_type": "code",
     "checksum": "aee52bfb2e87fe3e68f017e6efc545a3",
     "grade": true,
     "grade_id": "cell-ca4e4137105aea02",
     "locked": true,
     "points": 4,
     "schema_version": 3,
     "solution": false,
     "task": false
    }
   },
   "outputs": [],
   "source": []
  },
  {
   "cell_type": "code",
   "execution_count": null,
   "id": "12de33dd",
   "metadata": {
    "deletable": false,
    "editable": false,
    "nbgrader": {
     "cell_type": "code",
     "checksum": "dacd977b9188a49bc9192d863aad2166",
     "grade": true,
     "grade_id": "cell-9e51ccf880d7af95",
     "locked": true,
     "points": 4,
     "schema_version": 3,
     "solution": false,
     "task": false
    }
   },
   "outputs": [],
   "source": []
  },
  {
   "cell_type": "markdown",
   "id": "52d0fdb8",
   "metadata": {
    "deletable": false,
    "editable": false,
    "nbgrader": {
     "cell_type": "markdown",
     "checksum": "91102187a4c9e9e34ca5d68187fe39fd",
     "grade": false,
     "grade_id": "cell-68011bfda2de5421",
     "locked": true,
     "schema_version": 3,
     "solution": false,
     "task": false
    }
   },
   "source": [
    "**Question 5**. Define a function ``array_front0(list1)`` that **returns** `True` if one of the first 4 elements in the array is a 0, or `False` otherwise. **Attention**: The array length may be less than 4.\n",
    "\n",
    "**Example** \n",
    "```py\n",
    "array_front0([1, 2, 0, 3, 4]) -> True\n",
    "array_front0([1, 2, 1, 3, 0]) -> False\n",
    "\n",
    "```"
   ]
  },
  {
   "cell_type": "code",
   "execution_count": 111,
   "id": "d72c2c49",
   "metadata": {
    "ExecuteTime": {
     "end_time": "2024-03-23T12:31:28.610642Z",
     "start_time": "2024-03-23T12:31:28.607098Z"
    },
    "deletable": false,
    "nbgrader": {
     "cell_type": "code",
     "checksum": "b9f5e80daedf4c13e48147f502a217be",
     "grade": false,
     "grade_id": "cell-2952ac060c8a7caf",
     "locked": false,
     "schema_version": 3,
     "solution": true,
     "task": false
    }
   },
   "outputs": [],
   "source": [
    "def array_front0(list1):\n",
    "    count = 0\n",
    "    if len(list1) < 4:\n",
    "        for i in list1:\n",
    "            if i == 0:\n",
    "                count += 1\n",
    "    else:\n",
    "        for i in list1[:4]:\n",
    "            if i == 0:\n",
    "                count += 1\n",
    "    if count == 1:\n",
    "        return True\n",
    "    else: \n",
    "        return False"
   ]
  },
  {
   "cell_type": "code",
   "execution_count": 108,
   "id": "b258c27a",
   "metadata": {
    "ExecuteTime": {
     "end_time": "2024-03-23T12:30:52.822685Z",
     "start_time": "2024-03-23T12:30:52.819425Z"
    }
   },
   "outputs": [
    {
     "data": {
      "text/plain": [
       "False"
      ]
     },
     "execution_count": 108,
     "metadata": {},
     "output_type": "execute_result"
    }
   ],
   "source": [
    "array_front0([1, 2, 1, 3, 0])"
   ]
  },
  {
   "cell_type": "code",
   "execution_count": 106,
   "id": "938f8d7d",
   "metadata": {
    "ExecuteTime": {
     "end_time": "2024-03-23T12:30:40.757102Z",
     "start_time": "2024-03-23T12:30:40.753682Z"
    }
   },
   "outputs": [
    {
     "data": {
      "text/plain": [
       "True"
      ]
     },
     "execution_count": 106,
     "metadata": {},
     "output_type": "execute_result"
    }
   ],
   "source": [
    "array_front0([1, 2, 0, 3, 4])"
   ]
  },
  {
   "cell_type": "code",
   "execution_count": 112,
   "id": "3a8d952a",
   "metadata": {
    "ExecuteTime": {
     "end_time": "2024-03-23T12:31:30.118564Z",
     "start_time": "2024-03-23T12:31:30.114829Z"
    }
   },
   "outputs": [
    {
     "data": {
      "text/plain": [
       "True"
      ]
     },
     "execution_count": 112,
     "metadata": {},
     "output_type": "execute_result"
    }
   ],
   "source": [
    "array_front0([1,2,0])"
   ]
  },
  {
   "cell_type": "code",
   "execution_count": null,
   "id": "f53c2c5f",
   "metadata": {
    "deletable": false,
    "editable": false,
    "nbgrader": {
     "cell_type": "code",
     "checksum": "11074416aaeea848bc55f82d8d1083a3",
     "grade": true,
     "grade_id": "cell-211a2bd36404dd9e",
     "locked": true,
     "points": 3,
     "schema_version": 3,
     "solution": false,
     "task": false
    }
   },
   "outputs": [],
   "source": []
  },
  {
   "cell_type": "code",
   "execution_count": null,
   "id": "90527788",
   "metadata": {
    "deletable": false,
    "editable": false,
    "nbgrader": {
     "cell_type": "code",
     "checksum": "d34528dbfb9b2fe5cb2a909354239b0a",
     "grade": true,
     "grade_id": "cell-b92c5d8087077ee6",
     "locked": true,
     "points": 3,
     "schema_version": 3,
     "solution": false,
     "task": false
    }
   },
   "outputs": [],
   "source": []
  },
  {
   "cell_type": "code",
   "execution_count": null,
   "id": "025b5db3",
   "metadata": {
    "deletable": false,
    "editable": false,
    "nbgrader": {
     "cell_type": "code",
     "checksum": "1bd374ba6af82d7a24819fc65d2711c6",
     "grade": true,
     "grade_id": "cell-dc14eec0dee85c2e",
     "locked": true,
     "points": 3,
     "schema_version": 3,
     "solution": false,
     "task": false
    }
   },
   "outputs": [],
   "source": []
  },
  {
   "cell_type": "code",
   "execution_count": null,
   "id": "27f8b6bf",
   "metadata": {
    "deletable": false,
    "editable": false,
    "nbgrader": {
     "cell_type": "code",
     "checksum": "83395d2f36d3fbbc3c91f8dbda381618",
     "grade": true,
     "grade_id": "cell-5e6e1290e36dcc34",
     "locked": true,
     "points": 3,
     "schema_version": 3,
     "solution": false,
     "task": false
    }
   },
   "outputs": [],
   "source": []
  },
  {
   "cell_type": "code",
   "execution_count": null,
   "id": "2a44a057",
   "metadata": {
    "deletable": false,
    "editable": false,
    "nbgrader": {
     "cell_type": "code",
     "checksum": "8db4813690b9b9349bbc8767d8e4e03d",
     "grade": true,
     "grade_id": "cell-698cde65075dd214",
     "locked": true,
     "points": 3,
     "schema_version": 3,
     "solution": false,
     "task": false
    }
   },
   "outputs": [],
   "source": []
  },
  {
   "cell_type": "markdown",
   "id": "3d32690c",
   "metadata": {
    "deletable": false,
    "editable": false,
    "nbgrader": {
     "cell_type": "markdown",
     "checksum": "7729a411863c28f41d91854f51c80b55",
     "grade": false,
     "grade_id": "cell-a096537819263cf7",
     "locked": true,
     "schema_version": 3,
     "solution": false,
     "task": false
    }
   },
   "source": [
    "**Question 5**. The function ``lucky888(list1)`` **returns** `True` if the sequence of numbers `8, 8, 8` appears in the list consecutively and `False` otherwise.\n",
    "\n",
    "**Example**\n",
    "```py\n",
    "lucky888([8, 1, 8, 8, 1]) -> False\n",
    "lucky888([8, 1]) -> False\n",
    "lucky888([0, 3, 4, 8, 8, 8, 1]) -> True\n",
    "```"
   ]
  },
  {
   "cell_type": "code",
   "execution_count": 48,
   "id": "aae9aaae",
   "metadata": {
    "ExecuteTime": {
     "end_time": "2024-03-23T12:11:13.040505Z",
     "start_time": "2024-03-23T12:11:13.037027Z"
    },
    "deletable": false,
    "nbgrader": {
     "cell_type": "code",
     "checksum": "73ad7ed93dd91fed2b14c5826526c990",
     "grade": false,
     "grade_id": "cell-0b6fe14e20e55602",
     "locked": false,
     "schema_version": 3,
     "solution": true,
     "task": false
    }
   },
   "outputs": [],
   "source": [
    "def lucky888(list1):\n",
    "    count = 0\n",
    "    if len(list1) >= 3:\n",
    "        for i in range(len(list1)-3):\n",
    "            if list1[i] == 8 and list1[i+1] == 8 and list1[i+2] == 8:\n",
    "                count += 1\n",
    "        if count >= 1:\n",
    "            return True\n",
    "        else:\n",
    "            return False\n",
    "    else:\n",
    "        return False"
   ]
  },
  {
   "cell_type": "code",
   "execution_count": 49,
   "id": "707e1a14",
   "metadata": {
    "ExecuteTime": {
     "end_time": "2024-03-23T12:11:19.566725Z",
     "start_time": "2024-03-23T12:11:19.562932Z"
    }
   },
   "outputs": [
    {
     "data": {
      "text/plain": [
       "False"
      ]
     },
     "execution_count": 49,
     "metadata": {},
     "output_type": "execute_result"
    }
   ],
   "source": [
    "lucky888([8, 1, 8, 8, 1])"
   ]
  },
  {
   "cell_type": "code",
   "execution_count": 51,
   "id": "06d92987",
   "metadata": {
    "ExecuteTime": {
     "end_time": "2024-03-23T12:11:32.427160Z",
     "start_time": "2024-03-23T12:11:32.423471Z"
    }
   },
   "outputs": [
    {
     "data": {
      "text/plain": [
       "True"
      ]
     },
     "execution_count": 51,
     "metadata": {},
     "output_type": "execute_result"
    }
   ],
   "source": [
    "lucky888([0, 3, 4, 8, 8, 8, 1])"
   ]
  },
  {
   "cell_type": "code",
   "execution_count": null,
   "id": "42eb9926",
   "metadata": {
    "deletable": false,
    "editable": false,
    "nbgrader": {
     "cell_type": "code",
     "checksum": "b18943d3ac458524221e7eb0fc452feb",
     "grade": true,
     "grade_id": "cell-cba02a28fba1067f",
     "locked": true,
     "points": 3,
     "schema_version": 3,
     "solution": false,
     "task": false
    }
   },
   "outputs": [],
   "source": []
  },
  {
   "cell_type": "code",
   "execution_count": 50,
   "id": "c7052863",
   "metadata": {
    "ExecuteTime": {
     "end_time": "2024-03-23T12:11:22.911735Z",
     "start_time": "2024-03-23T12:11:22.908398Z"
    }
   },
   "outputs": [
    {
     "data": {
      "text/plain": [
       "False"
      ]
     },
     "execution_count": 50,
     "metadata": {},
     "output_type": "execute_result"
    }
   ],
   "source": [
    "lucky888([8, 1])"
   ]
  },
  {
   "cell_type": "code",
   "execution_count": null,
   "id": "bec6950c",
   "metadata": {
    "deletable": false,
    "editable": false,
    "nbgrader": {
     "cell_type": "code",
     "checksum": "59e0693a3f067178f7c757998e2c56da",
     "grade": true,
     "grade_id": "cell-7cd649bb67da9af6",
     "locked": true,
     "points": 3,
     "schema_version": 3,
     "solution": false,
     "task": false
    }
   },
   "outputs": [],
   "source": []
  },
  {
   "cell_type": "code",
   "execution_count": null,
   "id": "7cacb33c",
   "metadata": {
    "deletable": false,
    "editable": false,
    "nbgrader": {
     "cell_type": "code",
     "checksum": "fe11c865f916a77439eaf5032ca2d061",
     "grade": true,
     "grade_id": "cell-01372a41bc2ca7da",
     "locked": true,
     "points": 3,
     "schema_version": 3,
     "solution": false,
     "task": false
    }
   },
   "outputs": [],
   "source": []
  },
  {
   "cell_type": "code",
   "execution_count": null,
   "id": "e31f9529",
   "metadata": {
    "deletable": false,
    "editable": false,
    "nbgrader": {
     "cell_type": "code",
     "checksum": "1259b6765e5909f4fe8fae273b3d1bb7",
     "grade": true,
     "grade_id": "cell-e02eeaa6bec0f5b7",
     "locked": true,
     "points": 3,
     "schema_version": 3,
     "solution": false,
     "task": false
    }
   },
   "outputs": [],
   "source": []
  },
  {
   "cell_type": "code",
   "execution_count": null,
   "id": "b8e1eb42",
   "metadata": {
    "deletable": false,
    "editable": false,
    "nbgrader": {
     "cell_type": "code",
     "checksum": "28c20d354807d3e8cf13ccb836e621f8",
     "grade": true,
     "grade_id": "cell-cd8202994e97e7f8",
     "locked": true,
     "points": 3,
     "schema_version": 3,
     "solution": false,
     "task": false
    }
   },
   "outputs": [],
   "source": []
  }
 ],
 "metadata": {
  "kernelspec": {
   "display_name": "Python 3 (ipykernel)",
   "language": "python",
   "name": "python3"
  },
  "language_info": {
   "codemirror_mode": {
    "name": "ipython",
    "version": 3
   },
   "file_extension": ".py",
   "mimetype": "text/x-python",
   "name": "python",
   "nbconvert_exporter": "python",
   "pygments_lexer": "ipython3",
   "version": "3.8.10"
  },
  "latex_envs": {
   "LaTeX_envs_menu_present": true,
   "autoclose": false,
   "autocomplete": true,
   "bibliofile": "biblio.bib",
   "cite_by": "apalike",
   "current_citInitial": 1,
   "eqLabelWithNumbers": true,
   "eqNumInitial": 1,
   "hotkeys": {
    "equation": "Ctrl-E",
    "itemize": "Ctrl-I"
   },
   "labels_anchors": false,
   "latex_user_defs": false,
   "report_style_numbering": false,
   "user_envs_cfg": false
  },
  "toc": {
   "base_numbering": 1,
   "nav_menu": {},
   "number_sections": true,
   "sideBar": true,
   "skip_h1_title": false,
   "title_cell": "Table of Contents",
   "title_sidebar": "Contents",
   "toc_cell": false,
   "toc_position": {},
   "toc_section_display": true,
   "toc_window_display": false
  }
 },
 "nbformat": 4,
 "nbformat_minor": 5
}
