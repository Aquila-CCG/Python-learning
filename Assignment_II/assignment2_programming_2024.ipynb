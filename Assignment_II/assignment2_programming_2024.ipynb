{
 "cells": [
  {
   "cell_type": "markdown",
   "id": "bbf2aa51",
   "metadata": {},
   "source": [
    "Before you turn this problem in, make sure everything runs as expected. First, **restart the kernel** (in the menubar, select Kernel$\\rightarrow$Restart) and then **run all cells** (in the menubar, select Cell$\\rightarrow$Run All).\n",
    "\n",
    "Make sure you fill in any place that says `YOUR CODE HERE` or \"YOUR ANSWER HERE\", as well as your name and collaborators below:"
   ]
  },
  {
   "cell_type": "code",
   "execution_count": null,
   "id": "1f839f34",
   "metadata": {},
   "outputs": [],
   "source": [
    "NAME = \"\"\n",
    "COLLABORATORS = \"\""
   ]
  },
  {
   "cell_type": "markdown",
   "id": "f8c4c748",
   "metadata": {},
   "source": [
    "---"
   ]
  },
  {
   "cell_type": "markdown",
   "id": "5fbed3ad",
   "metadata": {
    "deletable": false,
    "editable": false,
    "nbgrader": {
     "cell_type": "markdown",
     "checksum": "f3f4f12f73974f88b2221ed5d745bd98",
     "grade": false,
     "grade_id": "cell-28754398b154d4ef",
     "locked": true,
     "schema_version": 3,
     "solution": false,
     "task": false
    }
   },
   "source": [
    "# Programming Assignment 2\n",
    "\n",
    "\n",
    "This is the programming part of your Assignment 2. \n",
    "Together with the multiple choice (check on iSpace), it accounts for maximum 10% of the final grade.\n",
    "\n",
    "**Note**\n",
    "* Write your code after you see `# YOUR CODE HERE` \n",
    "* Read the instruction of each question. You have a **limited time to submit: Friday 10 May, 5pm**. Only your last submission counts. After the deadline, submission is **not** possible\n",
    "* This assignment will be **auto-graded**. \n",
    "* For each exercise example, the symbol `->` indicates the value the function should return."
   ]
  },
  {
   "cell_type": "markdown",
   "id": "283da347",
   "metadata": {
    "deletable": false,
    "editable": false,
    "nbgrader": {
     "cell_type": "markdown",
     "checksum": "809e13e133baa50bb6e733fa9b9f649e",
     "grade": false,
     "grade_id": "cell-5a15f1f007dd813d",
     "locked": true,
     "schema_version": 3,
     "solution": false,
     "task": false
    }
   },
   "source": [
    "**Question 1 (15 points)** . Define a function ``get_title(movielist)`` that **returns** a new list of movies with (year) removed. `movielist` contains titles of movie as string and year is always written as 4 digits within parathesis at the end of the title. For example 'Transformers (2007)'\n",
    "\n",
    "\n",
    "**Example**\n",
    "```py\n",
    "get_title(['Transformers (2007)']) -> ['Transformers']\n",
    "\n",
    "movies1 = ['Transformers (2007)',\n",
    " 'Star Trek (2009)',\n",
    " \"Schindler's List (1993)\",\n",
    " 'Ip Man (2008)',\n",
    " 'Casino Royale (2006)',\n",
    " 'Back to the Future (1985)',\n",
    " 'Moon (2009)']\n",
    " \n",
    "get_title(movies1) -> \n",
    "['Transformers',\n",
    " 'Star Trek',\n",
    " \"Schindler's List\",\n",
    " 'Ip Man',\n",
    " 'Casino Royale',\n",
    " 'Back to the Future',\n",
    " 'Moon']\n",
    "\n",
    "```"
   ]
  },
  {
   "cell_type": "code",
   "execution_count": 1,
   "id": "4688dcc9",
   "metadata": {
    "ExecuteTime": {
     "end_time": "2024-04-25T12:38:01.459521Z",
     "start_time": "2024-04-25T12:38:01.456369Z"
    },
    "deletable": false,
    "nbgrader": {
     "cell_type": "code",
     "checksum": "ea6e592d02a00ed6f51a1a79eb81d91a",
     "grade": false,
     "grade_id": "cell-f71f1c2fb0702981",
     "locked": false,
     "schema_version": 3,
     "solution": true,
     "task": false
    }
   },
   "outputs": [],
   "source": [
    "def get_title(movielist):\n",
    "    result = []\n",
    "    for movie in movielist:\n",
    "        movie = movie[:-7]\n",
    "        result.append(movie)\n",
    "    return result"
   ]
  },
  {
   "cell_type": "code",
   "execution_count": 3,
   "id": "2aa6b71d",
   "metadata": {
    "ExecuteTime": {
     "end_time": "2024-04-25T12:38:38.973282Z",
     "start_time": "2024-04-25T12:38:38.965167Z"
    }
   },
   "outputs": [
    {
     "data": {
      "text/plain": [
       "['Transformers',\n",
       " 'Star Trek',\n",
       " \"Schindler's List\",\n",
       " 'Ip Man',\n",
       " 'Casino Royale',\n",
       " 'Back to the Future',\n",
       " 'Moon']"
      ]
     },
     "execution_count": 3,
     "metadata": {},
     "output_type": "execute_result"
    }
   ],
   "source": [
    "movies1 = ['Transformers (2007)',\n",
    " 'Star Trek (2009)',\n",
    " \"Schindler's List (1993)\",\n",
    " 'Ip Man (2008)',\n",
    " 'Casino Royale (2006)',\n",
    " 'Back to the Future (1985)',\n",
    " 'Moon (2009)']\n",
    "get_title(movies1)"
   ]
  },
  {
   "cell_type": "code",
   "execution_count": null,
   "id": "cc812dd5",
   "metadata": {
    "deletable": false,
    "editable": false,
    "nbgrader": {
     "cell_type": "code",
     "checksum": "66b2b07d4ea7450360b2367adc5bab6e",
     "grade": true,
     "grade_id": "cell-4813f13608166466",
     "locked": true,
     "points": 5,
     "schema_version": 3,
     "solution": false,
     "task": false
    }
   },
   "outputs": [],
   "source": []
  },
  {
   "cell_type": "code",
   "execution_count": null,
   "id": "c4369293",
   "metadata": {
    "ExecuteTime": {
     "end_time": "2024-04-23T08:01:33.343184Z",
     "start_time": "2024-04-23T08:01:33.340937Z"
    },
    "deletable": false,
    "editable": false,
    "nbgrader": {
     "cell_type": "code",
     "checksum": "ab930f37539009aee621a039c56cf467",
     "grade": true,
     "grade_id": "cell-25754f1ce9d0c9f6",
     "locked": true,
     "points": 3,
     "schema_version": 3,
     "solution": false,
     "task": false
    }
   },
   "outputs": [],
   "source": []
  },
  {
   "cell_type": "code",
   "execution_count": null,
   "id": "24016406",
   "metadata": {
    "deletable": false,
    "editable": false,
    "nbgrader": {
     "cell_type": "code",
     "checksum": "416f461d5320870e13f8ca8a9e815e78",
     "grade": true,
     "grade_id": "cell-ba98ce209bd9ee3f",
     "locked": true,
     "points": 7,
     "schema_version": 3,
     "solution": false,
     "task": false
    }
   },
   "outputs": [],
   "source": []
  },
  {
   "cell_type": "markdown",
   "id": "38d8041f",
   "metadata": {
    "deletable": false,
    "editable": false,
    "nbgrader": {
     "cell_type": "markdown",
     "checksum": "c548193e18ef1e85e7e43c25f28bab27",
     "grade": false,
     "grade_id": "cell-610c1a478cfae910",
     "locked": true,
     "schema_version": 3,
     "solution": false,
     "task": false
    }
   },
   "source": [
    "**Question 2 (15 points)**. Define the function `intersect_list(list1, list2)` that **returns** a list whose element are common elements between `list1` and `list2` without duplicates. You may want to convert `list1` and `list2` to set first.\n",
    "\n",
    "**Examples**\n",
    "```py\n",
    "list1 = [1, 2, 3, 4, 5]\n",
    "list2 = [5, 6, 7, 8, 9]\n",
    "intersect_list(list1, list2) -> [5]\n",
    "\n",
    "list3 = [1, 2, 3, 4, 5, 5, 6, 7]\n",
    "list4 = [5, 5, 6, 7, 8, 9]\n",
    "intersect_list(list3, list4) -> [5, 6, 7]\n",
    "```"
   ]
  },
  {
   "cell_type": "code",
   "execution_count": 4,
   "id": "e3967139",
   "metadata": {
    "ExecuteTime": {
     "end_time": "2024-04-25T12:43:38.897615Z",
     "start_time": "2024-04-25T12:43:38.894648Z"
    },
    "deletable": false,
    "nbgrader": {
     "cell_type": "code",
     "checksum": "85f0dd9afb6c6619c60bb790eff4e0d5",
     "grade": false,
     "grade_id": "cell-6e707741f13cdab8",
     "locked": false,
     "schema_version": 3,
     "solution": true,
     "task": false
    }
   },
   "outputs": [],
   "source": [
    "def intersect_list(list1, list2):\n",
    "    result = []\n",
    "    for i in list1:\n",
    "        if i in list2:\n",
    "            result.append(i)\n",
    "    return list(set(result))"
   ]
  },
  {
   "cell_type": "code",
   "execution_count": 5,
   "id": "bff9c838",
   "metadata": {
    "ExecuteTime": {
     "end_time": "2024-04-25T12:43:48.619492Z",
     "start_time": "2024-04-25T12:43:48.615513Z"
    }
   },
   "outputs": [
    {
     "data": {
      "text/plain": [
       "[5]"
      ]
     },
     "execution_count": 5,
     "metadata": {},
     "output_type": "execute_result"
    }
   ],
   "source": [
    "list1 = [1, 2, 3, 4, 5]\n",
    "list2 = [5, 6, 7, 8, 9]\n",
    "intersect_list(list1, list2)"
   ]
  },
  {
   "cell_type": "code",
   "execution_count": 6,
   "id": "ec6d0765",
   "metadata": {
    "ExecuteTime": {
     "end_time": "2024-04-25T12:43:58.549439Z",
     "start_time": "2024-04-25T12:43:58.545613Z"
    }
   },
   "outputs": [
    {
     "data": {
      "text/plain": [
       "[5, 6, 7]"
      ]
     },
     "execution_count": 6,
     "metadata": {},
     "output_type": "execute_result"
    }
   ],
   "source": [
    "list3 = [1, 2, 3, 4, 5, 5, 6, 7]\n",
    "list4 = [5, 5, 6, 7, 8, 9]\n",
    "intersect_list(list3, list4)"
   ]
  },
  {
   "cell_type": "code",
   "execution_count": null,
   "id": "2e8ea7cf",
   "metadata": {
    "ExecuteTime": {
     "end_time": "2024-04-23T08:04:32.820447Z",
     "start_time": "2024-04-23T08:04:32.817355Z"
    },
    "deletable": false,
    "editable": false,
    "nbgrader": {
     "cell_type": "code",
     "checksum": "34a32b0c28f4a81506229ec84e8f74c5",
     "grade": true,
     "grade_id": "cell-9300bf37506a0cca",
     "locked": true,
     "points": 3,
     "schema_version": 3,
     "solution": false,
     "task": false
    }
   },
   "outputs": [],
   "source": []
  },
  {
   "cell_type": "code",
   "execution_count": null,
   "id": "dd84f1a2",
   "metadata": {
    "deletable": false,
    "editable": false,
    "nbgrader": {
     "cell_type": "code",
     "checksum": "d494abf3369d859e7a9ff4ed3ee861b1",
     "grade": true,
     "grade_id": "cell-5b0f85ba41ba2ee4",
     "locked": true,
     "points": 5,
     "schema_version": 3,
     "solution": false,
     "task": false
    }
   },
   "outputs": [],
   "source": []
  },
  {
   "cell_type": "code",
   "execution_count": null,
   "id": "37b56d6c",
   "metadata": {
    "deletable": false,
    "editable": false,
    "nbgrader": {
     "cell_type": "code",
     "checksum": "5d5eebb24060cbbf2184b58c1cd0caa3",
     "grade": true,
     "grade_id": "cell-b469623efc150476",
     "locked": true,
     "points": 7,
     "schema_version": 3,
     "solution": false,
     "task": false
    }
   },
   "outputs": [],
   "source": []
  },
  {
   "cell_type": "markdown",
   "id": "600348cb",
   "metadata": {
    "deletable": false,
    "editable": false,
    "nbgrader": {
     "cell_type": "markdown",
     "checksum": "d8dd6026bf684954cb02b66a9a0b99fa",
     "grade": false,
     "grade_id": "cell-cf036bfc71613cb7",
     "locked": true,
     "schema_version": 3,
     "solution": false,
     "task": false
    }
   },
   "source": [
    "**Question 3 (10 points)**. Define the function `in_dict(dict_arg, value)` that **returns** a boolean `True` if `value` exists in `dict_arg` and `False` if the `value` is not in `dict_arg`.\n",
    "\n",
    "**Examples**\n",
    "```py\n",
    "sample_dict = {'a': 100, 'b': 200, 'c': 300}\n",
    "\n",
    "in_dict(sample_dict, 100) -> True\n",
    "in_dict(sample_dict, 110) -> False\n",
    "\n",
    "```"
   ]
  },
  {
   "cell_type": "code",
   "execution_count": 7,
   "id": "72625ae9",
   "metadata": {
    "ExecuteTime": {
     "end_time": "2024-04-25T12:45:18.705908Z",
     "start_time": "2024-04-25T12:45:18.703088Z"
    },
    "deletable": false,
    "nbgrader": {
     "cell_type": "code",
     "checksum": "dbb6ef663f80927026f2676530834065",
     "grade": false,
     "grade_id": "cell-409b83d96a19a48c",
     "locked": false,
     "schema_version": 3,
     "solution": true,
     "task": false
    }
   },
   "outputs": [],
   "source": [
    "def in_dict(dict_arg, value):\n",
    "    if value in dict_arg.values():\n",
    "        return True\n",
    "    else:\n",
    "        return False"
   ]
  },
  {
   "cell_type": "code",
   "execution_count": 8,
   "id": "6e0310fb",
   "metadata": {
    "ExecuteTime": {
     "end_time": "2024-04-25T12:45:31.097101Z",
     "start_time": "2024-04-25T12:45:31.093519Z"
    }
   },
   "outputs": [
    {
     "data": {
      "text/plain": [
       "True"
      ]
     },
     "execution_count": 8,
     "metadata": {},
     "output_type": "execute_result"
    }
   ],
   "source": [
    "sample_dict = {'a': 100, 'b': 200, 'c': 300}\n",
    "in_dict(sample_dict, 100)"
   ]
  },
  {
   "cell_type": "code",
   "execution_count": 9,
   "id": "5e393dea",
   "metadata": {
    "ExecuteTime": {
     "end_time": "2024-04-25T12:45:43.150630Z",
     "start_time": "2024-04-25T12:45:43.147162Z"
    }
   },
   "outputs": [
    {
     "data": {
      "text/plain": [
       "False"
      ]
     },
     "execution_count": 9,
     "metadata": {},
     "output_type": "execute_result"
    }
   ],
   "source": [
    "in_dict(sample_dict, 110)"
   ]
  },
  {
   "cell_type": "code",
   "execution_count": null,
   "id": "17df69aa",
   "metadata": {
    "deletable": false,
    "editable": false,
    "nbgrader": {
     "cell_type": "code",
     "checksum": "acf1879cee9bf06aef6acb4536493f9e",
     "grade": true,
     "grade_id": "cell-c290d2bf7f3c1ed6",
     "locked": true,
     "points": 5,
     "schema_version": 3,
     "solution": false,
     "task": false
    }
   },
   "outputs": [],
   "source": []
  },
  {
   "cell_type": "code",
   "execution_count": null,
   "id": "ebfa129f",
   "metadata": {
    "deletable": false,
    "editable": false,
    "nbgrader": {
     "cell_type": "code",
     "checksum": "7d0a2f219f507b9c11ced0bed84cdedd",
     "grade": true,
     "grade_id": "cell-9873f99e19f02816",
     "locked": true,
     "points": 5,
     "schema_version": 3,
     "solution": false,
     "task": false
    }
   },
   "outputs": [],
   "source": []
  },
  {
   "cell_type": "markdown",
   "id": "f8123b1a",
   "metadata": {
    "deletable": false,
    "editable": false,
    "nbgrader": {
     "cell_type": "markdown",
     "checksum": "018f958b607c6834f88b946c893e7e12",
     "grade": false,
     "grade_id": "cell-bd0445f1c82989f7",
     "locked": true,
     "schema_version": 3,
     "solution": false,
     "task": false
    }
   },
   "source": [
    "**Question 4 (15 points)**. Define the function `mean_val(dict_arg)` that **returns** the average of all the values in `dict_arg`.\n",
    "\n",
    "**Examples**\n",
    "```py\n",
    "dict_arg = {'bad': 1, 'ok': 2, 'good': 3, 'best': 4, 'geek': 5}\n",
    "mean_val(dict_arg) -> 3.0\n",
    "```"
   ]
  },
  {
   "cell_type": "code",
   "execution_count": 12,
   "id": "c79fc264",
   "metadata": {
    "ExecuteTime": {
     "end_time": "2024-04-25T12:48:08.937969Z",
     "start_time": "2024-04-25T12:48:08.935158Z"
    },
    "deletable": false,
    "nbgrader": {
     "cell_type": "code",
     "checksum": "a13389fe8b29db800f58793cd7a5a6e5",
     "grade": false,
     "grade_id": "cell-a4d136d88edc9a3a",
     "locked": false,
     "schema_version": 3,
     "solution": true,
     "task": false
    }
   },
   "outputs": [],
   "source": [
    "def mean_val(dict_arg):\n",
    "    total = 0\n",
    "    for i in dict_arg.values():\n",
    "        total += i\n",
    "    return total/(len(dict_arg))"
   ]
  },
  {
   "cell_type": "code",
   "execution_count": 13,
   "id": "9818e052",
   "metadata": {
    "ExecuteTime": {
     "end_time": "2024-04-25T12:48:10.025449Z",
     "start_time": "2024-04-25T12:48:10.021118Z"
    }
   },
   "outputs": [
    {
     "data": {
      "text/plain": [
       "3.0"
      ]
     },
     "execution_count": 13,
     "metadata": {},
     "output_type": "execute_result"
    }
   ],
   "source": [
    "dict_arg = {'bad': 1, 'ok': 2, 'good': 3, 'best': 4, 'geek': 5}\n",
    "mean_val(dict_arg)"
   ]
  },
  {
   "cell_type": "code",
   "execution_count": null,
   "id": "3f8bd706",
   "metadata": {
    "ExecuteTime": {
     "end_time": "2024-04-23T08:10:52.853681Z",
     "start_time": "2024-04-23T08:10:52.850943Z"
    },
    "deletable": false,
    "editable": false,
    "nbgrader": {
     "cell_type": "code",
     "checksum": "cd4caf8f89fd96894d19ec2b2fb52821",
     "grade": true,
     "grade_id": "cell-51a642396f74569d",
     "locked": true,
     "points": 5,
     "schema_version": 3,
     "solution": false,
     "task": false
    }
   },
   "outputs": [],
   "source": []
  },
  {
   "cell_type": "code",
   "execution_count": null,
   "id": "352c67c3",
   "metadata": {
    "deletable": false,
    "editable": false,
    "nbgrader": {
     "cell_type": "code",
     "checksum": "4ad320431615e39a13941ecfd0408c36",
     "grade": true,
     "grade_id": "cell-6da1ce7f1fba7ce2",
     "locked": true,
     "points": 5,
     "schema_version": 3,
     "solution": false,
     "task": false
    }
   },
   "outputs": [],
   "source": []
  },
  {
   "cell_type": "code",
   "execution_count": null,
   "id": "0376dc87",
   "metadata": {
    "deletable": false,
    "editable": false,
    "nbgrader": {
     "cell_type": "code",
     "checksum": "59a304aab2c8706196617e80977a1d98",
     "grade": true,
     "grade_id": "cell-b6f2485fec1d7c39",
     "locked": true,
     "points": 5,
     "schema_version": 3,
     "solution": false,
     "task": false
    }
   },
   "outputs": [],
   "source": []
  },
  {
   "cell_type": "markdown",
   "id": "35a92156",
   "metadata": {
    "deletable": false,
    "editable": false,
    "nbgrader": {
     "cell_type": "markdown",
     "checksum": "c2ceee720f4aa7499350348ebcf5ff85",
     "grade": false,
     "grade_id": "cell-4fe9407b771ad11d",
     "locked": true,
     "schema_version": 3,
     "solution": false,
     "task": false
    }
   },
   "source": [
    "**Question 5 (15 points)**. Define the function `merge_dict(dict1, dict2)` that **returns** the two dictionary inputs merged into one dictionary. Assume that if a key appears in both `dict1` and `dict2`, it has the same value in both dictionaries. \n",
    "\n",
    "**Examples**\n",
    "```py\n",
    "dict1 = {'Ten': 10, 'Twenty': 20, 'Thirty': 30}\n",
    "dict2 = {'Thirty': 30, 'Fourty': 40, 'Fifty': 50}\n",
    "\n",
    "Expected output:\n",
    "{'Ten': 10, 'Twenty': 20, 'Thirty': 30, 'Fourty': 40, 'Fifty': 50}\n",
    "```"
   ]
  },
  {
   "cell_type": "code",
   "execution_count": 60,
   "id": "2ec924d1",
   "metadata": {
    "ExecuteTime": {
     "end_time": "2024-04-27T02:20:39.305666Z",
     "start_time": "2024-04-27T02:20:39.302587Z"
    },
    "deletable": false,
    "nbgrader": {
     "cell_type": "code",
     "checksum": "ee03835eb1d429e55a48cf25c1eaa645",
     "grade": false,
     "grade_id": "cell-4d965deb26c3e5ed",
     "locked": false,
     "schema_version": 3,
     "solution": true,
     "task": false
    }
   },
   "outputs": [],
   "source": [
    "def merge_dict(dict1, dict2):\n",
    "    for key in dict2.keys():\n",
    "        dict1[key] = dict2[key]\n",
    "    return dict1      "
   ]
  },
  {
   "cell_type": "code",
   "execution_count": 61,
   "id": "5fb6cca2",
   "metadata": {
    "ExecuteTime": {
     "end_time": "2024-04-27T02:20:40.544380Z",
     "start_time": "2024-04-27T02:20:40.540512Z"
    }
   },
   "outputs": [
    {
     "data": {
      "text/plain": [
       "{'Ten': 10, 'Twenty': 20, 'Thirty': 30, 'Fourty': 40, 'Fifty': 50}"
      ]
     },
     "execution_count": 61,
     "metadata": {},
     "output_type": "execute_result"
    }
   ],
   "source": [
    "dict1 = {'Ten': 10, 'Twenty': 20, 'Thirty': 30}\n",
    "dict2 = {'Thirty': 30, 'Fourty': 40, 'Fifty': 50}\n",
    "merge_dict(dict1, dict2)"
   ]
  },
  {
   "cell_type": "code",
   "execution_count": null,
   "id": "f81e2f70",
   "metadata": {
    "deletable": false,
    "editable": false,
    "nbgrader": {
     "cell_type": "code",
     "checksum": "5d03cf0bbf346b4721ac8f1909afb994",
     "grade": true,
     "grade_id": "cell-23eda04cb9e1c804",
     "locked": true,
     "points": 8,
     "schema_version": 3,
     "solution": false,
     "task": false
    }
   },
   "outputs": [],
   "source": []
  },
  {
   "cell_type": "code",
   "execution_count": null,
   "id": "1dbee131",
   "metadata": {
    "deletable": false,
    "editable": false,
    "nbgrader": {
     "cell_type": "code",
     "checksum": "285ee98fcaf46c9b4edad0d00d766ca4",
     "grade": true,
     "grade_id": "cell-ffa2aed6a89f0873",
     "locked": true,
     "points": 7,
     "schema_version": 3,
     "solution": false,
     "task": false
    }
   },
   "outputs": [],
   "source": []
  },
  {
   "cell_type": "markdown",
   "id": "ca1d7089",
   "metadata": {
    "deletable": false,
    "editable": false,
    "nbgrader": {
     "cell_type": "markdown",
     "checksum": "de7d418801e0961fa48b57aa35fb9929",
     "grade": false,
     "grade_id": "cell-0372802d5ddf83a7",
     "locked": true,
     "schema_version": 3,
     "solution": false,
     "task": false
    }
   },
   "source": [
    "**Question 6 (20 points)**. Define the function `high_unique_key(dict_arg)` where `dict_arg` is a dictionary with key-value pairs that are of type string-list. The function **returns** the key of `dict_arg` associated with the value list that has the most unique elements. In case of equal value, any of the keys with max value can be returned.\n",
    "\n",
    "**Examples**\n",
    "```py\n",
    "dict_arg = {'key1': [5, 7, 9, 4, 0], 'key2': [6, 7, 4, 3, 3], 'key3': [9, 9, 9, 5, 5, 5, 5, 5]}\n",
    "high_unique_key(dict_arg) -> \"key1\"\n",
    "```"
   ]
  },
  {
   "cell_type": "code",
   "execution_count": 29,
   "id": "667d163f",
   "metadata": {
    "ExecuteTime": {
     "end_time": "2024-04-25T13:04:27.865589Z",
     "start_time": "2024-04-25T13:04:27.862624Z"
    },
    "deletable": false,
    "nbgrader": {
     "cell_type": "code",
     "checksum": "3bf11ebcb620af99afc00d62d1903409",
     "grade": false,
     "grade_id": "cell-f64bd780556295a9",
     "locked": false,
     "schema_version": 3,
     "solution": true,
     "task": false
    }
   },
   "outputs": [],
   "source": [
    "def high_unique_key(dict_arg):\n",
    "    max = 0\n",
    "    for key,value in dict_arg.items():\n",
    "        a = len(set(value))\n",
    "        if a >= max:\n",
    "            result = key\n",
    "            max = len(set(value))\n",
    "            \n",
    "    return result\n",
    "            \n",
    "        "
   ]
  },
  {
   "cell_type": "code",
   "execution_count": 30,
   "id": "666c4ca0",
   "metadata": {
    "ExecuteTime": {
     "end_time": "2024-04-25T13:05:05.032614Z",
     "start_time": "2024-04-25T13:05:05.028408Z"
    }
   },
   "outputs": [
    {
     "data": {
      "text/plain": [
       "'key1'"
      ]
     },
     "execution_count": 30,
     "metadata": {},
     "output_type": "execute_result"
    }
   ],
   "source": [
    "dict_arg = {'key1': [5, 7, 9, 4, 0], 'key2': [6, 7, 4, 3, 3], 'key3': [9, 9, 9, 5, 5, 5, 5, 5]}\n",
    "high_unique_key(dict_arg)"
   ]
  },
  {
   "cell_type": "code",
   "execution_count": null,
   "id": "ea547f3c",
   "metadata": {
    "ExecuteTime": {
     "end_time": "2024-04-23T08:15:40.839915Z",
     "start_time": "2024-04-23T08:15:40.837221Z"
    },
    "deletable": false,
    "editable": false,
    "nbgrader": {
     "cell_type": "code",
     "checksum": "58310840b6ed663d8e4cc44e846b55b2",
     "grade": true,
     "grade_id": "cell-7d1465fff933ab51",
     "locked": true,
     "points": 5,
     "schema_version": 3,
     "solution": false,
     "task": false
    }
   },
   "outputs": [],
   "source": []
  },
  {
   "cell_type": "code",
   "execution_count": null,
   "id": "129754a3",
   "metadata": {
    "ExecuteTime": {
     "end_time": "2024-04-23T08:15:56.499918Z",
     "start_time": "2024-04-23T08:15:56.496772Z"
    },
    "deletable": false,
    "editable": false,
    "nbgrader": {
     "cell_type": "code",
     "checksum": "9b1e6b1269684166b49293acd1f12d84",
     "grade": true,
     "grade_id": "cell-ff046c7be8a38dcb",
     "locked": true,
     "points": 5,
     "schema_version": 3,
     "solution": false,
     "task": false
    }
   },
   "outputs": [],
   "source": []
  },
  {
   "cell_type": "code",
   "execution_count": null,
   "id": "0decba04",
   "metadata": {
    "ExecuteTime": {
     "end_time": "2024-04-23T08:15:57.149045Z",
     "start_time": "2024-04-23T08:15:57.146102Z"
    },
    "deletable": false,
    "editable": false,
    "nbgrader": {
     "cell_type": "code",
     "checksum": "b48f3865a2868bf233e732d184ec7504",
     "grade": true,
     "grade_id": "cell-c52f522a125ec7c6",
     "locked": true,
     "points": 5,
     "schema_version": 3,
     "solution": false,
     "task": false
    }
   },
   "outputs": [],
   "source": []
  },
  {
   "cell_type": "code",
   "execution_count": null,
   "id": "7cc15413",
   "metadata": {
    "ExecuteTime": {
     "end_time": "2024-04-23T08:15:57.585028Z",
     "start_time": "2024-04-23T08:15:57.582006Z"
    },
    "deletable": false,
    "editable": false,
    "nbgrader": {
     "cell_type": "code",
     "checksum": "05f2098889351b37250fc8830548475e",
     "grade": true,
     "grade_id": "cell-4da5c357ee22a1a6",
     "locked": true,
     "points": 5,
     "schema_version": 3,
     "solution": false,
     "task": false
    }
   },
   "outputs": [],
   "source": []
  },
  {
   "cell_type": "markdown",
   "id": "036b0f0a",
   "metadata": {},
   "source": [
    "**Question 7 (10 points)**. Define the function `grades(list1, list2)` where `list1` is a list of names and `list2` is a list of GPA. The function returns a dictionary with elements of `list1` as key and elements of `list2` as value. Assume `list1` and `list2` have the same length.\n",
    "\n",
    "**Examples:**\n",
    "```py\n",
    "    list1 = [\"mark\", \"sarah\", \"jie\", \"long\", \"xia\"]\n",
    "    list2 = [100, 20, 20, 11, 40]\n",
    "    grades(list1, list2) -> {'mark': 100, 'sarah': 20, 'jie': 20, 'long': 11, 'xia': 40}\n",
    "```\n",
    "   \n",
    "\n"
   ]
  },
  {
   "cell_type": "code",
   "execution_count": 47,
   "id": "eec234c3",
   "metadata": {
    "ExecuteTime": {
     "end_time": "2024-04-27T02:13:34.466320Z",
     "start_time": "2024-04-27T02:13:34.463639Z"
    },
    "deletable": false,
    "nbgrader": {
     "cell_type": "code",
     "checksum": "de3a59db3134347e2600cc96f06fec01",
     "grade": false,
     "grade_id": "cell-6244eaae1d60f3a3",
     "locked": false,
     "schema_version": 3,
     "solution": true,
     "task": false
    }
   },
   "outputs": [],
   "source": [
    "def grades(list1, list2):\n",
    "    return dict(zip(list1, list2))"
   ]
  },
  {
   "cell_type": "code",
   "execution_count": 48,
   "id": "45fe50d2",
   "metadata": {
    "ExecuteTime": {
     "end_time": "2024-04-27T02:13:34.918195Z",
     "start_time": "2024-04-27T02:13:34.914420Z"
    }
   },
   "outputs": [
    {
     "data": {
      "text/plain": [
       "{'mark': 100, 'sarah': 20, 'jie': 20, 'long': 11, 'xia': 40}"
      ]
     },
     "execution_count": 48,
     "metadata": {},
     "output_type": "execute_result"
    }
   ],
   "source": [
    "list1 = [\"mark\", \"sarah\", \"jie\", \"long\", \"xia\"]\n",
    "list2 = [100, 20, 20, 11, 40]\n",
    "grades(list1, list2)"
   ]
  },
  {
   "cell_type": "code",
   "execution_count": 49,
   "id": "ddced6d7",
   "metadata": {
    "ExecuteTime": {
     "end_time": "2024-04-27T02:13:35.386207Z",
     "start_time": "2024-04-27T02:13:35.382602Z"
    }
   },
   "outputs": [
    {
     "data": {
      "text/plain": [
       "{'pig': 300, 'cat': 22, 'dog': 14, 'hourse': 77}"
      ]
     },
     "execution_count": 49,
     "metadata": {},
     "output_type": "execute_result"
    }
   ],
   "source": [
    "list1 = ['pig', 'cat', 'dog', 'hourse']\n",
    "list2 = [300, 22, 14, 77 ]\n",
    "grades(list1, list2)"
   ]
  },
  {
   "cell_type": "code",
   "execution_count": null,
   "id": "7ed85106",
   "metadata": {
    "ExecuteTime": {
     "end_time": "2024-04-24T03:48:51.866057Z",
     "start_time": "2024-04-24T03:48:51.863294Z"
    },
    "deletable": false,
    "editable": false,
    "nbgrader": {
     "cell_type": "code",
     "checksum": "4456b7fa305c05ef2bd2f05433ffa669",
     "grade": true,
     "grade_id": "cell-c1b6b8536d4a2531",
     "locked": true,
     "points": 5,
     "schema_version": 3,
     "solution": false,
     "task": false
    }
   },
   "outputs": [],
   "source": []
  },
  {
   "cell_type": "code",
   "execution_count": null,
   "id": "3462c71f",
   "metadata": {
    "ExecuteTime": {
     "end_time": "2024-04-24T03:48:52.324238Z",
     "start_time": "2024-04-24T03:48:52.320982Z"
    },
    "deletable": false,
    "editable": false,
    "nbgrader": {
     "cell_type": "code",
     "checksum": "87ff4fa08592fe22bee4a9ee05512171",
     "grade": true,
     "grade_id": "cell-00f6813fb21572f0",
     "locked": true,
     "points": 5,
     "schema_version": 3,
     "solution": false,
     "task": false
    }
   },
   "outputs": [],
   "source": []
  },
  {
   "cell_type": "code",
   "execution_count": null,
   "id": "2b5bbee8",
   "metadata": {},
   "outputs": [],
   "source": []
  }
 ],
 "metadata": {
  "kernelspec": {
   "display_name": "Python 3 (ipykernel)",
   "language": "python",
   "name": "python3"
  },
  "language_info": {
   "codemirror_mode": {
    "name": "ipython",
    "version": 3
   },
   "file_extension": ".py",
   "mimetype": "text/x-python",
   "name": "python",
   "nbconvert_exporter": "python",
   "pygments_lexer": "ipython3",
   "version": "3.8.10"
  },
  "latex_envs": {
   "LaTeX_envs_menu_present": true,
   "autoclose": false,
   "autocomplete": true,
   "bibliofile": "biblio.bib",
   "cite_by": "apalike",
   "current_citInitial": 1,
   "eqLabelWithNumbers": true,
   "eqNumInitial": 1,
   "hotkeys": {
    "equation": "Ctrl-E",
    "itemize": "Ctrl-I"
   },
   "labels_anchors": false,
   "latex_user_defs": false,
   "report_style_numbering": false,
   "user_envs_cfg": false
  },
  "toc": {
   "base_numbering": 1,
   "nav_menu": {},
   "number_sections": true,
   "sideBar": true,
   "skip_h1_title": false,
   "title_cell": "Table of Contents",
   "title_sidebar": "Contents",
   "toc_cell": false,
   "toc_position": {},
   "toc_section_display": true,
   "toc_window_display": true
  }
 },
 "nbformat": 4,
 "nbformat_minor": 5
}
