{
 "cells": [
  {
   "cell_type": "markdown",
   "metadata": {},
   "source": [
    "Before you turn this problem in, make sure everything runs as expected. First, **restart the kernel** (in the menubar, select Kernel$\\rightarrow$Restart) and then **run all cells** (in the menubar, select Cell$\\rightarrow$Run All).\n",
    "\n",
    "Make sure you fill in any place that says `YOUR CODE HERE` or \"YOUR ANSWER HERE\", as well as your name and collaborators below:"
   ]
  },
  {
   "cell_type": "code",
   "execution_count": null,
   "metadata": {},
   "outputs": [],
   "source": [
    "NAME = \"\"\n",
    "COLLABORATORS = \"\""
   ]
  },
  {
   "cell_type": "markdown",
   "metadata": {},
   "source": [
    "---"
   ]
  },
  {
   "cell_type": "markdown",
   "metadata": {},
   "source": [
    "# Introduction to Python"
   ]
  },
  {
   "cell_type": "markdown",
   "metadata": {},
   "source": [
    "<img src=\"./Figures/python1600.png\" width = \"180\" height = \"150\" alt=\"图片名称\" align=center />"
   ]
  },
  {
   "cell_type": "markdown",
   "metadata": {},
   "source": [
    "## Why Learn Python?"
   ]
  },
  {
   "cell_type": "markdown",
   "metadata": {},
   "source": [
    "**A popular general programming language**"
   ]
  },
  {
   "cell_type": "markdown",
   "metadata": {},
   "source": [
    "* Many web applications are written in Python, e.g."
   ]
  },
  {
   "cell_type": "markdown",
   "metadata": {},
   "source": [
    "Youtube              |  豆瓣 |  Dropbox |  Quora |  Instagram |  BitTorrent  |  Spotify | others | \n",
    ":-------------------------:|:-------------------------:|:-------------------------:|:-------------------------:|:-------------------------: |:-------------------------:|:-------------------------:|:-------------------------:\n",
    "<img src=\"./Figures/new-youtube-logo.jpg\" width = \"100\" height = \"150\"/>  |  <img src=\"./Figures/Douban_logo.svg.png\" width = \"100\" height = \"150\"/>  |  <img src=\"./Figures/dropbox.png\" width = \"100\" height = \"150\"/> |  <img src=\"./Figures/quora.png\" width = \"100\" height = \"150\"/> |  <img src=\"./Figures/instagram-logo.png\" width = \"100\" height = \"150\"/>|  <img src=\"./Figures/bt.jpg\" width = \"100\" height = \"150\"/> |  <img src=\"./Figures/spotify.png\" width = \"100\" height = \"150\"/>|  <img src=\"./Figures/Ellipsis.jpg\" width = \"100\" height = \"150\"/>"
   ]
  },
  {
   "cell_type": "markdown",
   "metadata": {},
   "source": [
    "* Greatly needed in Industry and job market 2022 ([source](https://www.codingame.com/work/blog/hr-news-trends/top-10-in-demand-programming-languages-2020/))"
   ]
  },
  {
   "cell_type": "markdown",
   "metadata": {},
   "source": [
    " <img src=\"./Figures/pyrank.png\" width = \"480\" height = \"250\" alt=\"图片名称\" align=center />"
   ]
  },
  {
   "cell_type": "markdown",
   "metadata": {},
   "source": [
    " <img src=\"./Figures/py-describe.png\" width = \"480\" height = \"250\" alt=\"图片名称\" align=center />"
   ]
  },
  {
   "cell_type": "markdown",
   "metadata": {},
   "source": [
    "**Best Programming Language to Start With**"
   ]
  },
  {
   "cell_type": "markdown",
   "metadata": {},
   "source": [
    " <img src=\"./Figures/bestbegin.png\" width = \"580\" height = \"150\" alt=\"图片名称\" align=center />"
   ]
  },
  {
   "cell_type": "markdown",
   "metadata": {},
   "source": [
    "## History"
   ]
  },
  {
   "cell_type": "markdown",
   "metadata": {},
   "source": [
    "* Created in 1991 by Guido van Rossum (now at Google). Named for [Monty Python](https://en.wikipedia.org/wiki/Monty_Python). Not for  those dangerous reptiles.\n",
    "\n",
    "\n",
    " <img src=\"./Figures/monty.png\" width = \"180\" height = \"150\" alt=\"图片名称\" align=center />\n"
   ]
  },
  {
   "cell_type": "markdown",
   "metadata": {},
   "source": [
    "## Features"
   ]
  },
  {
   "cell_type": "markdown",
   "metadata": {},
   "source": [
    "* **Simple and easy to learn**"
   ]
  },
  {
   "cell_type": "markdown",
   "metadata": {},
   "source": [
    "HelloWorld.java"
   ]
  },
  {
   "cell_type": "markdown",
   "metadata": {},
   "source": [
    " <img src=\"./Figures/java.png\" width = \"280\" height = \"250\" alt=\"图片名称\" align=center />"
   ]
  },
  {
   "cell_type": "markdown",
   "metadata": {},
   "source": [
    "HelloWorld.cpp"
   ]
  },
  {
   "cell_type": "markdown",
   "metadata": {},
   "source": [
    " <img src=\"./Figures/cplusplus.png\" width = \"280\" height = \"250\" alt=\"图片名称\" align=center />"
   ]
  },
  {
   "cell_type": "markdown",
   "metadata": {},
   "source": [
    "HelloWorld.py"
   ]
  },
  {
   "cell_type": "markdown",
   "metadata": {},
   "source": [
    " <img src=\"./Figures/py.png\" width = \"280\" height = \"250\" alt=\"图片名称\" align=center />"
   ]
  },
  {
   "cell_type": "markdown",
   "metadata": {},
   "source": [
    "If you used Java or C++ before, you will feel you are flying when you try Python."
   ]
  },
  {
   "cell_type": "markdown",
   "metadata": {},
   "source": [
    "* **Interpreted Languages**\n",
    "    * Note compiled like C++\n",
    "    * Code is written and then directly executed by an `interpreter`.\n",
    "    * Type commands into interpreter and see immediate results.\n",
    "    \n",
    "\n"
   ]
  },
  {
   "cell_type": "markdown",
   "metadata": {},
   "source": [
    " <img src=\"./Figures/iterprete.png\" width = \"380\" height = \"350\" alt=\"图片名称\" align=center />"
   ]
  },
  {
   "cell_type": "markdown",
   "metadata": {},
   "source": [
    "\n",
    "* **General programming language for multiple purpose**\n",
    "* **Free and Open Source**\n",
    "    * You can freely distribute copies of this software, read the source code, make changes to it, use pieces of it in new free programs. Compare to Matlab.\n",
    "* **High-level Language**\n",
    "    * No need to bother about the low-level details such as managing the memory used by the program, etc.\n",
    "* **Cross-Platform**\n",
    "    * You can use Python on Linux, Windows, Unix, Mac OS…\n",
    "* **Object Oriented**\n",
    "    * Python supports procedure-oriented programming as well as object-oriented programming. In procedure-oriented languages, the program is built around \tprocedures or functions which are nothing but reusable pieces of programs. \tIn object-oriented languages, the program is built around objects which combine data and functionality. \n",
    "* **Extensible**\n",
    "    * If you need a critical piece of code to run very fast or want to have some piece \tof algorithm not to be open, you can code that part of your program in C or C++ and then use them from your Python program.\n",
    "* **Extensive Libraries**\n",
    "    * Due to its open-source nature, Python is a vibrant community having a great number of warm-hearted contributors. There are many great libraries. You can know more from [here](http://noeticforce.com/best-python-libraries).\n"
   ]
  },
  {
   "cell_type": "markdown",
   "metadata": {},
   "source": [
    "## Installing Python"
   ]
  },
  {
   "cell_type": "markdown",
   "metadata": {},
   "source": [
    "* For Windows:\n",
    "    * Download Python from http://www.python.org\n",
    "    * Install\n",
    "* For Mac OS:\n",
    "    * Python is already installed.\n",
    "    * Open terminal and just type \"python\"\n",
    "* For Linux:\n",
    "    * Chances that Python is already installed.\n",
    "    * If not installed, you can use `apt-get` command for the installation.\n"
   ]
  },
  {
   "cell_type": "markdown",
   "metadata": {},
   "source": [
    "## Versions of Python"
   ]
  },
  {
   "cell_type": "markdown",
   "metadata": {},
   "source": [
    "* We will use Python 3 in this class.\n"
   ]
  },
  {
   "cell_type": "markdown",
   "metadata": {},
   "source": [
    "## Programming Environments"
   ]
  },
  {
   "cell_type": "markdown",
   "metadata": {},
   "source": [
    "* You need to write your program in an editor. Any text editor is fine, writing Python code is just like writing a txt file, as long as you installed Python which can interpret your code.\n",
    "* But different editors' have their own characters. You can choose one you like best."
   ]
  },
  {
   "cell_type": "markdown",
   "metadata": {},
   "source": [
    "### Shell "
   ]
  },
  {
   "cell_type": "markdown",
   "metadata": {},
   "source": [
    "* Once you open the terminal and type `Python`, you can code.\n",
    " <img src=\"./Figures/editor-shell.png\" width = \"280\" height = \"250\" alt=\"图片名称\" align=center />"
   ]
  },
  {
   "cell_type": "markdown",
   "metadata": {},
   "source": [
    "**Pros:** Convenient to open, quick test of python syntax. \n",
    "\n",
    "**Cons:** Not appropriate to write long functions.\n"
   ]
  },
  {
   "cell_type": "markdown",
   "metadata": {},
   "source": [
    "### Text Editor"
   ]
  },
  {
   "cell_type": "markdown",
   "metadata": {},
   "source": [
    "* Although it is convenient to use `interpreter` to write the program, but all the codes will be gone once you close the terminal. In many cases you may want save your codes into a file for later use.\n",
    "* Any text editor is fine.\n",
    "* Write the python code in any text editor, save as `***.py`\n",
    "* `>>> python ***.py`"
   ]
  },
  {
   "cell_type": "markdown",
   "metadata": {},
   "source": [
    " <img src=\"./Figures/editor1.png\" width = \"380\" height = \"250\" alt=\"图片名称\" align=center />"
   ]
  },
  {
   "cell_type": "markdown",
   "metadata": {},
   "source": [
    " <img src=\"./Figures/editor2.png\" width = \"380\" height = \"250\" alt=\"图片名称\" align=center />"
   ]
  },
  {
   "cell_type": "markdown",
   "metadata": {},
   "source": [
    "You may configure the text editor background, syntax highlighting, etc"
   ]
  },
  {
   "cell_type": "markdown",
   "metadata": {},
   "source": [
    "### Jupyter Notebook"
   ]
  },
  {
   "cell_type": "markdown",
   "metadata": {},
   "source": [
    "* You can see more introduction [here](http://jupyter.org/)"
   ]
  },
  {
   "cell_type": "markdown",
   "metadata": {},
   "source": [
    " <img src=\"./Figures/nb1.png\" width = \"380\" height = \"350\" alt=\"图片名称\" align=center />"
   ]
  },
  {
   "cell_type": "markdown",
   "metadata": {},
   "source": [
    " <img src=\"./Figures/nb2.png\" width = \"380\" height = \"350\" alt=\"图片名称\" align=center />"
   ]
  },
  {
   "cell_type": "markdown",
   "metadata": {},
   "source": [
    "* Highly interactive, database access, plotting, Latex, HTML, etc."
   ]
  },
  {
   "cell_type": "markdown",
   "metadata": {},
   "source": [
    "### IDEs (integrated development environment)"
   ]
  },
  {
   "cell_type": "markdown",
   "metadata": {},
   "source": [
    " <img src=\"./Figures/pycharm.png\" width = \"480\" height = \"450\" alt=\"图片名称\" align=center />"
   ]
  },
  {
   "cell_type": "markdown",
   "metadata": {},
   "source": [
    "## Examples - Run the codes"
   ]
  },
  {
   "cell_type": "code",
   "execution_count": null,
   "metadata": {},
   "outputs": [],
   "source": [
    "print('hello world') ### this is the comment"
   ]
  },
  {
   "cell_type": "code",
   "execution_count": null,
   "metadata": {
    "ExecuteTime": {
     "end_time": "2022-02-17T05:55:49.382306Z",
     "start_time": "2022-02-17T05:55:49.376707Z"
    }
   },
   "outputs": [],
   "source": [
    "print('I love UIC!')"
   ]
  },
  {
   "cell_type": "code",
   "execution_count": null,
   "metadata": {},
   "outputs": [],
   "source": [
    "print(\"See my 'Hello World'\")"
   ]
  },
  {
   "cell_type": "code",
   "execution_count": null,
   "metadata": {},
   "outputs": [],
   "source": [
    "def hello():\n",
    "    print('hello world')\n",
    "    \n",
    "hello()"
   ]
  }
 ],
 "metadata": {
  "kernelspec": {
   "display_name": "Python 3 (ipykernel)",
   "language": "python",
   "name": "python3"
  },
  "language_info": {
   "codemirror_mode": {
    "name": "ipython",
    "version": 3
   },
   "file_extension": ".py",
   "mimetype": "text/x-python",
   "name": "python",
   "nbconvert_exporter": "python",
   "pygments_lexer": "ipython3",
   "version": "3.8.10"
  },
  "latex_envs": {
   "LaTeX_envs_menu_present": true,
   "autoclose": false,
   "autocomplete": true,
   "bibliofile": "biblio.bib",
   "cite_by": "apalike",
   "current_citInitial": 1,
   "eqLabelWithNumbers": true,
   "eqNumInitial": 1,
   "hotkeys": {
    "equation": "Ctrl-E",
    "itemize": "Ctrl-I"
   },
   "labels_anchors": false,
   "latex_user_defs": false,
   "report_style_numbering": false,
   "user_envs_cfg": false
  },
  "toc": {
   "base_numbering": "0",
   "nav_menu": {},
   "number_sections": true,
   "sideBar": true,
   "skip_h1_title": false,
   "title_cell": "Table of Contents",
   "title_sidebar": "Contents",
   "toc_cell": false,
   "toc_position": {
    "height": "calc(100% - 180px)",
    "left": "10px",
    "top": "150px",
    "width": "169.347px"
   },
   "toc_section_display": true,
   "toc_window_display": true
  }
 },
 "nbformat": 4,
 "nbformat_minor": 2
}
