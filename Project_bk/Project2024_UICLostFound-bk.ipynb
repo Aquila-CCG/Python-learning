{
 "cells": [
  {
   "cell_type": "markdown",
   "id": "ea86ef2d",
   "metadata": {},
   "source": [
    "Before you turn this problem in, make sure everything runs as expected. First, **restart the kernel** (in the menubar, select Kernel$\\rightarrow$Restart) and then **run all cells** (in the menubar, select Cell$\\rightarrow$Run All).\n",
    "\n",
    "Make sure you fill in any place that says `YOUR CODE HERE` or \"YOUR ANSWER HERE\", as well as your name and collaborators below:"
   ]
  },
  {
   "cell_type": "code",
   "execution_count": null,
   "id": "8bfcb8bf",
   "metadata": {},
   "outputs": [],
   "source": [
    "NAME = \"\"\n",
    "COLLABORATORS = \"\""
   ]
  },
  {
   "cell_type": "markdown",
   "id": "be0b4f7c",
   "metadata": {},
   "source": [
    "---"
   ]
  },
  {
   "cell_type": "code",
   "execution_count": null,
   "id": "a0c7dcc0",
   "metadata": {
    "ExecuteTime": {
     "end_time": "2024-04-28T02:39:58.892519Z",
     "start_time": "2024-04-28T02:39:58.889185Z"
    }
   },
   "outputs": [],
   "source": [
    "# If you carried out this project with a team mate, \n",
    "# write your team mate name and student id below. \n",
    "# Only one submission for the both of you is required. \n",
    "# Any of the two member can submit. \n",
    "\n",
    "# For example:\n",
    "# teammate1_name_studentID_email = \"Jiaqi Li, 21560012544, q21560012544@mail.uic.edu.cn\"\n",
    "\n",
    "teammate1_name_studentID_email = \"\"\n",
    "teammate2_name_studentID_email = \"\""
   ]
  },
  {
   "cell_type": "markdown",
   "id": "514a4f6e",
   "metadata": {
    "deletable": false,
    "editable": false,
    "nbgrader": {
     "cell_type": "markdown",
     "checksum": "7083c843a8c624fa42572d05f376bc5e",
     "grade": false,
     "grade_id": "cell-9dd0bc95ed45c7c9",
     "locked": true,
     "schema_version": 3,
     "solution": false,
     "task": false
    }
   },
   "source": [
    "# Final Project\n",
    "\n",
    "This is your final project. It accounts for maximum 20% of the final grade. Read the following instructions carefully.\n",
    "\n",
    "## Submission and Deadlines\n",
    "* You should work on this project **either individually or in a team of 2 students (from the same course session)**. For the latter option, only one student of the team shall to submit the project online and both students will receive the same grade.\n",
    "* This project will be manually graded. **Do comment your code** to make it more readable.\n",
    "* You have a limited time to submit: by **Monday 27 May 2023, 23:59pm**. After the deadline, submission is not possible. Only your last submission counts.\n",
    "* Copying the solution of other student is forbidden. Plagiarized solutions (copied from other sources or other teams) will receive 0 points.\n"
   ]
  },
  {
   "cell_type": "markdown",
   "id": "d12e364d",
   "metadata": {
    "deletable": false,
    "editable": false,
    "nbgrader": {
     "cell_type": "markdown",
     "checksum": "9c401213cf80cfbc310e583d6c99afea",
     "grade": false,
     "grade_id": "cell-66552abad213abbc",
     "locked": true,
     "schema_version": 3,
     "solution": false,
     "task": false
    }
   },
   "source": [
    "## Introduction\n",
    "\n",
    "UIC would like to implement a Lost&Found System for our campus. A prototype has already been built, but poorly, with a bad design and some faults to fix. But no worries, we are here to help :)\n",
    "\n",
    "The current implementation includes the `Item` class and the `LostFoundSys` class. Please read the current code and understand how it works. The existing comments should have provided ample explanation."
   ]
  },
  {
   "cell_type": "code",
   "execution_count": null,
   "id": "23a3ad30",
   "metadata": {
    "ExecuteTime": {
     "end_time": "2024-04-29T03:47:51.731514Z",
     "start_time": "2024-04-29T03:47:51.727715Z"
    }
   },
   "outputs": [],
   "source": [
    "class Item():\n",
    "    '''\n",
    "    The Item class can be used to create instances of item to report to the system.\n",
    "    \n",
    "    As of now, an item includes the following string type attributes:\n",
    "        status: the current status of the item, which could be \"Found\", \"Claimed\"\n",
    "        name: the name of the item, e.g., \"Iphone\"\n",
    "        location: the location where the item was found, e.g., \"T6\"\n",
    "        secretQuestion: a secret question about the item that its owner is supposed to be able to answer,\n",
    "                        e.g., \"What color is it?\"\n",
    "        secretAnswer: the answer to the secret question, e.g., \"Red\"\n",
    "    '''\n",
    "    \n",
    "    def __init__(self, status, name, location,  secretQuestion, secretAnswer):\n",
    "        self.status = status\n",
    "        self.name = name\n",
    "        self.location = location\n",
    "        self.secretQuestion = secretQuestion\n",
    "        self.secretAnswer = secretAnswer\n",
    "\n",
    "\n",
    "    \n",
    "    def toString(self):\n",
    "        \"\"\"\n",
    "        returns a string description of the item with details of the object separated by comma\n",
    "        \"\"\"\n",
    "        str1 = \"%s,%s,%s,%s,%s\" %(self.status, self.name, self.location, self.secretQuestion, self.secretAnswer)\n",
    "        return str1"
   ]
  },
  {
   "cell_type": "code",
   "execution_count": null,
   "id": "77171469",
   "metadata": {
    "ExecuteTime": {
     "end_time": "2024-04-29T03:47:52.092296Z",
     "start_time": "2024-04-29T03:47:52.084153Z"
    }
   },
   "outputs": [],
   "source": [
    "class LostFoundSys():\n",
    "    '''\n",
    "    The LostFoundSys class is the main system of the software.\n",
    "    When started, it will interract with a database, stored as lostfound.csv file\n",
    "    Currently, the class contains methods to start and exit the system, \n",
    "    and methods to report, claim, display and remove items.   \n",
    "    '''\n",
    "    \n",
    "    # All items are maintained as instances of the Item class, in a class variable ItemList[].\n",
    "    ItemList = [] \n",
    "    \n",
    "\n",
    "    \n",
    "    def start():\n",
    "        \"\"\"\n",
    "        To start the system, data is read from \"lostfound.csv\"\n",
    "        and is converted to instances of Item and is stored in ItemList\n",
    "        \"\"\"\n",
    "            \n",
    "        file1 = open(\"lostfound.csv\", \"r\")\n",
    "        str1 = file1.read()\n",
    "        records = str1.split('\\n')\n",
    "        LostFoundSys.ItemList.clear()\n",
    "             \n",
    "        for i in range(len(records)): \n",
    "            strTemp = records[i].split(',')\n",
    "            itemTemp = Item(strTemp[0], strTemp[1], strTemp[2], strTemp[3], strTemp[4])\n",
    "            LostFoundSys.ItemList.append(itemTemp)\n",
    "\n",
    "        file1.close()\n",
    "        print(\"\\nThe UIC Lost&Found System is started.\\n\")\n",
    "        \n",
    "        # The return statement can be used for possible extension of the system\n",
    "        # For example, if a functionality shall be triggered by start(),\n",
    "        # then the boolean value can be used to test if start() is executed sucessfully.\n",
    "        return True\n",
    "\n",
    "    \n",
    "    \n",
    "    def exit():\n",
    "        \"\"\"\n",
    "        To exit the system, all instances of item in ItemList\n",
    "        are over-written into the database \"lostfound.csv\"\n",
    "        \"\"\"\n",
    "        \n",
    "        file1 = open(\"lostfound.csv\", \"w\")\n",
    "        for x in LostFoundSys.ItemList:\n",
    "            file1.write(x.toString() + '\\n')\n",
    "        \n",
    "        file1.close()\n",
    "        print(\"\\nThe UIC Lost&Found System is closed.\\n\")\n",
    "        \n",
    "        LostFoundSys.ItemList.clear()\n",
    "        \n",
    "        return True\n",
    "\n",
    "    \n",
    "    \n",
    "    def report(item):\n",
    "        \"\"\"\n",
    "        To report an item, the instance of the item shall be added to Itemlist\n",
    "        \"\"\"\n",
    "        pass\n",
    "\n",
    "    \n",
    "\n",
    "    # The current implementation verifies the item name only, which is not ideal.\n",
    "    # How it works: When there is a matching item which is not claimed yet,\n",
    "    # the item's status will be updated to \"Claimed\".\n",
    "    # Otherwise, the item will not be claimed.\n",
    "    def claim(name):\n",
    "        \"\"\"\n",
    "        To claim a specific item from the current inventory\n",
    "        \"\"\"\n",
    "        match = False # to indicate if there is an matching item or not\n",
    "        for i in LostFoundSys.ItemList:\n",
    "            if i.name.lower() == name.lower():\n",
    "                match = True\n",
    "                if i.status == \"Found\":\n",
    "                    i.status = \"Claimed\"\n",
    "                    print(name + \" has been claimed.\")\n",
    "                else:\n",
    "                    print(\"The item \" + name + \" has been already claimed.\")\n",
    "        if match == False:\n",
    "            print(\"No such item.\")\n",
    "           \n",
    "\n",
    "        \n",
    "    def remove(item):\n",
    "        \"\"\"\n",
    "        To remove a specific item from the inventory\n",
    "        \"\"\"\n",
    "        pass\n",
    "    \n",
    "    \n",
    "\n",
    "    def display():\n",
    "        \"\"\"\n",
    "        To display all all items that are currently in the inventory including both \n",
    "        found and claimed ones, without showing the secret question and answer\n",
    "        \"\"\"\n",
    "        print(\"\\nThe current inventory includes the following items:\")\n",
    "        print(\"Status\" + '\\t' + \"Item Name\" + '\\t' + \"Location Found\")\n",
    "        pass\n",
    "    \n"
   ]
  },
  {
   "cell_type": "code",
   "execution_count": null,
   "id": "16129d00",
   "metadata": {
    "ExecuteTime": {
     "end_time": "2024-04-29T03:47:52.692362Z",
     "start_time": "2024-04-29T03:47:52.685118Z"
    }
   },
   "outputs": [],
   "source": [
    "# As of now, there is no user-interaction mechanism built in yet.\n",
    "# Only the administrator can interact with the system through direct coding.\n",
    "# The following is an example of such interaction:\n",
    "\n",
    "# To start the system\n",
    "LostFoundSys.start()\n",
    "\n",
    "# To create instances of Item to report\n",
    "item1 = Item(\"Found\", \"Iphone\", \"T29\",  \"what color is it?\", \"Red\")\n",
    "item2 = Item(\"Found\", \"Macbook\", \"T5\", \"locked screen pic?\", \"Eagle\")\n",
    "item3 = Item(\"Found\", \"Macbook\", \"T6\", \"locked screen pic?\", \"Apple\")\n",
    "\n",
    "# To report the above items\n",
    "LostFoundSys.report(item1)\n",
    "LostFoundSys.report(item2)\n",
    "LostFoundSys.report(item3)\n",
    "\n",
    "\n",
    "# To claim item(s)\n",
    "LostFoundSys.claim(\"macbook\")\n",
    "\n",
    "# To check on the current inventory\n",
    "LostFoundSys.display()\n",
    "\n",
    "# To exit the system\n",
    "LostFoundSys.exit()"
   ]
  },
  {
   "cell_type": "markdown",
   "id": "a65f5779",
   "metadata": {},
   "source": [
    "Upon finishing **Task No. 1 and No. 2**, the above driver is supposed to produce console output as follows:\n",
    "<img src=\"./Figures/Sample.png\"  align=center />"
   ]
  },
  {
   "cell_type": "markdown",
   "id": "cbdc85aa",
   "metadata": {},
   "source": [
    "## Your Tasks"
   ]
  },
  {
   "cell_type": "markdown",
   "id": "e936e2b2",
   "metadata": {},
   "source": [
    "All of the methods of the two classes above shall be implemented, debugged and improved.\n",
    "\n",
    "**Task No. 1 to 8** are required. \n",
    "    \n",
    "**Task 9** is optional and open-ended, with possible extra credits rewarded."
   ]
  },
  {
   "cell_type": "markdown",
   "id": "6509bb81",
   "metadata": {
    "deletable": false,
    "editable": false,
    "nbgrader": {
     "cell_type": "markdown",
     "checksum": "07fae66df28708d13dba3ff0924ce314",
     "grade": false,
     "grade_id": "cell-529452999220cf3a",
     "locked": true,
     "points": 5,
     "schema_version": 3,
     "solution": false,
     "task": true
    }
   },
   "source": [
    "**Task No. 1: (5 points)** Find the exception and locate the fault, and handle them.\n",
    "Make sure you can get the system running properly, so that you can play with it and understand how it works.\n",
    "Hint: `start()`"
   ]
  },
  {
   "cell_type": "markdown",
   "id": "0522e4fe",
   "metadata": {
    "deletable": false,
    "editable": false,
    "nbgrader": {
     "cell_type": "markdown",
     "checksum": "42bdfe6ab9e2a94ea922f530da4144a7",
     "grade": false,
     "grade_id": "cell-579e71893b535d2a",
     "locked": true,
     "points": 15,
     "schema_version": 3,
     "solution": false,
     "task": true
    }
   },
   "source": [
    "**Task No. 2: (15 points)** Implement `report()`, `remove()`, and `display()` methods, according to the sample console output. You need to make your system behaves in the same way as the output example. "
   ]
  },
  {
   "cell_type": "markdown",
   "id": "143111c1",
   "metadata": {
    "deletable": false,
    "editable": false,
    "nbgrader": {
     "cell_type": "markdown",
     "checksum": "b44f4524fd528cb2ec199974bc6809a3",
     "grade": false,
     "grade_id": "cell-a49b33f6ba87c52b",
     "locked": true,
     "points": 15,
     "schema_version": 3,
     "solution": false,
     "task": true
    }
   },
   "source": [
    "**Task No. 3: (15 points)** The current implementaion of `claim()` is not reasonable, as there might be multiple items with the same name, which can be currently claimed all at once. **Improve the implementation of `claim()`** so that when an item found at a specific location is claimed, its secret question can be verified. For example, to claim Item(\"Found\", \"Iphone\", \"T29\",  \"what color is it?\", \"Red\"), the program shall prompt the adminstrator with the secret question \"what color is it?\", so that the adminstrator can verify the secret answer with the claimer. **It is OK to assume that no items share the same name & location combo.**"
   ]
  },
  {
   "cell_type": "markdown",
   "id": "1d3ac587",
   "metadata": {
    "deletable": false,
    "editable": false,
    "nbgrader": {
     "cell_type": "markdown",
     "checksum": "150d3c441bce19c89cc05982fd49dd45",
     "grade": false,
     "grade_id": "cell-8e0f858191e1cde0",
     "locked": true,
     "points": 15,
     "schema_version": 3,
     "solution": false,
     "task": true
    }
   },
   "source": [
    "**Task No. 4: (15 points)** When an item is found or claimed, UIC would like to keep a record of the name of the individual who did that. Please **improve the implementation of the `Item` class** so that the finder and claimer's names and their contact (for example phone number) can be registered. Notice that `LostFoundSys`class may also need to be updated accordingly."
   ]
  },
  {
   "cell_type": "markdown",
   "id": "131d268b",
   "metadata": {
    "deletable": false,
    "editable": false,
    "nbgrader": {
     "cell_type": "markdown",
     "checksum": "bfbbbcbe549443eac17d183e4351a398",
     "grade": false,
     "grade_id": "cell-162d364068bb4338",
     "locked": true,
     "points": 15,
     "schema_version": 3,
     "solution": false,
     "task": true
    }
   },
   "source": [
    "**Task No. 5: (15 points)** UIC would also like to reward those individual who actively participate in Lost&Found activity. Hence, when a participant reports a found item, s/he will be credited with a score which is equivalent to estimated cost of the item (if purchased new). The adminstrator can use a `score()` method to display a list of all participants with their names and accumulated scores, sorted by their score descendingly. **Make all necessary changes to your code and implement `score()`.**"
   ]
  },
  {
   "cell_type": "markdown",
   "id": "643651b7",
   "metadata": {
    "deletable": false,
    "editable": false,
    "nbgrader": {
     "cell_type": "markdown",
     "checksum": "b3c30925e0b4bbfa1aa713953fbc517b",
     "grade": false,
     "grade_id": "cell-cfe526794b7eb723",
     "locked": true,
     "points": 5,
     "schema_version": 3,
     "solution": false,
     "task": true
    }
   },
   "source": [
    "**Task No. 6: (5 points)** Revise `display()` so that only unclaimed items can be shown."
   ]
  },
  {
   "cell_type": "markdown",
   "id": "fb927b8b",
   "metadata": {
    "deletable": false,
    "editable": false,
    "nbgrader": {
     "cell_type": "markdown",
     "checksum": "ba138e6c48b743f58bd6096c6ddddcab",
     "grade": false,
     "grade_id": "cell-8fd1e9f8402cfdf1",
     "locked": true,
     "points": 10,
     "schema_version": 3,
     "solution": false,
     "task": true
    }
   },
   "source": [
    "**Task No. 7: (10 points)** It is possible that items with the same name are found at the same location. Improve your implementation so that such issue can be addressed."
   ]
  },
  {
   "cell_type": "markdown",
   "id": "8b56ba73",
   "metadata": {
    "deletable": false,
    "editable": false,
    "nbgrader": {
     "cell_type": "markdown",
     "checksum": "a00f85d9bc941601db76bfd377f50254",
     "grade": false,
     "grade_id": "cell-12b0c2d12b8bae2e",
     "locked": true,
     "points": 10,
     "schema_version": 3,
     "solution": false,
     "task": true
    }
   },
   "source": [
    "**Task No. 8: (10 points)** Conduct ample testing so that all possible exceptions are properly handled. If you use any assumptions of the lost&found domain, record them by commenting the code."
   ]
  },
  {
   "cell_type": "markdown",
   "id": "25a65531",
   "metadata": {},
   "source": [
    "**Optional Task** "
   ]
  },
  {
   "cell_type": "markdown",
   "id": "d2938996",
   "metadata": {
    "deletable": false,
    "editable": false,
    "nbgrader": {
     "cell_type": "markdown",
     "checksum": "fce7b4812c35a35631fd599063c96857",
     "grade": false,
     "grade_id": "cell-5a1232606a8f45cd",
     "locked": true,
     "points": 10,
     "schema_version": 3,
     "solution": false,
     "task": true
    }
   },
   "source": [
    "**Task No. 9: (Up to additional 10 points)** The current implementation requires the adminstrator to know how to program in Python, which is a strong requirement. Design and implement a user-interaction mechanism so that the adminstrator can interact with the system via the console. You may assume that there is a \"Start\" button on your desktop to trigger `start()` in `LostFoundSys` class, so that the following content is shown in the concole.\n",
    "<img src=\"./Figures/Sample2.png\"  align=center />\n",
    "\n",
    "Then, the adminstrator shall interact with the program via their keyboard commands to complete the above tasks. "
   ]
  },
  {
   "cell_type": "markdown",
   "id": "50537180",
   "metadata": {},
   "source": [
    "Note: If you have worked on Task 9, please do let us know what you have done in below:\n",
    "\n",
    "**For Task No.9, we have done:**\n",
    "\n",
    "1)\n",
    "\n",
    "2)\n",
    "\n",
    "3)\n",
    "\n",
    "...\n",
    "\n"
   ]
  },
  {
   "cell_type": "markdown",
   "id": "aad3d4d7",
   "metadata": {
    "deletable": false,
    "editable": false,
    "nbgrader": {
     "cell_type": "markdown",
     "checksum": "98b9f6e2b8ae8b0d8911d7c1f680b7ba",
     "grade": false,
     "grade_id": "cell-22fad8acc44a8dbc",
     "locked": true,
     "schema_version": 3,
     "solution": false,
     "task": false
    }
   },
   "source": [
    "**Before submission**\n",
    "* Make sure to provide your name(s)\n",
    "* Make sure your program can be executed and provide a driver program with examples\n",
    "* Make ample commmenting and explanation of your program\n",
    "* If your program cannot be executed, it will be an automatic zero grade"
   ]
  }
 ],
 "metadata": {
  "kernelspec": {
   "display_name": "Python 3 (ipykernel)",
   "language": "python",
   "name": "python3"
  },
  "language_info": {
   "codemirror_mode": {
    "name": "ipython",
    "version": 3
   },
   "file_extension": ".py",
   "mimetype": "text/x-python",
   "name": "python",
   "nbconvert_exporter": "python",
   "pygments_lexer": "ipython3",
   "version": "3.8.10"
  },
  "latex_envs": {
   "LaTeX_envs_menu_present": true,
   "autoclose": false,
   "autocomplete": true,
   "bibliofile": "biblio.bib",
   "cite_by": "apalike",
   "current_citInitial": 1,
   "eqLabelWithNumbers": true,
   "eqNumInitial": 1,
   "hotkeys": {
    "equation": "Ctrl-E",
    "itemize": "Ctrl-I"
   },
   "labels_anchors": false,
   "latex_user_defs": false,
   "report_style_numbering": false,
   "user_envs_cfg": false
  },
  "toc": {
   "base_numbering": 1,
   "nav_menu": {},
   "number_sections": true,
   "sideBar": true,
   "skip_h1_title": true,
   "title_cell": "Table of Contents",
   "title_sidebar": "Contents",
   "toc_cell": false,
   "toc_position": {},
   "toc_section_display": true,
   "toc_window_display": false
  }
 },
 "nbformat": 4,
 "nbformat_minor": 5
}
