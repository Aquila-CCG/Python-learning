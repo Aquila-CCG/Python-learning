{
 "cells": [
  {
   "cell_type": "markdown",
   "metadata": {},
   "source": [
    "Before you turn this problem in, make sure everything runs as expected. First, **restart the kernel** (in the menubar, select Kernel$\\rightarrow$Restart) and then **run all cells** (in the menubar, select Cell$\\rightarrow$Run All).\n",
    "\n",
    "Make sure you fill in any place that says `YOUR CODE HERE` or \"YOUR ANSWER HERE\", as well as your name and collaborators below:"
   ]
  },
  {
   "cell_type": "code",
   "execution_count": null,
   "metadata": {},
   "outputs": [],
   "source": [
    "NAME = \"Chen Yuxuan\"\n",
    "COLLABORATORS = \"\""
   ]
  },
  {
   "cell_type": "markdown",
   "metadata": {},
   "source": [
    "---"
   ]
  },
  {
   "cell_type": "markdown",
   "metadata": {
    "deletable": false,
    "editable": false,
    "nbgrader": {
     "cell_type": "markdown",
     "checksum": "b12e9f50174b61932ffa9683554fc055",
     "grade": false,
     "grade_id": "cell-12792019adbf5515",
     "locked": true,
     "schema_version": 3,
     "solution": false,
     "task": false
    }
   },
   "source": [
    "# Week 4 - in-class exercise\n",
    "\n",
    "This is the in-class exercise for Chapter 1-3. \n",
    "\n",
    "**Notes:**\n",
    "* Write your code to replace `# PUT YOUR CODE HERE` \n",
    "* You have 45 minutes to work on a total of 5 questions. \n",
    "* You may refer to our lecture notes. However, **ChatGPT is not allowed.**\n",
    "* Only your last submission counts.\n",
    "* This exercise will be auto-graded. No partial credits will be given."
   ]
  },
  {
   "cell_type": "markdown",
   "metadata": {
    "deletable": false,
    "editable": false,
    "nbgrader": {
     "cell_type": "markdown",
     "checksum": "aa03ea5900abbd670a279d61b7e6a904",
     "grade": false,
     "grade_id": "cell-e4484df28a68c5aa",
     "locked": true,
     "schema_version": 3,
     "solution": false,
     "task": false
    }
   },
   "source": [
    "1. Create a two-variable calculator `cal_exp(a, b)` that **returns** b to the power of a."
   ]
  },
  {
   "cell_type": "code",
   "execution_count": 11,
   "metadata": {
    "ExecuteTime": {
     "end_time": "2024-03-11T05:56:11.247585Z",
     "start_time": "2024-03-11T05:56:11.245443Z"
    },
    "deletable": false,
    "nbgrader": {
     "cell_type": "code",
     "checksum": "fd734173b6cff37598f880501b8b07dd",
     "grade": false,
     "grade_id": "cell-fd6a9f9bb54e912c",
     "locked": false,
     "schema_version": 3,
     "solution": true,
     "task": false
    }
   },
   "outputs": [],
   "source": [
    "def cal_exp(a, b):\n",
    "    return (b**a)"
   ]
  },
  {
   "cell_type": "code",
   "execution_count": 40,
   "metadata": {
    "ExecuteTime": {
     "end_time": "2024-03-11T06:21:09.095424Z",
     "start_time": "2024-03-11T06:21:09.087050Z"
    }
   },
   "outputs": [],
   "source": [
    "# Here is an example testcase that our class used for testing and grading.\n",
    "\n",
    "# In python assert keyword helps in debugging. \n",
    "# This statement simply takes input a boolean condition, which doesn’t return anything when it's true,\n",
    "# but if it is computed to be false, then it raises an AssertionError along with the optional message provided. \n",
    "\n",
    "assert cal_exp(1, 1) == 1"
   ]
  },
  {
   "cell_type": "code",
   "execution_count": 46,
   "metadata": {
    "ExecuteTime": {
     "end_time": "2024-03-11T06:22:16.815016Z",
     "start_time": "2024-03-11T06:22:16.812702Z"
    }
   },
   "outputs": [],
   "source": [
    "# You should write your own tests to examine your solution by yourself.\n",
    "assert cal_exp(2, 3) == 9"
   ]
  },
  {
   "cell_type": "code",
   "execution_count": null,
   "metadata": {
    "ExecuteTime": {
     "end_time": "2024-03-11T02:30:45.009025Z",
     "start_time": "2024-03-11T02:30:45.006810Z"
    },
    "deletable": false,
    "editable": false,
    "nbgrader": {
     "cell_type": "code",
     "checksum": "3434b154a1516bcde3e9e0d4f403578f",
     "grade": true,
     "grade_id": "cell-af15dcef9be5fc87",
     "locked": true,
     "points": 5,
     "schema_version": 3,
     "solution": false,
     "task": false
    }
   },
   "outputs": [],
   "source": []
  },
  {
   "cell_type": "code",
   "execution_count": null,
   "metadata": {
    "ExecuteTime": {
     "end_time": "2024-03-11T01:35:32.659194Z",
     "start_time": "2024-03-11T01:35:32.657039Z"
    },
    "deletable": false,
    "editable": false,
    "nbgrader": {
     "cell_type": "code",
     "checksum": "d3f1a838d287301e79dc89ead5c07b66",
     "grade": true,
     "grade_id": "cell-5fae29bcdee41a86",
     "locked": true,
     "points": 10,
     "schema_version": 3,
     "solution": false,
     "task": false
    }
   },
   "outputs": [],
   "source": []
  },
  {
   "cell_type": "markdown",
   "metadata": {
    "deletable": false,
    "editable": false,
    "nbgrader": {
     "cell_type": "markdown",
     "checksum": "99f5cb651fb796e2b28aae9d3acdeace",
     "grade": false,
     "grade_id": "cell-8bfa1f0503b11bfa",
     "locked": true,
     "schema_version": 3,
     "solution": false,
     "task": false
    }
   },
   "source": [
    "2. Function ``splitter(arg1)`` can separate the string argument `arg1` by `\";\"` and **return** the output.    \n",
    "\n",
    "**Example**\n",
    "\n",
    "```py\n",
    "splitter(\"Hello; world!\")\n",
    "\n",
    "Expected output:\n",
    "\n",
    "['Hello',' world!']\n",
    "```"
   ]
  },
  {
   "cell_type": "code",
   "execution_count": 16,
   "metadata": {
    "ExecuteTime": {
     "end_time": "2024-03-11T05:58:45.588631Z",
     "start_time": "2024-03-11T05:58:45.582807Z"
    },
    "deletable": false,
    "nbgrader": {
     "cell_type": "code",
     "checksum": "3dfb10751e33fd1e7381baac3145f3ab",
     "grade": false,
     "grade_id": "cell-d543fe626f024265",
     "locked": false,
     "schema_version": 3,
     "solution": true,
     "task": false
    }
   },
   "outputs": [],
   "source": [
    "def splitter(arg1):\n",
    "    result = arg1.split(';')\n",
    "    return result"
   ]
  },
  {
   "cell_type": "code",
   "execution_count": 17,
   "metadata": {
    "ExecuteTime": {
     "end_time": "2024-03-11T05:58:47.480124Z",
     "start_time": "2024-03-11T05:58:47.477100Z"
    }
   },
   "outputs": [
    {
     "data": {
      "text/plain": [
       "['Hello', ' world!']"
      ]
     },
     "execution_count": 17,
     "metadata": {},
     "output_type": "execute_result"
    }
   ],
   "source": [
    "splitter(\"Hello; world!\")"
   ]
  },
  {
   "cell_type": "code",
   "execution_count": null,
   "metadata": {
    "ExecuteTime": {
     "end_time": "2024-03-11T02:31:25.329243Z",
     "start_time": "2024-03-11T02:31:25.326686Z"
    },
    "deletable": false,
    "editable": false,
    "nbgrader": {
     "cell_type": "code",
     "checksum": "3bd7afac1c787ea34650820550719c32",
     "grade": true,
     "grade_id": "cell-2522f2b27c3250e4",
     "locked": true,
     "points": 5,
     "schema_version": 3,
     "solution": false,
     "task": false
    }
   },
   "outputs": [],
   "source": []
  },
  {
   "cell_type": "code",
   "execution_count": null,
   "metadata": {
    "ExecuteTime": {
     "end_time": "2024-03-11T02:04:28.000795Z",
     "start_time": "2024-03-11T02:04:27.998718Z"
    },
    "deletable": false,
    "editable": false,
    "nbgrader": {
     "cell_type": "code",
     "checksum": "9016034d104087732acbf302ab24c3dd",
     "grade": true,
     "grade_id": "cell-6328dbe22838c949",
     "locked": true,
     "points": 10,
     "schema_version": 3,
     "solution": false,
     "task": false
    }
   },
   "outputs": [],
   "source": []
  },
  {
   "cell_type": "markdown",
   "metadata": {
    "deletable": false,
    "editable": false,
    "nbgrader": {
     "cell_type": "markdown",
     "checksum": "facf691ac211bd3e1a6b3c9e97aed082",
     "grade": false,
     "grade_id": "cell-9ad599d5fb581e21",
     "locked": true,
     "schema_version": 3,
     "solution": false,
     "task": false
    }
   },
   "source": [
    "3. Function ``clean_string(arg1)`` can remove white spaces `\" \"` and new line character `\"\\n\"` from `\"arg1\"`, and **return** the output.\n",
    "\n",
    "    Hint: Can ``strip()`` function remove `\"\\n\"` by default? Try it out by yourself.\n",
    "\n",
    "**Example**\n",
    "\n",
    "```py\n",
    "clean_string(\"   I'm having fun in Python\\n\")\n",
    "\n",
    "Expected output:\n",
    "\n",
    "\"I'm having fun in Python\"\n",
    "```"
   ]
  },
  {
   "cell_type": "code",
   "execution_count": 18,
   "metadata": {
    "ExecuteTime": {
     "end_time": "2024-03-11T06:00:01.122662Z",
     "start_time": "2024-03-11T06:00:01.120141Z"
    },
    "deletable": false,
    "nbgrader": {
     "cell_type": "code",
     "checksum": "c0cfd7252efd7e94e4d0c9f5da978793",
     "grade": false,
     "grade_id": "cell-8d1a7cb853b770ed",
     "locked": false,
     "schema_version": 3,
     "solution": true,
     "task": false
    }
   },
   "outputs": [],
   "source": [
    "def clean_string(arg1):\n",
    "    result = arg1.strip()\n",
    "    return result\n"
   ]
  },
  {
   "cell_type": "code",
   "execution_count": 19,
   "metadata": {
    "ExecuteTime": {
     "end_time": "2024-03-11T06:00:11.274531Z",
     "start_time": "2024-03-11T06:00:11.270775Z"
    }
   },
   "outputs": [
    {
     "data": {
      "text/plain": [
       "\"I'm having fun in Python\""
      ]
     },
     "execution_count": 19,
     "metadata": {},
     "output_type": "execute_result"
    }
   ],
   "source": [
    "clean_string(\"   I'm having fun in Python\\n\")"
   ]
  },
  {
   "cell_type": "code",
   "execution_count": 49,
   "metadata": {
    "ExecuteTime": {
     "end_time": "2024-03-11T06:24:10.816977Z",
     "start_time": "2024-03-11T06:24:10.813681Z"
    }
   },
   "outputs": [
    {
     "data": {
      "text/plain": [
       "\"I'm having fun in Python.Happy Newyear!!!\""
      ]
     },
     "execution_count": 49,
     "metadata": {},
     "output_type": "execute_result"
    }
   ],
   "source": [
    "clean_string(\"   \\nI'm having fun in Python.Happy Newyear!!!\")"
   ]
  },
  {
   "cell_type": "code",
   "execution_count": null,
   "metadata": {
    "ExecuteTime": {
     "end_time": "2024-03-11T02:06:14.625604Z",
     "start_time": "2024-03-11T02:06:14.623580Z"
    },
    "deletable": false,
    "editable": false,
    "nbgrader": {
     "cell_type": "code",
     "checksum": "f5e2635266d1aba9082094612bd7e599",
     "grade": true,
     "grade_id": "cell-bbe439156e91aaca",
     "locked": true,
     "points": 10,
     "schema_version": 3,
     "solution": false,
     "task": false
    }
   },
   "outputs": [],
   "source": []
  },
  {
   "cell_type": "markdown",
   "metadata": {
    "deletable": false,
    "editable": false,
    "nbgrader": {
     "cell_type": "markdown",
     "checksum": "c761e0e0932dba26ca50577f8c74ff1c",
     "grade": false,
     "grade_id": "cell-d089cad9cba4b22a",
     "locked": true,
     "schema_version": 3,
     "solution": false,
     "task": false
    }
   },
   "source": [
    "4. In a function ``first_last(arg1)``, where ``arg1`` is a string, **return** the `a+b`, where `a` is the uppercase of first two characters in ``arg1`` and `b` is the lowercase of  last two characters in ``arg1``. If ``arg1`` is shorter than 4, then return it as it.\n",
    "\n",
    "Hint: len(s) can return the length of a string s.\n",
    "\n",
    "**Example**\n",
    "\n",
    "```py\n",
    "first_last(\"abcdef\")\n",
    "\n",
    "Expected output:\n",
    "\n",
    "\"ABef\"\n",
    "```"
   ]
  },
  {
   "cell_type": "code",
   "execution_count": 28,
   "metadata": {
    "ExecuteTime": {
     "end_time": "2024-03-11T06:04:29.979313Z",
     "start_time": "2024-03-11T06:04:29.976776Z"
    },
    "deletable": false,
    "nbgrader": {
     "cell_type": "code",
     "checksum": "5cc695cef61e76ffb3029d363eee2bbf",
     "grade": false,
     "grade_id": "cell-9deb7f3fb46fa74d",
     "locked": false,
     "schema_version": 3,
     "solution": true,
     "task": false
    }
   },
   "outputs": [],
   "source": [
    "def first_last(arg1):  \n",
    "    if len(arg1) < 4:\n",
    "        return arg1\n",
    "    else:\n",
    "        a = arg1[:2].upper()\n",
    "        b = arg1[-2:].lower()\n",
    "        return a+b\n"
   ]
  },
  {
   "cell_type": "code",
   "execution_count": 29,
   "metadata": {
    "ExecuteTime": {
     "end_time": "2024-03-11T06:04:50.323729Z",
     "start_time": "2024-03-11T06:04:50.320505Z"
    }
   },
   "outputs": [
    {
     "data": {
      "text/plain": [
       "'FSfs'"
      ]
     },
     "execution_count": 29,
     "metadata": {},
     "output_type": "execute_result"
    }
   ],
   "source": [
    "first_last(\"abcdef\")\n",
    "first_last(\"hakyworhrTATYrhrhraysaAaahkr\")\n",
    "first_last(\"lsjjaljOKHKO\")\n",
    "first_last(\"jsf\")\n",
    "first_last(\"fsFS\")"
   ]
  },
  {
   "cell_type": "code",
   "execution_count": null,
   "metadata": {
    "ExecuteTime": {
     "end_time": "2024-03-11T02:13:29.802662Z",
     "start_time": "2024-03-11T02:13:29.800287Z"
    },
    "deletable": false,
    "editable": false,
    "nbgrader": {
     "cell_type": "code",
     "checksum": "95d25d59b4c451cf73c2ec96a717102b",
     "grade": true,
     "grade_id": "cell-8ea74dcec4962f81",
     "locked": true,
     "points": 10,
     "schema_version": 3,
     "solution": false,
     "task": false
    }
   },
   "outputs": [],
   "source": []
  },
  {
   "cell_type": "code",
   "execution_count": null,
   "metadata": {
    "ExecuteTime": {
     "end_time": "2024-03-11T02:32:46.261629Z",
     "start_time": "2024-03-11T02:32:46.259491Z"
    },
    "deletable": false,
    "editable": false,
    "nbgrader": {
     "cell_type": "code",
     "checksum": "8cb409fc9e4cee90c62003ef5eac6d32",
     "grade": true,
     "grade_id": "cell-f406ec09b0b245fa",
     "locked": true,
     "points": 10,
     "schema_version": 3,
     "solution": false,
     "task": false
    }
   },
   "outputs": [],
   "source": []
  },
  {
   "cell_type": "markdown",
   "metadata": {
    "deletable": false,
    "editable": false,
    "nbgrader": {
     "cell_type": "markdown",
     "checksum": "f33254fbdfbb08163ca5c3f1215b3f1b",
     "grade": false,
     "grade_id": "cell-6a33d93477a55ca8",
     "locked": true,
     "schema_version": 3,
     "solution": false,
     "task": false
    }
   },
   "source": [
    "5. A shipping company is preparing packaging (i.e., shipping boxes) to ship an item of size ``2 by 2 by 2``. The item is fragile, **so it can ONLY be placed to an upright position**. For planning, the company would like to know how many items at most can be packed into a particular type of box. Design a function ``vol_checker(l, w, h)`` that can be used to estimate such result. Arguments `l`, `w`, `h`, represents the length, width, and height of the box respectively.\n",
    "\n",
    "**Example**\n",
    "\n",
    "```py\n",
    "vol_checker(2, 4, 4)\n",
    "Expected output: 4\n",
    "```"
   ]
  },
  {
   "cell_type": "code",
   "execution_count": 38,
   "metadata": {
    "ExecuteTime": {
     "end_time": "2024-03-11T06:18:29.397106Z",
     "start_time": "2024-03-11T06:18:29.393288Z"
    },
    "deletable": false,
    "nbgrader": {
     "cell_type": "code",
     "checksum": "8a07e36365fb808a94809b769b0ee56b",
     "grade": false,
     "grade_id": "cell-33b0fe570c85673e",
     "locked": false,
     "schema_version": 3,
     "solution": true,
     "task": false
    }
   },
   "outputs": [],
   "source": [
    "def vol_checker(l, w, h):\n",
    "    if l >=2 and w >=2 and h >=2:\n",
    "        a = (l//2) * (w//2)\n",
    "        b = h // 2\n",
    "        return a*b\n",
    "    else:\n",
    "        return 0"
   ]
  },
  {
   "cell_type": "code",
   "execution_count": 36,
   "metadata": {
    "ExecuteTime": {
     "end_time": "2024-03-11T06:17:27.473739Z",
     "start_time": "2024-03-11T06:17:27.470680Z"
    }
   },
   "outputs": [
    {
     "data": {
      "text/plain": [
       "4"
      ]
     },
     "execution_count": 36,
     "metadata": {},
     "output_type": "execute_result"
    }
   ],
   "source": [
    "vol_checker(2, 4, 4)"
   ]
  },
  {
   "cell_type": "code",
   "execution_count": 39,
   "metadata": {
    "ExecuteTime": {
     "end_time": "2024-03-11T06:19:07.451181Z",
     "start_time": "2024-03-11T06:19:07.447787Z"
    }
   },
   "outputs": [
    {
     "data": {
      "text/plain": [
       "0"
      ]
     },
     "execution_count": 39,
     "metadata": {},
     "output_type": "execute_result"
    }
   ],
   "source": [
    "vol_checker(3, 1, 2)"
   ]
  },
  {
   "cell_type": "code",
   "execution_count": 37,
   "metadata": {
    "ExecuteTime": {
     "end_time": "2024-03-11T06:17:29.202140Z",
     "start_time": "2024-03-11T06:17:29.199130Z"
    }
   },
   "outputs": [
    {
     "data": {
      "text/plain": [
       "12"
      ]
     },
     "execution_count": 37,
     "metadata": {},
     "output_type": "execute_result"
    }
   ],
   "source": [
    "vol_checker(5, 6, 5)"
   ]
  },
  {
   "cell_type": "code",
   "execution_count": null,
   "metadata": {
    "ExecuteTime": {
     "end_time": "2024-03-11T02:26:28.865934Z",
     "start_time": "2024-03-11T02:26:28.863948Z"
    },
    "deletable": false,
    "editable": false,
    "nbgrader": {
     "cell_type": "code",
     "checksum": "1dbc2ce764bc72475a177b0281079ca4",
     "grade": true,
     "grade_id": "cell-e6c82890051268e4",
     "locked": true,
     "points": 10,
     "schema_version": 3,
     "solution": false,
     "task": false
    }
   },
   "outputs": [],
   "source": []
  },
  {
   "cell_type": "code",
   "execution_count": null,
   "metadata": {
    "ExecuteTime": {
     "end_time": "2024-03-11T02:56:58.702980Z",
     "start_time": "2024-03-11T02:56:58.700971Z"
    },
    "deletable": false,
    "editable": false,
    "nbgrader": {
     "cell_type": "code",
     "checksum": "24dcae7acff95dea99215f6c35d29b99",
     "grade": true,
     "grade_id": "cell-6fbf62882510529b",
     "locked": true,
     "points": 10,
     "schema_version": 3,
     "solution": false,
     "task": false
    }
   },
   "outputs": [],
   "source": []
  },
  {
   "cell_type": "code",
   "execution_count": null,
   "metadata": {
    "ExecuteTime": {
     "end_time": "2024-03-11T02:57:01.380146Z",
     "start_time": "2024-03-11T02:57:01.377911Z"
    },
    "deletable": false,
    "editable": false,
    "nbgrader": {
     "cell_type": "code",
     "checksum": "ad547ca0fc14f2451b7d6c5e71b974b2",
     "grade": true,
     "grade_id": "cell-6cbb697a0b5021f5",
     "locked": true,
     "points": 10,
     "schema_version": 3,
     "solution": false,
     "task": false
    }
   },
   "outputs": [],
   "source": []
  },
  {
   "cell_type": "code",
   "execution_count": null,
   "metadata": {
    "ExecuteTime": {
     "end_time": "2024-03-11T02:58:44.905991Z",
     "start_time": "2024-03-11T02:58:44.903816Z"
    },
    "deletable": false,
    "editable": false,
    "nbgrader": {
     "cell_type": "code",
     "checksum": "121c983e12126b32a1e311af83a6898b",
     "grade": true,
     "grade_id": "cell-a85ed723c2d2d1dc",
     "locked": true,
     "points": 10,
     "schema_version": 3,
     "solution": false,
     "task": false
    }
   },
   "outputs": [],
   "source": []
  }
 ],
 "metadata": {
  "kernelspec": {
   "display_name": "Python 3 (ipykernel)",
   "language": "python",
   "name": "python3"
  },
  "language_info": {
   "codemirror_mode": {
    "name": "ipython",
    "version": 3
   },
   "file_extension": ".py",
   "mimetype": "text/x-python",
   "name": "python",
   "nbconvert_exporter": "python",
   "pygments_lexer": "ipython3",
   "version": "3.8.10"
  },
  "latex_envs": {
   "LaTeX_envs_menu_present": true,
   "autoclose": false,
   "autocomplete": true,
   "bibliofile": "biblio.bib",
   "cite_by": "apalike",
   "current_citInitial": 1,
   "eqLabelWithNumbers": true,
   "eqNumInitial": 1,
   "hotkeys": {
    "equation": "Ctrl-E",
    "itemize": "Ctrl-I"
   },
   "labels_anchors": false,
   "latex_user_defs": false,
   "report_style_numbering": false,
   "user_envs_cfg": false
  },
  "toc": {
   "base_numbering": 1,
   "nav_menu": {},
   "number_sections": true,
   "sideBar": true,
   "skip_h1_title": false,
   "title_cell": "Table of Contents",
   "title_sidebar": "Contents",
   "toc_cell": false,
   "toc_position": {},
   "toc_section_display": true,
   "toc_window_display": false
  }
 },
 "nbformat": 4,
 "nbformat_minor": 4
}
