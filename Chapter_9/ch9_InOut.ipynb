{
 "cells": [
  {
   "cell_type": "markdown",
   "metadata": {},
   "source": [
    "Before you turn this problem in, make sure everything runs as expected. First, **restart the kernel** (in the menubar, select Kernel$\\rightarrow$Restart) and then **run all cells** (in the menubar, select Cell$\\rightarrow$Run All).\n",
    "\n",
    "Make sure you fill in any place that says `YOUR CODE HERE` or \"YOUR ANSWER HERE\", as well as your name and collaborators below:"
   ]
  },
  {
   "cell_type": "code",
   "execution_count": null,
   "metadata": {},
   "outputs": [],
   "source": [
    "NAME = \" \"\n",
    "COLLABORATORS = \"\""
   ]
  },
  {
   "cell_type": "markdown",
   "metadata": {},
   "source": [
    "---"
   ]
  },
  {
   "cell_type": "markdown",
   "metadata": {
    "toc": true
   },
   "source": [
    "<h1>Table of Contents<span class=\"tocSkip\"></span></h1>\n",
    "<div class=\"toc\"><ul class=\"toc-item\"><li><span><a href=\"#The-input-Function\" data-toc-modified-id=\"The-input-Function-1\"><span class=\"toc-item-num\">1&nbsp;&nbsp;</span>The <code>input</code> Function</a></span></li><li><span><a href=\"#The-open-function\" data-toc-modified-id=\"The-open-function-2\"><span class=\"toc-item-num\">2&nbsp;&nbsp;</span>The <code>open</code> function</a></span><ul class=\"toc-item\"><li><span><a href=\"#Reading-from-a-file\" data-toc-modified-id=\"Reading-from-a-file-2.1\"><span class=\"toc-item-num\">2.1&nbsp;&nbsp;</span>Reading from a file</a></span></li><li><span><a href=\"#Writing-to-file\" data-toc-modified-id=\"Writing-to-file-2.2\"><span class=\"toc-item-num\">2.2&nbsp;&nbsp;</span>Writing to file</a></span></li><li><span><a href=\"#Appending-to-a-file\" data-toc-modified-id=\"Appending-to-a-file-2.3\"><span class=\"toc-item-num\">2.3&nbsp;&nbsp;</span>Appending to a file</a></span></li></ul></li><li><span><a href=\"#Using-the-with-statement\" data-toc-modified-id=\"Using-the-with-statement-3\"><span class=\"toc-item-num\">3&nbsp;&nbsp;</span>Using the <code>with</code> statement</a></span></li><li><span><a href=\"#Exercises\" data-toc-modified-id=\"Exercises-4\"><span class=\"toc-item-num\">4&nbsp;&nbsp;</span>Exercises</a></span></li><li><span><a href=\"#Using-module-pickle\" data-toc-modified-id=\"Using-module-pickle-5\"><span class=\"toc-item-num\">5&nbsp;&nbsp;</span>Using module <code>pickle</code></a></span></li><li><span><a href=\"#Using-package-pandas\" data-toc-modified-id=\"Using-package-pandas-6\"><span class=\"toc-item-num\">6&nbsp;&nbsp;</span>Using package <code>pandas</code></a></span></li><li><span><a href=\"#Exercises\" data-toc-modified-id=\"Exercises-7\"><span class=\"toc-item-num\">7&nbsp;&nbsp;</span>Exercises</a></span></li></ul></div>"
   ]
  },
  {
   "cell_type": "markdown",
   "metadata": {},
   "source": [
    "# Input/Output (IO)"
   ]
  },
  {
   "cell_type": "markdown",
   "metadata": {},
   "source": [
    "**After this class, you will know:**\n",
    " \n",
    "* 1) How to read keyboard input?\n",
    "\n",
    "* 2) How to create files and read data from files?\n",
    "\n",
    "* 3) How to write data into files?"
   ]
  },
  {
   "cell_type": "markdown",
   "metadata": {},
   "source": [
    "---"
   ]
  },
  {
   "cell_type": "markdown",
   "metadata": {},
   "source": [
    "## The `input` Function\n",
    "\n",
    "The `input(\"prompt\")` function assumes the input is a valid Python expression and returns the evaluated result to you."
   ]
  },
  {
   "cell_type": "code",
   "execution_count": 1,
   "metadata": {
    "ExecuteTime": {
     "end_time": "2024-04-22T04:48:56.788186Z",
     "start_time": "2024-04-22T04:48:40.686307Z"
    }
   },
   "outputs": [
    {
     "name": "stdout",
     "output_type": "stream",
     "text": [
      "Enter your input: Annie will win the game!!!\n",
      "Received input is :  Annie will win the game!!!\n"
     ]
    }
   ],
   "source": [
    "input_string = input(\"Enter your input: \")\n",
    "print(\"Received input is : \", input_string)"
   ]
  },
  {
   "cell_type": "markdown",
   "metadata": {},
   "source": [
    "\n",
    "* Python provides basic functions and methods necessary to manipulate files by default. You can do most of the file manipulation using a **file object**.\n",
    "\n",
    "## The `open` function\n",
    "\n",
    "* The python `open()` function is used to open internally stored files. It returns the contents of the file as python objects.\n",
    "\n",
    "**Syntax**\n",
    "```py\n",
    "file_object = open(file_name, mode) \n",
    "```\n",
    "\n",
    "* **file_name:** This parameter is the name of the file that we want to open.\n",
    "\n",
    "* **mode:** This parameter is a string that is used to specify the mode in which the file is to be opened. The following strings can be used to activate a specific mode:\n",
    "\n",
    "    * **r:** This string is used to read (only) the file. It is passed as default if no parameter is supplied and returns an error if no such file exists.\n",
    "    \n",
    "    * **w:** This string is used for writing on/**over** the file. If the file with the supplied name does not exist, it creates one for you.\n",
    "    \n",
    "    * **a:** This string is used to add/append content to an existing file. If no such file exists, it creates one for you.\n",
    "    \n",
    "    * **x:** This string is used to create a specific file.\n",
    "    \n",
    "    * **b:** This string is used when the user wants to handle the file in binary mode. This is generally used to handle image files.\n",
    "    \n",
    "    * **t:** This string is used to handle files in text mode. By default, the open() function uses the text mode.\n",
    "\n",
    "* The most frequently used mode is listed below. For the full modes and other information, you can check the full list [here](https://docs.python.org/3/library/functions.html#open)."
   ]
  },
  {
   "cell_type": "markdown",
   "metadata": {},
   "source": [
    "**Example 1. Creating a text file**\n",
    "\n",
    "The following code can be used to create a file. Here we will create a text file named **\"file1.txt\"**."
   ]
  },
  {
   "cell_type": "code",
   "execution_count": 1,
   "metadata": {
    "ExecuteTime": {
     "end_time": "2024-05-31T03:18:23.653095Z",
     "start_time": "2024-05-31T03:18:23.514457Z"
    }
   },
   "outputs": [
    {
     "ename": "FileExistsError",
     "evalue": "[Errno 17] File exists: 'file1.txt'",
     "output_type": "error",
     "traceback": [
      "\u001b[0;31m---------------------------------------------------------------------------\u001b[0m",
      "\u001b[0;31mFileExistsError\u001b[0m                           Traceback (most recent call last)",
      "\u001b[0;32m/tmp/ipykernel_57693/2825217876.py\u001b[0m in \u001b[0;36m<module>\u001b[0;34m\u001b[0m\n\u001b[0;32m----> 1\u001b[0;31m \u001b[0mfile1\u001b[0m \u001b[0;34m=\u001b[0m \u001b[0mopen\u001b[0m\u001b[0;34m(\u001b[0m\u001b[0;34m\"file1.txt\"\u001b[0m\u001b[0;34m,\u001b[0m \u001b[0;34m\"x\"\u001b[0m\u001b[0;34m)\u001b[0m\u001b[0;34m\u001b[0m\u001b[0;34m\u001b[0m\u001b[0m\n\u001b[0m",
      "\u001b[0;31mFileExistsError\u001b[0m: [Errno 17] File exists: 'file1.txt'"
     ]
    }
   ],
   "source": [
    "file1 = open(\"file1.txt\", \"x\")"
   ]
  },
  {
   "cell_type": "markdown",
   "metadata": {},
   "source": [
    "**Example 2.  Reading and Writing the file**\n",
    "\n",
    "Here we will write the following string to the **\"file1.txt\"** file that we just created and read the same file again.\n",
    "\n",
    "```py\n",
    "'I like to learn Python.'\n",
    "```"
   ]
  },
  {
   "cell_type": "code",
   "execution_count": 2,
   "metadata": {
    "ExecuteTime": {
     "end_time": "2024-05-31T03:18:48.696529Z",
     "start_time": "2024-05-31T03:18:48.691041Z"
    }
   },
   "outputs": [],
   "source": [
    "file1 = open(\"file1.txt\", \"w\")\n",
    "file1.write(\"Dr. Che will win the first place in LA midterm!\")\n",
    "file1.close()"
   ]
  },
  {
   "cell_type": "code",
   "execution_count": 3,
   "metadata": {
    "ExecuteTime": {
     "end_time": "2024-05-31T03:18:53.605734Z",
     "start_time": "2024-05-31T03:18:53.594343Z"
    }
   },
   "outputs": [
    {
     "data": {
      "text/plain": [
       "'Dr. Che will win the first place in LA midterm!'"
      ]
     },
     "execution_count": 3,
     "metadata": {},
     "output_type": "execute_result"
    }
   ],
   "source": [
    "#let's read the contents of the file now.\n",
    "file1 = open(\"file1.txt\", \"r\")\n",
    "file1.read()"
   ]
  },
  {
   "cell_type": "code",
   "execution_count": 4,
   "metadata": {
    "ExecuteTime": {
     "end_time": "2024-05-31T03:19:03.237995Z",
     "start_time": "2024-05-31T03:19:03.233926Z"
    }
   },
   "outputs": [],
   "source": [
    "# exercise \n",
    "test1 = open(\"test1.txt\", \"w\")\n",
    "str1 = 'Today is Tuesday.'\n",
    "test1.write(str1)\n",
    "test1.close()"
   ]
  },
  {
   "cell_type": "markdown",
   "metadata": {},
   "source": [
    "**Example 3.  Appending content to the file**\n",
    "\n",
    "Here we will append the following text to the **\"file1.txt\"** file and again read the same file. \n",
    "\n",
    "```py\n",
    "\"This week we are learning chapter 6 input and output!\"\n",
    "```"
   ]
  },
  {
   "cell_type": "code",
   "execution_count": 5,
   "metadata": {
    "ExecuteTime": {
     "end_time": "2024-05-31T03:19:12.669102Z",
     "start_time": "2024-05-31T03:19:12.663845Z"
    }
   },
   "outputs": [],
   "source": [
    "file1 = open(\"file1.txt\", \"a\")\n",
    "file1.write(\"\\nThis week we are learning chapter 6 input and output!\")\n",
    "file1.close()"
   ]
  },
  {
   "cell_type": "code",
   "execution_count": 6,
   "metadata": {
    "ExecuteTime": {
     "end_time": "2024-05-31T03:19:17.392188Z",
     "start_time": "2024-05-31T03:19:17.388111Z"
    }
   },
   "outputs": [
    {
     "data": {
      "text/plain": [
       "'Dr. Che will win the first place in LA midterm!\\nThis week we are learning chapter 6 input and output!'"
      ]
     },
     "execution_count": 6,
     "metadata": {},
     "output_type": "execute_result"
    }
   ],
   "source": [
    "# reading the file\n",
    "file1 = open(\"file1.txt\", \"r\")\n",
    "file1.read()"
   ]
  },
  {
   "cell_type": "markdown",
   "metadata": {},
   "source": [
    "### Reading from a file\n",
    "\n",
    "There are three ways to read data from a text file.\n",
    "\n",
    "***File_object.read(n)***\n",
    "* read() : Returns the read bytes in form of a string. Reads n bytes, if no n specified, reads the entire file.\n",
    "\n",
    "***File_object.readline(n)***\n",
    "* readline() : Reads a line of the file and returns in form of a string. For specified n, reads at most n bytes. However, does not reads more than one line, even if n exceeds the length of the line.\n",
    "\n",
    "***File_object.readlines()***\n",
    "* readlines() : Reads all the lines and return them as each line a string element in a list."
   ]
  },
  {
   "cell_type": "code",
   "execution_count": 28,
   "metadata": {
    "ExecuteTime": {
     "end_time": "2024-05-31T03:27:11.142713Z",
     "start_time": "2024-05-31T03:27:11.134845Z"
    }
   },
   "outputs": [],
   "source": [
    "# Program to show various ways to read data from a file. \n",
    "  \n",
    "# Creating a file\n",
    "file2 = open(\"file2.txt\", \"w\")\n",
    "L = [\"This is sentence 1. \\n\", \"This is sentence 2. \\n\", \"This is sentence 3. \\n\"] # new line character help the cursor to the new line\n",
    "  \n",
    "# Writing data to a file\n",
    "file2.write(\"Hello \\n\") \n",
    "file2.writelines(L) # .writelines() can write multiple lines\n",
    "file2.close()  # to change file access modes"
   ]
  },
  {
   "cell_type": "code",
   "execution_count": 29,
   "metadata": {
    "ExecuteTime": {
     "end_time": "2024-05-31T03:27:14.466496Z",
     "start_time": "2024-05-31T03:27:14.462317Z"
    }
   },
   "outputs": [],
   "source": [
    "# '+': open for updating (reading and writing)\n",
    "file2 = open(\"file2.txt\", \"r+\")"
   ]
  },
  {
   "cell_type": "code",
   "execution_count": 30,
   "metadata": {
    "ExecuteTime": {
     "end_time": "2024-05-31T03:27:15.003445Z",
     "start_time": "2024-05-31T03:27:14.998423Z"
    }
   },
   "outputs": [
    {
     "name": "stdout",
     "output_type": "stream",
     "text": [
      "Output of Read function is \n"
     ]
    },
    {
     "data": {
      "text/plain": [
       "'Hello \\n'"
      ]
     },
     "execution_count": 30,
     "metadata": {},
     "output_type": "execute_result"
    }
   ],
   "source": [
    "print(\"Output of Read function is \")\n",
    "file2.readline(100) #.readline() can help the cursor moving"
   ]
  },
  {
   "cell_type": "code",
   "execution_count": 31,
   "metadata": {
    "ExecuteTime": {
     "end_time": "2024-05-31T03:27:15.334348Z",
     "start_time": "2024-05-31T03:27:15.329558Z"
    }
   },
   "outputs": [
    {
     "name": "stdout",
     "output_type": "stream",
     "text": [
      "Output of Readline function is \n"
     ]
    },
    {
     "data": {
      "text/plain": [
       "'This is sentence 1. \\n'"
      ]
     },
     "execution_count": 31,
     "metadata": {},
     "output_type": "execute_result"
    }
   ],
   "source": [
    "# seek(n) takes the file handle to the nth bite from the beginning. \n",
    "file2.seek(7)\n",
    "\n",
    "print(\"Output of Readline function is \")\n",
    "file2.readline()"
   ]
  },
  {
   "cell_type": "code",
   "execution_count": 32,
   "metadata": {
    "ExecuteTime": {
     "end_time": "2024-05-31T03:27:15.851951Z",
     "start_time": "2024-05-31T03:27:15.847543Z"
    }
   },
   "outputs": [
    {
     "name": "stdout",
     "output_type": "stream",
     "text": [
      "Output of Read(9) function is \n"
     ]
    },
    {
     "data": {
      "text/plain": [
       "'Hello \\nTh'"
      ]
     },
     "execution_count": 32,
     "metadata": {},
     "output_type": "execute_result"
    }
   ],
   "source": [
    "file2.seek(0)\n",
    "  \n",
    "# To show difference between read and readline \n",
    "print(\"Output of Read(9) function is \")\n",
    "file2.read(9)"
   ]
  },
  {
   "cell_type": "code",
   "execution_count": 33,
   "metadata": {
    "ExecuteTime": {
     "end_time": "2024-05-31T03:27:18.325299Z",
     "start_time": "2024-05-31T03:27:18.321121Z"
    }
   },
   "outputs": [
    {
     "name": "stdout",
     "output_type": "stream",
     "text": [
      "Output of Readline(9) function is \n"
     ]
    },
    {
     "data": {
      "text/plain": [
       "'Hello \\n'"
      ]
     },
     "execution_count": 33,
     "metadata": {},
     "output_type": "execute_result"
    }
   ],
   "source": [
    "file2.seek(0)\n",
    "  \n",
    "print(\"Output of Readline(9) function is \")\n",
    "file2.readline(9)"
   ]
  },
  {
   "cell_type": "code",
   "execution_count": 41,
   "metadata": {
    "ExecuteTime": {
     "end_time": "2024-05-31T03:27:57.502861Z",
     "start_time": "2024-05-31T03:27:57.497440Z"
    }
   },
   "outputs": [
    {
     "name": "stdout",
     "output_type": "stream",
     "text": [
      "Output of Readlines function is \n"
     ]
    },
    {
     "data": {
      "text/plain": [
       "['Hello \\n', 'This is sentence 1. \\n']"
      ]
     },
     "execution_count": 41,
     "metadata": {},
     "output_type": "execute_result"
    }
   ],
   "source": [
    "file2.seek(0)\n",
    "  \n",
    "# readlines function \n",
    "print(\"Output of Readlines function is \")\n",
    "file2.readlines(9)"
   ]
  },
  {
   "cell_type": "code",
   "execution_count": 27,
   "metadata": {
    "ExecuteTime": {
     "end_time": "2024-05-31T03:24:29.469031Z",
     "start_time": "2024-05-31T03:24:29.459906Z"
    }
   },
   "outputs": [],
   "source": [
    "file2.close() "
   ]
  },
  {
   "cell_type": "markdown",
   "metadata": {},
   "source": [
    "> **Important**: Always make sure you explicitly close each open file, once its job is done and you have no reason to keep it open. Because - There is an upper limit to the number of files a program can open. If you exceed that limit, there is no reliable way of recovery, so the program could crash. - Each open file consumes some main-memory for the data-structures associated with it, like file descriptor/handle or file locks etc. So you could essentially end-up wasting lots of memory if you have more files open that are not useful or usable. - Open files always stand a chance of corruption and data loss."
   ]
  },
  {
   "cell_type": "markdown",
   "metadata": {},
   "source": [
    "### Writing to file\n",
    "\n",
    "There are two ways to write in a file.\n",
    "\n",
    "***File_object.write(str1)***\n",
    "* write(): Inserts the string str1 in a single line in the text file.\n",
    "\n",
    "***File_object.writelines(list1)***\n",
    "* writelines(): For a list of string elements, each string is inserted in the text file. Used to insert multiple strings at a single time."
   ]
  },
  {
   "cell_type": "code",
   "execution_count": 42,
   "metadata": {
    "ExecuteTime": {
     "end_time": "2024-05-31T03:29:05.091325Z",
     "start_time": "2024-05-31T03:29:05.086414Z"
    }
   },
   "outputs": [],
   "source": [
    "# Python program to demonstrate writing to file\n",
    "  \n",
    "# Opening a file\n",
    "file3 = open('file3.txt', 'w')\n",
    "L = [\"This is sentence 1. \\n\", \"This is sentence 2. \\n\", \"This is sentence 3. \\n\"]\n",
    "s = \"Hello\\n\""
   ]
  },
  {
   "cell_type": "code",
   "execution_count": 43,
   "metadata": {
    "ExecuteTime": {
     "end_time": "2024-05-31T03:29:05.859768Z",
     "start_time": "2024-05-31T03:29:05.856082Z"
    }
   },
   "outputs": [
    {
     "data": {
      "text/plain": [
       "6"
      ]
     },
     "execution_count": 43,
     "metadata": {},
     "output_type": "execute_result"
    }
   ],
   "source": [
    "# Writing a string to file\n",
    "file3.write(s)"
   ]
  },
  {
   "cell_type": "code",
   "execution_count": 44,
   "metadata": {
    "ExecuteTime": {
     "end_time": "2024-05-31T03:29:06.526641Z",
     "start_time": "2024-05-31T03:29:06.524261Z"
    }
   },
   "outputs": [],
   "source": [
    "# Writing multiple strings at a time\n",
    "file3.writelines(L)"
   ]
  },
  {
   "cell_type": "code",
   "execution_count": 45,
   "metadata": {
    "ExecuteTime": {
     "end_time": "2024-05-31T03:29:07.186503Z",
     "start_time": "2024-05-31T03:29:07.184169Z"
    }
   },
   "outputs": [],
   "source": [
    "# Closing file\n",
    "file3.close()"
   ]
  },
  {
   "cell_type": "code",
   "execution_count": 46,
   "metadata": {
    "ExecuteTime": {
     "end_time": "2024-05-31T03:29:10.954522Z",
     "start_time": "2024-05-31T03:29:10.950370Z"
    }
   },
   "outputs": [],
   "source": [
    "# exercise \n",
    "filename = 'test2.txt'\n",
    "list1 = ['Sunday\\n', 'Monday\\n', 'Tuesday\\n', 'Wednesday\\n', 'Thursday\\n', 'Friday\\n', 'Saturday\\n']\n",
    "\n",
    "test2 = open(filename, 'w')\n",
    "test2.writelines(list1)\n",
    "test2.close()"
   ]
  },
  {
   "cell_type": "code",
   "execution_count": 47,
   "metadata": {
    "ExecuteTime": {
     "end_time": "2024-05-31T03:29:13.147902Z",
     "start_time": "2024-05-31T03:29:13.144314Z"
    }
   },
   "outputs": [
    {
     "name": "stdout",
     "output_type": "stream",
     "text": [
      "Sunday\n",
      "Monday\n",
      "Tuesday\n",
      "Wednesday\n",
      "Thursday\n",
      "Friday\n",
      "Saturday\n",
      "\n"
     ]
    }
   ],
   "source": [
    "test2 = open(filename, 'r')\n",
    "print(test2.read())\n",
    "test2.close()"
   ]
  },
  {
   "cell_type": "code",
   "execution_count": 48,
   "metadata": {
    "ExecuteTime": {
     "end_time": "2024-05-31T03:29:18.062878Z",
     "start_time": "2024-05-31T03:29:18.058958Z"
    }
   },
   "outputs": [
    {
     "name": "stdout",
     "output_type": "stream",
     "text": [
      "Hello\n",
      "This is sentence 1. \n",
      "This is sentence 2. \n",
      "This is sentence 3. \n",
      "\n"
     ]
    }
   ],
   "source": [
    "# Checking if the data is written to file or not\n",
    "file3 = open('file3.txt', 'r')\n",
    "print(file3.read())\n",
    "file3.close()"
   ]
  },
  {
   "cell_type": "markdown",
   "metadata": {},
   "source": [
    "### Appending to a file\n",
    "\n",
    "* When the file is open in append mode, the handle is positioned at the end of the file. The data being written will be inserted at the end, after the existing data. Let’s see the below example to clarify the difference between write mode and append mode."
   ]
  },
  {
   "cell_type": "code",
   "execution_count": 49,
   "metadata": {
    "ExecuteTime": {
     "end_time": "2024-05-31T03:30:58.851112Z",
     "start_time": "2024-05-31T03:30:58.846658Z"
    }
   },
   "outputs": [],
   "source": [
    "# Python program to illustrate\n",
    "# Append vs write mode\n",
    "file4 = open(\"file4.txt\", \"w\")\n",
    "L = [\"This is sentence 1. \\n\", \"This is sentence 2. \\n\", \"This is sentence 3. \\n\"]\n",
    "file4.writelines(L)\n",
    "file4.close()"
   ]
  },
  {
   "cell_type": "code",
   "execution_count": 50,
   "metadata": {
    "ExecuteTime": {
     "end_time": "2024-05-31T03:30:59.894215Z",
     "start_time": "2024-05-31T03:30:59.890859Z"
    }
   },
   "outputs": [],
   "source": [
    "# Append-adds at last\n",
    "file4 = open(\"file4.txt\", \"a\")  # append mode\n",
    "file4.write(\"Today \\n\")\n",
    "file4.close()"
   ]
  },
  {
   "cell_type": "code",
   "execution_count": 51,
   "metadata": {
    "ExecuteTime": {
     "end_time": "2024-05-31T03:31:01.264507Z",
     "start_time": "2024-05-31T03:31:01.260614Z"
    }
   },
   "outputs": [
    {
     "name": "stdout",
     "output_type": "stream",
     "text": [
      "Output of Readlines after appending\n",
      "This is sentence 1. \n",
      "This is sentence 2. \n",
      "This is sentence 3. \n",
      "Today \n",
      "\n"
     ]
    }
   ],
   "source": [
    "file4 = open(\"file4.txt\", \"r\")\n",
    "print(\"Output of Readlines after appending\")\n",
    "print(file4.read())\n",
    "file4.close()"
   ]
  },
  {
   "cell_type": "code",
   "execution_count": 52,
   "metadata": {
    "ExecuteTime": {
     "end_time": "2024-05-31T03:31:04.611953Z",
     "start_time": "2024-05-31T03:31:04.609194Z"
    }
   },
   "outputs": [],
   "source": [
    "# Write-Overwrites\n",
    "file4 = open(\"file4.txt\", \"w\")  # write mode\n",
    "file4.write(\"Tomorrow \\n\")\n",
    "file4.close()"
   ]
  },
  {
   "cell_type": "code",
   "execution_count": 53,
   "metadata": {
    "ExecuteTime": {
     "end_time": "2024-05-31T03:31:06.711243Z",
     "start_time": "2024-05-31T03:31:06.706794Z"
    }
   },
   "outputs": [
    {
     "name": "stdout",
     "output_type": "stream",
     "text": [
      "Output of Readlines after writing\n",
      "Tomorrow \n",
      "\n"
     ]
    }
   ],
   "source": [
    "file4 = open(\"file4.txt\", \"r\")\n",
    "print(\"Output of Readlines after writing\")\n",
    "print(file4.read())\n",
    "file4.close()"
   ]
  },
  {
   "cell_type": "markdown",
   "metadata": {},
   "source": [
    "## Using the `with` statement\n",
    "\n",
    "`with` statement in Python is used in exception handling to make the code cleaner and much more readable. It simplifies the management of common resources like file streams. Unlike the above implementations, <span class=\"mark\">there is no need to call file.close()</span> when using `with` statement. The `with` statement itself ensures proper acquisition and release of resources."
   ]
  },
  {
   "cell_type": "code",
   "execution_count": 56,
   "metadata": {
    "ExecuteTime": {
     "end_time": "2024-05-31T03:33:29.703377Z",
     "start_time": "2024-05-31T03:33:29.700135Z"
    }
   },
   "outputs": [],
   "source": [
    "# Program to show various ways to read data from a file.\n",
    "  \n",
    "L = [\"This is sentence 1. \\n\", \"This is sentence 2. \\n\", \"This is sentence 3. \\n\"]\n",
    "  \n",
    "# Creating a file\n",
    "with open(\"file5.txt\", \"w\") as file5:\n",
    "    # Writing data to a file\n",
    "    file5.write(\"Hello \\n\")\n",
    "    file5.writelines(L)"
   ]
  },
  {
   "cell_type": "code",
   "execution_count": 57,
   "metadata": {
    "ExecuteTime": {
     "end_time": "2024-05-31T03:33:35.600109Z",
     "start_time": "2024-05-31T03:33:35.596627Z"
    }
   },
   "outputs": [
    {
     "name": "stdout",
     "output_type": "stream",
     "text": [
      "Hello \n",
      "This is sentence 1. \n",
      "This is sentence 2. \n",
      "This is sentence 3. \n",
      "\n"
     ]
    }
   ],
   "source": [
    "with open(\"file5.txt\", \"r+\") as file5:\n",
    "    # Reading form a file\n",
    "    print(file5.read())"
   ]
  },
  {
   "cell_type": "markdown",
   "metadata": {},
   "source": [
    "**Example**\n",
    "\n",
    "* In this example we will copy a given text file to another file."
   ]
  },
  {
   "cell_type": "code",
   "execution_count": null,
   "metadata": {
    "ExecuteTime": {
     "end_time": "2024-04-22T06:07:32.235867Z",
     "start_time": "2024-04-22T06:07:32.226466Z"
    }
   },
   "outputs": [],
   "source": [
    "import sys\n",
    "\n",
    "def copyFile(inputDir, outputDir):\n",
    "    with open(inputDir, 'r') as f_input:\n",
    "        l = f_input.readlines()\n",
    "    with open(outputDir, 'w') as f_output:\n",
    "        f_output.writelines(l)\n",
    "\n",
    "if __name__ == '__main__': #???\n",
    "    inputDir = 'Resource/input.txt'\n",
    "    outputDir = 'Resource/copyOutput.txt'\n",
    "    copyFile(inputDir, outputDir)"
   ]
  },
  {
   "cell_type": "code",
   "execution_count": null,
   "metadata": {
    "ExecuteTime": {
     "end_time": "2022-11-10T08:12:10.891062Z",
     "start_time": "2022-11-10T08:12:10.883693Z"
    }
   },
   "outputs": [],
   "source": [
    "dict1 = {'a':5, 'b':3, 'x':100}\n",
    "dict_txt_dir = 'Resource/dic.txt'\n",
    "\n",
    "with open(dict_txt_dir, 'w') as f:\n",
    "    for key, val in dict1.items():\n",
    "        f.write('the student with name '+ key + ' has RMB ' + str(val) + ' yuan in his/her wallet' '\\n')"
   ]
  },
  {
   "cell_type": "markdown",
   "metadata": {
    "deletable": false,
    "editable": false,
    "nbgrader": {
     "cell_type": "markdown",
     "checksum": "ba7a554a25906536d51985512e2dc274",
     "grade": false,
     "grade_id": "cell-8bbdef89e6ee725d",
     "locked": true,
     "schema_version": 3,
     "solution": false,
     "task": false
    }
   },
   "source": [
    "## Exercises"
   ]
  },
  {
   "cell_type": "markdown",
   "metadata": {
    "deletable": false,
    "editable": false,
    "nbgrader": {
     "cell_type": "markdown",
     "checksum": "39cc07d15b5ad63d2150393c20fccb8b",
     "grade": false,
     "grade_id": "cell-bc6d6c93dfddb3d8",
     "locked": true,
     "schema_version": 3,
     "solution": false,
     "task": false
    }
   },
   "source": [
    "**Question1**. Write the string ``\"This is new content\"`` as a single line into the file ``\"question1.txt\"``."
   ]
  },
  {
   "cell_type": "code",
   "execution_count": 45,
   "metadata": {
    "ExecuteTime": {
     "end_time": "2024-04-22T06:28:14.032205Z",
     "start_time": "2024-04-22T06:28:14.029274Z"
    },
    "deletable": false,
    "nbgrader": {
     "cell_type": "code",
     "checksum": "ea62a3c1e80c3194b6937468a2ac1de9",
     "grade": false,
     "grade_id": "cell-dd0e29478ae25219",
     "locked": false,
     "schema_version": 3,
     "solution": true,
     "task": false
    }
   },
   "outputs": [],
   "source": [
    "text = \"This is new content\"\n",
    "filename = \"question1.txt\"\n",
    "\n",
    "# writing new content to the file. \n",
    "question1 = open(filename,'w')\n",
    "question1.write(text)\n",
    "question1.close()\n",
    "\n",
    "# make sure the file question1.txt exists"
   ]
  },
  {
   "cell_type": "code",
   "execution_count": null,
   "metadata": {
    "deletable": false,
    "editable": false,
    "nbgrader": {
     "cell_type": "code",
     "checksum": "b2a296dcdcf5c246c7856949a9c2dfea",
     "grade": true,
     "grade_id": "cell-61ad40745762da3e",
     "locked": true,
     "points": 20,
     "schema_version": 3,
     "solution": false,
     "task": false
    }
   },
   "outputs": [],
   "source": []
  },
  {
   "cell_type": "markdown",
   "metadata": {
    "deletable": false,
    "editable": false,
    "nbgrader": {
     "cell_type": "markdown",
     "checksum": "d4dc6d0a6f98ef02d594fb5d6670c561",
     "grade": false,
     "grade_id": "cell-278d253177ebfd9d",
     "locked": true,
     "schema_version": 3,
     "solution": false,
     "task": false
    }
   },
   "source": [
    "**Question2**. Write the following list of strings into the file ``\"question2.txt\"``.\n",
    "\n",
    "**Example** \n",
    "```py\n",
    "person_data = ['Name: Alice', '\\nAddress: 123 Jintong Road', '\\nCity: Zhuhai']\n",
    "```"
   ]
  },
  {
   "cell_type": "code",
   "execution_count": 53,
   "metadata": {
    "ExecuteTime": {
     "end_time": "2024-04-22T06:31:47.390516Z",
     "start_time": "2024-04-22T06:31:47.387480Z"
    },
    "deletable": false,
    "nbgrader": {
     "cell_type": "code",
     "checksum": "d98e1c1b62d2c93316acdae0e68ffecd",
     "grade": false,
     "grade_id": "cell-5971d54c0f364e44",
     "locked": false,
     "schema_version": 3,
     "solution": true,
     "task": false
    }
   },
   "outputs": [],
   "source": [
    "person_data = ['Name: Alice', '\\nAddress: 123 Jintong Road', '\\nCity: Zhuhai']\n",
    "\n",
    "question2 = open('question2.txt', 'w')\n",
    "question2.writelines(person_data)\n",
    "question2.close()\n",
    "\n",
    "# make sure the file question2.txt exists"
   ]
  },
  {
   "cell_type": "code",
   "execution_count": null,
   "metadata": {
    "deletable": false,
    "editable": false,
    "nbgrader": {
     "cell_type": "code",
     "checksum": "4c1fea70dcf769a54565bfd1f6d78855",
     "grade": true,
     "grade_id": "cell-e2f9f459246c58a0",
     "locked": true,
     "points": 20,
     "schema_version": 3,
     "solution": false,
     "task": false
    }
   },
   "outputs": [],
   "source": []
  },
  {
   "cell_type": "code",
   "execution_count": null,
   "metadata": {
    "deletable": false,
    "editable": false,
    "nbgrader": {
     "cell_type": "code",
     "checksum": "5515401d1148863c26a4bba5dbf86237",
     "grade": true,
     "grade_id": "cell-ac0f4af894a6047b",
     "locked": true,
     "points": 0,
     "schema_version": 3,
     "solution": false,
     "task": false
    }
   },
   "outputs": [],
   "source": []
  },
  {
   "cell_type": "code",
   "execution_count": null,
   "metadata": {},
   "outputs": [],
   "source": []
  },
  {
   "cell_type": "code",
   "execution_count": null,
   "metadata": {},
   "outputs": [],
   "source": []
  },
  {
   "cell_type": "markdown",
   "metadata": {},
   "source": [
    "## Using module `pickle`\n",
    "\n",
    "* Python provides a standard module called **pickle** using which you can store any Python object in a file and then get it back later."
   ]
  },
  {
   "cell_type": "code",
   "execution_count": 58,
   "metadata": {
    "ExecuteTime": {
     "end_time": "2024-05-31T03:35:02.107262Z",
     "start_time": "2024-05-31T03:35:02.104170Z"
    }
   },
   "outputs": [],
   "source": [
    "# import pickle package 酸黄瓜包\n",
    "import pickle as p"
   ]
  },
  {
   "cell_type": "code",
   "execution_count": 59,
   "metadata": {
    "ExecuteTime": {
     "end_time": "2024-05-31T03:35:04.992681Z",
     "start_time": "2024-05-31T03:35:04.989979Z"
    }
   },
   "outputs": [],
   "source": [
    "# create a shop list\n",
    "shoplist = ['apple', 'mango', 'python','65478979834543546784345645646']"
   ]
  },
  {
   "cell_type": "code",
   "execution_count": 60,
   "metadata": {
    "ExecuteTime": {
     "end_time": "2024-05-31T03:35:07.039548Z",
     "start_time": "2024-05-31T03:35:07.032126Z"
    }
   },
   "outputs": [],
   "source": [
    "# store shoplist information using pickle\n",
    "shoplistfile = 'Resource/shoplist.pkl'\n",
    "\n",
    "with open(shoplistfile, 'wb') as fw: # open the file to hold the object\n",
    "    p.dump(shoplist, fw) # dump the object to file"
   ]
  },
  {
   "cell_type": "code",
   "execution_count": 61,
   "metadata": {
    "ExecuteTime": {
     "end_time": "2024-05-31T03:35:12.654792Z",
     "start_time": "2024-05-31T03:35:12.651736Z"
    }
   },
   "outputs": [],
   "source": [
    "# load the Python object to memory\n",
    "shoplist_loaded=[]\n",
    "\n",
    "with open(shoplistfile, 'rb') as fo:\n",
    "    shoplist_loaded = p.load(fo)"
   ]
  },
  {
   "cell_type": "code",
   "execution_count": 62,
   "metadata": {
    "ExecuteTime": {
     "end_time": "2024-05-31T03:35:14.301706Z",
     "start_time": "2024-05-31T03:35:14.296823Z"
    }
   },
   "outputs": [
    {
     "data": {
      "text/plain": [
       "['apple', 'mango', 'python', '65478979834543546784345645646']"
      ]
     },
     "execution_count": 62,
     "metadata": {},
     "output_type": "execute_result"
    }
   ],
   "source": [
    "shoplist_loaded"
   ]
  },
  {
   "cell_type": "markdown",
   "metadata": {},
   "source": [
    "## Using package `pandas` \n",
    "Installation of Pandas on your system requires NumPy to be installed, and if building the library from source, requires the appropriate tools to compile the C and Cython sources on which Pandas is built.\n",
    "Details on this installation can be found in the [Pandas documentation](https://pandas.pydata.org/docs/user_guide/10min.html).\n",
    "If you installed Anaconda, you already have Pandas installed.\n",
    "\n",
    "Once Pandas is installed, you can import it and check the version. We will import Pandas under the alias ``pd``. This import convention will be used throughout the remainder of our notes."
   ]
  },
  {
   "cell_type": "code",
   "execution_count": 63,
   "metadata": {
    "ExecuteTime": {
     "end_time": "2024-05-31T03:35:20.631909Z",
     "start_time": "2024-05-31T03:35:19.627818Z"
    }
   },
   "outputs": [],
   "source": [
    "import numpy as np\n",
    "import pandas as pd\n"
   ]
  },
  {
   "cell_type": "code",
   "execution_count": 36,
   "metadata": {
    "ExecuteTime": {
     "end_time": "2024-04-22T06:19:57.299145Z",
     "start_time": "2024-04-22T06:19:57.294705Z"
    }
   },
   "outputs": [
    {
     "data": {
      "text/plain": [
       "0    100\n",
       "1    100\n",
       "2     90\n",
       "3     90\n",
       "4     40\n",
       "5     88\n",
       "dtype: int64"
      ]
     },
     "execution_count": 36,
     "metadata": {},
     "output_type": "execute_result"
    }
   ],
   "source": [
    "# Create Pandas series\n",
    "data = [100, 100, 90,90,40,88]\n",
    "mySeries = pd.Series(data)\n",
    "mySeries"
   ]
  },
  {
   "cell_type": "code",
   "execution_count": 64,
   "metadata": {
    "ExecuteTime": {
     "end_time": "2024-05-31T03:35:47.887945Z",
     "start_time": "2024-05-31T03:35:47.858728Z"
    }
   },
   "outputs": [
    {
     "data": {
      "text/html": [
       "<div>\n",
       "<style scoped>\n",
       "    .dataframe tbody tr th:only-of-type {\n",
       "        vertical-align: middle;\n",
       "    }\n",
       "\n",
       "    .dataframe tbody tr th {\n",
       "        vertical-align: top;\n",
       "    }\n",
       "\n",
       "    .dataframe thead th {\n",
       "        text-align: right;\n",
       "    }\n",
       "</style>\n",
       "<table border=\"1\" class=\"dataframe\">\n",
       "  <thead>\n",
       "    <tr style=\"text-align: right;\">\n",
       "      <th></th>\n",
       "      <th>student</th>\n",
       "      <th>grade</th>\n",
       "    </tr>\n",
       "  </thead>\n",
       "  <tbody>\n",
       "    <tr>\n",
       "      <th>0</th>\n",
       "      <td>Alice</td>\n",
       "      <td>100</td>\n",
       "    </tr>\n",
       "    <tr>\n",
       "      <th>1</th>\n",
       "      <td>Mark</td>\n",
       "      <td>80</td>\n",
       "    </tr>\n",
       "    <tr>\n",
       "      <th>2</th>\n",
       "      <td>Jake</td>\n",
       "      <td>100</td>\n",
       "    </tr>\n",
       "    <tr>\n",
       "      <th>3</th>\n",
       "      <td>Jie</td>\n",
       "      <td>90</td>\n",
       "    </tr>\n",
       "    <tr>\n",
       "      <th>4</th>\n",
       "      <td>Sunny</td>\n",
       "      <td>40</td>\n",
       "    </tr>\n",
       "  </tbody>\n",
       "</table>\n",
       "</div>"
      ],
      "text/plain": [
       "  student  grade\n",
       "0   Alice    100\n",
       "1    Mark     80\n",
       "2    Jake    100\n",
       "3     Jie     90\n",
       "4   Sunny     40"
      ]
     },
     "execution_count": 64,
     "metadata": {},
     "output_type": "execute_result"
    }
   ],
   "source": [
    "# Create Pandas Dataframe\n",
    "data = [(\"Alice\", 100), (\"Mark\", 80), (\"Jake\", 100), (\"Jie\", 90), (\"Sunny\", 40)]\n",
    "\n",
    "mydf = pd.DataFrame(data, columns=[\"student\", \"grade\"])\n",
    "mydf"
   ]
  },
  {
   "cell_type": "code",
   "execution_count": 40,
   "metadata": {
    "ExecuteTime": {
     "end_time": "2024-04-22T06:21:24.002358Z",
     "start_time": "2024-04-22T06:21:23.923107Z"
    }
   },
   "outputs": [],
   "source": [
    "# Import data to Pandas dataframe\n",
    "mydf2 = pd.read_csv(\"grades.csv\")"
   ]
  },
  {
   "cell_type": "code",
   "execution_count": 41,
   "metadata": {
    "ExecuteTime": {
     "end_time": "2024-04-22T06:21:26.904179Z",
     "start_time": "2024-04-22T06:21:26.834968Z"
    }
   },
   "outputs": [
    {
     "data": {
      "text/html": [
       "<div>\n",
       "<style scoped>\n",
       "    .dataframe tbody tr th:only-of-type {\n",
       "        vertical-align: middle;\n",
       "    }\n",
       "\n",
       "    .dataframe tbody tr th {\n",
       "        vertical-align: top;\n",
       "    }\n",
       "\n",
       "    .dataframe thead th {\n",
       "        text-align: right;\n",
       "    }\n",
       "</style>\n",
       "<table border=\"1\" class=\"dataframe\">\n",
       "  <thead>\n",
       "    <tr style=\"text-align: right;\">\n",
       "      <th></th>\n",
       "      <th>uniqueNo</th>\n",
       "      <th>assignments</th>\n",
       "      <th>project</th>\n",
       "      <th>participation</th>\n",
       "      <th>exam</th>\n",
       "    </tr>\n",
       "  </thead>\n",
       "  <tbody>\n",
       "    <tr>\n",
       "      <th>count</th>\n",
       "      <td>302.000000</td>\n",
       "      <td>302.000000</td>\n",
       "      <td>302.000000</td>\n",
       "      <td>302.000000</td>\n",
       "      <td>302.000000</td>\n",
       "    </tr>\n",
       "    <tr>\n",
       "      <th>mean</th>\n",
       "      <td>151.192053</td>\n",
       "      <td>74.957616</td>\n",
       "      <td>74.858957</td>\n",
       "      <td>90.331126</td>\n",
       "      <td>50.758278</td>\n",
       "    </tr>\n",
       "    <tr>\n",
       "      <th>std</th>\n",
       "      <td>88.212648</td>\n",
       "      <td>25.237500</td>\n",
       "      <td>18.503299</td>\n",
       "      <td>19.113830</td>\n",
       "      <td>21.045067</td>\n",
       "    </tr>\n",
       "    <tr>\n",
       "      <th>min</th>\n",
       "      <td>1.000000</td>\n",
       "      <td>0.000000</td>\n",
       "      <td>0.000000</td>\n",
       "      <td>0.000000</td>\n",
       "      <td>0.000000</td>\n",
       "    </tr>\n",
       "    <tr>\n",
       "      <th>25%</th>\n",
       "      <td>75.250000</td>\n",
       "      <td>68.737500</td>\n",
       "      <td>72.156250</td>\n",
       "      <td>90.000000</td>\n",
       "      <td>37.000000</td>\n",
       "    </tr>\n",
       "    <tr>\n",
       "      <th>50%</th>\n",
       "      <td>150.500000</td>\n",
       "      <td>84.250000</td>\n",
       "      <td>79.440000</td>\n",
       "      <td>100.000000</td>\n",
       "      <td>52.000000</td>\n",
       "    </tr>\n",
       "    <tr>\n",
       "      <th>75%</th>\n",
       "      <td>227.750000</td>\n",
       "      <td>91.830000</td>\n",
       "      <td>85.562500</td>\n",
       "      <td>100.000000</td>\n",
       "      <td>67.000000</td>\n",
       "    </tr>\n",
       "    <tr>\n",
       "      <th>max</th>\n",
       "      <td>303.000000</td>\n",
       "      <td>100.000000</td>\n",
       "      <td>95.750000</td>\n",
       "      <td>100.000000</td>\n",
       "      <td>95.000000</td>\n",
       "    </tr>\n",
       "  </tbody>\n",
       "</table>\n",
       "</div>"
      ],
      "text/plain": [
       "         uniqueNo  assignments     project  participation        exam\n",
       "count  302.000000   302.000000  302.000000     302.000000  302.000000\n",
       "mean   151.192053    74.957616   74.858957      90.331126   50.758278\n",
       "std     88.212648    25.237500   18.503299      19.113830   21.045067\n",
       "min      1.000000     0.000000    0.000000       0.000000    0.000000\n",
       "25%     75.250000    68.737500   72.156250      90.000000   37.000000\n",
       "50%    150.500000    84.250000   79.440000     100.000000   52.000000\n",
       "75%    227.750000    91.830000   85.562500     100.000000   67.000000\n",
       "max    303.000000   100.000000   95.750000     100.000000   95.000000"
      ]
     },
     "execution_count": 41,
     "metadata": {},
     "output_type": "execute_result"
    }
   ],
   "source": [
    "# Quick Understanding of the data\n",
    "mydf2.describe()"
   ]
  },
  {
   "cell_type": "code",
   "execution_count": null,
   "metadata": {
    "ExecuteTime": {
     "end_time": "2024-04-22T02:59:13.558195Z",
     "start_time": "2024-04-22T02:59:13.548016Z"
    }
   },
   "outputs": [],
   "source": [
    "# Reference columns of a dataframe\n",
    "print(mydf2.columns)\n",
    "print(mydf2[\"assignments\"])\n",
    "print(mydf2[\"program\"])\n",
    "print(mydf2[\"assignments\"].describe())\n",
    "\n",
    "# Referencing my multiple columns\n",
    "subdf = mydf2[[\"program\", \"assignments\"]]"
   ]
  },
  {
   "cell_type": "markdown",
   "metadata": {
    "deletable": false,
    "editable": false,
    "nbgrader": {
     "cell_type": "markdown",
     "checksum": "ed077870adefd551042c4552fc61eb10",
     "grade": false,
     "grade_id": "cell-b6fcf534dc35c8a6",
     "locked": true,
     "schema_version": 3,
     "solution": false,
     "task": false
    }
   },
   "source": [
    "## Exercises"
   ]
  },
  {
   "cell_type": "markdown",
   "metadata": {
    "deletable": false,
    "editable": false,
    "nbgrader": {
     "cell_type": "markdown",
     "checksum": "72b662d0cc772428e767a30639195c36",
     "grade": false,
     "grade_id": "cell-279f2ce0254a5148",
     "locked": true,
     "schema_version": 3,
     "solution": false,
     "task": false
    }
   },
   "source": [
    "**Question**. \n",
    "\n",
    "The file `grades.csv` contains the partial grades of about 300 students from a previous course. Answer all the questions below:\n",
    "1. Use `pandas` to read the file as data frame named `grade_dataframe`. \n",
    "2. Convert the each of the columns \"assignments\", \"project\", \"participation\", and \"exam\" in respective lists named `assignments_list`, `project_list`, `participation_list`, and `exam_list`\n",
    "3. Write each of the list as a pickle file named `grades.pkl` in the same order above\n",
    "\n",
    "**Hint**\n",
    "* You can use the following syntax to convert a data frame column to list: \n",
    "```py\n",
    "list_name = list(data_frame[column_name])\n",
    "```"
   ]
  },
  {
   "cell_type": "code",
   "execution_count": 55,
   "metadata": {
    "ExecuteTime": {
     "end_time": "2024-04-22T06:35:42.544661Z",
     "start_time": "2024-04-22T06:35:42.522953Z"
    },
    "deletable": false,
    "nbgrader": {
     "cell_type": "code",
     "checksum": "77fa76934fed8c0bca88cd3d428eaf90",
     "grade": false,
     "grade_id": "cell-c47848447de4e855",
     "locked": false,
     "schema_version": 3,
     "solution": true,
     "task": false
    }
   },
   "outputs": [
    {
     "data": {
      "text/html": [
       "<div>\n",
       "<style scoped>\n",
       "    .dataframe tbody tr th:only-of-type {\n",
       "        vertical-align: middle;\n",
       "    }\n",
       "\n",
       "    .dataframe tbody tr th {\n",
       "        vertical-align: top;\n",
       "    }\n",
       "\n",
       "    .dataframe thead th {\n",
       "        text-align: right;\n",
       "    }\n",
       "</style>\n",
       "<table border=\"1\" class=\"dataframe\">\n",
       "  <thead>\n",
       "    <tr style=\"text-align: right;\">\n",
       "      <th></th>\n",
       "      <th>assignments</th>\n",
       "      <th>project</th>\n",
       "      <th>participation</th>\n",
       "      <th>exam</th>\n",
       "    </tr>\n",
       "  </thead>\n",
       "  <tbody>\n",
       "    <tr>\n",
       "      <th>count</th>\n",
       "      <td>302.000000</td>\n",
       "      <td>302.000000</td>\n",
       "      <td>302.000000</td>\n",
       "      <td>302.000000</td>\n",
       "    </tr>\n",
       "    <tr>\n",
       "      <th>mean</th>\n",
       "      <td>74.957616</td>\n",
       "      <td>74.858957</td>\n",
       "      <td>90.331126</td>\n",
       "      <td>50.758278</td>\n",
       "    </tr>\n",
       "    <tr>\n",
       "      <th>std</th>\n",
       "      <td>25.237500</td>\n",
       "      <td>18.503299</td>\n",
       "      <td>19.113830</td>\n",
       "      <td>21.045067</td>\n",
       "    </tr>\n",
       "    <tr>\n",
       "      <th>min</th>\n",
       "      <td>0.000000</td>\n",
       "      <td>0.000000</td>\n",
       "      <td>0.000000</td>\n",
       "      <td>0.000000</td>\n",
       "    </tr>\n",
       "    <tr>\n",
       "      <th>25%</th>\n",
       "      <td>68.737500</td>\n",
       "      <td>72.156250</td>\n",
       "      <td>90.000000</td>\n",
       "      <td>37.000000</td>\n",
       "    </tr>\n",
       "    <tr>\n",
       "      <th>50%</th>\n",
       "      <td>84.250000</td>\n",
       "      <td>79.440000</td>\n",
       "      <td>100.000000</td>\n",
       "      <td>52.000000</td>\n",
       "    </tr>\n",
       "    <tr>\n",
       "      <th>75%</th>\n",
       "      <td>91.830000</td>\n",
       "      <td>85.562500</td>\n",
       "      <td>100.000000</td>\n",
       "      <td>67.000000</td>\n",
       "    </tr>\n",
       "    <tr>\n",
       "      <th>max</th>\n",
       "      <td>100.000000</td>\n",
       "      <td>95.750000</td>\n",
       "      <td>100.000000</td>\n",
       "      <td>95.000000</td>\n",
       "    </tr>\n",
       "  </tbody>\n",
       "</table>\n",
       "</div>"
      ],
      "text/plain": [
       "       assignments     project  participation        exam\n",
       "count   302.000000  302.000000     302.000000  302.000000\n",
       "mean     74.957616   74.858957      90.331126   50.758278\n",
       "std      25.237500   18.503299      19.113830   21.045067\n",
       "min       0.000000    0.000000       0.000000    0.000000\n",
       "25%      68.737500   72.156250      90.000000   37.000000\n",
       "50%      84.250000   79.440000     100.000000   52.000000\n",
       "75%      91.830000   85.562500     100.000000   67.000000\n",
       "max     100.000000   95.750000     100.000000   95.000000"
      ]
     },
     "execution_count": 55,
     "metadata": {},
     "output_type": "execute_result"
    }
   ],
   "source": [
    "import pandas as pd\n",
    "import pickle as p\n",
    "\n",
    "# step1: \n",
    "grade_dataframe = pd.read_csv(\"grades.csv\", index_col=0) \n",
    "\n",
    "# step2: \n",
    "assignments_list = list(grade_dataframe[\"assignments\"])\n",
    "project_list = list(grade_dataframe[\"project\"])\n",
    "participation_list = list(grade_dataframe[\"participation\"])\n",
    "exam_list = list(grade_dataframe[\"exam\"])\n",
    "\n",
    "# step3:\n",
    "grade_dataframe.describe()"
   ]
  },
  {
   "cell_type": "code",
   "execution_count": null,
   "metadata": {
    "deletable": false,
    "editable": false,
    "nbgrader": {
     "cell_type": "code",
     "checksum": "b8ab4678e8b76d6608a3dbbe23152ae4",
     "grade": true,
     "grade_id": "cell-0e45c2023b0d5704",
     "locked": true,
     "points": 10,
     "schema_version": 3,
     "solution": false,
     "task": false
    }
   },
   "outputs": [],
   "source": []
  },
  {
   "cell_type": "code",
   "execution_count": null,
   "metadata": {
    "deletable": false,
    "editable": false,
    "nbgrader": {
     "cell_type": "code",
     "checksum": "f0f9d2af2e1e613f5db3902422b16a95",
     "grade": true,
     "grade_id": "cell-048c05f7e072d39a",
     "locked": true,
     "points": 10,
     "schema_version": 3,
     "solution": false,
     "task": false
    }
   },
   "outputs": [],
   "source": []
  },
  {
   "cell_type": "code",
   "execution_count": null,
   "metadata": {
    "deletable": false,
    "editable": false,
    "nbgrader": {
     "cell_type": "code",
     "checksum": "be20bf5bb2c64c5e305d14c7b5ce3812",
     "grade": true,
     "grade_id": "cell-7396215ed6d1be13",
     "locked": true,
     "points": 10,
     "schema_version": 3,
     "solution": false,
     "task": false
    }
   },
   "outputs": [],
   "source": []
  },
  {
   "cell_type": "code",
   "execution_count": null,
   "metadata": {
    "deletable": false,
    "editable": false,
    "nbgrader": {
     "cell_type": "code",
     "checksum": "90fe5f53767081b8c56d6cfdd36fcf98",
     "grade": true,
     "grade_id": "cell-d8ed4212bff397ea",
     "locked": true,
     "points": 15,
     "schema_version": 3,
     "solution": false,
     "task": false
    }
   },
   "outputs": [],
   "source": []
  },
  {
   "cell_type": "code",
   "execution_count": null,
   "metadata": {
    "deletable": false,
    "editable": false,
    "nbgrader": {
     "cell_type": "code",
     "checksum": "6881285216c577121d274450fa04f60a",
     "grade": true,
     "grade_id": "cell-75c4c9eac826ccc2",
     "locked": true,
     "points": 15,
     "schema_version": 3,
     "solution": false,
     "task": false
    }
   },
   "outputs": [],
   "source": []
  },
  {
   "cell_type": "code",
   "execution_count": null,
   "metadata": {},
   "outputs": [],
   "source": []
  }
 ],
 "metadata": {
  "kernelspec": {
   "display_name": "Python 3 (ipykernel)",
   "language": "python",
   "name": "python3"
  },
  "language_info": {
   "codemirror_mode": {
    "name": "ipython",
    "version": 3
   },
   "file_extension": ".py",
   "mimetype": "text/x-python",
   "name": "python",
   "nbconvert_exporter": "python",
   "pygments_lexer": "ipython3",
   "version": "3.8.10"
  },
  "latex_envs": {
   "LaTeX_envs_menu_present": true,
   "autoclose": false,
   "autocomplete": true,
   "bibliofile": "biblio.bib",
   "cite_by": "apalike",
   "current_citInitial": 1,
   "eqLabelWithNumbers": true,
   "eqNumInitial": 1,
   "hotkeys": {
    "equation": "Ctrl-E",
    "itemize": "Ctrl-I"
   },
   "labels_anchors": false,
   "latex_user_defs": false,
   "report_style_numbering": false,
   "user_envs_cfg": false
  },
  "toc": {
   "base_numbering": "1",
   "nav_menu": {},
   "number_sections": true,
   "sideBar": true,
   "skip_h1_title": true,
   "title_cell": "Table of Contents",
   "title_sidebar": "Contents",
   "toc_cell": true,
   "toc_position": {
    "height": "calc(100% - 180px)",
    "left": "10px",
    "top": "150px",
    "width": "165px"
   },
   "toc_section_display": true,
   "toc_window_display": true
  }
 },
 "nbformat": 4,
 "nbformat_minor": 1
}
