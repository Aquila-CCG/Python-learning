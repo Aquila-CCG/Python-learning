{
 "cells": [
  {
   "cell_type": "markdown",
   "metadata": {},
   "source": [
    "Before you turn this problem in, make sure everything runs as expected. First, **restart the kernel** (in the menubar, select Kernel$\\rightarrow$Restart) and then **run all cells** (in the menubar, select Cell$\\rightarrow$Run All).\n",
    "\n",
    "Make sure you fill in any place that says `YOUR CODE HERE` or \"YOUR ANSWER HERE\", as well as your name and collaborators below:"
   ]
  },
  {
   "cell_type": "code",
   "execution_count": null,
   "metadata": {},
   "outputs": [],
   "source": [
    "NAME = \"\"\n",
    "COLLABORATORS = \"\""
   ]
  },
  {
   "cell_type": "markdown",
   "metadata": {},
   "source": [
    "---"
   ]
  },
  {
   "cell_type": "markdown",
   "metadata": {},
   "source": [
    "# Ch01 The Basics"
   ]
  },
  {
   "cell_type": "markdown",
   "metadata": {},
   "source": [
    "**After this class, you will know:**\n",
    " \n",
    "* 1) What is a statement? \n",
    "\n",
    "* 2) What is an expression?\n",
    "\n",
    "* 3) What is a value?\n",
    "\n",
    "* 4) What is an input?\n",
    "\n",
    "* 5) What is a comment?\n",
    "\n",
    "* 6) How to write Python programs?"
   ]
  },
  {
   "cell_type": "markdown",
   "metadata": {},
   "source": [
    "## Keywords"
   ]
  },
  {
   "cell_type": "markdown",
   "metadata": {},
   "source": [
    "In Python, some names cannot be used as variable names. They are already occupied by Python interpreter. You do not need to memorize these keywords, since you will use them quite often later.\n",
    " <img src=\"./Figures/keywords.png\" width = \"380\" height = \"250\" alt=\"图片名称\" align=center /> "
   ]
  },
  {
   "cell_type": "markdown",
   "metadata": {},
   "source": [
    "## Expression and Statements"
   ]
  },
  {
   "cell_type": "markdown",
   "metadata": {},
   "source": [
    "* An **expression** is a combination of values, variables, and operators. If you type an expression on the command line, the interpreter **evaluates** it and displays the result:"
   ]
  },
  {
   "cell_type": "code",
   "execution_count": null,
   "metadata": {
    "ExecuteTime": {
     "end_time": "2023-06-21T09:21:58.427832Z",
     "start_time": "2023-06-21T09:21:58.413662Z"
    }
   },
   "outputs": [],
   "source": [
    "1 + 2 # an expression, python iterpreter evaluates it and produces a \"value\"."
   ]
  },
  {
   "cell_type": "markdown",
   "metadata": {},
   "source": [
    "* A **statement** is an instruction that the Python interpreter can **execute**. We have seen the \"print\" statement in below."
   ]
  },
  {
   "cell_type": "code",
   "execution_count": null,
   "metadata": {
    "ExecuteTime": {
     "end_time": "2024-02-19T02:26:22.300270Z",
     "start_time": "2024-02-19T02:26:22.297323Z"
    }
   },
   "outputs": [],
   "source": [
    "print(\"Hello Python!\")"
   ]
  },
  {
   "cell_type": "markdown",
   "metadata": {},
   "source": [
    "### Assignment Statement"
   ]
  },
  {
   "cell_type": "code",
   "execution_count": null,
   "metadata": {
    "ExecuteTime": {
     "start_time": "2022-02-18T08:27:27.157Z"
    }
   },
   "outputs": [],
   "source": [
    "a = 1 + 2 \n",
    "print(a)"
   ]
  },
  {
   "cell_type": "markdown",
   "metadata": {},
   "source": [
    "* This is a statement"
   ]
  },
  {
   "cell_type": "markdown",
   "metadata": {},
   "source": [
    "* Note that \"=\" is totally diffferent to what's used in Mathematics equation. In computer science, \"=\" is used as assigning the values of an experession to a variable. "
   ]
  },
  {
   "cell_type": "markdown",
   "metadata": {},
   "source": [
    "* Things happened in above statement: First, Python interpreter evaluates expression \"1 + 2\" and returns \"3\". Second, the assignment operator executes the statement by assigning the value \"3\" to the variable \"a\"."
   ]
  },
  {
   "cell_type": "code",
   "execution_count": null,
   "metadata": {
    "ExecuteTime": {
     "end_time": "2022-02-24T06:44:56.440320Z",
     "start_time": "2022-02-24T06:44:56.431428Z"
    }
   },
   "outputs": [],
   "source": [
    "a = 1\n",
    "a = a + 1\n",
    "print('a =', a)\n",
    "a += 1\n",
    "print('a =', a)"
   ]
  },
  {
   "cell_type": "markdown",
   "metadata": {},
   "source": [
    "* Each line of above example is a statement.\n",
    "* \"+=\" means doing the self increment. \"a += 1\" is identical to \"a = a + 1\""
   ]
  },
  {
   "cell_type": "markdown",
   "metadata": {},
   "source": [
    "**Example**: Variable and Immutable"
   ]
  },
  {
   "cell_type": "code",
   "execution_count": null,
   "metadata": {
    "ExecuteTime": {
     "start_time": "2022-02-18T08:27:27.433Z"
    }
   },
   "outputs": [],
   "source": [
    "a = 1\n",
    "s = 'foo' + 'people'\n",
    "b = 2\n",
    "print(a)"
   ]
  },
  {
   "cell_type": "code",
   "execution_count": null,
   "metadata": {
    "ExecuteTime": {
     "start_time": "2022-02-18T08:27:27.435Z"
    }
   },
   "outputs": [],
   "source": [
    "a = 'foo'\n",
    "print(a)"
   ]
  },
  {
   "cell_type": "code",
   "execution_count": null,
   "metadata": {
    "ExecuteTime": {
     "start_time": "2022-02-18T08:27:27.436Z"
    }
   },
   "outputs": [],
   "source": [
    "b = a\n",
    "print(b)"
   ]
  },
  {
   "cell_type": "code",
   "execution_count": null,
   "metadata": {
    "ExecuteTime": {
     "start_time": "2022-02-18T08:27:27.438Z"
    }
   },
   "outputs": [],
   "source": [
    "a == b"
   ]
  },
  {
   "cell_type": "code",
   "execution_count": 1,
   "metadata": {
    "ExecuteTime": {
     "end_time": "2024-05-29T11:56:32.075486Z",
     "start_time": "2024-05-29T11:56:32.069254Z"
    }
   },
   "outputs": [
    {
     "name": "stdout",
     "output_type": "stream",
     "text": [
      "a is:  FooFoo\n",
      "b is:  Foo\n"
     ]
    }
   ],
   "source": [
    "a = \"Foo\" # a now points to \"Foo\"\n",
    "b = a # b points to the same \"Foo\" that a points to\n",
    "a = a + a # a points to the new string \"FooFoo\", but b still points to the old \"Foo\"\n",
    "\n",
    "print(\"a is: \", a)\n",
    "print(\"b is: \", b)"
   ]
  },
  {
   "cell_type": "code",
   "execution_count": 2,
   "metadata": {
    "ExecuteTime": {
     "end_time": "2024-05-29T11:56:36.387303Z",
     "start_time": "2024-05-29T11:56:36.378567Z"
    }
   },
   "outputs": [
    {
     "data": {
      "text/plain": [
       "'abcb'"
      ]
     },
     "execution_count": 2,
     "metadata": {},
     "output_type": "execute_result"
    }
   ],
   "source": [
    "\"abc\" + \"b\""
   ]
  },
  {
   "cell_type": "markdown",
   "metadata": {},
   "source": [
    "### Diffference of Expression and Statement"
   ]
  },
  {
   "cell_type": "markdown",
   "metadata": {},
   "source": [
    "* When the Python shell displays the value of an expression, it uses the same format you would use to enter a value. In the case of strings, that means that it includes the quotation marks. But the print statement prints the value of the expression, which in this case is the **contents** of the string."
   ]
  },
  {
   "cell_type": "code",
   "execution_count": 3,
   "metadata": {
    "ExecuteTime": {
     "end_time": "2024-05-29T11:56:41.701711Z",
     "start_time": "2024-05-29T11:56:41.697439Z"
    }
   },
   "outputs": [
    {
     "data": {
      "text/plain": [
       "'I like Python.\\nYou will like it too.'"
      ]
     },
     "execution_count": 3,
     "metadata": {},
     "output_type": "execute_result"
    }
   ],
   "source": [
    "'I like Python.\\nYou will like it too.' # python interpreter will evaluate this string (expression)"
   ]
  },
  {
   "cell_type": "code",
   "execution_count": 4,
   "metadata": {
    "ExecuteTime": {
     "end_time": "2024-05-29T11:56:48.538058Z",
     "start_time": "2024-05-29T11:56:48.535348Z"
    }
   },
   "outputs": [
    {
     "name": "stdout",
     "output_type": "stream",
     "text": [
      "I like Python.\n",
      "You will like it too.\n"
     ]
    }
   ],
   "source": [
    "print('I like Python.\\nYou will like it too.' ) # python interpreter will execute this statement"
   ]
  },
  {
   "cell_type": "markdown",
   "metadata": {},
   "source": [
    "* The first line is an expression, but the second line is a statement."
   ]
  },
  {
   "cell_type": "markdown",
   "metadata": {},
   "source": [
    "## Literals and Variables\n",
    "\n",
    "A **literal** is a value, one of the fundamental things that a program manipulates:\n",
    "\n",
    "* <span class=\"girk\">Numbers</span>\n",
    "    * integer, (1,2,3...)\n",
    "    * float, (1.23, 4.56...)\n",
    "    * <span class=\"mark\">complex number, (c = 1 + 2j...)</span>\n",
    "* <span class=\"girk\">Strings</span>\n",
    "\n",
    "* <span class=\"girk\">Boolean</span>\n",
    "\n",
    "A **variable** stores literals. The naming of a variable follows the following:\n",
    "* The first character of the identifier must be a letter of the alphabet (upper or lowercase) or an under- score ('_').\n",
    "* The rest of the identifier name can consist of letters (upper or lowercase), underscores ('_') or digits (0-9).\n",
    "* Identifier names are case-sensitive. For example, **myname** and **myName** are not the same."
   ]
  },
  {
   "cell_type": "code",
   "execution_count": 5,
   "metadata": {
    "ExecuteTime": {
     "end_time": "2024-05-29T11:59:08.395653Z",
     "start_time": "2024-05-29T11:59:08.393126Z"
    }
   },
   "outputs": [],
   "source": [
    "# For Example, this is a numeric literal:\n",
    "888\n",
    "\n",
    "# The following is a variable:\n",
    "a = 888\n",
    "\n"
   ]
  },
  {
   "cell_type": "markdown",
   "metadata": {},
   "source": [
    "### Practice with assigning variable values"
   ]
  },
  {
   "cell_type": "markdown",
   "metadata": {},
   "source": [
    "* Variables are exactly what they mean - their value can vary i.e. you can store anything using a variable. **Variables are just parts of your computer's memory where you store some information.** "
   ]
  },
  {
   "cell_type": "markdown",
   "metadata": {},
   "source": [
    "Variable *naming conventions*:\n",
    "* Valid Identifier Names:  i, _name, name1, name_12...\n",
    "\n",
    "* Invalid Identifier Names: 2things, my-name, this name"
   ]
  },
  {
   "cell_type": "code",
   "execution_count": 6,
   "metadata": {
    "ExecuteTime": {
     "end_time": "2024-05-29T12:01:07.502334Z",
     "start_time": "2024-05-29T12:01:07.499792Z"
    }
   },
   "outputs": [],
   "source": [
    "a = 1\n",
    "b = 2\n",
    "c, d = 1, 2"
   ]
  },
  {
   "cell_type": "code",
   "execution_count": null,
   "metadata": {},
   "outputs": [],
   "source": [
    "a"
   ]
  },
  {
   "cell_type": "code",
   "execution_count": null,
   "metadata": {},
   "outputs": [],
   "source": [
    "b"
   ]
  },
  {
   "cell_type": "code",
   "execution_count": null,
   "metadata": {},
   "outputs": [],
   "source": [
    "c"
   ]
  },
  {
   "cell_type": "code",
   "execution_count": null,
   "metadata": {},
   "outputs": [],
   "source": [
    "d"
   ]
  },
  {
   "cell_type": "code",
   "execution_count": 7,
   "metadata": {
    "ExecuteTime": {
     "end_time": "2024-05-29T12:01:08.801671Z",
     "start_time": "2024-05-29T12:01:08.798163Z"
    }
   },
   "outputs": [
    {
     "name": "stdout",
     "output_type": "stream",
     "text": [
      "1 2 1 2\n"
     ]
    }
   ],
   "source": [
    "print(a, b, c, d)"
   ]
  },
  {
   "cell_type": "markdown",
   "metadata": {},
   "source": [
    "### Practice with Numbers"
   ]
  },
  {
   "cell_type": "markdown",
   "metadata": {},
   "source": [
    "* Numbers in Python 3 are of **three types**:\n",
    "    * **integers**, (1,2,3..., at least 32 bits of precision)\n",
    "    * **floating** point, (1.23, 4.56...)\n",
    "    * **complex** numbers, (c = 1 + 2j...)\n",
    "    \n",
    "* Practice with Python commands:\n",
    "```py\n",
    "type()\n",
    "int()\n",
    "float()\n",
    "```"
   ]
  },
  {
   "cell_type": "code",
   "execution_count": null,
   "metadata": {
    "ExecuteTime": {
     "end_time": "2023-02-21T01:11:49.813347Z",
     "start_time": "2023-02-21T01:11:49.795874Z"
    }
   },
   "outputs": [],
   "source": [
    "1239999999999999999999"
   ]
  },
  {
   "cell_type": "code",
   "execution_count": 9,
   "metadata": {
    "ExecuteTime": {
     "end_time": "2024-05-29T12:01:32.614078Z",
     "start_time": "2024-05-29T12:01:32.610480Z"
    }
   },
   "outputs": [
    {
     "data": {
      "text/plain": [
       "int"
      ]
     },
     "execution_count": 9,
     "metadata": {},
     "output_type": "execute_result"
    }
   ],
   "source": [
    "type(1239999999999999999999)"
   ]
  },
  {
   "cell_type": "code",
   "execution_count": null,
   "metadata": {
    "ExecuteTime": {
     "end_time": "2023-02-21T01:12:44.388036Z",
     "start_time": "2023-02-21T01:12:44.379911Z"
    }
   },
   "outputs": [],
   "source": [
    "1.23232323"
   ]
  },
  {
   "cell_type": "code",
   "execution_count": 10,
   "metadata": {
    "ExecuteTime": {
     "end_time": "2024-05-29T12:01:36.263867Z",
     "start_time": "2024-05-29T12:01:36.260775Z"
    }
   },
   "outputs": [
    {
     "data": {
      "text/plain": [
       "float"
      ]
     },
     "execution_count": 10,
     "metadata": {},
     "output_type": "execute_result"
    }
   ],
   "source": [
    "type(1.23232323)"
   ]
  },
  {
   "cell_type": "code",
   "execution_count": 27,
   "metadata": {
    "ExecuteTime": {
     "end_time": "2024-05-29T12:04:55.440886Z",
     "start_time": "2024-05-29T12:04:55.437219Z"
    }
   },
   "outputs": [
    {
     "data": {
      "text/plain": [
       "1200.0"
      ]
     },
     "execution_count": 27,
     "metadata": {},
     "output_type": "execute_result"
    }
   ],
   "source": [
    "1.2e3 # scientific representation of float"
   ]
  },
  {
   "cell_type": "code",
   "execution_count": 11,
   "metadata": {
    "ExecuteTime": {
     "end_time": "2024-05-29T12:01:41.097875Z",
     "start_time": "2024-05-29T12:01:41.094502Z"
    }
   },
   "outputs": [
    {
     "data": {
      "text/plain": [
       "float"
      ]
     },
     "execution_count": 11,
     "metadata": {},
     "output_type": "execute_result"
    }
   ],
   "source": [
    "type(1.2e3)"
   ]
  },
  {
   "cell_type": "code",
   "execution_count": 12,
   "metadata": {
    "ExecuteTime": {
     "end_time": "2024-05-29T12:01:42.935760Z",
     "start_time": "2024-05-29T12:01:42.932364Z"
    }
   },
   "outputs": [
    {
     "data": {
      "text/plain": [
       "(3+1j)"
      ]
     },
     "execution_count": 12,
     "metadata": {},
     "output_type": "execute_result"
    }
   ],
   "source": [
    "1j + 3 # j for imaginary part of a number"
   ]
  },
  {
   "cell_type": "markdown",
   "metadata": {},
   "source": [
    "* Integer/float can be converted to float/integer. "
   ]
  },
  {
   "cell_type": "code",
   "execution_count": 13,
   "metadata": {
    "ExecuteTime": {
     "end_time": "2024-05-29T12:01:44.170493Z",
     "start_time": "2024-05-29T12:01:44.166056Z"
    }
   },
   "outputs": [
    {
     "data": {
      "text/plain": [
       "float"
      ]
     },
     "execution_count": 13,
     "metadata": {},
     "output_type": "execute_result"
    }
   ],
   "source": [
    "type(1.23)"
   ]
  },
  {
   "cell_type": "code",
   "execution_count": 14,
   "metadata": {
    "ExecuteTime": {
     "end_time": "2024-05-29T12:01:47.109119Z",
     "start_time": "2024-05-29T12:01:47.105695Z"
    }
   },
   "outputs": [
    {
     "data": {
      "text/plain": [
       "1"
      ]
     },
     "execution_count": 14,
     "metadata": {},
     "output_type": "execute_result"
    }
   ],
   "source": [
    "int(1.23)"
   ]
  },
  {
   "cell_type": "code",
   "execution_count": 15,
   "metadata": {
    "ExecuteTime": {
     "end_time": "2024-05-29T12:01:48.816994Z",
     "start_time": "2024-05-29T12:01:48.813711Z"
    }
   },
   "outputs": [
    {
     "data": {
      "text/plain": [
       "int"
      ]
     },
     "execution_count": 15,
     "metadata": {},
     "output_type": "execute_result"
    }
   ],
   "source": [
    "type(int(1.23))"
   ]
  },
  {
   "cell_type": "code",
   "execution_count": 16,
   "metadata": {
    "ExecuteTime": {
     "end_time": "2024-05-29T12:01:50.379977Z",
     "start_time": "2024-05-29T12:01:50.376805Z"
    }
   },
   "outputs": [
    {
     "data": {
      "text/plain": [
       "int"
      ]
     },
     "execution_count": 16,
     "metadata": {},
     "output_type": "execute_result"
    }
   ],
   "source": [
    "type(1)"
   ]
  },
  {
   "cell_type": "code",
   "execution_count": 17,
   "metadata": {
    "ExecuteTime": {
     "end_time": "2024-05-29T12:01:50.803694Z",
     "start_time": "2024-05-29T12:01:50.800070Z"
    }
   },
   "outputs": [
    {
     "data": {
      "text/plain": [
       "1.0"
      ]
     },
     "execution_count": 17,
     "metadata": {},
     "output_type": "execute_result"
    }
   ],
   "source": [
    "float(1)"
   ]
  },
  {
   "cell_type": "code",
   "execution_count": null,
   "metadata": {},
   "outputs": [],
   "source": [
    "type(float(1))"
   ]
  },
  {
   "cell_type": "code",
   "execution_count": 28,
   "metadata": {
    "ExecuteTime": {
     "end_time": "2024-05-29T12:05:13.973381Z",
     "start_time": "2024-05-29T12:05:13.969775Z"
    }
   },
   "outputs": [
    {
     "data": {
      "text/plain": [
       "complex"
      ]
     },
     "execution_count": 28,
     "metadata": {},
     "output_type": "execute_result"
    }
   ],
   "source": [
    "# Student Practice\n",
    "# 1. create a literal of integer, floating point number, and complex number respectively\n",
    "#    check the type for each of the above literals\n",
    "a = 1\n",
    "b = 33e3\n",
    "c = 3 + 3j\n",
    "type(c)"
   ]
  },
  {
   "cell_type": "code",
   "execution_count": 29,
   "metadata": {
    "ExecuteTime": {
     "end_time": "2024-05-29T12:05:15.901474Z",
     "start_time": "2024-05-29T12:05:15.898587Z"
    }
   },
   "outputs": [
    {
     "data": {
      "text/plain": [
       "33000.0"
      ]
     },
     "execution_count": 29,
     "metadata": {},
     "output_type": "execute_result"
    }
   ],
   "source": [
    "# 2. create three floating point numbers and convert them to integer number"
   ]
  },
  {
   "cell_type": "code",
   "execution_count": 30,
   "metadata": {
    "ExecuteTime": {
     "end_time": "2024-05-29T12:05:59.060776Z",
     "start_time": "2024-05-29T12:05:59.057513Z"
    }
   },
   "outputs": [
    {
     "data": {
      "text/plain": [
       "1.0"
      ]
     },
     "execution_count": 30,
     "metadata": {},
     "output_type": "execute_result"
    }
   ],
   "source": [
    "# 3. create an integer and convert it to a floating point number\n",
    "a = 1\n",
    "float(a)"
   ]
  },
  {
   "cell_type": "code",
   "execution_count": null,
   "metadata": {},
   "outputs": [],
   "source": [
    "# 4. (True or False) float(int(a)) should be the same as a (a floating point number) itself.\n",
    "# Validate your answer with examples and/or counter-examples code."
   ]
  },
  {
   "cell_type": "markdown",
   "metadata": {
    "ExecuteTime": {
     "end_time": "2023-06-21T08:50:10.649956Z",
     "start_time": "2023-06-21T08:50:10.645031Z"
    },
    "deletable": false,
    "editable": false,
    "nbgrader": {
     "cell_type": "markdown",
     "checksum": "7e30e318f4cfe9c40f576e043069275d",
     "grade": false,
     "grade_id": "cell-21eae1e418fd69fc",
     "locked": true,
     "schema_version": 3,
     "solution": false,
     "task": false
    }
   },
   "source": [
    "### Exercises"
   ]
  },
  {
   "cell_type": "code",
   "execution_count": 45,
   "metadata": {
    "ExecuteTime": {
     "end_time": "2024-02-26T06:33:41.109818Z",
     "start_time": "2024-02-26T06:33:41.107047Z"
    },
    "deletable": false,
    "nbgrader": {
     "cell_type": "code",
     "checksum": "d0f79d8520bcf1a248b18b1ada48c5e4",
     "grade": false,
     "grade_id": "cell-78f08ec09bab5483",
     "locked": false,
     "schema_version": 3,
     "solution": true,
     "task": false
    }
   },
   "outputs": [],
   "source": [
    "# Create a variable named \"value1\" that stores the number 100\n",
    "# Create a variable named \"value2\" that stores the number 3\n",
    "# Create a variable named \"result1\" that is equal to value1/value2\n",
    "\n",
    "value1 = 100\n",
    "value2 = 3\n",
    "result1 = value1/value2"
   ]
  },
  {
   "cell_type": "code",
   "execution_count": null,
   "metadata": {
    "ExecuteTime": {
     "start_time": "2022-02-18T08:27:23.832Z"
    },
    "deletable": false,
    "editable": false,
    "nbgrader": {
     "cell_type": "code",
     "checksum": "94deb55d7f36d664b605477f56c0e0a1",
     "grade": true,
     "grade_id": "cell-7a526bbcf895da08",
     "locked": true,
     "points": 10,
     "schema_version": 3,
     "solution": false,
     "task": false
    }
   },
   "outputs": [],
   "source": []
  },
  {
   "cell_type": "code",
   "execution_count": null,
   "metadata": {
    "deletable": false,
    "editable": false,
    "nbgrader": {
     "cell_type": "code",
     "checksum": "5d376ec6ba9a532a9271fefd906d978d",
     "grade": true,
     "grade_id": "cell-b2bc241224267d3b",
     "locked": true,
     "points": 10,
     "schema_version": 3,
     "solution": false,
     "task": false
    }
   },
   "outputs": [],
   "source": []
  },
  {
   "cell_type": "code",
   "execution_count": 32,
   "metadata": {
    "ExecuteTime": {
     "end_time": "2024-05-29T12:06:52.471197Z",
     "start_time": "2024-05-29T12:06:52.467452Z"
    },
    "deletable": false,
    "nbgrader": {
     "cell_type": "code",
     "checksum": "f6497497f8754b38fb1c1f3997de7713",
     "grade": false,
     "grade_id": "cell-a8b995feb718de70",
     "locked": false,
     "schema_version": 3,
     "solution": true,
     "task": false
    }
   },
   "outputs": [
    {
     "data": {
      "text/plain": [
       "20"
      ]
     },
     "execution_count": 32,
     "metadata": {},
     "output_type": "execute_result"
    }
   ],
   "source": [
    "\n",
    "# Store the integer value of 20.99 in a variable named \"result2\"\n",
    "\n",
    "result2 = int(20.99)\n",
    "result2"
   ]
  },
  {
   "cell_type": "code",
   "execution_count": null,
   "metadata": {
    "deletable": false,
    "editable": false,
    "nbgrader": {
     "cell_type": "code",
     "checksum": "5bb4abfcd1222f7f45d3627ab9a651fc",
     "grade": true,
     "grade_id": "cell-02d6a75ebfcbd38c",
     "locked": true,
     "points": 10,
     "schema_version": 3,
     "solution": false,
     "task": false
    }
   },
   "outputs": [],
   "source": []
  },
  {
   "cell_type": "markdown",
   "metadata": {},
   "source": [
    "### Practice with Strings"
   ]
  },
  {
   "cell_type": "markdown",
   "metadata": {},
   "source": [
    "A string is a sequence of characters."
   ]
  },
  {
   "cell_type": "markdown",
   "metadata": {},
   "source": [
    "**Syntax** \n",
    "\n",
    "* Using Single Quotes (')\n",
    "* Using Double Quotes (\")\n",
    "* Using Triple Quotes (''' or \"\"\")"
   ]
  },
  {
   "cell_type": "markdown",
   "metadata": {},
   "source": [
    "* Single Quote (')"
   ]
  },
  {
   "cell_type": "code",
   "execution_count": 33,
   "metadata": {
    "ExecuteTime": {
     "end_time": "2024-05-29T12:07:05.969076Z",
     "start_time": "2024-05-29T12:07:05.965139Z"
    }
   },
   "outputs": [
    {
     "data": {
      "text/plain": [
       "str"
      ]
     },
     "execution_count": 33,
     "metadata": {},
     "output_type": "execute_result"
    }
   ],
   "source": [
    "type('I am a single quote')"
   ]
  },
  {
   "cell_type": "markdown",
   "metadata": {},
   "source": [
    "* Double Quotes (\")"
   ]
  },
  {
   "cell_type": "code",
   "execution_count": null,
   "metadata": {
    "ExecuteTime": {
     "end_time": "2023-06-23T06:17:23.560080Z",
     "start_time": "2023-06-23T06:17:23.553246Z"
    }
   },
   "outputs": [],
   "source": [
    "# The following gives you an error:\n",
    "'What's your name?'"
   ]
  },
  {
   "cell_type": "code",
   "execution_count": null,
   "metadata": {
    "ExecuteTime": {
     "end_time": "2023-02-21T01:23:00.435527Z",
     "start_time": "2023-02-21T01:23:00.428491Z"
    }
   },
   "outputs": [],
   "source": [
    "# The following is correct:\n",
    "\"What's your name?\""
   ]
  },
  {
   "cell_type": "markdown",
   "metadata": {},
   "source": [
    "* Using Triple Quotes (''' or \"\"\")"
   ]
  },
  {
   "cell_type": "code",
   "execution_count": null,
   "metadata": {
    "ExecuteTime": {
     "end_time": "2023-02-21T01:23:33.043954Z",
     "start_time": "2023-02-21T01:23:33.037522Z"
    }
   },
   "outputs": [],
   "source": [
    "# The following gives you an error:\n",
    "'i am a\n",
    "test'"
   ]
  },
  {
   "cell_type": "code",
   "execution_count": null,
   "metadata": {
    "ExecuteTime": {
     "end_time": "2023-02-21T01:25:47.002973Z",
     "start_time": "2023-02-21T01:25:46.993949Z"
    }
   },
   "outputs": [],
   "source": [
    "# The following is correct:\n",
    "\"\"\"\n",
    "    This is a multi-line string. This is the first line.\n",
    "    This is the second line.\n",
    "    \"What's your name?,\" I asked.\n",
    "    He said \"Bond, James Bond.\"\n",
    "\"\"\"\n",
    "    \n"
   ]
  },
  {
   "cell_type": "code",
   "execution_count": null,
   "metadata": {},
   "outputs": [],
   "source": [
    "# Student Practice\n",
    "# Try to use single quote to create a paragraph with 3 lines.\n",
    "# Use print() to show it.\n",
    "\n"
   ]
  },
  {
   "cell_type": "markdown",
   "metadata": {},
   "source": [
    "* Integer/float can also be converted to string type."
   ]
  },
  {
   "cell_type": "code",
   "execution_count": 34,
   "metadata": {
    "ExecuteTime": {
     "end_time": "2024-05-29T12:07:36.785978Z",
     "start_time": "2024-05-29T12:07:36.782360Z"
    }
   },
   "outputs": [
    {
     "data": {
      "text/plain": [
       "int"
      ]
     },
     "execution_count": 34,
     "metadata": {},
     "output_type": "execute_result"
    }
   ],
   "source": [
    "type(1)"
   ]
  },
  {
   "cell_type": "code",
   "execution_count": 35,
   "metadata": {
    "ExecuteTime": {
     "end_time": "2024-05-29T12:07:38.369882Z",
     "start_time": "2024-05-29T12:07:38.365888Z"
    }
   },
   "outputs": [
    {
     "data": {
      "text/plain": [
       "'1'"
      ]
     },
     "execution_count": 35,
     "metadata": {},
     "output_type": "execute_result"
    }
   ],
   "source": [
    "str(1)"
   ]
  },
  {
   "cell_type": "code",
   "execution_count": 36,
   "metadata": {
    "ExecuteTime": {
     "end_time": "2024-05-29T12:07:39.608768Z",
     "start_time": "2024-05-29T12:07:39.604934Z"
    }
   },
   "outputs": [
    {
     "data": {
      "text/plain": [
       "str"
      ]
     },
     "execution_count": 36,
     "metadata": {},
     "output_type": "execute_result"
    }
   ],
   "source": [
    "type(str(1))"
   ]
  },
  {
   "cell_type": "code",
   "execution_count": 37,
   "metadata": {
    "ExecuteTime": {
     "end_time": "2024-05-29T12:07:41.198129Z",
     "start_time": "2024-05-29T12:07:41.194971Z"
    }
   },
   "outputs": [
    {
     "data": {
      "text/plain": [
       "float"
      ]
     },
     "execution_count": 37,
     "metadata": {},
     "output_type": "execute_result"
    }
   ],
   "source": [
    "type(1.5)"
   ]
  },
  {
   "cell_type": "code",
   "execution_count": 38,
   "metadata": {
    "ExecuteTime": {
     "end_time": "2024-05-29T12:07:42.731599Z",
     "start_time": "2024-05-29T12:07:42.728389Z"
    }
   },
   "outputs": [
    {
     "data": {
      "text/plain": [
       "'1.5'"
      ]
     },
     "execution_count": 38,
     "metadata": {},
     "output_type": "execute_result"
    }
   ],
   "source": [
    "str(1.5)"
   ]
  },
  {
   "cell_type": "code",
   "execution_count": 39,
   "metadata": {
    "ExecuteTime": {
     "end_time": "2024-05-29T12:07:43.928804Z",
     "start_time": "2024-05-29T12:07:43.925654Z"
    }
   },
   "outputs": [
    {
     "data": {
      "text/plain": [
       "str"
      ]
     },
     "execution_count": 39,
     "metadata": {},
     "output_type": "execute_result"
    }
   ],
   "source": [
    "type(str(1.5))"
   ]
  },
  {
   "cell_type": "markdown",
   "metadata": {},
   "source": [
    "### String Index"
   ]
  },
  {
   "cell_type": "markdown",
   "metadata": {},
   "source": [
    "String Index             |  String Methods\n",
    ":-------------------------:|:-------------------------:\n",
    " <img src=\"./Figures/string-index-1.png\" width = \"380\" height = \"450\" alt=\"图片名称\" align=center />  |   <img src=\"./Figures/string-index-2.png\" width = \"380\" height = \"450\" alt=\"图片名称\" align=center />"
   ]
  },
  {
   "cell_type": "code",
   "execution_count": null,
   "metadata": {
    "ExecuteTime": {
     "end_time": "2023-02-21T01:27:53.796485Z",
     "start_time": "2023-02-21T01:27:53.791740Z"
    }
   },
   "outputs": [],
   "source": [
    "s = 'abc d'"
   ]
  },
  {
   "cell_type": "code",
   "execution_count": null,
   "metadata": {
    "ExecuteTime": {
     "end_time": "2023-02-21T01:28:21.957163Z",
     "start_time": "2023-02-21T01:28:21.949080Z"
    }
   },
   "outputs": [],
   "source": [
    "s[0]"
   ]
  },
  {
   "cell_type": "code",
   "execution_count": null,
   "metadata": {
    "ExecuteTime": {
     "end_time": "2023-02-21T01:28:30.685948Z",
     "start_time": "2023-02-21T01:28:30.678960Z"
    }
   },
   "outputs": [],
   "source": [
    "s[4]"
   ]
  },
  {
   "cell_type": "code",
   "execution_count": null,
   "metadata": {
    "ExecuteTime": {
     "start_time": "2022-02-18T08:27:24.277Z"
    }
   },
   "outputs": [],
   "source": [
    "s[6]"
   ]
  },
  {
   "cell_type": "markdown",
   "metadata": {},
   "source": [
    "**String Slicing**（字符串切片）"
   ]
  },
  {
   "cell_type": "code",
   "execution_count": null,
   "metadata": {
    "ExecuteTime": {
     "end_time": "2023-02-23T05:09:50.416436Z",
     "start_time": "2023-02-23T05:09:50.411062Z"
    }
   },
   "outputs": [],
   "source": [
    "s = \"are you OK?\""
   ]
  },
  {
   "cell_type": "code",
   "execution_count": null,
   "metadata": {
    "ExecuteTime": {
     "end_time": "2023-02-21T01:31:31.116050Z",
     "start_time": "2023-02-21T01:31:31.108909Z"
    }
   },
   "outputs": [],
   "source": [
    "s[0]"
   ]
  },
  {
   "cell_type": "code",
   "execution_count": null,
   "metadata": {
    "ExecuteTime": {
     "end_time": "2023-02-21T01:31:34.741840Z",
     "start_time": "2023-02-21T01:31:34.734397Z"
    }
   },
   "outputs": [],
   "source": [
    "s[0:2] # start from index 0 and end index 2 (excluded)"
   ]
  },
  {
   "cell_type": "code",
   "execution_count": null,
   "metadata": {
    "ExecuteTime": {
     "end_time": "2023-02-21T01:31:48.325681Z",
     "start_time": "2023-02-21T01:31:48.316991Z"
    }
   },
   "outputs": [],
   "source": [
    "s[4:]"
   ]
  },
  {
   "cell_type": "code",
   "execution_count": null,
   "metadata": {
    "ExecuteTime": {
     "end_time": "2023-02-21T01:31:57.933095Z",
     "start_time": "2023-02-21T01:31:57.924777Z"
    }
   },
   "outputs": [],
   "source": [
    "s[:2]"
   ]
  },
  {
   "cell_type": "markdown",
   "metadata": {},
   "source": [
    "### Escape Sequences"
   ]
  },
  {
   "cell_type": "markdown",
   "metadata": {},
   "source": [
    "**Question: suppose you are asked to write a string \"what's your name\" in single quote, how can you do?**"
   ]
  },
  {
   "cell_type": "code",
   "execution_count": 42,
   "metadata": {
    "ExecuteTime": {
     "end_time": "2024-05-29T12:08:58.683625Z",
     "start_time": "2024-05-29T12:08:58.679896Z"
    }
   },
   "outputs": [
    {
     "data": {
      "text/plain": [
       "\"what's your name?\""
      ]
     },
     "execution_count": 42,
     "metadata": {},
     "output_type": "execute_result"
    }
   ],
   "source": [
    "'what\\'s your name?'"
   ]
  },
  {
   "cell_type": "code",
   "execution_count": 43,
   "metadata": {
    "ExecuteTime": {
     "end_time": "2024-05-29T12:09:01.750524Z",
     "start_time": "2024-05-29T12:09:01.748402Z"
    }
   },
   "outputs": [],
   "source": [
    "s = \"message $\""
   ]
  },
  {
   "cell_type": "code",
   "execution_count": 48,
   "metadata": {
    "ExecuteTime": {
     "end_time": "2024-05-29T12:09:30.614785Z",
     "start_time": "2024-05-29T12:09:30.611402Z"
    }
   },
   "outputs": [
    {
     "data": {
      "text/plain": [
       "'I sayd %'"
      ]
     },
     "execution_count": 48,
     "metadata": {},
     "output_type": "execute_result"
    }
   ],
   "source": [
    "s = \"I sayd %\"\n",
    "s"
   ]
  },
  {
   "cell_type": "code",
   "execution_count": 45,
   "metadata": {
    "ExecuteTime": {
     "end_time": "2024-05-29T12:09:09.583885Z",
     "start_time": "2024-05-29T12:09:09.581079Z"
    }
   },
   "outputs": [
    {
     "name": "stdout",
     "output_type": "stream",
     "text": [
      "what's your name?\n"
     ]
    }
   ],
   "source": [
    "print('what\\'s your name?')"
   ]
  },
  {
   "cell_type": "markdown",
   "metadata": {},
   "source": [
    "<span class=\"mark\">The backslash **\\** changes the meaning of the character after it.</span>"
   ]
  },
  {
   "cell_type": "markdown",
   "metadata": {},
   "source": [
    "**Example '\\n'**"
   ]
  },
  {
   "cell_type": "code",
   "execution_count": null,
   "metadata": {
    "ExecuteTime": {
     "start_time": "2022-02-18T08:27:24.576Z"
    }
   },
   "outputs": [],
   "source": [
    "'This is the first line.\\nThis is the second line.'"
   ]
  },
  {
   "cell_type": "code",
   "execution_count": null,
   "metadata": {
    "ExecuteTime": {
     "start_time": "2022-02-18T08:27:24.577Z"
    }
   },
   "outputs": [],
   "source": [
    "print('This is the first line.\\nThis is the second line.')"
   ]
  },
  {
   "cell_type": "markdown",
   "metadata": {},
   "source": [
    "**Example '\\t'**"
   ]
  },
  {
   "cell_type": "code",
   "execution_count": null,
   "metadata": {
    "ExecuteTime": {
     "start_time": "2022-02-18T08:27:24.610Z"
    }
   },
   "outputs": [],
   "source": [
    "'This is the first line.\\tThis is the second line.'"
   ]
  },
  {
   "cell_type": "code",
   "execution_count": null,
   "metadata": {
    "ExecuteTime": {
     "end_time": "2023-02-21T01:43:58.343778Z",
     "start_time": "2023-02-21T01:43:58.336233Z"
    }
   },
   "outputs": [],
   "source": [
    "print('This is the first line.\\t \\t \\tThis is the second line.')"
   ]
  },
  {
   "cell_type": "markdown",
   "metadata": {},
   "source": [
    "**Raw Strings**"
   ]
  },
  {
   "cell_type": "markdown",
   "metadata": {},
   "source": [
    "* If you need to specify some strings where no special processing such as escape sequences are handled, then what you need is to specify a raw string by prefixing r or R to the string."
   ]
  },
  {
   "cell_type": "code",
   "execution_count": 65,
   "metadata": {
    "ExecuteTime": {
     "end_time": "2024-03-09T09:30:20.877705Z",
     "start_time": "2024-03-09T09:30:20.874517Z"
    }
   },
   "outputs": [
    {
     "name": "stdout",
     "output_type": "stream",
     "text": [
      "Newlines are indicated by \\n New line here.\n"
     ]
    }
   ],
   "source": [
    "print(r\"Newlines are indicated by \\n New line here.\")"
   ]
  },
  {
   "cell_type": "code",
   "execution_count": 66,
   "metadata": {
    "ExecuteTime": {
     "end_time": "2024-03-09T09:30:26.638236Z",
     "start_time": "2024-03-09T09:30:26.635142Z"
    }
   },
   "outputs": [
    {
     "name": "stdout",
     "output_type": "stream",
     "text": [
      "Newlines are indicated by \n",
      "New line here.\n"
     ]
    }
   ],
   "source": [
    "print(\"Newlines are indicated by \\nNew line here.\")"
   ]
  },
  {
   "cell_type": "markdown",
   "metadata": {},
   "source": [
    "### Methods available for Strings"
   ]
  },
  {
   "cell_type": "markdown",
   "metadata": {},
   "source": [
    "* A String is an object with builtin methods (functionalities) \n",
    "\n",
    "* The complete methods you can check [here](https://docs.python.org/2/library/string.html). \n",
    "\n",
    "* In this course we will only cover a small portion of commonly used methods. "
   ]
  },
  {
   "cell_type": "markdown",
   "metadata": {},
   "source": [
    "\n",
    " <img src=\"./Figures/api.png\" width = \"380\" height = \"250\" alt=\"图片名称\" align=center /> "
   ]
  },
  {
   "cell_type": "markdown",
   "metadata": {},
   "source": [
    "**Find the index of a word**"
   ]
  },
  {
   "cell_type": "code",
   "execution_count": 52,
   "metadata": {
    "ExecuteTime": {
     "end_time": "2024-05-29T12:18:10.774630Z",
     "start_time": "2024-05-29T12:18:10.767055Z"
    }
   },
   "outputs": [
    {
     "ename": "ValueError",
     "evalue": "substring not found",
     "output_type": "error",
     "traceback": [
      "\u001b[0;31m---------------------------------------------------------------------------\u001b[0m",
      "\u001b[0;31mValueError\u001b[0m                                Traceback (most recent call last)",
      "\u001b[0;32m/tmp/ipykernel_50979/3821510458.py\u001b[0m in \u001b[0;36m<module>\u001b[0;34m\u001b[0m\n\u001b[1;32m      1\u001b[0m \u001b[0ms\u001b[0m \u001b[0;34m=\u001b[0m \u001b[0;34m\"Are you OK OK?\"\u001b[0m\u001b[0;34m\u001b[0m\u001b[0;34m\u001b[0m\u001b[0m\n\u001b[0;32m----> 2\u001b[0;31m \u001b[0ms\u001b[0m\u001b[0;34m.\u001b[0m\u001b[0mindex\u001b[0m\u001b[0;34m(\u001b[0m\u001b[0;34m'hh'\u001b[0m\u001b[0;34m)\u001b[0m \u001b[0;31m#the first indecate of 'OK'\u001b[0m\u001b[0;34m\u001b[0m\u001b[0;34m\u001b[0m\u001b[0m\n\u001b[0m",
      "\u001b[0;31mValueError\u001b[0m: substring not found"
     ]
    }
   ],
   "source": [
    "s = \"Are you OK OK?\"\n",
    "s.index('hh') #the first indecate of 'OK'"
   ]
  },
  {
   "cell_type": "code",
   "execution_count": 53,
   "metadata": {
    "ExecuteTime": {
     "end_time": "2024-05-29T12:18:39.138138Z",
     "start_time": "2024-05-29T12:18:39.134752Z"
    }
   },
   "outputs": [
    {
     "data": {
      "text/plain": [
       "-1"
      ]
     },
     "execution_count": 53,
     "metadata": {},
     "output_type": "execute_result"
    }
   ],
   "source": [
    "# Find is the same as index but does not raise error in case it is not found\n",
    "s = \"Are you OK?\"\n",
    "s.find(' mefsf') "
   ]
  },
  {
   "cell_type": "markdown",
   "metadata": {},
   "source": [
    "**Capital/Lower letters**"
   ]
  },
  {
   "cell_type": "code",
   "execution_count": 54,
   "metadata": {
    "ExecuteTime": {
     "end_time": "2024-05-29T12:19:21.834832Z",
     "start_time": "2024-05-29T12:19:21.831413Z"
    }
   },
   "outputs": [
    {
     "data": {
      "text/plain": [
       "'ARE YOU OK?'"
      ]
     },
     "execution_count": 54,
     "metadata": {},
     "output_type": "execute_result"
    }
   ],
   "source": [
    "s.upper()"
   ]
  },
  {
   "cell_type": "code",
   "execution_count": 13,
   "metadata": {
    "ExecuteTime": {
     "end_time": "2024-02-26T06:09:26.301315Z",
     "start_time": "2024-02-26T06:09:26.297131Z"
    }
   },
   "outputs": [
    {
     "data": {
      "text/plain": [
       "'are you ok?'"
      ]
     },
     "execution_count": 13,
     "metadata": {},
     "output_type": "execute_result"
    }
   ],
   "source": [
    "s.lower()"
   ]
  },
  {
   "cell_type": "code",
   "execution_count": 55,
   "metadata": {
    "ExecuteTime": {
     "end_time": "2024-05-29T12:19:27.834422Z",
     "start_time": "2024-05-29T12:19:27.830873Z"
    }
   },
   "outputs": [
    {
     "data": {
      "text/plain": [
       "'Are you OK?'"
      ]
     },
     "execution_count": 55,
     "metadata": {},
     "output_type": "execute_result"
    }
   ],
   "source": [
    "s"
   ]
  },
  {
   "cell_type": "code",
   "execution_count": 59,
   "metadata": {
    "ExecuteTime": {
     "end_time": "2024-05-29T12:20:54.786475Z",
     "start_time": "2024-05-29T12:20:54.778694Z"
    }
   },
   "outputs": [
    {
     "ename": "AttributeError",
     "evalue": "'int' object has no attribute 'isdigit'",
     "output_type": "error",
     "traceback": [
      "\u001b[0;31m---------------------------------------------------------------------------\u001b[0m",
      "\u001b[0;31mAttributeError\u001b[0m                            Traceback (most recent call last)",
      "\u001b[0;32m/tmp/ipykernel_50979/808283685.py\u001b[0m in \u001b[0;36m<module>\u001b[0;34m\u001b[0m\n\u001b[1;32m      2\u001b[0m \u001b[0;31m#str1.isdigit() #Check whether the str1 is a number\u001b[0m\u001b[0;34m\u001b[0m\u001b[0;34m\u001b[0m\u001b[0;34m\u001b[0m\u001b[0m\n\u001b[1;32m      3\u001b[0m \u001b[0mstr2\u001b[0m \u001b[0;34m=\u001b[0m \u001b[0;36m33\u001b[0m\u001b[0;34m\u001b[0m\u001b[0;34m\u001b[0m\u001b[0m\n\u001b[0;32m----> 4\u001b[0;31m \u001b[0mstr2\u001b[0m\u001b[0;34m.\u001b[0m\u001b[0misdigit\u001b[0m\u001b[0;34m(\u001b[0m\u001b[0;34m)\u001b[0m\u001b[0;34m\u001b[0m\u001b[0;34m\u001b[0m\u001b[0m\n\u001b[0m",
      "\u001b[0;31mAttributeError\u001b[0m: 'int' object has no attribute 'isdigit'"
     ]
    }
   ],
   "source": [
    "#str1 = \"My class has today 10 students\"\n",
    "#str1.isdigit() #Check whether the str1 is a number\n",
    "str2 = 33\n",
    "str2.isdigit()"
   ]
  },
  {
   "cell_type": "markdown",
   "metadata": {},
   "source": [
    "* Each object has many methods. You need to learn reading Python documentation to checkout those methods in cases needed."
   ]
  },
  {
   "cell_type": "markdown",
   "metadata": {},
   "source": [
    "**Splits**"
   ]
  },
  {
   "cell_type": "code",
   "execution_count": 62,
   "metadata": {
    "ExecuteTime": {
     "end_time": "2024-05-29T12:22:50.773117Z",
     "start_time": "2024-05-29T12:22:50.768884Z"
    }
   },
   "outputs": [
    {
     "data": {
      "text/plain": [
       "['I', 'like', 'to', 'learn', 'Python.']"
      ]
     },
     "execution_count": 62,
     "metadata": {},
     "output_type": "execute_result"
    }
   ],
   "source": [
    "s = 'I like to learn Python.'\n",
    "s.split() #by defaul, split() function use empty space as separater"
   ]
  },
  {
   "cell_type": "code",
   "execution_count": 61,
   "metadata": {
    "ExecuteTime": {
     "end_time": "2024-05-29T12:21:56.452567Z",
     "start_time": "2024-05-29T12:21:56.448749Z"
    }
   },
   "outputs": [
    {
     "data": {
      "text/plain": [
       "['Hi', ' there you go', ' Python']"
      ]
     },
     "execution_count": 61,
     "metadata": {},
     "output_type": "execute_result"
    }
   ],
   "source": [
    "s = 'Hi, there you go, Python'\n",
    "s.split(',')"
   ]
  },
  {
   "cell_type": "markdown",
   "metadata": {},
   "source": [
    "**Strip**"
   ]
  },
  {
   "cell_type": "markdown",
   "metadata": {},
   "source": [
    "* Strings do have few methods to do striping. The simplest one is strip(chars). If you provide the chars argument then it will strip any combination of them. By default it strips only whitespace or newline characters."
   ]
  },
  {
   "cell_type": "code",
   "execution_count": 32,
   "metadata": {
    "ExecuteTime": {
     "end_time": "2024-02-26T06:17:44.272665Z",
     "start_time": "2024-02-26T06:17:44.269525Z"
    }
   },
   "outputs": [
    {
     "data": {
      "text/plain": [
       "'abc abcd efg'"
      ]
     },
     "execution_count": 32,
     "metadata": {},
     "output_type": "execute_result"
    }
   ],
   "source": [
    "s = \"  abc abcd efg       \"\n",
    "s.strip()"
   ]
  },
  {
   "cell_type": "code",
   "execution_count": 65,
   "metadata": {
    "ExecuteTime": {
     "end_time": "2024-05-29T12:25:33.838911Z",
     "start_time": "2024-05-29T12:25:33.834591Z"
    }
   },
   "outputs": [
    {
     "data": {
      "text/plain": [
       "5"
      ]
     },
     "execution_count": 65,
     "metadata": {},
     "output_type": "execute_result"
    }
   ],
   "source": [
    "# find out the index of the second occurance fo 123\n",
    "s = \"1234512345\"\n",
    "first = s.find('123')\n",
    "s = s[:first] + '   ' + s[first+3:] #将之前的123替换为空格\n",
    "s.index('123')"
   ]
  },
  {
   "cell_type": "markdown",
   "metadata": {
    "deletable": false,
    "editable": false,
    "nbgrader": {
     "cell_type": "markdown",
     "checksum": "df8199e660807fe27908ff4314f60416",
     "grade": false,
     "grade_id": "cell-acb1fd12003a81e2",
     "locked": true,
     "schema_version": 3,
     "solution": false,
     "task": false
    }
   },
   "source": [
    "### Exercises"
   ]
  },
  {
   "cell_type": "markdown",
   "metadata": {
    "ExecuteTime": {
     "end_time": "2023-06-23T06:40:51.944941Z",
     "start_time": "2023-06-23T06:40:51.937701Z"
    },
    "deletable": false,
    "editable": false,
    "nbgrader": {
     "cell_type": "markdown",
     "checksum": "95fabfbe2c566ed74329233f14aa9d3b",
     "grade": false,
     "grade_id": "cell-b5b0c123875ccb8f",
     "locked": true,
     "schema_version": 3,
     "solution": false,
     "task": false
    }
   },
   "source": [
    "Given a string `\"hello, world\"`, please assign the element on index 5 to the variable `fifth`."
   ]
  },
  {
   "cell_type": "code",
   "execution_count": 54,
   "metadata": {
    "ExecuteTime": {
     "end_time": "2024-02-26T06:45:21.565462Z",
     "start_time": "2024-02-26T06:45:21.563193Z"
    },
    "deletable": false,
    "nbgrader": {
     "cell_type": "code",
     "checksum": "f9850950f6f9eda15c559a547aa28a43",
     "grade": false,
     "grade_id": "cell-5fa063b3b30e98dc",
     "locked": false,
     "schema_version": 3,
     "solution": true,
     "task": false
    }
   },
   "outputs": [],
   "source": [
    "str1 = \"hello, world\"\n",
    "\n",
    "# Complete the following line of code and then remove \"#\" to uncomment it\n",
    "fifth = str1[5] \n",
    "\n"
   ]
  },
  {
   "cell_type": "code",
   "execution_count": null,
   "metadata": {
    "deletable": false,
    "editable": false,
    "nbgrader": {
     "cell_type": "code",
     "checksum": "24a8a5c407e76a4003b6c2fbac208b4b",
     "grade": true,
     "grade_id": "cell-17eb9988af69332c",
     "locked": true,
     "points": 10,
     "schema_version": 3,
     "solution": false,
     "task": false
    }
   },
   "outputs": [],
   "source": []
  },
  {
   "cell_type": "markdown",
   "metadata": {
    "deletable": false,
    "editable": false,
    "nbgrader": {
     "cell_type": "markdown",
     "checksum": "d121643e3d04402a3003a86c7f6eda17",
     "grade": false,
     "grade_id": "cell-e386de00d75645f9",
     "locked": true,
     "schema_version": 3,
     "solution": false,
     "task": false
    }
   },
   "source": [
    "Please find the index of \"fun\" in the string \"python is fun\", and assign the output to the variable ind."
   ]
  },
  {
   "cell_type": "code",
   "execution_count": 60,
   "metadata": {
    "ExecuteTime": {
     "end_time": "2024-02-26T06:48:23.935452Z",
     "start_time": "2024-02-26T06:48:23.932966Z"
    },
    "deletable": false,
    "nbgrader": {
     "cell_type": "code",
     "checksum": "824daa47a97f0e3fa91d6c41fd6719fd",
     "grade": false,
     "grade_id": "cell-9f3ba4b112e29f7c",
     "locked": false,
     "schema_version": 3,
     "solution": true,
     "task": false
    }
   },
   "outputs": [],
   "source": [
    "str2 = \"python is fun\"\n",
    "str3 = \"fun\"\n",
    "\n",
    "# Complete the following line of code and then remove \"#\" to uncomment it\n",
    "ind = str2.find(str3)\n"
   ]
  },
  {
   "cell_type": "code",
   "execution_count": null,
   "metadata": {
    "ExecuteTime": {
     "end_time": "2023-06-23T06:42:31.582535Z",
     "start_time": "2023-06-23T06:42:31.566947Z"
    },
    "deletable": false,
    "editable": false,
    "nbgrader": {
     "cell_type": "code",
     "checksum": "b829edb38514b80a10734171036c8e1e",
     "grade": true,
     "grade_id": "cell-db1f9b8d7b3fe302",
     "locked": true,
     "points": 10,
     "schema_version": 3,
     "solution": false,
     "task": false
    }
   },
   "outputs": [],
   "source": []
  },
  {
   "cell_type": "markdown",
   "metadata": {
    "deletable": false,
    "editable": false,
    "nbgrader": {
     "cell_type": "markdown",
     "checksum": "326550da670fcb520250f9e346d9a6cf",
     "grade": false,
     "grade_id": "cell-29844a3b5d7b0f5a",
     "locked": true,
     "schema_version": 3,
     "solution": false,
     "task": false
    }
   },
   "source": [
    "Please covert all the letters from the string \"python is fun\" into uppercase, and assign the output to the variable str5."
   ]
  },
  {
   "cell_type": "code",
   "execution_count": null,
   "metadata": {
    "ExecuteTime": {
     "start_time": "2024-05-29T12:41:15.537Z"
    },
    "deletable": false,
    "nbgrader": {
     "cell_type": "code",
     "checksum": "beca73936d347eae1b5a71f0a5120c48",
     "grade": false,
     "grade_id": "cell-fd27ba032a425b08",
     "locked": false,
     "schema_version": 3,
     "solution": true,
     "task": false
    }
   },
   "outputs": [],
   "source": [
    "str4 = \"python is fun\"\n",
    "\n",
    "# Complete the following line of code and then remove \"#\" to uncomment it\n",
    "str5 = str4.upper()\n",
    "\n"
   ]
  },
  {
   "cell_type": "code",
   "execution_count": null,
   "metadata": {
    "deletable": false,
    "editable": false,
    "nbgrader": {
     "cell_type": "code",
     "checksum": "2440b12443516aa9d67ad6b75ccc6641",
     "grade": true,
     "grade_id": "cell-f897aafdb30b862b",
     "locked": true,
     "points": 10,
     "schema_version": 3,
     "solution": false,
     "task": false
    }
   },
   "outputs": [],
   "source": []
  },
  {
   "cell_type": "markdown",
   "metadata": {
    "deletable": false,
    "editable": false,
    "nbgrader": {
     "cell_type": "markdown",
     "checksum": "47876f647c007533718cf2b0eb4e0fbe",
     "grade": false,
     "grade_id": "cell-15b45b139e2f394a",
     "locked": true,
     "schema_version": 3,
     "solution": false,
     "task": false
    }
   },
   "source": [
    "Please split the string \"We're learning python.\" by space, and assign the output to the variable list1."
   ]
  },
  {
   "cell_type": "code",
   "execution_count": null,
   "metadata": {
    "ExecuteTime": {
     "start_time": "2024-05-29T12:41:19.167Z"
    },
    "deletable": false,
    "nbgrader": {
     "cell_type": "code",
     "checksum": "466cc0813fe9f8ca41c1c7389cde92cc",
     "grade": false,
     "grade_id": "cell-e3214d00c57429f6",
     "locked": false,
     "schema_version": 3,
     "solution": true,
     "task": false
    }
   },
   "outputs": [],
   "source": [
    "str6 = \"We're learning python.\"\n",
    "\n",
    "# Complete the following line of code and then remove \"#\" to uncomment it\n",
    "list1 = str6.split()    \n",
    "\n"
   ]
  },
  {
   "cell_type": "code",
   "execution_count": null,
   "metadata": {
    "ExecuteTime": {
     "end_time": "2023-06-23T06:46:07.463730Z",
     "start_time": "2023-06-23T06:46:07.441134Z"
    },
    "deletable": false,
    "editable": false,
    "nbgrader": {
     "cell_type": "code",
     "checksum": "deb20fda7c1db5ee3ac66adb7b1b6b31",
     "grade": true,
     "grade_id": "cell-fa17cce0adc97f2a",
     "locked": true,
     "points": 10,
     "schema_version": 3,
     "solution": false,
     "task": false
    }
   },
   "outputs": [],
   "source": []
  },
  {
   "cell_type": "markdown",
   "metadata": {},
   "source": [
    "### Practice with Boolean"
   ]
  },
  {
   "cell_type": "markdown",
   "metadata": {},
   "source": [
    "**True** and **False** are called **boolean**s."
   ]
  },
  {
   "cell_type": "code",
   "execution_count": null,
   "metadata": {
    "ExecuteTime": {
     "start_time": "2024-05-29T12:41:26.778Z"
    }
   },
   "outputs": [],
   "source": [
    "type(True)"
   ]
  },
  {
   "cell_type": "code",
   "execution_count": null,
   "metadata": {
    "ExecuteTime": {
     "start_time": "2024-05-29T12:41:28.197Z"
    }
   },
   "outputs": [],
   "source": [
    "False"
   ]
  },
  {
   "cell_type": "code",
   "execution_count": null,
   "metadata": {
    "ExecuteTime": {
     "start_time": "2024-05-29T12:41:28.960Z"
    }
   },
   "outputs": [],
   "source": [
    "a = True"
   ]
  },
  {
   "cell_type": "code",
   "execution_count": null,
   "metadata": {
    "ExecuteTime": {
     "start_time": "2024-05-29T12:41:32.112Z"
    }
   },
   "outputs": [],
   "source": [
    "a == False"
   ]
  },
  {
   "cell_type": "code",
   "execution_count": null,
   "metadata": {
    "ExecuteTime": {
     "end_time": "2024-02-26T06:31:22.227426Z",
     "start_time": "2024-02-26T06:31:22.225294Z"
    },
    "code_folding": []
   },
   "outputs": [],
   "source": [
    "# We will see that the sign \"==\" and \"!=\" are special boolean operators"
   ]
  },
  {
   "cell_type": "markdown",
   "metadata": {},
   "source": [
    "### Exercises"
   ]
  },
  {
   "cell_type": "markdown",
   "metadata": {
    "deletable": false,
    "editable": false,
    "nbgrader": {
     "cell_type": "markdown",
     "checksum": "f6abc334ca63dde669061e3bc416fd0e",
     "grade": false,
     "grade_id": "cell-e8da48faceee8874",
     "locked": true,
     "schema_version": 3,
     "solution": false,
     "task": false
    }
   },
   "source": [
    "Assign a boolean False to variable \"student\" and the boolean False to variable \"teacher\", and `student == teacher` to variable \"test\":\n",
    "```py\n",
    "test = (student == teacher)\n",
    "```"
   ]
  },
  {
   "cell_type": "code",
   "execution_count": 1,
   "metadata": {
    "ExecuteTime": {
     "end_time": "2024-05-29T12:42:47.101490Z",
     "start_time": "2024-05-29T12:42:47.093272Z"
    },
    "deletable": false,
    "nbgrader": {
     "cell_type": "code",
     "checksum": "99b86112ae6340ede1ac61cf48b370ca",
     "grade": false,
     "grade_id": "cell-fdc618af781e413a",
     "locked": false,
     "schema_version": 3,
     "solution": true,
     "task": false
    }
   },
   "outputs": [
    {
     "data": {
      "text/plain": [
       "True"
      ]
     },
     "execution_count": 1,
     "metadata": {},
     "output_type": "execute_result"
    }
   ],
   "source": [
    "# Complete the following line of code and then remove \"#\" to uncomment it\n",
    "student = False\n",
    "teacher = False\n",
    "test = student == teacher\n",
    "test"
   ]
  },
  {
   "cell_type": "code",
   "execution_count": 13,
   "metadata": {
    "ExecuteTime": {
     "end_time": "2024-05-29T12:46:55.086962Z",
     "start_time": "2024-05-29T12:46:55.083160Z"
    }
   },
   "outputs": [
    {
     "data": {
      "text/plain": [
       "bool"
      ]
     },
     "execution_count": 13,
     "metadata": {},
     "output_type": "execute_result"
    }
   ],
   "source": [
    "type(test)"
   ]
  },
  {
   "cell_type": "code",
   "execution_count": 11,
   "metadata": {
    "ExecuteTime": {
     "end_time": "2024-05-29T12:46:17.130314Z",
     "start_time": "2024-05-29T12:46:17.126942Z"
    }
   },
   "outputs": [
    {
     "data": {
      "text/plain": [
       "10"
      ]
     },
     "execution_count": 11,
     "metadata": {},
     "output_type": "execute_result"
    }
   ],
   "source": [
    "x\n",
    "y"
   ]
  },
  {
   "cell_type": "code",
   "execution_count": 8,
   "metadata": {
    "ExecuteTime": {
     "end_time": "2024-05-29T12:46:00.183150Z",
     "start_time": "2024-05-29T12:46:00.179359Z"
    }
   },
   "outputs": [
    {
     "data": {
      "text/plain": [
       "tuple"
      ]
     },
     "execution_count": 8,
     "metadata": {},
     "output_type": "execute_result"
    }
   ],
   "source": [
    "type(a)"
   ]
  },
  {
   "cell_type": "code",
   "execution_count": null,
   "metadata": {
    "ExecuteTime": {
     "end_time": "2023-06-23T07:01:30.768483Z",
     "start_time": "2023-06-23T07:01:30.746961Z"
    },
    "deletable": false,
    "editable": false,
    "nbgrader": {
     "cell_type": "code",
     "checksum": "b43fbde94e8066554d0e1c098953e0b0",
     "grade": true,
     "grade_id": "cell-ef28a4c033a69409",
     "locked": true,
     "points": 10,
     "schema_version": 3,
     "solution": false,
     "task": false
    }
   },
   "outputs": [],
   "source": []
  },
  {
   "cell_type": "markdown",
   "metadata": {
    "ExecuteTime": {
     "end_time": "2023-06-23T07:04:00.794637Z",
     "start_time": "2023-06-23T07:04:00.791764Z"
    }
   },
   "source": [
    "## Basics of Writing Python Code\n"
   ]
  },
  {
   "cell_type": "markdown",
   "metadata": {},
   "source": [
    "### Text Editor and Command Line"
   ]
  },
  {
   "cell_type": "markdown",
   "metadata": {},
   "source": [
    "1. Open your favorite editor.\n",
    "2. Enter the program code given in the example.\n",
    "3. Save it as a file with the filename mentioned in the comment. I follow the convention of having all Python programs saved with the extension .py.\n",
    "4. Run the interpreter with the command *python program.py* to run the programs. "
   ]
  },
  {
   "cell_type": "markdown",
   "metadata": {},
   "source": [
    "Code Editor             |  Running Result\n",
    ":-------------------------:|:-------------------------:\n",
    " <img src=\"./Figures/basics.png\" width = \"280\" height = \"350\" alt=\"图片名称\" align=center />  |   <img src=\"./Figures/basic-result.png\" width = \"280\" height = \"350\" alt=\"图片名称\" align=center />"
   ]
  },
  {
   "cell_type": "markdown",
   "metadata": {},
   "source": [
    "Here's **how this program works**. \n",
    "\n",
    "* First, we assign the literal constant value 5 to the variable i using the assignment operator (=). This line is called a **statement** because it states that something should be done and in this case, we connect the variable name i to the value 5. \n",
    "\n",
    "* Next, we print the value of i using the print statement which, unsurprisingly, just prints the value of the variable to the screen.\n",
    "\n",
    "* Then, we add 1 to the value stored in i and store it back. \n",
    "\n",
    "* We then print it and expectedly, we get the value 6.\n",
    "\n",
    "* Similarly, we assign the literal string to the variable s and then print it."
   ]
  },
  {
   "cell_type": "markdown",
   "metadata": {},
   "source": [
    "### Code Comments"
   ]
  },
  {
   "cell_type": "markdown",
   "metadata": {},
   "source": [
    "* As programs get bigger and more complicated, they get more difficult to read. Formal languages are dense, and it is often difficult to look at a piece of code and figure out what it is doing, or why.\n",
    "\n",
    "* For this reason, it is a good coding habit to add notes to your programs to explain in natural language what the program is doing. These notes are called **comments**, and they are marked with the \"#\" symbol:\n"
   ]
  },
  {
   "cell_type": "code",
   "execution_count": null,
   "metadata": {
    "ExecuteTime": {
     "start_time": "2022-02-18T08:27:27.983Z"
    }
   },
   "outputs": [],
   "source": [
    "a = 1/2 # caution: integer division"
   ]
  },
  {
   "cell_type": "markdown",
   "metadata": {},
   "source": [
    "* You can also use comments for **debugging**. For example, if you are not sure which block of codes have bugs, you can rule out some lines of codes by adding comment to those codes, and only check the remaining codes. "
   ]
  },
  {
   "cell_type": "markdown",
   "metadata": {},
   "source": [
    "### Logical and Physical Lines"
   ]
  },
  {
   "cell_type": "markdown",
   "metadata": {},
   "source": [
    "A **physical line** is what **you** *see* when you write the program. A **logical line** is what **Python** *sees* as a single statement. "
   ]
  },
  {
   "cell_type": "code",
   "execution_count": null,
   "metadata": {
    "ExecuteTime": {
     "start_time": "2022-02-18T08:27:28.346Z"
    }
   },
   "outputs": [],
   "source": [
    "i = 5\n",
    "print(i)"
   ]
  },
  {
   "cell_type": "markdown",
   "metadata": {},
   "source": [
    "Above are two physical lines. Actually, you put two physical lines side by side, by adding a separator  semicolon (;)"
   ]
  },
  {
   "cell_type": "code",
   "execution_count": null,
   "metadata": {
    "ExecuteTime": {
     "end_time": "2023-06-21T09:24:58.604194Z",
     "start_time": "2023-06-21T09:24:58.599941Z"
    }
   },
   "outputs": [],
   "source": [
    "i = 5; print(i)"
   ]
  },
  {
   "cell_type": "markdown",
   "metadata": {},
   "source": [
    "Above obtains the same result. But **writing a single logical line in a single physical line only** is highly recommended here because it makes your code difficult to read, which is not a good coding habit. This means **do not** write two logical lines in one physical line, and **do not** write one logical line in two physical lines."
   ]
  },
  {
   "cell_type": "markdown",
   "metadata": {},
   "source": [
    "However, if your logical line is really long, you can put a backslash at the end of the first physical line."
   ]
  },
  {
   "cell_type": "code",
   "execution_count": 14,
   "metadata": {
    "ExecuteTime": {
     "end_time": "2024-05-29T12:48:30.576956Z",
     "start_time": "2024-05-29T12:48:30.573247Z"
    }
   },
   "outputs": [
    {
     "name": "stdout",
     "output_type": "stream",
     "text": [
      "This is a string. This continues the string.\n"
     ]
    }
   ],
   "source": [
    "s = \"This is a string. \\\n",
    "This continues the string.\"\n",
    "print(s)"
   ]
  },
  {
   "cell_type": "markdown",
   "metadata": {},
   "source": [
    "### Indentation"
   ]
  },
  {
   "cell_type": "markdown",
   "metadata": {},
   "source": [
    "**whitespace at the beginning of the line is important.** This is called **indentation**. Statements which have the same *level* must have the same indentation."
   ]
  },
  {
   "cell_type": "code",
   "execution_count": 15,
   "metadata": {
    "ExecuteTime": {
     "end_time": "2024-05-29T12:49:31.853262Z",
     "start_time": "2024-05-29T12:49:31.841908Z"
    }
   },
   "outputs": [
    {
     "ename": "IndentationError",
     "evalue": "unexpected indent (4141751401.py, line 2)",
     "output_type": "error",
     "traceback": [
      "\u001b[0;36m  File \u001b[0;32m\"/tmp/ipykernel_51123/4141751401.py\"\u001b[0;36m, line \u001b[0;32m2\u001b[0m\n\u001b[0;31m    print(i)\u001b[0m\n\u001b[0m    ^\u001b[0m\n\u001b[0;31mIndentationError\u001b[0m\u001b[0;31m:\u001b[0m unexpected indent\n"
     ]
    }
   ],
   "source": [
    "i = 5\n",
    " print(i)"
   ]
  },
  {
   "cell_type": "markdown",
   "metadata": {},
   "source": [
    "Notice that there is a single space at the beginning of the second line. The error indicated by Python tells us that the syntax of the program is invalid. "
   ]
  },
  {
   "cell_type": "markdown",
   "metadata": {},
   "source": [
    "Do not use a mixture of tabs and spaces for the indentation as it does not work across different platforms properly. Using a single tab or two or four spaces for each indentation level. "
   ]
  },
  {
   "cell_type": "markdown",
   "metadata": {},
   "source": [
    "## Glossary"
   ]
  },
  {
   "cell_type": "markdown",
   "metadata": {},
   "source": [
    "* **assignment operator**\n",
    "\n",
    "`=` is Python’s assignment operator, which should not be confused with the mathematical comparison operator using the same symbol."
   ]
  },
  {
   "cell_type": "markdown",
   "metadata": {},
   "source": [
    "* **assignment statement**\n",
    "\n",
    "A statement that assigns a value to a name (variable). The left of the assignment operator, =, is a name. To the right of the assignment operator is an expression which is evaluated by the Python interpreter and then assigned to the name. The difference between the left and right hand sides of the assignment statement is often confusing to new programmers. In the following assignment:"
   ]
  },
  {
   "cell_type": "markdown",
   "metadata": {
    "ExecuteTime": {
     "end_time": "2023-06-23T07:09:14.436137Z",
     "start_time": "2023-06-23T07:09:14.432671Z"
    }
   },
   "source": [
    "```py\n",
    "n = n + 1\n",
    "```\n",
    "`n` plays a very different role on each side of the =. On the right is an expression which will be evaluated by the Python interpreter first, and the result value will then be assigned it to the name on the left."
   ]
  },
  {
   "cell_type": "markdown",
   "metadata": {},
   "source": [
    "* **comment**\n",
    "\n",
    "Information in a program that is meant for other programmers (or anyone reading the source code) and has no effect on the execution of the program."
   ]
  },
  {
   "cell_type": "markdown",
   "metadata": {},
   "source": [
    "* **concatenate**\n",
    "\n",
    "Information in a program that is meant for other programmers (or anyone reading the source code) and has no effect on the execution of the program."
   ]
  },
  {
   "cell_type": "code",
   "execution_count": 17,
   "metadata": {
    "ExecuteTime": {
     "end_time": "2024-05-29T12:52:48.448378Z",
     "start_time": "2024-05-29T12:52:48.443751Z"
    }
   },
   "outputs": [
    {
     "name": "stdout",
     "output_type": "stream",
     "text": [
      "(1, 2, 3, 4)\n"
     ]
    },
    {
     "data": {
      "text/plain": [
       "tuple"
      ]
     },
     "execution_count": 17,
     "metadata": {},
     "output_type": "execute_result"
    }
   ],
   "source": [
    "tuple1 = (1, 2)\n",
    "tuple2 = (3, 4)\n",
    "result = tuple1 + tuple2\n",
    "print(result)  # Output: (1, 2, 3, 4)\n",
    "type(result) # tuple can not be modified, but it can concatenate to generate a new tuple"
   ]
  },
  {
   "cell_type": "markdown",
   "metadata": {},
   "source": [
    "* **data type**\n",
    "\n",
    "including int, float, string, etc"
   ]
  },
  {
   "cell_type": "markdown",
   "metadata": {},
   "source": [
    "* **evaluate**\n",
    "\n",
    "To simplify an expression by performing the operations in order to yield a single value.\n",
    "\n",
    "\n",
    "通过执行操作来简化表达式以生成单个值。"
   ]
  },
  {
   "cell_type": "markdown",
   "metadata": {},
   "source": [
    "* **expression**\n",
    "\n",
    "A combination of variables, operators, and values that represents a single result value."
   ]
  },
  {
   "cell_type": "markdown",
   "metadata": {},
   "source": [
    "* **indentation**\n",
    "\n",
    "White space/tab at the beginning of a statement. Statements which have the same level should have the same indentation."
   ]
  },
  {
   "cell_type": "markdown",
   "metadata": {},
   "source": [
    "* **keyword**\n",
    "\n",
    "A reserved word that is used by the compiler to parse program; you cannot use keywords like *if*, *def*, and *while* as variable names."
   ]
  },
  {
   "cell_type": "markdown",
   "metadata": {},
   "source": [
    "* **statement**\n",
    "\n",
    "An instruction that the Python interpreter can execute. Examples of statements include the assignment statement and the print statement."
   ]
  },
  {
   "cell_type": "markdown",
   "metadata": {},
   "source": [
    "* **variable**\n",
    "\n",
    "A block of memory which stores the information."
   ]
  },
  {
   "cell_type": "markdown",
   "metadata": {},
   "source": [
    "## Summary Exercises"
   ]
  },
  {
   "cell_type": "markdown",
   "metadata": {
    "deletable": false,
    "editable": false,
    "nbgrader": {
     "cell_type": "markdown",
     "checksum": "48c7d8f96482815ed4db964683b29371",
     "grade": false,
     "grade_id": "cell-6e3a5b25eccf6ee2",
     "locked": true,
     "schema_version": 3,
     "solution": false,
     "task": false
    }
   },
   "source": [
    "Please assign the following items into corresponding variables. \n",
    "* Assign int `1` to the variable `a`\n",
    "* Assign float `2.12` to the variable `b`\n",
    "* Assign string `\"abc\"` to the variable `c`"
   ]
  },
  {
   "cell_type": "code",
   "execution_count": 62,
   "metadata": {
    "ExecuteTime": {
     "end_time": "2024-02-26T06:51:21.584576Z",
     "start_time": "2024-02-26T06:51:21.581437Z"
    },
    "deletable": false,
    "nbgrader": {
     "cell_type": "code",
     "checksum": "921aba50c887a80cd09aa4e67b8b7d97",
     "grade": false,
     "grade_id": "cell-16fa14e8e8d56537",
     "locked": false,
     "schema_version": 3,
     "solution": true,
     "task": false
    }
   },
   "outputs": [],
   "source": [
    "# Complete the following line of code and then remove \"#\" to uncomment it\n",
    "a = int(1)\n",
    "b = float(2.12)\n",
    "c = 'abc'"
   ]
  },
  {
   "cell_type": "code",
   "execution_count": null,
   "metadata": {
    "ExecuteTime": {
     "end_time": "2023-06-23T07:14:01.051467Z",
     "start_time": "2023-06-23T07:14:01.035732Z"
    },
    "deletable": false,
    "editable": false,
    "nbgrader": {
     "cell_type": "code",
     "checksum": "1f1d8af60451751bcc571f879fd002e9",
     "grade": true,
     "grade_id": "cell-437d93f148ca76ad",
     "locked": true,
     "points": 10,
     "schema_version": 3,
     "solution": false,
     "task": false
    }
   },
   "outputs": [],
   "source": []
  },
  {
   "cell_type": "markdown",
   "metadata": {
    "deletable": false,
    "editable": false,
    "nbgrader": {
     "cell_type": "markdown",
     "checksum": "0bab28835049fdbf143f5ba4dc137bdc",
     "grade": false,
     "grade_id": "cell-fa353e9a0e4f04f6",
     "locked": true,
     "schema_version": 3,
     "solution": false,
     "task": false
    }
   },
   "source": [
    "Following Question 7 from above, please assign 2*a + b to the variable d."
   ]
  },
  {
   "cell_type": "code",
   "execution_count": 64,
   "metadata": {
    "ExecuteTime": {
     "end_time": "2024-02-26T06:51:27.120744Z",
     "start_time": "2024-02-26T06:51:27.118724Z"
    },
    "deletable": false,
    "nbgrader": {
     "cell_type": "code",
     "checksum": "c7231f0b24b61331e2d48f2b63f7b6bc",
     "grade": false,
     "grade_id": "cell-caa455cdf1ba8154",
     "locked": false,
     "schema_version": 3,
     "solution": true,
     "task": false
    }
   },
   "outputs": [],
   "source": [
    "# Complete the following line of code and then remove \"#\" to uncomment it\n",
    "d = 2*a + b\n",
    "    "
   ]
  },
  {
   "cell_type": "code",
   "execution_count": null,
   "metadata": {
    "deletable": false,
    "editable": false,
    "nbgrader": {
     "cell_type": "code",
     "checksum": "62dc1a209461f5bb945c976ae6407097",
     "grade": true,
     "grade_id": "cell-4d9a9d2da5d255a0",
     "locked": true,
     "points": 10,
     "schema_version": 3,
     "solution": false,
     "task": false
    }
   },
   "outputs": [],
   "source": []
  }
 ],
 "metadata": {
  "kernelspec": {
   "display_name": "Python 3 (ipykernel)",
   "language": "python",
   "name": "python3"
  },
  "language_info": {
   "codemirror_mode": {
    "name": "ipython",
    "version": 3
   },
   "file_extension": ".py",
   "mimetype": "text/x-python",
   "name": "python",
   "nbconvert_exporter": "python",
   "pygments_lexer": "ipython3",
   "version": "3.8.10"
  },
  "latex_envs": {
   "LaTeX_envs_menu_present": true,
   "autoclose": false,
   "autocomplete": true,
   "bibliofile": "biblio.bib",
   "cite_by": "apalike",
   "current_citInitial": 1,
   "eqLabelWithNumbers": true,
   "eqNumInitial": 1,
   "hotkeys": {
    "equation": "Ctrl-E",
    "itemize": "Ctrl-I"
   },
   "labels_anchors": false,
   "latex_user_defs": false,
   "report_style_numbering": false,
   "user_envs_cfg": false
  },
  "toc": {
   "base_numbering": 1,
   "nav_menu": {},
   "number_sections": true,
   "sideBar": true,
   "skip_h1_title": false,
   "title_cell": "Table of Contents",
   "title_sidebar": "Contents",
   "toc_cell": false,
   "toc_position": {
    "height": "calc(100% - 180px)",
    "left": "10px",
    "top": "150px",
    "width": "165px"
   },
   "toc_section_display": true,
   "toc_window_display": false
  }
 },
 "nbformat": 4,
 "nbformat_minor": 1
}
