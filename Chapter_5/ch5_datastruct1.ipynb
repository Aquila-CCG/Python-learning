{
 "cells": [
  {
   "cell_type": "markdown",
   "metadata": {},
   "source": [
    "Before you turn this problem in, make sure everything runs as expected. First, **restart the kernel** (in the menubar, select Kernel$\\rightarrow$Restart) and then **run all cells** (in the menubar, select Cell$\\rightarrow$Run All).\n",
    "\n",
    "Make sure you fill in any place that says `YOUR CODE HERE` or \"YOUR ANSWER HERE\", as well as your name and collaborators below:"
   ]
  },
  {
   "cell_type": "code",
   "execution_count": null,
   "metadata": {},
   "outputs": [],
   "source": [
    "NAME = \"\"\n",
    "COLLABORATORS = \"\""
   ]
  },
  {
   "cell_type": "markdown",
   "metadata": {},
   "source": [
    "---"
   ]
  },
  {
   "cell_type": "markdown",
   "metadata": {
    "toc": true
   },
   "source": [
    "<h1>Table of Contents<span class=\"tocSkip\"></span></h1>\n",
    "<div class=\"toc\"><ul class=\"toc-item\"><li><span><a href=\"#List\" data-toc-modified-id=\"List-1\"><span class=\"toc-item-num\">1&nbsp;&nbsp;</span>List</a></span><ul class=\"toc-item\"><li><span><a href=\"#Access-Values-in-a-List\" data-toc-modified-id=\"Access-Values-in-a-List-1.1\"><span class=\"toc-item-num\">1.1&nbsp;&nbsp;</span>Access Values in a List</a></span></li><li><span><a href=\"#Modify-a-List\" data-toc-modified-id=\"Modify-a-List-1.2\"><span class=\"toc-item-num\">1.2&nbsp;&nbsp;</span>Modify a List</a></span><ul class=\"toc-item\"><li><span><a href=\"#Change-Value-by-index\" data-toc-modified-id=\"Change-Value-by-index-1.2.1\"><span class=\"toc-item-num\">1.2.1&nbsp;&nbsp;</span>Change Value by index</a></span></li><li><span><a href=\"#Append-List-Elements\" data-toc-modified-id=\"Append-List-Elements-1.2.2\"><span class=\"toc-item-num\">1.2.2&nbsp;&nbsp;</span>Append List Elements</a></span></li><li><span><a href=\"#Delete-List-Elements\" data-toc-modified-id=\"Delete-List-Elements-1.2.3\"><span class=\"toc-item-num\">1.2.3&nbsp;&nbsp;</span>Delete List Elements</a></span></li></ul></li><li><span><a href=\"#Basic-List-Operations\" data-toc-modified-id=\"Basic-List-Operations-1.3\"><span class=\"toc-item-num\">1.3&nbsp;&nbsp;</span>Basic List Operations</a></span></li><li><span><a href=\"#Exercises\" data-toc-modified-id=\"Exercises-1.4\"><span class=\"toc-item-num\">1.4&nbsp;&nbsp;</span>Exercises</a></span></li></ul></li><li><span><a href=\"#Tuple\" data-toc-modified-id=\"Tuple-2\"><span class=\"toc-item-num\">2&nbsp;&nbsp;</span>Tuple</a></span><ul class=\"toc-item\"><li><span><a href=\"#Access-Values-in-a-Tuple\" data-toc-modified-id=\"Access-Values-in-a-Tuple-2.1\"><span class=\"toc-item-num\">2.1&nbsp;&nbsp;</span>Access Values in a Tuple</a></span></li><li><span><a href=\"#Modify-Elements-in-a-Tuple\" data-toc-modified-id=\"Modify-Elements-in-a-Tuple-2.2\"><span class=\"toc-item-num\">2.2&nbsp;&nbsp;</span>Modify Elements in a Tuple</a></span></li><li><span><a href=\"#Basic-Tuple-Operations\" data-toc-modified-id=\"Basic-Tuple-Operations-2.3\"><span class=\"toc-item-num\">2.3&nbsp;&nbsp;</span>Basic Tuple Operations</a></span></li><li><span><a href=\"#Exercises\" data-toc-modified-id=\"Exercises-2.4\"><span class=\"toc-item-num\">2.4&nbsp;&nbsp;</span>Exercises</a></span></li></ul></li><li><span><a href=\"#Set\" data-toc-modified-id=\"Set-3\"><span class=\"toc-item-num\">3&nbsp;&nbsp;</span>Set</a></span><ul class=\"toc-item\"><li><span><a href=\"#Set-Difference,-union-and-intersection\" data-toc-modified-id=\"Set-Difference,-union-and-intersection-3.1\"><span class=\"toc-item-num\">3.1&nbsp;&nbsp;</span>Set Difference, union and intersection</a></span></li><li><span><a href=\"#Add-or-pop-values-from-a-set\" data-toc-modified-id=\"Add-or-pop-values-from-a-set-3.2\"><span class=\"toc-item-num\">3.2&nbsp;&nbsp;</span>Add or pop values from a set</a></span></li><li><span><a href=\"#Exercises\" data-toc-modified-id=\"Exercises-3.3\"><span class=\"toc-item-num\">3.3&nbsp;&nbsp;</span>Exercises</a></span></li></ul></li><li><span><a href=\"#Dictionary\" data-toc-modified-id=\"Dictionary-4\"><span class=\"toc-item-num\">4&nbsp;&nbsp;</span>Dictionary</a></span><ul class=\"toc-item\"><li><span><a href=\"#Access-Values-in-a-Dictionary\" data-toc-modified-id=\"Access-Values-in-a-Dictionary-4.1\"><span class=\"toc-item-num\">4.1&nbsp;&nbsp;</span>Access Values in a Dictionary</a></span></li><li><span><a href=\"#Modify-Elements-of-a-Dictionary\" data-toc-modified-id=\"Modify-Elements-of-a-Dictionary-4.2\"><span class=\"toc-item-num\">4.2&nbsp;&nbsp;</span>Modify Elements of a Dictionary</a></span><ul class=\"toc-item\"><li><span><a href=\"#Add-Elements\" data-toc-modified-id=\"Add-Elements-4.2.1\"><span class=\"toc-item-num\">4.2.1&nbsp;&nbsp;</span>Add Elements</a></span></li><li><span><a href=\"#Delete-Elements\" data-toc-modified-id=\"Delete-Elements-4.2.2\"><span class=\"toc-item-num\">4.2.2&nbsp;&nbsp;</span>Delete Elements</a></span></li></ul></li><li><span><a href=\"#Basic-Dictionary-Methods-(Built-in-functions)\" data-toc-modified-id=\"Basic-Dictionary-Methods-(Built-in-functions)-4.3\"><span class=\"toc-item-num\">4.3&nbsp;&nbsp;</span>Basic Dictionary Methods (Built-in functions)</a></span></li><li><span><a href=\"#Exercises\" data-toc-modified-id=\"Exercises-4.4\"><span class=\"toc-item-num\">4.4&nbsp;&nbsp;</span>Exercises</a></span></li></ul></li><li><span><a href=\"#Examples\" data-toc-modified-id=\"Examples-5\"><span class=\"toc-item-num\">5&nbsp;&nbsp;</span>Examples</a></span><ul class=\"toc-item\"><li><span><a href=\"#Example-1:-Print-all-the-keys-of-dictionary\" data-toc-modified-id=\"Example-1:-Print-all-the-keys-of-dictionary-5.1\"><span class=\"toc-item-num\">5.1&nbsp;&nbsp;</span>Example 1: Print all the keys of dictionary</a></span></li><li><span><a href=\"#Example-2:-Given-a-list,-check-element-frequency\" data-toc-modified-id=\"Example-2:-Given-a-list,-check-element-frequency-5.2\"><span class=\"toc-item-num\">5.2&nbsp;&nbsp;</span>Example 2: Given a list, check element frequency</a></span></li><li><span><a href=\"#Example-3:-Sort-the-(key-value)-pair-by-value-in-descending-order\" data-toc-modified-id=\"Example-3:-Sort-the-(key-value)-pair-by-value-in-descending-order-5.3\"><span class=\"toc-item-num\">5.3&nbsp;&nbsp;</span>Example 3: Sort the (key-value) pair by value in descending order</a></span></li><li><span><a href=\"#Example-4:--Student-Marks\" data-toc-modified-id=\"Example-4:--Student-Marks-5.4\"><span class=\"toc-item-num\">5.4&nbsp;&nbsp;</span>Example 4:  Student Marks</a></span></li></ul></li></ul></div>"
   ]
  },
  {
   "cell_type": "markdown",
   "metadata": {},
   "source": [
    "# Python Data Structures - Common Built in Data Structures"
   ]
  },
  {
   "cell_type": "markdown",
   "metadata": {},
   "source": [
    "**After this class, you will know:**\n",
    " \n",
    "* 1) What are Python built-in data structures?"
   ]
  },
  {
   "cell_type": "markdown",
   "metadata": {},
   "source": [
    "---"
   ]
  },
  {
   "cell_type": "markdown",
   "metadata": {},
   "source": [
    "* Data structures are basically structures which can hold some data together. In other words, they are used to store a collection of related data.\n",
    "\n",
    "* There are built-in data structures in Python: **list**, **tuple**, **set** and **dictionary**. We will see how to use each of them and how they make life easier."
   ]
  },
  {
   "cell_type": "markdown",
   "metadata": {},
   "source": [
    "## List\n",
    "\n",
    "* A **list** is a data structure that holds an ordered collection of items, i.e. you can store a **sequence** of items in a list. \n",
    "\n",
    "* List can be written as a list of comma-separated values (items) between square brackets. For example, `list1 = ['a', 'b', 'c', 1, 2 ...]`. You can put **any object** into a list, even a list. For example, `list1 = ['a, 'b', [1, 2] ...]`.\n",
    "\n",
    "* Once you have created a list, you can add, remove or search for items in the list. Since we can add and remove items, we say that a list is a **mutable** data type, i.e. this type can be altered."
   ]
  },
  {
   "cell_type": "markdown",
   "metadata": {},
   "source": [
    "### Access Values in a List\n",
    "\n",
    "To **access** values in lists, use the **square brackets** for **slicing** along with the index to obtain value available at that index."
   ]
  },
  {
   "cell_type": "markdown",
   "metadata": {},
   "source": [
    "**Example**"
   ]
  },
  {
   "cell_type": "code",
   "execution_count": 1,
   "metadata": {
    "ExecuteTime": {
     "end_time": "2024-03-18T04:40:37.501193Z",
     "start_time": "2024-03-18T04:40:37.498700Z"
    }
   },
   "outputs": [],
   "source": [
    "list1 = ['physics', 'chemistry', 1997, 2000]\n",
    "list2 = [1, 2, 3, 4, 5, 6, 7 ]"
   ]
  },
  {
   "cell_type": "code",
   "execution_count": 2,
   "metadata": {
    "ExecuteTime": {
     "end_time": "2024-03-18T04:40:38.816358Z",
     "start_time": "2024-03-18T04:40:38.808582Z"
    }
   },
   "outputs": [
    {
     "data": {
      "text/plain": [
       "'physics'"
      ]
     },
     "execution_count": 2,
     "metadata": {},
     "output_type": "execute_result"
    }
   ],
   "source": [
    "list1[0]"
   ]
  },
  {
   "cell_type": "code",
   "execution_count": null,
   "metadata": {
    "ExecuteTime": {
     "end_time": "2022-03-15T00:54:36.169716Z",
     "start_time": "2022-03-15T00:54:36.161909Z"
    }
   },
   "outputs": [],
   "source": [
    "list2[1:5]"
   ]
  },
  {
   "cell_type": "code",
   "execution_count": null,
   "metadata": {
    "ExecuteTime": {
     "end_time": "2022-03-13T02:38:55.131692Z",
     "start_time": "2022-03-13T02:38:55.125933Z"
    }
   },
   "outputs": [],
   "source": [
    "list2[:5]"
   ]
  },
  {
   "cell_type": "code",
   "execution_count": null,
   "metadata": {
    "ExecuteTime": {
     "end_time": "2022-03-13T02:38:55.458353Z",
     "start_time": "2022-03-13T02:38:55.452713Z"
    }
   },
   "outputs": [],
   "source": [
    "list2[2:]"
   ]
  },
  {
   "cell_type": "code",
   "execution_count": null,
   "metadata": {
    "ExecuteTime": {
     "end_time": "2022-03-15T00:55:34.520332Z",
     "start_time": "2022-03-15T00:55:34.514348Z"
    }
   },
   "outputs": [],
   "source": [
    "list2[-1]"
   ]
  },
  {
   "cell_type": "code",
   "execution_count": null,
   "metadata": {
    "ExecuteTime": {
     "end_time": "2022-03-13T02:38:55.996679Z",
     "start_time": "2022-03-13T02:38:55.991208Z"
    }
   },
   "outputs": [],
   "source": [
    "list2[-3:-1]"
   ]
  },
  {
   "cell_type": "markdown",
   "metadata": {},
   "source": [
    "### Modify a List\n",
    "* list can be modified(mutable)\n",
    "* tuple can no be mutable"
   ]
  },
  {
   "cell_type": "markdown",
   "metadata": {},
   "source": [
    "#### Change Value by index"
   ]
  },
  {
   "cell_type": "code",
   "execution_count": null,
   "metadata": {
    "ExecuteTime": {
     "end_time": "2022-03-13T02:38:59.983376Z",
     "start_time": "2022-03-13T02:38:59.977548Z"
    }
   },
   "outputs": [],
   "source": [
    "list1 = ['physics', 'chemistry', 1997, 2000]\n",
    "list1"
   ]
  },
  {
   "cell_type": "code",
   "execution_count": null,
   "metadata": {
    "ExecuteTime": {
     "end_time": "2022-03-13T02:39:00.254922Z",
     "start_time": "2022-03-13T02:39:00.249336Z"
    }
   },
   "outputs": [],
   "source": [
    "list1[2] = 2001\n",
    "list1"
   ]
  },
  {
   "cell_type": "code",
   "execution_count": null,
   "metadata": {
    "ExecuteTime": {
     "end_time": "2022-03-13T02:39:00.531791Z",
     "start_time": "2022-03-13T02:39:00.526519Z"
    }
   },
   "outputs": [],
   "source": [
    "list1[3] ='xyz'\n",
    "list1"
   ]
  },
  {
   "cell_type": "markdown",
   "metadata": {},
   "source": [
    "#### Append List Elements"
   ]
  },
  {
   "cell_type": "code",
   "execution_count": null,
   "metadata": {
    "ExecuteTime": {
     "end_time": "2022-03-13T02:39:01.842640Z",
     "start_time": "2022-03-13T02:39:01.836115Z"
    }
   },
   "outputs": [],
   "source": [
    "list1 = ['physics', 'chemistry', 1997, 2000]\n",
    "list1"
   ]
  },
  {
   "cell_type": "code",
   "execution_count": null,
   "metadata": {
    "ExecuteTime": {
     "end_time": "2022-03-13T02:39:02.179306Z",
     "start_time": "2022-03-13T02:39:02.173616Z"
    }
   },
   "outputs": [],
   "source": [
    "list1.append(2001) # append a new element at the end of the list\n",
    "list1"
   ]
  },
  {
   "cell_type": "code",
   "execution_count": null,
   "metadata": {
    "ExecuteTime": {
     "end_time": "2022-03-13T02:39:02.456071Z",
     "start_time": "2022-03-13T02:39:02.450592Z"
    }
   },
   "outputs": [],
   "source": [
    "list1.append(2002) # append a new element at the end of the list\n",
    "list1"
   ]
  },
  {
   "cell_type": "markdown",
   "metadata": {},
   "source": [
    "#### Delete List Elements\n",
    "\n",
    "To remove a list element, you can use either the `del` statement if you know exactly which element(s) you are deleting or the `remove()` method if you do not know."
   ]
  },
  {
   "cell_type": "code",
   "execution_count": null,
   "metadata": {
    "ExecuteTime": {
     "end_time": "2022-03-13T02:39:04.573937Z",
     "start_time": "2022-03-13T02:39:04.567944Z"
    }
   },
   "outputs": [],
   "source": [
    "list1 = ['physics', 'chemistry', 1997, 2000]\n",
    "list1"
   ]
  },
  {
   "cell_type": "code",
   "execution_count": null,
   "metadata": {
    "ExecuteTime": {
     "end_time": "2022-03-13T02:39:04.872569Z",
     "start_time": "2022-03-13T02:39:04.866149Z"
    }
   },
   "outputs": [],
   "source": [
    "del list1[2]\n",
    "print(\"After deleting value at index 2 : \")\n",
    "list1"
   ]
  },
  {
   "cell_type": "code",
   "execution_count": null,
   "metadata": {
    "ExecuteTime": {
     "end_time": "2022-03-13T02:39:05.171679Z",
     "start_time": "2022-03-13T02:39:05.166221Z"
    }
   },
   "outputs": [],
   "source": [
    "list1.remove(2000)\n",
    "list1"
   ]
  },
  {
   "cell_type": "markdown",
   "metadata": {},
   "source": [
    "### Basic List Operations\n",
    "\n",
    "![list-operation.png](Figures/list-operation.png)"
   ]
  },
  {
   "cell_type": "code",
   "execution_count": 3,
   "metadata": {
    "ExecuteTime": {
     "end_time": "2024-03-18T04:42:02.157857Z",
     "start_time": "2024-03-18T04:42:02.153610Z"
    }
   },
   "outputs": [
    {
     "data": {
      "text/plain": [
       "[1, 2, 3, 1, 1, 4, 5, 6]"
      ]
     },
     "execution_count": 3,
     "metadata": {},
     "output_type": "execute_result"
    }
   ],
   "source": [
    "l1 = [1, 2, 3, 1, 1]\n",
    "l2 = [4, 5, 6]\n",
    "l3 = l1 + l2\n",
    "l3"
   ]
  },
  {
   "cell_type": "code",
   "execution_count": 4,
   "metadata": {
    "ExecuteTime": {
     "end_time": "2024-03-18T04:42:08.394034Z",
     "start_time": "2024-03-18T04:42:08.390581Z"
    }
   },
   "outputs": [
    {
     "data": {
      "text/plain": [
       "1"
      ]
     },
     "execution_count": 4,
     "metadata": {},
     "output_type": "execute_result"
    }
   ],
   "source": [
    "l3.count(4)"
   ]
  },
  {
   "cell_type": "markdown",
   "metadata": {},
   "source": [
    "> For other **methods** in **list**, you can reference Python **API** [here](https://docs.python.org/3/tutorial/datastructures.html)."
   ]
  },
  {
   "cell_type": "markdown",
   "metadata": {},
   "source": [
    "### Exercises"
   ]
  },
  {
   "cell_type": "markdown",
   "metadata": {
    "ExecuteTime": {
     "end_time": "2023-06-27T07:05:13.325822Z",
     "start_time": "2023-06-27T07:05:13.319860Z"
    },
    "deletable": false,
    "editable": false,
    "nbgrader": {
     "cell_type": "markdown",
     "checksum": "0fd7d5b99aaae56858a3f83c41800dcc",
     "grade": false,
     "grade_id": "cell-9be79787b62f57ef",
     "locked": true,
     "schema_version": 3,
     "solution": false,
     "task": false
    }
   },
   "source": [
    "**Question1**. Define a function ``first_last(listA)`` that **returns** a list with the first and last element of a non-empty ``listA`` interchanged.\n",
    "\n",
    "**Example** \n",
    "```py\n",
    "first_last([1, 2, 3]) -> [3, 2, 1]\n",
    "first_last([\"a\", \"b\", \"c\", \"d\"]) -> [\"d\", \"b\", \"c\", \"a\"]\n",
    "```\n",
    "\n",
    "**Hint** \n",
    "* To create a list with the same dimension of list1\n",
    "```py\n",
    "n = len(listA)\n",
    "list0 = [0]*n\n",
    "```"
   ]
  },
  {
   "cell_type": "code",
   "execution_count": 35,
   "metadata": {
    "ExecuteTime": {
     "end_time": "2024-03-18T06:02:53.099160Z",
     "start_time": "2024-03-18T06:02:53.096811Z"
    },
    "deletable": false,
    "nbgrader": {
     "cell_type": "code",
     "checksum": "ced82e346ae80e3bc13da0e9f3b9fa9a",
     "grade": false,
     "grade_id": "cell-897e8350946a14ec",
     "locked": false,
     "schema_version": 3,
     "solution": true,
     "task": false
    }
   },
   "outputs": [],
   "source": [
    "def first_last(listA):\n",
    "    a = listA.pop()\n",
    "    listA.append(listA[0])\n",
    "    listA[0]= a\n",
    "    return listA"
   ]
  },
  {
   "cell_type": "code",
   "execution_count": 37,
   "metadata": {
    "ExecuteTime": {
     "end_time": "2024-03-18T06:03:06.267673Z",
     "start_time": "2024-03-18T06:03:06.265037Z"
    }
   },
   "outputs": [
    {
     "name": "stdout",
     "output_type": "stream",
     "text": [
      "[3, 2, 1]\n"
     ]
    }
   ],
   "source": [
    "result = first_last([1, 2, 3])\n",
    "print(result)"
   ]
  },
  {
   "cell_type": "code",
   "execution_count": 38,
   "metadata": {
    "ExecuteTime": {
     "end_time": "2024-03-18T06:03:45.274472Z",
     "start_time": "2024-03-18T06:03:45.271674Z"
    }
   },
   "outputs": [
    {
     "name": "stdout",
     "output_type": "stream",
     "text": [
      "['d', 'b', 'c', 'a']\n"
     ]
    }
   ],
   "source": [
    "result = first_last([\"a\", \"b\", \"c\", \"d\"])\n",
    "print(result)"
   ]
  },
  {
   "cell_type": "code",
   "execution_count": null,
   "metadata": {
    "ExecuteTime": {
     "end_time": "2024-03-18T01:42:43.393723Z",
     "start_time": "2024-03-18T01:42:43.391583Z"
    },
    "deletable": false,
    "editable": false,
    "nbgrader": {
     "cell_type": "code",
     "checksum": "836e8a45d3ca94444d6b4d2241b1b25a",
     "grade": true,
     "grade_id": "cell-8ee8c51d9edb8d15",
     "locked": true,
     "points": 5,
     "schema_version": 3,
     "solution": false,
     "task": false
    }
   },
   "outputs": [],
   "source": []
  },
  {
   "cell_type": "code",
   "execution_count": null,
   "metadata": {
    "ExecuteTime": {
     "end_time": "2024-03-18T01:42:45.440787Z",
     "start_time": "2024-03-18T01:42:45.438382Z"
    },
    "deletable": false,
    "editable": false,
    "nbgrader": {
     "cell_type": "code",
     "checksum": "e362652130409f5af16373221689f7c3",
     "grade": true,
     "grade_id": "cell-43a1f70812a04a62",
     "locked": true,
     "points": 5,
     "schema_version": 3,
     "solution": false,
     "task": false
    }
   },
   "outputs": [],
   "source": []
  },
  {
   "cell_type": "markdown",
   "metadata": {
    "deletable": false,
    "editable": false,
    "nbgrader": {
     "cell_type": "markdown",
     "checksum": "669edfd3444a6702d96f64734aacfb4e",
     "grade": false,
     "grade_id": "cell-d0263d8251fcb446",
     "locked": true,
     "schema_version": 3,
     "solution": false,
     "task": false
    }
   },
   "source": [
    "**Question2**. Define a function ``odd_numbers()``. The function iterates all the numbers from 0 to 20 using a **for loop** and **returns** all the odd numbers in a list `res`. \n",
    "\n",
    "**Hint** \n",
    "* ``list.append()`` is a built-in method in Python to store items into a list."
   ]
  },
  {
   "cell_type": "code",
   "execution_count": 42,
   "metadata": {
    "ExecuteTime": {
     "end_time": "2024-03-18T06:08:53.747106Z",
     "start_time": "2024-03-18T06:08:53.744698Z"
    },
    "deletable": false,
    "nbgrader": {
     "cell_type": "code",
     "checksum": "0b677f12d1f4c9fe764022558646cb0b",
     "grade": false,
     "grade_id": "cell-64677f08db0622cc",
     "locked": false,
     "schema_version": 3,
     "solution": true,
     "task": false
    }
   },
   "outputs": [],
   "source": [
    "def odd_numbers():\n",
    "    res = []\n",
    "    for i in range(0,21,2):\n",
    "        res.append(i)\n",
    "    return res"
   ]
  },
  {
   "cell_type": "code",
   "execution_count": null,
   "metadata": {
    "ExecuteTime": {
     "end_time": "2024-03-18T01:44:58.702893Z",
     "start_time": "2024-03-18T01:44:58.700552Z"
    },
    "deletable": false,
    "editable": false,
    "nbgrader": {
     "cell_type": "code",
     "checksum": "bd99810a06cbf46acc0d48c43f0bd3f7",
     "grade": true,
     "grade_id": "cell-c5f70a1f39ae8d04",
     "locked": true,
     "points": 20,
     "schema_version": 3,
     "solution": false,
     "task": false
    }
   },
   "outputs": [],
   "source": []
  },
  {
   "cell_type": "code",
   "execution_count": 43,
   "metadata": {
    "ExecuteTime": {
     "end_time": "2024-03-18T06:08:57.153618Z",
     "start_time": "2024-03-18T06:08:57.150465Z"
    }
   },
   "outputs": [
    {
     "data": {
      "text/plain": [
       "[0, 2, 4, 6, 8, 10, 12, 14, 16, 18, 20]"
      ]
     },
     "execution_count": 43,
     "metadata": {},
     "output_type": "execute_result"
    }
   ],
   "source": [
    "odd_numbers()"
   ]
  },
  {
   "cell_type": "markdown",
   "metadata": {},
   "source": [
    "## Tuple\n",
    "\n",
    "* A **tuple** is a sequence of **immutable** Python objects. Tuples are sequences, just like lists. The differences between tuples and lists are: the tuples **cannot be changed** unlike lists; and tuples use parentheses whereas lists use square brackets.\n",
    "\n",
    "* Tuples are usually used in cases where a statement or a user-defined function can safely assume that the collection of values, i.e. the tuple of values used will not change."
   ]
  },
  {
   "cell_type": "code",
   "execution_count": 19,
   "metadata": {
    "ExecuteTime": {
     "end_time": "2024-03-18T05:46:42.924085Z",
     "start_time": "2024-03-18T05:46:42.920650Z"
    }
   },
   "outputs": [],
   "source": [
    "tup1 = ('East',)\n",
    "tup2 = ('Jan', 'Feb', 'Mar', 'Apr', 'May', 'Jun', 'Jul', 'Aug', 'Sep', 'Oct', 'Nov', 'Dec')"
   ]
  },
  {
   "cell_type": "code",
   "execution_count": 20,
   "metadata": {
    "ExecuteTime": {
     "end_time": "2024-03-18T05:46:43.719868Z",
     "start_time": "2024-03-18T05:46:43.708643Z"
    }
   },
   "outputs": [
    {
     "data": {
      "text/plain": [
       "1"
      ]
     },
     "execution_count": 20,
     "metadata": {},
     "output_type": "execute_result"
    }
   ],
   "source": [
    "len(tup1)"
   ]
  },
  {
   "cell_type": "markdown",
   "metadata": {},
   "source": [
    "### Access Values in a Tuple\n",
    "\n",
    "* This is exactly the same as list. You can do the same access by indexing and slicing."
   ]
  },
  {
   "cell_type": "code",
   "execution_count": 21,
   "metadata": {
    "ExecuteTime": {
     "end_time": "2024-03-18T05:46:49.893263Z",
     "start_time": "2024-03-18T05:46:49.882214Z"
    }
   },
   "outputs": [
    {
     "data": {
      "text/plain": [
       "()"
      ]
     },
     "execution_count": 21,
     "metadata": {},
     "output_type": "execute_result"
    }
   ],
   "source": [
    "tup1[2:]"
   ]
  },
  {
   "cell_type": "markdown",
   "metadata": {},
   "source": [
    "### Modify Elements in a Tuple\n",
    "\n",
    "* Since Tuple is immutable, we **cannot** modify/add/delete elements in a tuple. Modification will generate error."
   ]
  },
  {
   "cell_type": "code",
   "execution_count": 22,
   "metadata": {
    "ExecuteTime": {
     "end_time": "2024-03-18T05:46:59.950908Z",
     "start_time": "2024-03-18T05:46:59.942347Z"
    }
   },
   "outputs": [],
   "source": [
    "tup1 = ('East', 'West', 'North', 'South')"
   ]
  },
  {
   "cell_type": "code",
   "execution_count": 23,
   "metadata": {
    "ExecuteTime": {
     "end_time": "2024-03-18T05:47:00.275037Z",
     "start_time": "2024-03-18T05:47:00.265779Z"
    }
   },
   "outputs": [
    {
     "data": {
      "text/plain": [
       "'East'"
      ]
     },
     "execution_count": 23,
     "metadata": {},
     "output_type": "execute_result"
    }
   ],
   "source": [
    "tup1[0]"
   ]
  },
  {
   "cell_type": "code",
   "execution_count": 24,
   "metadata": {
    "ExecuteTime": {
     "end_time": "2024-03-18T05:47:00.778963Z",
     "start_time": "2024-03-18T05:47:00.747183Z"
    }
   },
   "outputs": [
    {
     "ename": "TypeError",
     "evalue": "'tuple' object does not support item assignment",
     "output_type": "error",
     "traceback": [
      "\u001b[0;31m---------------------------------------------------------------------------\u001b[0m",
      "\u001b[0;31mTypeError\u001b[0m                                 Traceback (most recent call last)",
      "\u001b[0;32m/tmp/ipykernel_33112/1398494986.py\u001b[0m in \u001b[0;36m<module>\u001b[0;34m\u001b[0m\n\u001b[0;32m----> 1\u001b[0;31m \u001b[0mtup1\u001b[0m\u001b[0;34m[\u001b[0m\u001b[0;36m0\u001b[0m\u001b[0;34m]\u001b[0m \u001b[0;34m=\u001b[0m \u001b[0;34m'Middle'\u001b[0m\u001b[0;34m\u001b[0m\u001b[0;34m\u001b[0m\u001b[0m\n\u001b[0m",
      "\u001b[0;31mTypeError\u001b[0m: 'tuple' object does not support item assignment"
     ]
    }
   ],
   "source": [
    "tup1[0] = 'Middle'"
   ]
  },
  {
   "cell_type": "markdown",
   "metadata": {},
   "source": [
    "* Even though you cannot change element in *Tuple*, you can change the object which is referenced by Tuple element."
   ]
  },
  {
   "cell_type": "code",
   "execution_count": 4,
   "metadata": {
    "ExecuteTime": {
     "end_time": "2024-04-21T03:28:09.266738Z",
     "start_time": "2024-04-21T03:28:09.262312Z"
    }
   },
   "outputs": [
    {
     "data": {
      "text/plain": [
       "(['iphone'], ['huawei'], ['samsung'])"
      ]
     },
     "execution_count": 4,
     "metadata": {},
     "output_type": "execute_result"
    }
   ],
   "source": [
    "a = ['iphone']\n",
    "b = ['huawei']\n",
    "c = ['samsung']\n",
    "phone = (a, b, c)\n",
    "phone"
   ]
  },
  {
   "cell_type": "code",
   "execution_count": 5,
   "metadata": {
    "ExecuteTime": {
     "end_time": "2024-04-21T03:28:10.210652Z",
     "start_time": "2024-04-21T03:28:10.206456Z"
    }
   },
   "outputs": [
    {
     "data": {
      "text/plain": [
       "(['iphone', 'oppo'], ['huawei'], ['samsung'])"
      ]
     },
     "execution_count": 5,
     "metadata": {},
     "output_type": "execute_result"
    }
   ],
   "source": [
    "a.append('oppo')\n",
    "phone\n",
    "\n",
    "# A list is mutable. \n",
    "# Object \"a\" has become a list and any of the reference to it will change."
   ]
  },
  {
   "cell_type": "code",
   "execution_count": 6,
   "metadata": {
    "ExecuteTime": {
     "end_time": "2024-04-21T03:28:11.399440Z",
     "start_time": "2024-04-21T03:28:11.395127Z"
    }
   },
   "outputs": [
    {
     "data": {
      "text/plain": [
       "['iphone', 'oppo']"
      ]
     },
     "execution_count": 6,
     "metadata": {},
     "output_type": "execute_result"
    }
   ],
   "source": [
    "phone[0]"
   ]
  },
  {
   "cell_type": "code",
   "execution_count": 7,
   "metadata": {
    "ExecuteTime": {
     "end_time": "2024-04-21T03:28:12.595422Z",
     "start_time": "2024-04-21T03:28:12.591860Z"
    }
   },
   "outputs": [
    {
     "data": {
      "text/plain": [
       "list"
      ]
     },
     "execution_count": 7,
     "metadata": {},
     "output_type": "execute_result"
    }
   ],
   "source": [
    "type(phone[0])"
   ]
  },
  {
   "cell_type": "code",
   "execution_count": 8,
   "metadata": {
    "ExecuteTime": {
     "end_time": "2024-04-21T03:28:13.880103Z",
     "start_time": "2024-04-21T03:28:13.876178Z"
    }
   },
   "outputs": [
    {
     "data": {
      "text/plain": [
       "('iphone', 'huawei', 'sumsung')"
      ]
     },
     "execution_count": 8,
     "metadata": {},
     "output_type": "execute_result"
    }
   ],
   "source": [
    "a = 'iphone'\n",
    "b = 'huawei'\n",
    "c = 'sumsung'\n",
    "phone = (a, b, c)\n",
    "phone"
   ]
  },
  {
   "cell_type": "code",
   "execution_count": 3,
   "metadata": {
    "ExecuteTime": {
     "end_time": "2024-04-21T03:28:03.447549Z",
     "start_time": "2024-04-21T03:28:03.391030Z"
    }
   },
   "outputs": [
    {
     "ename": "TypeError",
     "evalue": "can only concatenate list (not \"str\") to list",
     "output_type": "error",
     "traceback": [
      "\u001b[0;31m---------------------------------------------------------------------------\u001b[0m",
      "\u001b[0;31mTypeError\u001b[0m                                 Traceback (most recent call last)",
      "\u001b[0;32m/tmp/ipykernel_75386/2981530355.py\u001b[0m in \u001b[0;36m<module>\u001b[0;34m\u001b[0m\n\u001b[0;32m----> 1\u001b[0;31m \u001b[0ma\u001b[0m \u001b[0;34m=\u001b[0m \u001b[0ma\u001b[0m \u001b[0;34m+\u001b[0m \u001b[0;34m'oppo'\u001b[0m\u001b[0;34m\u001b[0m\u001b[0;34m\u001b[0m\u001b[0m\n\u001b[0m\u001b[1;32m      2\u001b[0m \u001b[0mprint\u001b[0m\u001b[0;34m(\u001b[0m\u001b[0ma\u001b[0m\u001b[0;34m)\u001b[0m\u001b[0;34m\u001b[0m\u001b[0;34m\u001b[0m\u001b[0m\n\u001b[1;32m      3\u001b[0m \u001b[0mprint\u001b[0m\u001b[0;34m(\u001b[0m\u001b[0mphone\u001b[0m\u001b[0;34m)\u001b[0m\u001b[0;34m\u001b[0m\u001b[0;34m\u001b[0m\u001b[0m\n\u001b[1;32m      4\u001b[0m \u001b[0;34m\u001b[0m\u001b[0m\n\u001b[1;32m      5\u001b[0m \u001b[0;31m# A string is immutable.\u001b[0m\u001b[0;34m\u001b[0m\u001b[0;34m\u001b[0m\u001b[0;34m\u001b[0m\u001b[0m\n",
      "\u001b[0;31mTypeError\u001b[0m: can only concatenate list (not \"str\") to list"
     ]
    }
   ],
   "source": [
    "a = a + 'oppo'\n",
    "print(a)\n",
    "print(phone)\n",
    "\n",
    "# A string is immutable. \n",
    "# Even if the string is changed any of the references to the string will not change."
   ]
  },
  {
   "cell_type": "markdown",
   "metadata": {},
   "source": [
    "### Basic Tuple Operations\n",
    "\n",
    "![tuple-operation.png](Figures/tuple-operation.png)\n",
    "\n",
    "* Pay attention to (1, 2, 3) + (4, 5, 6). This is fine since the result is a new tuple, instead of updating tuple. Below will prove this is true."
   ]
  },
  {
   "cell_type": "code",
   "execution_count": 51,
   "metadata": {
    "ExecuteTime": {
     "end_time": "2024-03-18T06:11:26.515463Z",
     "start_time": "2024-03-18T06:11:26.511886Z"
    }
   },
   "outputs": [
    {
     "data": {
      "text/plain": [
       "(1, 2, 3, 4, 5, 6)"
      ]
     },
     "execution_count": 51,
     "metadata": {},
     "output_type": "execute_result"
    }
   ],
   "source": [
    "tup1 = (1, 2, 3)\n",
    "tup2 = (4, 5, 6)\n",
    "tup1 + tup2"
   ]
  },
  {
   "cell_type": "markdown",
   "metadata": {},
   "source": [
    "### Exercises"
   ]
  },
  {
   "cell_type": "markdown",
   "metadata": {
    "deletable": false,
    "editable": false,
    "nbgrader": {
     "cell_type": "markdown",
     "checksum": "108e5fc97276efeea1e5a944954e7879",
     "grade": false,
     "grade_id": "cell-1e2270837c1b6c7e",
     "locked": true,
     "schema_version": 3,
     "solution": false,
     "task": false
    }
   },
   "source": [
    "**Question1**.\n",
    "Write a function called `tuple_stats` that takes in a tuple of integers as input and returns a tuple containing the following statistics in the same order:\n",
    "1. The minimum value in the tuple.\n",
    "2. The maximum value in the tuple.\n",
    "3. The sum of all the values in the tuple.\n",
    "4. The mean of all the values in the tuple.\n",
    "\n",
    "**Example**\n",
    "```py\n",
    "tup1 = (3, 5, 1, 8, 2)\n",
    "tuple_stats(tup1) -> (1, 8, 19, 3.8)\n",
    "```\n",
    "\n",
    "**Hint** \n",
    "* To find the minimum and maximum values in a tuple, you can use the built-in `min` and `max` functions in Python. For example, `min((3, 5, 1, 8, 2))` will return 1.\n",
    "\n",
    "* To find the sum of all the values in a tuple, you can use a loop to iterate through each element in the tuple and add it to a running total. You can start the total at 0 and update it with each iteration of the loop.\n",
    "\n",
    "* To find the mean of all the values in a tuple, you can divide the sum of all the values by the length of the tuple. You can use the len function to find the length of the tuple."
   ]
  },
  {
   "cell_type": "code",
   "execution_count": 53,
   "metadata": {
    "ExecuteTime": {
     "end_time": "2024-03-18T06:13:46.131402Z",
     "start_time": "2024-03-18T06:13:46.128767Z"
    },
    "deletable": false,
    "nbgrader": {
     "cell_type": "code",
     "checksum": "7d585dc0b00de68a301720e32f6ec50f",
     "grade": false,
     "grade_id": "cell-4a4b51b7a9cfa65e",
     "locked": false,
     "schema_version": 3,
     "solution": true,
     "task": false
    }
   },
   "outputs": [],
   "source": [
    "def tuple_stats(tup):\n",
    "    a = min(tup)\n",
    "    b = max(tup)\n",
    "    c = 0\n",
    "    for i in tup:\n",
    "        c += i\n",
    "    d = c/len(tup)\n",
    "    return a, b, c, d"
   ]
  },
  {
   "cell_type": "code",
   "execution_count": 54,
   "metadata": {
    "ExecuteTime": {
     "end_time": "2024-03-18T06:14:02.740305Z",
     "start_time": "2024-03-18T06:14:02.736924Z"
    }
   },
   "outputs": [
    {
     "data": {
      "text/plain": [
       "(1, 8, 19, 3.8)"
      ]
     },
     "execution_count": 54,
     "metadata": {},
     "output_type": "execute_result"
    }
   ],
   "source": [
    "tup1 = (3, 5, 1, 8, 2)\n",
    "tuple_stats(tup1)"
   ]
  },
  {
   "cell_type": "code",
   "execution_count": null,
   "metadata": {
    "deletable": false,
    "editable": false,
    "nbgrader": {
     "cell_type": "code",
     "checksum": "5e72f0a6078ef2ce008283aba81d04cf",
     "grade": true,
     "grade_id": "cell-f1757449faa327b9",
     "locked": true,
     "points": 10,
     "schema_version": 3,
     "solution": false,
     "task": false
    }
   },
   "outputs": [],
   "source": []
  },
  {
   "cell_type": "code",
   "execution_count": null,
   "metadata": {
    "deletable": false,
    "editable": false,
    "nbgrader": {
     "cell_type": "code",
     "checksum": "22628aab338cc31db5e9ad0dbcd478c9",
     "grade": true,
     "grade_id": "cell-4e13d87f5ce13a7b",
     "locked": true,
     "points": 10,
     "schema_version": 3,
     "solution": false,
     "task": false
    }
   },
   "outputs": [],
   "source": []
  },
  {
   "cell_type": "markdown",
   "metadata": {},
   "source": [
    "## Set\n",
    "\n",
    "A **set** is another type of data structure with no duplicate items. We can apply mathematical set operations on sets."
   ]
  },
  {
   "cell_type": "code",
   "execution_count": 9,
   "metadata": {
    "ExecuteTime": {
     "end_time": "2024-04-21T03:30:46.105429Z",
     "start_time": "2024-04-21T03:30:46.102361Z"
    }
   },
   "outputs": [],
   "source": [
    "a = set('abcthabcjwethddda')"
   ]
  },
  {
   "cell_type": "code",
   "execution_count": 10,
   "metadata": {
    "ExecuteTime": {
     "end_time": "2024-04-21T03:30:46.617675Z",
     "start_time": "2024-04-21T03:30:46.614153Z"
    }
   },
   "outputs": [
    {
     "data": {
      "text/plain": [
       "{'a', 'b', 'c', 'd', 'e', 'h', 'j', 't', 'w'}"
      ]
     },
     "execution_count": 10,
     "metadata": {},
     "output_type": "execute_result"
    }
   ],
   "source": [
    "a"
   ]
  },
  {
   "cell_type": "code",
   "execution_count": 11,
   "metadata": {
    "ExecuteTime": {
     "end_time": "2024-04-21T03:30:47.560669Z",
     "start_time": "2024-04-21T03:30:47.553621Z"
    }
   },
   "outputs": [
    {
     "ename": "TypeError",
     "evalue": "'set' object is not subscriptable",
     "output_type": "error",
     "traceback": [
      "\u001b[0;31m---------------------------------------------------------------------------\u001b[0m",
      "\u001b[0;31mTypeError\u001b[0m                                 Traceback (most recent call last)",
      "\u001b[0;32m/tmp/ipykernel_75386/1109539928.py\u001b[0m in \u001b[0;36m<module>\u001b[0;34m\u001b[0m\n\u001b[0;32m----> 1\u001b[0;31m \u001b[0ma\u001b[0m\u001b[0;34m[\u001b[0m\u001b[0;36m0\u001b[0m\u001b[0;34m]\u001b[0m\u001b[0;34m\u001b[0m\u001b[0;34m\u001b[0m\u001b[0m\n\u001b[0m",
      "\u001b[0;31mTypeError\u001b[0m: 'set' object is not subscriptable"
     ]
    }
   ],
   "source": [
    "a[0]"
   ]
  },
  {
   "cell_type": "code",
   "execution_count": 2,
   "metadata": {
    "ExecuteTime": {
     "end_time": "2024-05-30T09:36:08.510697Z",
     "start_time": "2024-05-30T09:36:08.507968Z"
    }
   },
   "outputs": [],
   "source": [
    "a = set('abracadabra')\n",
    "b = set('alacazam')"
   ]
  },
  {
   "cell_type": "code",
   "execution_count": 13,
   "metadata": {
    "ExecuteTime": {
     "end_time": "2024-04-21T03:30:59.453447Z",
     "start_time": "2024-04-21T03:30:59.450290Z"
    }
   },
   "outputs": [
    {
     "data": {
      "text/plain": [
       "{'a', 'b', 'c', 'd', 'r'}"
      ]
     },
     "execution_count": 13,
     "metadata": {},
     "output_type": "execute_result"
    }
   ],
   "source": [
    "# unique letters in a\n",
    "a"
   ]
  },
  {
   "cell_type": "code",
   "execution_count": 14,
   "metadata": {
    "ExecuteTime": {
     "end_time": "2024-04-21T03:31:03.964418Z",
     "start_time": "2024-04-21T03:31:03.961374Z"
    }
   },
   "outputs": [
    {
     "data": {
      "text/plain": [
       "{'a', 'c', 'l', 'm', 'z'}"
      ]
     },
     "execution_count": 14,
     "metadata": {},
     "output_type": "execute_result"
    }
   ],
   "source": [
    "# unique letters in b\n",
    "b"
   ]
  },
  {
   "cell_type": "markdown",
   "metadata": {},
   "source": [
    "### Set Difference, union and intersection"
   ]
  },
  {
   "cell_type": "code",
   "execution_count": 15,
   "metadata": {
    "ExecuteTime": {
     "end_time": "2024-04-21T03:31:09.000562Z",
     "start_time": "2024-04-21T03:31:08.997410Z"
    }
   },
   "outputs": [
    {
     "data": {
      "text/plain": [
       "{'b', 'd', 'r'}"
      ]
     },
     "execution_count": 15,
     "metadata": {},
     "output_type": "execute_result"
    }
   ],
   "source": [
    "a - b # letters in a but not in b"
   ]
  },
  {
   "cell_type": "code",
   "execution_count": 16,
   "metadata": {
    "ExecuteTime": {
     "end_time": "2024-04-21T03:31:09.679820Z",
     "start_time": "2024-04-21T03:31:09.676720Z"
    }
   },
   "outputs": [
    {
     "data": {
      "text/plain": [
       "{'a', 'b', 'c', 'd', 'l', 'm', 'r', 'z'}"
      ]
     },
     "execution_count": 16,
     "metadata": {},
     "output_type": "execute_result"
    }
   ],
   "source": [
    "a | b  # letters in either a or b : a并b"
   ]
  },
  {
   "cell_type": "code",
   "execution_count": 17,
   "metadata": {
    "ExecuteTime": {
     "end_time": "2024-04-21T03:31:10.487290Z",
     "start_time": "2024-04-21T03:31:10.484100Z"
    }
   },
   "outputs": [
    {
     "data": {
      "text/plain": [
       "{'a', 'c'}"
      ]
     },
     "execution_count": 17,
     "metadata": {},
     "output_type": "execute_result"
    }
   ],
   "source": [
    "a & b  # letters in both a and b ：a交b"
   ]
  },
  {
   "cell_type": "code",
   "execution_count": 18,
   "metadata": {
    "ExecuteTime": {
     "end_time": "2024-04-21T03:31:12.421893Z",
     "start_time": "2024-04-21T03:31:12.418432Z"
    }
   },
   "outputs": [
    {
     "data": {
      "text/plain": [
       "{'b', 'd', 'l', 'm', 'r', 'z'}"
      ]
     },
     "execution_count": 18,
     "metadata": {},
     "output_type": "execute_result"
    }
   ],
   "source": [
    "a ^ b  # letters in a or b but not both : a \\ b - a & b"
   ]
  },
  {
   "cell_type": "markdown",
   "metadata": {},
   "source": [
    "### Add or pop values from a set"
   ]
  },
  {
   "cell_type": "code",
   "execution_count": 3,
   "metadata": {
    "ExecuteTime": {
     "end_time": "2024-05-30T09:36:11.193658Z",
     "start_time": "2024-05-30T09:36:11.180296Z"
    }
   },
   "outputs": [
    {
     "data": {
      "text/plain": [
       "{'a', 'b', 'c', 'd', 'r'}"
      ]
     },
     "execution_count": 3,
     "metadata": {},
     "output_type": "execute_result"
    }
   ],
   "source": [
    "a"
   ]
  },
  {
   "cell_type": "code",
   "execution_count": 4,
   "metadata": {
    "ExecuteTime": {
     "end_time": "2024-05-30T09:36:12.761836Z",
     "start_time": "2024-05-30T09:36:12.757758Z"
    }
   },
   "outputs": [
    {
     "data": {
      "text/plain": [
       "{'a', 'b', 'c', 'd', 'p', 'r'}"
      ]
     },
     "execution_count": 4,
     "metadata": {},
     "output_type": "execute_result"
    }
   ],
   "source": [
    "a.add('p')\n",
    "a"
   ]
  },
  {
   "cell_type": "code",
   "execution_count": 5,
   "metadata": {
    "ExecuteTime": {
     "end_time": "2024-05-30T09:36:14.693679Z",
     "start_time": "2024-05-30T09:36:14.690072Z"
    }
   },
   "outputs": [
    {
     "data": {
      "text/plain": [
       "{'a', 'b', 'd', 'p', 'r'}"
      ]
     },
     "execution_count": 5,
     "metadata": {},
     "output_type": "execute_result"
    }
   ],
   "source": [
    "a.remove('c') # Removes the specified element from the set\n",
    "a"
   ]
  },
  {
   "cell_type": "code",
   "execution_count": 6,
   "metadata": {
    "ExecuteTime": {
     "end_time": "2024-05-30T09:36:29.698080Z",
     "start_time": "2024-05-30T09:36:29.693432Z"
    },
    "scrolled": true
   },
   "outputs": [
    {
     "name": "stdout",
     "output_type": "stream",
     "text": [
      "p\n"
     ]
    },
    {
     "data": {
      "text/plain": [
       "{'a', 'b', 'd', 'r'}"
      ]
     },
     "execution_count": 6,
     "metadata": {},
     "output_type": "execute_result"
    }
   ],
   "source": [
    "b = a.pop() # Removes a random element from the set\n",
    "print(b)\n",
    "a"
   ]
  },
  {
   "cell_type": "code",
   "execution_count": 7,
   "metadata": {
    "ExecuteTime": {
     "end_time": "2024-05-30T09:39:17.660294Z",
     "start_time": "2024-05-30T09:39:17.643432Z"
    }
   },
   "outputs": [
    {
     "ename": "TypeError",
     "evalue": "pop() takes no arguments (1 given)",
     "output_type": "error",
     "traceback": [
      "\u001b[0;31m---------------------------------------------------------------------------\u001b[0m",
      "\u001b[0;31mTypeError\u001b[0m                                 Traceback (most recent call last)",
      "\u001b[0;32m/tmp/ipykernel_52988/3725338275.py\u001b[0m in \u001b[0;36m<module>\u001b[0;34m\u001b[0m\n\u001b[0;32m----> 1\u001b[0;31m \u001b[0mc\u001b[0m \u001b[0;34m=\u001b[0m \u001b[0ma\u001b[0m\u001b[0;34m.\u001b[0m\u001b[0mpop\u001b[0m\u001b[0;34m(\u001b[0m\u001b[0;34m'a'\u001b[0m\u001b[0;34m)\u001b[0m\u001b[0;34m\u001b[0m\u001b[0;34m\u001b[0m\u001b[0m\n\u001b[0m\u001b[1;32m      2\u001b[0m \u001b[0mprint\u001b[0m\u001b[0;34m(\u001b[0m\u001b[0mc\u001b[0m\u001b[0;34m)\u001b[0m\u001b[0;34m\u001b[0m\u001b[0;34m\u001b[0m\u001b[0m\n\u001b[1;32m      3\u001b[0m \u001b[0ma\u001b[0m\u001b[0;34m\u001b[0m\u001b[0;34m\u001b[0m\u001b[0m\n",
      "\u001b[0;31mTypeError\u001b[0m: pop() takes no arguments (1 given)"
     ]
    }
   ],
   "source": [
    "c = a.pop('a')\n",
    "print(c)\n",
    "a"
   ]
  },
  {
   "cell_type": "markdown",
   "metadata": {
    "deletable": false,
    "editable": false,
    "nbgrader": {
     "cell_type": "markdown",
     "checksum": "e0df439950b14a6d8ce14dd56c7824ed",
     "grade": false,
     "grade_id": "cell-6e6471d8f5c20d3b",
     "locked": true,
     "schema_version": 3,
     "solution": false,
     "task": false
    }
   },
   "source": [
    "### Exercises"
   ]
  },
  {
   "cell_type": "markdown",
   "metadata": {
    "deletable": false,
    "editable": false,
    "nbgrader": {
     "cell_type": "markdown",
     "checksum": "6e09fc8aafd8fc97f46bc8a8fac01605",
     "grade": false,
     "grade_id": "cell-4cb8f38aba229dad",
     "locked": true,
     "schema_version": 3,
     "solution": false,
     "task": false
    }
   },
   "source": [
    "**Question1**. Define a function ``group_student(set1, set2, left = True)``. The function **returns** a set: \n",
    "    \n",
    "    1. Students who are in `set1` but not in `set2`, if `left=True` \n",
    "    2. Students who are in both `set1` and `set2` at the same time, if `left=False` \n",
    "\n",
    "**Hints** \n",
    "* Use `set1 = {...}` to create a set. \n",
    "* a - b returns items in a but not in b\n",
    "* a & b returns items in both a and b\n",
    "\n",
    "**Example** \n",
    "\n",
    "```py\n",
    "python = {\"Alice\", \"Bob\", \"Fiona\", \"Luke\", \"Tom\"}\n",
    "econ = {\"Alice\", \"Blaire\", \"Courtney\", \"David\", \"Luke\"}\n",
    "group_student(python, econ) -> {'Bob', 'Fiona', 'Tom'}\n",
    "```"
   ]
  },
  {
   "cell_type": "code",
   "execution_count": 66,
   "metadata": {
    "ExecuteTime": {
     "end_time": "2024-03-18T06:20:24.679794Z",
     "start_time": "2024-03-18T06:20:24.677320Z"
    },
    "deletable": false,
    "nbgrader": {
     "cell_type": "code",
     "checksum": "6665e65fe44f1d9fd37e23161bcdaf8e",
     "grade": false,
     "grade_id": "cell-c0da75ee9bce30fa",
     "locked": false,
     "schema_version": 3,
     "solution": true,
     "task": false
    }
   },
   "outputs": [],
   "source": [
    "def group_student(set1, set2, left = True):\n",
    "    if left == True:\n",
    "        return set1 - set2\n",
    "    else:\n",
    "        return a & b"
   ]
  },
  {
   "cell_type": "code",
   "execution_count": 67,
   "metadata": {
    "ExecuteTime": {
     "end_time": "2024-03-18T06:20:48.053255Z",
     "start_time": "2024-03-18T06:20:48.048665Z"
    }
   },
   "outputs": [
    {
     "data": {
      "text/plain": [
       "{'Bob', 'Fiona', 'Tom'}"
      ]
     },
     "execution_count": 67,
     "metadata": {},
     "output_type": "execute_result"
    }
   ],
   "source": [
    "python = {\"Alice\", \"Bob\", \"Fiona\", \"Luke\", \"Tom\"}\n",
    "econ = {\"Alice\", \"Blaire\", \"Courtney\", \"David\", \"Luke\"}\n",
    "group_student(python, econ)"
   ]
  },
  {
   "cell_type": "code",
   "execution_count": null,
   "metadata": {
    "ExecuteTime": {
     "end_time": "2024-03-18T01:57:24.875548Z",
     "start_time": "2024-03-18T01:57:24.872889Z"
    },
    "deletable": false,
    "editable": false,
    "nbgrader": {
     "cell_type": "code",
     "checksum": "d17194a5ae1d270ff529327de6b11487",
     "grade": true,
     "grade_id": "cell-f7e2e4e50d5a1e08",
     "locked": true,
     "points": 10,
     "schema_version": 3,
     "solution": false,
     "task": false
    }
   },
   "outputs": [],
   "source": []
  },
  {
   "cell_type": "code",
   "execution_count": null,
   "metadata": {
    "ExecuteTime": {
     "end_time": "2024-03-18T01:57:25.596075Z",
     "start_time": "2024-03-18T01:57:25.593510Z"
    },
    "deletable": false,
    "editable": false,
    "nbgrader": {
     "cell_type": "code",
     "checksum": "86226801f7252b70118849be8e644e5d",
     "grade": true,
     "grade_id": "cell-9f43684b94ee1c9f",
     "locked": true,
     "points": 10,
     "schema_version": 3,
     "solution": false,
     "task": false
    }
   },
   "outputs": [],
   "source": []
  },
  {
   "cell_type": "markdown",
   "metadata": {
    "deletable": false,
    "editable": false,
    "nbgrader": {
     "cell_type": "markdown",
     "checksum": "5ec2d8ea71240307ba52049203a126fc",
     "grade": false,
     "grade_id": "cell-69e0b692f1128b79",
     "locked": true,
     "schema_version": 3,
     "solution": false,
     "task": false
    }
   },
   "source": [
    "**Question2**. Write a function called `count_vowel` that takes in a string and return the number of **unique** vowels forming the string. This function is case sensitive, such that the maximum number of vowel is 10.\n",
    "\n",
    "\n",
    "**Example**\n",
    "```py\n",
    "count_vowel(\"Hello World\") -> 2\n",
    "count_vowel(\"AAA nsn\") -> 1\n",
    "count_vowel(\"ll cnsnt\") -> 0\n",
    "count_vowel(\"aAeE\") -> 4\n",
    "```\n",
    "\n",
    "**Hints**\n",
    "\n",
    "\n",
    "* Vowels are \"a\",\"e\",\"i\",\"o\",\"u\" (in lowercase)\n",
    "* You may use set(\"aAabB\") to convert a list to set, where element are unique \n",
    "\n"
   ]
  },
  {
   "cell_type": "code",
   "execution_count": 68,
   "metadata": {
    "ExecuteTime": {
     "end_time": "2024-03-18T06:25:19.937866Z",
     "start_time": "2024-03-18T06:25:19.935075Z"
    },
    "deletable": false,
    "nbgrader": {
     "cell_type": "code",
     "checksum": "3299c05c870ed2f9d665b00011b1e375",
     "grade": false,
     "grade_id": "cell-03a8bcadace4fd69",
     "locked": false,
     "schema_version": 3,
     "solution": true,
     "task": false
    }
   },
   "outputs": [],
   "source": [
    "def count_vowel(str_arg):\n",
    "    str_arg = set(str_arg)\n",
    "    count = 0\n",
    "    vowel = ['a', 'e', 'i', 'o', 'u', 'A', 'E', 'I', 'O', 'U']\n",
    "    for i in str_arg:\n",
    "        if i in vowel:\n",
    "            count += 1\n",
    "    return count\n",
    "    "
   ]
  },
  {
   "cell_type": "code",
   "execution_count": 69,
   "metadata": {
    "ExecuteTime": {
     "end_time": "2024-03-18T06:25:29.362823Z",
     "start_time": "2024-03-18T06:25:29.359659Z"
    }
   },
   "outputs": [
    {
     "data": {
      "text/plain": [
       "2"
      ]
     },
     "execution_count": 69,
     "metadata": {},
     "output_type": "execute_result"
    }
   ],
   "source": [
    "count_vowel(\"Hello World\")"
   ]
  },
  {
   "cell_type": "code",
   "execution_count": 70,
   "metadata": {
    "ExecuteTime": {
     "end_time": "2024-03-18T06:25:55.965445Z",
     "start_time": "2024-03-18T06:25:55.960994Z"
    }
   },
   "outputs": [
    {
     "data": {
      "text/plain": [
       "1"
      ]
     },
     "execution_count": 70,
     "metadata": {},
     "output_type": "execute_result"
    }
   ],
   "source": [
    "count_vowel(\"AAA nsn\")"
   ]
  },
  {
   "cell_type": "code",
   "execution_count": 71,
   "metadata": {
    "ExecuteTime": {
     "end_time": "2024-03-18T06:25:57.170427Z",
     "start_time": "2024-03-18T06:25:57.167344Z"
    }
   },
   "outputs": [
    {
     "data": {
      "text/plain": [
       "0"
      ]
     },
     "execution_count": 71,
     "metadata": {},
     "output_type": "execute_result"
    }
   ],
   "source": [
    "count_vowel(\"ll cnsnt\")"
   ]
  },
  {
   "cell_type": "code",
   "execution_count": 72,
   "metadata": {
    "ExecuteTime": {
     "end_time": "2024-03-18T06:25:58.059261Z",
     "start_time": "2024-03-18T06:25:58.055726Z"
    }
   },
   "outputs": [
    {
     "data": {
      "text/plain": [
       "4"
      ]
     },
     "execution_count": 72,
     "metadata": {},
     "output_type": "execute_result"
    }
   ],
   "source": [
    "count_vowel(\"aAeE\")"
   ]
  },
  {
   "cell_type": "code",
   "execution_count": null,
   "metadata": {
    "deletable": false,
    "editable": false,
    "nbgrader": {
     "cell_type": "code",
     "checksum": "707a78857df692302c05fa93ac850936",
     "grade": true,
     "grade_id": "cell-89723359a9928389",
     "locked": true,
     "points": 5,
     "schema_version": 3,
     "solution": false,
     "task": false
    }
   },
   "outputs": [],
   "source": []
  },
  {
   "cell_type": "code",
   "execution_count": null,
   "metadata": {
    "deletable": false,
    "editable": false,
    "nbgrader": {
     "cell_type": "code",
     "checksum": "42d569b15f40d85bd6455be4f5403112",
     "grade": true,
     "grade_id": "cell-39b175f155b0908f",
     "locked": true,
     "points": 5,
     "schema_version": 3,
     "solution": false,
     "task": false
    }
   },
   "outputs": [],
   "source": []
  },
  {
   "cell_type": "code",
   "execution_count": null,
   "metadata": {
    "deletable": false,
    "editable": false,
    "nbgrader": {
     "cell_type": "code",
     "checksum": "a85f6fab082172c9fe0a2ad9f41b9c5d",
     "grade": true,
     "grade_id": "cell-1a38d0613b3247be",
     "locked": true,
     "points": 5,
     "schema_version": 3,
     "solution": false,
     "task": false
    }
   },
   "outputs": [],
   "source": []
  },
  {
   "cell_type": "code",
   "execution_count": null,
   "metadata": {
    "deletable": false,
    "editable": false,
    "nbgrader": {
     "cell_type": "code",
     "checksum": "236390a7b2787a83c7b55cb99def8386",
     "grade": true,
     "grade_id": "cell-1a38d0613b3248be",
     "locked": true,
     "points": 5,
     "schema_version": 3,
     "solution": false,
     "task": false
    }
   },
   "outputs": [],
   "source": []
  },
  {
   "cell_type": "markdown",
   "metadata": {},
   "source": [
    "## Dictionary\n",
    "\n",
    "* A **dictionary** is like an address-book where you can find the address or contact details of a person by knowing only his/her name, i.e. we associate **keys** (name) with **values** (details).\n",
    "\n",
    "* Note that you can use **only immutable objects (like strings) for the keys** of a dictionary but you can use either immutable or mutable objects for the values of the dictionary. This is because the key must be **unique** just like you cannot find out the correct information if you have two persons with the exact same name."
   ]
  },
  {
   "cell_type": "code",
   "execution_count": null,
   "metadata": {
    "ExecuteTime": {
     "end_time": "2022-03-13T02:39:38.076419Z",
     "start_time": "2022-03-13T02:39:38.071942Z"
    }
   },
   "outputs": [],
   "source": [
    "# This is a dictionary, the names are the \"keys\", and emails are the \"values\".\n",
    "dict1 = {'Alice': 'alice@uic.edu.hk', 'Bob': 'bob@uic.edu.hk'}"
   ]
  },
  {
   "cell_type": "code",
   "execution_count": null,
   "metadata": {
    "ExecuteTime": {
     "end_time": "2022-03-13T02:39:38.327322Z",
     "start_time": "2022-03-13T02:39:38.320310Z"
    }
   },
   "outputs": [],
   "source": [
    "dict1"
   ]
  },
  {
   "cell_type": "code",
   "execution_count": null,
   "metadata": {
    "ExecuteTime": {
     "end_time": "2022-03-13T02:39:38.742171Z",
     "start_time": "2022-03-13T02:39:38.735584Z"
    }
   },
   "outputs": [],
   "source": [
    "dict1['Alice']"
   ]
  },
  {
   "cell_type": "code",
   "execution_count": null,
   "metadata": {
    "ExecuteTime": {
     "end_time": "2022-03-13T02:39:39.467633Z",
     "start_time": "2022-03-13T02:39:39.460071Z"
    }
   },
   "outputs": [],
   "source": [
    "key1 = 'key1'\n",
    "\n",
    "# init a dict\n",
    "dict2 = {}\n",
    "\n",
    "# add key, value to a dict\n",
    "dict2[key1] = 'value1'\n",
    "\n",
    "dict2"
   ]
  },
  {
   "cell_type": "code",
   "execution_count": 75,
   "metadata": {
    "ExecuteTime": {
     "end_time": "2024-03-21T06:08:24.350716Z",
     "start_time": "2024-03-21T06:08:24.344130Z"
    }
   },
   "outputs": [
    {
     "ename": "TypeError",
     "evalue": "unhashable type: 'list'",
     "output_type": "error",
     "traceback": [
      "\u001b[0;31m---------------------------------------------------------------------------\u001b[0m",
      "\u001b[0;31mTypeError\u001b[0m                                 Traceback (most recent call last)",
      "\u001b[0;32m/tmp/ipykernel_33112/2526240098.py\u001b[0m in \u001b[0;36m<module>\u001b[0;34m\u001b[0m\n\u001b[1;32m      1\u001b[0m \u001b[0;31m# This raises error, since key ['Alice'] is mutable.\u001b[0m\u001b[0;34m\u001b[0m\u001b[0;34m\u001b[0m\u001b[0;34m\u001b[0m\u001b[0m\n\u001b[0;32m----> 2\u001b[0;31m \u001b[0mdict3\u001b[0m \u001b[0;34m=\u001b[0m \u001b[0;34m{\u001b[0m\u001b[0;34m[\u001b[0m\u001b[0;34m'Alice'\u001b[0m\u001b[0;34m]\u001b[0m\u001b[0;34m:\u001b[0m\u001b[0;34m'alice@uic.edu.hk'\u001b[0m\u001b[0;34m,\u001b[0m \u001b[0;34m'Bob'\u001b[0m\u001b[0;34m:\u001b[0m\u001b[0;34m'bob@uic.edu.hk'\u001b[0m\u001b[0;34m}\u001b[0m\u001b[0;34m\u001b[0m\u001b[0;34m\u001b[0m\u001b[0m\n\u001b[0m",
      "\u001b[0;31mTypeError\u001b[0m: unhashable type: 'list'"
     ]
    }
   ],
   "source": [
    "# This raises error, since key ['Alice'] is mutable.\n",
    "dict3 = {['Alice']:'alice@uic.edu.hk', 'Bob':'bob@uic.edu.hk'}"
   ]
  },
  {
   "cell_type": "code",
   "execution_count": 76,
   "metadata": {
    "ExecuteTime": {
     "end_time": "2024-03-21T06:08:33.976820Z",
     "start_time": "2024-03-21T06:08:33.974669Z"
    }
   },
   "outputs": [],
   "source": [
    "# Dictionary key must be unique. Duplicate key is allowed.\n",
    "dict4 = {'Alice': 'alice@uic.edu.hk', \n",
    "         'Bob': 'bob@uic.edu.hk', \n",
    "         'Alice': 'bob@uic.edu.hk'}"
   ]
  },
  {
   "cell_type": "code",
   "execution_count": 77,
   "metadata": {
    "ExecuteTime": {
     "end_time": "2024-03-21T06:08:36.257042Z",
     "start_time": "2024-03-21T06:08:36.229289Z"
    }
   },
   "outputs": [
    {
     "data": {
      "text/plain": [
       "{'Alice': 'bob@uic.edu.hk', 'Bob': 'bob@uic.edu.hk'}"
      ]
     },
     "execution_count": 77,
     "metadata": {},
     "output_type": "execute_result"
    }
   ],
   "source": [
    "dict4"
   ]
  },
  {
   "cell_type": "code",
   "execution_count": 78,
   "metadata": {
    "ExecuteTime": {
     "end_time": "2024-03-21T06:08:38.384972Z",
     "start_time": "2024-03-21T06:08:38.381813Z"
    }
   },
   "outputs": [
    {
     "data": {
      "text/plain": [
       "'bob@uic.edu.hk'"
      ]
     },
     "execution_count": 78,
     "metadata": {},
     "output_type": "execute_result"
    }
   ],
   "source": [
    "dict4['Alice']"
   ]
  },
  {
   "cell_type": "markdown",
   "metadata": {},
   "source": [
    "### Access Values in a Dictionary"
   ]
  },
  {
   "cell_type": "code",
   "execution_count": 8,
   "metadata": {
    "ExecuteTime": {
     "end_time": "2024-05-30T09:48:41.858653Z",
     "start_time": "2024-05-30T09:48:41.853206Z"
    }
   },
   "outputs": [],
   "source": [
    "dict5 = {'Alice': 'alice@uic.edu.hk', 'Bob': 'bob@uic.edu.hk'}"
   ]
  },
  {
   "cell_type": "code",
   "execution_count": 9,
   "metadata": {
    "ExecuteTime": {
     "end_time": "2024-05-30T09:48:42.269973Z",
     "start_time": "2024-05-30T09:48:42.265989Z"
    }
   },
   "outputs": [
    {
     "data": {
      "text/plain": [
       "'alice@uic.edu.hk'"
      ]
     },
     "execution_count": 9,
     "metadata": {},
     "output_type": "execute_result"
    }
   ],
   "source": [
    "# Now you access the key 'Alice'\n",
    "dict5['Alice']"
   ]
  },
  {
   "cell_type": "code",
   "execution_count": 10,
   "metadata": {
    "ExecuteTime": {
     "end_time": "2024-05-30T09:48:42.808291Z",
     "start_time": "2024-05-30T09:48:42.792063Z"
    }
   },
   "outputs": [
    {
     "ename": "KeyError",
     "evalue": "'Eric'",
     "output_type": "error",
     "traceback": [
      "\u001b[0;31m---------------------------------------------------------------------------\u001b[0m",
      "\u001b[0;31mKeyError\u001b[0m                                  Traceback (most recent call last)",
      "\u001b[0;32m/tmp/ipykernel_52988/2459828961.py\u001b[0m in \u001b[0;36m<module>\u001b[0;34m\u001b[0m\n\u001b[1;32m      1\u001b[0m \u001b[0;31m# If we attempt to access a data item with a key, which is not part of the dictionary, we get an error as follows:\u001b[0m\u001b[0;34m\u001b[0m\u001b[0;34m\u001b[0m\u001b[0;34m\u001b[0m\u001b[0m\n\u001b[0;32m----> 2\u001b[0;31m \u001b[0mdict5\u001b[0m\u001b[0;34m[\u001b[0m\u001b[0;34m'Eric'\u001b[0m\u001b[0;34m]\u001b[0m\u001b[0;34m\u001b[0m\u001b[0;34m\u001b[0m\u001b[0m\n\u001b[0m",
      "\u001b[0;31mKeyError\u001b[0m: 'Eric'"
     ]
    }
   ],
   "source": [
    "# If we attempt to access a data item with a key, which is not part of the dictionary, we get an error as follows:\n",
    "dict5['Eric']"
   ]
  },
  {
   "cell_type": "markdown",
   "metadata": {},
   "source": [
    "### Modify Elements of a Dictionary"
   ]
  },
  {
   "cell_type": "markdown",
   "metadata": {},
   "source": [
    "#### Add Elements"
   ]
  },
  {
   "cell_type": "code",
   "execution_count": 93,
   "metadata": {
    "ExecuteTime": {
     "end_time": "2024-03-21T06:11:20.898455Z",
     "start_time": "2024-03-21T06:11:20.895030Z"
    }
   },
   "outputs": [
    {
     "data": {
      "text/plain": [
       "'eric@uic.edu.hk'"
      ]
     },
     "execution_count": 93,
     "metadata": {},
     "output_type": "execute_result"
    }
   ],
   "source": [
    "# Add the new key-value pair\n",
    "dict5['Eric'] = 'eric@uic.edu.hk'\n",
    "dict5['Eric']"
   ]
  },
  {
   "cell_type": "code",
   "execution_count": 88,
   "metadata": {
    "ExecuteTime": {
     "end_time": "2024-03-21T06:09:58.666194Z",
     "start_time": "2024-03-21T06:09:58.662631Z"
    }
   },
   "outputs": [
    {
     "data": {
      "text/plain": [
       "'null'"
      ]
     },
     "execution_count": 88,
     "metadata": {},
     "output_type": "execute_result"
    }
   ],
   "source": [
    "dict6 = {'Alice': 'alice@uic.edu.hk', 'Bob': 'bob@uic.edu.hk', 0: 'null'}\n",
    "dict6[0]"
   ]
  },
  {
   "cell_type": "code",
   "execution_count": 94,
   "metadata": {
    "ExecuteTime": {
     "end_time": "2024-03-21T06:11:23.514199Z",
     "start_time": "2024-03-21T06:11:23.510954Z"
    }
   },
   "outputs": [
    {
     "data": {
      "text/plain": [
       "{'Alice': 'alice@uic.edu.hk',\n",
       " 'Bob': 'bob@uic.edu.hk',\n",
       " 'Eric': 'eric@uic.edu.hk',\n",
       " 'Annie': 't330018003@mail.uic.edu.cn'}"
      ]
     },
     "execution_count": 94,
     "metadata": {},
     "output_type": "execute_result"
    }
   ],
   "source": [
    "dict5['Annie'] ='t330018003@mail.uic.edu.cn'\n",
    "dict5"
   ]
  },
  {
   "cell_type": "markdown",
   "metadata": {},
   "source": [
    "#### Delete Elements"
   ]
  },
  {
   "cell_type": "code",
   "execution_count": 30,
   "metadata": {
    "ExecuteTime": {
     "end_time": "2024-04-21T03:49:24.702871Z",
     "start_time": "2024-04-21T03:49:24.698917Z"
    }
   },
   "outputs": [
    {
     "data": {
      "text/plain": [
       "{'Alice': 'alice@uic.edu.hk'}"
      ]
     },
     "execution_count": 30,
     "metadata": {},
     "output_type": "execute_result"
    }
   ],
   "source": [
    "dict7 = {'Alice': 'alice@uic.edu.hk', 'Bob': 'bob@uic.edu.hk'}\n",
    "del dict7['Bob'] # \"Alice\" entry with its values is deleted\n",
    "dict7"
   ]
  },
  {
   "cell_type": "code",
   "execution_count": 31,
   "metadata": {
    "ExecuteTime": {
     "end_time": "2024-04-21T03:49:28.232930Z",
     "start_time": "2024-04-21T03:49:28.229655Z"
    }
   },
   "outputs": [
    {
     "data": {
      "text/plain": [
       "{'Alice': 'alice@uic.edu.hk'}"
      ]
     },
     "execution_count": 31,
     "metadata": {},
     "output_type": "execute_result"
    }
   ],
   "source": [
    "dict7"
   ]
  },
  {
   "cell_type": "code",
   "execution_count": 11,
   "metadata": {
    "ExecuteTime": {
     "end_time": "2024-05-30T09:52:31.382661Z",
     "start_time": "2024-05-30T09:52:31.374603Z"
    }
   },
   "outputs": [
    {
     "data": {
      "text/plain": [
       "{1: 'a', 2: 'cd'}"
      ]
     },
     "execution_count": 11,
     "metadata": {},
     "output_type": "execute_result"
    }
   ],
   "source": [
    "dict8 = {}\n",
    "dict8[1] = 'a'\n",
    "dict8[2] = 'b'\n",
    "dict8[2] = 'c'\n",
    "dict8[2] = dict8[2] + 'd'\n",
    "dict8"
   ]
  },
  {
   "cell_type": "markdown",
   "metadata": {},
   "source": [
    "### Basic Dictionary Methods (Built-in functions)\n",
    "\n",
    "* Dictionary is a very important data structure. You probably will use it quite a lot during your implementation of the course project. You should be familiar with the dictionary API. Below lists the functions `Dictionary` offers, see [here](https://docs.python.org/3/library/stdtypes.html#typesmapping)\n"
   ]
  },
  {
   "cell_type": "markdown",
   "metadata": {},
   "source": [
    "### Exercises"
   ]
  },
  {
   "cell_type": "markdown",
   "metadata": {},
   "source": [
    "Create a dictionary `characterInfo` which includes the following information in the table. Note that Column A are string and Column B are integer.\n",
    "<img src=\"./Figures/characterInfo.png\" width = \"380\" align=center /> "
   ]
  },
  {
   "cell_type": "code",
   "execution_count": 73,
   "metadata": {
    "ExecuteTime": {
     "end_time": "2024-03-18T06:28:41.180524Z",
     "start_time": "2024-03-18T06:28:41.177954Z"
    },
    "deletable": false,
    "nbgrader": {
     "cell_type": "code",
     "checksum": "203a00fb33bd8c9cb60c6b539105faa4",
     "grade": false,
     "grade_id": "cell-9bb05c3aad74b38d",
     "locked": false,
     "schema_version": 3,
     "solution": true,
     "task": false
    }
   },
   "outputs": [],
   "source": [
    "characterInfo = {}\n",
    "characterInfo = {'Jason Bourne': 1,\n",
    "                'Neo Anderson':2,\n",
    "                 'Bruce Wayne':3,\n",
    "                 'Tony Stark':4,\n",
    "                 'James Bonds':5\n",
    "                }"
   ]
  },
  {
   "cell_type": "code",
   "execution_count": 74,
   "metadata": {
    "ExecuteTime": {
     "end_time": "2024-03-18T06:28:52.757037Z",
     "start_time": "2024-03-18T06:28:52.753315Z"
    }
   },
   "outputs": [
    {
     "data": {
      "text/plain": [
       "{'Jason Bourne': 1,\n",
       " 'Neo Anderson': 2,\n",
       " 'Bruce Wayne': 3,\n",
       " 'Tony Stark': 4,\n",
       " 'James Bonds': 5}"
      ]
     },
     "execution_count": 74,
     "metadata": {},
     "output_type": "execute_result"
    }
   ],
   "source": [
    "characterInfo"
   ]
  },
  {
   "cell_type": "code",
   "execution_count": null,
   "metadata": {
    "ExecuteTime": {
     "end_time": "2024-03-18T02:26:38.260953Z",
     "start_time": "2024-03-18T02:26:38.258265Z"
    },
    "deletable": false,
    "editable": false,
    "nbgrader": {
     "cell_type": "code",
     "checksum": "a3d3eacba2f193e1e9973bbc4d4abcb5",
     "grade": true,
     "grade_id": "cell-d4bb8e828398532a",
     "locked": true,
     "points": 10,
     "schema_version": 3,
     "solution": false,
     "task": false
    }
   },
   "outputs": [],
   "source": []
  },
  {
   "cell_type": "markdown",
   "metadata": {},
   "source": [
    "##  Examples"
   ]
  },
  {
   "cell_type": "markdown",
   "metadata": {},
   "source": [
    "### Example 1: Print all the keys of dictionary"
   ]
  },
  {
   "cell_type": "code",
   "execution_count": 105,
   "metadata": {
    "ExecuteTime": {
     "end_time": "2024-03-21T06:14:34.938203Z",
     "start_time": "2024-03-21T06:14:34.934767Z"
    }
   },
   "outputs": [
    {
     "data": {
      "text/plain": [
       "dict_items([('a', 1), ('b', 2), ('c', 3), ('d', 4), ('e', 5), ('f', 6)])"
      ]
     },
     "execution_count": 105,
     "metadata": {},
     "output_type": "execute_result"
    }
   ],
   "source": [
    "dict9 = {'a':1, 'b':2, 'c':3, 'd':4, 'e':5, 'f':6}\n",
    "dict9.items()"
   ]
  },
  {
   "cell_type": "code",
   "execution_count": 99,
   "metadata": {
    "ExecuteTime": {
     "end_time": "2024-03-21T06:12:53.764616Z",
     "start_time": "2024-03-21T06:12:53.759595Z"
    }
   },
   "outputs": [
    {
     "name": "stdout",
     "output_type": "stream",
     "text": [
      "('a', 1)\n",
      "('b', 2)\n",
      "('c', 3)\n",
      "('d', 4)\n",
      "('e', 5)\n",
      "('f', 6)\n"
     ]
    }
   ],
   "source": [
    "dict9 = {'a':1, 'b':2, 'c':3, 'd':4, 'e':5, 'f':6}\n",
    "for key_value_pair in dict9.items():\n",
    "    print(key_value_pair)"
   ]
  },
  {
   "cell_type": "code",
   "execution_count": 102,
   "metadata": {
    "ExecuteTime": {
     "end_time": "2024-03-21T06:14:06.301115Z",
     "start_time": "2024-03-21T06:14:06.297268Z"
    }
   },
   "outputs": [
    {
     "name": "stdout",
     "output_type": "stream",
     "text": [
      "Key is a, and value is 1\n",
      "Key is b, and value is 2\n",
      "Key is c, and value is 3\n",
      "Key is d, and value is 4\n",
      "Key is e, and value is 5\n",
      "Key is f, and value is 6\n"
     ]
    }
   ],
   "source": [
    "dict9 = {'a':1, 'b':2, 'c':3, 'd':4, 'e':5, 'f':6}\n",
    "for (key, value) in dict9.items():\n",
    "    print('Key is %s, and value is %d'% (key, value))"
   ]
  },
  {
   "cell_type": "code",
   "execution_count": 106,
   "metadata": {
    "ExecuteTime": {
     "end_time": "2024-03-21T06:15:08.204529Z",
     "start_time": "2024-03-21T06:15:08.200917Z"
    }
   },
   "outputs": [
    {
     "name": "stdout",
     "output_type": "stream",
     "text": [
      "Key is a, and value is 1\n",
      "Key is b, and value is 2\n",
      "Key is c, and value is 3\n",
      "Key is d, and value is 4\n",
      "Key is e, and value is 5\n",
      "Key is f, and value is 6\n"
     ]
    }
   ],
   "source": [
    "dict9 = {'a':1, 'b':2, 'c':3, 'd':4, 'e':5, 'f':6}\n",
    "for key_value_pair in dict9.items():\n",
    "    print('Key is %s, and value is %d'% (key_value_pair[0], key_value_pair[1]))"
   ]
  },
  {
   "cell_type": "code",
   "execution_count": 110,
   "metadata": {
    "ExecuteTime": {
     "end_time": "2024-03-21T06:16:13.996818Z",
     "start_time": "2024-03-21T06:16:13.993319Z"
    }
   },
   "outputs": [
    {
     "data": {
      "text/plain": [
       "100"
      ]
     },
     "execution_count": 110,
     "metadata": {},
     "output_type": "execute_result"
    }
   ],
   "source": [
    "dict9 = {'a':1, 'b':2, 'c':3, 'd':4, 'e':5, 'f':6}\n",
    "dict9.get('z', 100) # 100 is the default value when 'z' is not found in dic."
   ]
  },
  {
   "cell_type": "markdown",
   "metadata": {},
   "source": [
    "### Example 2: Given a list, check element frequency"
   ]
  },
  {
   "cell_type": "code",
   "execution_count": 117,
   "metadata": {
    "ExecuteTime": {
     "end_time": "2024-03-21T06:29:46.027036Z",
     "start_time": "2024-03-21T06:29:46.023550Z"
    }
   },
   "outputs": [
    {
     "name": "stdout",
     "output_type": "stream",
     "text": [
      "{1: 3, 2: 2, 3: 1, 4: 2, 5: 4}\n"
     ]
    }
   ],
   "source": [
    "# First, a more understandable way\n",
    "\n",
    "list1 = [1, 1, 1, 2, 2, 3, 4, 4, 5, 5, 5, 5]\n",
    "dict1 = {}\n",
    "for element in list1:\n",
    "    if element in dict1.keys():\n",
    "        dict1[element] = dict1[element] + 1\n",
    "    else:\n",
    "        dict1[element] = 1\n",
    "print(dict1)"
   ]
  },
  {
   "cell_type": "code",
   "execution_count": 114,
   "metadata": {
    "ExecuteTime": {
     "end_time": "2024-03-21T06:18:17.684760Z",
     "start_time": "2024-03-21T06:18:17.680247Z"
    }
   },
   "outputs": [
    {
     "name": "stdout",
     "output_type": "stream",
     "text": [
      "1 : 3\n",
      "2 : 2\n",
      "3 : 1\n",
      "4 : 2\n",
      "5 : 4\n"
     ]
    }
   ],
   "source": [
    "for (key, value) in dict1.items():\n",
    "    print(key, ':', value)"
   ]
  },
  {
   "cell_type": "code",
   "execution_count": null,
   "metadata": {
    "ExecuteTime": {
     "end_time": "2022-03-13T02:39:56.408017Z",
     "start_time": "2022-03-13T02:39:56.401938Z"
    }
   },
   "outputs": [],
   "source": [
    "# Second, a more neat way\n",
    "\n",
    "list1 = [1, 1, 1, 2, 2, 3, 4, 4, 5, 5, 5, 5]\n",
    "dict1 = {}\n",
    "\n",
    "for element in list1:\n",
    "    dict1[element] = dict1.get(element, 0) + 1"
   ]
  },
  {
   "cell_type": "code",
   "execution_count": null,
   "metadata": {
    "ExecuteTime": {
     "end_time": "2022-03-13T02:39:56.723424Z",
     "start_time": "2022-03-13T02:39:56.714812Z"
    }
   },
   "outputs": [],
   "source": [
    "for (key, value) in dict1.items():\n",
    "    print(key, ':', value)"
   ]
  },
  {
   "cell_type": "markdown",
   "metadata": {},
   "source": [
    "* See the usage of *get* function [here](https://stackoverflow.com/questions/11041405/why-dict-getkey-instead-of-dictkey)"
   ]
  },
  {
   "cell_type": "markdown",
   "metadata": {},
   "source": [
    "### Example 3: Sort the (key-value) pair by value in descending order"
   ]
  },
  {
   "cell_type": "code",
   "execution_count": 33,
   "metadata": {
    "ExecuteTime": {
     "end_time": "2024-04-21T04:08:47.345252Z",
     "start_time": "2024-04-21T04:08:47.341086Z"
    }
   },
   "outputs": [
    {
     "data": {
      "text/plain": [
       "[9, 8, 5, 3, 2, 0]"
      ]
     },
     "execution_count": 33,
     "metadata": {},
     "output_type": "execute_result"
    }
   ],
   "source": [
    "list2 = [5, 3, 8, 2, 0, 9]\n",
    "sorted(list2, reverse=True)"
   ]
  },
  {
   "cell_type": "code",
   "execution_count": 34,
   "metadata": {
    "ExecuteTime": {
     "end_time": "2024-04-21T04:08:47.941998Z",
     "start_time": "2024-04-21T04:08:47.892678Z"
    }
   },
   "outputs": [],
   "source": [
    "?sorted"
   ]
  },
  {
   "cell_type": "code",
   "execution_count": 35,
   "metadata": {
    "ExecuteTime": {
     "end_time": "2024-04-21T04:09:34.381521Z",
     "start_time": "2024-04-21T04:09:34.376327Z"
    }
   },
   "outputs": [
    {
     "data": {
      "text/plain": [
       "[(5, 4), (1, 3), (4, 2), (2, 2), (3, 1)]"
      ]
     },
     "execution_count": 35,
     "metadata": {},
     "output_type": "execute_result"
    }
   ],
   "source": [
    "tup_list = [(5, 4), (4, 2), (3, 1), (2, 2), (1, 3)]\n",
    "sorted(tup_list, key=lambda x:x[1], reverse=True)"
   ]
  },
  {
   "cell_type": "code",
   "execution_count": 36,
   "metadata": {
    "ExecuteTime": {
     "end_time": "2024-04-21T04:10:33.588310Z",
     "start_time": "2024-04-21T04:10:33.584890Z"
    }
   },
   "outputs": [
    {
     "name": "stdout",
     "output_type": "stream",
     "text": [
      "[(5, 4), (1, 3), (2, 2), (4, 2), (3, 1)]\n"
     ]
    }
   ],
   "source": [
    "dict1 = {1:3, 2:2, 3:1, 4:2, 5:4}\n",
    "list3 = sorted(dict1.items(), key=lambda x:x[1], reverse=True)\n",
    "print(list3)"
   ]
  },
  {
   "cell_type": "code",
   "execution_count": null,
   "metadata": {
    "ExecuteTime": {
     "end_time": "2022-03-13T02:40:03.571149Z",
     "start_time": "2022-03-13T02:40:03.559910Z"
    }
   },
   "outputs": [],
   "source": [
    "dict1 = {1:3, 2:2, 3:1, 4:2, 5:4}\n",
    "list4 = sorted(dict1.items(), key=lambda x:x[1], reverse=True)\n",
    "for key, value in list4:\n",
    "    print(key, ':', value)"
   ]
  },
  {
   "cell_type": "code",
   "execution_count": null,
   "metadata": {
    "ExecuteTime": {
     "end_time": "2022-03-13T02:40:03.866610Z",
     "start_time": "2022-03-13T02:40:03.855323Z"
    }
   },
   "outputs": [],
   "source": [
    "list5 = [1, 1, 1, 2, 2, 3, 4, 4, 5, 5, 5, 5]\n",
    "dict1 = {}\n",
    "for element in list5:\n",
    "    dict1[element] = dict1.get(element, 0) + 1\n",
    "\n",
    "list6 = sorted(dict1.items(), key=lambda x:x[1], reverse=True)\n",
    "for key, value in list6:\n",
    "    print(key, ':', value)"
   ]
  },
  {
   "cell_type": "markdown",
   "metadata": {},
   "source": [
    "### Example 4:  Student Marks\n",
    "\n",
    "In this example , you have to take the number of students as input, then ask grades for the three subjects ‘Physics’, ‘Maths’, and ‘History’. If the total grades for any student is less than 120 then print failed, or else say passed."
   ]
  },
  {
   "cell_type": "code",
   "execution_count": 12,
   "metadata": {
    "ExecuteTime": {
     "end_time": "2024-05-30T11:45:12.013851Z",
     "start_time": "2024-05-30T11:44:51.817979Z"
    }
   },
   "outputs": [
    {
     "name": "stdout",
     "output_type": "stream",
     "text": [
      "Enter the number of students:3\n",
      "Enter the name of student 1: Annie\n",
      "Enter grades of Physics: 99\n",
      "Enter grades of Maths: 99\n",
      "Enter grades of History: 99\n",
      "Enter the name of student 2: Aquila\n",
      "Enter grades of Physics: 59\n",
      "Enter grades of Maths: 59\n",
      "Enter grades of History: 59\n",
      "Enter the name of student 3: Wei\n",
      "Enter grades of Physics: 100\n",
      "Enter grades of Maths: 100\n",
      "Enter grades of History: 101\n",
      "Total grades for Annie is: 297\n",
      "Annie passed\n",
      "Total grades for Aquila is: 177\n",
      "Aquila passed\n",
      "Total grades for Wei is: 301\n",
      "Wei passed\n"
     ]
    }
   ],
   "source": [
    "num = int(input('Enter the number of students:'))\n",
    "data = {}\n",
    "subjects = ('Physics', 'Maths', 'History')\n",
    "for i in range(num):\n",
    "    name = input('Enter the name of student %d: '%(i+1))\n",
    "    grades = []\n",
    "    for subject in subjects:\n",
    "        grades.append(int(input('Enter grades of %s: '%subject)))\n",
    "    data[name] = grades\n",
    "    \n",
    "for (name, grades) in data.items():\n",
    "    total = sum(grades)\n",
    "    print('Total grades for %s is: %d'% (name, total))\n",
    "    if total < 120:\n",
    "        print('%s failed'% name)\n",
    "    else:\n",
    "        print('%s passed'% name)"
   ]
  },
  {
   "cell_type": "code",
   "execution_count": null,
   "metadata": {},
   "outputs": [],
   "source": []
  }
 ],
 "metadata": {
  "kernelspec": {
   "display_name": "Python 3 (ipykernel)",
   "language": "python",
   "name": "python3"
  },
  "language_info": {
   "codemirror_mode": {
    "name": "ipython",
    "version": 3
   },
   "file_extension": ".py",
   "mimetype": "text/x-python",
   "name": "python",
   "nbconvert_exporter": "python",
   "pygments_lexer": "ipython3",
   "version": "3.8.10"
  },
  "latex_envs": {
   "LaTeX_envs_menu_present": true,
   "autoclose": false,
   "autocomplete": true,
   "bibliofile": "biblio.bib",
   "cite_by": "apalike",
   "current_citInitial": 1,
   "eqLabelWithNumbers": true,
   "eqNumInitial": 1,
   "hotkeys": {
    "equation": "Ctrl-E",
    "itemize": "Ctrl-I"
   },
   "labels_anchors": false,
   "latex_user_defs": false,
   "report_style_numbering": false,
   "user_envs_cfg": false
  },
  "toc": {
   "base_numbering": "1",
   "nav_menu": {},
   "number_sections": true,
   "sideBar": true,
   "skip_h1_title": true,
   "title_cell": "Table of Contents",
   "title_sidebar": "Contents",
   "toc_cell": true,
   "toc_position": {
    "height": "calc(100% - 180px)",
    "left": "10px",
    "top": "150px",
    "width": "476px"
   },
   "toc_section_display": true,
   "toc_window_display": false
  }
 },
 "nbformat": 4,
 "nbformat_minor": 1
}
