{
 "cells": [
  {
   "cell_type": "markdown",
   "metadata": {},
   "source": [
    "Before you turn this problem in, make sure everything runs as expected. First, **restart the kernel** (in the menubar, select Kernel$\\rightarrow$Restart) and then **run all cells** (in the menubar, select Cell$\\rightarrow$Run All).\n",
    "\n",
    "Make sure you fill in any place that says `YOUR CODE HERE` or \"YOUR ANSWER HERE\", as well as your name and collaborators below:"
   ]
  },
  {
   "cell_type": "code",
   "execution_count": null,
   "metadata": {},
   "outputs": [],
   "source": [
    "NAME = \"\"\n",
    "COLLABORATORS = \"\""
   ]
  },
  {
   "cell_type": "markdown",
   "metadata": {},
   "source": [
    "---"
   ]
  },
  {
   "cell_type": "markdown",
   "metadata": {
    "toc": true
   },
   "source": [
    "<h1>Table of Contents<span class=\"tocSkip\"></span></h1>\n",
    "<div class=\"toc\"><ul class=\"toc-item\"><li><span><a href=\"#Dictionary\" data-toc-modified-id=\"Dictionary-1\"><span class=\"toc-item-num\">1&nbsp;&nbsp;</span>Dictionary</a></span><ul class=\"toc-item\"><li><span><a href=\"#Access-Values-in-a-Dictionary\" data-toc-modified-id=\"Access-Values-in-a-Dictionary-1.1\"><span class=\"toc-item-num\">1.1&nbsp;&nbsp;</span>Access Values in a Dictionary</a></span></li><li><span><a href=\"#Modify-Elements-of-a-Dictionary\" data-toc-modified-id=\"Modify-Elements-of-a-Dictionary-1.2\"><span class=\"toc-item-num\">1.2&nbsp;&nbsp;</span>Modify Elements of a Dictionary</a></span></li><li><span><a href=\"#Basic-Dictionary-Methods-(Built-in-functions)\" data-toc-modified-id=\"Basic-Dictionary-Methods-(Built-in-functions)-1.3\"><span class=\"toc-item-num\">1.3&nbsp;&nbsp;</span>Basic Dictionary Methods (Built-in functions)</a></span></li><li><span><a href=\"#Examples\" data-toc-modified-id=\"Examples-1.4\"><span class=\"toc-item-num\">1.4&nbsp;&nbsp;</span>Examples</a></span></li><li><span><a href=\"#Exercises\" data-toc-modified-id=\"Exercises-1.5\"><span class=\"toc-item-num\">1.5&nbsp;&nbsp;</span>Exercises</a></span></li></ul></li><li><span><a href=\"#List-Comprehensions\" data-toc-modified-id=\"List-Comprehensions-2\"><span class=\"toc-item-num\">2&nbsp;&nbsp;</span>List Comprehensions</a></span><ul class=\"toc-item\"><li><span><a href=\"#Example:-returning-the-squares-of-integers-if-the-number-is-larger-than-5\" data-toc-modified-id=\"Example:-returning-the-squares-of-integers-if-the-number-is-larger-than-5-2.1\"><span class=\"toc-item-num\">2.1&nbsp;&nbsp;</span>Example: returning the squares of integers if the number is larger than 5</a></span></li><li><span><a href=\"#Exercises\" data-toc-modified-id=\"Exercises-2.2\"><span class=\"toc-item-num\">2.2&nbsp;&nbsp;</span>Exercises</a></span></li></ul></li><li><span><a href=\"#Dictionary-Comprehensions\" data-toc-modified-id=\"Dictionary-Comprehensions-3\"><span class=\"toc-item-num\">3&nbsp;&nbsp;</span>Dictionary Comprehensions</a></span><ul class=\"toc-item\"><li><span><a href=\"#Example:-Select-the-province(s)-whose-name's-length-is-longer-than-7\" data-toc-modified-id=\"Example:-Select-the-province(s)-whose-name's-length-is-longer-than-7-3.1\"><span class=\"toc-item-num\">3.1&nbsp;&nbsp;</span>Example: Select the province(s) whose name's length is longer than 7</a></span></li></ul></li><li><span><a href=\"#Enumerating-Lists\" data-toc-modified-id=\"Enumerating-Lists-4\"><span class=\"toc-item-num\">4&nbsp;&nbsp;</span>Enumerating Lists</a></span></li><li><span><a href=\"#Combining-lists-with-zip\" data-toc-modified-id=\"Combining-lists-with-zip-5\"><span class=\"toc-item-num\">5&nbsp;&nbsp;</span>Combining lists with <code>zip</code></a></span></li><li><span><a href=\"#Sorting-List-Elements\" data-toc-modified-id=\"Sorting-List-Elements-6\"><span class=\"toc-item-num\">6&nbsp;&nbsp;</span>Sorting List Elements</a></span><ul class=\"toc-item\"><li><span><a href=\"#Example:-Count-the-Characters\" data-toc-modified-id=\"Example:-Count-the-Characters-6.1\"><span class=\"toc-item-num\">6.1&nbsp;&nbsp;</span>Example: Count the Characters</a></span></li><li><span><a href=\"#Example:-Organize-values-to-a-list-having-same-key\" data-toc-modified-id=\"Example:-Organize-values-to-a-list-having-same-key-6.2\"><span class=\"toc-item-num\">6.2&nbsp;&nbsp;</span>Example: Organize values to a list having same key</a></span></li><li><span><a href=\"#Exercises\" data-toc-modified-id=\"Exercises-6.3\"><span class=\"toc-item-num\">6.3&nbsp;&nbsp;</span>Exercises</a></span></li></ul></li></ul></div>"
   ]
  },
  {
   "cell_type": "markdown",
   "metadata": {},
   "source": [
    "# Python Data Structures: Beyond the Basics"
   ]
  },
  {
   "cell_type": "markdown",
   "metadata": {},
   "source": [
    "## Dictionary\n",
    "\n",
    "* A **dictionary** is like an address-book where you can find the address or contact details of a person by knowing only his/her name, i.e. we associate **keys** (name) with **values** (details).\n",
    "\n",
    "* Note that you can use **only immutable objects (like strings) for the keys** of a dictionary but you can use either immutable or mutable objects for the values of the dictionary. This is because the key must be **unique** just like you cannot find out the correct information if you have two persons with the exact same name."
   ]
  },
  {
   "cell_type": "code",
   "execution_count": null,
   "metadata": {
    "ExecuteTime": {
     "end_time": "2022-03-13T02:39:38.076419Z",
     "start_time": "2022-03-13T02:39:38.071942Z"
    }
   },
   "outputs": [],
   "source": [
    "# This is a dictionary, the names are the \"keys\", and emails are the \"values\".\n",
    "dict1 = {'Alice': 'alice@uic.edu.hk', 'Bob': 'bob@uic.edu.hk'}"
   ]
  },
  {
   "cell_type": "code",
   "execution_count": null,
   "metadata": {
    "ExecuteTime": {
     "end_time": "2022-03-13T02:39:38.327322Z",
     "start_time": "2022-03-13T02:39:38.320310Z"
    }
   },
   "outputs": [],
   "source": [
    "dict1"
   ]
  },
  {
   "cell_type": "code",
   "execution_count": null,
   "metadata": {
    "ExecuteTime": {
     "end_time": "2022-03-13T02:39:38.742171Z",
     "start_time": "2022-03-13T02:39:38.735584Z"
    }
   },
   "outputs": [],
   "source": [
    "dict1['Alice']"
   ]
  },
  {
   "cell_type": "code",
   "execution_count": null,
   "metadata": {
    "ExecuteTime": {
     "end_time": "2022-03-13T02:39:39.467633Z",
     "start_time": "2022-03-13T02:39:39.460071Z"
    }
   },
   "outputs": [],
   "source": [
    "key1 = 'key1'\n",
    "\n",
    "# init a dict\n",
    "dict2 = {}\n",
    "\n",
    "# add key, value to a dict\n",
    "dict2[key1] = 'value1'\n",
    "\n",
    "dict2"
   ]
  },
  {
   "cell_type": "code",
   "execution_count": null,
   "metadata": {
    "ExecuteTime": {
     "end_time": "2022-03-13T02:39:39.851834Z",
     "start_time": "2022-03-13T02:39:39.837182Z"
    }
   },
   "outputs": [],
   "source": [
    "# This raises error, since key ['Alice'] is mutable.\n",
    "dict3 = {['Alice']:'alice@uic.edu.hk', 'Bob':'bob@uic.edu.hk'}"
   ]
  },
  {
   "cell_type": "code",
   "execution_count": null,
   "metadata": {
    "ExecuteTime": {
     "end_time": "2022-03-13T02:39:40.125104Z",
     "start_time": "2022-03-13T02:39:40.120611Z"
    }
   },
   "outputs": [],
   "source": [
    "# Dictionary key must be unique. Duplicate key is allowed.\n",
    "dict4 = {'Alice': 'alice@uic.edu.hk', \n",
    "         'Bob': 'bob@uic.edu.hk', \n",
    "         'Alice': 'bob@uic.edu.hk'}"
   ]
  },
  {
   "cell_type": "code",
   "execution_count": null,
   "metadata": {
    "ExecuteTime": {
     "end_time": "2022-03-13T02:39:40.418831Z",
     "start_time": "2022-03-13T02:39:40.411884Z"
    }
   },
   "outputs": [],
   "source": [
    "dict4"
   ]
  },
  {
   "cell_type": "code",
   "execution_count": null,
   "metadata": {
    "ExecuteTime": {
     "end_time": "2022-03-13T02:39:42.233303Z",
     "start_time": "2022-03-13T02:39:42.226456Z"
    }
   },
   "outputs": [],
   "source": [
    "dict4['Alice']"
   ]
  },
  {
   "cell_type": "markdown",
   "metadata": {},
   "source": [
    "### Access Values in a Dictionary"
   ]
  },
  {
   "cell_type": "code",
   "execution_count": 1,
   "metadata": {
    "ExecuteTime": {
     "end_time": "2024-05-30T12:10:36.223030Z",
     "start_time": "2024-05-30T12:10:36.219849Z"
    }
   },
   "outputs": [],
   "source": [
    "dict5 = {'Alice': 'alice@uic.edu.hk', 'Bob': 'bob@uic.edu.hk'}"
   ]
  },
  {
   "cell_type": "code",
   "execution_count": 2,
   "metadata": {
    "ExecuteTime": {
     "end_time": "2024-05-30T12:10:38.432861Z",
     "start_time": "2024-05-30T12:10:38.422955Z"
    }
   },
   "outputs": [
    {
     "data": {
      "text/plain": [
       "'alice@uic.edu.hk'"
      ]
     },
     "execution_count": 2,
     "metadata": {},
     "output_type": "execute_result"
    }
   ],
   "source": [
    "# Now you access the key 'Alice'\n",
    "dict5['Alice']"
   ]
  },
  {
   "cell_type": "code",
   "execution_count": 3,
   "metadata": {
    "ExecuteTime": {
     "end_time": "2024-05-30T12:10:39.827470Z",
     "start_time": "2024-05-30T12:10:39.751255Z"
    }
   },
   "outputs": [
    {
     "ename": "KeyError",
     "evalue": "'Eric'",
     "output_type": "error",
     "traceback": [
      "\u001b[0;31m---------------------------------------------------------------------------\u001b[0m",
      "\u001b[0;31mKeyError\u001b[0m                                  Traceback (most recent call last)",
      "\u001b[0;32m/tmp/ipykernel_54103/2459828961.py\u001b[0m in \u001b[0;36m<module>\u001b[0;34m\u001b[0m\n\u001b[1;32m      1\u001b[0m \u001b[0;31m# If we attempt to access a data item with a key, which is not part of the dictionary, we get an error as follows:\u001b[0m\u001b[0;34m\u001b[0m\u001b[0;34m\u001b[0m\u001b[0;34m\u001b[0m\u001b[0m\n\u001b[0;32m----> 2\u001b[0;31m \u001b[0mdict5\u001b[0m\u001b[0;34m[\u001b[0m\u001b[0;34m'Eric'\u001b[0m\u001b[0;34m]\u001b[0m\u001b[0;34m\u001b[0m\u001b[0;34m\u001b[0m\u001b[0m\n\u001b[0m",
      "\u001b[0;31mKeyError\u001b[0m: 'Eric'"
     ]
    }
   ],
   "source": [
    "# If we attempt to access a data item with a key, which is not part of the dictionary, we get an error as follows:\n",
    "dict5['Eric']"
   ]
  },
  {
   "cell_type": "markdown",
   "metadata": {},
   "source": [
    "### Modify Elements of a Dictionary"
   ]
  },
  {
   "cell_type": "markdown",
   "metadata": {},
   "source": [
    "**Add Elements**"
   ]
  },
  {
   "cell_type": "code",
   "execution_count": 4,
   "metadata": {
    "ExecuteTime": {
     "end_time": "2024-05-30T12:10:45.853256Z",
     "start_time": "2024-05-30T12:10:45.848254Z"
    }
   },
   "outputs": [
    {
     "data": {
      "text/plain": [
       "'eric@uic.edu.hk'"
      ]
     },
     "execution_count": 4,
     "metadata": {},
     "output_type": "execute_result"
    }
   ],
   "source": [
    "# Add the new key-value pair\n",
    "dict5['Eric'] = 'eric@uic.edu.hk'\n",
    "dict5['Eric']"
   ]
  },
  {
   "cell_type": "code",
   "execution_count": 5,
   "metadata": {
    "ExecuteTime": {
     "end_time": "2024-05-30T12:10:48.277544Z",
     "start_time": "2024-05-30T12:10:48.272950Z"
    }
   },
   "outputs": [
    {
     "data": {
      "text/plain": [
       "'null'"
      ]
     },
     "execution_count": 5,
     "metadata": {},
     "output_type": "execute_result"
    }
   ],
   "source": [
    "dict6 = {'Alice': 'alice@uic.edu.hk', 'Bob': 'bob@uic.edu.hk', 0: 'null'}\n",
    "dict6[0]"
   ]
  },
  {
   "cell_type": "markdown",
   "metadata": {},
   "source": [
    "**Delete Elements**"
   ]
  },
  {
   "cell_type": "code",
   "execution_count": 6,
   "metadata": {
    "ExecuteTime": {
     "end_time": "2024-05-30T12:10:55.741226Z",
     "start_time": "2024-05-30T12:10:55.732122Z"
    }
   },
   "outputs": [
    {
     "ename": "KeyError",
     "evalue": "'Alice'",
     "output_type": "error",
     "traceback": [
      "\u001b[0;31m---------------------------------------------------------------------------\u001b[0m",
      "\u001b[0;31mKeyError\u001b[0m                                  Traceback (most recent call last)",
      "\u001b[0;32m/tmp/ipykernel_54103/2151481625.py\u001b[0m in \u001b[0;36m<module>\u001b[0;34m\u001b[0m\n\u001b[1;32m      1\u001b[0m \u001b[0mdict7\u001b[0m \u001b[0;34m=\u001b[0m \u001b[0;34m{\u001b[0m\u001b[0;34m'Alice'\u001b[0m\u001b[0;34m:\u001b[0m \u001b[0;34m'alice@uic.edu.hk'\u001b[0m\u001b[0;34m,\u001b[0m \u001b[0;34m'Bob'\u001b[0m\u001b[0;34m:\u001b[0m \u001b[0;34m'bob@uic.edu.hk'\u001b[0m\u001b[0;34m}\u001b[0m\u001b[0;34m\u001b[0m\u001b[0;34m\u001b[0m\u001b[0m\n\u001b[1;32m      2\u001b[0m \u001b[0;32mdel\u001b[0m \u001b[0mdict7\u001b[0m\u001b[0;34m[\u001b[0m\u001b[0;34m'Alice'\u001b[0m\u001b[0;34m]\u001b[0m \u001b[0;31m# \"Alice\" entry with its values is deleted\u001b[0m\u001b[0;34m\u001b[0m\u001b[0;34m\u001b[0m\u001b[0m\n\u001b[0;32m----> 3\u001b[0;31m \u001b[0mdict7\u001b[0m\u001b[0;34m[\u001b[0m\u001b[0;34m'Alice'\u001b[0m\u001b[0;34m]\u001b[0m\u001b[0;34m\u001b[0m\u001b[0;34m\u001b[0m\u001b[0m\n\u001b[0m",
      "\u001b[0;31mKeyError\u001b[0m: 'Alice'"
     ]
    }
   ],
   "source": [
    "dict7 = {'Alice': 'alice@uic.edu.hk', 'Bob': 'bob@uic.edu.hk'}\n",
    "del dict7['Alice'] # \"Alice\" entry with its values is deleted\n",
    "dict7['Alice']"
   ]
  },
  {
   "cell_type": "code",
   "execution_count": null,
   "metadata": {
    "ExecuteTime": {
     "end_time": "2022-03-13T02:39:47.573754Z",
     "start_time": "2022-03-13T02:39:47.566484Z"
    }
   },
   "outputs": [],
   "source": [
    "dict7"
   ]
  },
  {
   "cell_type": "code",
   "execution_count": null,
   "metadata": {
    "ExecuteTime": {
     "end_time": "2022-03-13T02:39:47.941321Z",
     "start_time": "2022-03-13T02:39:47.932580Z"
    }
   },
   "outputs": [],
   "source": [
    "dict8 = {}\n",
    "dict8[1] = 'a'\n",
    "dict8[2] = 'b'\n",
    "dict8[2] = 'c'\n",
    "dict8[2] = dict8[2] + 'd'\n",
    "dict8"
   ]
  },
  {
   "cell_type": "markdown",
   "metadata": {},
   "source": [
    "### Basic Dictionary Methods (Built-in functions)\n",
    "\n",
    "* Dictionary is a very important data structure. You probably will use it quite a lot during your implementation of the course project. You should be familiar with the dictionary API. Below lists the functions `Dictionary` offers, see [here](https://docs.python.org/3/library/stdtypes.html#typesmapping)\n",
    "\n",
    "![dict.png](Figures/dict.png)"
   ]
  },
  {
   "cell_type": "markdown",
   "metadata": {},
   "source": [
    "###  Examples"
   ]
  },
  {
   "cell_type": "markdown",
   "metadata": {},
   "source": [
    "**Example 1**: In the following example all keys of a dictionary are printed by iteration on **items()**"
   ]
  },
  {
   "cell_type": "code",
   "execution_count": 7,
   "metadata": {
    "ExecuteTime": {
     "end_time": "2024-05-30T12:13:21.121423Z",
     "start_time": "2024-05-30T12:13:21.114522Z"
    }
   },
   "outputs": [
    {
     "data": {
      "text/plain": [
       "dict_items([('a', 1), ('b', 2), ('c', 3), ('d', 4), ('e', 5), ('f', 6)])"
      ]
     },
     "execution_count": 7,
     "metadata": {},
     "output_type": "execute_result"
    }
   ],
   "source": [
    "dict9 = {'a':1, 'b':2, 'c':3, 'd':4, 'e':5, 'f':6}\n",
    "dict9.items()"
   ]
  },
  {
   "cell_type": "code",
   "execution_count": 8,
   "metadata": {
    "ExecuteTime": {
     "end_time": "2024-05-30T12:13:22.565913Z",
     "start_time": "2024-05-30T12:13:22.561866Z"
    }
   },
   "outputs": [
    {
     "name": "stdout",
     "output_type": "stream",
     "text": [
      "('a', 1)\n",
      "('b', 2)\n",
      "('c', 3)\n",
      "('d', 4)\n",
      "('e', 5)\n",
      "('f', 6)\n"
     ]
    }
   ],
   "source": [
    "dict9 = {'a':1, 'b':2, 'c':3, 'd':4, 'e':5, 'f':6}\n",
    "for key_value_pair in dict9.items():\n",
    "    print(key_value_pair)"
   ]
  },
  {
   "cell_type": "code",
   "execution_count": 4,
   "metadata": {
    "ExecuteTime": {
     "end_time": "2024-03-25T05:17:55.038163Z",
     "start_time": "2024-03-25T05:17:55.034008Z"
    }
   },
   "outputs": [
    {
     "name": "stdout",
     "output_type": "stream",
     "text": [
      "Key is a, and value is 1\n",
      "Key is b, and value is 2\n",
      "Key is c, and value is 3\n",
      "Key is d, and value is 4\n",
      "Key is e, and value is 5\n",
      "Key is f, and value is 6\n"
     ]
    }
   ],
   "source": [
    "dict9 = {'a':1, 'b':2, 'c':3, 'd':4, 'e':5, 'f':6}\n",
    "for (key, value) in dict9.items():\n",
    "    # %: placeholder\n",
    "    print('Key is %s, and value is %d'% (key, value))\n",
    "    # %s; string\n",
    "    # %d: integer\n",
    "    # %f: float"
   ]
  },
  {
   "cell_type": "code",
   "execution_count": 9,
   "metadata": {
    "ExecuteTime": {
     "end_time": "2024-05-30T12:14:27.684075Z",
     "start_time": "2024-05-30T12:14:27.678257Z"
    }
   },
   "outputs": [
    {
     "name": "stdout",
     "output_type": "stream",
     "text": [
      "Key is a, and value is 1\n",
      "Key is b, and value is 2\n",
      "Key is c, and value is 3\n",
      "Key is d, and value is 4\n",
      "Key is e, and value is 5\n",
      "Key is f, and value is 6\n"
     ]
    }
   ],
   "source": [
    "dict9 = {'a':1, 'b':2, 'c':3, 'd':4, 'e':5, 'f':6}\n",
    "for key_value_pair in dict9.items():\n",
    "    print('Key is %s, and value is %d'% (key_value_pair[0], key_value_pair[1]))"
   ]
  },
  {
   "cell_type": "code",
   "execution_count": 11,
   "metadata": {
    "ExecuteTime": {
     "end_time": "2024-05-30T12:15:00.992224Z",
     "start_time": "2024-05-30T12:15:00.987412Z"
    }
   },
   "outputs": [
    {
     "data": {
      "text/plain": [
       "100"
      ]
     },
     "execution_count": 11,
     "metadata": {},
     "output_type": "execute_result"
    }
   ],
   "source": [
    "dict9 = {'a':1, 'b':2, 'c':3, 'd':4, 'e':5, 'f':6}\n",
    "dict9.get('z', 100)# 100 is the default value when 'z' is not found in dic.\n",
    "#dict9['z']"
   ]
  },
  {
   "cell_type": "markdown",
   "metadata": {},
   "source": [
    "**Example 2** In the following example example, given a list, we store the elements of the list as dictionary keys and the frequency of the elements as dictionary values"
   ]
  },
  {
   "cell_type": "code",
   "execution_count": 15,
   "metadata": {
    "ExecuteTime": {
     "end_time": "2024-03-25T05:40:42.329998Z",
     "start_time": "2024-03-25T05:40:42.322393Z"
    }
   },
   "outputs": [],
   "source": [
    "# First, a more understandable way\n",
    "\n",
    "list1 = [1, 1, 1, 2, 2, 3, 4, 4, 5, 5, 5, 5]\n",
    "dict1 = {}\n",
    "for element in list1:\n",
    "    if element in dict1.keys():\n",
    "        dict1[element] = dict1[element] + 1\n",
    "    else:\n",
    "        dict1[element] = 1 # init the entry for the key-value pair"
   ]
  },
  {
   "cell_type": "code",
   "execution_count": 16,
   "metadata": {
    "ExecuteTime": {
     "end_time": "2024-03-25T05:40:44.778351Z",
     "start_time": "2024-03-25T05:40:44.768360Z"
    }
   },
   "outputs": [
    {
     "name": "stdout",
     "output_type": "stream",
     "text": [
      "1 : 3\n",
      "2 : 2\n",
      "3 : 1\n",
      "4 : 2\n",
      "5 : 4\n"
     ]
    }
   ],
   "source": [
    "for (key, value) in dict1.items():\n",
    "    print(key, ':', value)"
   ]
  },
  {
   "cell_type": "code",
   "execution_count": 19,
   "metadata": {
    "ExecuteTime": {
     "end_time": "2024-03-25T05:42:38.004638Z",
     "start_time": "2024-03-25T05:42:37.998159Z"
    }
   },
   "outputs": [],
   "source": [
    "# Second, a more neat way\n",
    "\n",
    "list1 = [1, 1, 1, 2, 2, 3, 4, 4, 5, 5, 5, 5]\n",
    "dict1 = {}\n",
    "\n",
    "for element in list1:\n",
    "    dict1[element] = dict1.get(element, 0) + 1"
   ]
  },
  {
   "cell_type": "code",
   "execution_count": 20,
   "metadata": {
    "ExecuteTime": {
     "end_time": "2024-03-25T05:42:39.404331Z",
     "start_time": "2024-03-25T05:42:39.396169Z"
    }
   },
   "outputs": [
    {
     "name": "stdout",
     "output_type": "stream",
     "text": [
      "1 : 3\n",
      "2 : 2\n",
      "3 : 1\n",
      "4 : 2\n",
      "5 : 4\n"
     ]
    }
   ],
   "source": [
    "for (key, value) in dict1.items():\n",
    "    print(key, ':', value)"
   ]
  },
  {
   "cell_type": "markdown",
   "metadata": {},
   "source": [
    "* See the usage of *get* function [here](https://stackoverflow.com/questions/11041405/why-dict-getkey-instead-of-dictkey)"
   ]
  },
  {
   "cell_type": "markdown",
   "metadata": {},
   "source": [
    "**Example 3**:  Student Marks\n",
    "\n",
    "In this example , you have to take the number of students as input, then ask grades for the three subjects ‘Physics’, ‘Maths’, and ‘History’. If the total grades for any student is less than 120 then print failed, or else say passed."
   ]
  },
  {
   "cell_type": "code",
   "execution_count": 30,
   "metadata": {
    "ExecuteTime": {
     "end_time": "2024-03-25T05:53:47.278893Z",
     "start_time": "2024-03-25T05:52:35.360239Z"
    }
   },
   "outputs": [
    {
     "name": "stdout",
     "output_type": "stream",
     "text": [
      "Enter the number of students:5\n",
      "Enter the name of student 1: Wei ZHANG\n",
      "Enter grades of Physics: 11100000000000000000000\n",
      "Enter grades of Maths: 1111110000000000000000000000000000000000000\n",
      "Enter grades of History: 0\n",
      "Enter the name of student 2: Shuimin MA\n",
      "Enter grades of Physics: 898989898989898\n",
      "Enter grades of Maths: 972942463727928959752750273749849\n",
      "Enter grades of History: 729529\n",
      "Enter the name of student 3: Stella\n",
      "Enter grades of Physics: 0\n",
      "Enter grades of Maths: 0\n",
      "Enter grades of History: 0\n",
      "Enter the name of student 4: Annie\n",
      "Enter grades of Physics: 0\n",
      "Enter grades of Maths: 0\n",
      "Enter grades of History: 7298579727392730426492987729264923873872929020000002487229797834837\n",
      "Enter the name of student 5: Aquila\n",
      "Enter grades of Physics: 0\n",
      "Enter grades of Maths: 100\n",
      "Enter grades of History: 100\n"
     ]
    }
   ],
   "source": [
    "# Part I: Use a dictionary to store students' grades.\n",
    "num = int(input('Enter the number of students:'))\n",
    "data = {}\n",
    "subjects = ('Physics', 'Maths', 'History')\n",
    "for i in range(num):\n",
    "    name = input('Enter the name of student %d: '%(i+1))\n",
    "    grades = []\n",
    "    for subject in subjects:\n",
    "        grades.append(int(input('Enter grades of %s: '%subject)))\n",
    "    data[name] = grades"
   ]
  },
  {
   "cell_type": "code",
   "execution_count": 31,
   "metadata": {
    "ExecuteTime": {
     "end_time": "2024-03-25T05:53:48.963006Z",
     "start_time": "2024-03-25T05:53:48.959010Z"
    }
   },
   "outputs": [
    {
     "data": {
      "text/plain": [
       "{'Wei ZHANG': [11100000000000000000000,\n",
       "  1111110000000000000000000000000000000000000,\n",
       "  0],\n",
       " 'Shuimin MA': [898989898989898, 972942463727928959752750273749849, 729529],\n",
       " 'Stella': [0, 0, 0],\n",
       " 'Annie': [0,\n",
       "  0,\n",
       "  7298579727392730426492987729264923873872929020000002487229797834837],\n",
       " 'Aquila': [0, 100, 100]}"
      ]
     },
     "execution_count": 31,
     "metadata": {},
     "output_type": "execute_result"
    }
   ],
   "source": [
    "# Check out the dictionary\n",
    "data"
   ]
  },
  {
   "cell_type": "code",
   "execution_count": 32,
   "metadata": {
    "ExecuteTime": {
     "end_time": "2024-03-25T05:53:49.476682Z",
     "start_time": "2024-03-25T05:53:49.472310Z"
    }
   },
   "outputs": [
    {
     "name": "stdout",
     "output_type": "stream",
     "text": [
      "Total grades for Wei ZHANG is: 1111110000000000000011100000000000000000000\n",
      "Wei ZHANG passed\n",
      "Total grades for Shuimin MA is: 972942463727928960651740173469276\n",
      "Shuimin MA passed\n",
      "Total grades for Stella is: 0\n",
      "Stella failed\n",
      "Total grades for Annie is: 7298579727392730426492987729264923873872929020000002487229797834837\n",
      "Annie passed\n",
      "Total grades for Aquila is: 200\n",
      "Aquila passed\n"
     ]
    }
   ],
   "source": [
    "# Part II: Verify students' grades\n",
    "for (name, grades) in data.items():\n",
    "    total = sum(grades)\n",
    "    print('Total grades for %s is: %d'% (name, total))\n",
    "    if total < 120:\n",
    "        print('%s failed'% name)\n",
    "    else:\n",
    "        print('%s passed'% name)"
   ]
  },
  {
   "cell_type": "markdown",
   "metadata": {},
   "source": [
    "### Exercises"
   ]
  },
  {
   "cell_type": "markdown",
   "metadata": {
    "deletable": false,
    "editable": false,
    "nbgrader": {
     "cell_type": "markdown",
     "checksum": "1d1f42efa55efb533776f5c47c798a6f",
     "grade": false,
     "grade_id": "cell-cc4cfc76b8cfa09a",
     "locked": true,
     "schema_version": 3,
     "solution": false,
     "task": false
    }
   },
   "source": [
    "**Question 5**. Define a function ``count_occurrence(list1)`` that iterates a given list, counts the occurrence of each element, creates a dictionary to show the count of each element, and **returns** the dictionary. \n",
    "\n",
    "**Example** \n",
    "```py\n",
    "list1 = [11, 45, 8, 11, 23, 45, 23, 45, 89]\n",
    "\n",
    "Expected output\n",
    "{11: 2, 45: 3, 8: 1, 23: 2, 89: 1}\n",
    "```\n",
    "\n",
    "**Hint** \n",
    "* Use for loop and if-else statement to update the occurrence (as the value) of an element (as the key) in the dictionary"
   ]
  },
  {
   "cell_type": "code",
   "execution_count": 11,
   "metadata": {
    "ExecuteTime": {
     "end_time": "2024-03-25T06:40:31.364722Z",
     "start_time": "2024-03-25T06:40:31.361853Z"
    },
    "deletable": false,
    "nbgrader": {
     "cell_type": "code",
     "checksum": "ec4a00256b351908f5ce9789c5ce4623",
     "grade": false,
     "grade_id": "cell-40b4b88925bd6091",
     "locked": false,
     "schema_version": 3,
     "solution": true,
     "task": false
    }
   },
   "outputs": [],
   "source": [
    "def count_occurrence(list1):\n",
    "    res_dict = dict()\n",
    "    for element in list1:\n",
    "        res_dict[element] = res_dict.get(element, 0)+1\n",
    "    return res_dict"
   ]
  },
  {
   "cell_type": "code",
   "execution_count": 12,
   "metadata": {
    "ExecuteTime": {
     "end_time": "2024-03-25T06:40:32.886925Z",
     "start_time": "2024-03-25T06:40:32.883261Z"
    }
   },
   "outputs": [
    {
     "data": {
      "text/plain": [
       "{11: 2, 45: 3, 8: 1, 23: 2, 89: 1}"
      ]
     },
     "execution_count": 12,
     "metadata": {},
     "output_type": "execute_result"
    }
   ],
   "source": [
    "count_occurrence(list1 = [11, 45, 8, 11, 23, 45, 23, 45, 89])"
   ]
  },
  {
   "cell_type": "code",
   "execution_count": null,
   "metadata": {},
   "outputs": [],
   "source": []
  },
  {
   "cell_type": "code",
   "execution_count": null,
   "metadata": {
    "deletable": false,
    "editable": false,
    "nbgrader": {
     "cell_type": "code",
     "checksum": "03ce14ea559278aa43d91d8b07975f66",
     "grade": true,
     "grade_id": "cell-10b2d5a1abd1f247",
     "locked": true,
     "points": 10,
     "schema_version": 3,
     "solution": false,
     "task": false
    }
   },
   "outputs": [],
   "source": []
  },
  {
   "cell_type": "code",
   "execution_count": null,
   "metadata": {
    "deletable": false,
    "editable": false,
    "nbgrader": {
     "cell_type": "code",
     "checksum": "a61d458db954b6c2223b00ee074d2015",
     "grade": true,
     "grade_id": "cell-68d45ee35b75bf63",
     "locked": true,
     "points": 10,
     "schema_version": 3,
     "solution": false,
     "task": false
    }
   },
   "outputs": [],
   "source": []
  },
  {
   "cell_type": "markdown",
   "metadata": {},
   "source": [
    "## List Comprehensions\n",
    "\n",
    "A very common task in both data analysis and computer programming is applying some operations to every item in a list (e.g., scaling the numbers in a list by a fixed factor), or to create a copy of a list with only those items that match a particular criterion (e.g., eliminating values that fall below a certain threshold). Python has a succinct syntax, called a **list comprehension**, which allows you to easily write expressions that transform and filter lists.\n",
    "\n",
    "A list comprehension has a few parts:\n",
    "\n",
    "- a *source list*, or the list whose values will be transformed or filtered\n",
    "- a *predicate expression*, to be evaluated for every item in the list\n",
    "- (optionally) a *membership expression* that determines whether or not an item in the source list will be included in the result of evaluating the list comprehension, based on whether the expression evaluates to `True` or `False`\n",
    "- a *temporary variable name* by which each value from the source list will be known in the predicate expression and membership expression\n",
    "\n",
    "These parts are arranged like so:\n",
    "```py \n",
    "[Predicate_Expression for Temporary_Variable_Name in Source_List if Membership_Expression]\n",
    "```\n",
    "\n",
    "The keywords `for`, `in`, and `if` are a part of the syntax of the expression. They do not mean anything in particular (and in fact, they do completely different things in other parts of the Python language). You just have to spell them right and put them in the right place in order for the list comprehension to work."
   ]
  },
  {
   "cell_type": "markdown",
   "metadata": {},
   "source": [
    "### Example: returning the squares of integers if the number is larger than 5"
   ]
  },
  {
   "cell_type": "code",
   "execution_count": 33,
   "metadata": {
    "ExecuteTime": {
     "end_time": "2024-03-25T06:24:06.813113Z",
     "start_time": "2024-03-25T06:24:06.810413Z"
    }
   },
   "outputs": [],
   "source": [
    "list1 = [0, 1, 2, 3, 4, 5, 6, 7, 8, 9]"
   ]
  },
  {
   "cell_type": "markdown",
   "metadata": {},
   "source": [
    "*Solution 1*"
   ]
  },
  {
   "cell_type": "code",
   "execution_count": 34,
   "metadata": {
    "ExecuteTime": {
     "end_time": "2024-03-25T06:24:09.931827Z",
     "start_time": "2024-03-25T06:24:09.928071Z"
    }
   },
   "outputs": [
    {
     "data": {
      "text/plain": [
       "[36, 49, 64, 81]"
      ]
     },
     "execution_count": 34,
     "metadata": {},
     "output_type": "execute_result"
    }
   ],
   "source": [
    "square_list = []\n",
    "\n",
    "for num in list1:\n",
    "    if num > 5:\n",
    "        square_list.append(num*num)\n",
    "\n",
    "square_list"
   ]
  },
  {
   "cell_type": "markdown",
   "metadata": {},
   "source": [
    "*Solution 2*"
   ]
  },
  {
   "cell_type": "code",
   "execution_count": 35,
   "metadata": {
    "ExecuteTime": {
     "end_time": "2024-03-25T06:24:21.797429Z",
     "start_time": "2024-03-25T06:24:21.793522Z"
    }
   },
   "outputs": [
    {
     "data": {
      "text/plain": [
       "[36, 49, 64, 81]"
      ]
     },
     "execution_count": 35,
     "metadata": {},
     "output_type": "execute_result"
    }
   ],
   "source": [
    "[x * x for x in list1 if x > 5]"
   ]
  },
  {
   "cell_type": "markdown",
   "metadata": {},
   "source": [
    "In the example above, `x * x` is the predicate expression; `x` is the temporary variable name; `list1` is the source list; `x > 5` is the membership expression.\n",
    "\n",
    "There is nothing special about the variable `x`; it is just a name that we chose. We could easily choose any other temporary variable name."
   ]
  },
  {
   "cell_type": "code",
   "execution_count": 36,
   "metadata": {
    "ExecuteTime": {
     "end_time": "2024-03-25T06:24:59.925423Z",
     "start_time": "2024-03-25T06:24:59.922147Z"
    }
   },
   "outputs": [
    {
     "data": {
      "text/plain": [
       "[36, 49, 64, 81]"
      ]
     },
     "execution_count": 36,
     "metadata": {},
     "output_type": "execute_result"
    }
   ],
   "source": [
    "[y * y for y in list1 if y > 5]"
   ]
  },
  {
   "cell_type": "markdown",
   "metadata": {},
   "source": [
    "The expression in the list comprehension can be any expression, even just the temporary variable itself, in which case the list comprehension will simply evaluate to a copy of the original list."
   ]
  },
  {
   "cell_type": "code",
   "execution_count": 1,
   "metadata": {
    "ExecuteTime": {
     "end_time": "2024-05-30T12:27:03.476153Z",
     "start_time": "2024-05-30T12:27:03.460867Z"
    }
   },
   "outputs": [
    {
     "data": {
      "text/plain": [
       "[0, 1, 2, 3, 4, 5, 6, 7, 8, 9]"
      ]
     },
     "execution_count": 1,
     "metadata": {},
     "output_type": "execute_result"
    }
   ],
   "source": [
    "[x for x in range(10)]\n",
    "[m for m in range(10)]"
   ]
  },
  {
   "cell_type": "markdown",
   "metadata": {},
   "source": [
    "You do not even need to use the temporary variable in the predicate expression."
   ]
  },
  {
   "cell_type": "code",
   "execution_count": 2,
   "metadata": {
    "ExecuteTime": {
     "end_time": "2024-05-30T12:27:26.396448Z",
     "start_time": "2024-05-30T12:27:26.391843Z"
    }
   },
   "outputs": [
    {
     "data": {
      "text/plain": [
       "[23, 23, 23, 23, 23, 23, 23, 23, 23, 23]"
      ]
     },
     "execution_count": 2,
     "metadata": {},
     "output_type": "execute_result"
    }
   ],
   "source": [
    "[23 for x in range(10)]"
   ]
  },
  {
   "cell_type": "markdown",
   "metadata": {
    "deletable": false,
    "editable": false,
    "nbgrader": {
     "cell_type": "markdown",
     "checksum": "664fd01e22b272ac3c81688d9c351ff6",
     "grade": false,
     "grade_id": "cell-9fd8f023cf8df0e1",
     "locked": true,
     "schema_version": 3,
     "solution": false,
     "task": false
    }
   },
   "source": [
    "### Exercises"
   ]
  },
  {
   "cell_type": "markdown",
   "metadata": {
    "ExecuteTime": {
     "end_time": "2023-06-27T07:47:25.388520Z",
     "start_time": "2023-06-27T07:47:25.383331Z"
    },
    "deletable": false,
    "editable": false,
    "nbgrader": {
     "cell_type": "markdown",
     "checksum": "768824cc5a72086d00799ee53cdcd6f4",
     "grade": false,
     "grade_id": "cell-7aba4dd9e062f542",
     "locked": true,
     "schema_version": 3,
     "solution": false,
     "task": false
    }
   },
   "source": [
    "**Question**. Define a function ``manipulate_list(list1)`` that **returns** a new list with 1 added to every element using **list comprehension**.\n",
    "\n",
    "**Example**\n",
    "```py\n",
    "list1 = [1, 3, 2, 5, 8, 7]\n",
    "\n",
    "Expected output:\n",
    "[2, 4, 3, 6, 9, 8]\n",
    "```\n",
    "\n",
    "**Hint** \n",
    "* List comprehension syntax: \n",
    "```py\n",
    "[expression for variable in list]\n",
    "[expression for variable in list if test_expression]\n",
    "```"
   ]
  },
  {
   "cell_type": "code",
   "execution_count": 3,
   "metadata": {
    "ExecuteTime": {
     "end_time": "2024-05-30T12:28:44.124905Z",
     "start_time": "2024-05-30T12:28:44.119532Z"
    },
    "deletable": false,
    "nbgrader": {
     "cell_type": "code",
     "checksum": "5e53506cfc430d7c3f5c313cdc5cd62d",
     "grade": false,
     "grade_id": "cell-a53ae8a2c72a2c44",
     "locked": false,
     "schema_version": 3,
     "solution": true,
     "task": false
    }
   },
   "outputs": [],
   "source": [
    "def manipulate_list(list1):\n",
    "    res_list = [num+1 for num in list1]\n",
    "    return res_list"
   ]
  },
  {
   "cell_type": "code",
   "execution_count": 4,
   "metadata": {
    "ExecuteTime": {
     "end_time": "2024-05-30T12:28:50.553761Z",
     "start_time": "2024-05-30T12:28:50.548777Z"
    }
   },
   "outputs": [
    {
     "data": {
      "text/plain": [
       "[2, 4, 3, 6, 9, 8]"
      ]
     },
     "execution_count": 4,
     "metadata": {},
     "output_type": "execute_result"
    }
   ],
   "source": [
    "manipulate_list(list1 = [1, 3, 2, 5, 8, 7])"
   ]
  },
  {
   "cell_type": "code",
   "execution_count": null,
   "metadata": {
    "ExecuteTime": {
     "end_time": "2023-06-27T07:47:44.081956Z",
     "start_time": "2023-06-27T07:47:44.079228Z"
    },
    "deletable": false,
    "editable": false,
    "nbgrader": {
     "cell_type": "code",
     "checksum": "19f61df721e073845d389ab5c7168f12",
     "grade": true,
     "grade_id": "cell-727fec5e3da8e511",
     "locked": true,
     "points": 10,
     "schema_version": 3,
     "solution": false,
     "task": false
    }
   },
   "outputs": [],
   "source": []
  },
  {
   "cell_type": "code",
   "execution_count": null,
   "metadata": {
    "deletable": false,
    "editable": false,
    "nbgrader": {
     "cell_type": "code",
     "checksum": "2ab9fff72929da4e4ce3bec153bf4617",
     "grade": true,
     "grade_id": "cell-afa134484f5d4010",
     "locked": true,
     "points": 10,
     "schema_version": 3,
     "solution": false,
     "task": false
    }
   },
   "outputs": [],
   "source": []
  },
  {
   "cell_type": "markdown",
   "metadata": {},
   "source": [
    "## Dictionary Comprehensions\n",
    "\n",
    "A very common task in Python is to take some kind of sequential data and then turn it into a dictionary. For example, we want to take a list of strings and then create a dictionary mapping the strings to their lengths."
   ]
  },
  {
   "cell_type": "markdown",
   "metadata": {},
   "source": [
    "### Example: Select the province(s) whose name's length is longer than 7"
   ]
  },
  {
   "cell_type": "markdown",
   "metadata": {},
   "source": [
    "*Solution 1*"
   ]
  },
  {
   "cell_type": "code",
   "execution_count": 5,
   "metadata": {
    "ExecuteTime": {
     "end_time": "2024-05-30T12:31:15.644677Z",
     "start_time": "2024-05-30T12:31:15.639645Z"
    }
   },
   "outputs": [],
   "source": [
    "china_provinces = [\"HeiLongJiang\", \"GuangDong\", \"YunNan\", \n",
    "                   \"HuBei\", \"ShanDong\", \"JiLin\", \"ZheJiang\"]"
   ]
  },
  {
   "cell_type": "code",
   "execution_count": 6,
   "metadata": {
    "ExecuteTime": {
     "end_time": "2024-03-25T06:30:46.703209Z",
     "start_time": "2024-03-25T06:30:46.696114Z"
    }
   },
   "outputs": [
    {
     "data": {
      "text/plain": [
       "{'HeiLongJiang': 12, 'GuangDong': 9, 'ShanDong': 8, 'ZheJiang': 8}"
      ]
     },
     "execution_count": 6,
     "metadata": {},
     "output_type": "execute_result"
    }
   ],
   "source": [
    "province_lengths = {}\n",
    "\n",
    "for item in china_provinces:\n",
    "    if len(item) > 7:\n",
    "        province_lengths[item] = len(item)\n",
    "\n",
    "province_lengths"
   ]
  },
  {
   "cell_type": "markdown",
   "metadata": {},
   "source": [
    "*Solution 2*"
   ]
  },
  {
   "cell_type": "code",
   "execution_count": 6,
   "metadata": {
    "ExecuteTime": {
     "end_time": "2024-05-30T12:31:19.179967Z",
     "start_time": "2024-05-30T12:31:19.174427Z"
    }
   },
   "outputs": [
    {
     "data": {
      "text/plain": [
       "[('HeiLongJiang', 12), ('GuangDong', 9), ('ShanDong', 8), ('ZheJiang', 8)]"
      ]
     },
     "execution_count": 6,
     "metadata": {},
     "output_type": "execute_result"
    }
   ],
   "source": [
    "china_provinces_tuples = [(item, len(item)) for item in china_provinces if len(item) > 7]\n",
    "china_provinces_tuples"
   ]
  },
  {
   "cell_type": "markdown",
   "metadata": {},
   "source": [
    "* Wow!!! dict() 函数可以直接将a list of tuples 转换为 dictionary"
   ]
  },
  {
   "cell_type": "code",
   "execution_count": 7,
   "metadata": {
    "ExecuteTime": {
     "end_time": "2024-05-30T12:31:33.464537Z",
     "start_time": "2024-05-30T12:31:33.458850Z"
    }
   },
   "outputs": [
    {
     "data": {
      "text/plain": [
       "{'HeiLongJiang': 12, 'GuangDong': 9, 'ShanDong': 8, 'ZheJiang': 8}"
      ]
     },
     "execution_count": 7,
     "metadata": {},
     "output_type": "execute_result"
    }
   ],
   "source": [
    "dict_province = dict(china_provinces_tuples)\n",
    "dict_province"
   ]
  },
  {
   "cell_type": "markdown",
   "metadata": {},
   "source": [
    "You can even combine the two steps in one single step."
   ]
  },
  {
   "cell_type": "code",
   "execution_count": 19,
   "metadata": {
    "ExecuteTime": {
     "end_time": "2024-03-25T06:45:05.200429Z",
     "start_time": "2024-03-25T06:45:05.196830Z"
    }
   },
   "outputs": [
    {
     "data": {
      "text/plain": [
       "{'HeiLongJiang': 12, 'GuangDong': 9, 'ShanDong': 8, 'ZheJiang': 8}"
      ]
     },
     "execution_count": 19,
     "metadata": {},
     "output_type": "execute_result"
    }
   ],
   "source": [
    "dict_province = dict([(item, len(item)) for item in china_provinces if len(item) > 7])\n",
    "dict_province"
   ]
  },
  {
   "cell_type": "markdown",
   "metadata": {},
   "source": [
    "*Solution 3*"
   ]
  },
  {
   "cell_type": "code",
   "execution_count": 20,
   "metadata": {
    "ExecuteTime": {
     "end_time": "2024-03-25T06:45:32.150477Z",
     "start_time": "2024-03-25T06:45:32.147856Z"
    }
   },
   "outputs": [],
   "source": [
    "dict_province = {item: len(item) for item in china_provinces if len(item) > 7}\n",
    "dict_province2 = {x: len(x) for x in china_provinces if len(x) > 7}"
   ]
  },
  {
   "cell_type": "code",
   "execution_count": 21,
   "metadata": {
    "ExecuteTime": {
     "end_time": "2024-03-25T06:45:32.759403Z",
     "start_time": "2024-03-25T06:45:32.756213Z"
    }
   },
   "outputs": [
    {
     "data": {
      "text/plain": [
       "{'HeiLongJiang': 12, 'GuangDong': 9, 'ShanDong': 8, 'ZheJiang': 8}"
      ]
     },
     "execution_count": 21,
     "metadata": {},
     "output_type": "execute_result"
    }
   ],
   "source": [
    "dict_province"
   ]
  },
  {
   "cell_type": "code",
   "execution_count": 22,
   "metadata": {
    "ExecuteTime": {
     "end_time": "2024-03-25T06:45:34.079015Z",
     "start_time": "2024-03-25T06:45:34.075904Z"
    }
   },
   "outputs": [
    {
     "data": {
      "text/plain": [
       "{'HeiLongJiang': 12, 'GuangDong': 9, 'ShanDong': 8, 'ZheJiang': 8}"
      ]
     },
     "execution_count": 22,
     "metadata": {},
     "output_type": "execute_result"
    }
   ],
   "source": [
    "dict_province2"
   ]
  },
  {
   "cell_type": "markdown",
   "metadata": {},
   "source": [
    "This syntax is called a **dictionary comprehension** (by analogy with **list comprehension**). A dictionary comprehension is like a list comprehension, except that the predicate expression is not an expression proper, but a key/value pair separated by a colon."
   ]
  },
  {
   "cell_type": "markdown",
   "metadata": {},
   "source": [
    "## Enumerating Lists\n",
    "\n",
    "For instance, you want to iterate through a list, prepending each item in the list with its index: a numbered list. One way to do this is to write a `for` loop to print out the items of a list with their index, keeping track of the current index in a separate variable."
   ]
  },
  {
   "cell_type": "code",
   "execution_count": null,
   "metadata": {
    "ExecuteTime": {
     "end_time": "2022-10-14T02:28:09.843024Z",
     "start_time": "2022-10-14T02:28:09.838312Z"
    }
   },
   "outputs": [],
   "source": [
    "elements = [\"hydrogen\", \"helium\", \"lithium\", \"beryllium\", \"boron\"]"
   ]
  },
  {
   "cell_type": "code",
   "execution_count": null,
   "metadata": {
    "ExecuteTime": {
     "end_time": "2022-10-14T02:28:09.861260Z",
     "start_time": "2022-10-14T02:28:09.846911Z"
    }
   },
   "outputs": [],
   "source": [
    "dict1 = {}\n",
    "\n",
    "for index in range(len(elements)):\n",
    "    dict1[index] = elements[index]\n",
    "\n",
    "dict1"
   ]
  },
  {
   "cell_type": "markdown",
   "metadata": {},
   "source": [
    "Index and value pairs are needed fairly frequently in Python. So frequently that there is a built-in function for constructing it. That function is called `enumerate()`."
   ]
  },
  {
   "cell_type": "code",
   "execution_count": null,
   "metadata": {
    "ExecuteTime": {
     "end_time": "2022-10-14T02:28:09.918801Z",
     "start_time": "2022-10-14T02:28:09.913609Z"
    }
   },
   "outputs": [],
   "source": [
    "dict1 = {}\n",
    "\n",
    "for index, value in enumerate(elements):\n",
    "    dict1[index] = value\n",
    "\n",
    "dict1"
   ]
  },
  {
   "cell_type": "code",
   "execution_count": null,
   "metadata": {
    "ExecuteTime": {
     "end_time": "2022-10-14T02:28:09.929945Z",
     "start_time": "2022-10-14T02:28:09.921302Z"
    }
   },
   "outputs": [],
   "source": [
    "list(enumerate(elements))"
   ]
  },
  {
   "cell_type": "markdown",
   "metadata": {},
   "source": [
    "You may understand the result of `enumerate` as a list of pairs, where each pair is (index, value). You can even directly convert it to a dictionary."
   ]
  },
  {
   "cell_type": "code",
   "execution_count": null,
   "metadata": {
    "ExecuteTime": {
     "end_time": "2022-10-14T02:28:09.997064Z",
     "start_time": "2022-10-14T02:28:09.990944Z"
    }
   },
   "outputs": [],
   "source": [
    "dict(enumerate(elements))"
   ]
  },
  {
   "cell_type": "markdown",
   "metadata": {},
   "source": [
    "## Combining lists with `zip`\n",
    "\n",
    "As you can see by now, the list of tuples is a very common configuration for data in Python. The `zip()` function allows you to create a list of tuples that combines values from two separate lists.\n",
    "\n",
    "For example, imagine that you have retrieved the names of certain Chinese provinces from one source, and the estimated population for those provinces from a different source. You know that the data is in the same order in both sources, and you would like to combine the two into one list (perhaps to eventually create a dictionary for easy population lookups). The `zip()` function is built for this."
   ]
  },
  {
   "cell_type": "code",
   "execution_count": 37,
   "metadata": {
    "ExecuteTime": {
     "end_time": "2024-03-28T06:18:38.715740Z",
     "start_time": "2024-03-28T06:18:38.704232Z"
    }
   },
   "outputs": [],
   "source": [
    "prov_name = [\"HeiLongJiang\", \"GuangDong\", \"YunNan\", \"HuBei\", \"ShanDong\", \"JiLin\", \"ZheJiang\"]\n",
    "prov_population = [3778, 10432, 4596, 5902, 9579, 2745, 5442] # with the unit of 10,000"
   ]
  },
  {
   "cell_type": "code",
   "execution_count": 34,
   "metadata": {
    "ExecuteTime": {
     "end_time": "2024-03-28T06:13:09.035866Z",
     "start_time": "2024-03-28T06:13:09.033025Z"
    }
   },
   "outputs": [
    {
     "data": {
      "text/plain": [
       "<zip at 0x7fed384bdc00>"
      ]
     },
     "execution_count": 34,
     "metadata": {},
     "output_type": "execute_result"
    }
   ],
   "source": [
    "combo = zip(prov_name, prov_population)\n",
    "combo"
   ]
  },
  {
   "cell_type": "code",
   "execution_count": 35,
   "metadata": {
    "ExecuteTime": {
     "end_time": "2024-03-28T06:13:09.453806Z",
     "start_time": "2024-03-28T06:13:09.450444Z"
    }
   },
   "outputs": [
    {
     "data": {
      "text/plain": [
       "[('HeiLongJiang', 3778),\n",
       " ('GuangDong', 10432),\n",
       " ('YunNan', 4596),\n",
       " ('HuBei', 5902),\n",
       " ('ShanDong', 9579),\n",
       " ('JiLin', 2745)]"
      ]
     },
     "execution_count": 35,
     "metadata": {},
     "output_type": "execute_result"
    }
   ],
   "source": [
    "list(combo)"
   ]
  },
  {
   "cell_type": "markdown",
   "metadata": {},
   "source": [
    "As you can see, the `zip()` function takes two lists as parameters and returns a *zip* object which can be easily converted into a *list of tuples* with the respective items from both lists. To create a dictionary mapping state names to state populations you can either loop and add key/value pairs to the dictionary one by one."
   ]
  },
  {
   "cell_type": "code",
   "execution_count": 38,
   "metadata": {
    "ExecuteTime": {
     "end_time": "2024-03-28T06:18:41.232209Z",
     "start_time": "2024-03-28T06:18:41.220718Z"
    }
   },
   "outputs": [
    {
     "data": {
      "text/plain": [
       "{'HeiLongJiang': 3778,\n",
       " 'GuangDong': 10432,\n",
       " 'YunNan': 4596,\n",
       " 'HuBei': 5902,\n",
       " 'ShanDong': 9579,\n",
       " 'JiLin': 2745,\n",
       " 'ZheJiang': 5442}"
      ]
     },
     "execution_count": 38,
     "metadata": {},
     "output_type": "execute_result"
    }
   ],
   "source": [
    "dict2 = {}\n",
    "\n",
    "for i in range(len(prov_name)):\n",
    "    name = prov_name[i]\n",
    "    pop = prov_population[i]\n",
    "    dict2[name] = pop\n",
    "\n",
    "dict2"
   ]
  },
  {
   "cell_type": "markdown",
   "metadata": {},
   "source": [
    "Or you can pass the result of `zip()` directly to the `dict()` function, to create a dictionary mapping state names to state populations."
   ]
  },
  {
   "cell_type": "code",
   "execution_count": 39,
   "metadata": {
    "ExecuteTime": {
     "end_time": "2024-03-28T06:18:51.519535Z",
     "start_time": "2024-03-28T06:18:51.507905Z"
    }
   },
   "outputs": [
    {
     "data": {
      "text/plain": [
       "{'HeiLongJiang': 3778,\n",
       " 'GuangDong': 10432,\n",
       " 'YunNan': 4596,\n",
       " 'HuBei': 5902,\n",
       " 'ShanDong': 9579,\n",
       " 'JiLin': 2745,\n",
       " 'ZheJiang': 5442}"
      ]
     },
     "execution_count": 39,
     "metadata": {},
     "output_type": "execute_result"
    }
   ],
   "source": [
    "dict(zip(prov_name, prov_population))"
   ]
  },
  {
   "cell_type": "markdown",
   "metadata": {},
   "source": [
    "## Sorting List Elements\n",
    "\n",
    "You can sort a list two ways. The first is to use the list object's `.sort()` method, which **sorts the list in-place**."
   ]
  },
  {
   "cell_type": "code",
   "execution_count": 40,
   "metadata": {
    "ExecuteTime": {
     "end_time": "2024-03-28T06:21:52.196389Z",
     "start_time": "2024-03-28T06:21:52.192774Z"
    }
   },
   "outputs": [
    {
     "name": "stdout",
     "output_type": "stream",
     "text": [
      "before sorting ['hydrogen', 'helium', 'lithium', 'beryllium', 'boron']\n",
      "after sorting ['beryllium', 'boron', 'helium', 'hydrogen', 'lithium']\n"
     ]
    }
   ],
   "source": [
    "elements = [\"hydrogen\", \"helium\", \"lithium\", \"beryllium\", \"boron\"]\n",
    "print('before sorting', elements)\n",
    "\n",
    "elements.sort()\n",
    "print('after sorting', elements)"
   ]
  },
  {
   "cell_type": "markdown",
   "metadata": {},
   "source": [
    "The second is to use Python's built-in `sorted()` function, which evaluates to a copy of the list with its elements in order, while leaving the original list the same."
   ]
  },
  {
   "cell_type": "code",
   "execution_count": 41,
   "metadata": {
    "ExecuteTime": {
     "end_time": "2024-03-28T06:22:04.658625Z",
     "start_time": "2024-03-28T06:22:04.655372Z"
    }
   },
   "outputs": [
    {
     "name": "stdout",
     "output_type": "stream",
     "text": [
      "using sorted function ['beryllium', 'boron', 'helium', 'hydrogen', 'lithium']\n",
      "after using sorted function ['hydrogen', 'helium', 'lithium', 'beryllium', 'boron']\n"
     ]
    }
   ],
   "source": [
    "elements = [\"hydrogen\", \"helium\", \"lithium\", \"beryllium\", \"boron\"]\n",
    "print('using sorted function', sorted(elements))\n",
    "print('after using sorted function', elements)"
   ]
  },
  {
   "cell_type": "markdown",
   "metadata": {},
   "source": [
    "Both the `.sort()` method and the `sorted()` function take an optional keyword parameter `reverse` which, if set to `True`, causes the sorting to happen in reverse order."
   ]
  },
  {
   "cell_type": "code",
   "execution_count": 42,
   "metadata": {
    "ExecuteTime": {
     "end_time": "2024-03-28T06:22:28.961323Z",
     "start_time": "2024-03-28T06:22:28.957938Z"
    }
   },
   "outputs": [
    {
     "data": {
      "text/plain": [
       "[108, 54, 52, 13, 7, 2]"
      ]
     },
     "execution_count": 42,
     "metadata": {},
     "output_type": "execute_result"
    }
   ],
   "source": [
    "# with .sort()\n",
    "numbers = [52, 54, 108, 13, 7, 2]\n",
    "numbers.sort(reverse=True)\n",
    "numbers"
   ]
  },
  {
   "cell_type": "code",
   "execution_count": 43,
   "metadata": {
    "ExecuteTime": {
     "end_time": "2024-03-28T06:22:35.811492Z",
     "start_time": "2024-03-28T06:22:35.808011Z"
    }
   },
   "outputs": [
    {
     "data": {
      "text/plain": [
       "[108, 54, 52, 13, 7, 2]"
      ]
     },
     "execution_count": 43,
     "metadata": {},
     "output_type": "execute_result"
    }
   ],
   "source": [
    "# with sorted()\n",
    "numbers = [52, 54, 108, 13, 7, 2]\n",
    "sorted(numbers, reverse=True)"
   ]
  },
  {
   "cell_type": "markdown",
   "metadata": {},
   "source": [
    "This is all well and good, but what if we want to sort using some method other than numerically or alphabetically? For example, we have the following list of tuples describing state populations, and we want to sort the list by population. Just using `.sort()` or `sorted()` does not return the desired result."
   ]
  },
  {
   "cell_type": "code",
   "execution_count": 8,
   "metadata": {
    "ExecuteTime": {
     "end_time": "2024-05-30T13:12:41.889510Z",
     "start_time": "2024-05-30T13:12:41.879954Z"
    }
   },
   "outputs": [
    {
     "data": {
      "text/plain": [
       "[('GuangDong', 10432),\n",
       " ('HeiLongJiang', 3778),\n",
       " ('HuBei', 5902),\n",
       " ('JiLin', 2745),\n",
       " ('ShanDong', 9579),\n",
       " ('YunNan', 4596),\n",
       " ('ZheJiang', 5442)]"
      ]
     },
     "execution_count": 8,
     "metadata": {},
     "output_type": "execute_result"
    }
   ],
   "source": [
    "prov_pop = [('HeiLongJiang', 3778), \n",
    "            ('GuangDong', 10432), \n",
    "            ('YunNan', 4596), \n",
    "            ('HuBei', 5902), \n",
    "            ('ShanDong', 9579), \n",
    "            ('JiLin', 2745), \n",
    "            ('ZheJiang', 5442)]\n",
    "\n",
    "sorted(prov_pop)"
   ]
  },
  {
   "cell_type": "markdown",
   "metadata": {},
   "source": [
    "What we need is some way to tell Python which part of the data to look at when performing the sort. Python provides a way to do this with the `key` parameter, which you can pass to either `.sort()` or `sorted()`. The value passed to the `key` parameter should be a function. When sorting the list, Python will evaluate this function for each item in the list, and will decide how that item should be sorted based on the value returned from the function.\n",
    "\n",
    "So, to perform the task outlined above (sorting the list by the second item in each tuple), we could do something like this."
   ]
  },
  {
   "cell_type": "code",
   "execution_count": 45,
   "metadata": {
    "ExecuteTime": {
     "end_time": "2024-03-28T06:25:34.295627Z",
     "start_time": "2024-03-28T06:25:34.291526Z"
    }
   },
   "outputs": [
    {
     "data": {
      "text/plain": [
       "[('GuangDong', 10432),\n",
       " ('ShanDong', 9579),\n",
       " ('HuBei', 5902),\n",
       " ('ZheJiang', 5442),\n",
       " ('YunNan', 4596),\n",
       " ('HeiLongJiang', 3778),\n",
       " ('JiLin', 2745)]"
      ]
     },
     "execution_count": 45,
     "metadata": {},
     "output_type": "execute_result"
    }
   ],
   "source": [
    "def get_second(t):\n",
    "    return t[1]\n",
    "\n",
    "sorted(prov_pop, key=get_second, reverse=True)"
   ]
  },
  {
   "cell_type": "markdown",
   "metadata": {},
   "source": [
    "Because we specified the `key` parameter, Python calls the `get_second` function for each item in the list. The result of this function (i.e., the second value in the tuple) is then used when sorting the list. We can rewrite this more succinctly using a lambda function."
   ]
  },
  {
   "cell_type": "code",
   "execution_count": null,
   "metadata": {
    "ExecuteTime": {
     "end_time": "2022-10-14T02:28:12.074160Z",
     "start_time": "2022-10-14T02:28:12.067047Z"
    }
   },
   "outputs": [],
   "source": [
    "sorted(prov_pop, key=lambda t: t[1], reverse=True)"
   ]
  },
  {
   "cell_type": "markdown",
   "metadata": {},
   "source": [
    "The expression `lambda t: t[1]` is just a shorter way of writing the function `get_second` above."
   ]
  },
  {
   "cell_type": "code",
   "execution_count": null,
   "metadata": {
    "ExecuteTime": {
     "end_time": "2022-10-14T02:28:12.183756Z",
     "start_time": "2022-10-14T02:28:12.174718Z"
    }
   },
   "outputs": [],
   "source": [
    "prov_pop = [('HeiLongJiang', 3778), \n",
    "            ('GuangDong', 10432), \n",
    "            ('YunNan', 4596), \n",
    "            ('HuBei', 5902), \n",
    "            ('ShanDong', 9579), \n",
    "            ('JiLin', 2745), \n",
    "            ('ZheJiang', 5442)]\n",
    "\n",
    "dic_prov_pop = dict(prov_pop)\n",
    "dic_prov_pop"
   ]
  },
  {
   "cell_type": "code",
   "execution_count": null,
   "metadata": {
    "ExecuteTime": {
     "end_time": "2022-10-14T02:28:12.193636Z",
     "start_time": "2022-10-14T02:28:12.186951Z"
    }
   },
   "outputs": [],
   "source": [
    "dict(sorted(dic_prov_pop.items(), key=lambda t: t[1], reverse=True))"
   ]
  },
  {
   "cell_type": "markdown",
   "metadata": {},
   "source": [
    "### Example: Count the Characters"
   ]
  },
  {
   "cell_type": "code",
   "execution_count": 1,
   "metadata": {
    "ExecuteTime": {
     "end_time": "2024-05-17T03:39:13.283332Z",
     "start_time": "2024-05-17T03:39:13.274739Z"
    }
   },
   "outputs": [
    {
     "data": {
      "text/plain": [
       "{'m': 1, 'i': 4, 's': 4, 'p': 2}"
      ]
     },
     "execution_count": 1,
     "metadata": {},
     "output_type": "execute_result"
    }
   ],
   "source": [
    "str1 = 'mississippi'\n",
    "dict3 = {}\n",
    "\n",
    "for char in str1:\n",
    "    dict3[char] = dict3.get(char, 0) + 1\n",
    "\n",
    "dict3"
   ]
  },
  {
   "cell_type": "markdown",
   "metadata": {},
   "source": [
    "### Example: Organize values to a list having same key"
   ]
  },
  {
   "cell_type": "code",
   "execution_count": 9,
   "metadata": {
    "ExecuteTime": {
     "end_time": "2024-05-30T15:33:05.089698Z",
     "start_time": "2024-05-30T15:33:05.078566Z"
    }
   },
   "outputs": [
    {
     "data": {
      "text/plain": [
       "{'yellow': [1, 3], 'blue': [2, 4], 'red': [1]}"
      ]
     },
     "execution_count": 9,
     "metadata": {},
     "output_type": "execute_result"
    }
   ],
   "source": [
    "list3 = [('yellow', 1), ('blue', 2), ('yellow', 3), ('blue', 4), ('red', 1)]\n",
    "dict4 = {}\n",
    "\n",
    "for (color, freq) in list3:\n",
    "    if color in dict4.keys():\n",
    "        dict4[color].append(freq)\n",
    "    else:\n",
    "        dict4[color] = [freq]\n",
    "\n",
    "dict4"
   ]
  },
  {
   "cell_type": "code",
   "execution_count": 12,
   "metadata": {
    "ExecuteTime": {
     "end_time": "2024-05-30T15:39:50.255977Z",
     "start_time": "2024-05-30T15:39:50.248727Z"
    }
   },
   "outputs": [
    {
     "data": {
      "text/plain": [
       "{'yellow': [1, 3], 'blue': [2, 4], 'red': [1]}"
      ]
     },
     "execution_count": 12,
     "metadata": {},
     "output_type": "execute_result"
    }
   ],
   "source": [
    "list4 = [('yellow', 1), ('blue', 2), ('yellow', 3), ('blue', 4), ('red', 1)]\n",
    "dict5 = {}\n",
    "\n",
    "for (color, freq) in list4:\n",
    "    dict5[color] = dict5.get(color, [])+[freq]\n",
    "    \n",
    "dict5"
   ]
  },
  {
   "cell_type": "markdown",
   "metadata": {
    "ExecuteTime": {
     "end_time": "2023-06-27T07:45:15.780944Z",
     "start_time": "2023-06-27T07:45:15.776167Z"
    },
    "deletable": false,
    "editable": false,
    "nbgrader": {
     "cell_type": "markdown",
     "checksum": "4fed35b5ef79a1603cfbc453c25aafdf",
     "grade": false,
     "grade_id": "cell-7a8ef40b6ebfa9f8",
     "locked": true,
     "schema_version": 3,
     "solution": false,
     "task": false
    }
   },
   "source": [
    "### Exercises"
   ]
  },
  {
   "cell_type": "markdown",
   "metadata": {
    "deletable": false,
    "editable": false,
    "nbgrader": {
     "cell_type": "markdown",
     "checksum": "776dcfb5f1da9045767ad60ecc88360e",
     "grade": false,
     "grade_id": "cell-c35702403d0c0198",
     "locked": true,
     "schema_version": 3,
     "solution": false,
     "task": false
    }
   },
   "source": [
    "**Question**. Define a function ``list_to_dict(list1)`` that **returns** a new dictionary with the indices of the elements in the list as keys and the elements as values using ``enumerate()`` function.\n",
    "\n",
    "**Example**\n",
    "```py\n",
    "list1 = ['Alice', 'Bob', 'Claire', 'Dominic', 'Emily', 'Fiona', 'Gloria']\n",
    "\n",
    "Expected output:\n",
    "{0: 'Alice', 1: 'Bob', 2: 'Claire', 3: 'Dominic', 4: 'Emily', 5: 'Fiona', 6:'Gloria'}\n",
    "```\n",
    "\n",
    "**Hint** \n",
    "* `enumerate()` function is a built-in function for constructing a list of (index, value) tuples\n",
    "\n",
    "* `dict()` function can be used to convert a list into a dictionary"
   ]
  },
  {
   "cell_type": "code",
   "execution_count": 46,
   "metadata": {
    "ExecuteTime": {
     "end_time": "2024-03-28T06:27:39.449267Z",
     "start_time": "2024-03-28T06:27:39.446641Z"
    },
    "deletable": false,
    "nbgrader": {
     "cell_type": "code",
     "checksum": "12268a5f2b718bbc4f109275297c5644",
     "grade": false,
     "grade_id": "cell-5e58627df7514da9",
     "locked": false,
     "schema_version": 3,
     "solution": true,
     "task": false
    }
   },
   "outputs": [],
   "source": [
    "def list_to_dict(list1):\n",
    "    num = []\n",
    "    for i in range(len(list1)):\n",
    "        num.append(i)\n",
    "    res_dict = dict(zip(num, list1))\n",
    "        \n",
    "    return res_dict"
   ]
  },
  {
   "cell_type": "code",
   "execution_count": 47,
   "metadata": {
    "ExecuteTime": {
     "end_time": "2024-03-28T06:28:02.504607Z",
     "start_time": "2024-03-28T06:28:02.501207Z"
    }
   },
   "outputs": [
    {
     "data": {
      "text/plain": [
       "{0: 'Alice',\n",
       " 1: 'Bob',\n",
       " 2: 'Claire',\n",
       " 3: 'Dominic',\n",
       " 4: 'Emily',\n",
       " 5: 'Fiona',\n",
       " 6: 'Gloria'}"
      ]
     },
     "execution_count": 47,
     "metadata": {},
     "output_type": "execute_result"
    }
   ],
   "source": [
    "list1 = ['Alice', 'Bob', 'Claire', 'Dominic', 'Emily', 'Fiona', 'Gloria']\n",
    "list_to_dict(list1)"
   ]
  },
  {
   "cell_type": "code",
   "execution_count": null,
   "metadata": {
    "deletable": false,
    "editable": false,
    "nbgrader": {
     "cell_type": "code",
     "checksum": "8db6199a99dcd91829882f449a704937",
     "grade": true,
     "grade_id": "cell-1ccbc4c0e099f6bf",
     "locked": true,
     "points": 10,
     "schema_version": 3,
     "solution": false,
     "task": false
    }
   },
   "outputs": [],
   "source": []
  },
  {
   "cell_type": "code",
   "execution_count": null,
   "metadata": {
    "deletable": false,
    "editable": false,
    "nbgrader": {
     "cell_type": "code",
     "checksum": "0c633766da4b2d9a5a66798f1d2cf65c",
     "grade": true,
     "grade_id": "cell-9e5f36ec02393906",
     "locked": true,
     "points": 10,
     "schema_version": 3,
     "solution": false,
     "task": false
    }
   },
   "outputs": [],
   "source": []
  },
  {
   "cell_type": "markdown",
   "metadata": {
    "deletable": false,
    "editable": false,
    "nbgrader": {
     "cell_type": "markdown",
     "checksum": "a8e38195071036a3f4479f0d2bd35d7a",
     "grade": false,
     "grade_id": "cell-95b0437fd7531d58",
     "locked": true,
     "schema_version": 3,
     "solution": false,
     "task": false
    }
   },
   "source": [
    "**Question**. Define a function ``list_to_dict(keys, values)`` that converts two lists into a dictionary and **returns** the dictionary. The arguments ``keys`` and ``values`` are lists. \n",
    "\n",
    "**Example** \n",
    "```py\n",
    "keys = ['Ten', 'Twenty', 'Thirty']\n",
    "values = [10, 20, 30]\n",
    "\n",
    "Expected output:\n",
    "{'Ten': 10, 'Twenty': 20, 'Thirty': 30}\n",
    "```\n",
    "\n",
    "**Hint** \n",
    "* option 1: You can use the `zip()` function. This function takes two or more iterables (like list, dict, string), aggregates them in a tuple.\n",
    "\n",
    "* option 2: You can iterate the list using a for loop and `range()` function. In each iteration, add a new key-value pair to the dictionary."
   ]
  },
  {
   "cell_type": "code",
   "execution_count": 52,
   "metadata": {
    "ExecuteTime": {
     "end_time": "2024-03-28T06:29:40.071405Z",
     "start_time": "2024-03-28T06:29:40.069097Z"
    },
    "deletable": false,
    "nbgrader": {
     "cell_type": "code",
     "checksum": "4e56cf698799fef3f056754918657b29",
     "grade": false,
     "grade_id": "cell-cf93c797642a4a7c",
     "locked": false,
     "schema_version": 3,
     "solution": true,
     "task": false
    }
   },
   "outputs": [],
   "source": [
    "def list_to_dict(keys, values):\n",
    "    result = dict(zip(keys, values))\n",
    "    return result"
   ]
  },
  {
   "cell_type": "code",
   "execution_count": null,
   "metadata": {
    "deletable": false,
    "editable": false,
    "nbgrader": {
     "cell_type": "code",
     "checksum": "418aaf1c0fcf2fec90441d0a41bf0251",
     "grade": true,
     "grade_id": "cell-bf1daacf3890a28c",
     "locked": true,
     "points": 10,
     "schema_version": 3,
     "solution": false,
     "task": false
    }
   },
   "outputs": [],
   "source": []
  },
  {
   "cell_type": "code",
   "execution_count": 53,
   "metadata": {
    "ExecuteTime": {
     "end_time": "2024-03-28T06:29:41.167528Z",
     "start_time": "2024-03-28T06:29:41.163873Z"
    }
   },
   "outputs": [
    {
     "data": {
      "text/plain": [
       "{'Ten': 10, 'Twenty': 20, 'Thirty': 30}"
      ]
     },
     "execution_count": 53,
     "metadata": {},
     "output_type": "execute_result"
    }
   ],
   "source": [
    "keys = ['Ten', 'Twenty', 'Thirty']\n",
    "values = [10, 20, 30]\n",
    "list_to_dict(keys, values)"
   ]
  },
  {
   "cell_type": "code",
   "execution_count": null,
   "metadata": {
    "deletable": false,
    "editable": false,
    "nbgrader": {
     "cell_type": "code",
     "checksum": "fa6a1d082fff7405f7e0ee0929a83d6d",
     "grade": true,
     "grade_id": "cell-df1d317c7255c05b",
     "locked": true,
     "points": 10,
     "schema_version": 3,
     "solution": false,
     "task": false
    }
   },
   "outputs": [],
   "source": []
  },
  {
   "cell_type": "markdown",
   "metadata": {
    "deletable": false,
    "editable": false,
    "nbgrader": {
     "cell_type": "markdown",
     "checksum": "4d41e7450513c599ba73eff943bdb24f",
     "grade": false,
     "grade_id": "cell-d32fe3c138131d9a",
     "locked": true,
     "schema_version": 3,
     "solution": false,
     "task": false
    }
   },
   "source": [
    "**Question**. Define a function ``sort_list(list1)`` that **returns** a **tuple** consisting of the original list, the list in ascending order, and the list in descending order.\n",
    "\n",
    "**Example** \n",
    "```py\n",
    "list1 = [10, 1, 9, 2, 8, 3, 7, 4, 6, 5]\n",
    "\n",
    "Expected output:\n",
    "([10, 1, 9, 2, 8, 3, 7, 4, 6, 5], [1, 2, 3, 4, 5, 6, 7, 8, 9, 10], [10, 9, 8, 7, 6, 5, 4, 3, 2, 1])\n",
    "```\n",
    "\n",
    "**Hint** \n",
    "* `list.sort()` modifies the list in place\n",
    "\n",
    "* `sorted()` returns a new list in ascending order"
   ]
  },
  {
   "cell_type": "code",
   "execution_count": 70,
   "metadata": {
    "ExecuteTime": {
     "end_time": "2024-03-28T06:44:41.913518Z",
     "start_time": "2024-03-28T06:44:41.910899Z"
    },
    "deletable": false,
    "nbgrader": {
     "cell_type": "code",
     "checksum": "4ce974091d905d6192ba8bab3dba1db6",
     "grade": false,
     "grade_id": "cell-f1bc32d407e9244a",
     "locked": false,
     "schema_version": 3,
     "solution": true,
     "task": false
    }
   },
   "outputs": [],
   "source": [
    "def sort_list(list1):\n",
    "    return (list1, sorted(list1), sorted(list1, reverse = True))"
   ]
  },
  {
   "cell_type": "code",
   "execution_count": 71,
   "metadata": {
    "ExecuteTime": {
     "end_time": "2024-03-28T06:44:42.537431Z",
     "start_time": "2024-03-28T06:44:42.532809Z"
    }
   },
   "outputs": [
    {
     "data": {
      "text/plain": [
       "([10, 1, 9, 2, 8, 3, 7, 4, 6, 5],\n",
       " [1, 2, 3, 4, 5, 6, 7, 8, 9, 10],\n",
       " [10, 9, 8, 7, 6, 5, 4, 3, 2, 1])"
      ]
     },
     "execution_count": 71,
     "metadata": {},
     "output_type": "execute_result"
    }
   ],
   "source": [
    "list1 = [10, 1, 9, 2, 8, 3, 7, 4, 6, 5]\n",
    "sort_list(list1)"
   ]
  },
  {
   "cell_type": "code",
   "execution_count": null,
   "metadata": {
    "deletable": false,
    "editable": false,
    "nbgrader": {
     "cell_type": "code",
     "checksum": "a69f27cccb9426507e34ac2c3860eaeb",
     "grade": true,
     "grade_id": "cell-6ccd4a7211b6adee",
     "locked": true,
     "points": 10,
     "schema_version": 3,
     "solution": false,
     "task": false
    }
   },
   "outputs": [],
   "source": []
  },
  {
   "cell_type": "code",
   "execution_count": null,
   "metadata": {
    "deletable": false,
    "editable": false,
    "nbgrader": {
     "cell_type": "code",
     "checksum": "363fc281b3cc4822a66985000d0490fe",
     "grade": true,
     "grade_id": "cell-ff831d04aa78d84b",
     "locked": true,
     "points": 10,
     "schema_version": 3,
     "solution": false,
     "task": false
    }
   },
   "outputs": [],
   "source": []
  }
 ],
 "metadata": {
  "kernelspec": {
   "display_name": "Python 3 (ipykernel)",
   "language": "python",
   "name": "python3"
  },
  "language_info": {
   "codemirror_mode": {
    "name": "ipython",
    "version": 3
   },
   "file_extension": ".py",
   "mimetype": "text/x-python",
   "name": "python",
   "nbconvert_exporter": "python",
   "pygments_lexer": "ipython3",
   "version": "3.8.10"
  },
  "latex_envs": {
   "LaTeX_envs_menu_present": true,
   "autoclose": false,
   "autocomplete": true,
   "bibliofile": "biblio.bib",
   "cite_by": "apalike",
   "current_citInitial": 1,
   "eqLabelWithNumbers": true,
   "eqNumInitial": 1,
   "hotkeys": {
    "equation": "Ctrl-E",
    "itemize": "Ctrl-I"
   },
   "labels_anchors": false,
   "latex_user_defs": false,
   "report_style_numbering": false,
   "user_envs_cfg": false
  },
  "toc": {
   "base_numbering": "1",
   "nav_menu": {},
   "number_sections": true,
   "sideBar": true,
   "skip_h1_title": true,
   "title_cell": "Table of Contents",
   "title_sidebar": "Contents",
   "toc_cell": true,
   "toc_position": {
    "height": "47px",
    "left": "1177.640625px",
    "top": "110px",
    "width": "165px"
   },
   "toc_section_display": true,
   "toc_window_display": true
  }
 },
 "nbformat": 4,
 "nbformat_minor": 2
}
