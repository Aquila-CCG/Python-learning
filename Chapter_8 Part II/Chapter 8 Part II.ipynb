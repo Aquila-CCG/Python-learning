{
 "cells": [
  {
   "cell_type": "markdown",
   "id": "aa9dfbf9",
   "metadata": {},
   "source": [
    "Before you turn this problem in, make sure everything runs as expected. First, **restart the kernel** (in the menubar, select Kernel$\\rightarrow$Restart) and then **run all cells** (in the menubar, select Cell$\\rightarrow$Run All).\n",
    "\n",
    "Make sure you fill in any place that says `YOUR CODE HERE` or \"YOUR ANSWER HERE\", as well as your name and collaborators below:"
   ]
  },
  {
   "cell_type": "code",
   "execution_count": null,
   "id": "bf0591d6",
   "metadata": {},
   "outputs": [],
   "source": [
    "NAME = \"\"\n",
    "COLLABORATORS = \"\""
   ]
  },
  {
   "cell_type": "markdown",
   "id": "33c4d948",
   "metadata": {},
   "source": [
    "---"
   ]
  },
  {
   "cell_type": "markdown",
   "id": "04b7a567",
   "metadata": {},
   "source": [
    "# Inheritance"
   ]
  },
  {
   "cell_type": "markdown",
   "id": "251de09c",
   "metadata": {},
   "source": [
    "Inheritance is defined as the mechanism of inheriting the properties of the base class to the child class.\n",
    "\n",
    "Here is an example that we have seen before:"
   ]
  },
  {
   "cell_type": "code",
   "execution_count": null,
   "id": "afdd3cb0",
   "metadata": {},
   "outputs": [],
   "source": [
    "class person:\n",
    "    def __init__(self, name, age):\n",
    "        self.name = name\n",
    "        self.age = age\n",
    "        \n",
    "    def sayhi(self):\n",
    "        print('Hi, I am', self.name, '\\nI am', self.age, 'years old.')\n",
    "        "
   ]
  },
  {
   "cell_type": "code",
   "execution_count": null,
   "id": "2fe6b85a",
   "metadata": {},
   "outputs": [],
   "source": [
    "# student class inherits from person class\n",
    "\n",
    "class student(person):\n",
    "    def __init__(self, name, age, school):\n",
    "        \n",
    "        # reusing person's constructor\n",
    "        # the class of person and student are coupled\n",
    "        person.__init__(self, name, age)\n",
    "        self.school = school\n",
    "    \n",
    "    def sayhi(self):\n",
    "        person.sayhi(self)\n",
    "        print('I am from', self.school)"
   ]
  },
  {
   "cell_type": "markdown",
   "id": "69476df0",
   "metadata": {},
   "source": [
    "# Different Types of Inheritance"
   ]
  },
  {
   "cell_type": "markdown",
   "id": "7695fda4",
   "metadata": {},
   "source": [
    "## Single Inheritance"
   ]
  },
  {
   "cell_type": "markdown",
   "id": "c7103a4d",
   "metadata": {},
   "source": [
    "Single inheritance enables a derived class to inherit properties from a single parent class, thus enabling code reusability and the addition of new features to existing code.\n",
    "\n",
    "<img src=\"./Figures/inheritance11.png\" width = \"380\" height = \"250\" alt=\"图片名称\" align=center /> "
   ]
  },
  {
   "cell_type": "code",
   "execution_count": 1,
   "id": "fc318106",
   "metadata": {
    "ExecuteTime": {
     "end_time": "2024-04-18T06:09:01.822373Z",
     "start_time": "2024-04-18T06:09:01.818936Z"
    }
   },
   "outputs": [],
   "source": [
    "# Base class/Super class\n",
    "class Parent:\n",
    "    def func1(self):\n",
    "        print(\"This function is in parent class.\")"
   ]
  },
  {
   "cell_type": "code",
   "execution_count": 2,
   "id": "16041437",
   "metadata": {
    "ExecuteTime": {
     "end_time": "2024-04-18T06:10:05.005792Z",
     "start_time": "2024-04-18T06:10:05.003593Z"
    }
   },
   "outputs": [],
   "source": [
    "# Derived class\n",
    "class Child(Parent): # show the inheritance relationship\n",
    "    def func2(self):\n",
    "        print(\"This function is in child class.\")"
   ]
  },
  {
   "cell_type": "code",
   "execution_count": 4,
   "id": "0c0a99ab",
   "metadata": {
    "ExecuteTime": {
     "end_time": "2024-04-18T06:10:53.224030Z",
     "start_time": "2024-04-18T06:10:53.112081Z"
    }
   },
   "outputs": [
    {
     "name": "stdout",
     "output_type": "stream",
     "text": [
      "This function is in parent class.\n",
      "This function is in child class.\n"
     ]
    }
   ],
   "source": [
    "# Now, Child class includes two funcions\n",
    "object = Child()\n",
    "object.func1()\n",
    "object.func2()"
   ]
  },
  {
   "cell_type": "markdown",
   "id": "6050b4b8",
   "metadata": {},
   "source": [
    "## Multiple Inheritance"
   ]
  },
  {
   "cell_type": "markdown",
   "id": "a4ae9961",
   "metadata": {},
   "source": [
    "When a class can be derived from more than one base class this type of inheritance is called multiple inheritances. In multiple inheritances, all the features of the base classes are inherited into the derived class. \n",
    "\n",
    "<img src=\"./Figures/multiple-inheritance1.png\" width = \"380\" height = \"250\" alt=\"图片名称\" align=center /> "
   ]
  },
  {
   "cell_type": "code",
   "execution_count": 5,
   "id": "53a2a445",
   "metadata": {
    "ExecuteTime": {
     "end_time": "2024-04-18T06:37:17.877825Z",
     "start_time": "2024-04-18T06:37:17.874598Z"
    }
   },
   "outputs": [],
   "source": [
    "# Base class1\n",
    "class Mother:\n",
    "    mothername = \"\"\n",
    " \n",
    "    def mother(self):\n",
    "        print(self.mothername)"
   ]
  },
  {
   "cell_type": "code",
   "execution_count": 6,
   "id": "61d4af5a",
   "metadata": {
    "ExecuteTime": {
     "end_time": "2024-04-18T06:37:18.573468Z",
     "start_time": "2024-04-18T06:37:18.570935Z"
    }
   },
   "outputs": [],
   "source": [
    "# Base class2\n",
    "class Father:\n",
    "    fathername = \"\"\n",
    " \n",
    "    def father(self):\n",
    "        print(self.fathername)"
   ]
  },
  {
   "cell_type": "code",
   "execution_count": 7,
   "id": "d99886c3",
   "metadata": {
    "ExecuteTime": {
     "end_time": "2024-04-18T06:37:19.196072Z",
     "start_time": "2024-04-18T06:37:19.193499Z"
    }
   },
   "outputs": [],
   "source": [
    "# Derived class\n",
    "class Son(Mother, Father):\n",
    "    def parents(self):\n",
    "        print(\"Father :\", self.fathername)\n",
    "        print(\"Mother :\", self.mothername)"
   ]
  },
  {
   "cell_type": "code",
   "execution_count": 8,
   "id": "1d887fb0",
   "metadata": {
    "ExecuteTime": {
     "end_time": "2024-04-18T06:37:20.020513Z",
     "start_time": "2024-04-18T06:37:20.017434Z"
    }
   },
   "outputs": [
    {
     "name": "stdout",
     "output_type": "stream",
     "text": [
      "Father : RAM\n",
      "Mother : SITA\n"
     ]
    }
   ],
   "source": [
    "s1 = Son()\n",
    "s1.fathername = \"RAM\"\n",
    "s1.mothername = \"SITA\"\n",
    "s1.parents()"
   ]
  },
  {
   "cell_type": "markdown",
   "id": "559d3ae2",
   "metadata": {},
   "source": [
    "## Multilevel Inheritance"
   ]
  },
  {
   "cell_type": "markdown",
   "id": "f4cae99b",
   "metadata": {},
   "source": [
    "In multilevel inheritance, features of the base class and the derived class are further inherited into the new derived class. This is similar to a relationship representing a child and a grandfather. \n",
    "\n",
    "<img src=\"./Figures/Multilevel-inheritance1.png\" width = \"380\" height = \"250\" alt=\"图片名称\" align=center /> "
   ]
  },
  {
   "cell_type": "code",
   "execution_count": 9,
   "id": "eff074d1",
   "metadata": {
    "ExecuteTime": {
     "end_time": "2024-04-18T06:38:03.430060Z",
     "start_time": "2024-04-18T06:38:03.427216Z"
    }
   },
   "outputs": [],
   "source": [
    "# Base class\n",
    "class Grandfather:\n",
    "    def __init__(self, grandfathername):\n",
    "        self.grandfathername = grandfathername"
   ]
  },
  {
   "cell_type": "code",
   "execution_count": 10,
   "id": "e5347721",
   "metadata": {
    "ExecuteTime": {
     "end_time": "2024-04-18T06:38:07.179660Z",
     "start_time": "2024-04-18T06:38:07.176590Z"
    }
   },
   "outputs": [],
   "source": [
    "# Intermediate class\n",
    "class Father(Grandfather):\n",
    "    def __init__(self, fathername, grandfathername):\n",
    "        self.fathername = fathername\n",
    " \n",
    "        # invoking constructor of Grandfather class\n",
    "        Grandfather.__init__(self, grandfathername)"
   ]
  },
  {
   "cell_type": "code",
   "execution_count": 12,
   "id": "0f3aefff",
   "metadata": {
    "ExecuteTime": {
     "end_time": "2024-04-18T06:39:15.310115Z",
     "start_time": "2024-04-18T06:39:15.306702Z"
    }
   },
   "outputs": [],
   "source": [
    "# Derived class\n",
    "class Son(Father):\n",
    "    def __init__(self, sonname, fathername, grandfathername):\n",
    "        self.sonname = sonname\n",
    " \n",
    "        # invoking constructor of Father class 调用 Father 类的构造函数\n",
    "        Father.__init__(self, fathername, grandfathername)\n",
    " \n",
    "    def print_name(self):\n",
    "        print('Grandfather name :', self.grandfathername)\n",
    "        print(\"Father name :\", self.fathername)\n",
    "        print(\"Son name :\", self.sonname)"
   ]
  },
  {
   "cell_type": "code",
   "execution_count": 13,
   "id": "f5b13625",
   "metadata": {
    "ExecuteTime": {
     "end_time": "2024-04-18T06:39:34.989525Z",
     "start_time": "2024-04-18T06:39:34.986232Z"
    }
   },
   "outputs": [
    {
     "name": "stdout",
     "output_type": "stream",
     "text": [
      "Lal mani\n",
      "Grandfather name : Lal mani\n",
      "Father name : Rampal\n",
      "Son name : Prince\n"
     ]
    }
   ],
   "source": [
    "s1 = Son('Prince', 'Rampal', 'Lal mani')\n",
    "print(s1.grandfathername)\n",
    "s1.print_name()"
   ]
  },
  {
   "cell_type": "markdown",
   "id": "66ba652d",
   "metadata": {},
   "source": [
    "## Hierarchical Inheritance"
   ]
  },
  {
   "cell_type": "markdown",
   "id": "34fad2fd",
   "metadata": {},
   "source": [
    "When more than one derived class are created from a single base this type of inheritance is called hierarchical inheritance. In this program, we have a parent (base) class and two child (derived) classes.\n",
    "\n",
    "<img src=\"./Figures/Hierarchical-inheritance1.png\" width = \"380\" height = \"250\" alt=\"图片名称\" align=center /> "
   ]
  },
  {
   "cell_type": "code",
   "execution_count": null,
   "id": "0a096ea8",
   "metadata": {
    "ExecuteTime": {
     "end_time": "2024-04-18T02:38:53.889276Z",
     "start_time": "2024-04-18T02:38:53.886390Z"
    }
   },
   "outputs": [],
   "source": [
    "# Base class\n",
    "class Parent:\n",
    "    def func1(self):\n",
    "        print(\"This function is in parent class.\")"
   ]
  },
  {
   "cell_type": "code",
   "execution_count": null,
   "id": "91120a84",
   "metadata": {
    "ExecuteTime": {
     "end_time": "2024-04-18T02:38:55.474346Z",
     "start_time": "2024-04-18T02:38:55.471977Z"
    }
   },
   "outputs": [],
   "source": [
    "# Derived class1\n",
    "class Child1(Parent):\n",
    "    def func2(self):\n",
    "        print(\"This function is in child 1.\")"
   ]
  },
  {
   "cell_type": "code",
   "execution_count": null,
   "id": "f08bfd9c",
   "metadata": {},
   "outputs": [],
   "source": [
    "# Derivied class2\n",
    "class Child2(Parent):\n",
    "    def func3(self):\n",
    "        print(\"This function is in child 2.\")"
   ]
  },
  {
   "cell_type": "code",
   "execution_count": null,
   "id": "1056b048",
   "metadata": {
    "ExecuteTime": {
     "end_time": "2024-04-18T02:38:57.183830Z",
     "start_time": "2024-04-18T02:38:57.180443Z"
    }
   },
   "outputs": [],
   "source": [
    "object1 = Child1()\n",
    "object2 = Child2()\n",
    "object1.func1()\n",
    "object1.func2()\n",
    "object2.func1()\n",
    "object2.func3()"
   ]
  },
  {
   "cell_type": "markdown",
   "id": "72794879",
   "metadata": {},
   "source": [
    "# Overriding 重写"
   ]
  },
  {
   "cell_type": "markdown",
   "id": "8c219402",
   "metadata": {},
   "source": [
    "Method overriding is an ability of any object-oriented programming language that allows a subclass or child class to provide a specific implementation of a method that is already provided by one of its super-classes or parent classes. When a method in a subclass has the same name, same parameters or signature and same return type(or sub-type) as a method in its super-class, then the method in the subclass is said to override the method in the super-class.\n",
    "\n",
    "<img src=\"./Figures/overriding-in-python.png\" width = \"380\" height = \"250\" alt=\"图片名称\" align=center />"
   ]
  },
  {
   "cell_type": "code",
   "execution_count": null,
   "id": "d130b19e",
   "metadata": {
    "ExecuteTime": {
     "end_time": "2024-04-18T04:34:53.421930Z",
     "start_time": "2024-04-18T04:34:53.419182Z"
    }
   },
   "outputs": [],
   "source": [
    "# Parent class\n",
    "class Animal:\n",
    "    def __init__(self, name):\n",
    "        self.name = name\n",
    "    \n",
    "    def move(self):\n",
    "        print(\"I can move.\")\n",
    "    \n",
    "    def eat(self):\n",
    "        print(\"I can eat.\")\n",
    "        \n",
    "    "
   ]
  },
  {
   "cell_type": "code",
   "execution_count": null,
   "id": "cf4f3289",
   "metadata": {
    "ExecuteTime": {
     "end_time": "2024-04-18T04:39:32.920844Z",
     "start_time": "2024-04-18T04:39:32.916903Z"
    }
   },
   "outputs": [],
   "source": [
    "class Dog(Animal):\n",
    "    def __init__(self, name):\n",
    "        super().__init__(name)\n",
    "        print(\"I am \" + self.name + \", and am a dog.\")\n",
    "    \n",
    "    def move(self):\n",
    "        print(\"I run like a dog.\")\n",
    "        \n",
    "    def bark(self):\n",
    "        print(\"〝(´ᴥ`)〞Woof! Woof!\")"
   ]
  },
  {
   "cell_type": "code",
   "execution_count": null,
   "id": "bf913755",
   "metadata": {
    "ExecuteTime": {
     "end_time": "2024-04-18T04:39:34.420520Z",
     "start_time": "2024-04-18T04:39:34.417494Z"
    }
   },
   "outputs": [],
   "source": [
    "Max = Dog(\"Max\")\n",
    "Max.move()\n",
    "Max.eat()\n",
    "Max.bark()"
   ]
  },
  {
   "cell_type": "code",
   "execution_count": null,
   "id": "3faa49b7",
   "metadata": {},
   "outputs": [],
   "source": [
    "# Practice writing a Cat class using inheritance and overriding\n",
    "# You may improvise as you wish\n",
    "# To maximize code reuse, update the design of Animal class if needed.\n",
    "\n",
    "class Cat():\n",
    "    \n",
    "    def __init__():\n",
    "        pass\n",
    "    \n",
    "    def move():\n",
    "        pass\n",
    "    \n",
    "    def eat():\n",
    "        pass\n",
    "    \n",
    "    def meow():\n",
    "        pass\n",
    "    \n",
    "    "
   ]
  }
 ],
 "metadata": {
  "kernelspec": {
   "display_name": "Python 3 (ipykernel)",
   "language": "python",
   "name": "python3"
  },
  "language_info": {
   "codemirror_mode": {
    "name": "ipython",
    "version": 3
   },
   "file_extension": ".py",
   "mimetype": "text/x-python",
   "name": "python",
   "nbconvert_exporter": "python",
   "pygments_lexer": "ipython3",
   "version": "3.8.10"
  },
  "latex_envs": {
   "LaTeX_envs_menu_present": true,
   "autoclose": false,
   "autocomplete": true,
   "bibliofile": "biblio.bib",
   "cite_by": "apalike",
   "current_citInitial": 1,
   "eqLabelWithNumbers": true,
   "eqNumInitial": 1,
   "hotkeys": {
    "equation": "Ctrl-E",
    "itemize": "Ctrl-I"
   },
   "labels_anchors": false,
   "latex_user_defs": false,
   "report_style_numbering": false,
   "user_envs_cfg": false
  },
  "toc": {
   "base_numbering": 1,
   "nav_menu": {},
   "number_sections": true,
   "sideBar": true,
   "skip_h1_title": false,
   "title_cell": "Table of Contents",
   "title_sidebar": "Contents",
   "toc_cell": false,
   "toc_position": {},
   "toc_section_display": true,
   "toc_window_display": false
  }
 },
 "nbformat": 4,
 "nbformat_minor": 5
}
