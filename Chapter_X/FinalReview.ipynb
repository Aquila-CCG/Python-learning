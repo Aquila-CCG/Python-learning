{
 "cells": [
  {
   "cell_type": "markdown",
   "id": "2687749c",
   "metadata": {},
   "source": [
    "Before you turn this problem in, make sure everything runs as expected. First, **restart the kernel** (in the menubar, select Kernel$\\rightarrow$Restart) and then **run all cells** (in the menubar, select Cell$\\rightarrow$Run All).\n",
    "\n",
    "Make sure you fill in any place that says `YOUR CODE HERE` or \"YOUR ANSWER HERE\", as well as your name and collaborators below:"
   ]
  },
  {
   "cell_type": "code",
   "execution_count": null,
   "id": "4d65b543",
   "metadata": {},
   "outputs": [],
   "source": [
    "NAME = \"Yuxuan Chen\"\n",
    "COLLABORATORS = \"\""
   ]
  },
  {
   "cell_type": "markdown",
   "id": "e17158ca",
   "metadata": {},
   "source": [
    "---"
   ]
  },
  {
   "cell_type": "markdown",
   "id": "f959f1df",
   "metadata": {},
   "source": [
    "Before you turn this problem in, make sure everything runs as expected. First, **restart the kernel** (in the menubar, select Kernel$\\rightarrow$Restart) and then **run all cells** (in the menubar, select Cell$\\rightarrow$Run All).\n",
    "\n",
    "Make sure you fill in any place that says `YOUR CODE HERE` and your name and student_id below"
   ]
  },
  {
   "cell_type": "code",
   "execution_count": null,
   "id": "dedee851",
   "metadata": {
    "ExecuteTime": {
     "end_time": "2023-03-06T11:37:52.315791Z",
     "start_time": "2023-03-06T11:37:52.310648Z"
    }
   },
   "outputs": [],
   "source": [
    "NAME = \"Yuxuan Chen\"\n",
    "STUDENT_ID = \"\""
   ]
  },
  {
   "cell_type": "markdown",
   "id": "9a9c2712",
   "metadata": {},
   "source": [
    "---"
   ]
  },
  {
   "cell_type": "markdown",
   "id": "f2b3bcca",
   "metadata": {},
   "source": [
    "## General programming language for multiple purpose.\n",
    "* Free and Open Source\n",
    "* High-level Language\n",
    "* Cross-Platform\n",
    "* Object-Oriented\n",
    "* Extensible\n",
    "* Extensive Libraries"
   ]
  },
  {
   "cell_type": "markdown",
   "id": "07e11110",
   "metadata": {},
   "source": [
    "## Values\n",
    "### *`Literals`*\n",
    "* Numbers\n",
    "    * integer, (1,2,3...)\n",
    "    * float, (1.23, 4.56...)\n",
    "    * complex number, (c = 1 + 2j...)\n",
    "    * convert (int(), float(), str(), etc.)\n",
    "* Strings\n",
    "    * index\n",
    "    * methods (upper, lower, split, strip, etc.) https://docs.python.org/2/library/string.html\n",
    "* Boolean\n",
    "\n",
    "### *`Variables`*\n",
    "* The first character of the identifier must be a letter of the alphabet (upper or lowercase) or an under- score ('_').\n",
    "* The rest of the identifier name can consist of letters (upper or lowercase), underscores ('_') or digits (0-9).\n",
    "* Identifier names are case-sensitive. For example, **myname** and **myName** are not the same."
   ]
  },
  {
   "cell_type": "code",
   "execution_count": 1,
   "id": "8e6a0f74",
   "metadata": {
    "ExecuteTime": {
     "end_time": "2024-05-20T05:16:06.425380Z",
     "start_time": "2024-05-20T05:16:06.422574Z"
    }
   },
   "outputs": [],
   "source": [
    "a = 1"
   ]
  },
  {
   "cell_type": "code",
   "execution_count": 2,
   "id": "920a5773",
   "metadata": {
    "ExecuteTime": {
     "end_time": "2024-05-20T05:16:08.834378Z",
     "start_time": "2024-05-20T05:16:08.826511Z"
    }
   },
   "outputs": [
    {
     "data": {
      "text/plain": [
       "int"
      ]
     },
     "execution_count": 2,
     "metadata": {},
     "output_type": "execute_result"
    }
   ],
   "source": [
    "type(a)"
   ]
  },
  {
   "cell_type": "code",
   "execution_count": 3,
   "id": "6cb50838",
   "metadata": {
    "ExecuteTime": {
     "end_time": "2024-05-20T05:16:10.205954Z",
     "start_time": "2024-05-20T05:16:10.203737Z"
    }
   },
   "outputs": [],
   "source": [
    "a = 1.5"
   ]
  },
  {
   "cell_type": "code",
   "execution_count": 4,
   "id": "61abfd8b",
   "metadata": {
    "ExecuteTime": {
     "end_time": "2024-05-20T05:16:14.073927Z",
     "start_time": "2024-05-20T05:16:14.070266Z"
    }
   },
   "outputs": [
    {
     "data": {
      "text/plain": [
       "float"
      ]
     },
     "execution_count": 4,
     "metadata": {},
     "output_type": "execute_result"
    }
   ],
   "source": [
    "type(a)"
   ]
  },
  {
   "cell_type": "code",
   "execution_count": 5,
   "id": "77880751",
   "metadata": {
    "ExecuteTime": {
     "end_time": "2024-05-20T05:16:15.689854Z",
     "start_time": "2024-05-20T05:16:15.687750Z"
    }
   },
   "outputs": [],
   "source": [
    "a = 1j + 2"
   ]
  },
  {
   "cell_type": "code",
   "execution_count": 6,
   "id": "b9a09a65",
   "metadata": {
    "ExecuteTime": {
     "end_time": "2024-05-20T05:16:16.496212Z",
     "start_time": "2024-05-20T05:16:16.493052Z"
    }
   },
   "outputs": [
    {
     "data": {
      "text/plain": [
       "complex"
      ]
     },
     "execution_count": 6,
     "metadata": {},
     "output_type": "execute_result"
    }
   ],
   "source": [
    "type(a)"
   ]
  },
  {
   "cell_type": "code",
   "execution_count": 7,
   "id": "523aa5eb",
   "metadata": {
    "ExecuteTime": {
     "end_time": "2024-05-20T05:16:17.544376Z",
     "start_time": "2024-05-20T05:16:17.542166Z"
    }
   },
   "outputs": [],
   "source": [
    "a = 1.23"
   ]
  },
  {
   "cell_type": "code",
   "execution_count": 8,
   "id": "c83d5973",
   "metadata": {
    "ExecuteTime": {
     "end_time": "2024-05-20T05:16:18.592570Z",
     "start_time": "2024-05-20T05:16:18.589225Z"
    }
   },
   "outputs": [
    {
     "data": {
      "text/plain": [
       "float"
      ]
     },
     "execution_count": 8,
     "metadata": {},
     "output_type": "execute_result"
    }
   ],
   "source": [
    "type(a)"
   ]
  },
  {
   "cell_type": "code",
   "execution_count": 9,
   "id": "88fbf0e8",
   "metadata": {
    "ExecuteTime": {
     "end_time": "2024-05-20T05:16:19.641942Z",
     "start_time": "2024-05-20T05:16:19.639580Z"
    }
   },
   "outputs": [],
   "source": [
    "a = int(1.23)"
   ]
  },
  {
   "cell_type": "code",
   "execution_count": 10,
   "id": "e8ce71a5",
   "metadata": {
    "ExecuteTime": {
     "end_time": "2024-05-20T05:16:24.902509Z",
     "start_time": "2024-05-20T05:16:24.898582Z"
    }
   },
   "outputs": [
    {
     "data": {
      "text/plain": [
       "int"
      ]
     },
     "execution_count": 10,
     "metadata": {},
     "output_type": "execute_result"
    }
   ],
   "source": [
    "type(a)"
   ]
  },
  {
   "cell_type": "code",
   "execution_count": 11,
   "id": "fce8bd61",
   "metadata": {
    "ExecuteTime": {
     "end_time": "2024-05-20T05:16:26.979154Z",
     "start_time": "2024-05-20T05:16:26.976971Z"
    }
   },
   "outputs": [],
   "source": [
    "a = float(1)"
   ]
  },
  {
   "cell_type": "code",
   "execution_count": 12,
   "id": "bd573c89",
   "metadata": {
    "ExecuteTime": {
     "end_time": "2024-05-20T05:16:27.795543Z",
     "start_time": "2024-05-20T05:16:27.789964Z"
    }
   },
   "outputs": [
    {
     "data": {
      "text/plain": [
       "float"
      ]
     },
     "execution_count": 12,
     "metadata": {},
     "output_type": "execute_result"
    }
   ],
   "source": [
    "type(a)"
   ]
  },
  {
   "cell_type": "code",
   "execution_count": 13,
   "id": "af62334e",
   "metadata": {
    "ExecuteTime": {
     "end_time": "2024-05-20T05:16:29.934557Z",
     "start_time": "2024-05-20T05:16:29.931705Z"
    }
   },
   "outputs": [],
   "source": [
    "from math import *"
   ]
  },
  {
   "cell_type": "code",
   "execution_count": 14,
   "id": "3564c5e0",
   "metadata": {
    "ExecuteTime": {
     "end_time": "2024-05-20T05:16:32.914379Z",
     "start_time": "2024-05-20T05:16:32.912364Z"
    }
   },
   "outputs": [],
   "source": [
    "a = 1.27"
   ]
  },
  {
   "cell_type": "code",
   "execution_count": 17,
   "id": "c0b9c234",
   "metadata": {
    "ExecuteTime": {
     "end_time": "2024-05-20T05:16:55.298023Z",
     "start_time": "2024-05-20T05:16:55.294217Z"
    }
   },
   "outputs": [
    {
     "data": {
      "text/plain": [
       "1"
      ]
     },
     "execution_count": 17,
     "metadata": {},
     "output_type": "execute_result"
    }
   ],
   "source": [
    "# math.floor() function returns the largest integer not greater than x. \n",
    "# If number is already integer, same number is returned.\n",
    "floor(a)"
   ]
  },
  {
   "cell_type": "code",
   "execution_count": 18,
   "id": "229fddfd",
   "metadata": {
    "ExecuteTime": {
     "end_time": "2024-05-20T05:17:02.218445Z",
     "start_time": "2024-05-20T05:17:02.215060Z"
    }
   },
   "outputs": [
    {
     "data": {
      "text/plain": [
       "2"
      ]
     },
     "execution_count": 18,
     "metadata": {},
     "output_type": "execute_result"
    }
   ],
   "source": [
    "# math.ceil() function returns the smallest integral value greater than the number. \n",
    "# If number is already integer, same number is returned.\n",
    "ceil(a)"
   ]
  },
  {
   "cell_type": "code",
   "execution_count": 19,
   "id": "7d5d2542",
   "metadata": {
    "ExecuteTime": {
     "end_time": "2024-05-20T05:17:36.316490Z",
     "start_time": "2024-05-20T05:17:36.312960Z"
    }
   },
   "outputs": [
    {
     "data": {
      "text/plain": [
       "1.27"
      ]
     },
     "execution_count": 19,
     "metadata": {},
     "output_type": "execute_result"
    }
   ],
   "source": [
    "# math.fabs() function returns the absolute value of the number\n",
    "fabs(a)"
   ]
  },
  {
   "cell_type": "code",
   "execution_count": 20,
   "id": "b562872e",
   "metadata": {
    "ExecuteTime": {
     "end_time": "2024-05-20T05:17:50.075703Z",
     "start_time": "2024-05-20T05:17:50.073365Z"
    }
   },
   "outputs": [],
   "source": [
    "a = str(1.23)"
   ]
  },
  {
   "cell_type": "code",
   "execution_count": 21,
   "id": "1c4a6e2b",
   "metadata": {
    "ExecuteTime": {
     "end_time": "2024-05-20T05:17:51.929380Z",
     "start_time": "2024-05-20T05:17:51.926170Z"
    }
   },
   "outputs": [
    {
     "data": {
      "text/plain": [
       "str"
      ]
     },
     "execution_count": 21,
     "metadata": {},
     "output_type": "execute_result"
    }
   ],
   "source": [
    "type(a)"
   ]
  },
  {
   "cell_type": "code",
   "execution_count": 22,
   "id": "040bcd20",
   "metadata": {
    "ExecuteTime": {
     "end_time": "2024-05-20T05:17:53.936317Z",
     "start_time": "2024-05-20T05:17:53.934099Z"
    }
   },
   "outputs": [],
   "source": [
    "a = ' This is a string. '"
   ]
  },
  {
   "cell_type": "code",
   "execution_count": 23,
   "id": "e24af3fb",
   "metadata": {
    "ExecuteTime": {
     "end_time": "2024-05-20T05:17:55.313841Z",
     "start_time": "2024-05-20T05:17:55.310177Z"
    }
   },
   "outputs": [
    {
     "data": {
      "text/plain": [
       "str"
      ]
     },
     "execution_count": 23,
     "metadata": {},
     "output_type": "execute_result"
    }
   ],
   "source": [
    "type(a)"
   ]
  },
  {
   "cell_type": "code",
   "execution_count": 24,
   "id": "29c317d9",
   "metadata": {
    "ExecuteTime": {
     "end_time": "2024-05-20T05:17:56.924031Z",
     "start_time": "2024-05-20T05:17:56.920747Z"
    }
   },
   "outputs": [
    {
     "data": {
      "text/plain": [
       "['This', 'is', 'a', 'string.']"
      ]
     },
     "execution_count": 24,
     "metadata": {},
     "output_type": "execute_result"
    }
   ],
   "source": [
    "a.split()"
   ]
  },
  {
   "cell_type": "code",
   "execution_count": 25,
   "id": "cd8b7d23",
   "metadata": {
    "ExecuteTime": {
     "end_time": "2024-05-20T05:18:03.743164Z",
     "start_time": "2024-05-20T05:18:03.739375Z"
    }
   },
   "outputs": [
    {
     "data": {
      "text/plain": [
       "'This is a string.'"
      ]
     },
     "execution_count": 25,
     "metadata": {},
     "output_type": "execute_result"
    }
   ],
   "source": [
    "a.strip()"
   ]
  },
  {
   "cell_type": "code",
   "execution_count": 26,
   "id": "2a87f24f",
   "metadata": {
    "ExecuteTime": {
     "end_time": "2024-05-20T05:18:06.848188Z",
     "start_time": "2024-05-20T05:18:06.844770Z"
    }
   },
   "outputs": [
    {
     "data": {
      "text/plain": [
       "' THIS IS A STRING. '"
      ]
     },
     "execution_count": 26,
     "metadata": {},
     "output_type": "execute_result"
    }
   ],
   "source": [
    "a.upper() #全部变成大写"
   ]
  },
  {
   "cell_type": "code",
   "execution_count": 29,
   "id": "3731be0f",
   "metadata": {
    "ExecuteTime": {
     "end_time": "2024-05-20T05:20:37.743122Z",
     "start_time": "2024-05-20T05:20:37.733976Z"
    }
   },
   "outputs": [
    {
     "data": {
      "text/plain": [
       "' this is a string. '"
      ]
     },
     "execution_count": 29,
     "metadata": {},
     "output_type": "execute_result"
    }
   ],
   "source": [
    "a.lower() #全部变成小写"
   ]
  },
  {
   "cell_type": "code",
   "execution_count": 27,
   "id": "fb9b97bd",
   "metadata": {
    "ExecuteTime": {
     "end_time": "2024-05-20T05:20:19.834034Z",
     "start_time": "2024-05-20T05:20:19.821418Z"
    }
   },
   "outputs": [
    {
     "data": {
      "text/plain": [
       "9"
      ]
     },
     "execution_count": 27,
     "metadata": {},
     "output_type": "execute_result"
    }
   ],
   "source": [
    "a.index('a')"
   ]
  },
  {
   "cell_type": "code",
   "execution_count": 28,
   "id": "1eefec92",
   "metadata": {
    "ExecuteTime": {
     "end_time": "2024-05-20T05:20:28.193227Z",
     "start_time": "2024-05-20T05:20:28.179130Z"
    }
   },
   "outputs": [
    {
     "data": {
      "text/plain": [
       "3"
      ]
     },
     "execution_count": 28,
     "metadata": {},
     "output_type": "execute_result"
    }
   ],
   "source": [
    "a.find('is')"
   ]
  },
  {
   "cell_type": "code",
   "execution_count": 30,
   "id": "f83732f2",
   "metadata": {
    "ExecuteTime": {
     "end_time": "2024-05-20T05:20:51.260614Z",
     "start_time": "2024-05-20T05:20:51.250372Z"
    }
   },
   "outputs": [
    {
     "data": {
      "text/plain": [
       "3"
      ]
     },
     "execution_count": 30,
     "metadata": {},
     "output_type": "execute_result"
    }
   ],
   "source": [
    "a.count('s')"
   ]
  },
  {
   "cell_type": "code",
   "execution_count": null,
   "id": "c9cd1525",
   "metadata": {},
   "outputs": [],
   "source": [
    "# Logical Operators"
   ]
  },
  {
   "cell_type": "code",
   "execution_count": 31,
   "id": "432217aa",
   "metadata": {
    "ExecuteTime": {
     "end_time": "2024-05-20T05:20:56.329117Z",
     "start_time": "2024-05-20T05:20:56.326899Z"
    }
   },
   "outputs": [],
   "source": [
    "a = 3\n",
    "b = 5"
   ]
  },
  {
   "cell_type": "code",
   "execution_count": 32,
   "id": "d379e587",
   "metadata": {
    "ExecuteTime": {
     "end_time": "2024-05-20T05:20:57.462049Z",
     "start_time": "2024-05-20T05:20:57.458225Z"
    }
   },
   "outputs": [
    {
     "data": {
      "text/plain": [
       "True"
      ]
     },
     "execution_count": 32,
     "metadata": {},
     "output_type": "execute_result"
    }
   ],
   "source": [
    "a == 3"
   ]
  },
  {
   "cell_type": "code",
   "execution_count": 33,
   "id": "8a0ceb8f",
   "metadata": {
    "ExecuteTime": {
     "end_time": "2024-05-20T05:20:58.326619Z",
     "start_time": "2024-05-20T05:20:58.320224Z"
    }
   },
   "outputs": [
    {
     "data": {
      "text/plain": [
       "False"
      ]
     },
     "execution_count": 33,
     "metadata": {},
     "output_type": "execute_result"
    }
   ],
   "source": [
    "b == 4"
   ]
  },
  {
   "cell_type": "code",
   "execution_count": 34,
   "id": "8d47dd07",
   "metadata": {
    "ExecuteTime": {
     "end_time": "2024-05-20T05:21:01.143263Z",
     "start_time": "2024-05-20T05:21:01.139384Z"
    }
   },
   "outputs": [
    {
     "data": {
      "text/plain": [
       "False"
      ]
     },
     "execution_count": 34,
     "metadata": {},
     "output_type": "execute_result"
    }
   ],
   "source": [
    "a == 3 and b == 4"
   ]
  },
  {
   "cell_type": "code",
   "execution_count": 35,
   "id": "449cb63d",
   "metadata": {
    "ExecuteTime": {
     "end_time": "2024-05-20T05:21:11.702520Z",
     "start_time": "2024-05-20T05:21:11.699032Z"
    }
   },
   "outputs": [
    {
     "data": {
      "text/plain": [
       "True"
      ]
     },
     "execution_count": 35,
     "metadata": {},
     "output_type": "execute_result"
    }
   ],
   "source": [
    "True or False or False"
   ]
  },
  {
   "cell_type": "code",
   "execution_count": 36,
   "id": "333c90a4",
   "metadata": {
    "ExecuteTime": {
     "end_time": "2024-05-20T05:21:14.823287Z",
     "start_time": "2024-05-20T05:21:14.820023Z"
    }
   },
   "outputs": [
    {
     "data": {
      "text/plain": [
       "True"
      ]
     },
     "execution_count": 36,
     "metadata": {},
     "output_type": "execute_result"
    }
   ],
   "source": [
    "True and True and True"
   ]
  },
  {
   "cell_type": "code",
   "execution_count": 37,
   "id": "4450e3f0",
   "metadata": {
    "ExecuteTime": {
     "end_time": "2024-05-20T05:21:18.967793Z",
     "start_time": "2024-05-20T05:21:18.964679Z"
    }
   },
   "outputs": [
    {
     "data": {
      "text/plain": [
       "True"
      ]
     },
     "execution_count": 37,
     "metadata": {},
     "output_type": "execute_result"
    }
   ],
   "source": [
    "a == 3 or b == 4"
   ]
  },
  {
   "cell_type": "code",
   "execution_count": 38,
   "id": "3f93965c",
   "metadata": {
    "ExecuteTime": {
     "end_time": "2024-05-20T05:21:20.202049Z",
     "start_time": "2024-05-20T05:21:20.198531Z"
    }
   },
   "outputs": [
    {
     "data": {
      "text/plain": [
       "False"
      ]
     },
     "execution_count": 38,
     "metadata": {},
     "output_type": "execute_result"
    }
   ],
   "source": [
    "a != 3"
   ]
  },
  {
   "cell_type": "code",
   "execution_count": 39,
   "id": "5a70b7ec",
   "metadata": {
    "ExecuteTime": {
     "end_time": "2024-05-20T05:21:24.062251Z",
     "start_time": "2024-05-20T05:21:24.058628Z"
    }
   },
   "outputs": [
    {
     "data": {
      "text/plain": [
       "8"
      ]
     },
     "execution_count": 39,
     "metadata": {},
     "output_type": "execute_result"
    }
   ],
   "source": [
    "a + b"
   ]
  },
  {
   "cell_type": "code",
   "execution_count": 40,
   "id": "20a6c199",
   "metadata": {
    "ExecuteTime": {
     "end_time": "2024-05-20T05:21:25.262166Z",
     "start_time": "2024-05-20T05:21:25.258509Z"
    }
   },
   "outputs": [
    {
     "data": {
      "text/plain": [
       "-2"
      ]
     },
     "execution_count": 40,
     "metadata": {},
     "output_type": "execute_result"
    }
   ],
   "source": [
    "a - b"
   ]
  },
  {
   "cell_type": "code",
   "execution_count": 41,
   "id": "09f54b84",
   "metadata": {
    "ExecuteTime": {
     "end_time": "2024-05-20T05:21:27.173478Z",
     "start_time": "2024-05-20T05:21:27.167822Z"
    }
   },
   "outputs": [
    {
     "data": {
      "text/plain": [
       "15"
      ]
     },
     "execution_count": 41,
     "metadata": {},
     "output_type": "execute_result"
    }
   ],
   "source": [
    "a * b"
   ]
  },
  {
   "cell_type": "code",
   "execution_count": 42,
   "id": "59bfb079",
   "metadata": {
    "ExecuteTime": {
     "end_time": "2024-05-20T05:21:30.063243Z",
     "start_time": "2024-05-20T05:21:30.060115Z"
    }
   },
   "outputs": [
    {
     "data": {
      "text/plain": [
       "0.6"
      ]
     },
     "execution_count": 42,
     "metadata": {},
     "output_type": "execute_result"
    }
   ],
   "source": [
    "a / b"
   ]
  },
  {
   "cell_type": "code",
   "execution_count": 43,
   "id": "de2491d6",
   "metadata": {
    "ExecuteTime": {
     "end_time": "2024-05-20T05:21:35.124964Z",
     "start_time": "2024-05-20T05:21:35.120820Z"
    }
   },
   "outputs": [
    {
     "data": {
      "text/plain": [
       "3"
      ]
     },
     "execution_count": 43,
     "metadata": {},
     "output_type": "execute_result"
    }
   ],
   "source": [
    "a % b"
   ]
  },
  {
   "cell_type": "code",
   "execution_count": 44,
   "id": "aeb179ac",
   "metadata": {
    "ExecuteTime": {
     "end_time": "2024-05-20T05:21:38.060438Z",
     "start_time": "2024-05-20T05:21:38.057123Z"
    }
   },
   "outputs": [
    {
     "data": {
      "text/plain": [
       "1"
      ]
     },
     "execution_count": 44,
     "metadata": {},
     "output_type": "execute_result"
    }
   ],
   "source": [
    "5 % 4"
   ]
  },
  {
   "cell_type": "code",
   "execution_count": 45,
   "id": "f7016a83",
   "metadata": {
    "ExecuteTime": {
     "end_time": "2024-05-20T05:21:49.168993Z",
     "start_time": "2024-05-20T05:21:49.166444Z"
    }
   },
   "outputs": [],
   "source": [
    "# Concatenation of strings\n",
    "a = 'Hello'\n",
    "b = 'World'"
   ]
  },
  {
   "cell_type": "code",
   "execution_count": 46,
   "id": "6ea3d2a5",
   "metadata": {
    "ExecuteTime": {
     "end_time": "2024-05-20T05:21:50.977679Z",
     "start_time": "2024-05-20T05:21:50.974372Z"
    }
   },
   "outputs": [
    {
     "data": {
      "text/plain": [
       "'HelloWorld'"
      ]
     },
     "execution_count": 46,
     "metadata": {},
     "output_type": "execute_result"
    }
   ],
   "source": [
    "a + b"
   ]
  },
  {
   "cell_type": "markdown",
   "id": "a5b2a8fa",
   "metadata": {},
   "source": [
    "## Functions\n",
    "### *`Syntax`* \n",
    "```py \n",
    "def function_name(arguments): # arguments are not necessary\n",
    "    \"function_docstring\" # not necessary\n",
    "    function_suite\n",
    "    return [expression]  # not necessary\n",
    "```\n",
    "* indentation\n",
    "* **print** is a function you call. Calling **print** will immediately make your program write out text for you to see. Use **print** when you want to show a value to a human. \n",
    "* **return** is a keyword. When a **return** statement is reached, Python will stop the execution of the current function, sending a value out to where the function was called. The Python **return** statement is a key component of functions and methods.\n",
    "\n",
    "### *`Call a function`* \n",
    "```py\n",
    "function_name(arguments)\n",
    "```\n",
    "\n",
    "### *`Anonymous functions`* \n",
    "* **lambda**\n",
    "```\n",
    "<span class=\"mark\"><span class=\"burk\">lambda [arg1 ,arg2,..., argn]: expression</span></span>\n",
    "```\n",
    "\n",
    "### *`Scope of Variables`* \n",
    "* All variables in a program may not be accessible at all locations in that program. This depends on where you have declared a variable.\n",
    "* The scope of a variable determines the portion of the program where you can access a particular identifier. There are two basic scopes of variables in Python.\n",
    "    * **Global variables**\n",
    "    * **Local variables**\n",
    "* When you declare variables inside a function definition, they are not related in any way to other variables with the same names used outside the function i.e. variable names are **local** to the function. This is called the **scope** of the variable.\n",
    "* If you want to assign a value to a name defined outside the function, then you have to tell Python that the name is not local, but it is **global**. We do this using the global statement."
   ]
  },
  {
   "cell_type": "code",
   "execution_count": 47,
   "id": "103f92ca",
   "metadata": {
    "ExecuteTime": {
     "end_time": "2024-05-20T05:35:32.454522Z",
     "start_time": "2024-05-20T05:35:32.452012Z"
    }
   },
   "outputs": [],
   "source": [
    "def Greetings(name):\n",
    "    return 'Hello, ' + name + '!'"
   ]
  },
  {
   "cell_type": "code",
   "execution_count": 48,
   "id": "68f3f825",
   "metadata": {
    "ExecuteTime": {
     "end_time": "2024-05-20T05:35:33.657661Z",
     "start_time": "2024-05-20T05:35:33.654443Z"
    }
   },
   "outputs": [
    {
     "data": {
      "text/plain": [
       "'Hello, Jack!'"
      ]
     },
     "execution_count": 48,
     "metadata": {},
     "output_type": "execute_result"
    }
   ],
   "source": [
    "name = 'Jack'\n",
    "Greetings(name)"
   ]
  },
  {
   "cell_type": "code",
   "execution_count": 49,
   "id": "2cb73c58",
   "metadata": {
    "ExecuteTime": {
     "end_time": "2024-05-20T05:35:53.150095Z",
     "start_time": "2024-05-20T05:35:53.147124Z"
    }
   },
   "outputs": [],
   "source": [
    "def DefaultArgs(a, b, c=10, d=5):\n",
    "    \"\"\"This prints a passed string into this function\"\"\"\n",
    "    return \"a is:\" + str(a) + \"; b is:\" + str(b) + \"; c is:\" + str(c) + \"; d is:\" + str(d)"
   ]
  },
  {
   "cell_type": "code",
   "execution_count": 50,
   "id": "b1a4f1a3",
   "metadata": {
    "ExecuteTime": {
     "end_time": "2024-05-20T05:35:57.345284Z",
     "start_time": "2024-05-20T05:35:57.342115Z"
    }
   },
   "outputs": [
    {
     "data": {
      "text/plain": [
       "'a is:1; b is:2; c is:10; d is:5'"
      ]
     },
     "execution_count": 50,
     "metadata": {},
     "output_type": "execute_result"
    }
   ],
   "source": [
    "# You can set arguments c, d with a default value\n",
    "DefaultArgs(1, 2)"
   ]
  },
  {
   "cell_type": "code",
   "execution_count": 51,
   "id": "91b6aa68",
   "metadata": {
    "ExecuteTime": {
     "end_time": "2024-05-20T05:35:59.315148Z",
     "start_time": "2024-05-20T05:35:59.311784Z"
    }
   },
   "outputs": [
    {
     "data": {
      "text/plain": [
       "'a is:1; b is:2; c is:3; d is:4'"
      ]
     },
     "execution_count": 51,
     "metadata": {},
     "output_type": "execute_result"
    }
   ],
   "source": [
    "DefaultArgs(1, 2, 3, 4)"
   ]
  },
  {
   "cell_type": "code",
   "execution_count": 54,
   "id": "8b2ff3f6",
   "metadata": {
    "ExecuteTime": {
     "end_time": "2024-05-20T05:37:31.713148Z",
     "start_time": "2024-05-20T05:37:31.710354Z"
    }
   },
   "outputs": [],
   "source": [
    "# Function definition is with lambda\n",
    "sum_lambda1 = (lambda arg1, arg2: arg1 + arg2)(10, 20)"
   ]
  },
  {
   "cell_type": "code",
   "execution_count": 55,
   "id": "ebe0f0e1",
   "metadata": {
    "ExecuteTime": {
     "end_time": "2024-05-20T05:37:45.039250Z",
     "start_time": "2024-05-20T05:37:45.035668Z"
    }
   },
   "outputs": [
    {
     "data": {
      "text/plain": [
       "30"
      ]
     },
     "execution_count": 55,
     "metadata": {},
     "output_type": "execute_result"
    }
   ],
   "source": [
    "sum_lambda1"
   ]
  },
  {
   "cell_type": "code",
   "execution_count": 53,
   "id": "978a71c2",
   "metadata": {
    "ExecuteTime": {
     "end_time": "2024-05-20T05:37:04.929414Z",
     "start_time": "2024-05-20T05:37:04.925830Z"
    }
   },
   "outputs": [
    {
     "data": {
      "text/plain": [
       "30"
      ]
     },
     "execution_count": 53,
     "metadata": {},
     "output_type": "execute_result"
    }
   ],
   "source": [
    "(lambda arg1, arg2: arg1 + arg2)(10, 20)"
   ]
  },
  {
   "cell_type": "code",
   "execution_count": 56,
   "id": "b5d0f934",
   "metadata": {
    "ExecuteTime": {
     "end_time": "2024-05-20T05:37:54.504625Z",
     "start_time": "2024-05-20T05:37:54.502496Z"
    }
   },
   "outputs": [],
   "source": [
    "def func1():\n",
    "    res = 1"
   ]
  },
  {
   "cell_type": "code",
   "execution_count": 57,
   "id": "1053917e",
   "metadata": {
    "ExecuteTime": {
     "end_time": "2024-05-20T05:37:55.773632Z",
     "start_time": "2024-05-20T05:37:55.768224Z"
    }
   },
   "outputs": [
    {
     "ename": "NameError",
     "evalue": "name 'res' is not defined",
     "output_type": "error",
     "traceback": [
      "\u001b[0;31m---------------------------------------------------------------------------\u001b[0m",
      "\u001b[0;31mNameError\u001b[0m                                 Traceback (most recent call last)",
      "\u001b[0;32m/tmp/ipykernel_29276/1158820258.py\u001b[0m in \u001b[0;36m<module>\u001b[0;34m\u001b[0m\n\u001b[0;32m----> 1\u001b[0;31m \u001b[0mres\u001b[0m\u001b[0;34m\u001b[0m\u001b[0;34m\u001b[0m\u001b[0m\n\u001b[0m",
      "\u001b[0;31mNameError\u001b[0m: name 'res' is not defined"
     ]
    }
   ],
   "source": [
    "res"
   ]
  },
  {
   "cell_type": "code",
   "execution_count": 59,
   "id": "c502399e",
   "metadata": {
    "ExecuteTime": {
     "end_time": "2024-05-20T05:38:22.693981Z",
     "start_time": "2024-05-20T05:38:22.690119Z"
    }
   },
   "outputs": [
    {
     "data": {
      "text/plain": [
       "1"
      ]
     },
     "execution_count": 59,
     "metadata": {},
     "output_type": "execute_result"
    }
   ],
   "source": [
    "res = 0\n",
    "\n",
    "def func2():\n",
    "    global res\n",
    "    res = 1\n",
    "#     return res\n",
    "\n",
    "func2()\n",
    "\n",
    "res\n",
    "\n",
    "# res"
   ]
  },
  {
   "cell_type": "code",
   "execution_count": 60,
   "id": "bfa3e16a",
   "metadata": {
    "ExecuteTime": {
     "end_time": "2024-05-20T05:38:31.483914Z",
     "start_time": "2024-05-20T05:38:31.480436Z"
    }
   },
   "outputs": [
    {
     "name": "stdout",
     "output_type": "stream",
     "text": [
      "Initial Value: 1\n"
     ]
    }
   ],
   "source": [
    "print(\"Initial Value:\", res)"
   ]
  },
  {
   "cell_type": "code",
   "execution_count": 61,
   "id": "893e5861",
   "metadata": {
    "ExecuteTime": {
     "end_time": "2024-05-20T05:38:33.960207Z",
     "start_time": "2024-05-20T05:38:33.957764Z"
    }
   },
   "outputs": [],
   "source": [
    "func2()"
   ]
  },
  {
   "cell_type": "code",
   "execution_count": 62,
   "id": "d8c05fa3",
   "metadata": {
    "ExecuteTime": {
     "end_time": "2024-05-20T05:38:35.322320Z",
     "start_time": "2024-05-20T05:38:35.318995Z"
    }
   },
   "outputs": [
    {
     "name": "stdout",
     "output_type": "stream",
     "text": [
      "Outside the function global res: 1\n"
     ]
    }
   ],
   "source": [
    "print(\"Outside the function global res:\", res)"
   ]
  },
  {
   "cell_type": "markdown",
   "id": "695df429",
   "metadata": {},
   "source": [
    "## Control Flow\n",
    "### *`if` ... `(elif)` ... `else`*\n",
    "* The **elif** is short for else-if. It allows us to check for multiple test expressions. \n",
    "* If the condition for **if** is False, it checks the condition of the next **elif** block and so on. \n",
    "* If all the conditions are False, the body of **else** is executed. \n",
    "* Only one block among the several **if**...**elif**...**else** blocks is executed according to the test expressions. \n",
    "* The **if** block can have only one **else** block but it can have multiple **elif** blocks. \n",
    "* Syntax\n",
    "```py\n",
    "if Test Expression:\n",
    "    Body of if\n",
    "elif Test Expression:\n",
    "    Body of elif\n",
    "else: \n",
    "    Body of else\n",
    "```\n",
    "\n",
    "### *`while`*\n",
    "* The **while** statement allows you to repeatedly execute a block of statements as long as a condition is *True*. A while statement is an example of what is called a **looping statement**. \n",
    "\n",
    "### *`for`*\n",
    "* The **for** statement is another looping statement which iterates over a sequence of objects i.e. go through each item in a sequence. \n",
    "    * range()\n",
    "        * We can generate a sequence of numbers using the `range()` function. \n",
    "        * We can simple code as `range(stop)`. For example, `range(10)` will generate numbers from 0 to 9 (10 numbers).\n",
    "        * We can also define the start, stop and step size as `range(start, stop, step size)`. `step size` defaults to 1 if not provided.\n",
    "        \n",
    "### *`break`*\n",
    "* The **break** statement is used to break out of a loop statement i.e. stop the execution of a looping statement, even if the loop condition has not become *False* and the sequence of items has not been completely iterated over yet.\n",
    "\n",
    "### *`continue`*\n",
    "* The **continue** statement is used to tell Python to skip the rest of the statements in the **current loop block** and to continue to the next *iteration* of the loop."
   ]
  },
  {
   "cell_type": "code",
   "execution_count": 1,
   "id": "a161bb1d",
   "metadata": {
    "ExecuteTime": {
     "end_time": "2024-05-26T09:07:20.292683Z",
     "start_time": "2024-05-26T09:07:20.288452Z"
    }
   },
   "outputs": [
    {
     "name": "stdout",
     "output_type": "stream",
     "text": [
      "Positive or Zero\n"
     ]
    }
   ],
   "source": [
    "num = 5\n",
    "if num >= 0:\n",
    "    print(\"Positive or Zero\")\n",
    "else:\n",
    "    print(\"Negative number\")"
   ]
  },
  {
   "cell_type": "code",
   "execution_count": 2,
   "id": "b3e171d6",
   "metadata": {
    "ExecuteTime": {
     "end_time": "2024-05-26T09:07:42.431944Z",
     "start_time": "2024-05-26T09:07:42.428133Z"
    }
   },
   "outputs": [
    {
     "name": "stdout",
     "output_type": "stream",
     "text": [
      "The sum is 55\n"
     ]
    }
   ],
   "source": [
    "# Program to add natural numbers up to \n",
    "# sum = 1 + 2 + 3 + ... + n\n",
    "\n",
    "n = 10\n",
    "\n",
    "# initialize sum\n",
    "sum_value = 0\n",
    "\n",
    "# initialize counter\n",
    "i = 1\n",
    "\n",
    "while i <= n:\n",
    "    # add value\n",
    "    sum_value += i\n",
    "    # update counter\n",
    "    i += 1   # i = i + 1\n",
    "\n",
    "# print the sum\n",
    "print(\"The sum is\", sum_value)"
   ]
  },
  {
   "cell_type": "code",
   "execution_count": 3,
   "id": "42c6081d",
   "metadata": {
    "ExecuteTime": {
     "end_time": "2024-05-26T09:07:56.385057Z",
     "start_time": "2024-05-26T09:07:56.381946Z"
    }
   },
   "outputs": [
    {
     "name": "stdout",
     "output_type": "stream",
     "text": [
      "The sum is 55\n"
     ]
    }
   ],
   "source": [
    "# initialize sum\n",
    "sum_value = 0\n",
    "\n",
    "for i in range(1, 11): \n",
    "    sum_value += i\n",
    "\n",
    "# print the sum\n",
    "print(\"The sum is\", sum_value)"
   ]
  },
  {
   "cell_type": "code",
   "execution_count": 4,
   "id": "9cf6afca",
   "metadata": {
    "ExecuteTime": {
     "end_time": "2024-05-26T09:08:17.568168Z",
     "start_time": "2024-05-26T09:08:11.854981Z"
    }
   },
   "outputs": [
    {
     "name": "stdout",
     "output_type": "stream",
     "text": [
      "Enter something: hh\n",
      "Enter something: hh\n",
      "Enter something: quit\n"
     ]
    }
   ],
   "source": [
    "while True:\n",
    "    s = input('Enter something: ')\n",
    "    if s == 'quit':\n",
    "        break"
   ]
  },
  {
   "cell_type": "code",
   "execution_count": 5,
   "id": "94d5f40f",
   "metadata": {
    "ExecuteTime": {
     "end_time": "2024-05-26T09:09:03.702842Z",
     "start_time": "2024-05-26T09:08:45.364092Z"
    }
   },
   "outputs": [
    {
     "name": "stdout",
     "output_type": "stream",
     "text": [
      "Enter something : yuyh\n",
      "Enter something : kgjgjgjgj\n",
      "Input is of sufficient length\n",
      "Enter something : quit\n"
     ]
    }
   ],
   "source": [
    "while True:\n",
    "    s = input('Enter something : ')\n",
    "    if s == 'quit':\n",
    "        break\n",
    "    if len(s) < 5:\n",
    "        continue\n",
    "    print('Input is of sufficient length')\n",
    "    # Do other kinds of processing here..."
   ]
  },
  {
   "cell_type": "code",
   "execution_count": 14,
   "id": "d8b359d5",
   "metadata": {
    "ExecuteTime": {
     "end_time": "2024-05-26T09:12:03.167782Z",
     "start_time": "2024-05-26T09:12:03.164164Z"
    }
   },
   "outputs": [],
   "source": [
    "# Practice\n",
    "# Define a function that retures all odd values in a given list, in ascending order\n",
    "\n",
    "a = [1, 10, 9, 7, 2, 3]\n",
    "\n",
    "b = [1, 3, 7, 9]\n",
    "\n",
    "def odd_numbers(list_arg):\n",
    "    \n",
    "    new_list = []\n",
    "    for item in list_arg:\n",
    "        if ((item % 2) != 0):\n",
    "            new_list.append(item)\n",
    "        \n",
    "    return sorted(new_list, reverse = False)"
   ]
  },
  {
   "cell_type": "code",
   "execution_count": 15,
   "id": "080f83fd",
   "metadata": {
    "ExecuteTime": {
     "end_time": "2024-05-26T09:12:03.861487Z",
     "start_time": "2024-05-26T09:12:03.858120Z"
    }
   },
   "outputs": [
    {
     "data": {
      "text/plain": [
       "[1, 3, 7, 9]"
      ]
     },
     "execution_count": 15,
     "metadata": {},
     "output_type": "execute_result"
    }
   ],
   "source": [
    "odd_numbers(a)"
   ]
  },
  {
   "cell_type": "markdown",
   "id": "8863da9f",
   "metadata": {},
   "source": [
    "## Data Structure\n",
    "### *`list`*\n",
    "* A list is a data structure that holds an ordered collection of items i.e. you can store a **sequence** of items in a list. \n",
    "* List can be written as a list of comma-separated values (items) between square brackets. For example, list1 = ['a', 'b', 'c', 1, 2 ...]. You can put any **object** into the list, even the list itself. For example, list1 = ['a, 'b', [1, 2] ...].\n",
    "* Once you have created a list, you can add, remove or search for items in the list. Since we can add and remove items, we say that a list is a **mutable** data type i.e. this type can be altered.\n",
    "* For other **methods** in **list**, you can reference Python **API** [here](https://docs.python.org/3/tutorial/datastructures.html).\n",
    "\n",
    "### *`tuple`*\n",
    "* A **tuple** is a sequence of **immutable** Python objects. Tuples are sequences, just like lists. The differences between tuples and lists are, the tuples **cannot be changed** unlike lists and tuples use parentheses, whereas lists use square brackets.\n",
    "* Tuples are usually used in cases where a statement or a user-defined function can safely assume that the collection of values i.e. the tuple of values used will not change.\n",
    "\n",
    "### *`set`*\n",
    "* Sets are another type of data structure with no duplicate items. We can apply mathematical set operations on sets.\n",
    "\n",
    "### *`dictionary`*\n",
    "* A dictionary is like an address-book where you can find the address or contact details of a person by knowing only his/her name i.e. we associate **keys** (name) with **values** (details).\n",
    "* Note that you can use **only immutable objects (like strings) for the keys** of a dictionary but you can use either immutable or mutable objects for the values of the dictionary. This is because the key must be **unique** just like you cannot find out the correct information if you have two persons with the exact same name.\n",
    "* Dictionary is a very important data structure. You probably will use it quite a lot during your implementation of the course project. You should be familiar with the dictionary API. Below lists the functions `Dictionary` offers, see [here](https://docs.python.org/3/library/stdtypes.html#typesmapping)"
   ]
  },
  {
   "cell_type": "code",
   "execution_count": 16,
   "id": "3222eaef",
   "metadata": {
    "ExecuteTime": {
     "end_time": "2024-05-26T09:12:11.148381Z",
     "start_time": "2024-05-26T09:12:11.146000Z"
    }
   },
   "outputs": [],
   "source": [
    "list1 = ['physics', 'chemistry', 1997, 2000]\n",
    "list2 = [1, 2, 3, 4, 5, 6, 7 ]"
   ]
  },
  {
   "cell_type": "code",
   "execution_count": 17,
   "id": "6f7dded1",
   "metadata": {
    "ExecuteTime": {
     "end_time": "2024-05-26T09:12:11.982334Z",
     "start_time": "2024-05-26T09:12:11.978975Z"
    }
   },
   "outputs": [
    {
     "data": {
      "text/plain": [
       "'physics'"
      ]
     },
     "execution_count": 17,
     "metadata": {},
     "output_type": "execute_result"
    }
   ],
   "source": [
    "list1[0]"
   ]
  },
  {
   "cell_type": "code",
   "execution_count": 18,
   "id": "84e94f45",
   "metadata": {
    "ExecuteTime": {
     "end_time": "2024-05-26T09:12:19.860472Z",
     "start_time": "2024-05-26T09:12:19.857073Z"
    }
   },
   "outputs": [
    {
     "data": {
      "text/plain": [
       "[2, 3, 4, 5]"
      ]
     },
     "execution_count": 18,
     "metadata": {},
     "output_type": "execute_result"
    }
   ],
   "source": [
    "list2[1:5]"
   ]
  },
  {
   "cell_type": "code",
   "execution_count": 19,
   "id": "a61a8c94",
   "metadata": {
    "ExecuteTime": {
     "end_time": "2024-05-26T09:13:01.275547Z",
     "start_time": "2024-05-26T09:13:01.272100Z"
    }
   },
   "outputs": [
    {
     "data": {
      "text/plain": [
       "['physics', 'chemistry', 2001, 2000]"
      ]
     },
     "execution_count": 19,
     "metadata": {},
     "output_type": "execute_result"
    }
   ],
   "source": [
    "list1[2] = 2001\n",
    "list1"
   ]
  },
  {
   "cell_type": "code",
   "execution_count": 20,
   "id": "255424b3",
   "metadata": {
    "ExecuteTime": {
     "end_time": "2024-05-26T09:13:08.895789Z",
     "start_time": "2024-05-26T09:13:08.892337Z"
    }
   },
   "outputs": [
    {
     "data": {
      "text/plain": [
       "['physics', 'chemistry', 2001, 'xyz']"
      ]
     },
     "execution_count": 20,
     "metadata": {},
     "output_type": "execute_result"
    }
   ],
   "source": [
    "list1[3] = 'xyz'\n",
    "list1"
   ]
  },
  {
   "cell_type": "code",
   "execution_count": 21,
   "id": "7b6a4d27",
   "metadata": {
    "ExecuteTime": {
     "end_time": "2024-05-26T09:13:17.520906Z",
     "start_time": "2024-05-26T09:13:17.517716Z"
    }
   },
   "outputs": [
    {
     "data": {
      "text/plain": [
       "['physics', 'chemistry', 2001, 'xyz', 2022]"
      ]
     },
     "execution_count": 21,
     "metadata": {},
     "output_type": "execute_result"
    }
   ],
   "source": [
    "list1.append(2022) # append a new element at the end of the list\n",
    "list1"
   ]
  },
  {
   "cell_type": "code",
   "execution_count": 22,
   "id": "87a0f5cd",
   "metadata": {
    "ExecuteTime": {
     "end_time": "2024-05-26T09:13:24.222054Z",
     "start_time": "2024-05-26T09:13:24.218604Z"
    }
   },
   "outputs": [
    {
     "data": {
      "text/plain": [
       "['physics', 'chemistry', 'xyz', 2022]"
      ]
     },
     "execution_count": 22,
     "metadata": {},
     "output_type": "execute_result"
    }
   ],
   "source": [
    "del list1[2]\n",
    "list1"
   ]
  },
  {
   "cell_type": "code",
   "execution_count": 23,
   "id": "56510320",
   "metadata": {
    "ExecuteTime": {
     "end_time": "2024-05-26T09:13:29.645627Z",
     "start_time": "2024-05-26T09:13:29.642072Z"
    }
   },
   "outputs": [
    {
     "data": {
      "text/plain": [
       "['physics', 'chemistry', 'xyz']"
      ]
     },
     "execution_count": 23,
     "metadata": {},
     "output_type": "execute_result"
    }
   ],
   "source": [
    "list1.remove(2022)\n",
    "list1"
   ]
  },
  {
   "cell_type": "code",
   "execution_count": 31,
   "id": "6110de29",
   "metadata": {
    "ExecuteTime": {
     "end_time": "2024-05-26T09:14:30.598301Z",
     "start_time": "2024-05-26T09:14:30.594815Z"
    }
   },
   "outputs": [
    {
     "data": {
      "text/plain": [
       "3"
      ]
     },
     "execution_count": 31,
     "metadata": {},
     "output_type": "execute_result"
    }
   ],
   "source": [
    "l1 = [1, 2, 3, 1, 1]\n",
    "l2 = [4, 5, 6]\n",
    "l3 = l1 + l2\n",
    "l3.count(1)"
   ]
  },
  {
   "cell_type": "code",
   "execution_count": 32,
   "id": "9c0d7624",
   "metadata": {
    "ExecuteTime": {
     "end_time": "2024-05-26T09:14:52.457947Z",
     "start_time": "2024-05-26T09:14:52.454171Z"
    }
   },
   "outputs": [
    {
     "data": {
      "text/plain": [
       "[9, 8, 5, 3, 2, 0]"
      ]
     },
     "execution_count": 32,
     "metadata": {},
     "output_type": "execute_result"
    }
   ],
   "source": [
    "list2 = [5, 3, 8, 2, 0, 9]\n",
    "sorted(list2, reverse=True)"
   ]
  },
  {
   "cell_type": "code",
   "execution_count": 34,
   "id": "b228ad5d",
   "metadata": {
    "ExecuteTime": {
     "end_time": "2024-05-26T09:15:13.036063Z",
     "start_time": "2024-05-26T09:15:13.032463Z"
    }
   },
   "outputs": [
    {
     "data": {
      "text/plain": [
       "[36, 49, 64, 81]"
      ]
     },
     "execution_count": 34,
     "metadata": {},
     "output_type": "execute_result"
    }
   ],
   "source": [
    "list1 = [0, 1, 2, 3, 4, 5, 6, 7, 8, 9]\n",
    "[x * x for x in list1 if x > 5]"
   ]
  },
  {
   "cell_type": "code",
   "execution_count": 35,
   "id": "8d6bbc63",
   "metadata": {
    "ExecuteTime": {
     "end_time": "2024-05-26T09:15:19.309205Z",
     "start_time": "2024-05-26T09:15:19.306539Z"
    }
   },
   "outputs": [],
   "source": [
    "prov_name = [\"HeiLongJiang\", \"GuangDong\", \"YunNan\", \"HuBei\", \"ShanDong\", \"JiLin\", \"ZheJiang\"]\n",
    "prov_population = [3778, 10432, 4596, 5902, 9579, 2745, 5442] # with the unit of 10,000"
   ]
  },
  {
   "cell_type": "code",
   "execution_count": 36,
   "id": "d3e7f3ce",
   "metadata": {
    "ExecuteTime": {
     "end_time": "2024-05-26T09:15:21.704444Z",
     "start_time": "2024-05-26T09:15:21.700164Z"
    }
   },
   "outputs": [
    {
     "data": {
      "text/plain": [
       "<zip at 0x7fe218651f80>"
      ]
     },
     "execution_count": 36,
     "metadata": {},
     "output_type": "execute_result"
    }
   ],
   "source": [
    "combo1 = zip(prov_name, prov_population)\n",
    "combo1"
   ]
  },
  {
   "cell_type": "code",
   "execution_count": 37,
   "id": "6a05f940",
   "metadata": {
    "ExecuteTime": {
     "end_time": "2024-05-26T09:15:23.904706Z",
     "start_time": "2024-05-26T09:15:23.901118Z"
    }
   },
   "outputs": [
    {
     "data": {
      "text/plain": [
       "[('HeiLongJiang', 3778),\n",
       " ('GuangDong', 10432),\n",
       " ('YunNan', 4596),\n",
       " ('HuBei', 5902),\n",
       " ('ShanDong', 9579),\n",
       " ('JiLin', 2745),\n",
       " ('ZheJiang', 5442)]"
      ]
     },
     "execution_count": 37,
     "metadata": {},
     "output_type": "execute_result"
    }
   ],
   "source": [
    "list(combo1)"
   ]
  },
  {
   "cell_type": "code",
   "execution_count": 40,
   "id": "6cb3e479",
   "metadata": {
    "ExecuteTime": {
     "end_time": "2024-05-26T09:35:41.207682Z",
     "start_time": "2024-05-26T09:35:41.205132Z"
    }
   },
   "outputs": [],
   "source": [
    "tup1 = ('East',)\n",
    "tup2 = ('Jan', 'Feb', 'Mar', 'Apr', 'May', 'Jun', 'Jul', 'Aug', 'Sep', 'Oct', 'Nov', 'Dec')"
   ]
  },
  {
   "cell_type": "code",
   "execution_count": 41,
   "id": "d97e2b36",
   "metadata": {
    "ExecuteTime": {
     "end_time": "2024-05-26T09:35:42.534181Z",
     "start_time": "2024-05-26T09:35:42.530953Z"
    }
   },
   "outputs": [
    {
     "data": {
      "text/plain": [
       "1"
      ]
     },
     "execution_count": 41,
     "metadata": {},
     "output_type": "execute_result"
    }
   ],
   "source": [
    "len(tup1)"
   ]
  },
  {
   "cell_type": "code",
   "execution_count": 43,
   "id": "440ad199",
   "metadata": {
    "ExecuteTime": {
     "end_time": "2024-05-26T09:35:59.481320Z",
     "start_time": "2024-05-26T09:35:59.478095Z"
    }
   },
   "outputs": [
    {
     "data": {
      "text/plain": [
       "()"
      ]
     },
     "execution_count": 43,
     "metadata": {},
     "output_type": "execute_result"
    }
   ],
   "source": [
    "tup1[3:]"
   ]
  },
  {
   "cell_type": "code",
   "execution_count": 44,
   "id": "6f7e98e5",
   "metadata": {
    "ExecuteTime": {
     "end_time": "2024-05-26T09:36:01.086199Z",
     "start_time": "2024-05-26T09:36:01.083985Z"
    }
   },
   "outputs": [],
   "source": [
    "tup1 = ('East', 'West', 'North', 'South')"
   ]
  },
  {
   "cell_type": "code",
   "execution_count": 45,
   "id": "0e9b94ba",
   "metadata": {
    "ExecuteTime": {
     "end_time": "2024-05-26T09:36:02.554975Z",
     "start_time": "2024-05-26T09:36:02.551876Z"
    }
   },
   "outputs": [
    {
     "data": {
      "text/plain": [
       "'East'"
      ]
     },
     "execution_count": 45,
     "metadata": {},
     "output_type": "execute_result"
    }
   ],
   "source": [
    "tup1[0]"
   ]
  },
  {
   "cell_type": "code",
   "execution_count": 46,
   "id": "7d3cd89b",
   "metadata": {
    "ExecuteTime": {
     "end_time": "2024-05-26T09:36:07.866236Z",
     "start_time": "2024-05-26T09:36:07.859884Z"
    }
   },
   "outputs": [
    {
     "ename": "TypeError",
     "evalue": "'tuple' object does not support item assignment",
     "output_type": "error",
     "traceback": [
      "\u001b[0;31m---------------------------------------------------------------------------\u001b[0m",
      "\u001b[0;31mTypeError\u001b[0m                                 Traceback (most recent call last)",
      "\u001b[0;32m/tmp/ipykernel_42867/1398494986.py\u001b[0m in \u001b[0;36m<module>\u001b[0;34m\u001b[0m\n\u001b[0;32m----> 1\u001b[0;31m \u001b[0mtup1\u001b[0m\u001b[0;34m[\u001b[0m\u001b[0;36m0\u001b[0m\u001b[0;34m]\u001b[0m \u001b[0;34m=\u001b[0m \u001b[0;34m'Middle'\u001b[0m\u001b[0;34m\u001b[0m\u001b[0;34m\u001b[0m\u001b[0m\n\u001b[0m",
      "\u001b[0;31mTypeError\u001b[0m: 'tuple' object does not support item assignment"
     ]
    }
   ],
   "source": [
    "tup1[0] = 'Middle'"
   ]
  },
  {
   "cell_type": "code",
   "execution_count": 48,
   "id": "ca1acfc0",
   "metadata": {
    "ExecuteTime": {
     "end_time": "2024-05-26T09:37:42.634416Z",
     "start_time": "2024-05-26T09:37:42.630560Z"
    }
   },
   "outputs": [
    {
     "data": {
      "text/plain": [
       "{'a', 'b', 'c', 'd', 'e', 'h', 'j', 't', 'w', 'z'}"
      ]
     },
     "execution_count": 48,
     "metadata": {},
     "output_type": "execute_result"
    }
   ],
   "source": [
    "a = set('azbcthabcjwethddda')\n",
    "a"
   ]
  },
  {
   "cell_type": "code",
   "execution_count": null,
   "id": "85806081",
   "metadata": {
    "ExecuteTime": {
     "end_time": "2022-05-14T10:20:18.965411Z",
     "start_time": "2022-05-14T10:20:18.965400Z"
    }
   },
   "outputs": [],
   "source": [
    "a[0]"
   ]
  },
  {
   "cell_type": "code",
   "execution_count": 51,
   "id": "fafa6fdf",
   "metadata": {
    "ExecuteTime": {
     "end_time": "2024-05-26T09:39:21.428795Z",
     "start_time": "2024-05-26T09:39:21.426523Z"
    }
   },
   "outputs": [],
   "source": [
    "a = set('abracadabra')\n",
    "b = set('alacazam')"
   ]
  },
  {
   "cell_type": "code",
   "execution_count": 52,
   "id": "73337103",
   "metadata": {
    "ExecuteTime": {
     "end_time": "2024-05-26T09:39:22.175258Z",
     "start_time": "2024-05-26T09:39:22.171973Z"
    }
   },
   "outputs": [
    {
     "data": {
      "text/plain": [
       "{'a', 'b', 'c', 'd', 'r'}"
      ]
     },
     "execution_count": 52,
     "metadata": {},
     "output_type": "execute_result"
    }
   ],
   "source": [
    "# unique letters in a\n",
    "a"
   ]
  },
  {
   "cell_type": "code",
   "execution_count": 53,
   "id": "d6cb2814",
   "metadata": {
    "ExecuteTime": {
     "end_time": "2024-05-26T09:39:22.782263Z",
     "start_time": "2024-05-26T09:39:22.779311Z"
    }
   },
   "outputs": [
    {
     "data": {
      "text/plain": [
       "{'a', 'c', 'l', 'm', 'z'}"
      ]
     },
     "execution_count": 53,
     "metadata": {},
     "output_type": "execute_result"
    }
   ],
   "source": [
    "# unique letters in b\n",
    "b"
   ]
  },
  {
   "cell_type": "code",
   "execution_count": null,
   "id": "15ffdb8b",
   "metadata": {
    "ExecuteTime": {
     "end_time": "2022-05-14T10:20:18.968762Z",
     "start_time": "2022-05-14T10:20:18.968752Z"
    }
   },
   "outputs": [],
   "source": [
    "a - b # letters in a but not in b"
   ]
  },
  {
   "cell_type": "code",
   "execution_count": null,
   "id": "268fdfe7",
   "metadata": {
    "ExecuteTime": {
     "end_time": "2022-05-14T10:20:18.969654Z",
     "start_time": "2022-05-14T10:20:18.969643Z"
    }
   },
   "outputs": [],
   "source": [
    "a|b  # letters in either a or b"
   ]
  },
  {
   "cell_type": "code",
   "execution_count": null,
   "id": "c65f84ca",
   "metadata": {
    "ExecuteTime": {
     "end_time": "2022-05-14T10:20:18.970512Z",
     "start_time": "2022-05-14T10:20:18.970501Z"
    }
   },
   "outputs": [],
   "source": [
    "a & b  # letters in both a and b"
   ]
  },
  {
   "cell_type": "code",
   "execution_count": null,
   "id": "e6e17c08",
   "metadata": {
    "ExecuteTime": {
     "end_time": "2022-05-14T10:20:18.971257Z",
     "start_time": "2022-05-14T10:20:18.971245Z"
    }
   },
   "outputs": [],
   "source": [
    "a ^ b  # letters in a or b but not both"
   ]
  },
  {
   "cell_type": "code",
   "execution_count": null,
   "id": "59ce72f8",
   "metadata": {
    "ExecuteTime": {
     "end_time": "2022-05-14T10:20:18.972129Z",
     "start_time": "2022-05-14T10:20:18.972119Z"
    }
   },
   "outputs": [],
   "source": [
    "a.add('p')\n",
    "a"
   ]
  },
  {
   "cell_type": "code",
   "execution_count": null,
   "id": "499d02f7",
   "metadata": {
    "ExecuteTime": {
     "end_time": "2022-05-14T10:20:18.972959Z",
     "start_time": "2022-05-14T10:20:18.972948Z"
    }
   },
   "outputs": [],
   "source": [
    "a.remove('c') # Removes the specified element from the set\n",
    "a"
   ]
  },
  {
   "cell_type": "code",
   "execution_count": null,
   "id": "6d30246f",
   "metadata": {
    "ExecuteTime": {
     "end_time": "2022-05-14T10:20:18.973784Z",
     "start_time": "2022-05-14T10:20:18.973774Z"
    }
   },
   "outputs": [],
   "source": [
    "c = a.pop() # Removes a random element from the set\n",
    "print(c)\n",
    "a"
   ]
  },
  {
   "cell_type": "code",
   "execution_count": null,
   "id": "02f9d515",
   "metadata": {
    "ExecuteTime": {
     "end_time": "2022-05-14T10:20:18.974553Z",
     "start_time": "2022-05-14T10:20:18.974542Z"
    }
   },
   "outputs": [],
   "source": [
    "# This is a dictionary, the names are the \"keys\", and emails are the \"values\".\n",
    "dict1 = {'Alice': 'alice@uic.edu.hk', \n",
    "         'Bob': 'bob@uic.edu.hk'}"
   ]
  },
  {
   "cell_type": "code",
   "execution_count": null,
   "id": "24da80e6",
   "metadata": {
    "ExecuteTime": {
     "end_time": "2022-05-14T10:20:18.975380Z",
     "start_time": "2022-05-14T10:20:18.975369Z"
    }
   },
   "outputs": [],
   "source": [
    "dict1"
   ]
  },
  {
   "cell_type": "code",
   "execution_count": null,
   "id": "eaa38aef",
   "metadata": {
    "ExecuteTime": {
     "end_time": "2022-05-14T10:20:18.976263Z",
     "start_time": "2022-05-14T10:20:18.976252Z"
    }
   },
   "outputs": [],
   "source": [
    "dict1['Alice']"
   ]
  },
  {
   "cell_type": "code",
   "execution_count": null,
   "id": "8f4182fc",
   "metadata": {
    "ExecuteTime": {
     "end_time": "2022-05-14T10:20:18.977125Z",
     "start_time": "2022-05-14T10:20:18.977114Z"
    }
   },
   "outputs": [],
   "source": [
    "# Add the new key-value pair\n",
    "dict1['Eric'] = 'eric@uic.edu.hk'\n",
    "dict1"
   ]
  },
  {
   "cell_type": "code",
   "execution_count": null,
   "id": "e50b2d8d",
   "metadata": {
    "ExecuteTime": {
     "end_time": "2022-05-14T10:20:18.977892Z",
     "start_time": "2022-05-14T10:20:18.977881Z"
    }
   },
   "outputs": [],
   "source": [
    "del dict1['Alice']\n",
    "dict1"
   ]
  },
  {
   "cell_type": "code",
   "execution_count": 54,
   "id": "bf104ec7",
   "metadata": {
    "ExecuteTime": {
     "end_time": "2024-05-26T09:41:32.828937Z",
     "start_time": "2024-05-26T09:41:32.825199Z"
    }
   },
   "outputs": [
    {
     "data": {
      "text/plain": [
       "dict_items([('a', 1), ('b', 2), ('c', 3), ('d', 4), ('e', 5), ('f', 6)])"
      ]
     },
     "execution_count": 54,
     "metadata": {},
     "output_type": "execute_result"
    }
   ],
   "source": [
    "dict2 = {'a':1, 'b':2, 'c':3, 'd':4, 'e':5, 'f':6}\n",
    "dict2.items()"
   ]
  },
  {
   "cell_type": "code",
   "execution_count": 55,
   "id": "1cad8ebb",
   "metadata": {
    "ExecuteTime": {
     "end_time": "2024-05-26T09:41:48.740114Z",
     "start_time": "2024-05-26T09:41:48.737354Z"
    }
   },
   "outputs": [
    {
     "name": "stdout",
     "output_type": "stream",
     "text": [
      "('a', 1)\n",
      "('b', 2)\n",
      "('c', 3)\n",
      "('d', 4)\n",
      "('e', 5)\n",
      "('f', 6)\n"
     ]
    }
   ],
   "source": [
    "for key_value_pair in dict2.items():\n",
    "    print(key_value_pair)"
   ]
  },
  {
   "cell_type": "code",
   "execution_count": 56,
   "id": "8bf848e5",
   "metadata": {
    "ExecuteTime": {
     "end_time": "2024-05-26T09:42:04.291529Z",
     "start_time": "2024-05-26T09:42:04.288407Z"
    }
   },
   "outputs": [
    {
     "name": "stdout",
     "output_type": "stream",
     "text": [
      "Key is a, and value is 1\n",
      "Key is b, and value is 2\n",
      "Key is c, and value is 3\n",
      "Key is d, and value is 4\n",
      "Key is e, and value is 5\n",
      "Key is f, and value is 6\n"
     ]
    }
   ],
   "source": [
    "for (key, value) in dict2.items():\n",
    "    print('Key is %s, and value is %d'% (key, value))"
   ]
  },
  {
   "cell_type": "code",
   "execution_count": null,
   "id": "8f10b85a",
   "metadata": {
    "ExecuteTime": {
     "end_time": "2022-05-14T10:20:18.982363Z",
     "start_time": "2022-05-14T10:20:18.982352Z"
    }
   },
   "outputs": [],
   "source": [
    "dict2.get('z', 100) # 100 is the default value when 'z' is not found in dic."
   ]
  },
  {
   "cell_type": "code",
   "execution_count": null,
   "id": "93b4ce4e",
   "metadata": {
    "ExecuteTime": {
     "end_time": "2022-05-14T10:20:18.983199Z",
     "start_time": "2022-05-14T10:20:18.983188Z"
    }
   },
   "outputs": [],
   "source": [
    "elements = [\"hydrogen\", \"helium\", \"lithium\", \"beryllium\", \"boron\"]"
   ]
  },
  {
   "cell_type": "code",
   "execution_count": null,
   "id": "2bb79215",
   "metadata": {
    "ExecuteTime": {
     "end_time": "2022-05-14T10:20:18.984060Z",
     "start_time": "2022-05-14T10:20:18.984050Z"
    }
   },
   "outputs": [],
   "source": [
    "dict1 = {}\n",
    "\n",
    "for index, value in enumerate(elements):\n",
    "    dict1[index] = value\n",
    "\n",
    "dict1"
   ]
  },
  {
   "cell_type": "code",
   "execution_count": null,
   "id": "9caa8218",
   "metadata": {
    "ExecuteTime": {
     "end_time": "2022-05-14T10:20:18.984937Z",
     "start_time": "2022-05-14T10:20:18.984927Z"
    }
   },
   "outputs": [],
   "source": [
    "dict(enumerate(elements))"
   ]
  },
  {
   "cell_type": "code",
   "execution_count": null,
   "id": "3a46fc62",
   "metadata": {
    "ExecuteTime": {
     "end_time": "2023-05-18T05:45:01.180440Z",
     "start_time": "2023-05-18T05:45:01.171790Z"
    }
   },
   "outputs": [],
   "source": [
    "## Practice Exercise - Word counter\n",
    "\n",
    "# Given a list of string, return a dictionary of key:value as string:number of times \n",
    "str1 = \"hello there I am my hello job there is good bad good\"\n",
    "list1 = str1.split()\n",
    "\n",
    "dict1 = {\"hello\": 2, \"there\": 2 }\n",
    "\n",
    "def word_count(list1):\n",
    "    dict1 = {}\n",
    "    for item in list1:\n",
    "        if item not in dict1:\n",
    "            \n",
    "        else:\n",
    "            \n",
    "    \n",
    "    return dict1"
   ]
  },
  {
   "cell_type": "code",
   "execution_count": null,
   "id": "19309d40",
   "metadata": {
    "ExecuteTime": {
     "end_time": "2023-05-18T05:50:25.777693Z",
     "start_time": "2023-05-18T05:50:25.768872Z"
    }
   },
   "outputs": [],
   "source": [
    "## Practice with string (indexing and looping)\n",
    "\n",
    "str1 = \"hello\"\n",
    "\n",
    "# find the reverse of str1 in a function\n",
    "# \"olleh\"\n",
    "\n",
    "new_str = \"\"\n",
    "for c in str1:\n",
    "    new_str = c + new_str\n",
    "    \n",
    "new_str"
   ]
  },
  {
   "cell_type": "markdown",
   "id": "e0370446",
   "metadata": {},
   "source": [
    "## Modules\n",
    "Python has a way to put definitions in a file and use them in a script or in an interactive instance of the interpreter. Such a file is called a **module**; definitions from a **module** can be imported into other **modules** or into the main **module** (the collection of variables that you have access to in a script executed at the top level and in calculator mode).\n",
    "\n",
    "A **module** is a file containing Python definitions and statements. The file name is the **module** name with the suffix .py appended. \n",
    "\n",
    "A **module** allows you to logically organize your Python code. Grouping related code into a **module** makes the code easier to understand and use. A **module** is a Python object with arbitrarily named attributes that you can bind and reference. Simply, a **module** is a file consisting of Python code. A **module** can define functions, classes and variables.\n",
    "\n",
    "### *`import modules`*\n",
    "* import module_name\n",
    "* from modulename import name1, name2, ... nameN\n",
    "* from modulename import *"
   ]
  },
  {
   "cell_type": "code",
   "execution_count": null,
   "id": "5b623d5e",
   "metadata": {
    "ExecuteTime": {
     "end_time": "2022-05-14T10:20:18.985752Z",
     "start_time": "2022-05-14T10:20:18.985741Z"
    }
   },
   "outputs": [],
   "source": [
    "from collections import Counter\n",
    "Counter('abracadabra')"
   ]
  },
  {
   "cell_type": "code",
   "execution_count": null,
   "id": "9852ad39",
   "metadata": {
    "ExecuteTime": {
     "end_time": "2022-05-14T10:20:18.986666Z",
     "start_time": "2022-05-14T10:20:18.986655Z"
    }
   },
   "outputs": [],
   "source": [
    "list3 = [1, 2, 3, 3, 2, 4, 3, 4, 5]\n",
    "Counter(list3)"
   ]
  },
  {
   "cell_type": "code",
   "execution_count": null,
   "id": "b1ee7e4f",
   "metadata": {
    "ExecuteTime": {
     "end_time": "2022-05-14T10:20:18.987636Z",
     "start_time": "2022-05-14T10:20:18.987626Z"
    }
   },
   "outputs": [],
   "source": [
    "dict(Counter(list3))"
   ]
  },
  {
   "cell_type": "markdown",
   "id": "4b3ce5af",
   "metadata": {},
   "source": [
    "## Exeptions and Raise Error\n"
   ]
  },
  {
   "cell_type": "markdown",
   "id": "0b6a51ea",
   "metadata": {
    "ExecuteTime": {
     "end_time": "2022-05-14T10:20:18.988398Z",
     "start_time": "2022-05-14T10:20:18.988387Z"
    }
   },
   "source": [
    "**Example**\n",
    "\n",
    "Define the function `safe_division(numerator, denominator)`. The function should divide the `numerator` by the `denominator` and return the result. Handle the ZeroDivisionError exception within the function and return None if the denominator is zero."
   ]
  },
  {
   "cell_type": "code",
   "execution_count": null,
   "id": "18b79e65",
   "metadata": {
    "ExecuteTime": {
     "end_time": "2023-07-18T00:31:10.517247Z",
     "start_time": "2023-07-18T00:31:10.514558Z"
    }
   },
   "outputs": [],
   "source": [
    "def safe_division(numerator, denominator):\n",
    "    \n",
    "    \n",
    "    try:\n",
    "        result = numerator / denominator\n",
    "    except ZeroDivisionError:\n",
    "        return None\n",
    "    \n",
    "    \n",
    "    if result > 1e+8 or result < -1e+8:\n",
    "        raise Exception(\"ValueError\")\n",
    "   \n",
    "    else:\n",
    "        return result\n",
    "    \n",
    "        "
   ]
  },
  {
   "cell_type": "code",
   "execution_count": null,
   "id": "2ce6cd43",
   "metadata": {
    "ExecuteTime": {
     "end_time": "2023-07-18T00:31:10.823271Z",
     "start_time": "2023-07-18T00:31:10.808682Z"
    }
   },
   "outputs": [],
   "source": [
    "safe_division(1000000, 0.0000000000001)"
   ]
  },
  {
   "cell_type": "markdown",
   "id": "9987e2c5",
   "metadata": {},
   "source": [
    "## Classes\n",
    "### *`Class Definition Syntax`*\n",
    "The simplest form of class definition looks like this:\n",
    "```py\n",
    "class ClassName:\n",
    "    <statement-1>\n",
    "    .\n",
    "    .\n",
    "    .\n",
    "    <statement-N>\n",
    "```\n",
    "* Class definitions, like function definitions (def statements) must be executed before they have any effect. \n",
    "* In practice, the statements inside a class definition will usually be function definitions, but other statements are allowed. \n",
    "\n",
    "### *`Class Attributes and Instance Attributes`*\n",
    "* An attribute, feature, quality, or characteristic of something or someone. Usually an \"attribute\" is used to denote a specific ability or characteristic which something or someone has.\n",
    "* **Class attributes** are attributes which are owned by the class itself. They will be shared by all the instances of the class. Therefore they have the same value for every instance. We define class attributes outside of all the methods, usually they are placed at the top, right below the class header. \n",
    "* **Instance attributes** are owned by the specific instances of a class. This means for two different instances the instance attributes are usually different. \n",
    "\n",
    "### *`Method`*\n",
    "* A method differs from a function only in two aspects:\n",
    "    * It belongs to a class, and it is defined within a class.\n",
    "    * The first parameter in the definition of a method has to be a reference to the instance, which called the method. This parameter is usually called `self`.\n",
    "    * `self` represents the instance of the class. By using the “self” keyword we can access the attributes and methods of the class in python. It binds the attributes with the given arguments.\n",
    "* The `__init__` method is called \"constructor\", and is run as soon as an object of a class is *instantiated*. The method is useful to do any initialization you want to do with your object. Notice the double underscore both in the beginning and at the end in the name.\n",
    "* `__init__` is a method which is immediately and automatically called after an instance has been created. This name is fixed and it is not possible to chose another name.\n",
    "* The `__init__` method can be anywhere in a class definition, but it is usually the first method of a class, i.e. it follows right after the class header."
   ]
  },
  {
   "cell_type": "code",
   "execution_count": 83,
   "id": "eb945d9a",
   "metadata": {
    "ExecuteTime": {
     "end_time": "2024-05-26T13:44:41.003715Z",
     "start_time": "2024-05-26T13:44:40.999103Z"
    }
   },
   "outputs": [],
   "source": [
    "class Employee:\n",
    "    empCount = 0 # class variable\n",
    "\n",
    "    def __init__(self, name, salary): # Initialize the object\n",
    "        self.name = name # object variable\n",
    "        self.salary = salary # object variable\n",
    "        Employee.empCount += 1\n",
    "   \n",
    "    def displayCount(): \n",
    "        print(\"Total Employee %d\" % Employee.empCount)\n",
    "        \n",
    "    def sayHi(self):\n",
    "        print(self.name, 'says hello')\n",
    "\n",
    "    def displaySelf(self):\n",
    "        print(\"Name : %s's salary is: %d\"% (self.name, self.salary))\n",
    "    \n",
    "    def __del__(self):\n",
    "        print('%s is dead'% self.name)\n",
    "        Employee.empCount -= 1 "
   ]
  },
  {
   "cell_type": "code",
   "execution_count": 84,
   "id": "1475a284",
   "metadata": {
    "ExecuteTime": {
     "end_time": "2024-05-26T13:44:42.322229Z",
     "start_time": "2024-05-26T13:44:42.319742Z"
    }
   },
   "outputs": [],
   "source": [
    "Bob = Employee('Bob', 100)"
   ]
  },
  {
   "cell_type": "code",
   "execution_count": 85,
   "id": "a5bb5bb1",
   "metadata": {
    "ExecuteTime": {
     "end_time": "2024-05-26T13:44:51.988215Z",
     "start_time": "2024-05-26T13:44:51.982811Z"
    }
   },
   "outputs": [
    {
     "name": "stdout",
     "output_type": "stream",
     "text": [
      "Total Employee 1\n"
     ]
    }
   ],
   "source": [
    "Employee.displayCount()"
   ]
  },
  {
   "cell_type": "code",
   "execution_count": 86,
   "id": "f3212c2d",
   "metadata": {
    "ExecuteTime": {
     "end_time": "2024-05-26T13:44:57.750259Z",
     "start_time": "2024-05-26T13:44:57.746723Z"
    }
   },
   "outputs": [
    {
     "data": {
      "text/plain": [
       "{'name': 'Bob', 'salary': 100}"
      ]
     },
     "execution_count": 86,
     "metadata": {},
     "output_type": "execute_result"
    }
   ],
   "source": [
    "Bob.__dict__"
   ]
  },
  {
   "cell_type": "code",
   "execution_count": 87,
   "id": "520a8a6b",
   "metadata": {
    "ExecuteTime": {
     "end_time": "2024-05-26T13:45:01.427405Z",
     "start_time": "2024-05-26T13:45:01.423593Z"
    }
   },
   "outputs": [
    {
     "data": {
      "text/plain": [
       "mappingproxy({'__module__': '__main__',\n",
       "              'empCount': 1,\n",
       "              '__init__': <function __main__.Employee.__init__(self, name, salary)>,\n",
       "              'displayCount': <function __main__.Employee.displayCount()>,\n",
       "              'sayHi': <function __main__.Employee.sayHi(self)>,\n",
       "              'displaySelf': <function __main__.Employee.displaySelf(self)>,\n",
       "              '__del__': <function __main__.Employee.__del__(self)>,\n",
       "              '__dict__': <attribute '__dict__' of 'Employee' objects>,\n",
       "              '__weakref__': <attribute '__weakref__' of 'Employee' objects>,\n",
       "              '__doc__': None})"
      ]
     },
     "execution_count": 87,
     "metadata": {},
     "output_type": "execute_result"
    }
   ],
   "source": [
    "Employee.__dict__"
   ]
  },
  {
   "cell_type": "code",
   "execution_count": 88,
   "id": "1530e76f",
   "metadata": {
    "ExecuteTime": {
     "end_time": "2024-05-26T13:45:08.298393Z",
     "start_time": "2024-05-26T13:45:08.295482Z"
    }
   },
   "outputs": [
    {
     "name": "stdout",
     "output_type": "stream",
     "text": [
      "Name : Alice's salary is: 200\n"
     ]
    }
   ],
   "source": [
    "Alice = Employee('Alice', 200)\n",
    "Alice.displaySelf()"
   ]
  },
  {
   "cell_type": "markdown",
   "id": "2e7cfcbc",
   "metadata": {},
   "source": [
    "* `displayCount()` method belongs to the class, not a specific object, because it does not have any input argument (not even *self*). Thus, `displayCount()` method cannot be called by an object (can only be called by class name `Employee`."
   ]
  },
  {
   "cell_type": "code",
   "execution_count": 89,
   "id": "03c89602",
   "metadata": {
    "ExecuteTime": {
     "end_time": "2024-05-26T13:45:30.963488Z",
     "start_time": "2024-05-26T13:45:30.960301Z"
    }
   },
   "outputs": [
    {
     "name": "stdout",
     "output_type": "stream",
     "text": [
      "Total Employee 2\n"
     ]
    }
   ],
   "source": [
    "Employee.displayCount()"
   ]
  },
  {
   "cell_type": "code",
   "execution_count": 90,
   "id": "7ebd68b6",
   "metadata": {
    "ExecuteTime": {
     "end_time": "2024-05-26T13:45:40.758709Z",
     "start_time": "2024-05-26T13:45:40.755840Z"
    }
   },
   "outputs": [
    {
     "name": "stdout",
     "output_type": "stream",
     "text": [
      "Bob is dead\n"
     ]
    }
   ],
   "source": [
    "del Bob"
   ]
  },
  {
   "cell_type": "code",
   "execution_count": null,
   "id": "53af5aff",
   "metadata": {
    "ExecuteTime": {
     "end_time": "2022-05-14T10:20:19.003092Z",
     "start_time": "2022-05-14T10:20:19.003082Z"
    }
   },
   "outputs": [],
   "source": [
    "print(Bob)"
   ]
  },
  {
   "cell_type": "code",
   "execution_count": null,
   "id": "26e9a79e",
   "metadata": {
    "ExecuteTime": {
     "end_time": "2022-05-14T10:20:19.003899Z",
     "start_time": "2022-05-14T10:20:19.003888Z"
    }
   },
   "outputs": [],
   "source": [
    "Employee.displayCount()"
   ]
  },
  {
   "cell_type": "markdown",
   "id": "de8f6981",
   "metadata": {},
   "source": [
    "* Note that the class variable \"empCount\" is a `reference` belonging to the **class**, existing in every `Employee` object.\n",
    "* Differently, `Bob` and `Alice` has distinct object variable `name` and `salary`. "
   ]
  }
 ],
 "metadata": {
  "kernelspec": {
   "display_name": "Python 3 (ipykernel)",
   "language": "python",
   "name": "python3"
  },
  "language_info": {
   "codemirror_mode": {
    "name": "ipython",
    "version": 3
   },
   "file_extension": ".py",
   "mimetype": "text/x-python",
   "name": "python",
   "nbconvert_exporter": "python",
   "pygments_lexer": "ipython3",
   "version": "3.8.10"
  },
  "latex_envs": {
   "LaTeX_envs_menu_present": true,
   "autoclose": false,
   "autocomplete": true,
   "bibliofile": "biblio.bib",
   "cite_by": "apalike",
   "current_citInitial": 1,
   "eqLabelWithNumbers": true,
   "eqNumInitial": 1,
   "hotkeys": {
    "equation": "Ctrl-E",
    "itemize": "Ctrl-I"
   },
   "labels_anchors": false,
   "latex_user_defs": false,
   "report_style_numbering": false,
   "user_envs_cfg": false
  },
  "toc": {
   "base_numbering": 1,
   "nav_menu": {},
   "number_sections": true,
   "sideBar": true,
   "skip_h1_title": false,
   "title_cell": "Table of Contents",
   "title_sidebar": "Contents",
   "toc_cell": false,
   "toc_position": {
    "height": "calc(100% - 180px)",
    "left": "10px",
    "top": "150px",
    "width": "269px"
   },
   "toc_section_display": true,
   "toc_window_display": true
  }
 },
 "nbformat": 4,
 "nbformat_minor": 5
}
