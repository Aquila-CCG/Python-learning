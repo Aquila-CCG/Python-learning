{
 "cells": [
  {
   "cell_type": "markdown",
   "id": "05a07e24",
   "metadata": {},
   "source": [
    "Before you turn this problem in, make sure everything runs as expected. First, **restart the kernel** (in the menubar, select Kernel$\\rightarrow$Restart) and then **run all cells** (in the menubar, select Cell$\\rightarrow$Run All).\n",
    "\n",
    "Make sure you fill in any place that says `YOUR CODE HERE` or \"YOUR ANSWER HERE\", as well as your name and collaborators below:"
   ]
  },
  {
   "cell_type": "code",
   "execution_count": null,
   "id": "ac88c7af",
   "metadata": {},
   "outputs": [],
   "source": [
    "NAME = \"\"\n",
    "COLLABORATORS = \"\""
   ]
  },
  {
   "cell_type": "markdown",
   "id": "d6c8a9cb",
   "metadata": {},
   "source": [
    "---"
   ]
  },
  {
   "cell_type": "markdown",
   "id": "16b6eb96",
   "metadata": {},
   "source": [
    "## `if` statement\n",
    "\n",
    "```py\n",
    "if *conditional_test*:\n",
    "    do something\n",
    "```"
   ]
  },
  {
   "cell_type": "code",
   "execution_count": 1,
   "id": "1afc1692",
   "metadata": {
    "ExecuteTime": {
     "end_time": "2024-05-26T13:50:25.914373Z",
     "start_time": "2024-05-26T13:50:25.910371Z"
    }
   },
   "outputs": [
    {
     "name": "stdout",
     "output_type": "stream",
     "text": [
      "MERCEDES\n",
      "Audi\n",
      "BMW\n",
      "SUBARU\n",
      "TOYOTA\n"
     ]
    }
   ],
   "source": [
    "cars = ['mercedes', 'audi', 'bmw', 'subaru', 'toyota']\n",
    "\n",
    "for i in cars:\n",
    "    if i == 'audi':\n",
    "        print(i.title())\n",
    "    else:\n",
    "        print(i.upper())"
   ]
  },
  {
   "cell_type": "markdown",
   "id": "4818b9a0",
   "metadata": {},
   "source": [
    "## `if-else` statement\n",
    "\n",
    "```py\n",
    "if *conditional_test*:\n",
    "    do something\n",
    "else:\n",
    "    do something\n",
    "```"
   ]
  },
  {
   "cell_type": "code",
   "execution_count": 2,
   "id": "c12312d9",
   "metadata": {
    "ExecuteTime": {
     "end_time": "2024-05-26T13:50:49.512963Z",
     "start_time": "2024-05-26T13:50:46.195273Z"
    }
   },
   "outputs": [
    {
     "name": "stdout",
     "output_type": "stream",
     "text": [
      "What's your age:588\n",
      "You are old enough to buy alcohol!\n"
     ]
    }
   ],
   "source": [
    "age = int(input(\"What's your age:\"))\n",
    "\n",
    "if age >= 21:\n",
    "    print(\"You are old enough to buy alcohol!\")\n",
    "else:\n",
    "    print(\"Sorry, I can't sell alcohol to you!\")"
   ]
  },
  {
   "cell_type": "markdown",
   "id": "03034337",
   "metadata": {},
   "source": [
    "## `if-elif-else` statement\n",
    "\n",
    "```py\n",
    "if *conditional_test*:\n",
    "    do something\n",
    "elif *conditional_test*:\n",
    "    do something\n",
    "else:\n",
    "    do something\n",
    "```"
   ]
  },
  {
   "cell_type": "code",
   "execution_count": 3,
   "id": "50651624-840e-450c-bc3e-ec03e62dee61",
   "metadata": {
    "ExecuteTime": {
     "end_time": "2024-05-26T13:51:03.755141Z",
     "start_time": "2024-05-26T13:50:59.340735Z"
    }
   },
   "outputs": [
    {
     "name": "stdout",
     "output_type": "stream",
     "text": [
      "What's your age:54\n",
      "You are old enough to buy alcohol!\n"
     ]
    }
   ],
   "source": [
    "age = int(input(\"What's your age:\"))\n",
    "\n",
    "if age >= 21:\n",
    "    print(\"You are old enough to buy alcohol!\")\n",
    "elif age >= 18:\n",
    "    print(\"You are old enough to vote!\")\n",
    "elif age >= 16:\n",
    "    print(\"You are old enough to get a driver license!\")\n",
    "else:\n",
    "    print(\"You are too young to do anything\")"
   ]
  },
  {
   "cell_type": "code",
   "execution_count": 4,
   "id": "3e80eff3",
   "metadata": {
    "ExecuteTime": {
     "end_time": "2024-05-26T13:51:11.656046Z",
     "start_time": "2024-05-26T13:51:08.387796Z"
    }
   },
   "outputs": [
    {
     "name": "stdout",
     "output_type": "stream",
     "text": [
      "What's your age:88\n",
      "Your ticket price is $80\n"
     ]
    }
   ],
   "source": [
    "age = int(input(\"What's your age:\"))\n",
    "\n",
    "if age < 4:\n",
    "    print(\"Your ticket price is $0\")\n",
    "elif age <= 18:\n",
    "    print(\"Your ticket price is $50\")\n",
    "else:\n",
    "    print(\"Your ticket price is $80\")"
   ]
  },
  {
   "cell_type": "code",
   "execution_count": 5,
   "id": "2734fae7",
   "metadata": {
    "ExecuteTime": {
     "end_time": "2024-05-26T13:51:24.640969Z",
     "start_time": "2024-05-26T13:51:21.037581Z"
    }
   },
   "outputs": [
    {
     "name": "stdout",
     "output_type": "stream",
     "text": [
      "What's your age:8\n",
      "Your ticket price is 50\n"
     ]
    }
   ],
   "source": [
    "age = int(input(\"What's your age:\"))\n",
    "\n",
    "if age < 4:\n",
    "    price = 0\n",
    "elif age <= 18:\n",
    "    price = 50\n",
    "elif age <= 25:\n",
    "    price = 80\n",
    "elif age <= 65:\n",
    "    price = 100\n",
    "elif age > 65:\n",
    "    price = 20\n",
    "    \n",
    "print(f\"Your ticket price is {price}\")\n",
    "#print(\"Your ticket price is \" + str(price))"
   ]
  },
  {
   "cell_type": "markdown",
   "id": "c6d7a700",
   "metadata": {},
   "source": [
    "## Exercise 1\n",
    "\n",
    "Define a function exe1(), \n",
    "\n",
    "- a. use `if-elif-else` statements to create a point counter\n",
    "\n",
    "- b. if color is equal to `'Green'`, you will have 10 points\n",
    "\n",
    "- c. if color is equal to `'Yellow'`, you will have 20 points\n",
    "\n",
    "- d. if color is equal to `'Red'`, you will have 30 points\n",
    "\n",
    "- e. if color is equal to `anything else`, you will have 5 points"
   ]
  },
  {
   "cell_type": "code",
   "execution_count": 6,
   "id": "b90ab607",
   "metadata": {
    "ExecuteTime": {
     "end_time": "2024-05-26T13:53:06.956814Z",
     "start_time": "2024-05-26T13:53:06.952908Z"
    }
   },
   "outputs": [],
   "source": [
    "def exe1(color):\n",
    "    point = 0\n",
    "    if color == 'Green':\n",
    "        point = 10\n",
    "    elif color == 'Yellow':\n",
    "        point = 20\n",
    "    elif color == 'Red':\n",
    "        point = 30\n",
    "    else:\n",
    "        point = 5\n",
    "    return point"
   ]
  },
  {
   "cell_type": "code",
   "execution_count": 10,
   "id": "b2117baf",
   "metadata": {
    "ExecuteTime": {
     "end_time": "2024-05-26T13:53:35.626852Z",
     "start_time": "2024-05-26T13:53:35.622651Z"
    }
   },
   "outputs": [
    {
     "data": {
      "text/plain": [
       "5"
      ]
     },
     "execution_count": 10,
     "metadata": {},
     "output_type": "execute_result"
    }
   ],
   "source": [
    "exe1('dhjh')"
   ]
  },
  {
   "cell_type": "code",
   "execution_count": 15,
   "id": "d27f1d8a",
   "metadata": {
    "ExecuteTime": {
     "end_time": "2024-05-26T13:56:43.739299Z",
     "start_time": "2024-05-26T13:56:43.737143Z"
    }
   },
   "outputs": [],
   "source": [
    "assert exe1(\"Green\") == 10\n",
    "assert exe1('Yellow') == 20"
   ]
  },
  {
   "cell_type": "markdown",
   "id": "881fa60c",
   "metadata": {},
   "source": [
    "## Exercise 2\n",
    "\n",
    "Define a function `exe2(number1, number2, number3)`, compare the three arguments `number1`, `number2`, and `number3`, return the largest number. "
   ]
  },
  {
   "cell_type": "code",
   "execution_count": 16,
   "id": "d30b9756",
   "metadata": {
    "ExecuteTime": {
     "end_time": "2024-05-26T13:57:28.089805Z",
     "start_time": "2024-05-26T13:57:28.086517Z"
    }
   },
   "outputs": [],
   "source": [
    "def exe2(number1, number2, number3):\n",
    "    # your code here\n",
    "    res = number1\n",
    "    if number2 > res:\n",
    "        res = number2\n",
    "    if number3 > res:\n",
    "        res = number3\n",
    "    return res\n",
    "    "
   ]
  },
  {
   "cell_type": "code",
   "execution_count": 17,
   "id": "bf3093ec",
   "metadata": {
    "ExecuteTime": {
     "end_time": "2024-05-26T13:57:28.640166Z",
     "start_time": "2024-05-26T13:57:28.636599Z"
    }
   },
   "outputs": [
    {
     "data": {
      "text/plain": [
       "10"
      ]
     },
     "execution_count": 17,
     "metadata": {},
     "output_type": "execute_result"
    }
   ],
   "source": [
    "exe2(7,10,9)"
   ]
  },
  {
   "cell_type": "code",
   "execution_count": 18,
   "id": "a8ccef0e",
   "metadata": {
    "ExecuteTime": {
     "end_time": "2024-05-26T13:57:30.862418Z",
     "start_time": "2024-05-26T13:57:30.859838Z"
    }
   },
   "outputs": [],
   "source": [
    "def exe2(number1, number2, number3): #solution 2\n",
    "    return max(number1, number2, number3)"
   ]
  },
  {
   "cell_type": "code",
   "execution_count": 19,
   "id": "3b59b542",
   "metadata": {
    "ExecuteTime": {
     "end_time": "2024-05-26T13:57:31.646015Z",
     "start_time": "2024-05-26T13:57:31.642692Z"
    }
   },
   "outputs": [],
   "source": [
    "def exe2(number1, number2, number3): #solution 3\n",
    "    return sorted((number1, number2, number3),reverse=True)[0]"
   ]
  },
  {
   "cell_type": "code",
   "execution_count": 20,
   "id": "db796311",
   "metadata": {
    "ExecuteTime": {
     "end_time": "2024-05-26T13:57:37.532344Z",
     "start_time": "2024-05-26T13:57:37.529009Z"
    }
   },
   "outputs": [
    {
     "data": {
      "text/plain": [
       "10"
      ]
     },
     "execution_count": 20,
     "metadata": {},
     "output_type": "execute_result"
    }
   ],
   "source": [
    "exe2(7,10,9)"
   ]
  },
  {
   "cell_type": "code",
   "execution_count": null,
   "id": "ef3dd8da",
   "metadata": {},
   "outputs": [],
   "source": []
  }
 ],
 "metadata": {
  "kernelspec": {
   "display_name": "Python 3 (ipykernel)",
   "language": "python",
   "name": "python3"
  },
  "language_info": {
   "codemirror_mode": {
    "name": "ipython",
    "version": 3
   },
   "file_extension": ".py",
   "mimetype": "text/x-python",
   "name": "python",
   "nbconvert_exporter": "python",
   "pygments_lexer": "ipython3",
   "version": "3.8.10"
  },
  "latex_envs": {
   "LaTeX_envs_menu_present": true,
   "autoclose": false,
   "autocomplete": true,
   "bibliofile": "biblio.bib",
   "cite_by": "apalike",
   "current_citInitial": 1,
   "eqLabelWithNumbers": true,
   "eqNumInitial": 1,
   "hotkeys": {
    "equation": "Ctrl-E",
    "itemize": "Ctrl-I"
   },
   "labels_anchors": false,
   "latex_user_defs": false,
   "report_style_numbering": false,
   "user_envs_cfg": false
  },
  "toc": {
   "base_numbering": 1,
   "nav_menu": {},
   "number_sections": true,
   "sideBar": true,
   "skip_h1_title": false,
   "title_cell": "Table of Contents",
   "title_sidebar": "Contents",
   "toc_cell": false,
   "toc_position": {
    "height": "calc(100% - 180px)",
    "left": "10px",
    "top": "150px",
    "width": "165px"
   },
   "toc_section_display": true,
   "toc_window_display": true
  }
 },
 "nbformat": 4,
 "nbformat_minor": 5
}
