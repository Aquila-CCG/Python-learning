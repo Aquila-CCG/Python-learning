{
 "cells": [
  {
   "cell_type": "markdown",
   "id": "92a43935",
   "metadata": {},
   "source": [
    "Before you turn this problem in, make sure everything runs as expected. First, **restart the kernel** (in the menubar, select Kernel$\\rightarrow$Restart) and then **run all cells** (in the menubar, select Cell$\\rightarrow$Run All).\n",
    "\n",
    "Make sure you fill in any place that says `YOUR CODE HERE` or \"YOUR ANSWER HERE\", as well as your name and collaborators below:"
   ]
  },
  {
   "cell_type": "code",
   "execution_count": null,
   "id": "463ba935",
   "metadata": {},
   "outputs": [],
   "source": [
    "NAME = \"\"\n",
    "COLLABORATORS = \"\""
   ]
  },
  {
   "cell_type": "markdown",
   "id": "7ae4ee0f",
   "metadata": {},
   "source": [
    "---"
   ]
  },
  {
   "cell_type": "markdown",
   "id": "2727b07d",
   "metadata": {},
   "source": [
    "Before you turn this problem in, make sure everything runs as expected. First, **restart the kernel** (in the menubar, select Kernel$\\rightarrow$Restart) and then **run all cells** (in the menubar, select Cell$\\rightarrow$Run All).\n",
    "\n",
    "Make sure you fill in any place that says `YOUR CODE HERE` and your name and student_id below"
   ]
  },
  {
   "cell_type": "code",
   "execution_count": null,
   "id": "e8d63dfa",
   "metadata": {
    "ExecuteTime": {
     "end_time": "2023-03-06T11:37:52.315791Z",
     "start_time": "2023-03-06T11:37:52.310648Z"
    }
   },
   "outputs": [],
   "source": [
    "NAME = \"\"\n",
    "STUDENT_ID = \"\""
   ]
  },
  {
   "cell_type": "markdown",
   "id": "87983e55",
   "metadata": {},
   "source": [
    "---"
   ]
  },
  {
   "cell_type": "markdown",
   "id": "16b6eb96",
   "metadata": {},
   "source": [
    "# `for` loop \n",
    "\n",
    "A `for` loop is the most commonly used loop in Python. It is used to iterate over a sequence (list, tuple, string, etc.)\n",
    "\n",
    "Python `for` loop is not a loop that executes a block of code for a specified number of times. It is a loop that executes a block of code for each element in a sequence.\n",
    "\n",
    "We will review how to use it in different ways, iteration over numbers, `list`, `tuple`, `string`, `range()`, etc., with multiple examples. \n",
    "\n",
    "`for` Loop Syntax:\n",
    "```py\n",
    "for iterator_variable in sequence:\n",
    "  # loop body\n",
    "  # ...\n",
    "```"
   ]
  },
  {
   "cell_type": "markdown",
   "id": "b2e8c1b2",
   "metadata": {},
   "source": [
    "## Example 1: Looping list"
   ]
  },
  {
   "cell_type": "code",
   "execution_count": 1,
   "id": "1afc1692",
   "metadata": {
    "ExecuteTime": {
     "end_time": "2024-05-26T13:58:12.996500Z",
     "start_time": "2024-05-26T13:58:12.993136Z"
    }
   },
   "outputs": [
    {
     "name": "stdout",
     "output_type": "stream",
     "text": [
      "orange\n",
      "apple\n",
      "pear\n",
      "banana\n",
      "kiwi\n"
     ]
    }
   ],
   "source": [
    "# Using for loop on list\n",
    "list1 = ['orange', 'apple', 'pear', 'banana', 'kiwi']\n",
    "\n",
    "# Using for loop\n",
    "# loop will run the code for each item in the list/\n",
    "for fruit in list1:\n",
    "    print(fruit)"
   ]
  },
  {
   "cell_type": "markdown",
   "id": "3b73e07b",
   "metadata": {},
   "source": [
    "## Example 2: Looping tuple\n",
    "\n",
    "A `tuple` is also a sequence of values just like a list. It is immutable and enclosed in parentheses instead of square brackets."
   ]
  },
  {
   "cell_type": "code",
   "execution_count": 2,
   "id": "35cc6097",
   "metadata": {
    "ExecuteTime": {
     "end_time": "2024-05-26T13:58:17.089548Z",
     "start_time": "2024-05-26T13:58:17.086618Z"
    }
   },
   "outputs": [
    {
     "name": "stdout",
     "output_type": "stream",
     "text": [
      "one\n",
      "two\n",
      "three\n"
     ]
    }
   ],
   "source": [
    "# looping over tuples\n",
    "tuple1 = ('one', 'two', 'three')\n",
    "for item in tuple1:\n",
    "    print(item)"
   ]
  },
  {
   "cell_type": "markdown",
   "id": "d674ba7d",
   "metadata": {},
   "source": [
    "## Example 3: Looping string\n",
    "\n",
    "A `string` is also a sequence of values just like a list. It is immutable and enclosed in quotes instead of square brackets."
   ]
  },
  {
   "cell_type": "code",
   "execution_count": 3,
   "id": "87ef503a",
   "metadata": {
    "ExecuteTime": {
     "end_time": "2024-05-26T13:58:20.943090Z",
     "start_time": "2024-05-26T13:58:20.939813Z"
    }
   },
   "outputs": [
    {
     "name": "stdout",
     "output_type": "stream",
     "text": [
      "l\n",
      "o\n",
      "o\n",
      "p\n",
      "i\n",
      "n\n",
      "g\n"
     ]
    }
   ],
   "source": [
    "# looping over string\n",
    "string1 = 'looping'\n",
    "for char in string1:\n",
    "    print(char)"
   ]
  },
  {
   "cell_type": "markdown",
   "id": "05be732a",
   "metadata": {},
   "source": [
    "## Example 4: Looping numbers\n",
    "\n",
    "`range()` is a built-in function in Python that creates a sequence of numbers and is used to iterate over a sequence of numbers."
   ]
  },
  {
   "cell_type": "code",
   "execution_count": 4,
   "id": "60378643",
   "metadata": {
    "ExecuteTime": {
     "end_time": "2024-05-26T13:58:26.052447Z",
     "start_time": "2024-05-26T13:58:26.049315Z"
    }
   },
   "outputs": [
    {
     "name": "stdout",
     "output_type": "stream",
     "text": [
      "0\n",
      "1\n",
      "2\n",
      "3\n",
      "4\n"
     ]
    }
   ],
   "source": [
    "# looping first 5 numbers\n",
    "for num in range(5):\n",
    "    print(num) #by-default end with '\\n'"
   ]
  },
  {
   "cell_type": "markdown",
   "id": "5c223447",
   "metadata": {},
   "source": [
    "## Example 5: Looping between a range of number\n",
    "\n",
    "To loop between a given range of numbers m and n you can use `range(m, n)` (where n is not included). To include n you can use `range(m, n+1)`."
   ]
  },
  {
   "cell_type": "code",
   "execution_count": 5,
   "id": "171cba1d",
   "metadata": {
    "ExecuteTime": {
     "end_time": "2024-05-26T13:58:53.914431Z",
     "start_time": "2024-05-26T13:58:53.910852Z"
    }
   },
   "outputs": [
    {
     "name": "stdout",
     "output_type": "stream",
     "text": [
      "5 6 7 8 9 "
     ]
    }
   ],
   "source": [
    "# looping between a range of numbers\n",
    "\n",
    "# looping from 5 to 10\n",
    "for num in range(5, 10): # 10 not included\n",
    "    print(num, end=' ')"
   ]
  },
  {
   "cell_type": "code",
   "execution_count": 6,
   "id": "7055c4cf",
   "metadata": {
    "ExecuteTime": {
     "end_time": "2024-05-26T13:59:00.797686Z",
     "start_time": "2024-05-26T13:59:00.793577Z"
    }
   },
   "outputs": [
    {
     "name": "stdout",
     "output_type": "stream",
     "text": [
      "20 21 22 23 24 25 26 27 28 29 30 "
     ]
    }
   ],
   "source": [
    "# looping 20 to 30 (30 included)\n",
    "for num in range(20, 31):\n",
    "    print(num, end=' ')"
   ]
  },
  {
   "cell_type": "markdown",
   "id": "86c1a4ff",
   "metadata": {},
   "source": [
    "## Example 6: Looping with step"
   ]
  },
  {
   "cell_type": "code",
   "execution_count": 7,
   "id": "1d75ba0c",
   "metadata": {
    "ExecuteTime": {
     "end_time": "2024-05-26T13:59:06.891153Z",
     "start_time": "2024-05-26T13:59:06.887866Z"
    }
   },
   "outputs": [
    {
     "name": "stdout",
     "output_type": "stream",
     "text": [
      "0 2 4 6 8 "
     ]
    }
   ],
   "source": [
    "# looping with step\n",
    "\n",
    "# jumping by 2\n",
    "for num in range(0, 10, 2):\n",
    "    print(num, end=' ')"
   ]
  },
  {
   "cell_type": "code",
   "execution_count": 8,
   "id": "485db85e",
   "metadata": {
    "ExecuteTime": {
     "end_time": "2024-05-26T13:59:10.382022Z",
     "start_time": "2024-05-26T13:59:10.378833Z"
    }
   },
   "outputs": [
    {
     "name": "stdout",
     "output_type": "stream",
     "text": [
      "0 3 6 9 "
     ]
    }
   ],
   "source": [
    "# jumping by 3\n",
    "for num in range(0, 10, 3):\n",
    "    print(num, end=' ')"
   ]
  },
  {
   "cell_type": "code",
   "execution_count": 9,
   "id": "c1696a2a",
   "metadata": {
    "ExecuteTime": {
     "end_time": "2024-05-26T13:59:13.795595Z",
     "start_time": "2024-05-26T13:59:13.792230Z"
    }
   },
   "outputs": [
    {
     "name": "stdout",
     "output_type": "stream",
     "text": [
      "10 8 6 4 2 "
     ]
    }
   ],
   "source": [
    "# negative step\n",
    "for num in range(10, 0, -2):\n",
    "    print(num, end=' ')"
   ]
  },
  {
   "cell_type": "markdown",
   "id": "25ee6d9a",
   "metadata": {},
   "source": [
    "## Example 7: Looping with index\n",
    "\n",
    "You can access the index of the value in the sequence by using the length of the sequence in loop range function and accessing element in the sequence using an index."
   ]
  },
  {
   "cell_type": "code",
   "execution_count": 10,
   "id": "605a225b",
   "metadata": {
    "ExecuteTime": {
     "end_time": "2024-05-26T13:59:35.267901Z",
     "start_time": "2024-05-26T13:59:35.264191Z"
    }
   },
   "outputs": [
    {
     "name": "stdout",
     "output_type": "stream",
     "text": [
      "0 orange\n",
      "1 apple\n",
      "2 pear\n",
      "3 banana\n",
      "4 kiwi\n"
     ]
    }
   ],
   "source": [
    "# looping with index\n",
    "list1 = ['orange', 'apple', 'pear', 'banana', 'kiwi']\n",
    "for ind in range(len(list1)):\n",
    "    print(ind, list1[ind])"
   ]
  },
  {
   "cell_type": "markdown",
   "id": "c5e010ea",
   "metadata": {},
   "source": [
    "## Example 8: Enumerate\n",
    "\n",
    "In Python, you can use the `enumerate()` function to get the index of the value in the sequence. `enumerate()` is a built-in function in Python that returns an enumerated object. This object can be used to loop over the sequence and get the index of the value."
   ]
  },
  {
   "cell_type": "code",
   "execution_count": 11,
   "id": "9aaee2a6",
   "metadata": {
    "ExecuteTime": {
     "end_time": "2024-05-26T14:00:07.025183Z",
     "start_time": "2024-05-26T14:00:07.014334Z"
    }
   },
   "outputs": [
    {
     "name": "stdout",
     "output_type": "stream",
     "text": [
      "0 orange\n",
      "1 apple\n",
      "2 pear\n",
      "3 banana\n",
      "4 kiwi\n"
     ]
    },
    {
     "data": {
      "text/plain": [
       "[(0, 'orange'), (1, 'apple'), (2, 'pear'), (3, 'banana'), (4, 'kiwi')]"
      ]
     },
     "execution_count": 11,
     "metadata": {},
     "output_type": "execute_result"
    }
   ],
   "source": [
    "# looping with index\n",
    "\n",
    "list1 = ['orange', 'apple', 'pear', 'banana', 'kiwi']\n",
    "for ind, val in enumerate(list1):\n",
    "    print(ind, val)\n",
    "list(enumerate(list1))"
   ]
  },
  {
   "cell_type": "markdown",
   "id": "1993e4bc",
   "metadata": {},
   "source": [
    "## Example 9: Breaking a loop\n",
    "\n",
    "There are situations when you want the loop to stop when a condition is met. Like in a sum of numbers, you want to stop when the sum is greater than 100.\n",
    "\n",
    "To do this you can use the `break` keyword with `if` statement to stop and exit the loop. The break is a keyword in Python which is used to exit the loop."
   ]
  },
  {
   "cell_type": "code",
   "execution_count": 12,
   "id": "3ed14c46",
   "metadata": {
    "ExecuteTime": {
     "end_time": "2024-05-26T14:00:24.116117Z",
     "start_time": "2024-05-26T14:00:24.112333Z"
    }
   },
   "outputs": [
    {
     "name": "stdout",
     "output_type": "stream",
     "text": [
      "0 1 2 3 4 "
     ]
    }
   ],
   "source": [
    "# breaking a loop\n",
    "\n",
    "# break loop when i == 5\n",
    "for num in range(10):\n",
    "    if num == 5:\n",
    "        break\n",
    "    print(num, end=' ')"
   ]
  },
  {
   "cell_type": "code",
   "execution_count": 14,
   "id": "e2f08433",
   "metadata": {
    "ExecuteTime": {
     "end_time": "2024-05-26T14:01:01.551510Z",
     "start_time": "2024-05-26T14:01:01.548278Z"
    }
   },
   "outputs": [
    {
     "name": "stdout",
     "output_type": "stream",
     "text": [
      "Sum =  45\n"
     ]
    }
   ],
   "source": [
    "# break loop when sum is greater than 100\n",
    "total = 0\n",
    "for num in range(10):\n",
    "    total += num * 1\n",
    "    if total > 100:\n",
    "        break\n",
    "print(\"Sum = \", total)"
   ]
  },
  {
   "cell_type": "markdown",
   "id": "749c02e5",
   "metadata": {},
   "source": [
    "## Example 10: Continuing a loop\n",
    "\n",
    "Just like breaking a loop, you can also continue the loop. Continuing loop means skipping the current iteration and continuing with the next iteration.\n",
    "\n",
    "To do this you can use the `continue` keyword to skip the current iteration and continue with the next iteration.\n",
    "\n",
    "This is helpful when you want to include some specific item from the sequence."
   ]
  },
  {
   "cell_type": "code",
   "execution_count": 15,
   "id": "8dd94de9",
   "metadata": {
    "ExecuteTime": {
     "end_time": "2024-05-26T14:01:38.429092Z",
     "start_time": "2024-05-26T14:01:38.425275Z"
    }
   },
   "outputs": [
    {
     "name": "stdout",
     "output_type": "stream",
     "text": [
      "0 1 2 3 4 6 8 9 "
     ]
    }
   ],
   "source": [
    "# continuing a loop\n",
    "\n",
    "# continue loop when i == 5 or i == 7\n",
    "for num in range(10):\n",
    "    if num == 5 or num == 7:\n",
    "        continue\n",
    "    print(num, end=' ')"
   ]
  },
  {
   "cell_type": "markdown",
   "id": "6ec8c3eb",
   "metadata": {},
   "source": [
    "## Example 11: Adding evens\n",
    "\n",
    "Adding all even numbers from a list of numbers."
   ]
  },
  {
   "cell_type": "code",
   "execution_count": null,
   "id": "b13a1658",
   "metadata": {
    "ExecuteTime": {
     "end_time": "2023-03-31T03:33:19.408302Z",
     "start_time": "2023-03-31T03:33:19.399235Z"
    }
   },
   "outputs": [],
   "source": [
    "# adding evens\n",
    "  \n",
    "numbers = [5, 12, 8, 9, 10, 11, 13, 14, 15]\n",
    "total = 0\n",
    "for num in numbers:\n",
    "    if num % 2 != 0:\n",
    "        continue\n",
    "    total += num\n",
    "print(\"Sum = \", total)"
   ]
  },
  {
   "cell_type": "markdown",
   "id": "5c62c514",
   "metadata": {},
   "source": [
    "## Example 12: Nested for loop\n",
    "\n",
    "You can also nest `for` loops. A nesting loop means to loop over a sequence of sequences.\n",
    "\n",
    "This is useful when you want to loop over a sequence of items and then loop over the items in that sequence (loop inside the loop)."
   ]
  },
  {
   "cell_type": "code",
   "execution_count": null,
   "id": "ac576a51",
   "metadata": {
    "ExecuteTime": {
     "end_time": "2023-03-31T03:40:26.124689Z",
     "start_time": "2023-03-31T03:40:26.107229Z"
    }
   },
   "outputs": [],
   "source": [
    "# nested for loop\n",
    "size = 5\n",
    "\n",
    "for i in range(1, size+1): #i iterates over [1,2,3,4,5]\n",
    "    # nested loop\n",
    "    for j in range(1, i+1): # j iterates over [1,...,i]\n",
    "        print(\"*\", end=\"\")\n",
    "    print()\n",
    "    \n",
    "'''\n",
    "when i == 1, j iterates over [1], *\\n\n",
    "when i == 2, j iterates over [1,2], **\\n\n",
    "when i == 3, j iterates over [1,2,3], ***\\n\n",
    "...\n",
    "'''"
   ]
  },
  {
   "cell_type": "markdown",
   "id": "95a9dc65",
   "metadata": {},
   "source": [
    "## Example 13: for loop with else\n",
    "\n",
    "You can also use `else` keyword in python for loop. This is useful when you want to execute some code when the loop is finished.\n",
    "\n",
    "The else block is executed when the loop is finished."
   ]
  },
  {
   "cell_type": "code",
   "execution_count": null,
   "id": "f3813271",
   "metadata": {
    "ExecuteTime": {
     "end_time": "2023-03-31T03:41:26.338474Z",
     "start_time": "2023-03-31T03:41:26.331821Z"
    }
   },
   "outputs": [],
   "source": [
    "# for loop with else\n",
    "for num in range(3):\n",
    "    print(num)\n",
    "else:\n",
    "    print(\"Loop Finished\")"
   ]
  }
 ],
 "metadata": {
  "kernelspec": {
   "display_name": "Python 3 (ipykernel)",
   "language": "python",
   "name": "python3"
  },
  "language_info": {
   "codemirror_mode": {
    "name": "ipython",
    "version": 3
   },
   "file_extension": ".py",
   "mimetype": "text/x-python",
   "name": "python",
   "nbconvert_exporter": "python",
   "pygments_lexer": "ipython3",
   "version": "3.8.10"
  },
  "latex_envs": {
   "LaTeX_envs_menu_present": true,
   "autoclose": false,
   "autocomplete": true,
   "bibliofile": "biblio.bib",
   "cite_by": "apalike",
   "current_citInitial": 1,
   "eqLabelWithNumbers": true,
   "eqNumInitial": 1,
   "hotkeys": {
    "equation": "Ctrl-E",
    "itemize": "Ctrl-I"
   },
   "labels_anchors": false,
   "latex_user_defs": false,
   "report_style_numbering": false,
   "user_envs_cfg": false
  },
  "toc": {
   "base_numbering": 1,
   "nav_menu": {},
   "number_sections": true,
   "sideBar": true,
   "skip_h1_title": false,
   "title_cell": "Table of Contents",
   "title_sidebar": "Contents",
   "toc_cell": false,
   "toc_position": {},
   "toc_section_display": true,
   "toc_window_display": true
  }
 },
 "nbformat": 4,
 "nbformat_minor": 5
}
