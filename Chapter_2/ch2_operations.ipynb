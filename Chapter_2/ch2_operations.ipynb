{
 "cells": [
  {
   "cell_type": "markdown",
   "id": "41f5307b",
   "metadata": {},
   "source": [
    "Before you turn this problem in, make sure everything runs as expected. First, **restart the kernel** (in the menubar, select Kernel$\\rightarrow$Restart) and then **run all cells** (in the menubar, select Cell$\\rightarrow$Run All).\n",
    "\n",
    "Make sure you fill in any place that says `YOUR CODE HERE` or \"YOUR ANSWER HERE\", as well as your name and collaborators below:"
   ]
  },
  {
   "cell_type": "code",
   "execution_count": null,
   "id": "c619f3b7",
   "metadata": {},
   "outputs": [],
   "source": [
    "NAME = \"\"\n",
    "COLLABORATORS = \"\""
   ]
  },
  {
   "cell_type": "markdown",
   "id": "5d7a895f",
   "metadata": {},
   "source": [
    "---"
   ]
  },
  {
   "cell_type": "markdown",
   "id": "eeab35db",
   "metadata": {
    "toc": true
   },
   "source": [
    "<h1>Table of Contents<span class=\"tocSkip\"></span></h1>\n",
    "<div class=\"toc\"><ul class=\"toc-item\"><li><span><a href=\"#Aritmetic-Operators\" data-toc-modified-id=\"Aritmetic-Operators-1\"><span class=\"toc-item-num\">1&nbsp;&nbsp;</span>Aritmetic Operators</a></span></li><li><span><a href=\"#String-Operations\" data-toc-modified-id=\"String-Operations-2\"><span class=\"toc-item-num\">2&nbsp;&nbsp;</span>String Operations</a></span></li><li><span><a href=\"#Relational-(comparison)-Operators\" data-toc-modified-id=\"Relational-(comparison)-Operators-3\"><span class=\"toc-item-num\">3&nbsp;&nbsp;</span>Relational (comparison) Operators</a></span></li><li><span><a href=\"#Shorthand-Operator\" data-toc-modified-id=\"Shorthand-Operator-4\"><span class=\"toc-item-num\">4&nbsp;&nbsp;</span>Shorthand Operator</a></span></li><li><span><a href=\"#Boolean-Operator\" data-toc-modified-id=\"Boolean-Operator-5\"><span class=\"toc-item-num\">5&nbsp;&nbsp;</span>Boolean Operator</a></span></li><li><span><a href=\"#Glossary\" data-toc-modified-id=\"Glossary-6\"><span class=\"toc-item-num\">6&nbsp;&nbsp;</span>Glossary</a></span></li><li><span><a href=\"#Exercises\" data-toc-modified-id=\"Exercises-7\"><span class=\"toc-item-num\">7&nbsp;&nbsp;</span>Exercises</a></span></li><li><span><a href=\"#&quot;if,-elif,-else&quot;-control-flow-and-ternary-operator\" data-toc-modified-id=\"&quot;if,-elif,-else&quot;-control-flow-and-ternary-operator-8\"><span class=\"toc-item-num\">8&nbsp;&nbsp;</span>\"if, elif, else\" control flow and ternary operator</a></span><ul class=\"toc-item\"><li><span><a href=\"#The-if-statement\" data-toc-modified-id=\"The-if-statement-8.1\"><span class=\"toc-item-num\">8.1&nbsp;&nbsp;</span>The <em><code>if</code></em> statement</a></span></li><li><span><a href=\"#if-...else\" data-toc-modified-id=\"if-...else-8.2\"><span class=\"toc-item-num\">8.2&nbsp;&nbsp;</span><em><code>if</code> ...<code>else</code></em></a></span></li><li><span><a href=\"#if-...-elif-...-else\" data-toc-modified-id=\"if-...-elif-...-else-8.3\"><span class=\"toc-item-num\">8.3&nbsp;&nbsp;</span><em><code>if</code> ... <code>elif</code> ... <code>else</code></em></a></span></li><li><span><a href=\"#Ternary-operator-（三元运算符）\" data-toc-modified-id=\"Ternary-operator-（三元运算符）-8.4\"><span class=\"toc-item-num\">8.4&nbsp;&nbsp;</span>Ternary operator （三元运算符）</a></span></li><li><span><a href=\"#Exercises\" data-toc-modified-id=\"Exercises-8.5\"><span class=\"toc-item-num\">8.5&nbsp;&nbsp;</span>Exercises</a></span></li></ul></li></ul></div>"
   ]
  },
  {
   "cell_type": "markdown",
   "id": "72080bd8",
   "metadata": {},
   "source": [
    "# Operations"
   ]
  },
  {
   "cell_type": "markdown",
   "id": "d32111c7",
   "metadata": {},
   "source": [
    "* An expression can be broken down into **operators** and **operands**. *Operators* are special symbols that represent computations like addition and multiplication. The values the operator uses are called *operands*. In above example, \"1\" and \"2\" s are operands, and \"+\" is operator."
   ]
  },
  {
   "cell_type": "markdown",
   "id": "ed27f759",
   "metadata": {},
   "source": [
    "* Operators in Python can be categorized below:\n",
    "    * Arithmetic Operators\n",
    "    * Comparison (Relational) Operators\n",
    "    * Assignment Operators\n",
    "    * Logical Operators\n",
    "    * Bitwise Operators\n",
    "    * Membership Operators\n",
    "    * Identity Operators"
   ]
  },
  {
   "cell_type": "markdown",
   "id": "bc9ea53f",
   "metadata": {},
   "source": [
    "* The detailed introduction about how each operator is used can be found [here](https://www.tutorialspoint.com/python/python_basic_operators.htm)."
   ]
  },
  {
   "cell_type": "markdown",
   "id": "cbf7b9e1",
   "metadata": {},
   "source": [
    "* Operators have **order**. For example, 1+2\\*3, we know \"\\*\" will be calculated ealier than \"+\". List below shows parts of the precedence order of operators. The general rule is **unary** operator has larger priority than **binary** operator."
   ]
  },
  {
   "cell_type": "markdown",
   "id": "899d57b4",
   "metadata": {},
   "source": [
    "<img src=\"./Figures/Arithmetic.jpg\" width = \"500\" alt=\"图片名称\" align=center />"
   ]
  },
  {
   "cell_type": "markdown",
   "id": "6d2a1dc7",
   "metadata": {},
   "source": [
    "## Aritmetic Operators"
   ]
  },
  {
   "cell_type": "markdown",
   "id": "0fec0b01",
   "metadata": {
    "ExecuteTime": {
     "end_time": "2024-02-29T06:11:34.357222Z",
     "start_time": "2024-02-29T06:11:34.350306Z"
    }
   },
   "source": [
    "# Power operation\n",
    "3 ** 4"
   ]
  },
  {
   "cell_type": "code",
   "execution_count": null,
   "id": "f9c3afd2",
   "metadata": {
    "ExecuteTime": {
     "end_time": "2024-05-29T13:11:06.397534Z",
     "start_time": "2024-05-29T13:11:06.389294Z"
    }
   },
   "outputs": [],
   "source": [
    "# Integer division\n",
    "32 // 5"
   ]
  },
  {
   "cell_type": "code",
   "execution_count": 5,
   "id": "d73e575b",
   "metadata": {
    "ExecuteTime": {
     "end_time": "2024-05-29T13:11:07.931707Z",
     "start_time": "2024-05-29T13:11:07.928135Z"
    }
   },
   "outputs": [
    {
     "data": {
      "text/plain": [
       "2"
      ]
     },
     "execution_count": 5,
     "metadata": {},
     "output_type": "execute_result"
    }
   ],
   "source": [
    "2%5"
   ]
  },
  {
   "cell_type": "markdown",
   "id": "1600944f",
   "metadata": {},
   "source": [
    "<img src=\"./Figures/remainder-in-maths.png\" width = \"350\" height = \"450\" alt=\"图片名称\" align=center />"
   ]
  },
  {
   "cell_type": "markdown",
   "id": "767cdb61",
   "metadata": {},
   "source": [
    "* In order to make your program easy to read, a good habit is to add ***parentheses*** \"()\" on long expressions. For example, 1 + (2 \\* 3) will be clearer than 1 + 2 \\* 3. Parenthesis will be extremely helpful when the expression is long and multiple operators are involved. "
   ]
  },
  {
   "cell_type": "markdown",
   "id": "c01de5d1",
   "metadata": {},
   "source": [
    "##  String Operations"
   ]
  },
  {
   "cell_type": "markdown",
   "id": "6751a5d1",
   "metadata": {},
   "source": [
    "* In general, you cannot perform mathematical operations on strings, even if the strings look like numbers."
   ]
  },
  {
   "cell_type": "code",
   "execution_count": null,
   "id": "9d33f3f5",
   "metadata": {
    "ExecuteTime": {
     "end_time": "2024-02-29T06:14:58.775055Z",
     "start_time": "2024-02-29T06:14:58.726424Z"
    }
   },
   "outputs": [],
   "source": [
    "'1' + 2"
   ]
  },
  {
   "cell_type": "code",
   "execution_count": null,
   "id": "bd51495a",
   "metadata": {
    "ExecuteTime": {
     "end_time": "2024-02-29T06:15:02.417618Z",
     "start_time": "2024-02-29T06:15:02.413602Z"
    }
   },
   "outputs": [],
   "source": [
    "'1' + '2' + 'hello'"
   ]
  },
  {
   "cell_type": "markdown",
   "id": "5f761c48",
   "metadata": {},
   "source": [
    "*  For strings, the + operator represents **concatenation**, which means joining the two operands by linking them end-to-end.  The \\* operator denotes repeating the string several times."
   ]
  },
  {
   "cell_type": "code",
   "execution_count": null,
   "id": "385a1cde",
   "metadata": {
    "ExecuteTime": {
     "end_time": "2024-05-29T13:26:02.584349Z",
     "start_time": "2024-05-29T13:26:02.581004Z"
    }
   },
   "outputs": [],
   "source": [
    "fruit = \"banana\"\n",
    "baked_good = \" nut bread\"\n",
    "print(fruit + baked_good)\n",
    "print(fruit*2)"
   ]
  },
  {
   "cell_type": "markdown",
   "id": "61db662f",
   "metadata": {},
   "source": [
    "## Relational (comparison) Operators"
   ]
  },
  {
   "cell_type": "markdown",
   "id": "bafdac8b",
   "metadata": {},
   "source": [
    "**Relational operators** are the operators which generate booleans. Below figure lists the mean boolean operators."
   ]
  },
  {
   "cell_type": "markdown",
   "id": "22f992a0",
   "metadata": {},
   "source": [
    " <img src=\"./Figures/relational.png\" width = \"500\" alt=\"图片名称\" align=center />"
   ]
  },
  {
   "cell_type": "code",
   "execution_count": null,
   "id": "b77226cf",
   "metadata": {
    "ExecuteTime": {
     "end_time": "2024-02-29T06:19:01.115610Z",
     "start_time": "2024-02-29T06:19:01.112611Z"
    }
   },
   "outputs": [],
   "source": [
    "2 == 2"
   ]
  },
  {
   "cell_type": "code",
   "execution_count": null,
   "id": "e880d316",
   "metadata": {
    "ExecuteTime": {
     "end_time": "2024-02-29T06:19:04.610056Z",
     "start_time": "2024-02-29T06:19:04.606495Z"
    }
   },
   "outputs": [],
   "source": [
    "2 != 2"
   ]
  },
  {
   "cell_type": "code",
   "execution_count": null,
   "id": "39b740ec",
   "metadata": {
    "ExecuteTime": {
     "end_time": "2024-02-29T06:19:08.131914Z",
     "start_time": "2024-02-29T06:19:08.128739Z"
    }
   },
   "outputs": [],
   "source": [
    "1 <= 2"
   ]
  },
  {
   "cell_type": "code",
   "execution_count": null,
   "id": "f51d2220",
   "metadata": {
    "ExecuteTime": {
     "end_time": "2024-02-29T06:19:10.801677Z",
     "start_time": "2024-02-29T06:19:10.798405Z"
    }
   },
   "outputs": [],
   "source": [
    "a = 2\n",
    "print(a == 3)\n",
    "print(a != 3)"
   ]
  },
  {
   "cell_type": "code",
   "execution_count": null,
   "id": "76d3ab94",
   "metadata": {
    "ExecuteTime": {
     "end_time": "2024-02-29T06:19:12.657493Z",
     "start_time": "2024-02-29T06:19:12.654240Z"
    }
   },
   "outputs": [],
   "source": [
    "a = 2\n",
    "b = 2\n",
    "a is b"
   ]
  },
  {
   "cell_type": "code",
   "execution_count": null,
   "id": "8a4dcf00",
   "metadata": {
    "ExecuteTime": {
     "end_time": "2024-02-29T06:19:14.185927Z",
     "start_time": "2024-02-29T06:19:14.182894Z"
    }
   },
   "outputs": [],
   "source": [
    "a == 12"
   ]
  },
  {
   "cell_type": "code",
   "execution_count": null,
   "id": "631e623b",
   "metadata": {
    "ExecuteTime": {
     "end_time": "2024-02-29T06:19:15.520799Z",
     "start_time": "2024-02-29T06:19:15.517583Z"
    }
   },
   "outputs": [],
   "source": [
    "not a == 12"
   ]
  },
  {
   "cell_type": "code",
   "execution_count": null,
   "id": "79b7af29",
   "metadata": {
    "ExecuteTime": {
     "end_time": "2024-02-29T06:19:22.841655Z",
     "start_time": "2024-02-29T06:19:22.838501Z"
    }
   },
   "outputs": [],
   "source": [
    "a != 12"
   ]
  },
  {
   "cell_type": "code",
   "execution_count": null,
   "id": "35f6e96f",
   "metadata": {
    "ExecuteTime": {
     "end_time": "2024-02-29T06:19:24.432913Z",
     "start_time": "2024-02-29T06:19:24.430563Z"
    }
   },
   "outputs": [],
   "source": [
    "b = 3"
   ]
  },
  {
   "cell_type": "code",
   "execution_count": null,
   "id": "59850dea",
   "metadata": {
    "ExecuteTime": {
     "end_time": "2024-02-29T06:19:25.601565Z",
     "start_time": "2024-02-29T06:19:25.598551Z"
    }
   },
   "outputs": [],
   "source": [
    "a != 12 and b == 3"
   ]
  },
  {
   "cell_type": "markdown",
   "id": "d8838740",
   "metadata": {},
   "source": [
    "## Shorthand Operator"
   ]
  },
  {
   "cell_type": "markdown",
   "id": "f0afa853",
   "metadata": {},
   "source": [
    "Syntax for shorthand operators. Examples:"
   ]
  },
  {
   "cell_type": "code",
   "execution_count": null,
   "id": "8b1bb57e",
   "metadata": {
    "ExecuteTime": {
     "end_time": "2024-05-29T13:26:54.678242Z",
     "start_time": "2024-05-29T13:26:54.674890Z"
    }
   },
   "outputs": [],
   "source": [
    "a = 12\n",
    "a += 13\n",
    "a"
   ]
  },
  {
   "cell_type": "code",
   "execution_count": null,
   "id": "1ffa50c9",
   "metadata": {
    "ExecuteTime": {
     "end_time": "2024-05-29T13:26:55.327171Z",
     "start_time": "2024-05-29T13:26:55.325155Z"
    }
   },
   "outputs": [],
   "source": [
    "a = a + 13"
   ]
  },
  {
   "cell_type": "code",
   "execution_count": null,
   "id": "4fabee67",
   "metadata": {
    "ExecuteTime": {
     "end_time": "2024-05-29T13:27:05.811181Z",
     "start_time": "2024-05-29T13:27:05.807068Z"
    }
   },
   "outputs": [],
   "source": [
    "a *= 2\n",
    "a"
   ]
  },
  {
   "cell_type": "code",
   "execution_count": null,
   "id": "2b64d023",
   "metadata": {
    "ExecuteTime": {
     "end_time": "2024-05-29T13:27:14.776198Z",
     "start_time": "2024-05-29T13:27:14.772582Z"
    }
   },
   "outputs": [],
   "source": [
    "a /= 10\n",
    "a"
   ]
  },
  {
   "cell_type": "code",
   "execution_count": null,
   "id": "4bc3d9df",
   "metadata": {
    "ExecuteTime": {
     "end_time": "2024-02-29T06:20:00.817015Z",
     "start_time": "2024-02-29T06:20:00.814160Z"
    }
   },
   "outputs": [],
   "source": [
    "# Cumulative add, substract, multiply\n",
    "a += 1 # this is short for a = a + 1\n",
    "a"
   ]
  },
  {
   "cell_type": "code",
   "execution_count": null,
   "id": "16fd438a",
   "metadata": {
    "ExecuteTime": {
     "end_time": "2024-02-29T06:20:12.842483Z",
     "start_time": "2024-02-29T06:20:12.839696Z"
    }
   },
   "outputs": [],
   "source": [
    "a *= 4 # a = a * 4\n",
    "a"
   ]
  },
  {
   "cell_type": "markdown",
   "id": "14e4bfc0",
   "metadata": {},
   "source": [
    "## Boolean Operator"
   ]
  },
  {
   "cell_type": "markdown",
   "id": "2d30a346",
   "metadata": {},
   "source": [
    "Practice with logical operators \n",
    "```py\n",
    "and\n",
    "or\n",
    "not\n",
    "```\n"
   ]
  },
  {
   "cell_type": "code",
   "execution_count": 1,
   "id": "a514579e",
   "metadata": {
    "ExecuteTime": {
     "end_time": "2024-05-29T13:27:47.771083Z",
     "start_time": "2024-05-29T13:27:47.762492Z"
    }
   },
   "outputs": [
    {
     "data": {
      "text/plain": [
       "False"
      ]
     },
     "execution_count": 1,
     "metadata": {},
     "output_type": "execute_result"
    }
   ],
   "source": [
    " not True"
   ]
  },
  {
   "cell_type": "code",
   "execution_count": 2,
   "id": "5d59375b",
   "metadata": {
    "ExecuteTime": {
     "end_time": "2024-05-29T13:27:54.441816Z",
     "start_time": "2024-05-29T13:27:54.438280Z"
    }
   },
   "outputs": [
    {
     "data": {
      "text/plain": [
       "False"
      ]
     },
     "execution_count": 2,
     "metadata": {},
     "output_type": "execute_result"
    }
   ],
   "source": [
    "True and False"
   ]
  },
  {
   "cell_type": "code",
   "execution_count": 3,
   "id": "949410dd",
   "metadata": {
    "ExecuteTime": {
     "end_time": "2024-05-29T13:27:57.012051Z",
     "start_time": "2024-05-29T13:27:57.008316Z"
    }
   },
   "outputs": [
    {
     "data": {
      "text/plain": [
       "True"
      ]
     },
     "execution_count": 3,
     "metadata": {},
     "output_type": "execute_result"
    }
   ],
   "source": [
    "True or False"
   ]
  },
  {
   "cell_type": "code",
   "execution_count": 4,
   "id": "4f6e57ab",
   "metadata": {
    "ExecuteTime": {
     "end_time": "2024-05-29T13:28:01.977351Z",
     "start_time": "2024-05-29T13:28:01.973792Z"
    }
   },
   "outputs": [
    {
     "data": {
      "text/plain": [
       "True"
      ]
     },
     "execution_count": 4,
     "metadata": {},
     "output_type": "execute_result"
    }
   ],
   "source": [
    "a = True\n",
    "b = False\n",
    "a or b"
   ]
  },
  {
   "cell_type": "code",
   "execution_count": 5,
   "id": "d23e6234",
   "metadata": {
    "ExecuteTime": {
     "end_time": "2024-05-29T13:28:07.733704Z",
     "start_time": "2024-05-29T13:28:07.730367Z"
    }
   },
   "outputs": [
    {
     "data": {
      "text/plain": [
       "False"
      ]
     },
     "execution_count": 5,
     "metadata": {},
     "output_type": "execute_result"
    }
   ],
   "source": [
    "not a"
   ]
  },
  {
   "cell_type": "code",
   "execution_count": 6,
   "id": "bb4f7ff4",
   "metadata": {
    "ExecuteTime": {
     "end_time": "2024-05-29T13:28:16.814330Z",
     "start_time": "2024-05-29T13:28:16.810948Z"
    }
   },
   "outputs": [
    {
     "data": {
      "text/plain": [
       "True"
      ]
     },
     "execution_count": 6,
     "metadata": {},
     "output_type": "execute_result"
    }
   ],
   "source": [
    "not (a and b)"
   ]
  },
  {
   "cell_type": "markdown",
   "id": "58adbef8",
   "metadata": {},
   "source": [
    "Practice with bitwise operators \n",
    "```py\n",
    "&\n",
    "|\n",
    "~\n",
    "^\n",
    "```\n"
   ]
  },
  {
   "cell_type": "markdown",
   "id": "21653086",
   "metadata": {},
   "source": [
    " <img src=\"./Figures/bitwise.png\" width = \"500\" alt=\"图片名称\" align=center />"
   ]
  },
  {
   "cell_type": "markdown",
   "id": "77447b9a",
   "metadata": {},
   "source": [
    "<div class=\"mark\">\n",
    "\n",
    "for a^b, if and only if a and b are different, return True (异或)</div><i class=\"fa fa-lightbulb-o \"></i>"
   ]
  },
  {
   "cell_type": "markdown",
   "id": "c66291ed",
   "metadata": {},
   "source": [
    "Bitwise operators perform logical operations upon bits ONLY, like this:"
   ]
  },
  {
   "cell_type": "markdown",
   "id": "47ab708a",
   "metadata": {},
   "source": [
    " <img src=\"./Figures/bitwise2.png\" width = \"500\" alt=\"图片名称\" align=center />"
   ]
  },
  {
   "cell_type": "code",
   "execution_count": 9,
   "id": "81127796",
   "metadata": {
    "ExecuteTime": {
     "end_time": "2024-05-29T13:29:40.703962Z",
     "start_time": "2024-05-29T13:29:40.700333Z"
    }
   },
   "outputs": [
    {
     "data": {
      "text/plain": [
       "False"
      ]
     },
     "execution_count": 9,
     "metadata": {},
     "output_type": "execute_result"
    }
   ],
   "source": [
    "a = True\n",
    "b = True\n",
    "xor_ab = (a and not b) or (b and not a)\n",
    "xor_ab \n",
    "a ^ b"
   ]
  },
  {
   "cell_type": "code",
   "execution_count": 10,
   "id": "525091a5",
   "metadata": {
    "ExecuteTime": {
     "end_time": "2024-05-29T13:29:47.884796Z",
     "start_time": "2024-05-29T13:29:47.881424Z"
    }
   },
   "outputs": [
    {
     "data": {
      "text/plain": [
       "False"
      ]
     },
     "execution_count": 10,
     "metadata": {},
     "output_type": "execute_result"
    }
   ],
   "source": [
    "True ^ True"
   ]
  },
  {
   "cell_type": "code",
   "execution_count": 11,
   "id": "97077406",
   "metadata": {
    "ExecuteTime": {
     "end_time": "2024-05-29T13:29:49.107937Z",
     "start_time": "2024-05-29T13:29:49.104746Z"
    }
   },
   "outputs": [
    {
     "data": {
      "text/plain": [
       "True"
      ]
     },
     "execution_count": 11,
     "metadata": {},
     "output_type": "execute_result"
    }
   ],
   "source": [
    "False ^ True"
   ]
  },
  {
   "cell_type": "markdown",
   "id": "e2cbc87e",
   "metadata": {},
   "source": [
    "## Glossary"
   ]
  },
  {
   "cell_type": "markdown",
   "id": "c1b775d1",
   "metadata": {},
   "source": [
    "* **concatenate**\n",
    "\n",
    "To join two strings end-to-end."
   ]
  },
  {
   "cell_type": "markdown",
   "id": "1c1ea450",
   "metadata": {},
   "source": [
    "* **integer division**\n",
    "\n",
    "An operation that divides one integer by another and yields an integer. Integer division yields only the whole number of times that the numerator is divisible by the denominator and discards any remainder."
   ]
  },
  {
   "cell_type": "markdown",
   "id": "2098c4f2",
   "metadata": {},
   "source": [
    "* **operand**\n",
    "\n",
    "One of the values on which an operator operates."
   ]
  },
  {
   "cell_type": "markdown",
   "id": "753e14bb",
   "metadata": {},
   "source": [
    "* **operator**\n",
    "\n",
    "A special symbol that represents a simple computation like addition, multiplication, or string concatenation."
   ]
  },
  {
   "cell_type": "markdown",
   "id": "5a853898",
   "metadata": {},
   "source": [
    "* **rules of precedence**\n",
    "\n",
    "The set of rules governing the order in which expressions involving multiple operators and operands are evaluated."
   ]
  },
  {
   "cell_type": "markdown",
   "id": "7bfaaed2",
   "metadata": {},
   "source": [
    "## Exercises"
   ]
  },
  {
   "cell_type": "markdown",
   "id": "28cb1ea8",
   "metadata": {
    "deletable": false,
    "editable": false,
    "nbgrader": {
     "cell_type": "markdown",
     "checksum": "b44077cb7cd4c898e1b9749668bbaf3e",
     "grade": false,
     "grade_id": "cell-3f83aa08f71b8aad",
     "locked": true,
     "schema_version": 3,
     "solution": false,
     "task": false
    }
   },
   "source": [
    "Please divide 5 by 2, and assign the output to variable \"a\"."
   ]
  },
  {
   "cell_type": "code",
   "execution_count": null,
   "id": "4a0fc337",
   "metadata": {
    "ExecuteTime": {
     "end_time": "2024-03-04T05:53:49.971622Z",
     "start_time": "2024-03-04T05:53:49.969413Z"
    },
    "deletable": false,
    "nbgrader": {
     "cell_type": "code",
     "checksum": "50e2ec8f63253d4cd64f0b8b9ab050df",
     "grade": false,
     "grade_id": "cell-ef9f7ebadcfc7aec",
     "locked": false,
     "schema_version": 3,
     "solution": true,
     "task": false
    }
   },
   "outputs": [],
   "source": [
    "# Complete the following line of code and then remove \"#\" to uncomment it\n",
    "# a =\n",
    "a = 5/2"
   ]
  },
  {
   "cell_type": "code",
   "execution_count": null,
   "id": "d7d2d493",
   "metadata": {
    "deletable": false,
    "editable": false,
    "nbgrader": {
     "cell_type": "code",
     "checksum": "d6ce1573a3444f9d6b0feeb5090e278f",
     "grade": true,
     "grade_id": "cell-92837019015e7b34",
     "locked": true,
     "points": 10,
     "schema_version": 3,
     "solution": false,
     "task": false
    }
   },
   "outputs": [],
   "source": []
  },
  {
   "cell_type": "markdown",
   "id": "057f5d18",
   "metadata": {
    "deletable": false,
    "editable": false,
    "nbgrader": {
     "cell_type": "markdown",
     "checksum": "ea6a1d1b174c76af53fee633955e0058",
     "grade": false,
     "grade_id": "cell-6fb999853e4cfa1b",
     "locked": true,
     "schema_version": 3,
     "solution": false,
     "task": false
    }
   },
   "source": [
    "Please concatenate the string `\"hello\"` and the string `\"world\"` to create a new string, and assign the new string to the variable `str3`."
   ]
  },
  {
   "cell_type": "code",
   "execution_count": null,
   "id": "7b63e7a6",
   "metadata": {
    "ExecuteTime": {
     "end_time": "2024-03-04T05:53:33.365181Z",
     "start_time": "2024-03-04T05:53:33.361096Z"
    },
    "deletable": false,
    "nbgrader": {
     "cell_type": "code",
     "checksum": "a86495b06b196fbd9b043e5bb4bd9a82",
     "grade": false,
     "grade_id": "cell-e6d44abfaa768f23",
     "locked": false,
     "schema_version": 3,
     "solution": true,
     "task": false
    }
   },
   "outputs": [],
   "source": [
    "str1 = \"hello\"\n",
    "str2 = \"world\"\n",
    "\n",
    "# Complete the following line of code and then remove \"#\" to uncomment it\n",
    "# str3 = \n",
    "\n",
    "str3 = str1 + str2\n",
    "str3"
   ]
  },
  {
   "cell_type": "code",
   "execution_count": null,
   "id": "46606120",
   "metadata": {
    "deletable": false,
    "editable": false,
    "nbgrader": {
     "cell_type": "code",
     "checksum": "cc1d849e46d6ce5a17334059c0bd71c1",
     "grade": true,
     "grade_id": "cell-b99abfbef51cc6de",
     "locked": true,
     "points": 10,
     "schema_version": 3,
     "solution": false,
     "task": false
    }
   },
   "outputs": [],
   "source": []
  },
  {
   "cell_type": "markdown",
   "id": "9fb7a8dc",
   "metadata": {
    "deletable": false,
    "editable": false,
    "nbgrader": {
     "cell_type": "markdown",
     "checksum": "47ccad3a61f845a1c7b7bb416e05d45d",
     "grade": false,
     "grade_id": "cell-3d765a2824138a70",
     "locked": true,
     "schema_version": 3,
     "solution": false,
     "task": false
    }
   },
   "source": [
    "Assign the integer remainder of the division 10/3 to the variable \"r\""
   ]
  },
  {
   "cell_type": "code",
   "execution_count": null,
   "id": "37096e40",
   "metadata": {
    "ExecuteTime": {
     "end_time": "2024-03-04T05:54:12.116491Z",
     "start_time": "2024-03-04T05:54:12.113964Z"
    },
    "deletable": false,
    "nbgrader": {
     "cell_type": "code",
     "checksum": "fb445c678a07ca236bb32aa1f29dead9",
     "grade": false,
     "grade_id": "cell-1139a4852e6313c2",
     "locked": false,
     "schema_version": 3,
     "solution": true,
     "task": false
    }
   },
   "outputs": [],
   "source": [
    "r = 10%3"
   ]
  },
  {
   "cell_type": "code",
   "execution_count": null,
   "id": "81d448cf",
   "metadata": {
    "ExecuteTime": {
     "end_time": "2024-03-04T05:54:14.853331Z",
     "start_time": "2024-03-04T05:54:14.849705Z"
    }
   },
   "outputs": [],
   "source": [
    "r"
   ]
  },
  {
   "cell_type": "code",
   "execution_count": null,
   "id": "46813523",
   "metadata": {
    "ExecuteTime": {
     "end_time": "2023-06-23T08:06:01.495713Z",
     "start_time": "2023-06-23T08:06:01.493203Z"
    },
    "deletable": false,
    "editable": false,
    "nbgrader": {
     "cell_type": "code",
     "checksum": "eff7f16b2e6abccf68a6cdabce51cee3",
     "grade": true,
     "grade_id": "cell-f663fd49372c7446",
     "locked": true,
     "points": 10,
     "schema_version": 3,
     "solution": false,
     "task": false
    }
   },
   "outputs": [],
   "source": []
  },
  {
   "cell_type": "markdown",
   "id": "b6d7c5de",
   "metadata": {
    "deletable": false,
    "editable": false,
    "nbgrader": {
     "cell_type": "markdown",
     "checksum": "c54c96e811090d440e4ace22ebc48b3c",
     "grade": false,
     "grade_id": "cell-951bd822fe74dc75",
     "locked": true,
     "schema_version": 3,
     "solution": false,
     "task": false
    }
   },
   "source": [
    "Given a = True, b = False, c = True, evaluate the following expressions and assign the values to the corresponding variable respectively\n",
    "```py\n",
    "a+b  # assign its evaluated value to a1\n",
    "a+c  # assign its evaluated value to a2\n",
    "a*b  # assign its evaluated value to a3\n",
    "a*c  # assign its evaluated value to a4\n",
    "bool(a+c)  # assign its evaluated value to a5\n",
    "a or b or c  # assign its evaluated value to a6\n",
    "a and b and c  # assign its evaluated value to a7\n",
    "not a and not b  # assign its evaluated value to a8\n",
    "```\n"
   ]
  },
  {
   "cell_type": "code",
   "execution_count": 7,
   "id": "68efd887",
   "metadata": {
    "ExecuteTime": {
     "end_time": "2024-03-04T05:56:03.591208Z",
     "start_time": "2024-03-04T05:56:03.587475Z"
    },
    "deletable": false,
    "nbgrader": {
     "cell_type": "code",
     "checksum": "7f2672baaa06146d6e51cb901facf839",
     "grade": false,
     "grade_id": "cell-d6577d7170db1c33",
     "locked": false,
     "schema_version": 3,
     "solution": true,
     "task": false
    }
   },
   "outputs": [
    {
     "name": "stdout",
     "output_type": "stream",
     "text": [
      "1 2 0 1 True True False False\n"
     ]
    }
   ],
   "source": [
    "a = True\n",
    "b = False\n",
    "c = True\n",
    "a1 = a+b\n",
    "a2 = a+c\n",
    "a3 = a*b\n",
    "a4 = a*c\n",
    "a5 = bool(a+c)\n",
    "a6 = a or b or c\n",
    "a7 = a and b and c\n",
    "a8 = not a and not b\n",
    "print (a1, a2, a3, a4, a5, a6, a7, a8)"
   ]
  },
  {
   "cell_type": "code",
   "execution_count": 8,
   "id": "8aa974c8",
   "metadata": {
    "ExecuteTime": {
     "end_time": "2023-06-23T08:19:17.835179Z",
     "start_time": "2023-06-23T08:19:17.832716Z"
    },
    "deletable": false,
    "editable": false,
    "nbgrader": {
     "cell_type": "code",
     "checksum": "c8733d6292e0ff711652f97809184b45",
     "grade": true,
     "grade_id": "cell-2700bc09a58b2e28",
     "locked": true,
     "points": 5,
     "schema_version": 3,
     "solution": false,
     "task": false
    }
   },
   "outputs": [],
   "source": [
    "a5 = bool(a+c)"
   ]
  },
  {
   "cell_type": "code",
   "execution_count": null,
   "id": "53de5841",
   "metadata": {
    "deletable": false,
    "editable": false,
    "nbgrader": {
     "cell_type": "code",
     "checksum": "23f8dc765b41446c5cf3529cff9bced8",
     "grade": true,
     "grade_id": "cell-814fb2be277b9e70",
     "locked": true,
     "points": 5,
     "schema_version": 3,
     "solution": false,
     "task": false
    }
   },
   "outputs": [],
   "source": []
  },
  {
   "cell_type": "code",
   "execution_count": null,
   "id": "9bef5258",
   "metadata": {
    "deletable": false,
    "editable": false,
    "nbgrader": {
     "cell_type": "code",
     "checksum": "929e395ce099de2d4a5c6bb5d0236679",
     "grade": true,
     "grade_id": "cell-2b4dd45795b00a72",
     "locked": true,
     "points": 5,
     "schema_version": 3,
     "solution": false,
     "task": false
    }
   },
   "outputs": [],
   "source": []
  },
  {
   "cell_type": "code",
   "execution_count": null,
   "id": "17bc677c",
   "metadata": {
    "deletable": false,
    "editable": false,
    "nbgrader": {
     "cell_type": "code",
     "checksum": "de1ae2f98693a8f4392b621dd80e9428",
     "grade": true,
     "grade_id": "cell-85819d2ca5a848f7",
     "locked": true,
     "points": 5,
     "schema_version": 3,
     "solution": false,
     "task": false
    }
   },
   "outputs": [],
   "source": []
  },
  {
   "cell_type": "code",
   "execution_count": null,
   "id": "2c00623a",
   "metadata": {
    "deletable": false,
    "editable": false,
    "nbgrader": {
     "cell_type": "code",
     "checksum": "5462e8454d9f424fd2a315da079526f7",
     "grade": true,
     "grade_id": "cell-3085a37d33f17874",
     "locked": true,
     "points": 5,
     "schema_version": 3,
     "solution": false,
     "task": false
    }
   },
   "outputs": [],
   "source": []
  },
  {
   "cell_type": "code",
   "execution_count": null,
   "id": "733878d5",
   "metadata": {
    "deletable": false,
    "editable": false,
    "nbgrader": {
     "cell_type": "code",
     "checksum": "b449330966880150aa61eec81e7b8fa9",
     "grade": true,
     "grade_id": "cell-974ee2323784d326",
     "locked": true,
     "points": 5,
     "schema_version": 3,
     "solution": false,
     "task": false
    }
   },
   "outputs": [],
   "source": []
  },
  {
   "cell_type": "code",
   "execution_count": null,
   "id": "f4d00407",
   "metadata": {
    "deletable": false,
    "editable": false,
    "nbgrader": {
     "cell_type": "code",
     "checksum": "bdc79cfa4f3564f82a60a41d4cbed6f9",
     "grade": true,
     "grade_id": "cell-1376b0b9b59ff5d5",
     "locked": true,
     "points": 5,
     "schema_version": 3,
     "solution": false,
     "task": false
    }
   },
   "outputs": [],
   "source": []
  },
  {
   "cell_type": "code",
   "execution_count": null,
   "id": "7cbf52a2",
   "metadata": {
    "deletable": false,
    "editable": false,
    "nbgrader": {
     "cell_type": "code",
     "checksum": "9ca0b1c1f843d4f821fb197e2dad15d6",
     "grade": true,
     "grade_id": "cell-31f699f9754cda34",
     "locked": true,
     "points": 5,
     "schema_version": 3,
     "solution": false,
     "task": false
    }
   },
   "outputs": [],
   "source": []
  },
  {
   "cell_type": "markdown",
   "id": "2bf4e88f",
   "metadata": {},
   "source": [
    "## \"if, elif, else\" control flow and ternary operator"
   ]
  },
  {
   "cell_type": "markdown",
   "id": "62002ce5",
   "metadata": {},
   "source": [
    "### The *`if`* statement\n",
    "\n",
    "All the programs we have seen until now are executed **sequentially**, which means the program is executed statement by statement from top to bottom. The work flow is illustrated by the **flow chart** below."
   ]
  },
  {
   "cell_type": "markdown",
   "id": "cd620128",
   "metadata": {},
   "source": [
    " <img src=\"./Figures/Sequential.png\" width = \"380\" height = \"250\" alt=\"图片名称\" align=center />"
   ]
  },
  {
   "cell_type": "markdown",
   "id": "0cdf2b11",
   "metadata": {},
   "source": [
    "###  *`if` ...`else`*\n",
    "\n",
    "What if you want to change the flow of how the program is executed? For example, you want the program to make some decisions and do different things accordingly. You can use the `if` statement. The work flow is illustrated below."
   ]
  },
  {
   "cell_type": "markdown",
   "id": "6281fd7c",
   "metadata": {},
   "source": [
    "<img src=\"./Figures/if-else.jpg\" width = \"300\" alt=\"if-else\" align=center />\n",
    "\n",
    "\n",
    "lozenge/rhombic：菱形"
   ]
  },
  {
   "cell_type": "markdown",
   "id": "27d05a80",
   "metadata": {},
   "source": [
    "* The **test expression** is always a **boolean** expression (expression involving boolean operators). The `if` statement will check whether the condition is `True` or `False`, and execute one body of code or another accordingly. The syntax is below:\n",
    "\n",
    "```py\n",
    "if Test Expression:\n",
    "    # Body of if\n",
    "else: \n",
    "    # Body of else\n",
    "```"
   ]
  },
  {
   "cell_type": "markdown",
   "id": "e438399f",
   "metadata": {},
   "source": [
    "**Example**"
   ]
  },
  {
   "cell_type": "code",
   "execution_count": null,
   "id": "f9f27882",
   "metadata": {
    "ExecuteTime": {
     "end_time": "2024-02-29T06:47:20.231588Z",
     "start_time": "2024-02-29T06:47:20.228558Z"
    },
    "code_folding": []
   },
   "outputs": [],
   "source": [
    "# This chunck of codes below checks if a number is positive or negative.\n",
    "# Then, it displays an appropriate message.\n",
    "\n",
    "# Try the following as well:\n",
    "# number = -5\n",
    "\n",
    "number = 5\n",
    "\n",
    "if number >= 0:\n",
    "    print(\"Positive or Zero\")\n",
    "else:\n",
    "    print(\"Negative number\")"
   ]
  },
  {
   "cell_type": "markdown",
   "id": "4e1edc3b",
   "metadata": {},
   "source": [
    "### *`if` ... `elif` ... `else`*\n",
    "\n",
    "* The `elif` is short for else-if. It allows us to check for multiple test expressions. \n",
    "\n",
    "* If the condition for `if` is `False`, it checks the condition of the next `elif` block and so on.\n",
    "\n",
    "* If all the conditions are `False`, the body of `else` is executed. \n",
    "\n",
    "* Only **one block** among the several `if...elif...else` blocks is executed according to the test expressions. \n",
    "\n",
    "* The `if` block can have only one `else` block but it can have multiple `elif` blocks. "
   ]
  },
  {
   "cell_type": "markdown",
   "id": "ea9a1fae",
   "metadata": {},
   "source": [
    " <img src=\"./Figures/if_elif_else_statement.jpg\" width = \"380\" height = \"250\" alt=\"图片名称\" align=center />"
   ]
  },
  {
   "cell_type": "markdown",
   "id": "e5d35039",
   "metadata": {},
   "source": [
    "* Below is the syntax:\n",
    "\n",
    "```py\n",
    "if Test Expression:\n",
    "    # Body of if\n",
    "elif Test Expression:\n",
    "    #Body of elif\n",
    "else: \n",
    "    #Body of else\n",
    "```"
   ]
  },
  {
   "cell_type": "markdown",
   "id": "7ec8928f",
   "metadata": {},
   "source": [
    "**Example**"
   ]
  },
  {
   "cell_type": "code",
   "execution_count": null,
   "id": "837abd71",
   "metadata": {
    "ExecuteTime": {
     "end_time": "2024-03-04T05:28:30.945460Z",
     "start_time": "2024-03-04T05:28:29.417183Z"
    }
   },
   "outputs": [],
   "source": [
    "number = 23\n",
    "\n",
    "guess = int(input('Enter an integer: '))\n",
    "\n",
    "if guess == number:\n",
    "    print('Congratulations, you guessed it.')\n",
    "elif guess < number:\n",
    "    print('No, it is a little higher than that')\n",
    "else:\n",
    "    print('No, it is a little lower than that')"
   ]
  },
  {
   "cell_type": "markdown",
   "id": "491a6c49",
   "metadata": {},
   "source": [
    "### Ternary operator （三元运算符）"
   ]
  },
  {
   "cell_type": "markdown",
   "id": "5043cfb0",
   "metadata": {},
   "source": [
    "A ternary operator takes 3 operands instead of the usual 2 operands. Given a, b and c. The following is a ternary operation:\n",
    "\n",
    "expression1: if a < b, c = True\n",
    "expression2: if a >= b, c= False\n",
    "\n",
    "The if ... else statement can be written in one line as:\n",
    "```py\n",
    "a, b = 10, 20\n",
    "c = True if a < b else False\n",
    "```\n",
    "\n"
   ]
  },
  {
   "cell_type": "code",
   "execution_count": 12,
   "id": "7e7a4924",
   "metadata": {
    "ExecuteTime": {
     "end_time": "2024-05-29T13:34:05.429549Z",
     "start_time": "2024-05-29T13:34:05.425522Z"
    }
   },
   "outputs": [
    {
     "data": {
      "text/plain": [
       "True"
      ]
     },
     "execution_count": 12,
     "metadata": {},
     "output_type": "execute_result"
    }
   ],
   "source": [
    "a, b = 10, 20\n",
    "c = True if a < b else False\n",
    "c"
   ]
  },
  {
   "cell_type": "code",
   "execution_count": 13,
   "id": "9b87fe46",
   "metadata": {
    "ExecuteTime": {
     "end_time": "2024-05-29T13:34:26.311673Z",
     "start_time": "2024-05-29T13:34:26.307955Z"
    }
   },
   "outputs": [
    {
     "data": {
      "text/plain": [
       "10"
      ]
     },
     "execution_count": 13,
     "metadata": {},
     "output_type": "execute_result"
    }
   ],
   "source": [
    "a, b = 10, 20\n",
    "c = a if a < b else b\n",
    "c"
   ]
  },
  {
   "cell_type": "markdown",
   "id": "99a6c622",
   "metadata": {
    "deletable": false,
    "editable": false,
    "nbgrader": {
     "cell_type": "markdown",
     "checksum": "819a89a369b101024473aba4c5f75594",
     "grade": false,
     "grade_id": "cell-d48ea451db706ceb",
     "locked": true,
     "schema_version": 3,
     "solution": false,
     "task": false
    }
   },
   "source": [
    "### Exercises"
   ]
  },
  {
   "cell_type": "markdown",
   "id": "7a1798c2",
   "metadata": {
    "deletable": false,
    "editable": false,
    "nbgrader": {
     "cell_type": "markdown",
     "checksum": "5a474c657e0b63c51738fd11f5beecee",
     "grade": false,
     "grade_id": "cell-bd71487fd0906dc4",
     "locked": true,
     "schema_version": 3,
     "solution": false,
     "task": false
    }
   },
   "source": [
    "Write the following statement and assign the result to the variable \"out1\":\n",
    "\n",
    "```py\n",
    "a = \"student2\"\n",
    "b = [\"student1\", \"student2\", \"student3\"] \n",
    "```\n",
    "\n",
    "if \"student2\" is in b then out1 has value 1, else, the value of out1 is 0\n"
   ]
  },
  {
   "cell_type": "code",
   "execution_count": 14,
   "id": "2fd3bc5b",
   "metadata": {
    "ExecuteTime": {
     "end_time": "2024-05-29T13:35:22.501735Z",
     "start_time": "2024-05-29T13:35:22.496540Z"
    },
    "deletable": false,
    "nbgrader": {
     "cell_type": "code",
     "checksum": "4876ca47659db673bf0f29eba4c8bc30",
     "grade": false,
     "grade_id": "cell-a7fdd2ec688b5456",
     "locked": false,
     "schema_version": 3,
     "solution": true,
     "task": false
    }
   },
   "outputs": [
    {
     "data": {
      "text/plain": [
       "1"
      ]
     },
     "execution_count": 14,
     "metadata": {},
     "output_type": "execute_result"
    }
   ],
   "source": [
    "a = \"student2\"\n",
    "b = [\"student1\", \"student2\", \"student3\"] \n",
    "\n",
    "if a in b:\n",
    "    out1 = 1\n",
    "else: \n",
    "    out1 = 0\n",
    "out1"
   ]
  },
  {
   "cell_type": "code",
   "execution_count": null,
   "id": "80f51cf5",
   "metadata": {
    "ExecuteTime": {
     "end_time": "2023-06-24T02:59:16.217579Z",
     "start_time": "2023-06-24T02:59:16.215097Z"
    },
    "deletable": false,
    "editable": false,
    "nbgrader": {
     "cell_type": "code",
     "checksum": "a7b5f39be7522adc354a74fc89275681",
     "grade": true,
     "grade_id": "cell-a595dc0e87682c04",
     "locked": true,
     "points": 10,
     "schema_version": 3,
     "solution": false,
     "task": false
    }
   },
   "outputs": [],
   "source": []
  },
  {
   "cell_type": "markdown",
   "id": "ff9696ce",
   "metadata": {
    "deletable": false,
    "editable": false,
    "nbgrader": {
     "cell_type": "markdown",
     "checksum": "b618bfd7ad948526c9e4602fdce80929",
     "grade": false,
     "grade_id": "cell-37962b52ec8b96ce",
     "locked": true,
     "schema_version": 3,
     "solution": false,
     "task": false
    }
   },
   "source": [
    "Given an arbitrary integer `j`. Assert the remainder of the division `100/j`. If the remainder is `0`, assign value `0` to \"out1\", else if the remainder is 100, assign value `-1` to \"out1\", else assign the value `1` to \"out1\""
   ]
  },
  {
   "cell_type": "code",
   "execution_count": null,
   "id": "2668fda9",
   "metadata": {
    "ExecuteTime": {
     "end_time": "2024-03-04T05:42:38.586160Z",
     "start_time": "2024-03-04T05:42:38.582558Z"
    },
    "deletable": false,
    "nbgrader": {
     "cell_type": "code",
     "checksum": "2685880011688c6dcb36e36d6d03193d",
     "grade": false,
     "grade_id": "cell-fe66876fdb0f51af",
     "locked": false,
     "schema_version": 3,
     "solution": true,
     "task": false
    }
   },
   "outputs": [],
   "source": [
    "# j = 20\n",
    "# out1 = -999\n",
    "\n",
    "if 100%j == 0:\n",
    "    out1 = 0\n",
    "elif 100%j == 100:\n",
    "    out1 = -1\n",
    "else:\n",
    "    out1 = 1"
   ]
  },
  {
   "cell_type": "code",
   "execution_count": null,
   "id": "b0dc8f71",
   "metadata": {
    "ExecuteTime": {
     "end_time": "2023-06-24T03:03:52.936941Z",
     "start_time": "2023-06-24T03:03:52.933771Z"
    },
    "deletable": false,
    "editable": false,
    "nbgrader": {
     "cell_type": "code",
     "checksum": "cd099e3f9c84bbb73f256797372173a0",
     "grade": true,
     "grade_id": "cell-40d96101fa8c4bfa",
     "locked": true,
     "points": 10,
     "schema_version": 3,
     "solution": false,
     "task": false
    }
   },
   "outputs": [],
   "source": []
  },
  {
   "cell_type": "markdown",
   "id": "e2fdeb52",
   "metadata": {
    "deletable": false,
    "editable": false,
    "nbgrader": {
     "cell_type": "markdown",
     "checksum": "20dd754fb390dd489acc024eadc5882a",
     "grade": false,
     "grade_id": "cell-1415d6eb3cbee8eb",
     "locked": true,
     "schema_version": 3,
     "solution": false,
     "task": false
    }
   },
   "source": [
    "Given arbitrary numbers \"a\" and \"b\", assign the value to \"c\" that is equal to the maximum between \"a\" and \"b\".\n"
   ]
  },
  {
   "cell_type": "code",
   "execution_count": null,
   "id": "86d78d6f",
   "metadata": {
    "ExecuteTime": {
     "end_time": "2024-03-04T05:44:17.096103Z",
     "start_time": "2024-03-04T05:44:17.094017Z"
    },
    "deletable": false,
    "nbgrader": {
     "cell_type": "code",
     "checksum": "0a779afd7a4660a720656f6f0d395687",
     "grade": false,
     "grade_id": "cell-d6a63c8e81859cc5",
     "locked": false,
     "schema_version": 3,
     "solution": true,
     "task": false
    }
   },
   "outputs": [],
   "source": [
    "# \n",
    "a = 100\n",
    "b = -100\n",
    "\n",
    "c = max(a,b)\n"
   ]
  },
  {
   "cell_type": "code",
   "execution_count": null,
   "id": "7b77a8f3",
   "metadata": {
    "ExecuteTime": {
     "end_time": "2023-06-24T02:55:39.663126Z",
     "start_time": "2023-06-24T02:55:39.660354Z"
    },
    "deletable": false,
    "editable": false,
    "nbgrader": {
     "cell_type": "code",
     "checksum": "2470058324a23966b8b2324dd87c2e18",
     "grade": true,
     "grade_id": "cell-5d395ea9c26ec8e0",
     "locked": true,
     "points": 10,
     "schema_version": 3,
     "solution": false,
     "task": false
    }
   },
   "outputs": [],
   "source": []
  },
  {
   "cell_type": "code",
   "execution_count": null,
   "id": "c40d2478",
   "metadata": {},
   "outputs": [],
   "source": []
  }
 ],
 "metadata": {
  "kernelspec": {
   "display_name": "Python 3 (ipykernel)",
   "language": "python",
   "name": "python3"
  },
  "language_info": {
   "codemirror_mode": {
    "name": "ipython",
    "version": 3
   },
   "file_extension": ".py",
   "mimetype": "text/x-python",
   "name": "python",
   "nbconvert_exporter": "python",
   "pygments_lexer": "ipython3",
   "version": "3.12.0"
  },
  "latex_envs": {
   "LaTeX_envs_menu_present": true,
   "autoclose": false,
   "autocomplete": true,
   "bibliofile": "biblio.bib",
   "cite_by": "apalike",
   "current_citInitial": 1,
   "eqLabelWithNumbers": true,
   "eqNumInitial": 1,
   "hotkeys": {
    "equation": "Ctrl-E",
    "itemize": "Ctrl-I"
   },
   "labels_anchors": false,
   "latex_user_defs": false,
   "report_style_numbering": false,
   "user_envs_cfg": false
  },
  "toc": {
   "base_numbering": "1",
   "nav_menu": {},
   "number_sections": true,
   "sideBar": true,
   "skip_h1_title": true,
   "title_cell": "Table of Contents",
   "title_sidebar": "Contents",
   "toc_cell": true,
   "toc_position": {
    "height": "calc(100% - 180px)",
    "left": "10px",
    "top": "150px",
    "width": "332px"
   },
   "toc_section_display": true,
   "toc_window_display": false
  }
 },
 "nbformat": 4,
 "nbformat_minor": 5
}
