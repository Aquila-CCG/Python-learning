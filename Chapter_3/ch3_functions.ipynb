{
 "cells": [
  {
   "cell_type": "markdown",
   "metadata": {},
   "source": [
    "Before you turn this problem in, make sure everything runs as expected. First, **restart the kernel** (in the menubar, select Kernel$\\rightarrow$Restart) and then **run all cells** (in the menubar, select Cell$\\rightarrow$Run All).\n",
    "\n",
    "Make sure you fill in any place that says `YOUR CODE HERE` or \"YOUR ANSWER HERE\", as well as your name and collaborators below:"
   ]
  },
  {
   "cell_type": "code",
   "execution_count": null,
   "metadata": {},
   "outputs": [],
   "source": [
    "NAME = \"cyx\"\n",
    "COLLABORATORS = \"\""
   ]
  },
  {
   "cell_type": "markdown",
   "metadata": {},
   "source": [
    "---"
   ]
  },
  {
   "cell_type": "markdown",
   "metadata": {
    "toc": true
   },
   "source": [
    "<h1>Table of Contents<span class=\"tocSkip\"></span></h1>\n",
    "<div class=\"toc\"><ul class=\"toc-item\"><li><span><a href=\"#What-is-a-function?\" data-toc-modified-id=\"What-is-a-function?-1\"><span class=\"toc-item-num\">1&nbsp;&nbsp;</span>What is a function?</a></span></li><li><span><a href=\"#Define-a-function\" data-toc-modified-id=\"Define-a-function-2\"><span class=\"toc-item-num\">2&nbsp;&nbsp;</span>Define a function</a></span></li><li><span><a href=\"#Calling-a-function\" data-toc-modified-id=\"Calling-a-function-3\"><span class=\"toc-item-num\">3&nbsp;&nbsp;</span>Calling a function</a></span></li><li><span><a href=\"#The-return-statement\" data-toc-modified-id=\"The-return-statement-4\"><span class=\"toc-item-num\">4&nbsp;&nbsp;</span>The return statement</a></span></li><li><span><a href=\"#Passing-arguments-to-functions\" data-toc-modified-id=\"Passing-arguments-to-functions-5\"><span class=\"toc-item-num\">5&nbsp;&nbsp;</span>Passing arguments to functions</a></span></li><li><span><a href=\"#Function-Arguments-(Parameters)\" data-toc-modified-id=\"Function-Arguments-(Parameters)-6\"><span class=\"toc-item-num\">6&nbsp;&nbsp;</span>Function Arguments (Parameters)</a></span><ul class=\"toc-item\"><li><span><a href=\"#Required-arguments\" data-toc-modified-id=\"Required-arguments-6.1\"><span class=\"toc-item-num\">6.1&nbsp;&nbsp;</span>Required arguments</a></span></li><li><span><a href=\"#Argument-keyword\" data-toc-modified-id=\"Argument-keyword-6.2\"><span class=\"toc-item-num\">6.2&nbsp;&nbsp;</span>Argument keyword</a></span></li><li><span><a href=\"#Default-arguments\" data-toc-modified-id=\"Default-arguments-6.3\"><span class=\"toc-item-num\">6.3&nbsp;&nbsp;</span>Default arguments</a></span></li><li><span><a href=\"#Variable-length-arguments\" data-toc-modified-id=\"Variable-length-arguments-6.4\"><span class=\"toc-item-num\">6.4&nbsp;&nbsp;</span>Variable-length arguments</a></span></li></ul></li><li><span><a href=\"#Exercises\" data-toc-modified-id=\"Exercises-7\"><span class=\"toc-item-num\">7&nbsp;&nbsp;</span>Exercises</a></span></li><li><span><a href=\"#Anonymous-Functions（匿名函数）and-Lambda-Operator\" data-toc-modified-id=\"Anonymous-Functions（匿名函数）and-Lambda-Operator-8\"><span class=\"toc-item-num\">8&nbsp;&nbsp;</span>Anonymous Functions（匿名函数）and Lambda Operator</a></span></li><li><span><a href=\"#Scope-of-Variables\" data-toc-modified-id=\"Scope-of-Variables-9\"><span class=\"toc-item-num\">9&nbsp;&nbsp;</span>Scope of Variables</a></span><ul class=\"toc-item\"><li><span><a href=\"#The-&quot;global&quot;-keyword\" data-toc-modified-id=\"The-&quot;global&quot;-keyword-9.1\"><span class=\"toc-item-num\">9.1&nbsp;&nbsp;</span>The \"global\" keyword</a></span></li></ul></li><li><span><a href=\"#Exercises-(Summary)\" data-toc-modified-id=\"Exercises-(Summary)-10\"><span class=\"toc-item-num\">10&nbsp;&nbsp;</span>Exercises (Summary)</a></span></li></ul></div>"
   ]
  },
  {
   "cell_type": "markdown",
   "metadata": {},
   "source": [
    "# Python  Functions"
   ]
  },
  {
   "cell_type": "markdown",
   "metadata": {},
   "source": [
    "**After this class, you will know:**\n",
    " \n",
    "* 1) What is a function?\n",
    "\n",
    "* 2) How to define a function?\n",
    "\n",
    "* 3) How to call a function?\n",
    "\n",
    "* 4) Different types of function arguments."
   ]
  },
  {
   "cell_type": "markdown",
   "metadata": {},
   "source": [
    "---"
   ]
  },
  {
   "cell_type": "markdown",
   "metadata": {},
   "source": [
    "## What is a function?\n",
    "\n",
    "* A function is a block of organized, reusable code that is used to perform a single, related action. Functions provide better <span class=\"mark\">**modularity**</span> for your application and a high degree of **code reusing**. \n",
    "\n",
    "<span class=\"mark\">**modularity：模块性**</span>\n",
    "\n",
    "* As you already know, Python gives you many **built-in** functions like `print()`, etc. but you can also create your own functions. These functions are called **user-defined** functions."
   ]
  },
  {
   "cell_type": "markdown",
   "metadata": {},
   "source": [
    "***Example***"
   ]
  },
  {
   "cell_type": "code",
   "execution_count": 3,
   "metadata": {
    "ExecuteTime": {
     "end_time": "2024-05-29T13:40:44.758429Z",
     "start_time": "2024-05-29T13:40:44.755435Z"
    }
   },
   "outputs": [],
   "source": [
    "def sayhello(name):\n",
    "    print('Hello ' + name + '!!!!!!!!!!!!!!!!!!!!!')\n"
   ]
  },
  {
   "cell_type": "code",
   "execution_count": 31,
   "metadata": {
    "ExecuteTime": {
     "end_time": "2024-05-29T13:54:36.649546Z",
     "start_time": "2024-05-29T13:54:36.646432Z"
    }
   },
   "outputs": [
    {
     "data": {
      "text/plain": [
       "0"
      ]
     },
     "execution_count": 31,
     "metadata": {},
     "output_type": "execute_result"
    }
   ],
   "source": [
    "4>>3"
   ]
  },
  {
   "cell_type": "code",
   "execution_count": 4,
   "metadata": {
    "ExecuteTime": {
     "end_time": "2024-05-29T13:40:46.095773Z",
     "start_time": "2024-05-29T13:40:46.092854Z"
    },
    "scrolled": true
   },
   "outputs": [
    {
     "name": "stdout",
     "output_type": "stream",
     "text": [
      "Hello Annie!!!!!!!!!!!!!!!!!!!!!\n"
     ]
    }
   ],
   "source": [
    "sayhello('Annie') # call the function"
   ]
  },
  {
   "cell_type": "markdown",
   "metadata": {},
   "source": [
    "## Define a function\n",
    "\n",
    "* You can define functions to provide the required functionality. Here are simple rules to define a function in Python.\n",
    "\n",
    "    * Function blocks begin with the keyword **def** followed by the function name and parentheses **()**.\n",
    "\n",
    "    * Any input parameters or arguments should be placed within these parentheses. You can also define parameters inside these parentheses.\n",
    "\n",
    "    * The first statement of a function can be an optional statement - the documentation string of the function or docstring.\n",
    "\n",
    "    * The code block within every function starts with a colon **:** and is indented.\n",
    "\n",
    "    * The statement `return expression` exits a function, optionally passing back an expression to the caller. A return statement with no arguments is the same as return None.\n",
    "    \n",
    "    * **return** is a keyword. When a **return** statement is reached, Python will stop the execution of the current function, sending a value out to where the function was called. The Python **return** statement is a key component of functions and methods."
   ]
  },
  {
   "cell_type": "markdown",
   "metadata": {},
   "source": [
    "**Syntax**\n",
    "\n",
    "``` python\n",
    "def FunctionName(arguments): # arguments are not necessary\n",
    "    \"function_docstring\" # not necessary\n",
    "    function_suite\n",
    "    return expression  # not necessary\n",
    "```"
   ]
  },
  {
   "cell_type": "markdown",
   "metadata": {},
   "source": [
    "***Example***"
   ]
  },
  {
   "cell_type": "code",
   "execution_count": 40,
   "metadata": {
    "ExecuteTime": {
     "end_time": "2024-05-29T13:56:04.959756Z",
     "start_time": "2024-05-29T13:56:04.957131Z"
    }
   },
   "outputs": [],
   "source": [
    "import math\n",
    "\n",
    "def longest_side(a, b):\n",
    "    \"\"\"\n",
    "    Function to find the length of the longest side of a right triangle.\n",
    "\n",
    "    arg a: Side a of the triangle\n",
    "    arg b: Side b of the triangle\n",
    "\n",
    "    return: Length of the longest side c as float.\n",
    "    \"\"\"\n",
    "    c = math.sqrt(a*a + b*b)\n",
    "    print(\"The longest side of the given triangle is %.2f cm\" %c) # given the two decimal float\n",
    "    \n",
    "    return c\n"
   ]
  },
  {
   "cell_type": "code",
   "execution_count": 41,
   "metadata": {
    "ExecuteTime": {
     "end_time": "2024-05-29T13:56:05.771199Z",
     "start_time": "2024-05-29T13:56:05.767440Z"
    }
   },
   "outputs": [
    {
     "name": "stdout",
     "output_type": "stream",
     "text": [
      "The longest side of the given triangle is 5.00 cm\n"
     ]
    },
    {
     "data": {
      "text/plain": [
       "5.0"
      ]
     },
     "execution_count": 41,
     "metadata": {},
     "output_type": "execute_result"
    }
   ],
   "source": [
    "longest_side(3, 4)"
   ]
  },
  {
   "cell_type": "code",
   "execution_count": 42,
   "metadata": {
    "ExecuteTime": {
     "end_time": "2024-05-29T13:56:20.607186Z",
     "start_time": "2024-05-29T13:56:20.603087Z"
    }
   },
   "outputs": [
    {
     "name": "stdout",
     "output_type": "stream",
     "text": [
      "The longest side of the given triangle is 25.00 cm\n"
     ]
    },
    {
     "data": {
      "text/plain": [
       "25.0"
      ]
     },
     "execution_count": 42,
     "metadata": {},
     "output_type": "execute_result"
    }
   ],
   "source": [
    "a = 7\n",
    "b = 24\n",
    "c = longest_side(a, b)\n",
    "c"
   ]
  },
  {
   "cell_type": "markdown",
   "metadata": {},
   "source": [
    "In Python we use docstrings to explain how to use the code, it will be useful in interactive mode and to create auto-documentation."
   ]
  },
  {
   "cell_type": "code",
   "execution_count": 43,
   "metadata": {
    "ExecuteTime": {
     "end_time": "2024-05-29T13:56:30.287106Z",
     "start_time": "2024-05-29T13:56:30.242034Z"
    }
   },
   "outputs": [],
   "source": [
    "?longest_side"
   ]
  },
  {
   "cell_type": "code",
   "execution_count": 44,
   "metadata": {
    "ExecuteTime": {
     "end_time": "2024-05-29T13:56:41.054349Z",
     "start_time": "2024-05-29T13:56:41.050467Z"
    }
   },
   "outputs": [],
   "source": [
    "?math.sqrt"
   ]
  },
  {
   "cell_type": "markdown",
   "metadata": {},
   "source": [
    "You can define a very simple and boring function like:"
   ]
  },
  {
   "cell_type": "code",
   "execution_count": 45,
   "metadata": {
    "ExecuteTime": {
     "end_time": "2024-05-29T13:56:50.492425Z",
     "start_time": "2024-05-29T13:56:50.489825Z"
    }
   },
   "outputs": [],
   "source": [
    "def func(a, b):\n",
    "    c = a + b\n",
    "    return c"
   ]
  },
  {
   "cell_type": "code",
   "execution_count": 46,
   "metadata": {
    "ExecuteTime": {
     "end_time": "2024-05-29T13:56:51.011910Z",
     "start_time": "2024-05-29T13:56:51.008098Z"
    }
   },
   "outputs": [
    {
     "data": {
      "text/plain": [
       "7"
      ]
     },
     "execution_count": 46,
     "metadata": {},
     "output_type": "execute_result"
    }
   ],
   "source": [
    "func(3, 4)"
   ]
  },
  {
   "cell_type": "code",
   "execution_count": 47,
   "metadata": {
    "ExecuteTime": {
     "end_time": "2024-05-29T13:56:56.352748Z",
     "start_time": "2024-05-29T13:56:56.350132Z"
    }
   },
   "outputs": [],
   "source": [
    "def func(): # no parameter\n",
    "    pass \n",
    "    # no return"
   ]
  },
  {
   "cell_type": "code",
   "execution_count": 51,
   "metadata": {
    "ExecuteTime": {
     "end_time": "2024-05-29T13:57:28.073013Z",
     "start_time": "2024-05-29T13:57:28.070928Z"
    }
   },
   "outputs": [],
   "source": [
    "#accept nothing, do nothing, returns nothing\n",
    "func()"
   ]
  },
  {
   "cell_type": "markdown",
   "metadata": {},
   "source": [
    "If you *evaluate* the function above, you can see it returns nothing."
   ]
  },
  {
   "cell_type": "markdown",
   "metadata": {},
   "source": [
    "## Calling a function\n",
    "\n",
    "* Defining a function only gives it a name, specifies the parameters that are to be included in the function and structures the blocks of code.\n",
    "\n",
    "* Once the basic structure of a function is finalized, you can execute it by calling it from another function or directly from the Python prompt. "
   ]
  },
  {
   "cell_type": "markdown",
   "metadata": {},
   "source": [
    "***Example***"
   ]
  },
  {
   "cell_type": "code",
   "execution_count": 52,
   "metadata": {
    "ExecuteTime": {
     "end_time": "2024-05-29T13:59:11.256742Z",
     "start_time": "2024-05-29T13:59:11.253990Z"
    }
   },
   "outputs": [],
   "source": [
    "def print_hello(name):\n",
    "    print('hello', name)"
   ]
  },
  {
   "cell_type": "code",
   "execution_count": 53,
   "metadata": {
    "ExecuteTime": {
     "end_time": "2024-05-29T13:59:12.208980Z",
     "start_time": "2024-05-29T13:59:12.205296Z"
    }
   },
   "outputs": [
    {
     "name": "stdout",
     "output_type": "stream",
     "text": [
      "hello Genos\n"
     ]
    }
   ],
   "source": [
    "print_hello('Genos')"
   ]
  },
  {
   "cell_type": "markdown",
   "metadata": {},
   "source": [
    "If you *execute* the function then it prints a message but the result of the function's execution is *None*. Actually, it is the default returned value when nothing is explicitly returned."
   ]
  },
  {
   "cell_type": "code",
   "execution_count": null,
   "metadata": {
    "ExecuteTime": {
     "end_time": "2022-09-15T02:50:01.230942Z",
     "start_time": "2022-09-15T02:50:01.226668Z"
    }
   },
   "outputs": [],
   "source": [
    "def greet(name):\n",
    "    \"\"\"\n",
    "    Prints a greeting to the name.\n",
    "\n",
    "    Greeting has the format 'Hello <name>!' followed by a conversation starter.\n",
    "\n",
    "    Precondition: name is a string representing a person's name.\n",
    "    \"\"\"\n",
    "    print('Hello ' + name + '!')\n",
    "    print('How are you?')"
   ]
  },
  {
   "cell_type": "code",
   "execution_count": null,
   "metadata": {
    "ExecuteTime": {
     "end_time": "2022-09-15T02:50:01.242478Z",
     "start_time": "2022-09-15T02:50:01.234181Z"
    }
   },
   "outputs": [],
   "source": [
    "greet('STAT students')"
   ]
  },
  {
   "cell_type": "markdown",
   "metadata": {},
   "source": [
    "## The return statement\n",
    "\n",
    "* The statement `return expression` exits a function, optionally passing back a value to the caller. A return statement with no arguments is the same as return *None*.\n",
    "\n",
    "* You can return a value from a function as follows"
   ]
  },
  {
   "cell_type": "code",
   "execution_count": 64,
   "metadata": {
    "ExecuteTime": {
     "end_time": "2024-05-29T14:01:07.063784Z",
     "start_time": "2024-05-29T14:01:07.061497Z"
    }
   },
   "outputs": [],
   "source": [
    "def sum_nums(arg1, arg2):\n",
    "    # Add both the parameters and return them.\n",
    "    total = arg1 + arg2\n",
    "    return total"
   ]
  },
  {
   "cell_type": "code",
   "execution_count": 66,
   "metadata": {
    "ExecuteTime": {
     "end_time": "2024-05-29T14:01:11.594297Z",
     "start_time": "2024-05-29T14:01:11.590088Z"
    }
   },
   "outputs": [
    {
     "data": {
      "text/plain": [
       "8"
      ]
     },
     "execution_count": 66,
     "metadata": {},
     "output_type": "execute_result"
    }
   ],
   "source": [
    "result = sum_nums(3, 5)\n",
    "result"
   ]
  },
  {
   "cell_type": "markdown",
   "metadata": {},
   "source": [
    "## Passing arguments to functions\n",
    "\n",
    "* All parameters (arguments) in the Python language are passed by reference \n",
    "\n",
    "It means if you change what a parameter refers to within a function, the change also reflects back in the calling function."
   ]
  },
  {
   "cell_type": "code",
   "execution_count": 67,
   "metadata": {
    "ExecuteTime": {
     "end_time": "2024-05-29T14:01:23.124714Z",
     "start_time": "2024-05-29T14:01:23.122351Z"
    }
   },
   "outputs": [],
   "source": [
    "def func(b):\n",
    "    print('Argument passed is: ', b)"
   ]
  },
  {
   "cell_type": "code",
   "execution_count": 68,
   "metadata": {
    "ExecuteTime": {
     "end_time": "2024-05-29T14:01:29.415868Z",
     "start_time": "2024-05-29T14:01:29.412672Z"
    }
   },
   "outputs": [
    {
     "name": "stdout",
     "output_type": "stream",
     "text": [
      "Argument passed is:  2\n"
     ]
    }
   ],
   "source": [
    "# Argument passing when calling a function is just like adding a new reference to the variable, like below\n",
    "a = 2\n",
    "func(a)"
   ]
  },
  {
   "cell_type": "markdown",
   "metadata": {},
   "source": [
    "## Function Arguments (Parameters)\n",
    "\n",
    "* You can call a function by using the following types of formal arguments:\n",
    "\n",
    "    * Required arguments\n",
    "\n",
    "    * Argument keyword\n",
    "    \n",
    "    * Default arguments\n",
    "\n",
    "    * Variable-length arguments"
   ]
  },
  {
   "cell_type": "markdown",
   "metadata": {},
   "source": [
    "### Required arguments\n",
    "\n",
    "Required arguments are the arguments passed to a function in correct positional order. Here, the number of arguments in the *function call* should match **exactly** with the *function definition*."
   ]
  },
  {
   "cell_type": "markdown",
   "metadata": {},
   "source": [
    "***Example***"
   ]
  },
  {
   "cell_type": "code",
   "execution_count": 36,
   "metadata": {
    "ExecuteTime": {
     "end_time": "2024-03-07T06:19:19.525607Z",
     "start_time": "2024-03-07T06:19:19.523159Z"
    }
   },
   "outputs": [],
   "source": [
    "def printme(a, b):\n",
    "    \"\"\"\n",
    "    This prints a passed string into this function.\n",
    "    \"\"\"\n",
    "    print(\"a is:\", a, \"  b is:\", b)"
   ]
  },
  {
   "cell_type": "code",
   "execution_count": 38,
   "metadata": {
    "ExecuteTime": {
     "end_time": "2024-03-07T06:19:28.437517Z",
     "start_time": "2024-03-07T06:19:28.434722Z"
    }
   },
   "outputs": [
    {
     "name": "stdout",
     "output_type": "stream",
     "text": [
      "a is: 1   b is: 2\n"
     ]
    }
   ],
   "source": [
    "# Now you can call printme function\n",
    "printme(1, 2)"
   ]
  },
  {
   "cell_type": "markdown",
   "metadata": {},
   "source": [
    "Note, \"1\" and \"2\" are exactly matching to \"a\" and \"b\" here."
   ]
  },
  {
   "cell_type": "markdown",
   "metadata": {},
   "source": [
    "### Argument keyword \n",
    "\n",
    "* Keyword arguments are related to the function calls. When you use keyword arguments in a function call, the caller identifies the arguments by the parameter name.\n",
    "\n",
    "* This allows you to place arguments **out of order** because the Python interpreter is able to use the keywords provided to match the values with parameters. "
   ]
  },
  {
   "cell_type": "markdown",
   "metadata": {},
   "source": [
    "***Example***"
   ]
  },
  {
   "cell_type": "code",
   "execution_count": 69,
   "metadata": {
    "ExecuteTime": {
     "end_time": "2024-05-29T14:13:40.554179Z",
     "start_time": "2024-05-29T14:13:40.551637Z"
    }
   },
   "outputs": [],
   "source": [
    "def printme(a, b):\n",
    "    \"\"\"\n",
    "    This prints a passed string into this function.\n",
    "    \"\"\"\n",
    "    print(\"a is:\", a, \"  b is:\", b)"
   ]
  },
  {
   "cell_type": "code",
   "execution_count": 70,
   "metadata": {
    "ExecuteTime": {
     "end_time": "2024-05-29T14:13:41.513375Z",
     "start_time": "2024-05-29T14:13:41.510065Z"
    }
   },
   "outputs": [
    {
     "name": "stdout",
     "output_type": "stream",
     "text": [
      "a is: 2   b is: 1\n"
     ]
    }
   ],
   "source": [
    "# You do not need to care about the argument order here due to the help of keyword arguments\n",
    "printme(b=1, a=2)"
   ]
  },
  {
   "cell_type": "markdown",
   "metadata": {},
   "source": [
    "### Default arguments\n",
    "\n",
    "A default argument is an argument that assumes a default value if a value is not provided in the function call for that argument. "
   ]
  },
  {
   "cell_type": "code",
   "execution_count": 71,
   "metadata": {
    "ExecuteTime": {
     "end_time": "2024-05-29T14:15:27.458611Z",
     "start_time": "2024-05-29T14:15:27.455835Z"
    }
   },
   "outputs": [],
   "source": [
    "def printme(a, b, c=10, d=5):\n",
    "    \"\"\"\n",
    "    This prints a passed string into this function.\n",
    "    \"\"\"\n",
    "    print(\"a is:\", a, \"  b is:\", b, \"  c is:\", c, \"  d is:\", d)"
   ]
  },
  {
   "cell_type": "code",
   "execution_count": 72,
   "metadata": {
    "ExecuteTime": {
     "end_time": "2024-05-29T14:15:28.263996Z",
     "start_time": "2024-05-29T14:15:28.260310Z"
    }
   },
   "outputs": [
    {
     "name": "stdout",
     "output_type": "stream",
     "text": [
      "a is: 1   b is: 2   c is: 10   d is: 5\n"
     ]
    }
   ],
   "source": [
    "# You can set arguments c, d with a default value\n",
    "printme(1, 2)"
   ]
  },
  {
   "cell_type": "code",
   "execution_count": 73,
   "metadata": {
    "ExecuteTime": {
     "end_time": "2024-05-29T14:15:29.429738Z",
     "start_time": "2024-05-29T14:15:29.426629Z"
    }
   },
   "outputs": [
    {
     "name": "stdout",
     "output_type": "stream",
     "text": [
      "a is: 1   b is: 2   c is: 10   d is: 5\n"
     ]
    }
   ],
   "source": [
    "# You can set arguments c, d with a default value\n",
    "printme(a=1, b=2)"
   ]
  },
  {
   "cell_type": "code",
   "execution_count": 74,
   "metadata": {
    "ExecuteTime": {
     "end_time": "2024-05-29T14:15:32.987748Z",
     "start_time": "2024-05-29T14:15:32.984551Z"
    }
   },
   "outputs": [
    {
     "name": "stdout",
     "output_type": "stream",
     "text": [
      "a is: 1   b is: 2   c is: 5   d is: 9\n"
     ]
    }
   ],
   "source": [
    "printme(1, 2, 5, 9)"
   ]
  },
  {
   "cell_type": "code",
   "execution_count": 77,
   "metadata": {
    "ExecuteTime": {
     "end_time": "2024-05-29T14:16:50.840983Z",
     "start_time": "2024-05-29T14:16:50.838241Z"
    }
   },
   "outputs": [],
   "source": [
    "def printme(a, b=10):\n",
    "    \"\"\"\n",
    "    This prints a passed string into this function.\n",
    "    \"\"\"\n",
    "    print(\"a is:\", a, \"  b is:\", b)"
   ]
  },
  {
   "cell_type": "code",
   "execution_count": 78,
   "metadata": {
    "ExecuteTime": {
     "end_time": "2024-05-29T14:16:51.342515Z",
     "start_time": "2024-05-29T14:16:51.339044Z"
    }
   },
   "outputs": [
    {
     "name": "stdout",
     "output_type": "stream",
     "text": [
      "a is: 1   b is: 10\n"
     ]
    }
   ],
   "source": [
    "# You can set arguments b with a default value\n",
    "printme(1)"
   ]
  },
  {
   "cell_type": "code",
   "execution_count": 79,
   "metadata": {
    "ExecuteTime": {
     "end_time": "2024-05-29T14:16:51.796630Z",
     "start_time": "2024-05-29T14:16:51.793714Z"
    }
   },
   "outputs": [
    {
     "name": "stdout",
     "output_type": "stream",
     "text": [
      "a is: 1   b is: 2\n"
     ]
    }
   ],
   "source": [
    "printme(1, 2)"
   ]
  },
  {
   "cell_type": "markdown",
   "metadata": {},
   "source": [
    "***More Examples:***"
   ]
  },
  {
   "cell_type": "markdown",
   "metadata": {},
   "source": [
    "***Example 1:***"
   ]
  },
  {
   "cell_type": "code",
   "execution_count": 80,
   "metadata": {
    "ExecuteTime": {
     "end_time": "2024-05-29T14:18:34.392243Z",
     "start_time": "2024-05-29T14:18:34.388780Z"
    }
   },
   "outputs": [],
   "source": [
    "def second_in_list(s):\n",
    "    \"\"\"\n",
    "    Returns: the second item in comma-separated list.\n",
    "\n",
    "    The final result does not have any whitespace on edges.\n",
    "   \n",
    "    Precondition: s is a string of items separated by a comma.\n",
    "    \"\"\"\n",
    "    startcomma = s.index(',')\n",
    "    tail = s[startcomma+1:]\n",
    "    endcomma = tail.index(',')\n",
    "    item = tail[:endcomma].strip()\n",
    "    return item"
   ]
  },
  {
   "cell_type": "code",
   "execution_count": 82,
   "metadata": {
    "ExecuteTime": {
     "end_time": "2024-05-29T14:19:14.346568Z",
     "start_time": "2024-05-29T14:19:14.342807Z"
    }
   },
   "outputs": [
    {
     "data": {
      "text/plain": [
       "2"
      ]
     },
     "execution_count": 82,
     "metadata": {},
     "output_type": "execute_result"
    }
   ],
   "source": [
    "s = 'do, you, like, Python?'\n",
    "s.index(',')"
   ]
  },
  {
   "cell_type": "code",
   "execution_count": 83,
   "metadata": {
    "ExecuteTime": {
     "end_time": "2024-05-29T14:19:17.572369Z",
     "start_time": "2024-05-29T14:19:17.568966Z"
    }
   },
   "outputs": [
    {
     "data": {
      "text/plain": [
       "'you'"
      ]
     },
     "execution_count": 83,
     "metadata": {},
     "output_type": "execute_result"
    }
   ],
   "source": [
    "second_in_list(s)"
   ]
  },
  {
   "cell_type": "code",
   "execution_count": 84,
   "metadata": {
    "ExecuteTime": {
     "end_time": "2024-05-29T14:19:18.509766Z",
     "start_time": "2024-05-29T14:19:18.506279Z"
    }
   },
   "outputs": [
    {
     "data": {
      "text/plain": [
       "['do', ' you', ' like', ' Python?']"
      ]
     },
     "execution_count": 84,
     "metadata": {},
     "output_type": "execute_result"
    }
   ],
   "source": [
    "s.split(',')"
   ]
  },
  {
   "cell_type": "code",
   "execution_count": 85,
   "metadata": {
    "ExecuteTime": {
     "end_time": "2024-05-29T14:19:25.286551Z",
     "start_time": "2024-05-29T14:19:25.282338Z"
    }
   },
   "outputs": [
    {
     "data": {
      "text/plain": [
       "'you'"
      ]
     },
     "execution_count": 85,
     "metadata": {},
     "output_type": "execute_result"
    }
   ],
   "source": [
    "s.split(',')[1].strip()"
   ]
  },
  {
   "cell_type": "markdown",
   "metadata": {},
   "source": [
    "**Pay attention to the different between 'strip() 删除左右空格' and 'split() 根据...将字符串拆开，and return a list'**"
   ]
  },
  {
   "cell_type": "markdown",
   "metadata": {},
   "source": [
    "***Example 2***"
   ]
  },
  {
   "cell_type": "code",
   "execution_count": 86,
   "metadata": {
    "ExecuteTime": {
     "end_time": "2024-05-29T15:36:28.146607Z",
     "start_time": "2024-05-29T15:36:28.143179Z"
    }
   },
   "outputs": [],
   "source": [
    "\"\"\"\n",
    "    Conversion functions between fahrentheit and centigrade.\n",
    "    This shows off two functions for converting temperature back and forth between fahrenheit and centigrade. \n",
    "    It also shows how to use variables to represent \"constants\", or values that we give a name in order to remember \n",
    "    them better.\n",
    "\"\"\"\n",
    "\n",
    "# Functions\n",
    "def to_centigrade(x):\n",
    "    \"\"\"\n",
    "    Returns: x converted to centigrade.\n",
    "\n",
    "    Value returned has type float.\n",
    "\n",
    "    Precondition: x is a float measuring temperature in fahrenheit.\n",
    "    \"\"\"\n",
    "    return 5*(x-32)/9.0\n",
    "\n",
    "\n",
    "\n",
    "def to_fahrenheit(x):\n",
    "    \"\"\"\n",
    "    Returns: x converted to fahrenheit.\n",
    "\n",
    "    Value returned has type float.\n",
    "\n",
    "    Precondition: x is a float measuring temperature in centigrade.\n",
    "    \"\"\"\n",
    "    return 9*x/5.0+32"
   ]
  },
  {
   "cell_type": "code",
   "execution_count": 87,
   "metadata": {
    "ExecuteTime": {
     "end_time": "2024-05-29T15:36:29.261723Z",
     "start_time": "2024-05-29T15:36:29.258278Z"
    }
   },
   "outputs": [
    {
     "name": "stdout",
     "output_type": "stream",
     "text": [
      "0 centigrade in fahrenheit scale is:  32.0\n"
     ]
    }
   ],
   "source": [
    "# Constants\n",
    "FREEZING_C = 0.0   # Temperature of freezing water in centigrade\n",
    "\n",
    "FREEZING_F = to_fahrenheit(FREEZING_C)\n",
    "print('0 centigrade in fahrenheit scale is: ', FREEZING_F)"
   ]
  },
  {
   "cell_type": "code",
   "execution_count": 88,
   "metadata": {
    "ExecuteTime": {
     "end_time": "2024-05-29T15:36:31.289534Z",
     "start_time": "2024-05-29T15:36:31.286069Z"
    }
   },
   "outputs": [
    {
     "name": "stdout",
     "output_type": "stream",
     "text": [
      "100 centigrades in fahrenheit scale is:  212.0\n"
     ]
    }
   ],
   "source": [
    "# Constants\n",
    "BOILING_C = 100.0  # Temperature of boiling water in centigrade\n",
    "\n",
    "BOILING_F = to_fahrenheit(BOILING_C)\n",
    "print('100 centigrades in fahrenheit scale is: ', BOILING_F)"
   ]
  },
  {
   "cell_type": "code",
   "execution_count": 89,
   "metadata": {
    "ExecuteTime": {
     "end_time": "2024-05-29T15:36:32.534604Z",
     "start_time": "2024-05-29T15:36:32.530494Z"
    }
   },
   "outputs": [],
   "source": [
    "?to_centigrade"
   ]
  },
  {
   "cell_type": "code",
   "execution_count": 90,
   "metadata": {
    "ExecuteTime": {
     "end_time": "2024-05-29T15:36:35.718353Z",
     "start_time": "2024-05-29T15:36:35.715526Z"
    }
   },
   "outputs": [],
   "source": [
    "%pdoc to_centigrade"
   ]
  },
  {
   "cell_type": "code",
   "execution_count": 91,
   "metadata": {
    "ExecuteTime": {
     "end_time": "2024-05-29T15:36:36.864899Z",
     "start_time": "2024-05-29T15:36:36.862231Z"
    }
   },
   "outputs": [],
   "source": [
    "?math"
   ]
  },
  {
   "cell_type": "markdown",
   "metadata": {},
   "source": [
    "### Variable-length arguments\n",
    "\n",
    "* You may need to process a function for more arguments than you specified while defining the function. These arguments are called variable-length arguments and are not named in the function definition, unlike *required* and *default* arguments.\n",
    "\n",
    "* Syntax for a function with non-keyword variable arguments is:\n",
    "\n",
    "```py\n",
    "def functionname([formal_args,] *var_args_tuple):\n",
    "    function_suite\n",
    "    return expression\n",
    "```\n",
    "\n",
    "* A star (*) is placed before the variable name that holds the values of all non-keyword variable arguments. This tuple remains empty if no additional arguments are specified during the function call.\n",
    "\n",
    "We choose this method of calling arguments as, sometimes, we may want the number of possible arguments not to be fixed."
   ]
  },
  {
   "cell_type": "code",
   "execution_count": 75,
   "metadata": {
    "ExecuteTime": {
     "end_time": "2024-03-11T05:04:19.633418Z",
     "start_time": "2024-03-11T05:04:19.630774Z"
    }
   },
   "outputs": [],
   "source": [
    "def printinfo(a, *vartuple):\n",
    "    \"\"\"\n",
    "    This prints a variable passed arguments.\n",
    "    \"\"\"\n",
    "    print(\"Output is: \")\n",
    "    print('a is', a)\n",
    "    for var in vartuple:\n",
    "        print(var)"
   ]
  },
  {
   "cell_type": "code",
   "execution_count": 76,
   "metadata": {
    "ExecuteTime": {
     "end_time": "2024-03-11T05:04:22.113397Z",
     "start_time": "2024-03-11T05:04:22.109484Z"
    }
   },
   "outputs": [
    {
     "name": "stdout",
     "output_type": "stream",
     "text": [
      "Output is: \n",
      "a is hi\n",
      "1\n",
      "2\n",
      "world\n"
     ]
    }
   ],
   "source": [
    "printinfo('hi', 1, 2, \"world\")"
   ]
  },
  {
   "cell_type": "code",
   "execution_count": 77,
   "metadata": {
    "ExecuteTime": {
     "end_time": "2024-03-11T05:04:47.710375Z",
     "start_time": "2024-03-11T05:04:47.707981Z"
    }
   },
   "outputs": [],
   "source": [
    "another_name = printinfo # Change the name of function"
   ]
  },
  {
   "cell_type": "code",
   "execution_count": 78,
   "metadata": {
    "ExecuteTime": {
     "end_time": "2024-03-11T05:04:56.432584Z",
     "start_time": "2024-03-11T05:04:56.429669Z"
    }
   },
   "outputs": [
    {
     "name": "stdout",
     "output_type": "stream",
     "text": [
      "Output is: \n",
      "a is hi\n",
      "1\n",
      "2\n"
     ]
    }
   ],
   "source": [
    "another_name('hi', 1, 2)"
   ]
  },
  {
   "cell_type": "markdown",
   "metadata": {},
   "source": [
    "## Exercises"
   ]
  },
  {
   "cell_type": "markdown",
   "metadata": {
    "deletable": false,
    "editable": false,
    "nbgrader": {
     "cell_type": "markdown",
     "checksum": "7bbc08b6ef2798633968d0a776fba4c1",
     "grade": false,
     "grade_id": "cell-87346cb0b76ed85c",
     "locked": true,
     "schema_version": 3,
     "solution": false,
     "task": false
    }
   },
   "source": [
    "**1**. Define a two-variable addition calculator `cal_sum(a, b)` that **returns** the sum of the two variables `a` and `b`."
   ]
  },
  {
   "cell_type": "code",
   "execution_count": 74,
   "metadata": {
    "ExecuteTime": {
     "end_time": "2024-03-11T05:01:17.472223Z",
     "start_time": "2024-03-11T05:01:17.469898Z"
    },
    "deletable": false,
    "nbgrader": {
     "cell_type": "code",
     "checksum": "1deb1e94ef841318e0bd7f9997d0e9fb",
     "grade": false,
     "grade_id": "cell-86ec092929619210",
     "locked": false,
     "schema_version": 3,
     "solution": true,
     "task": false
    }
   },
   "outputs": [],
   "source": [
    "def cal_sum(a, b):\n",
    "    return a+b"
   ]
  },
  {
   "cell_type": "code",
   "execution_count": null,
   "metadata": {
    "deletable": false,
    "editable": false,
    "nbgrader": {
     "cell_type": "code",
     "checksum": "ab4652f4ce0ad99fc4f4b93575f9ffb9",
     "grade": true,
     "grade_id": "cell-e6668be9d94a93f3",
     "locked": true,
     "points": 10,
     "schema_version": 3,
     "solution": false,
     "task": false
    }
   },
   "outputs": [],
   "source": []
  },
  {
   "cell_type": "markdown",
   "metadata": {
    "deletable": false,
    "editable": false,
    "nbgrader": {
     "cell_type": "markdown",
     "checksum": "fab7c5eb69970f86112f2779bf1b9c42",
     "grade": false,
     "grade_id": "cell-83101908e18bc3f2",
     "locked": true,
     "schema_version": 3,
     "solution": false,
     "task": false
    }
   },
   "source": [
    "**2**. Define a function ``FullName(name, capital=True)``. Inside the function:\n",
    "\n",
    "- a. Create a string variable `str1` that stores the string `\"Full Name: \"`\n",
    "\n",
    "- b. `if capital == True`, use `upper()` function to convert `name` into Uppercase letters and assign this to a variable `NewName`\n",
    "\n",
    "- c. `if capital == False`, use `title()` function to convert the first character of each word in `name` to Uppercase letter and the other characters in lower case and assign this to a variable `NewName`\n",
    "\n",
    "- **return** the string \"Full Name: \" + NewName \n",
    "\n",
    "**Example**\n",
    "\n",
    "```py\n",
    "FullName(\"guido vAn rossum\", capital = True)\n",
    "Expected output: 'Full Name: GUIDO VAN ROSSUM'\n",
    "\n",
    "\n",
    "FullName(\"guido vAn rossum\", capital = False), \n",
    "Expected output: 'Full Name: Guido Van Rossum'\n",
    "```"
   ]
  },
  {
   "cell_type": "code",
   "execution_count": 2,
   "metadata": {
    "ExecuteTime": {
     "end_time": "2024-03-11T06:27:47.199264Z",
     "start_time": "2024-03-11T06:27:47.175766Z"
    },
    "deletable": false,
    "nbgrader": {
     "cell_type": "code",
     "checksum": "f4964d004bbc3c67c862502b36e79669",
     "grade": false,
     "grade_id": "cell-9b1bf87f2cbb26f7",
     "locked": false,
     "schema_version": 3,
     "solution": true,
     "task": false
    }
   },
   "outputs": [],
   "source": [
    "def FullName(name, capital=True):\n",
    "    str1 = \"Full Name: \"\n",
    "    if capital == True:\n",
    "        NewName = name.upper()\n",
    "    if capital == False:\n",
    "        NewName = name.title()\n",
    "    return str1 + NewName"
   ]
  },
  {
   "cell_type": "code",
   "execution_count": null,
   "metadata": {
    "deletable": false,
    "editable": false,
    "nbgrader": {
     "cell_type": "code",
     "checksum": "10e31408b30b5ce6d47aa82926e0279e",
     "grade": true,
     "grade_id": "cell-00afdebc10af0939",
     "locked": true,
     "points": 5,
     "schema_version": 3,
     "solution": false,
     "task": false
    }
   },
   "outputs": [],
   "source": []
  },
  {
   "cell_type": "code",
   "execution_count": 3,
   "metadata": {
    "ExecuteTime": {
     "end_time": "2024-03-11T06:27:49.448136Z",
     "start_time": "2024-03-11T06:27:49.389722Z"
    }
   },
   "outputs": [
    {
     "data": {
      "text/plain": [
       "'Full Name: GUIDO VAN ROSSUM'"
      ]
     },
     "execution_count": 3,
     "metadata": {},
     "output_type": "execute_result"
    }
   ],
   "source": [
    "FullName(\"guido vAn rossum\", capital = True)"
   ]
  },
  {
   "cell_type": "code",
   "execution_count": 4,
   "metadata": {
    "ExecuteTime": {
     "end_time": "2024-03-11T06:28:00.331937Z",
     "start_time": "2024-03-11T06:28:00.324747Z"
    }
   },
   "outputs": [
    {
     "data": {
      "text/plain": [
       "'Full Name: Guido Van Rossum'"
      ]
     },
     "execution_count": 4,
     "metadata": {},
     "output_type": "execute_result"
    }
   ],
   "source": [
    "FullName(\"guido vAn rossum\", capital = False)"
   ]
  },
  {
   "cell_type": "code",
   "execution_count": null,
   "metadata": {
    "deletable": false,
    "editable": false,
    "nbgrader": {
     "cell_type": "code",
     "checksum": "8535a04c2f163f9aa7abc2942d996256",
     "grade": true,
     "grade_id": "cell-0258f2ddd6d3b7a2",
     "locked": true,
     "points": 5,
     "schema_version": 3,
     "solution": false,
     "task": false
    }
   },
   "outputs": [],
   "source": []
  },
  {
   "cell_type": "code",
   "execution_count": null,
   "metadata": {
    "deletable": false,
    "editable": false,
    "nbgrader": {
     "cell_type": "code",
     "checksum": "38dc0186e7a63896f0997aecf101d9c6",
     "grade": true,
     "grade_id": "cell-3cbcb97b68fbd7bc",
     "locked": true,
     "points": 5,
     "schema_version": 3,
     "solution": false,
     "task": false
    }
   },
   "outputs": [],
   "source": []
  },
  {
   "cell_type": "code",
   "execution_count": null,
   "metadata": {
    "deletable": false,
    "editable": false,
    "nbgrader": {
     "cell_type": "code",
     "checksum": "a3f65022f2629b94d724a947588365e5",
     "grade": true,
     "grade_id": "cell-6aaf3ee739f99624",
     "locked": true,
     "points": 5,
     "schema_version": 3,
     "solution": false,
     "task": false
    }
   },
   "outputs": [],
   "source": []
  },
  {
   "cell_type": "markdown",
   "metadata": {
    "deletable": false,
    "editable": false,
    "nbgrader": {
     "cell_type": "markdown",
     "checksum": "1401dc7a0c30c7c4d2ebb4e521c06e58",
     "grade": false,
     "grade_id": "cell-42ef06af5a3f3a3a",
     "locked": true,
     "schema_version": 3,
     "solution": false,
     "task": false
    }
   },
   "source": [
    "**3**. In a function ``first_last(arg1)``, **return** `a+b`, where `a` is the first character and `b` is the last character of a string `arg1`.\n",
    "\n",
    "**Example**\n",
    "\n",
    "```py\n",
    "first_last(\"My Name is Andrew\")\n",
    "\n",
    "Expected output:\n",
    "\"Mw\"\n",
    "```\n",
    "\n",
    "**Hint** \n",
    "- The function `len()` gives you the length of the list. For example, ``len('abcd')`` returns 4. So, the last element of `arg1` is therefore indexed at `len(arg1) - 1`. "
   ]
  },
  {
   "cell_type": "code",
   "execution_count": 8,
   "metadata": {
    "ExecuteTime": {
     "end_time": "2024-03-11T06:29:16.071160Z",
     "start_time": "2024-03-11T06:29:16.068975Z"
    },
    "deletable": false,
    "nbgrader": {
     "cell_type": "code",
     "checksum": "7a8fadea105c91b50c8e686e2c8a2d32",
     "grade": false,
     "grade_id": "cell-aeac0cb664e6c029",
     "locked": false,
     "schema_version": 3,
     "solution": true,
     "task": false
    }
   },
   "outputs": [],
   "source": [
    "def first_last(arg1):  \n",
    "    return arg1[0]+arg1[-1]\n",
    "    "
   ]
  },
  {
   "cell_type": "code",
   "execution_count": 9,
   "metadata": {
    "ExecuteTime": {
     "end_time": "2024-03-11T06:29:18.446198Z",
     "start_time": "2024-03-11T06:29:18.440064Z"
    }
   },
   "outputs": [
    {
     "data": {
      "text/plain": [
       "'Mw'"
      ]
     },
     "execution_count": 9,
     "metadata": {},
     "output_type": "execute_result"
    }
   ],
   "source": [
    "first_last(\"My Name is Andrew\")"
   ]
  },
  {
   "cell_type": "code",
   "execution_count": null,
   "metadata": {
    "deletable": false,
    "editable": false,
    "nbgrader": {
     "cell_type": "code",
     "checksum": "88445a661a5ce03f7e73863617727922",
     "grade": true,
     "grade_id": "cell-ad93939145a6ee34",
     "locked": true,
     "points": 15,
     "schema_version": 3,
     "solution": false,
     "task": false
    }
   },
   "outputs": [],
   "source": []
  },
  {
   "cell_type": "markdown",
   "metadata": {
    "ExecuteTime": {
     "end_time": "2023-06-26T06:26:06.444019Z",
     "start_time": "2023-06-26T06:26:06.436459Z"
    },
    "deletable": false,
    "editable": false,
    "nbgrader": {
     "cell_type": "markdown",
     "checksum": "aa3ae4253cea7a8e846b38ec8dd37dae",
     "grade": false,
     "grade_id": "cell-16275b46b50b2b2f",
     "locked": true,
     "schema_version": 3,
     "solution": false,
     "task": false
    }
   },
   "source": [
    "**4**. In a function ``volume_c(radius, height)``,\n",
    "\n",
    "- Create a variable `vol` to calculate the volume of cone, assuming `pi` is equal to 3.14.  Given the formula for volume of cone is: $ volume = \\frac{1}{3}\\, \\pi r^{2}h $, where `r` is the radius and `h` is the height.\n",
    "\n",
    "- **return** `vol` "
   ]
  },
  {
   "cell_type": "code",
   "execution_count": 11,
   "metadata": {
    "ExecuteTime": {
     "end_time": "2024-03-11T06:29:35.824829Z",
     "start_time": "2024-03-11T06:29:35.816569Z"
    },
    "deletable": false,
    "nbgrader": {
     "cell_type": "code",
     "checksum": "f2f5eec68449f7bcde7b63b977617915",
     "grade": false,
     "grade_id": "cell-40d5de3faa9ccf49",
     "locked": false,
     "schema_version": 3,
     "solution": true,
     "task": false
    }
   },
   "outputs": [],
   "source": [
    "def volume_c(radius, height):\n",
    "    pi = 3.14\n",
    "    vol = 1/3*pi*(radius**2)*height\n",
    "    return vol"
   ]
  },
  {
   "cell_type": "code",
   "execution_count": null,
   "metadata": {
    "deletable": false,
    "editable": false,
    "nbgrader": {
     "cell_type": "code",
     "checksum": "5669505e73518a9dab0e89bfb3a5dee5",
     "grade": true,
     "grade_id": "cell-2d3a04cb32f67acb",
     "locked": true,
     "points": 10,
     "schema_version": 3,
     "solution": false,
     "task": false
    }
   },
   "outputs": [],
   "source": []
  },
  {
   "cell_type": "code",
   "execution_count": null,
   "metadata": {
    "deletable": false,
    "editable": false,
    "nbgrader": {
     "cell_type": "code",
     "checksum": "a4a593f8973a7274b33a1bc50662837f",
     "grade": true,
     "grade_id": "cell-e5a6c307df9a1bfa",
     "locked": true,
     "points": 5,
     "schema_version": 3,
     "solution": false,
     "task": false
    }
   },
   "outputs": [],
   "source": []
  },
  {
   "cell_type": "markdown",
   "metadata": {},
   "source": [
    "## Anonymous Functions（匿名函数）and Lambda Operator\n",
    "\n",
    "* These functions are called anonymous because they are not declared in the standard manner by using the `def` keyword. You can use the `lambda` keyword to create small anonymous functions.\n",
    "\n",
    "    * Lambda forms can take any number of arguments <span class=\"mark\">but return just one value</span> in the form of an expression. They cannot contain commands or multiple expressions.\n",
    "    \n",
    "    * An anonymous function cannot be a direct call to print because lambda requires an expression.\n",
    "    \n",
    "    * Lambda functions have their own local namespace and cannot access variables other than those in their parameter list and those in the global namespace.\n",
    "    \n",
    "    * A lambda function is a value so you can store it in a variable, just like any other value.\n",
    "    \n",
    "**Syntax**\n",
    "\n",
    "```\n",
    "lambda [arg1 ,arg2,..., argn]: expression\n",
    "\n",
    "```\n",
    "* argument:参数/变量  \n",
    "* expression:运算/返回值"
   ]
  },
  {
   "cell_type": "markdown",
   "metadata": {},
   "source": [
    "***Example***"
   ]
  },
  {
   "cell_type": "code",
   "execution_count": 92,
   "metadata": {
    "ExecuteTime": {
     "end_time": "2024-05-30T07:02:13.341385Z",
     "start_time": "2024-05-30T07:02:13.335442Z"
    }
   },
   "outputs": [],
   "source": [
    "sum_lambda1 = lambda arg1, arg2: arg1 + arg2"
   ]
  },
  {
   "cell_type": "code",
   "execution_count": 80,
   "metadata": {
    "ExecuteTime": {
     "end_time": "2024-03-11T05:09:38.490737Z",
     "start_time": "2024-03-11T05:09:38.487679Z"
    }
   },
   "outputs": [
    {
     "data": {
      "text/plain": [
       "3"
      ]
     },
     "execution_count": 80,
     "metadata": {},
     "output_type": "execute_result"
    }
   ],
   "source": [
    "sum_lambda1(1, 2)"
   ]
  },
  {
   "cell_type": "code",
   "execution_count": 99,
   "metadata": {
    "ExecuteTime": {
     "end_time": "2024-05-30T07:04:30.749592Z",
     "start_time": "2024-05-30T07:04:30.746737Z"
    }
   },
   "outputs": [],
   "source": [
    "def sum_lambda2(arg1, arg2):\n",
    "    return arg1 + arg2"
   ]
  },
  {
   "cell_type": "code",
   "execution_count": 100,
   "metadata": {
    "ExecuteTime": {
     "end_time": "2024-05-30T07:04:32.894503Z",
     "start_time": "2024-05-30T07:04:32.890916Z"
    }
   },
   "outputs": [
    {
     "data": {
      "text/plain": [
       "3"
      ]
     },
     "execution_count": 100,
     "metadata": {},
     "output_type": "execute_result"
    }
   ],
   "source": [
    "sum_lambda2(1, 2)"
   ]
  },
  {
   "cell_type": "code",
   "execution_count": 93,
   "metadata": {
    "ExecuteTime": {
     "end_time": "2024-05-30T07:02:14.851105Z",
     "start_time": "2024-05-30T07:02:14.847022Z"
    }
   },
   "outputs": [
    {
     "name": "stdout",
     "output_type": "stream",
     "text": [
      "Value of total :  30\n"
     ]
    }
   ],
   "source": [
    "print(\"Value of total : \", sum_lambda1(10, 20))"
   ]
  },
  {
   "cell_type": "code",
   "execution_count": 84,
   "metadata": {
    "ExecuteTime": {
     "end_time": "2024-03-11T05:12:46.261931Z",
     "start_time": "2024-03-11T05:12:46.259169Z"
    }
   },
   "outputs": [
    {
     "name": "stdout",
     "output_type": "stream",
     "text": [
      "Value of total :  40\n"
     ]
    }
   ],
   "source": [
    "print(\"Value of total : \", sum_lambda1(20, 20))"
   ]
  },
  {
   "cell_type": "code",
   "execution_count": 85,
   "metadata": {
    "ExecuteTime": {
     "end_time": "2024-03-11T05:12:52.173936Z",
     "start_time": "2024-03-11T05:12:52.170433Z"
    }
   },
   "outputs": [
    {
     "data": {
      "text/plain": [
       "30"
      ]
     },
     "execution_count": 85,
     "metadata": {},
     "output_type": "execute_result"
    }
   ],
   "source": [
    "(lambda arg1, arg2: arg1 + arg2)(10, 20)"
   ]
  },
  {
   "cell_type": "code",
   "execution_count": 94,
   "metadata": {
    "ExecuteTime": {
     "end_time": "2024-05-30T07:04:17.445507Z",
     "start_time": "2024-05-30T07:04:17.440644Z"
    }
   },
   "outputs": [],
   "source": [
    "another_name = sum_lambda1"
   ]
  },
  {
   "cell_type": "code",
   "execution_count": null,
   "metadata": {
    "ExecuteTime": {
     "end_time": "2022-09-15T02:50:02.109942Z",
     "start_time": "2022-09-15T02:50:02.096746Z"
    }
   },
   "outputs": [],
   "source": [
    "another_name(1, 2)"
   ]
  },
  {
   "cell_type": "code",
   "execution_count": 98,
   "metadata": {
    "ExecuteTime": {
     "end_time": "2024-05-30T07:04:26.352497Z",
     "start_time": "2024-05-30T07:04:26.348341Z"
    }
   },
   "outputs": [
    {
     "data": {
      "text/plain": [
       "True"
      ]
     },
     "execution_count": 98,
     "metadata": {},
     "output_type": "execute_result"
    }
   ],
   "source": [
    "another_name == sum_lambda1"
   ]
  },
  {
   "cell_type": "code",
   "execution_count": 101,
   "metadata": {
    "ExecuteTime": {
     "end_time": "2024-05-30T07:04:35.585157Z",
     "start_time": "2024-05-30T07:04:35.581332Z"
    }
   },
   "outputs": [
    {
     "data": {
      "text/plain": [
       "False"
      ]
     },
     "execution_count": 101,
     "metadata": {},
     "output_type": "execute_result"
    }
   ],
   "source": [
    "another_name == sum_lambda2"
   ]
  },
  {
   "cell_type": "markdown",
   "metadata": {},
   "source": [
    "## Scope of Variables\n",
    "\n",
    "* All variables in a program may not be accessible at all locations in that program. This depends on where you have declared a variable.\n",
    "\n",
    "* The scope of a variable determines the portion of the program where you can access a particular identifier. There are two basic scopes of variables in Python.\n",
    "\n",
    "    * **Global variables**\n",
    "    \n",
    "    * **Local variables**\n",
    "   \n",
    "* When you declare variables inside a function definition, they are not related in any way to other variables with the same names used outside the function i.e. variable names are **local** to the function. This is called the **scope** of the variable."
   ]
  },
  {
   "cell_type": "code",
   "execution_count": 145,
   "metadata": {
    "ExecuteTime": {
     "end_time": "2024-05-30T07:11:10.058478Z",
     "start_time": "2024-05-30T07:11:10.055809Z"
    }
   },
   "outputs": [],
   "source": [
    "res = 0\n",
    "def func():\n",
    "    global res\n",
    "    res = 1"
   ]
  },
  {
   "cell_type": "code",
   "execution_count": 147,
   "metadata": {
    "ExecuteTime": {
     "end_time": "2024-05-30T07:11:40.056075Z",
     "start_time": "2024-05-30T07:11:40.044827Z"
    }
   },
   "outputs": [
    {
     "data": {
      "text/plain": [
       "1"
      ]
     },
     "execution_count": 147,
     "metadata": {},
     "output_type": "execute_result"
    }
   ],
   "source": [
    "func()\n",
    "res"
   ]
  },
  {
   "cell_type": "code",
   "execution_count": 148,
   "metadata": {
    "ExecuteTime": {
     "end_time": "2024-05-30T07:11:40.154031Z",
     "start_time": "2024-05-30T07:11:40.151264Z"
    }
   },
   "outputs": [],
   "source": [
    "total = 0\n",
    "\n",
    "def sum(arg1, arg2):\n",
    "    # Here total is a local variable. \n",
    "    # Change of \"total\" inside function will not change the outside \"total\" variable.\n",
    "    total = arg1 + arg2\n",
    "    print(\"Inside the function local total : \", total)\n",
    "    return total"
   ]
  },
  {
   "cell_type": "code",
   "execution_count": 114,
   "metadata": {
    "ExecuteTime": {
     "end_time": "2024-05-30T07:08:32.108385Z",
     "start_time": "2024-05-30T07:08:32.103435Z"
    }
   },
   "outputs": [
    {
     "name": "stdout",
     "output_type": "stream",
     "text": [
      "Inside the function local total :  30\n"
     ]
    },
    {
     "data": {
      "text/plain": [
       "30"
      ]
     },
     "execution_count": 114,
     "metadata": {},
     "output_type": "execute_result"
    }
   ],
   "source": [
    "sum(10, 20)"
   ]
  },
  {
   "cell_type": "code",
   "execution_count": 115,
   "metadata": {
    "ExecuteTime": {
     "end_time": "2024-05-30T07:08:32.792233Z",
     "start_time": "2024-05-30T07:08:32.788958Z"
    }
   },
   "outputs": [
    {
     "data": {
      "text/plain": [
       "0"
      ]
     },
     "execution_count": 115,
     "metadata": {},
     "output_type": "execute_result"
    }
   ],
   "source": [
    "total"
   ]
  },
  {
   "cell_type": "code",
   "execution_count": 116,
   "metadata": {
    "ExecuteTime": {
     "end_time": "2024-05-30T07:08:38.016595Z",
     "start_time": "2024-05-30T07:08:38.013682Z"
    }
   },
   "outputs": [
    {
     "name": "stdout",
     "output_type": "stream",
     "text": [
      "Outside the function global total :  0\n"
     ]
    }
   ],
   "source": [
    "print(\"Outside the function global total : \", total)"
   ]
  },
  {
   "cell_type": "markdown",
   "metadata": {},
   "source": [
    "### The \"global\" keyword\n",
    "\n",
    "* If you want to assign a value to a name defined outside the function, then you have to tell Python that the name is not local, but it is **global**. We do this using the global statement."
   ]
  },
  {
   "cell_type": "code",
   "execution_count": 134,
   "metadata": {
    "ExecuteTime": {
     "end_time": "2024-05-30T07:09:45.659237Z",
     "start_time": "2024-05-30T07:09:45.656201Z"
    }
   },
   "outputs": [],
   "source": [
    "total = 0"
   ]
  },
  {
   "cell_type": "code",
   "execution_count": 135,
   "metadata": {
    "ExecuteTime": {
     "end_time": "2024-05-30T07:09:45.983667Z",
     "start_time": "2024-05-30T07:09:45.981035Z"
    }
   },
   "outputs": [],
   "source": [
    "total = 0\n",
    "\n",
    "def sum(arg1, arg2):\n",
    "    global total\n",
    "    # Since \"total\" is explicitly defined as global, change of the variable will affect globally.\n",
    "    total = arg1 + arg2\n",
    "    print(\"Inside the function local total : \", total)\n",
    "    return total"
   ]
  },
  {
   "cell_type": "code",
   "execution_count": 136,
   "metadata": {
    "ExecuteTime": {
     "end_time": "2024-05-30T07:09:46.343112Z",
     "start_time": "2024-05-30T07:09:46.337666Z"
    }
   },
   "outputs": [
    {
     "name": "stdout",
     "output_type": "stream",
     "text": [
      "Inside the function local total :  30\n"
     ]
    },
    {
     "data": {
      "text/plain": [
       "30"
      ]
     },
     "execution_count": 136,
     "metadata": {},
     "output_type": "execute_result"
    }
   ],
   "source": [
    "sum(10, 20)"
   ]
  },
  {
   "cell_type": "code",
   "execution_count": 137,
   "metadata": {
    "ExecuteTime": {
     "end_time": "2024-05-30T07:09:46.685410Z",
     "start_time": "2024-05-30T07:09:46.682025Z"
    }
   },
   "outputs": [
    {
     "name": "stdout",
     "output_type": "stream",
     "text": [
      "Outside the function global total :  30\n"
     ]
    }
   ],
   "source": [
    "print(\"Outside the function global total : \", total)"
   ]
  },
  {
   "cell_type": "markdown",
   "metadata": {},
   "source": [
    "## Exercises (Summary)"
   ]
  },
  {
   "cell_type": "markdown",
   "metadata": {
    "ExecuteTime": {
     "end_time": "2023-06-26T06:11:58.191079Z",
     "start_time": "2023-06-26T06:11:58.183251Z"
    },
    "deletable": false,
    "editable": false,
    "nbgrader": {
     "cell_type": "markdown",
     "checksum": "b3e70aafa5cb98676b78427d5a0298d7",
     "grade": false,
     "grade_id": "cell-a3ce5026c080feb1",
     "locked": true,
     "schema_version": 3,
     "solution": false,
     "task": false
    }
   },
   "source": [
    "**Question 1** \n",
    "Define a function `divisible_by_2(num)`. The function checks if a number is divisible by 2 and **returns** `True` if it is and `False` otherwise.\n",
    "\n",
    "**Example**\n",
    "\n",
    "```py\n",
    "divisible_by_2(10) -> True\n",
    "divisible_by_2(15) -> False\n",
    "```\n",
    "\n",
    "**Hint** \n",
    "* `if a%2 == 0` is `True`, then the variable `a` is divisible by 2."
   ]
  },
  {
   "cell_type": "code",
   "execution_count": 12,
   "metadata": {
    "ExecuteTime": {
     "end_time": "2024-03-11T06:31:52.119778Z",
     "start_time": "2024-03-11T06:31:52.110829Z"
    },
    "deletable": false,
    "nbgrader": {
     "cell_type": "code",
     "checksum": "e740be4ec71bfbb08447f8209581d1ca",
     "grade": false,
     "grade_id": "cell-c3655ce751f2323a",
     "locked": false,
     "schema_version": 3,
     "solution": true,
     "task": false
    }
   },
   "outputs": [],
   "source": [
    "def divisible_by_2(num):\n",
    "    if num%2 == 1:\n",
    "        return False\n",
    "    else:\n",
    "        return True"
   ]
  },
  {
   "cell_type": "code",
   "execution_count": 14,
   "metadata": {
    "ExecuteTime": {
     "end_time": "2024-03-11T06:32:05.858200Z",
     "start_time": "2024-03-11T06:32:05.853724Z"
    }
   },
   "outputs": [
    {
     "data": {
      "text/plain": [
       "True"
      ]
     },
     "execution_count": 14,
     "metadata": {},
     "output_type": "execute_result"
    }
   ],
   "source": [
    "divisible_by_2(10)"
   ]
  },
  {
   "cell_type": "code",
   "execution_count": 15,
   "metadata": {
    "ExecuteTime": {
     "end_time": "2024-03-11T06:32:14.728720Z",
     "start_time": "2024-03-11T06:32:14.724349Z"
    }
   },
   "outputs": [
    {
     "data": {
      "text/plain": [
       "False"
      ]
     },
     "execution_count": 15,
     "metadata": {},
     "output_type": "execute_result"
    }
   ],
   "source": [
    "divisible_by_2(15)"
   ]
  },
  {
   "cell_type": "code",
   "execution_count": null,
   "metadata": {
    "deletable": false,
    "editable": false,
    "nbgrader": {
     "cell_type": "code",
     "checksum": "ef22ddd002bcebaa510277da16821beb",
     "grade": true,
     "grade_id": "cell-9a1aa53f09abdae3",
     "locked": true,
     "points": 5,
     "schema_version": 3,
     "solution": false,
     "task": false
    }
   },
   "outputs": [],
   "source": []
  },
  {
   "cell_type": "code",
   "execution_count": null,
   "metadata": {
    "deletable": false,
    "editable": false,
    "nbgrader": {
     "cell_type": "code",
     "checksum": "371f0e044ffc8f0e259b94765751f241",
     "grade": true,
     "grade_id": "cell-644b371989d73fac",
     "locked": true,
     "points": 5,
     "schema_version": 3,
     "solution": false,
     "task": false
    }
   },
   "outputs": [],
   "source": []
  },
  {
   "cell_type": "code",
   "execution_count": null,
   "metadata": {
    "deletable": false,
    "editable": false,
    "nbgrader": {
     "cell_type": "code",
     "checksum": "95ec740a62139719911c1fc2fb782cae",
     "grade": true,
     "grade_id": "cell-bcb1526940d30fc1",
     "locked": true,
     "points": 5,
     "schema_version": 3,
     "solution": false,
     "task": false
    }
   },
   "outputs": [],
   "source": []
  },
  {
   "cell_type": "markdown",
   "metadata": {
    "deletable": false,
    "editable": false,
    "nbgrader": {
     "cell_type": "markdown",
     "checksum": "74bb8e6e92e31ebe730224d1d6e2524b",
     "grade": false,
     "grade_id": "cell-bb6604916724f0fa",
     "locked": true,
     "schema_version": 3,
     "solution": false,
     "task": false
    }
   },
   "source": [
    "**Question 2.** Define a function ``isAdult(age)``. The function checks if a person is an adult or not (`age` >= 18 is adult). It **returns** `True` if a person is an adult and `False` otherwise.\n",
    "\n",
    "**Example** \n",
    "```py\n",
    "isAdult(10) -> False\n",
    "isAdult(18) -> True\n",
    "```"
   ]
  },
  {
   "cell_type": "code",
   "execution_count": 16,
   "metadata": {
    "ExecuteTime": {
     "end_time": "2024-03-11T06:32:49.754657Z",
     "start_time": "2024-03-11T06:32:49.748489Z"
    },
    "deletable": false,
    "nbgrader": {
     "cell_type": "code",
     "checksum": "1e9aee32ee4e9279f18ffb418536be48",
     "grade": false,
     "grade_id": "cell-27432daa84cc4fff",
     "locked": false,
     "schema_version": 3,
     "solution": true,
     "task": false
    }
   },
   "outputs": [],
   "source": [
    "def isAdult(age):\n",
    "    if age >= 18:\n",
    "        return True\n",
    "    else:\n",
    "        return False"
   ]
  },
  {
   "cell_type": "code",
   "execution_count": 17,
   "metadata": {
    "ExecuteTime": {
     "end_time": "2024-03-11T06:32:59.168676Z",
     "start_time": "2024-03-11T06:32:59.165730Z"
    }
   },
   "outputs": [
    {
     "data": {
      "text/plain": [
       "False"
      ]
     },
     "execution_count": 17,
     "metadata": {},
     "output_type": "execute_result"
    }
   ],
   "source": [
    "isAdult(10)"
   ]
  },
  {
   "cell_type": "code",
   "execution_count": 18,
   "metadata": {
    "ExecuteTime": {
     "end_time": "2024-03-11T06:33:04.096196Z",
     "start_time": "2024-03-11T06:33:04.092923Z"
    }
   },
   "outputs": [
    {
     "data": {
      "text/plain": [
       "True"
      ]
     },
     "execution_count": 18,
     "metadata": {},
     "output_type": "execute_result"
    }
   ],
   "source": [
    "isAdult(18)"
   ]
  },
  {
   "cell_type": "code",
   "execution_count": null,
   "metadata": {
    "ExecuteTime": {
     "end_time": "2023-06-26T06:14:09.641592Z",
     "start_time": "2023-06-26T06:14:09.639198Z"
    },
    "deletable": false,
    "editable": false,
    "nbgrader": {
     "cell_type": "code",
     "checksum": "60a94fced2e67f80cf40c7b1bc5ff1aa",
     "grade": true,
     "grade_id": "cell-127b3babb06c60f5",
     "locked": true,
     "points": 8,
     "schema_version": 3,
     "solution": false,
     "task": false
    }
   },
   "outputs": [],
   "source": []
  },
  {
   "cell_type": "code",
   "execution_count": null,
   "metadata": {
    "ExecuteTime": {
     "end_time": "2023-06-26T06:14:10.210010Z",
     "start_time": "2023-06-26T06:14:10.207461Z"
    },
    "deletable": false,
    "editable": false,
    "nbgrader": {
     "cell_type": "code",
     "checksum": "90c1dbc0b8484a741ae2ecbb371de3c8",
     "grade": true,
     "grade_id": "cell-83c5b72fc48791dd",
     "locked": true,
     "points": 7,
     "schema_version": 3,
     "solution": false,
     "task": false
    }
   },
   "outputs": [],
   "source": []
  },
  {
   "cell_type": "markdown",
   "metadata": {
    "deletable": false,
    "editable": false,
    "nbgrader": {
     "cell_type": "markdown",
     "checksum": "0b691e2ee92f6d7fa549917c42edc403",
     "grade": false,
     "grade_id": "cell-cce9a5d427006d07",
     "locked": true,
     "schema_version": 3,
     "solution": false,
     "task": false
    }
   },
   "source": [
    "**Question 3.** Define a function ``global_sum(a, b)``. The function returns `a+b` and adds this value to the variable `cum_sum` that is defined globally. \n",
    "\n",
    "**Example** \n",
    "```py\n",
    "cum_sum = 0\n",
    "global_sum(8, 2) -> 10\n",
    "global_sum(2, 3) -> 5\n",
    "\n",
    "cum_sum == 15 -> True \n",
    "```"
   ]
  },
  {
   "cell_type": "code",
   "execution_count": 24,
   "metadata": {
    "ExecuteTime": {
     "end_time": "2024-03-11T06:36:29.215989Z",
     "start_time": "2024-03-11T06:36:29.213637Z"
    },
    "deletable": false,
    "nbgrader": {
     "cell_type": "code",
     "checksum": "07a932ed7f48ea919c60f470dc692a6a",
     "grade": false,
     "grade_id": "cell-17c8360be03def85",
     "locked": false,
     "schema_version": 3,
     "solution": true,
     "task": false
    }
   },
   "outputs": [],
   "source": [
    "cum_sum = 0\n",
    "def global_sum(a, b):\n",
    "    \n",
    "    global cum_sum\n",
    "    cum_sum = a+b\n",
    "    \n",
    "    return cum_sum"
   ]
  },
  {
   "cell_type": "code",
   "execution_count": 25,
   "metadata": {
    "ExecuteTime": {
     "end_time": "2024-03-11T06:36:31.528322Z",
     "start_time": "2024-03-11T06:36:31.525229Z"
    }
   },
   "outputs": [
    {
     "data": {
      "text/plain": [
       "10"
      ]
     },
     "execution_count": 25,
     "metadata": {},
     "output_type": "execute_result"
    }
   ],
   "source": [
    "global_sum(8, 2)"
   ]
  },
  {
   "cell_type": "code",
   "execution_count": 26,
   "metadata": {
    "ExecuteTime": {
     "end_time": "2024-03-11T06:36:45.874761Z",
     "start_time": "2024-03-11T06:36:45.871121Z"
    }
   },
   "outputs": [
    {
     "data": {
      "text/plain": [
       "10"
      ]
     },
     "execution_count": 26,
     "metadata": {},
     "output_type": "execute_result"
    }
   ],
   "source": [
    "cum_sum"
   ]
  },
  {
   "cell_type": "code",
   "execution_count": 27,
   "metadata": {
    "ExecuteTime": {
     "end_time": "2024-03-11T06:36:59.280673Z",
     "start_time": "2024-03-11T06:36:59.277572Z"
    }
   },
   "outputs": [
    {
     "data": {
      "text/plain": [
       "5"
      ]
     },
     "execution_count": 27,
     "metadata": {},
     "output_type": "execute_result"
    }
   ],
   "source": [
    "global_sum(2, 3)"
   ]
  },
  {
   "cell_type": "code",
   "execution_count": null,
   "metadata": {
    "ExecuteTime": {
     "end_time": "2023-06-26T06:50:41.682328Z",
     "start_time": "2023-06-26T06:50:41.679352Z"
    },
    "deletable": false,
    "editable": false,
    "nbgrader": {
     "cell_type": "code",
     "checksum": "6de5e83974bf11b01ebd38d9e2664c40",
     "grade": true,
     "grade_id": "cell-21db681334e0086b",
     "locked": true,
     "points": 5,
     "schema_version": 3,
     "solution": false,
     "task": false
    }
   },
   "outputs": [],
   "source": []
  },
  {
   "cell_type": "code",
   "execution_count": null,
   "metadata": {
    "ExecuteTime": {
     "end_time": "2023-06-26T06:52:18.172143Z",
     "start_time": "2023-06-26T06:52:18.167868Z"
    },
    "deletable": false,
    "editable": false,
    "nbgrader": {
     "cell_type": "code",
     "checksum": "13bf4523ac72412f7eec6e2addee0a72",
     "grade": true,
     "grade_id": "cell-f7e940035474036b",
     "locked": true,
     "points": 5,
     "schema_version": 3,
     "solution": false,
     "task": false
    }
   },
   "outputs": [],
   "source": []
  }
 ],
 "metadata": {
  "kernelspec": {
   "display_name": "Python 3 (ipykernel)",
   "language": "python",
   "name": "python3"
  },
  "language_info": {
   "codemirror_mode": {
    "name": "ipython",
    "version": 3
   },
   "file_extension": ".py",
   "mimetype": "text/x-python",
   "name": "python",
   "nbconvert_exporter": "python",
   "pygments_lexer": "ipython3",
   "version": "3.8.10"
  },
  "latex_envs": {
   "LaTeX_envs_menu_present": true,
   "autoclose": false,
   "autocomplete": true,
   "bibliofile": "biblio.bib",
   "cite_by": "apalike",
   "current_citInitial": 1,
   "eqLabelWithNumbers": true,
   "eqNumInitial": 1,
   "hotkeys": {
    "equation": "Ctrl-E",
    "itemize": "Ctrl-I"
   },
   "labels_anchors": false,
   "latex_user_defs": false,
   "report_style_numbering": false,
   "user_envs_cfg": false
  },
  "toc": {
   "base_numbering": "1",
   "nav_menu": {},
   "number_sections": true,
   "sideBar": true,
   "skip_h1_title": true,
   "title_cell": "Table of Contents",
   "title_sidebar": "Contents",
   "toc_cell": true,
   "toc_position": {
    "height": "783px",
    "left": "124px",
    "top": "111.125px",
    "width": "251px"
   },
   "toc_section_display": true,
   "toc_window_display": true
  }
 },
 "nbformat": 4,
 "nbformat_minor": 1
}
