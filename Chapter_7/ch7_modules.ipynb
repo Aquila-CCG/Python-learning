{
 "cells": [
  {
   "cell_type": "markdown",
   "metadata": {},
   "source": [
    "Before you turn this problem in, make sure everything runs as expected. First, **restart the kernel** (in the menubar, select Kernel$\\rightarrow$Restart) and then **run all cells** (in the menubar, select Cell$\\rightarrow$Run All).\n",
    "\n",
    "Make sure you fill in any place that says `YOUR CODE HERE` or \"YOUR ANSWER HERE\", as well as your name and collaborators below:"
   ]
  },
  {
   "cell_type": "code",
   "execution_count": null,
   "metadata": {},
   "outputs": [],
   "source": [
    "NAME = \"\"\n",
    "COLLABORATORS = \"\""
   ]
  },
  {
   "cell_type": "markdown",
   "metadata": {},
   "source": [
    "---"
   ]
  },
  {
   "cell_type": "markdown",
   "metadata": {
    "toc": true
   },
   "source": [
    "<h1>Table of Contents<span class=\"tocSkip\"></span></h1>\n",
    "<div class=\"toc\"><ul class=\"toc-item\"><li><span><a href=\"#What-is-a-Python-Module?\" data-toc-modified-id=\"What-is-a-Python-Module?-1\"><span class=\"toc-item-num\">1&nbsp;&nbsp;</span>What is a Python Module?</a></span></li><li><span><a href=\"#How-to-import-existing-modules\" data-toc-modified-id=\"How-to-import-existing-modules-2\"><span class=\"toc-item-num\">2&nbsp;&nbsp;</span>How to import existing modules</a></span><ul class=\"toc-item\"><li><span><a href=\"#from-...-import-...\" data-toc-modified-id=\"from-...-import-...-2.1\"><span class=\"toc-item-num\">2.1&nbsp;&nbsp;</span><code>from</code> ... <code>import</code> ...</a></span></li><li><span><a href=\"#from-...-import-*\" data-toc-modified-id=\"from-...-import-*-2.2\"><span class=\"toc-item-num\">2.2&nbsp;&nbsp;</span><code>from</code> ... <code>import *</code></a></span></li><li><span><a href=\"#Example-with-some-Python-built-in-modules\" data-toc-modified-id=\"Example-with-some-Python-built-in-modules-2.3\"><span class=\"toc-item-num\">2.3&nbsp;&nbsp;</span>Example with some Python built-in modules</a></span></li><li><span><a href=\"#Making-your-own-Modules\" data-toc-modified-id=\"Making-your-own-Modules-2.4\"><span class=\"toc-item-num\">2.4&nbsp;&nbsp;</span>Making your own Modules</a></span></li></ul></li><li><span><a href=\"#Packages-in-Python\" data-toc-modified-id=\"Packages-in-Python-3\"><span class=\"toc-item-num\">3&nbsp;&nbsp;</span>Packages in Python</a></span><ul class=\"toc-item\"><li><span><a href=\"#Create-Your-Own-Package\" data-toc-modified-id=\"Create-Your-Own-Package-3.1\"><span class=\"toc-item-num\">3.1&nbsp;&nbsp;</span>Create Your Own Package</a></span></li></ul></li><li><span><a href=\"#Exercise\" data-toc-modified-id=\"Exercise-4\"><span class=\"toc-item-num\">4&nbsp;&nbsp;</span>Exercise</a></span></li><li><span><a href=\"#Popular-Python-Packages\" data-toc-modified-id=\"Popular-Python-Packages-5\"><span class=\"toc-item-num\">5&nbsp;&nbsp;</span>Popular Python Packages</a></span><ul class=\"toc-item\"><li><span><a href=\"#Numpy\" data-toc-modified-id=\"Numpy-5.1\"><span class=\"toc-item-num\">5.1&nbsp;&nbsp;</span>Numpy</a></span></li><li><span><a href=\"#Pandas\" data-toc-modified-id=\"Pandas-5.2\"><span class=\"toc-item-num\">5.2&nbsp;&nbsp;</span>Pandas</a></span></li><li><span><a href=\"#Matplotlib\" data-toc-modified-id=\"Matplotlib-5.3\"><span class=\"toc-item-num\">5.3&nbsp;&nbsp;</span>Matplotlib</a></span></li><li><span><a href=\"#Scikit-Learn-(Advanced)\" data-toc-modified-id=\"Scikit-Learn-(Advanced)-5.4\"><span class=\"toc-item-num\">5.4&nbsp;&nbsp;</span>Scikit-Learn (Advanced)</a></span></li><li><span><a href=\"#Keras-(Advanced)\" data-toc-modified-id=\"Keras-(Advanced)-5.5\"><span class=\"toc-item-num\">5.5&nbsp;&nbsp;</span>Keras (Advanced)</a></span></li></ul></li></ul></div>"
   ]
  },
  {
   "cell_type": "markdown",
   "metadata": {},
   "source": [
    "# Python Modules"
   ]
  },
  {
   "cell_type": "markdown",
   "metadata": {},
   "source": [
    "**After this class, you will know:**\n",
    " \n",
    "* 1) What is a Python module?\n",
    "\n",
    "* 2) How to import existing modules?\n",
    "\n",
    "* 3) How to create your own module?\n",
    "\n",
    "* 4) How to create your own package?\n",
    "\n",
    "* 5) What are some of the most popular Python packages?"
   ]
  },
  {
   "cell_type": "markdown",
   "metadata": {},
   "source": [
    "## What is a Python Module?\n",
    "\n",
    "* You have seen how you can **reuse** codes in your program by defining functions. What if you want to reuse a number of functions in **other** programs that you write? The answer is **Module**.\n",
    "\n",
    "* A module is basically a file containing all your functions and variables that you have defined. To reuse the module in other programs, the filename of the module **must** have a `.py` extension."
   ]
  },
  {
   "cell_type": "markdown",
   "metadata": {},
   "source": [
    "**Example**"
   ]
  },
  {
   "cell_type": "code",
   "execution_count": null,
   "metadata": {
    "ExecuteTime": {
     "end_time": "2024-05-30T16:27:01.988850Z",
     "start_time": "2024-05-30T16:27:01.986154Z"
    }
   },
   "outputs": [],
   "source": [
    "import math"
   ]
  },
  {
   "cell_type": "code",
   "execution_count": null,
   "metadata": {
    "ExecuteTime": {
     "end_time": "2024-05-30T16:22:51.746532Z",
     "start_time": "2024-05-30T16:22:51.737221Z"
    }
   },
   "outputs": [],
   "source": [
    "math.exp(2)"
   ]
  },
  {
   "cell_type": "code",
   "execution_count": null,
   "metadata": {
    "ExecuteTime": {
     "end_time": "2024-05-30T16:22:59.804237Z",
     "start_time": "2024-05-30T16:22:59.801647Z"
    }
   },
   "outputs": [],
   "source": [
    "# The “sys” module in Python provides functions and variables that\n",
    "# interact with the Python runtime environment.\n",
    "import sys"
   ]
  },
  {
   "cell_type": "code",
   "execution_count": null,
   "metadata": {
    "ExecuteTime": {
     "end_time": "2024-05-30T16:23:01.986024Z",
     "start_time": "2024-05-30T16:23:01.982374Z"
    }
   },
   "outputs": [],
   "source": [
    "# print the current version of Python\n",
    "sys.version"
   ]
  },
  {
   "cell_type": "code",
   "execution_count": null,
   "metadata": {
    "ExecuteTime": {
     "end_time": "2024-05-30T16:23:03.346797Z",
     "start_time": "2024-05-30T16:23:03.342871Z"
    }
   },
   "outputs": [],
   "source": [
    "sys.path"
   ]
  },
  {
   "cell_type": "code",
   "execution_count": null,
   "metadata": {
    "ExecuteTime": {
     "end_time": "2024-05-30T16:23:07.515318Z",
     "start_time": "2024-05-30T16:23:07.511532Z"
    }
   },
   "outputs": [],
   "source": [
    "a = 1\n",
    "print('The size of integer a (in byte) is: ', sys.getsizeof(a))"
   ]
  },
  {
   "cell_type": "code",
   "execution_count": null,
   "metadata": {
    "ExecuteTime": {
     "end_time": "2024-05-30T16:23:57.559402Z",
     "start_time": "2024-05-30T16:23:57.554419Z"
    }
   },
   "outputs": [],
   "source": [
    "?sys.getsizeof(a)"
   ]
  },
  {
   "cell_type": "markdown",
   "metadata": {},
   "source": [
    "* Let us go deeper to see what happened in above two statements.\n",
    "    * First, we **import** the `sys` module using the *import* statement. Basically, it tells Python that we want to use this module. The `sys` module contains functionality related to the Python interpreter and its environment.\n",
    "    * When Python executes the `import sys` statement, it **looks for** the sys.py module in one of the directores listed in its `sys.path` variable. If the file is found, then the statements in the main block of that module will run and then the module is made available for you to use. Note that the initialization is done only **the first time** when we import a module. \n",
    "    * The `sys.path` variable contains the `current directory`, `PYTHONPATH`, and the `installation-dependent default`. If you want to build **your own** module, you have to put the module under the above sys.path directory."
   ]
  },
  {
   "cell_type": "markdown",
   "metadata": {},
   "source": [
    "## How to import existing modules\n",
    "\n",
    "### `from` ... `import` ...\n",
    "\n",
    "* Python's **from** statement allows you to import specific attributes and functions **directly** from a module into the current namespace. The **from...import** has the following syntax\n",
    "\n",
    "```py\n",
    "from modulename import name1, name2, ... nameN\n",
    "```\n",
    "\n",
    "* For example, we first `import sys`, then further access the module attribute by `sys.version` and the module function by `sys.getsizeof`. In below example, you can see that we can directly import the module attributes and function by using the `from...import...` statement."
   ]
  },
  {
   "cell_type": "markdown",
   "metadata": {},
   "source": [
    "**Example**"
   ]
  },
  {
   "cell_type": "code",
   "execution_count": null,
   "metadata": {
    "ExecuteTime": {
     "end_time": "2024-05-30T16:27:48.240342Z",
     "start_time": "2024-05-30T16:27:48.238046Z"
    }
   },
   "outputs": [],
   "source": [
    "from sys import version, getsizeof"
   ]
  },
  {
   "cell_type": "code",
   "execution_count": null,
   "metadata": {
    "ExecuteTime": {
     "end_time": "2024-05-30T16:27:48.594445Z",
     "start_time": "2024-05-30T16:27:48.590899Z"
    }
   },
   "outputs": [],
   "source": [
    "version"
   ]
  },
  {
   "cell_type": "code",
   "execution_count": null,
   "metadata": {
    "ExecuteTime": {
     "end_time": "2024-05-30T16:27:48.976466Z",
     "start_time": "2024-05-30T16:27:48.973378Z"
    }
   },
   "outputs": [],
   "source": [
    "print('Python integer size is: ', getsizeof(1))"
   ]
  },
  {
   "cell_type": "markdown",
   "metadata": {},
   "source": [
    "### `from` ... `import *`\n",
    "\n",
    "* It is also possible to import **all** attributes and functions from a module into the current namespace by using the `from ... import *` statement."
   ]
  },
  {
   "cell_type": "markdown",
   "metadata": {},
   "source": [
    "**Example**"
   ]
  },
  {
   "cell_type": "code",
   "execution_count": null,
   "metadata": {
    "ExecuteTime": {
     "end_time": "2024-05-30T16:28:00.073665Z",
     "start_time": "2024-05-30T16:28:00.071087Z"
    }
   },
   "outputs": [],
   "source": [
    "from sys import *"
   ]
  },
  {
   "cell_type": "code",
   "execution_count": null,
   "metadata": {
    "ExecuteTime": {
     "end_time": "2024-05-30T16:28:01.110304Z",
     "start_time": "2024-05-30T16:28:01.106045Z"
    }
   },
   "outputs": [],
   "source": [
    "path"
   ]
  },
  {
   "cell_type": "markdown",
   "metadata": {},
   "source": [
    "* Since we import all things in module `sys`, we can output one of `sys` attributes `path`."
   ]
  },
  {
   "cell_type": "markdown",
   "metadata": {},
   "source": [
    "**Common Practice**\n",
    "\n",
    "* Even though using `from...import` statement saves us time to include module name in calling an attribute or function, they are **not** suggested. It is still recommended to use original `import module` method to import attributes and function, since it will make your program much more **readable**."
   ]
  },
  {
   "cell_type": "markdown",
   "metadata": {},
   "source": [
    "### Example with some Python built-in modules\n",
    "\n",
    "* https://docs.python.org/\n"
   ]
  },
  {
   "cell_type": "code",
   "execution_count": null,
   "metadata": {
    "ExecuteTime": {
     "end_time": "2024-05-30T16:28:31.037222Z",
     "start_time": "2024-05-30T16:28:31.033292Z"
    }
   },
   "outputs": [],
   "source": [
    "# The “os” module in Python is used to interact with \n",
    "# the operating system and offers OS-level functionalities.\n",
    "import os\n",
    "\n",
    "directory = os.getcwd()\n",
    "print(directory)"
   ]
  },
  {
   "cell_type": "code",
   "execution_count": null,
   "metadata": {
    "ExecuteTime": {
     "end_time": "2024-05-30T16:28:36.849559Z",
     "start_time": "2024-05-30T16:28:36.844463Z"
    }
   },
   "outputs": [],
   "source": [
    "# The “sys” module in Python provides functions and variables\n",
    "# that interact with the Python runtime environment.\n",
    "import sys\n",
    "\n",
    "print(\"Python version:\", sys.version)\n",
    "print(\"Command line arguments:\", sys.argv)"
   ]
  },
  {
   "cell_type": "code",
   "execution_count": null,
   "metadata": {
    "ExecuteTime": {
     "end_time": "2024-05-30T16:28:44.559574Z",
     "start_time": "2024-05-30T16:28:44.555494Z"
    }
   },
   "outputs": [],
   "source": [
    "# The calendar module allows operations and manipulations related to calendars.\n",
    "import calendar\n",
    "cal_october = calendar.month(21378937894237592656, 5)\n",
    "print(cal_october)"
   ]
  },
  {
   "cell_type": "code",
   "execution_count": null,
   "metadata": {
    "ExecuteTime": {
     "end_time": "2024-05-30T16:28:52.706355Z",
     "start_time": "2024-05-30T16:28:52.702341Z"
    }
   },
   "outputs": [],
   "source": [
    "#The “datetime” module allows for manipulation and reading of date and time values\n",
    "import datetime\n",
    "date_today = datetime.date.today()\n",
    "time_now = datetime.datetime.now().time()\n",
    "print(date_today)\n",
    "print(time_now)"
   ]
  },
  {
   "cell_type": "code",
   "execution_count": null,
   "metadata": {
    "ExecuteTime": {
     "end_time": "2024-05-30T16:28:54.180820Z",
     "start_time": "2024-05-30T16:28:54.176437Z"
    }
   },
   "outputs": [],
   "source": [
    "# The math module offers mathematical functions used for advanced arithmetic operations.\n",
    "import math\n",
    "\"\"\"😂\"\"\"\n",
    "sqrt_val = math.sqrt(64)\n",
    "pi_const = math.pi\n",
    "print(sqrt_val)\n",
    "print(pi_const)"
   ]
  },
  {
   "cell_type": "code",
   "execution_count": null,
   "metadata": {
    "ExecuteTime": {
     "end_time": "2024-05-30T16:29:02.862218Z",
     "start_time": "2024-05-30T16:29:02.850129Z"
    }
   },
   "outputs": [],
   "source": [
    "# The \"statistics\" module provides functions for calculating mathematical \n",
    "# statistics of numeric (Real-valued) data.\n",
    "from statistics import *\n",
    "\n",
    "data = [20.7, -2.3, 19.2, 18.3, 0, 14.4]\n",
    "print(sorted(data))\n",
    "print(\"Median is: \", median(data))\n",
    "print(\"Average is: \", mean(data))\n",
    "print(\"Mode is: \", mode(data))\n",
    "print(\"Sample standard deviation is: \", stdev(data))"
   ]
  },
  {
   "cell_type": "markdown",
   "metadata": {},
   "source": [
    "### Making your own Modules\n",
    "\n",
    "* Creating your own module is simple. You just need to write a `.py` file including the functions/attributes which need to be imported, and place the `.py` file under one of directories `sys.path` includes. For example, the directory this notebook is saved.\n",
    "\n",
    "  * Go to your JupyterHub Home Page, select the \"Files\" tab, then use the New File to start a text editor.\n",
    "  \n",
    "  * Type the following code:\n",
    "  \n",
    "  ```python\n",
    "  def MyModule():\n",
    "        print(\"This is my first module.\")\n",
    "  ```\n",
    "  \n",
    "  * Save the file with the name **mymodule1.py**."
   ]
  },
  {
   "cell_type": "code",
   "execution_count": null,
   "metadata": {
    "ExecuteTime": {
     "end_time": "2024-05-30T16:30:29.238460Z",
     "start_time": "2024-05-30T16:30:29.235633Z"
    }
   },
   "outputs": [],
   "source": [
    "import mymodule1 "
   ]
  },
  {
   "cell_type": "code",
   "execution_count": null,
   "metadata": {
    "ExecuteTime": {
     "end_time": "2024-05-30T16:30:29.624480Z",
     "start_time": "2024-05-30T16:30:29.619455Z"
    }
   },
   "outputs": [],
   "source": [
    "dir(mymodule1)"
   ]
  },
  {
   "cell_type": "code",
   "execution_count": null,
   "metadata": {
    "ExecuteTime": {
     "end_time": "2024-05-30T16:30:39.311883Z",
     "start_time": "2024-05-30T16:30:39.308715Z"
    }
   },
   "outputs": [],
   "source": [
    "mymodule1.MyModule()"
   ]
  },
  {
   "cell_type": "code",
   "execution_count": null,
   "metadata": {},
   "outputs": [],
   "source": []
  },
  {
   "cell_type": "markdown",
   "metadata": {},
   "source": [
    "## Packages in Python\n",
    "\n",
    "* *Function* helps reuse blocks of code, *Module* helps reuse functions in other programs. In this section, we introduce how to organize modules into a **package**.\n",
    "\n",
    "* A package is a hierarchical file directory structure that defines a single Python application environment that consists of modules and sub-packages and sub-sub-packages, and so on.\n",
    "\n",
    "* There has many famous and widely used Python packages, [here](https://pythontips.com/2013/07/30/20-python-libraries-you-cant-live-without/) lists a few of them. It is for sure that you will use some of them in the future.\n",
    "\n",
    "* We can also build our own Python package. Following example demonstrates how to do it. "
   ]
  },
  {
   "cell_type": "markdown",
   "metadata": {},
   "source": [
    "### Create Your Own Package\n",
    "\n",
    "1. We want to create a package called \"GPA_Booster\", which includes a set of modules helping students to improve their GPA in various subjects, e.g. Calculus, Linear Algebra, Data Structure, etc.\n",
    "\n",
    "2. Create a folder named as \"GPA_Booster\" and put it under one of directories in `sys.path` so that Python can find your package when you use `import` statement.\n",
    "\n",
    "3. Go into the \"GPA_Booster\" folder and create three .py files, which are Calculus.py, LinearAlgebra.py, DataStructure.py.\n",
    "\n",
    "4. In \"Calculus.py\", define a function like below:\n",
    "```py\n",
    "def Calculus_func():\n",
    "        print(\"This function will help you improve Calculus GPA.\")\n",
    "```\n",
    "\n",
    "5. Create `GPA_Booster/LinearAlgebra.py` file and `GPA_Booster/DataStructure.py` file similarly, and put them at the same place as Calculus.py.\n",
    "\n",
    "6. Now, create one more file `__init__.py` in the \"GPA_Booster\" folder, `GPA_Booster/__init__.py`\n",
    "\n",
    "7. To make all of your functions available when you import GPA_Booster package, you need to put below statements in `__init__.py`.\n",
    "```py\n",
    "from .Calculus import Calculus_func\n",
    "from .LinearAlgebra import LinearAlgebra_func\n",
    "from .DataStructure import DataStructure_func\n",
    "__all__ = ['Calculus_func', 'LinearAlgebra_func', 'DataStructure_func']\n",
    "```\n",
    "\n",
    "8. After you add these lines to `__init__.py`, you have all of these functions available when you import GPA_Booster package.\n",
    "\n",
    "* If `__init__.py` file contains a list called `__all__`, then only the names listed there will be public. In the above example, we include all of the three functions relating to the three modules."
   ]
  },
  {
   "cell_type": "code",
   "execution_count": null,
   "metadata": {
    "ExecuteTime": {
     "end_time": "2024-05-31T02:21:39.814299Z",
     "start_time": "2024-05-31T02:21:39.810799Z"
    }
   },
   "outputs": [],
   "source": [
    "# import the package\n",
    "import GPA_Booster"
   ]
  },
  {
   "cell_type": "code",
   "execution_count": null,
   "metadata": {
    "ExecuteTime": {
     "end_time": "2024-05-31T02:21:40.170811Z",
     "start_time": "2024-05-31T02:21:40.167450Z"
    }
   },
   "outputs": [],
   "source": [
    "# call the function\n",
    "GPA_Booster.Calculus_func()\n",
    "GPA_Booster.LinearAlgebra_func()\n",
    "GPA_Booster.DataStructure_func()"
   ]
  },
  {
   "cell_type": "markdown",
   "metadata": {},
   "source": [
    "Change the `__all__` to the following and try again. \n",
    "\n",
    "```python\n",
    "from .Calculus import Calculus_func\n",
    "from .LinearAlgebra import LinearAlgebra_func\n",
    "from .DataStructure import DataStructure_func\n",
    "__all__ = ['Calculus_func', 'LinearAlgebra_func']\n",
    "```"
   ]
  },
  {
   "cell_type": "code",
   "execution_count": 1,
   "metadata": {
    "ExecuteTime": {
     "end_time": "2024-05-31T02:22:07.093341Z",
     "start_time": "2024-05-31T02:22:07.089409Z"
    }
   },
   "outputs": [],
   "source": [
    "from GPA_Booster import *"
   ]
  },
  {
   "cell_type": "code",
   "execution_count": 2,
   "metadata": {
    "ExecuteTime": {
     "end_time": "2024-05-31T02:22:07.461965Z",
     "start_time": "2024-05-31T02:22:07.458852Z"
    }
   },
   "outputs": [
    {
     "name": "stdout",
     "output_type": "stream",
     "text": [
      "This function will help you improve Calculus GPA.\n"
     ]
    }
   ],
   "source": [
    "Calculus_func()"
   ]
  },
  {
   "cell_type": "code",
   "execution_count": 3,
   "metadata": {
    "ExecuteTime": {
     "end_time": "2024-05-31T02:22:07.900702Z",
     "start_time": "2024-05-31T02:22:07.897405Z"
    }
   },
   "outputs": [
    {
     "name": "stdout",
     "output_type": "stream",
     "text": [
      "This function will help you improve Linear Algebra GPA.\n"
     ]
    }
   ],
   "source": [
    "LinearAlgebra_func()"
   ]
  },
  {
   "cell_type": "code",
   "execution_count": 4,
   "metadata": {
    "ExecuteTime": {
     "end_time": "2024-05-31T02:22:08.321327Z",
     "start_time": "2024-05-31T02:22:08.260874Z"
    }
   },
   "outputs": [
    {
     "ename": "NameError",
     "evalue": "name 'DataStructure_func' is not defined",
     "output_type": "error",
     "traceback": [
      "\u001b[0;31m---------------------------------------------------------------------------\u001b[0m",
      "\u001b[0;31mNameError\u001b[0m                                 Traceback (most recent call last)",
      "\u001b[0;32m/tmp/ipykernel_57398/23107140.py\u001b[0m in \u001b[0;36m<module>\u001b[0;34m\u001b[0m\n\u001b[0;32m----> 1\u001b[0;31m \u001b[0mDataStructure_func\u001b[0m\u001b[0;34m(\u001b[0m\u001b[0;34m)\u001b[0m\u001b[0;34m\u001b[0m\u001b[0;34m\u001b[0m\u001b[0m\n\u001b[0m",
      "\u001b[0;31mNameError\u001b[0m: name 'DataStructure_func' is not defined"
     ]
    }
   ],
   "source": [
    "DataStructure_func()"
   ]
  },
  {
   "cell_type": "markdown",
   "metadata": {
    "deletable": false,
    "editable": false,
    "nbgrader": {
     "cell_type": "markdown",
     "checksum": "85ca0476218fcc6aa790c1c1e329a636",
     "grade": false,
     "grade_id": "cell-5d632fe45390d18c",
     "locked": true,
     "schema_version": 3,
     "solution": false,
     "task": false
    }
   },
   "source": [
    "## Exercise\n"
   ]
  },
  {
   "cell_type": "markdown",
   "metadata": {
    "deletable": false,
    "editable": false,
    "nbgrader": {
     "cell_type": "markdown",
     "checksum": "c84b1c0112a29eb39fec426fbcaa7f59",
     "grade": false,
     "grade_id": "cell-d7aebf6fd413adfe",
     "locked": true,
     "schema_version": 3,
     "solution": false,
     "task": false
    }
   },
   "source": [
    "**Question**. Create a module named `mygrades` that contains the following functions:\n",
    "\n",
    "```py\n",
    "    increase_quiz(grades)\n",
    "    increase_assignment(grades)\n",
    "    increase_project(grades)\n",
    "    increase_exam(grades)\n",
    "    increase_all(grades)\n",
    "```\n",
    "\n",
    "`grades` is a list containing `[quiz, assignment, project, exam]`. Calling the function once will increase the respective grade by 10. and `increase_all(grades)` will increase each grade by 10. The maximum grade for each category is 100. \n",
    "\n",
    "Moreover the package initiate a list `default_grades = [25, 25, 25, 25]`.\n",
    "\n",
    "**Example**\n",
    "```py\n",
    "    increase_quiz([20, 40, 40, 20]) -> [30, 40, 40, 20]\n",
    "    increase_quiz([100, 40, 40, 20]) -> [100, 40, 40, 20]\n",
    "    increase_project([100, 40, 40, 20]) -> [100, 40, 50, 20]\n",
    "    increase_all([100, 40, 40, 20]) -> [100, 50, 50, 30]\n",
    "    increase_all([100, 40, 40, 20]) -> [100, 50, 50, 30]\n",
    "```\n",
    "\n",
    "The following program should run without error:\n",
    "```py\n",
    "    import mygrades as mg\n",
    "    mg.increase_quiz(mg.default_grades) -> [35, 25, 25, 25]\n",
    "    mg.increase_exam(mg.default_grades) -> [25, 25, 25, 35]\n",
    "    mg.increase_assigment([95,95,50,50]) -> [95, 100, 50, 50]\n",
    "    \n",
    "```\n",
    "\n",
    "**Warning** \n",
    "* If you change your code in your package you need to re-start the python kernel or reload the package by adding the following code:\n",
    "```py\n",
    "import importlib\n",
    "importlib.reload(mygrades)\n",
    "```"
   ]
  },
  {
   "cell_type": "code",
   "execution_count": null,
   "metadata": {
    "ExecuteTime": {
     "end_time": "2024-04-12T02:11:25.740918Z",
     "start_time": "2024-04-12T02:11:25.682158Z"
    }
   },
   "outputs": [],
   "source": [
    "\n",
    "# The following test if you have created your module. \n",
    "import mygrades as mg\n",
    "\n",
    "mg.increase_quiz(mg.default_grades)\n",
    "mg.increase_exam(mg.default_grades)\n",
    "mg.increase_assignment([95,95,50,50])\n",
    "\n",
    "# If you change your code in your package you need to re-start the python kernel or reload with the following\n",
    "import importlib\n",
    "importlib.reload(mg)\n"
   ]
  },
  {
   "cell_type": "code",
   "execution_count": null,
   "metadata": {
    "deletable": false,
    "editable": false,
    "nbgrader": {
     "cell_type": "code",
     "checksum": "9cdf76b3a154bfa893979791bf86337f",
     "grade": true,
     "grade_id": "cell-fd332584a4fcb506",
     "locked": true,
     "points": 10,
     "schema_version": 3,
     "solution": false,
     "task": false
    }
   },
   "outputs": [],
   "source": []
  },
  {
   "cell_type": "code",
   "execution_count": null,
   "metadata": {
    "deletable": false,
    "editable": false,
    "nbgrader": {
     "cell_type": "code",
     "checksum": "8a449bf37c514965cce1b9dcddd7543d",
     "grade": true,
     "grade_id": "cell-76a3ea51860cb00c",
     "locked": true,
     "points": 20,
     "schema_version": 3,
     "solution": false,
     "task": false
    }
   },
   "outputs": [],
   "source": []
  },
  {
   "cell_type": "code",
   "execution_count": null,
   "metadata": {
    "deletable": false,
    "editable": false,
    "nbgrader": {
     "cell_type": "code",
     "checksum": "c2e7bb726f9c4a8f7e95cbb048ca8c44",
     "grade": true,
     "grade_id": "cell-7ca581e958219d2f",
     "locked": true,
     "points": 20,
     "schema_version": 3,
     "solution": false,
     "task": false
    }
   },
   "outputs": [],
   "source": []
  },
  {
   "cell_type": "code",
   "execution_count": null,
   "metadata": {
    "deletable": false,
    "editable": false,
    "nbgrader": {
     "cell_type": "code",
     "checksum": "3ed2f0ecd13d173c3c53c7de88ba5b9d",
     "grade": true,
     "grade_id": "cell-2de7410cb62673fd",
     "locked": true,
     "points": 10,
     "schema_version": 3,
     "solution": false,
     "task": false
    }
   },
   "outputs": [],
   "source": []
  },
  {
   "cell_type": "code",
   "execution_count": null,
   "metadata": {
    "deletable": false,
    "editable": false,
    "nbgrader": {
     "cell_type": "code",
     "checksum": "2030c06e5c4ec9a8ebc7b757fe81d296",
     "grade": true,
     "grade_id": "cell-b71d35193f43dfa0",
     "locked": true,
     "points": 20,
     "schema_version": 3,
     "solution": false,
     "task": false
    }
   },
   "outputs": [],
   "source": []
  },
  {
   "cell_type": "code",
   "execution_count": null,
   "metadata": {
    "deletable": false,
    "editable": false,
    "nbgrader": {
     "cell_type": "code",
     "checksum": "71be82a78374d9e1687d6c31e49e84a4",
     "grade": true,
     "grade_id": "cell-9b85a3f3f88d49cb",
     "locked": true,
     "points": 10,
     "schema_version": 3,
     "solution": false,
     "task": false
    }
   },
   "outputs": [],
   "source": []
  },
  {
   "cell_type": "code",
   "execution_count": null,
   "metadata": {
    "deletable": false,
    "editable": false,
    "nbgrader": {
     "cell_type": "code",
     "checksum": "11ff01b743a67cbf853fa3ea572233a1",
     "grade": true,
     "grade_id": "cell-ff571065fa7fef84",
     "locked": true,
     "points": 10,
     "schema_version": 3,
     "solution": false,
     "task": false
    }
   },
   "outputs": [],
   "source": []
  },
  {
   "cell_type": "markdown",
   "metadata": {},
   "source": [
    "## Popular Python Packages\n",
    "\n",
    "### Numpy \n",
    "\n",
    "https://numpy.org/\n",
    "\n",
    "**What Is Numpy?**\n",
    "\n",
    "Numpy is considered as one of the most popular machine learning library in Python. TensorFlow and other libraries uses Numpy internally for performing multiple operations on Tensors. Array interface is the best and the most important feature of Numpy.\n",
    "\n",
    "**Features Of Numpy**\n",
    "* Interactive: Numpy is very interactive and easy to use.\n",
    "* Mathematics: Makes complex mathematical implementations very simple.\n",
    "* Intuitive: Makes coding real easy and grasping the concepts is easy.\n",
    "* Lot of Interaction: Widely used, hence a lot of open source contribution.\n",
    "\n",
    "**Uses of Numpy?**\n",
    "\n",
    "This interface can be utilized for expressing images, sound waves, and other binary raw streams as an array of real numbers in N-dimensional. For implementing this library for machine learning having knowledge of Numpy is important for full stack developers."
   ]
  },
  {
   "cell_type": "markdown",
   "metadata": {},
   "source": [
    "### Pandas\n",
    "https://pandas.pydata.org/\n",
    "\n",
    "**What Is Pandas?**\n",
    "\n",
    "Pandas is a machine learning library in Python that provides data structures of high-level and a wide variety of tools for analysis. One of the great feature of this library is the ability to translate complex operations with data using one or two commands. Pandas have so many inbuilt methods for grouping, combining data, and filtering, as well as time-series functionality.\n",
    "\n",
    "**Features Of Pandas**\n",
    "\n",
    "Pandas make sure that the entire process of manipulating data will be easier. Support for operations such as Re-indexing, Iteration, Sorting, Aggregations, Concatenations and Visualizations are among the feature highlights of Pandas.\n",
    "\n",
    "**Applications of Pandas?**\n",
    "\n",
    "Currently, there are fewer releases of pandas library which includes hundred of new features, bug fixes, enhancements, and changes in API. The improvements in pandas regards its ability to group and sort data, select best suited output for the apply method, and provides support for performing custom types operations.\n",
    "\n",
    "Data Analysis among everything else takes the highlight when it comes to usage of Pandas. But, Pandas when used with other libraries and tools ensure high functionality and good amount of flexibility."
   ]
  },
  {
   "cell_type": "code",
   "execution_count": null,
   "metadata": {
    "ExecuteTime": {
     "end_time": "2024-05-26T03:18:22.219293Z",
     "start_time": "2024-05-26T03:18:21.548508Z"
    }
   },
   "outputs": [],
   "source": [
    "import pandas as pd"
   ]
  },
  {
   "cell_type": "markdown",
   "metadata": {},
   "source": [
    "**Example:**\n",
    "\n",
    "Store passenger data of the Titanic. For a number of passengers, we know the name (characters), age (integers) and sex (male/female) data.\n",
    "\n",
    "To manually store data in a table, create a DataFrame. When using a Python dictionary of lists, the dictionary keys will be used as column headers and the values in each list as columns of the DataFrame.\n",
    "\n",
    "A DataFrame is a 2-dimensional data structure that can store data of different types (including characters, integers, floating point values, categorical data and more) in columns. It is similar to a spreadsheet, a SQL table or the data.frame in R."
   ]
  },
  {
   "cell_type": "code",
   "execution_count": null,
   "metadata": {
    "ExecuteTime": {
     "end_time": "2024-05-26T03:18:23.189556Z",
     "start_time": "2024-05-26T03:18:23.186025Z"
    }
   },
   "outputs": [],
   "source": [
    "df = pd.DataFrame(\n",
    "    {\n",
    "        \"Name\": [\n",
    "            \"Braund, Mr. Owen Harris\",\n",
    "            \"Allen, Mr. William Henry\",\n",
    "            \"Bonnell, Miss. Elizabeth\",\n",
    "        ],\n",
    "        \"Age\": [22, 35, 58],\n",
    "        \"Sex\": [\"male\", \"male\", \"female\"],\n",
    "    }\n",
    ")"
   ]
  },
  {
   "cell_type": "code",
   "execution_count": null,
   "metadata": {
    "ExecuteTime": {
     "end_time": "2024-05-26T03:18:24.372245Z",
     "start_time": "2024-05-26T03:18:24.358427Z"
    }
   },
   "outputs": [],
   "source": [
    "df"
   ]
  },
  {
   "cell_type": "markdown",
   "metadata": {},
   "source": [
    "Working with the data in the column Age"
   ]
  },
  {
   "cell_type": "code",
   "execution_count": null,
   "metadata": {
    "ExecuteTime": {
     "end_time": "2024-05-26T03:18:27.286083Z",
     "start_time": "2024-05-26T03:18:27.282056Z"
    }
   },
   "outputs": [],
   "source": [
    "df[\"Age\"]"
   ]
  },
  {
   "cell_type": "markdown",
   "metadata": {},
   "source": [
    "Create a Series from scratch as well:"
   ]
  },
  {
   "cell_type": "code",
   "execution_count": null,
   "metadata": {
    "ExecuteTime": {
     "end_time": "2024-05-26T03:18:33.250997Z",
     "start_time": "2024-05-26T03:18:33.245766Z"
    }
   },
   "outputs": [],
   "source": [
    "ages = pd.Series([22, 35, 58], name=\"Age\")\n",
    "ages"
   ]
  },
  {
   "cell_type": "markdown",
   "metadata": {},
   "source": [
    "We can do this on the DataFrame by selecting the Age column and applying max():"
   ]
  },
  {
   "cell_type": "code",
   "execution_count": null,
   "metadata": {
    "ExecuteTime": {
     "end_time": "2022-04-14T06:01:41.907931Z",
     "start_time": "2022-04-14T06:01:41.873059Z"
    }
   },
   "outputs": [],
   "source": [
    "df[\"Age\"].max()"
   ]
  },
  {
   "cell_type": "markdown",
   "metadata": {},
   "source": [
    "Or to the Series:"
   ]
  },
  {
   "cell_type": "code",
   "execution_count": null,
   "metadata": {
    "ExecuteTime": {
     "end_time": "2022-04-11T10:57:47.439540Z",
     "start_time": "2022-04-11T10:57:47.431444Z"
    }
   },
   "outputs": [],
   "source": [
    "ages.max()"
   ]
  },
  {
   "cell_type": "markdown",
   "metadata": {},
   "source": [
    "Some basic statistics of the numerical data of my data table. \n",
    "\n",
    "The describe() method provides a quick overview of the numerical data in a DataFrame. As the Name and Sex columns are textual data, these are by default not taken into account by the describe() method."
   ]
  },
  {
   "cell_type": "code",
   "execution_count": null,
   "metadata": {
    "ExecuteTime": {
     "end_time": "2022-04-11T10:57:48.429504Z",
     "start_time": "2022-04-11T10:57:48.405949Z"
    }
   },
   "outputs": [],
   "source": [
    "df.describe()"
   ]
  },
  {
   "cell_type": "markdown",
   "metadata": {},
   "source": [
    "### Matplotlib \n",
    "https://matplotlib.org/\n",
    "\n",
    "Matplotlib is a comprehensive library for creating static, animated, and interactive visualizations in Python. Matplotlib makes easy things easy and hard things possible.\n",
    "\n",
    "* Create publication quality plots.\n",
    "* Make interactive figures that can zoom, pan, update.\n",
    "* Customize visual style and layout.\n",
    "* Export to many file formats .\n",
    "* Embed in JupyterLab and Graphical User Interfaces.\n",
    "* Use a rich array of third-party packages built on Matplotlib."
   ]
  },
  {
   "cell_type": "code",
   "execution_count": null,
   "metadata": {
    "ExecuteTime": {
     "end_time": "2024-05-26T03:20:16.503882Z",
     "start_time": "2024-05-26T03:20:15.115015Z"
    }
   },
   "outputs": [],
   "source": [
    "import matplotlib.pyplot as plt\n",
    "import numpy as np"
   ]
  },
  {
   "cell_type": "markdown",
   "metadata": {},
   "source": [
    "Define the data"
   ]
  },
  {
   "cell_type": "code",
   "execution_count": null,
   "metadata": {
    "ExecuteTime": {
     "end_time": "2024-05-26T03:20:16.565412Z",
     "start_time": "2024-05-26T03:20:16.562264Z"
    }
   },
   "outputs": [],
   "source": [
    "N = 5\n",
    "menMeans = (20, 35, 30, 35, -27)\n",
    "womenMeans = (25, 32, 34, 20, -25)\n",
    "menStd = (2, 3, 4, 1, 2)\n",
    "womenStd = (3, 5, 2, 3, 3)\n",
    "ind = np.arange(N)    # the x locations for the groups\n",
    "width = 0.35       # the width of the bars: can also be len(x) sequence"
   ]
  },
  {
   "cell_type": "markdown",
   "metadata": {},
   "source": [
    "Stacked bar plot with error bars"
   ]
  },
  {
   "cell_type": "code",
   "execution_count": null,
   "metadata": {
    "ExecuteTime": {
     "end_time": "2024-05-26T03:20:19.434892Z",
     "start_time": "2024-05-26T03:20:19.178239Z"
    }
   },
   "outputs": [],
   "source": [
    "fig, ax = plt.subplots()\n",
    "\n",
    "p1 = ax.bar(ind, menMeans, width, yerr=menStd, label='Men')\n",
    "p2 = ax.bar(ind, womenMeans, width, bottom=menMeans, yerr=womenStd, label='Women')\n",
    "\n",
    "ax.axhline(0, color='grey', linewidth=0.8)\n",
    "ax.set_ylabel('Scores')\n",
    "ax.set_title('Scores by group and gender')\n",
    "ax.set_xticks(ind, labels=['G1', 'G2', 'G3', 'G4', 'G5'])\n",
    "ax.legend()\n",
    "\n",
    "# Label with label_type 'center' instead of the default 'edge'\n",
    "ax.bar_label(p1, label_type='center')\n",
    "ax.bar_label(p2, label_type='center')\n",
    "ax.bar_label(p2)\n",
    "\n",
    "plt.figure(figsize = (15, 15))\n",
    "plt.show()"
   ]
  },
  {
   "cell_type": "markdown",
   "metadata": {},
   "source": [
    "Horizontal bar chart"
   ]
  },
  {
   "cell_type": "code",
   "execution_count": null,
   "metadata": {
    "ExecuteTime": {
     "end_time": "2022-04-14T06:09:02.264008Z",
     "start_time": "2022-04-14T06:08:55.625905Z"
    }
   },
   "outputs": [],
   "source": [
    "# Fixing random state for reproducibility\n",
    "np.random.seed(19680801)\n",
    "\n",
    "# Example data\n",
    "people = ('Tom', 'Dick', 'Harry', 'Slim', 'Jim')\n",
    "y_pos = np.arange(len(people))\n",
    "performance = 3 + 10 * np.random.rand(len(people))\n",
    "error = np.random.rand(len(people))\n",
    "\n",
    "fig, ax = plt.subplots()\n",
    "\n",
    "hbars = ax.barh(y_pos, performance, xerr=error, align='center')\n",
    "ax.set_yticks(y_pos, labels=people)\n",
    "ax.invert_yaxis()  # labels read top-to-bottom\n",
    "ax.set_xlabel('Performance')\n",
    "ax.set_title('How fast do you want to go today?')\n",
    "\n",
    "# Label with specially formatted floats\n",
    "ax.bar_label(hbars, fmt='%.2f')\n",
    "ax.set_xlim(right=15)  # adjust xlim to fit labels\n",
    "\n",
    "plt.show()"
   ]
  },
  {
   "cell_type": "markdown",
   "metadata": {},
   "source": [
    "Some of the more advanced things that one can do with bar labels"
   ]
  },
  {
   "cell_type": "code",
   "execution_count": null,
   "metadata": {
    "ExecuteTime": {
     "end_time": "2022-04-14T06:10:09.605438Z",
     "start_time": "2022-04-14T06:10:09.279782Z"
    }
   },
   "outputs": [],
   "source": [
    "fig, ax = plt.subplots()\n",
    "\n",
    "hbars = ax.barh(y_pos, performance, xerr=error, align='center')\n",
    "ax.set_yticks(y_pos, labels=people)\n",
    "ax.invert_yaxis()  # labels read top-to-bottom\n",
    "ax.set_xlabel('Performance')\n",
    "ax.set_title('How fast do you want to go today?')\n",
    "\n",
    "# Label with given captions, custom padding and annotate options\n",
    "ax.bar_label(hbars, labels=['±%.2f' % e for e in error],\n",
    "             padding=8, color='b', fontsize=14)\n",
    "ax.set_xlim(right=16)\n",
    "\n",
    "plt.show()"
   ]
  },
  {
   "cell_type": "markdown",
   "metadata": {},
   "source": [
    "Plotting categorical variables\n",
    "\n",
    "You can pass categorical values (i.e. strings) directly as x- or y-values to many plotting functions:"
   ]
  },
  {
   "cell_type": "code",
   "execution_count": null,
   "metadata": {
    "ExecuteTime": {
     "end_time": "2022-04-14T06:10:35.356491Z",
     "start_time": "2022-04-14T06:10:35.075018Z"
    }
   },
   "outputs": [],
   "source": [
    "data = {'apple': 10, 'orange': 15, 'lemon': 5, 'lime': 20}\n",
    "names = list(data.keys())\n",
    "values = list(data.values())\n",
    "\n",
    "fig, axs = plt.subplots(1, 3, figsize=(9, 3), sharey=True)\n",
    "axs[0].bar(names, values)\n",
    "axs[1].scatter(names, values)\n",
    "axs[2].plot(names, values)\n",
    "fig.suptitle('Categorical Plotting')"
   ]
  },
  {
   "cell_type": "markdown",
   "metadata": {},
   "source": [
    "This works on both axes:"
   ]
  },
  {
   "cell_type": "code",
   "execution_count": null,
   "metadata": {
    "ExecuteTime": {
     "end_time": "2022-04-11T10:57:59.778539Z",
     "start_time": "2022-04-11T10:57:59.651150Z"
    }
   },
   "outputs": [],
   "source": [
    "cat = [\"bored\", \"happy\", \"bored\", \"bored\", \"happy\", \"bored\"]\n",
    "dog = [\"happy\", \"happy\", \"happy\", \"happy\", \"bored\", \"bored\"]\n",
    "activity = [\"combing\", \"drinking\", \"feeding\", \"napping\", \"playing\", \"washing\"]\n",
    "\n",
    "fig, ax = plt.subplots()\n",
    "ax.plot(activity, dog, label=\"dog\")\n",
    "ax.plot(activity, cat, label=\"cat\")\n",
    "ax.legend()\n",
    "\n",
    "plt.show()"
   ]
  },
  {
   "cell_type": "markdown",
   "metadata": {},
   "source": [
    "Plotting the coherence of two signals\n",
    "\n",
    "An example showing how to plot the coherence of two signals."
   ]
  },
  {
   "cell_type": "code",
   "execution_count": null,
   "metadata": {
    "ExecuteTime": {
     "end_time": "2022-04-11T10:58:01.881003Z",
     "start_time": "2022-04-11T10:58:01.598155Z"
    }
   },
   "outputs": [],
   "source": [
    "# Fixing random state for reproducibility\n",
    "np.random.seed(19680801)\n",
    "\n",
    "dt = 0.01\n",
    "t = np.arange(0, 30, dt)\n",
    "nse1 = np.random.randn(len(t))                 # white noise 1\n",
    "nse2 = np.random.randn(len(t))                 # white noise 2\n",
    "\n",
    "# Two signals with a coherent part at 10Hz and a random part\n",
    "s1 = np.sin(2 * np.pi * 10 * t) + nse1\n",
    "s2 = np.sin(2 * np.pi * 10 * t) + nse2\n",
    "\n",
    "fig, axs = plt.subplots(2, 1)\n",
    "axs[0].plot(t, s1, t, s2)\n",
    "axs[0].set_xlim(0, 2)\n",
    "axs[0].set_xlabel('time')\n",
    "axs[0].set_ylabel('s1 and s2')\n",
    "axs[0].grid(True)\n",
    "\n",
    "cxy, f = axs[1].cohere(s1, s2, 256, 1. / dt)\n",
    "axs[1].set_ylabel('coherence')\n",
    "\n",
    "fig.tight_layout()\n",
    "plt.show()"
   ]
  },
  {
   "cell_type": "markdown",
   "metadata": {},
   "source": [
    "### Scikit-Learn (Advanced)\n",
    "https://scikit-learn.org/stable/\n",
    "\n",
    "**What Is Scikit-learn?**\n",
    "\n",
    "It is a Python library is associated with NumPy and SciPy. It is considered as one of the best libraries for working with complex data.\n",
    "\n",
    "There are a lot of changes being made in this library. One modification is the cross-validation feature, providing the ability to use more than one metric. Lots of training methods like logistics regression and nearest neighbors have received some little improvements.\n",
    "\n",
    "**Features Of Scikit-Learn**\n",
    "* Cross-validation: There are various methods to check the accuracy of supervised models on unseen data.\n",
    "* Unsupervised learning algorithms: Again there is a large spread of algorithms in the offering – starting from clustering, factor analysis, principal component analysis to unsupervised neural networks.\n",
    "* Feature extraction: Useful for extracting features from images and text (e.g. Bag of words)\n",
    "\n",
    "**Where are we using Scikit-Learn?**\n",
    "\n",
    "It contains a numerous number of algorithms for implementing standard machine learning and data mining tasks like reducing dimensionality, classification, regression, clustering, and model selection."
   ]
  },
  {
   "cell_type": "markdown",
   "metadata": {},
   "source": [
    "### Keras (Advanced)\n",
    "https://keras.io/\n",
    "\n",
    "**What Is Keras?**\n",
    "\n",
    "Keras is considered as one of the coolest machine learning libraries in Python. It provides an easier mechanism to express neural networks. Keras also provides some of the best utilities for compiling models, processing data-sets, visualization of graphs, and much more.\n",
    "\n",
    "In the backend, Keras uses either Theano or TensorFlow internally. Some of the most popular neural networks like CNTK can also be used. Keras is comparatively slow when we compare it with other machine learning libraries. Because it creates a computational graph by using back-end infrastructure and then makes use of it to perform operations. All the models in Keras are portable.\n",
    "\n",
    "**Features Of Keras**\n",
    "\n",
    "It runs smoothly on both CPU and GPU.\n",
    "Keras supports almost all the models of a neural network – fully connected, convolutional, pooling, recurrent, embedding, etc. Furthermore, these models can be combined to build more complex models.\n",
    "Keras, being modular in nature,  is incredibly expressive, flexible, and apt for innovative research.\n",
    "Keras is a completely Python-based framework, which makes it easy to debug and explore.\n",
    "\n",
    "**Where are we using Keras?**\n",
    "\n",
    "You are already constantly interacting with features built with Keras — it is in use at Netflix, Uber, Yelp, Instacart, Zocdoc, Square, and many others. It is especially popular among startups that place deep learning at the core of their products.\n",
    "\n",
    "Keras contains numerous implementations of commonly used neural network building blocks such as layers, objectives, activation functions, optimizers and a host of tools to make working with image and text data easier. \n",
    "\n",
    "Plus, it provides many pre-processed data-sets and pre-trained models like MNIST, VGG, Inception, SqueezeNet, ResNet etc.\n",
    "\n",
    "Keras is also a favorite among deep learning researchers, coming in at #2. Keras has also been adopted by researchers at large scientific organizations, in partic,ular CERN and NASA."
   ]
  }
 ],
 "metadata": {
  "kernelspec": {
   "display_name": "Python 3 (ipykernel)",
   "language": "python",
   "name": "python3"
  },
  "language_info": {
   "codemirror_mode": {
    "name": "ipython",
    "version": 3
   },
   "file_extension": ".py",
   "mimetype": "text/x-python",
   "name": "python",
   "nbconvert_exporter": "python",
   "pygments_lexer": "ipython3",
   "version": "3.8.10"
  },
  "latex_envs": {
   "LaTeX_envs_menu_present": true,
   "autoclose": false,
   "autocomplete": true,
   "bibliofile": "biblio.bib",
   "cite_by": "apalike",
   "current_citInitial": 1,
   "eqLabelWithNumbers": true,
   "eqNumInitial": 1,
   "hotkeys": {
    "equation": "Ctrl-E",
    "itemize": "Ctrl-I"
   },
   "labels_anchors": false,
   "latex_user_defs": false,
   "report_style_numbering": false,
   "user_envs_cfg": false
  },
  "toc": {
   "base_numbering": "1",
   "nav_menu": {},
   "number_sections": true,
   "sideBar": true,
   "skip_h1_title": true,
   "title_cell": "Table of Contents",
   "title_sidebar": "Contents",
   "toc_cell": true,
   "toc_position": {
    "height": "calc(100% - 180px)",
    "left": "10px",
    "top": "150px",
    "width": "165px"
   },
   "toc_section_display": true,
   "toc_window_display": true
  }
 },
 "nbformat": 4,
 "nbformat_minor": 1
}
