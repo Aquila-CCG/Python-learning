{
 "cells": [
  {
   "cell_type": "markdown",
   "metadata": {},
   "source": [
    "Before you turn this problem in, make sure everything runs as expected. First, **restart the kernel** (in the menubar, select Kernel$\\rightarrow$Restart) and then **run all cells** (in the menubar, select Cell$\\rightarrow$Run All).\n",
    "\n",
    "Make sure you fill in any place that says `YOUR CODE HERE` or \"YOUR ANSWER HERE\", as well as your name and collaborators below:"
   ]
  },
  {
   "cell_type": "code",
   "execution_count": null,
   "metadata": {},
   "outputs": [],
   "source": [
    "NAME = \"\"\n",
    "COLLABORATORS = \"\""
   ]
  },
  {
   "cell_type": "code",
   "execution_count": 132,
   "metadata": {
    "ExecuteTime": {
     "end_time": "2024-05-31T03:53:04.384859Z",
     "start_time": "2024-05-31T03:53:04.376796Z"
    }
   },
   "outputs": [],
   "source": [
    "class School:\n",
    "    schoolName = 'uic'\n",
    "    \n",
    "    def __init__(self):\n",
    "        pass\n",
    "    \n",
    "    def introduce(self):\n",
    "        print('My name is', School.schoolName)\n",
    "    \n",
    "    pass"
   ]
  },
  {
   "cell_type": "code",
   "execution_count": 133,
   "metadata": {
    "ExecuteTime": {
     "end_time": "2024-05-31T03:53:04.709284Z",
     "start_time": "2024-05-31T03:53:04.705964Z"
    }
   },
   "outputs": [
    {
     "name": "stdout",
     "output_type": "stream",
     "text": [
      "My name is uic\n"
     ]
    }
   ],
   "source": [
    "x = School()\n",
    "x.introduce()"
   ]
  },
  {
   "cell_type": "markdown",
   "metadata": {},
   "source": [
    "---"
   ]
  },
  {
   "cell_type": "markdown",
   "metadata": {
    "toc": true
   },
   "source": [
    "<h1>Table of Contents<span class=\"tocSkip\"></span></h1>\n",
    "<div class=\"toc\"><ul class=\"toc-item\"><li><span><a href=\"#Everything-is-a-Class\" data-toc-modified-id=\"Everything-is-a-Class-1\"><span class=\"toc-item-num\">1&nbsp;&nbsp;</span>Everything is a Class</a></span><ul class=\"toc-item\"><li><span><a href=\"#Class-Definition-Syntax\" data-toc-modified-id=\"Class-Definition-Syntax-1.1\"><span class=\"toc-item-num\">1.1&nbsp;&nbsp;</span>Class Definition Syntax</a></span></li><li><span><a href=\"#Objects-(also-called-instances)-are-generated-from-a-Class\" data-toc-modified-id=\"Objects-(also-called-instances)-are-generated-from-a-Class-1.2\"><span class=\"toc-item-num\">1.2&nbsp;&nbsp;</span>Objects (also called instances) are generated from a Class</a></span><ul class=\"toc-item\"><li><span><a href=\"#Example-1\" data-toc-modified-id=\"Example-1-1.2.1\"><span class=\"toc-item-num\">1.2.1&nbsp;&nbsp;</span>Example 1</a></span></li><li><span><a href=\"#Example-2\" data-toc-modified-id=\"Example-2-1.2.2\"><span class=\"toc-item-num\">1.2.2&nbsp;&nbsp;</span>Example 2</a></span></li></ul></li></ul></li><li><span><a href=\"#Class-Attributes-and-Instance-Attributes\" data-toc-modified-id=\"Class-Attributes-and-Instance-Attributes-2\"><span class=\"toc-item-num\">2&nbsp;&nbsp;</span>Class Attributes and Instance Attributes</a></span><ul class=\"toc-item\"><li><span><a href=\"#Example:-Class-Attributes\" data-toc-modified-id=\"Example:-Class-Attributes-2.1\"><span class=\"toc-item-num\">2.1&nbsp;&nbsp;</span>Example: Class Attributes</a></span></li><li><span><a href=\"#Example:-Object-Attributes\" data-toc-modified-id=\"Example:-Object-Attributes-2.2\"><span class=\"toc-item-num\">2.2&nbsp;&nbsp;</span>Example: Object Attributes</a></span></li><li><span><a href=\"#Example:-Class-and-Object-attributes\" data-toc-modified-id=\"Example:-Class-and-Object-attributes-2.3\"><span class=\"toc-item-num\">2.3&nbsp;&nbsp;</span>Example: Class and Object attributes</a></span></li><li><span><a href=\"#Another-Example\" data-toc-modified-id=\"Another-Example-2.4\"><span class=\"toc-item-num\">2.4&nbsp;&nbsp;</span>Another Example</a></span></li></ul></li><li><span><a href=\"#Methods\" data-toc-modified-id=\"Methods-3\"><span class=\"toc-item-num\">3&nbsp;&nbsp;</span>Methods</a></span><ul class=\"toc-item\"><li><span><a href=\"#Example-1\" data-toc-modified-id=\"Example-1-3.1\"><span class=\"toc-item-num\">3.1&nbsp;&nbsp;</span>Example 1</a></span></li><li><span><a href=\"#The-__init__-Method\" data-toc-modified-id=\"The-__init__-Method-3.2\"><span class=\"toc-item-num\">3.2&nbsp;&nbsp;</span>The <code>__init__</code> Method</a></span><ul class=\"toc-item\"><li><span><a href=\"#Example-1\" data-toc-modified-id=\"Example-1-3.2.1\"><span class=\"toc-item-num\">3.2.1&nbsp;&nbsp;</span>Example 1</a></span></li><li><span><a href=\"#Example-2\" data-toc-modified-id=\"Example-2-3.2.2\"><span class=\"toc-item-num\">3.2.2&nbsp;&nbsp;</span>Example 2</a></span></li></ul></li><li><span><a href=\"#The--__del__-method\" data-toc-modified-id=\"The--__del__-method-3.3\"><span class=\"toc-item-num\">3.3&nbsp;&nbsp;</span>The  <code>__del__</code> method</a></span><ul class=\"toc-item\"><li><span><a href=\"#Example-1\" data-toc-modified-id=\"Example-1-3.3.1\"><span class=\"toc-item-num\">3.3.1&nbsp;&nbsp;</span>Example 1</a></span></li></ul></li></ul></li><li><span><a href=\"#Examples\" data-toc-modified-id=\"Examples-4\"><span class=\"toc-item-num\">4&nbsp;&nbsp;</span>Examples</a></span></li><li><span><a href=\"#Exercise\" data-toc-modified-id=\"Exercise-5\"><span class=\"toc-item-num\">5&nbsp;&nbsp;</span>Exercise</a></span></li></ul></div>"
   ]
  },
  {
   "cell_type": "markdown",
   "metadata": {},
   "source": [
    "# Chapter 8: Python Classes and Objects"
   ]
  },
  {
   "cell_type": "markdown",
   "metadata": {},
   "source": [
    "**After this class, you will know:**\n",
    " \n",
    "* 1) How to define a class and object?\n",
    "\n",
    "* 2) What are class attributes/methods and object attributes/methods?\n",
    "\n",
    "* 3) What are `__init__` and `__del__` methods?\n",
    "\n",
    "* 4) How to create your own classes and objects?"
   ]
  },
  {
   "cell_type": "markdown",
   "metadata": {},
   "source": [
    "---"
   ]
  },
  {
   "cell_type": "markdown",
   "metadata": {},
   "source": [
    "## Everything is a Class\n",
    "\n",
    "* *Guido van Rossum* has designed the language according to the principle \"first-class everything\". He wrote: \n",
    "\n",
    "> One of my goals for Python was to make it so that all objects were \"first class.\" By this, I meant that I wanted all objects that could be named in the language (e.g., integers, strings, functions, classes, modules, methods, and so on) to have equal status. That is, they can be assigned to variables, placed in lists, stored in dictionaries, passed as arguments, and so forth. (Blog, The History of Python, February 27, 2009) \n",
    "\n",
    "* This means that \"everything\" is treated the same way, everything is an object: functions and methods are just like lists, integers or floats. \n",
    "\n",
    "* For detailed documentation on Classes, you can check the link: https://docs.python.org/3/tutorial/classes.html"
   ]
  },
  {
   "cell_type": "code",
   "execution_count": 1,
   "metadata": {
    "ExecuteTime": {
     "end_time": "2024-05-31T02:29:33.456732Z",
     "start_time": "2024-05-31T02:29:33.450169Z"
    }
   },
   "outputs": [],
   "source": [
    "# all of below are derived from \"classes\"\n",
    "int1 = 42\n",
    "\n",
    "str1 = 'hello world'\n",
    "\n",
    "list1 = [1, 2, 3]\n",
    "\n",
    "tup1 = (1, 2, 3)\n",
    "\n",
    "dict1 = {'a':1, 'b':2, 'c':3}\n",
    "\n",
    "def func1():\n",
    "    pass"
   ]
  },
  {
   "cell_type": "code",
   "execution_count": 2,
   "metadata": {
    "ExecuteTime": {
     "end_time": "2024-05-31T02:29:34.307573Z",
     "start_time": "2024-05-31T02:29:34.296330Z"
    }
   },
   "outputs": [
    {
     "data": {
      "text/plain": [
       "[42,\n",
       " 'hello world',\n",
       " [1, 2, 3],\n",
       " (1, 2, 3),\n",
       " {'a': 1, 'b': 2, 'c': 3},\n",
       " <function __main__.func1()>]"
      ]
     },
     "execution_count": 2,
     "metadata": {},
     "output_type": "execute_result"
    }
   ],
   "source": [
    "list2 = [int1, str1, list1, tup1, dict1, func1]\n",
    "list2"
   ]
  },
  {
   "cell_type": "code",
   "execution_count": 3,
   "metadata": {
    "ExecuteTime": {
     "end_time": "2024-05-31T02:29:41.122755Z",
     "start_time": "2024-05-31T02:29:41.118865Z"
    }
   },
   "outputs": [
    {
     "data": {
      "text/plain": [
       "42"
      ]
     },
     "execution_count": 3,
     "metadata": {},
     "output_type": "execute_result"
    }
   ],
   "source": [
    "variable_name = int1\n",
    "variable_name"
   ]
  },
  {
   "cell_type": "code",
   "execution_count": 4,
   "metadata": {
    "ExecuteTime": {
     "end_time": "2024-05-31T02:29:42.883988Z",
     "start_time": "2024-05-31T02:29:42.879771Z"
    }
   },
   "outputs": [
    {
     "data": {
      "text/plain": [
       "<function __main__.func1()>"
      ]
     },
     "execution_count": 4,
     "metadata": {},
     "output_type": "execute_result"
    }
   ],
   "source": [
    "variable_name = func1\n",
    "variable_name"
   ]
  },
  {
   "cell_type": "markdown",
   "metadata": {},
   "source": [
    "### Class Definition Syntax\n",
    "\n",
    "The simplest form of class definition looks like this:\n",
    "\n",
    "```py\n",
    "class ClassName:\n",
    "    <statement-1>\n",
    "    .\n",
    "    .\n",
    "    .\n",
    "    <statement-N>\n",
    "```\n",
    "\n",
    "Class definitions, like function definitions (def statements) must be executed before they have any effect. (You could conceivably place a class definition in a branch of an if statement, or inside a function.)\n",
    "\n",
    "In practice, the statements inside a class definition will usually be function definitions, but other statements are allowed. "
   ]
  },
  {
   "cell_type": "markdown",
   "metadata": {},
   "source": [
    "### Objects (also called instances) are generated from a Class\n",
    "\n",
    "Class objects support two kinds of operations: <span class=\"mark\">attribute references and instantiation</span>.\n",
    "\n",
    "Attribute references use the standard syntax used for all attribute references in Python: obj.name. Valid attribute names are all the names that were in the class’s namespace when the class object was created. So, if the class definition looked like this:"
   ]
  },
  {
   "cell_type": "code",
   "execution_count": 5,
   "metadata": {
    "ExecuteTime": {
     "end_time": "2024-05-31T02:32:22.139394Z",
     "start_time": "2024-05-31T02:32:22.134995Z"
    }
   },
   "outputs": [],
   "source": [
    "class MyClass:\n",
    "    \"\"\"A simple example class\"\"\"\n",
    "    i = 12345\n",
    "\n",
    "    def func1(self):\n",
    "        return 'hello world'"
   ]
  },
  {
   "cell_type": "markdown",
   "metadata": {},
   "source": [
    "`MyClass.i` and `MyClass.func1` are valid <span class=\"mark\">attribute references</span>, returning an integer and a function object, respectively. \n",
    "\n",
    "<span class=\"mark\">Class instantiation</span> uses function notation. Just pretend that the class object is a parameterless function that returns a new instance of the class. For example (assuming the above class):"
   ]
  },
  {
   "cell_type": "code",
   "execution_count": 6,
   "metadata": {
    "ExecuteTime": {
     "end_time": "2024-05-31T02:32:27.314204Z",
     "start_time": "2024-05-31T02:32:27.311624Z"
    }
   },
   "outputs": [],
   "source": [
    "x = MyClass()\n",
    "# creates a new instance of the class and assigns this object to the local variable x"
   ]
  },
  {
   "cell_type": "code",
   "execution_count": 7,
   "metadata": {
    "ExecuteTime": {
     "end_time": "2024-05-31T02:32:30.319137Z",
     "start_time": "2024-05-31T02:32:30.314797Z"
    }
   },
   "outputs": [
    {
     "data": {
      "text/plain": [
       "12345"
      ]
     },
     "execution_count": 7,
     "metadata": {},
     "output_type": "execute_result"
    }
   ],
   "source": [
    "x.i"
   ]
  },
  {
   "cell_type": "code",
   "execution_count": 8,
   "metadata": {
    "ExecuteTime": {
     "end_time": "2024-05-31T02:32:31.764554Z",
     "start_time": "2024-05-31T02:32:31.760676Z"
    }
   },
   "outputs": [
    {
     "data": {
      "text/plain": [
       "'hello world'"
      ]
     },
     "execution_count": 8,
     "metadata": {},
     "output_type": "execute_result"
    }
   ],
   "source": [
    "x.func1()"
   ]
  },
  {
   "cell_type": "markdown",
   "metadata": {},
   "source": [
    "#### Example 1 "
   ]
  },
  {
   "cell_type": "code",
   "execution_count": 22,
   "metadata": {
    "ExecuteTime": {
     "end_time": "2024-05-31T02:38:47.116300Z",
     "start_time": "2024-05-31T02:38:47.109253Z"
    }
   },
   "outputs": [],
   "source": [
    "class Student():\n",
    "    \n",
    "    currentYear = 2024\n",
    "    \n",
    "    def __init__(self, firstName, lastName, enrolledYear, major, stuID):\n",
    "        self.firstName = firstName # attribute = value\n",
    "        self.lastName = lastName\n",
    "        self.enrolledYear = enrolledYear\n",
    "        self.major = major\n",
    "        self.stuID = stuID\n",
    "        \n",
    "    def showEmail(self):\n",
    "        print(str(self.stuID) + self.firstName + self.lastName + \"@mail.uic.edu.cn\")\n",
    "        \n",
    "    def showGradeLevel(self):\n",
    "        return Student.currentYear - self.enrolledYear\n",
    "    \n",
    "    def showMajor(self):\n",
    "        print(\"{} {} is in the {} program.\".format(self.firstName, self.lastName, self.major))\n",
    "        "
   ]
  },
  {
   "cell_type": "code",
   "execution_count": 24,
   "metadata": {
    "ExecuteTime": {
     "end_time": "2024-05-31T02:39:11.515669Z",
     "start_time": "2024-05-31T02:39:11.513089Z"
    }
   },
   "outputs": [],
   "source": [
    "wei = Student('Wei', 'Zhang', 2006, 'AM', '2330018000')"
   ]
  },
  {
   "cell_type": "code",
   "execution_count": 26,
   "metadata": {
    "ExecuteTime": {
     "end_time": "2024-05-31T02:39:15.225022Z",
     "start_time": "2024-05-31T02:39:15.222244Z"
    },
    "scrolled": true
   },
   "outputs": [
    {
     "name": "stdout",
     "output_type": "stream",
     "text": [
      "2330018000WeiZhang@mail.uic.edu.cn\n"
     ]
    }
   ],
   "source": [
    "wei.showEmail()"
   ]
  },
  {
   "cell_type": "code",
   "execution_count": 27,
   "metadata": {
    "ExecuteTime": {
     "end_time": "2024-05-31T02:39:15.771574Z",
     "start_time": "2024-05-31T02:39:15.767879Z"
    }
   },
   "outputs": [
    {
     "data": {
      "text/plain": [
       "18"
      ]
     },
     "execution_count": 27,
     "metadata": {},
     "output_type": "execute_result"
    }
   ],
   "source": [
    "wei.showGradeLevel()"
   ]
  },
  {
   "cell_type": "code",
   "execution_count": 28,
   "metadata": {
    "ExecuteTime": {
     "end_time": "2024-05-31T02:39:16.281588Z",
     "start_time": "2024-05-31T02:39:16.278691Z"
    }
   },
   "outputs": [
    {
     "name": "stdout",
     "output_type": "stream",
     "text": [
      "Wei Zhang is in the AM program.\n"
     ]
    }
   ],
   "source": [
    "wei.showMajor()"
   ]
  },
  {
   "cell_type": "markdown",
   "metadata": {},
   "source": [
    "#### Example 2\n",
    "class 'person' and class 'student' are coupling\n",
    "\n",
    "**super class** & **subclass**\n",
    "* **use 'person' constructor to construct 'student' constructor**\n",
    "* reuse 'person' codes"
   ]
  },
  {
   "cell_type": "code",
   "execution_count": 29,
   "metadata": {
    "ExecuteTime": {
     "end_time": "2024-05-31T02:39:44.721953Z",
     "start_time": "2024-05-31T02:39:44.718011Z"
    }
   },
   "outputs": [],
   "source": [
    "class person:\n",
    "    def __init__(self, name, age):\n",
    "        self.name = name\n",
    "        self.age = age\n",
    "        \n",
    "    def sayhi(self):\n",
    "        print('Hi, I am', self.name, '\\nI am', self.age, 'years old.')"
   ]
  },
  {
   "cell_type": "code",
   "execution_count": 30,
   "metadata": {
    "ExecuteTime": {
     "end_time": "2024-05-31T02:39:50.962009Z",
     "start_time": "2024-05-31T02:39:50.957823Z"
    }
   },
   "outputs": [
    {
     "name": "stdout",
     "output_type": "stream",
     "text": [
      "Hi, I am zhangsan \n",
      "I am 20 years old.\n"
     ]
    }
   ],
   "source": [
    "s1 = person('zhangsan', 20)\n",
    "s1.sayhi()"
   ]
  },
  {
   "cell_type": "code",
   "execution_count": 31,
   "metadata": {
    "ExecuteTime": {
     "end_time": "2024-05-31T02:39:55.592180Z",
     "start_time": "2024-05-31T02:39:55.588323Z"
    }
   },
   "outputs": [
    {
     "name": "stdout",
     "output_type": "stream",
     "text": [
      "Hi, I am lisi \n",
      "I am 18 years old.\n"
     ]
    }
   ],
   "source": [
    "s2 = person('lisi', 18)\n",
    "s2.sayhi()"
   ]
  },
  {
   "cell_type": "code",
   "execution_count": 32,
   "metadata": {
    "ExecuteTime": {
     "end_time": "2024-05-31T02:43:21.150488Z",
     "start_time": "2024-05-31T02:43:21.144332Z"
    }
   },
   "outputs": [],
   "source": [
    "class teacher(person):\n",
    "    def __init__(self, name, age, school):\n",
    "        person.__init__(self, name, age)\n",
    "        self.school = school\n",
    "    \n",
    "    def sayhi(self):\n",
    "        person.sayhi(self)\n",
    "        print('I an from', self.school)"
   ]
  },
  {
   "cell_type": "code",
   "execution_count": 33,
   "metadata": {
    "ExecuteTime": {
     "end_time": "2024-05-31T02:43:21.761642Z",
     "start_time": "2024-05-31T02:43:21.758448Z"
    }
   },
   "outputs": [],
   "source": [
    "class student(person):\n",
    "    def __init__(self, name, age, school):\n",
    "        person.__init__(self, name, age)\n",
    "        self.school = school\n",
    "    \n",
    "    def sayhi(self):\n",
    "        person.sayhi(self)\n",
    "        print('I am from', self.school)"
   ]
  },
  {
   "cell_type": "code",
   "execution_count": 34,
   "metadata": {
    "ExecuteTime": {
     "end_time": "2024-05-31T02:43:23.367073Z",
     "start_time": "2024-05-31T02:43:23.362312Z"
    }
   },
   "outputs": [
    {
     "name": "stdout",
     "output_type": "stream",
     "text": [
      "Hi, I am zhangsan \n",
      "I am 20 years old.\n",
      "I am from UIC\n"
     ]
    }
   ],
   "source": [
    "s = student('zhangsan', 20, 'UIC')\n",
    "s.sayhi()"
   ]
  },
  {
   "cell_type": "markdown",
   "metadata": {},
   "source": [
    "## Class Attributes and Instance Attributes\n",
    "\n",
    "* An attribute, feature, quality, or characteristic of something or someone. Usually an \"attribute\" is used to denote a specific ability or characteristic which something or someone has.\n",
    "\n",
    "* **Class attributes** are attributes which are owned by the class itself. They will be shared by all the instances of the class. Therefore they have the same value for every instance. We define class attributes outside of all the methods, usually they are placed at the top, right below the class header. \n",
    "\n",
    "* **Instance attributes** are owned by the specific instances of a class. This means for two different instances the instance attributes are usually different. \n",
    "\n",
    "We generally use the term `instance` in preference to `object` when we want to discuss the behavior of instances of a specific class or classes."
   ]
  },
  {
   "cell_type": "markdown",
   "metadata": {},
   "source": [
    "### Example: Class Attributes"
   ]
  },
  {
   "cell_type": "code",
   "execution_count": 35,
   "metadata": {
    "ExecuteTime": {
     "end_time": "2024-05-31T02:44:43.577828Z",
     "start_time": "2024-05-31T02:44:43.574929Z"
    }
   },
   "outputs": [],
   "source": [
    "# Create a class \n",
    "class A:\n",
    "    a = \"I am a class attribute!\""
   ]
  },
  {
   "cell_type": "code",
   "execution_count": 36,
   "metadata": {
    "ExecuteTime": {
     "end_time": "2024-05-31T02:44:51.670355Z",
     "start_time": "2024-05-31T02:44:51.667867Z"
    }
   },
   "outputs": [],
   "source": [
    "# Create an object\n",
    "x = A()"
   ]
  },
  {
   "cell_type": "code",
   "execution_count": 37,
   "metadata": {
    "ExecuteTime": {
     "end_time": "2024-05-31T02:44:52.697699Z",
     "start_time": "2024-05-31T02:44:52.695560Z"
    }
   },
   "outputs": [],
   "source": [
    "# Create an object\n",
    "y = A()"
   ]
  },
  {
   "cell_type": "code",
   "execution_count": 38,
   "metadata": {
    "ExecuteTime": {
     "end_time": "2024-05-31T02:44:54.145850Z",
     "start_time": "2024-05-31T02:44:54.141146Z"
    }
   },
   "outputs": [
    {
     "data": {
      "text/plain": [
       "'I am a class attribute!'"
      ]
     },
     "execution_count": 38,
     "metadata": {},
     "output_type": "execute_result"
    }
   ],
   "source": [
    "x.a"
   ]
  },
  {
   "cell_type": "code",
   "execution_count": 39,
   "metadata": {
    "ExecuteTime": {
     "end_time": "2024-05-31T02:44:54.939487Z",
     "start_time": "2024-05-31T02:44:54.936192Z"
    }
   },
   "outputs": [
    {
     "data": {
      "text/plain": [
       "'I am a class attribute!'"
      ]
     },
     "execution_count": 39,
     "metadata": {},
     "output_type": "execute_result"
    }
   ],
   "source": [
    "y.a"
   ]
  },
  {
   "cell_type": "code",
   "execution_count": 40,
   "metadata": {
    "ExecuteTime": {
     "end_time": "2024-05-31T02:45:10.120565Z",
     "start_time": "2024-05-31T02:45:10.115511Z"
    }
   },
   "outputs": [
    {
     "data": {
      "text/plain": [
       "'I am a class attribute!'"
      ]
     },
     "execution_count": 40,
     "metadata": {},
     "output_type": "execute_result"
    }
   ],
   "source": [
    "A.a"
   ]
  },
  {
   "cell_type": "markdown",
   "metadata": {},
   "source": [
    "\n",
    "* If you want to change a class attribute, you have to do it with the notation **ClassName.AttributeName**"
   ]
  },
  {
   "cell_type": "code",
   "execution_count": 41,
   "metadata": {
    "ExecuteTime": {
     "end_time": "2024-05-31T02:45:25.194136Z",
     "start_time": "2024-05-31T02:45:25.190322Z"
    }
   },
   "outputs": [
    {
     "data": {
      "text/plain": [
       "'I am a class attribute!'"
      ]
     },
     "execution_count": 41,
     "metadata": {},
     "output_type": "execute_result"
    }
   ],
   "source": [
    "x.a"
   ]
  },
  {
   "cell_type": "code",
   "execution_count": 42,
   "metadata": {
    "ExecuteTime": {
     "end_time": "2024-05-31T02:45:43.933921Z",
     "start_time": "2024-05-31T02:45:43.930217Z"
    }
   },
   "outputs": [],
   "source": [
    "A.a = 'Class attribute changed!'"
   ]
  },
  {
   "cell_type": "code",
   "execution_count": 43,
   "metadata": {
    "ExecuteTime": {
     "end_time": "2024-05-31T02:45:46.289847Z",
     "start_time": "2024-05-31T02:45:46.285078Z"
    }
   },
   "outputs": [
    {
     "data": {
      "text/plain": [
       "'Class attribute changed!'"
      ]
     },
     "execution_count": 43,
     "metadata": {},
     "output_type": "execute_result"
    }
   ],
   "source": [
    "x.a"
   ]
  },
  {
   "cell_type": "markdown",
   "metadata": {},
   "source": [
    "### Example: Object Attributes"
   ]
  },
  {
   "cell_type": "code",
   "execution_count": 47,
   "metadata": {
    "ExecuteTime": {
     "end_time": "2024-05-31T02:48:09.608452Z",
     "start_time": "2024-05-31T02:48:09.604501Z"
    }
   },
   "outputs": [],
   "source": [
    "# Create a class \n",
    "class A:\n",
    "    pass"
   ]
  },
  {
   "cell_type": "code",
   "execution_count": 48,
   "metadata": {
    "ExecuteTime": {
     "end_time": "2024-05-31T02:48:10.130883Z",
     "start_time": "2024-05-31T02:48:10.128093Z"
    }
   },
   "outputs": [],
   "source": [
    "# Create an object\n",
    "x = A()\n",
    "x.name = 'Alice'"
   ]
  },
  {
   "cell_type": "markdown",
   "metadata": {},
   "source": [
    "\n",
    "* ``__dict__`` is the dictionary used to store an object’s (writable) attributes."
   ]
  },
  {
   "cell_type": "code",
   "execution_count": 49,
   "metadata": {
    "ExecuteTime": {
     "end_time": "2024-05-31T02:48:16.255173Z",
     "start_time": "2024-05-31T02:48:16.251378Z"
    }
   },
   "outputs": [
    {
     "data": {
      "text/plain": [
       "{'name': 'Alice'}"
      ]
     },
     "execution_count": 49,
     "metadata": {},
     "output_type": "execute_result"
    }
   ],
   "source": [
    "x.__dict__"
   ]
  },
  {
   "cell_type": "code",
   "execution_count": 50,
   "metadata": {
    "ExecuteTime": {
     "end_time": "2024-05-31T02:48:24.110794Z",
     "start_time": "2024-05-31T02:48:24.105761Z"
    }
   },
   "outputs": [
    {
     "data": {
      "text/plain": [
       "{'name': 'Alice', 'age': 20}"
      ]
     },
     "execution_count": 50,
     "metadata": {},
     "output_type": "execute_result"
    }
   ],
   "source": [
    "x.age = 20\n",
    "x.__dict__"
   ]
  },
  {
   "cell_type": "markdown",
   "metadata": {},
   "source": [
    "* You can easily add object attributes like above, and the newly added object attributes will be recorded in the `__dict__` dictionary."
   ]
  },
  {
   "cell_type": "markdown",
   "metadata": {},
   "source": [
    "### Example: Class and Object attributes"
   ]
  },
  {
   "cell_type": "code",
   "execution_count": 51,
   "metadata": {
    "ExecuteTime": {
     "end_time": "2024-05-31T02:48:33.069120Z",
     "start_time": "2024-05-31T02:48:33.066455Z"
    }
   },
   "outputs": [],
   "source": [
    "# Create a class \n",
    "class A:\n",
    "    a = \"I am a class attribute!\""
   ]
  },
  {
   "cell_type": "code",
   "execution_count": 52,
   "metadata": {
    "ExecuteTime": {
     "end_time": "2024-05-31T02:48:33.611849Z",
     "start_time": "2024-05-31T02:48:33.609669Z"
    }
   },
   "outputs": [],
   "source": [
    "# Create an object\n",
    "x = A()"
   ]
  },
  {
   "cell_type": "code",
   "execution_count": 53,
   "metadata": {
    "ExecuteTime": {
     "end_time": "2024-05-31T02:48:34.115461Z",
     "start_time": "2024-05-31T02:48:34.112995Z"
    }
   },
   "outputs": [],
   "source": [
    "# Create an object\n",
    "y = A()"
   ]
  },
  {
   "cell_type": "code",
   "execution_count": 54,
   "metadata": {
    "ExecuteTime": {
     "end_time": "2024-05-31T02:48:34.636524Z",
     "start_time": "2024-05-31T02:48:34.634279Z"
    }
   },
   "outputs": [],
   "source": [
    "# Add object attributes\n",
    "x.a = \"This creates a new instance attribute for x!\"\n",
    "x.b = \"This is attribute b for object x\""
   ]
  },
  {
   "cell_type": "code",
   "execution_count": 55,
   "metadata": {
    "ExecuteTime": {
     "end_time": "2024-05-31T02:48:41.726723Z",
     "start_time": "2024-05-31T02:48:41.722256Z"
    }
   },
   "outputs": [
    {
     "data": {
      "text/plain": [
       "'This creates a new instance attribute for x!'"
      ]
     },
     "execution_count": 55,
     "metadata": {},
     "output_type": "execute_result"
    }
   ],
   "source": [
    "x.a"
   ]
  },
  {
   "cell_type": "code",
   "execution_count": 56,
   "metadata": {
    "ExecuteTime": {
     "end_time": "2024-05-31T02:48:49.397434Z",
     "start_time": "2024-05-31T02:48:49.392298Z"
    }
   },
   "outputs": [
    {
     "data": {
      "text/plain": [
       "'I am a class attribute!'"
      ]
     },
     "execution_count": 56,
     "metadata": {},
     "output_type": "execute_result"
    }
   ],
   "source": [
    "y.a"
   ]
  },
  {
   "cell_type": "code",
   "execution_count": 57,
   "metadata": {
    "ExecuteTime": {
     "end_time": "2024-05-31T02:48:53.490628Z",
     "start_time": "2024-05-31T02:48:53.488005Z"
    }
   },
   "outputs": [],
   "source": [
    "# Change the class attributes\n",
    "A.a = 'Class variable now is changed.'"
   ]
  },
  {
   "cell_type": "code",
   "execution_count": 58,
   "metadata": {
    "ExecuteTime": {
     "end_time": "2024-05-31T02:48:54.085757Z",
     "start_time": "2024-05-31T02:48:54.081877Z"
    }
   },
   "outputs": [
    {
     "data": {
      "text/plain": [
       "'This creates a new instance attribute for x!'"
      ]
     },
     "execution_count": 58,
     "metadata": {},
     "output_type": "execute_result"
    }
   ],
   "source": [
    "x.a"
   ]
  },
  {
   "cell_type": "code",
   "execution_count": 59,
   "metadata": {
    "ExecuteTime": {
     "end_time": "2024-05-31T02:48:54.895534Z",
     "start_time": "2024-05-31T02:48:54.891047Z"
    }
   },
   "outputs": [
    {
     "data": {
      "text/plain": [
       "'Class variable now is changed.'"
      ]
     },
     "execution_count": 59,
     "metadata": {},
     "output_type": "execute_result"
    }
   ],
   "source": [
    "y.a"
   ]
  },
  {
   "cell_type": "code",
   "execution_count": 60,
   "metadata": {
    "ExecuteTime": {
     "end_time": "2024-05-31T02:49:09.009791Z",
     "start_time": "2024-05-31T02:49:09.005420Z"
    }
   },
   "outputs": [
    {
     "data": {
      "text/plain": [
       "{}"
      ]
     },
     "execution_count": 60,
     "metadata": {},
     "output_type": "execute_result"
    }
   ],
   "source": [
    "y.__dict__"
   ]
  },
  {
   "cell_type": "code",
   "execution_count": 62,
   "metadata": {
    "ExecuteTime": {
     "end_time": "2024-05-31T02:49:27.239220Z",
     "start_time": "2024-05-31T02:49:27.235007Z"
    }
   },
   "outputs": [
    {
     "data": {
      "text/plain": [
       "{'a': 'This creates a new instance attribute for x!',\n",
       " 'b': 'This is attribute b for object x'}"
      ]
     },
     "execution_count": 62,
     "metadata": {},
     "output_type": "execute_result"
    }
   ],
   "source": [
    "x.__dict__"
   ]
  },
  {
   "cell_type": "code",
   "execution_count": 61,
   "metadata": {
    "ExecuteTime": {
     "end_time": "2024-05-31T02:49:17.051324Z",
     "start_time": "2024-05-31T02:49:17.045531Z"
    }
   },
   "outputs": [
    {
     "data": {
      "text/plain": [
       "mappingproxy({'__module__': '__main__',\n",
       "              'a': 'Class variable now is changed.',\n",
       "              '__dict__': <attribute '__dict__' of 'A' objects>,\n",
       "              '__weakref__': <attribute '__weakref__' of 'A' objects>,\n",
       "              '__doc__': None})"
      ]
     },
     "execution_count": 61,
     "metadata": {},
     "output_type": "execute_result"
    }
   ],
   "source": [
    "y.__class__.__dict__"
   ]
  },
  {
   "cell_type": "markdown",
   "metadata": {},
   "source": [
    "* Python's class attributes and object attributes are stored in separate dictionaries, as we can see here:"
   ]
  },
  {
   "cell_type": "code",
   "execution_count": 63,
   "metadata": {
    "ExecuteTime": {
     "end_time": "2024-05-31T02:49:53.271607Z",
     "start_time": "2024-05-31T02:49:53.267903Z"
    }
   },
   "outputs": [
    {
     "data": {
      "text/plain": [
       "{'a': 'This creates a new instance attribute for x!',\n",
       " 'b': 'This is attribute b for object x'}"
      ]
     },
     "execution_count": 63,
     "metadata": {},
     "output_type": "execute_result"
    }
   ],
   "source": [
    "x.__dict__ # x自己本身的属性"
   ]
  },
  {
   "cell_type": "code",
   "execution_count": 64,
   "metadata": {
    "ExecuteTime": {
     "end_time": "2024-05-31T02:49:53.895208Z",
     "start_time": "2024-05-31T02:49:53.891001Z"
    }
   },
   "outputs": [
    {
     "data": {
      "text/plain": [
       "mappingproxy({'__module__': '__main__',\n",
       "              'a': 'Class variable now is changed.',\n",
       "              '__dict__': <attribute '__dict__' of 'A' objects>,\n",
       "              '__weakref__': <attribute '__weakref__' of 'A' objects>,\n",
       "              '__doc__': None})"
      ]
     },
     "execution_count": 64,
     "metadata": {},
     "output_type": "execute_result"
    }
   ],
   "source": [
    "x.__class__.__dict__ # x的class属性"
   ]
  },
  {
   "cell_type": "code",
   "execution_count": 66,
   "metadata": {
    "ExecuteTime": {
     "end_time": "2024-05-31T02:50:38.345870Z",
     "start_time": "2024-05-31T02:50:38.342386Z"
    }
   },
   "outputs": [
    {
     "data": {
      "text/plain": [
       "type"
      ]
     },
     "execution_count": 66,
     "metadata": {},
     "output_type": "execute_result"
    }
   ],
   "source": [
    "A.__class__\n",
    "# The class A itself is an object from the Python class \"type\"."
   ]
  },
  {
   "cell_type": "markdown",
   "metadata": {},
   "source": [
    "### Another Example\n",
    "\n",
    "* Isaac Asimov devised and introduced the so-called \"Three Laws of Robotics\" in 1942. They appeared in his story \"Runaround\". His three laws have been picked up by many science fiction writers. As we have started manufacturing robots in Python, it's high time to make sure that they obey Asimov's three laws. As they are **the same for every instance**, i.e. robot, we will create a **class attribute** Three_Laws. This attribute is a tuple with the three laws. \n",
    "\n",
    "* So far our robots have no attributes, which is boring. So, let's implement \"name\" and \"build year\" attributes, other attributes are easily conceivable and can be added as well."
   ]
  },
  {
   "cell_type": "code",
   "execution_count": 67,
   "metadata": {
    "ExecuteTime": {
     "end_time": "2024-05-31T02:51:17.864046Z",
     "start_time": "2024-05-31T02:51:17.861054Z"
    }
   },
   "outputs": [],
   "source": [
    "# Create the Robot class \n",
    "class Robot:\n",
    "    Three_Laws = (\n",
    "\"\"\"A robot may not injure a human being or, through inaction, allow a human being to come to harm.\"\"\",\n",
    "\"\"\"A robot must obey the orders given to it by human beings, except where such orders would conflict with the First Law.,\"\"\",\n",
    "\"\"\"A robot must protect its own existence as long as such protection does not conflict with the First or Second Law.\"\"\"\n",
    ")"
   ]
  },
  {
   "cell_type": "code",
   "execution_count": 68,
   "metadata": {
    "ExecuteTime": {
     "end_time": "2024-05-31T02:51:19.960972Z",
     "start_time": "2024-05-31T02:51:19.958616Z"
    }
   },
   "outputs": [],
   "source": [
    "# Create two objects\n",
    "x = Robot()\n",
    "y = Robot()"
   ]
  },
  {
   "cell_type": "code",
   "execution_count": 69,
   "metadata": {
    "ExecuteTime": {
     "end_time": "2024-05-31T02:51:23.534757Z",
     "start_time": "2024-05-31T02:51:23.531275Z"
    }
   },
   "outputs": [],
   "source": [
    "# Add object attributes\n",
    "x.name = \"Marvin\"\n",
    "x.build_year = \"2016\""
   ]
  },
  {
   "cell_type": "code",
   "execution_count": 70,
   "metadata": {
    "ExecuteTime": {
     "end_time": "2024-05-31T02:51:25.488276Z",
     "start_time": "2024-05-31T02:51:25.484285Z"
    }
   },
   "outputs": [
    {
     "data": {
      "text/plain": [
       "'Marvin'"
      ]
     },
     "execution_count": 70,
     "metadata": {},
     "output_type": "execute_result"
    }
   ],
   "source": [
    "x.name"
   ]
  },
  {
   "cell_type": "code",
   "execution_count": 71,
   "metadata": {
    "ExecuteTime": {
     "end_time": "2024-05-31T02:51:29.410261Z",
     "start_time": "2024-05-31T02:51:29.406008Z"
    }
   },
   "outputs": [
    {
     "data": {
      "text/plain": [
       "{'name': 'Marvin', 'build_year': '2016'}"
      ]
     },
     "execution_count": 71,
     "metadata": {},
     "output_type": "execute_result"
    }
   ],
   "source": [
    "x.__dict__"
   ]
  },
  {
   "cell_type": "code",
   "execution_count": 72,
   "metadata": {
    "ExecuteTime": {
     "end_time": "2024-05-31T02:51:33.876869Z",
     "start_time": "2024-05-31T02:51:33.873817Z"
    }
   },
   "outputs": [],
   "source": [
    "# Add object attributes\n",
    "y.name = \"Alice\"\n",
    "y.build_year = \"2017\""
   ]
  },
  {
   "cell_type": "code",
   "execution_count": 73,
   "metadata": {
    "ExecuteTime": {
     "end_time": "2024-05-31T02:51:34.629925Z",
     "start_time": "2024-05-31T02:51:34.625814Z"
    }
   },
   "outputs": [
    {
     "data": {
      "text/plain": [
       "'2017'"
      ]
     },
     "execution_count": 73,
     "metadata": {},
     "output_type": "execute_result"
    }
   ],
   "source": [
    "y.build_year"
   ]
  },
  {
   "cell_type": "code",
   "execution_count": 74,
   "metadata": {
    "ExecuteTime": {
     "end_time": "2024-05-31T02:51:35.535371Z",
     "start_time": "2024-05-31T02:51:35.531686Z"
    }
   },
   "outputs": [
    {
     "data": {
      "text/plain": [
       "{'name': 'Alice', 'build_year': '2017'}"
      ]
     },
     "execution_count": 74,
     "metadata": {},
     "output_type": "execute_result"
    }
   ],
   "source": [
    "y.__dict__"
   ]
  },
  {
   "cell_type": "code",
   "execution_count": 75,
   "metadata": {
    "ExecuteTime": {
     "end_time": "2024-05-31T02:52:13.725671Z",
     "start_time": "2024-05-31T02:52:13.719712Z"
    },
    "scrolled": true
   },
   "outputs": [
    {
     "name": "stdout",
     "output_type": "stream",
     "text": [
      "1 : A robot may not injure a human being or, through inaction, allow a human being to come to harm.\n",
      "2 : A robot must obey the orders given to it by human beings, except where such orders would conflict with the First Law.,\n",
      "3 : A robot must protect its own existence as long as such protection does not conflict with the First or Second Law.\n"
     ]
    }
   ],
   "source": [
    "for index, law in enumerate(x.Three_Laws):\n",
    "    print(index + 1, ':', law)"
   ]
  },
  {
   "cell_type": "code",
   "execution_count": 83,
   "metadata": {
    "ExecuteTime": {
     "end_time": "2024-05-31T03:04:29.042747Z",
     "start_time": "2024-05-31T03:04:29.037389Z"
    }
   },
   "outputs": [
    {
     "data": {
      "text/plain": [
       "{0: 'a', 1: 'h', 2: 'j', 3: 'd', 4: 'h'}"
      ]
     },
     "execution_count": 83,
     "metadata": {},
     "output_type": "execute_result"
    }
   ],
   "source": [
    "list1 = ['a', 'b', 'c']\n",
    "tuple1 = ('hh', 'mm', 'nn')\n",
    "str1 = 'ahjdh'\n",
    "dict(enumerate(list1))\n",
    "dict(enumerate(tuple1))\n",
    "dict(enumerate(str1)) #有index的东西都可以哦～"
   ]
  },
  {
   "cell_type": "code",
   "execution_count": 88,
   "metadata": {
    "ExecuteTime": {
     "end_time": "2024-05-31T03:07:26.103795Z",
     "start_time": "2024-05-31T03:07:26.099455Z"
    }
   },
   "outputs": [
    {
     "data": {
      "text/plain": [
       "{'a': 's', 'h': 'j', 'j': 'k', 'd': 'f'}"
      ]
     },
     "execution_count": 88,
     "metadata": {},
     "output_type": "execute_result"
    }
   ],
   "source": [
    "list1 = ('a', 'b', 'c')\n",
    "tuple2 = (1,2,3)\n",
    "str1 = 'ahjdh'\n",
    "str2 = 'sdkfjsdkf'\n",
    "dict(zip(str1, str2)) #有index的东西都可以哦～"
   ]
  },
  {
   "cell_type": "markdown",
   "metadata": {},
   "source": [
    "* If you try to access y.name, Python checks first, if \"name\" is a key of the y.__dict__ dictionary. If it is not, Python checks, if \"name\" is a key of the Robot.__dict__. If so, the value can be retrieved. \n",
    "* If an attribute name is not in included in either of the dictionary, the attribute name is not defined. If you try to access a non-existing attribute, you will raise an AttributeError:"
   ]
  },
  {
   "cell_type": "markdown",
   "metadata": {},
   "source": [
    "## Methods\n",
    "\n",
    "* We want to demonstrate now, how we can define methods in classes.\n",
    "\n",
    "* Methods in Python are essentially functions in accordance with Guido's saying \"first-class everything\"."
   ]
  },
  {
   "cell_type": "markdown",
   "metadata": {},
   "source": [
    "### Example 1"
   ]
  },
  {
   "cell_type": "code",
   "execution_count": 90,
   "metadata": {
    "ExecuteTime": {
     "end_time": "2024-05-31T03:09:38.464350Z",
     "start_time": "2024-05-31T03:09:38.459001Z"
    }
   },
   "outputs": [],
   "source": [
    "# Create a class\n",
    "class Robot:\n",
    "    def say_hi(self):\n",
    "        print(self.name, 'says hello to you.')\n",
    "    def show_age(self):\n",
    "        print('I am', self.age, 'years old.')"
   ]
  },
  {
   "cell_type": "code",
   "execution_count": 94,
   "metadata": {
    "ExecuteTime": {
     "end_time": "2024-05-31T03:10:10.241196Z",
     "start_time": "2024-05-31T03:10:10.238677Z"
    }
   },
   "outputs": [],
   "source": [
    "# Create an object\n",
    "robot_Marvin = Robot()\n",
    "\n",
    "# Add object attributes\n",
    "robot_Marvin.name = 'Marvin'\n",
    "robot_Marvin.age = 999"
   ]
  },
  {
   "cell_type": "code",
   "execution_count": 95,
   "metadata": {
    "ExecuteTime": {
     "end_time": "2024-05-31T03:10:11.616301Z",
     "start_time": "2024-05-31T03:10:11.612621Z"
    }
   },
   "outputs": [
    {
     "data": {
      "text/plain": [
       "{'name': 'Marvin', 'age': 999}"
      ]
     },
     "execution_count": 95,
     "metadata": {},
     "output_type": "execute_result"
    }
   ],
   "source": [
    "robot_Marvin.__dict__"
   ]
  },
  {
   "cell_type": "code",
   "execution_count": 96,
   "metadata": {
    "ExecuteTime": {
     "end_time": "2024-05-31T03:10:13.890641Z",
     "start_time": "2024-05-31T03:10:13.887893Z"
    }
   },
   "outputs": [
    {
     "name": "stdout",
     "output_type": "stream",
     "text": [
      "Marvin says hello to you.\n"
     ]
    }
   ],
   "source": [
    "robot_Marvin.say_hi()"
   ]
  },
  {
   "cell_type": "code",
   "execution_count": 97,
   "metadata": {
    "ExecuteTime": {
     "end_time": "2024-05-31T03:10:15.183919Z",
     "start_time": "2024-05-31T03:10:15.181525Z"
    }
   },
   "outputs": [],
   "source": [
    "# Create an object\n",
    "robot_Alice = Robot()\n",
    "\n",
    "# Add object attributes\n",
    "robot_Alice.name = 'Alice'"
   ]
  },
  {
   "cell_type": "code",
   "execution_count": 98,
   "metadata": {
    "ExecuteTime": {
     "end_time": "2024-05-31T03:10:26.297918Z",
     "start_time": "2024-05-31T03:10:26.295060Z"
    }
   },
   "outputs": [
    {
     "name": "stdout",
     "output_type": "stream",
     "text": [
      "Alice says hello to you.\n"
     ]
    }
   ],
   "source": [
    "robot_Alice.say_hi()"
   ]
  },
  {
   "cell_type": "code",
   "execution_count": 99,
   "metadata": {
    "ExecuteTime": {
     "end_time": "2024-05-31T03:10:33.316337Z",
     "start_time": "2024-05-31T03:10:33.312581Z"
    }
   },
   "outputs": [
    {
     "name": "stdout",
     "output_type": "stream",
     "text": [
      "Marvin says hello to you.\n"
     ]
    }
   ],
   "source": [
    "Robot.say_hi(robot_Marvin)"
   ]
  },
  {
   "cell_type": "markdown",
   "metadata": {},
   "source": [
    "* A method differs from a function only in two aspects:\n",
    "    * It belongs to a class, and it is defined within a class\n",
    "    * The first parameter in the definition of a method has to be a reference to the instance, which called the method. This parameter is usually called `self`.\n",
    "    * `self` represents the instance of the class. By using the “self” keyword we can access the attributes and methods of the class in python. It binds the attributes with the given arguments."
   ]
  },
  {
   "cell_type": "markdown",
   "metadata": {},
   "source": [
    "### The `__init__` Method\n",
    "\n",
    "* In the above example, we first created an empty Robot, then added attributes into individual robot. But a more natural way is to define the attributes of an instance right after its creation, since the attributes may directly follow the object's creation.\n",
    "\n",
    "* The `__init__` method is called \"constructor\", and is run as soon as an object of a class is *instantiated*. The method is useful to do any initialization you want to do with your object. Notice the double underscore both in the beginning and at the end in the name.\n",
    "\n",
    "* `__init__` is a method which is immediately and automatically called after an instance has been created. This name is fixed and it is not possible to chose another name.\n",
    "\n",
    "* The `__init__` method can be anywhere in a class definition, but it is usually the first method of a class, i.e. it follows right after the class header."
   ]
  },
  {
   "cell_type": "markdown",
   "metadata": {},
   "source": [
    "#### Example 1"
   ]
  },
  {
   "cell_type": "code",
   "execution_count": 100,
   "metadata": {
    "ExecuteTime": {
     "end_time": "2024-05-31T03:11:42.597289Z",
     "start_time": "2024-05-31T03:11:42.593321Z"
    }
   },
   "outputs": [],
   "source": [
    "# Create a class\n",
    "class A:\n",
    "    def __init__(self):\n",
    "        print(\"__init__ has been executed!\")"
   ]
  },
  {
   "cell_type": "code",
   "execution_count": 101,
   "metadata": {
    "ExecuteTime": {
     "end_time": "2024-05-31T03:11:46.383151Z",
     "start_time": "2024-05-31T03:11:46.380329Z"
    }
   },
   "outputs": [
    {
     "name": "stdout",
     "output_type": "stream",
     "text": [
      "__init__ has been executed!\n"
     ]
    }
   ],
   "source": [
    "# Create an object\n",
    "x = A()"
   ]
  },
  {
   "cell_type": "markdown",
   "metadata": {},
   "source": [
    "* We add an `__init__` method to our robot class:"
   ]
  },
  {
   "cell_type": "code",
   "execution_count": 102,
   "metadata": {
    "ExecuteTime": {
     "end_time": "2024-05-31T03:11:53.326412Z",
     "start_time": "2024-05-31T03:11:53.323302Z"
    }
   },
   "outputs": [],
   "source": [
    "class Robot:\n",
    "    def __init__(self, name, build_year):\n",
    "        self.name = name   \n",
    "        self.build_year = build_year"
   ]
  },
  {
   "cell_type": "code",
   "execution_count": 103,
   "metadata": {
    "ExecuteTime": {
     "end_time": "2024-05-31T03:11:55.095381Z",
     "start_time": "2024-05-31T03:11:55.092167Z"
    }
   },
   "outputs": [
    {
     "name": "stdout",
     "output_type": "stream",
     "text": [
      "Marvin\n",
      "{'name': 'Marvin', 'build_year': 2016}\n"
     ]
    }
   ],
   "source": [
    "robot_Marvin = Robot('Marvin', 2016)\n",
    "print(robot_Marvin.name)\n",
    "print(robot_Marvin.__dict__)"
   ]
  },
  {
   "cell_type": "markdown",
   "metadata": {},
   "source": [
    "#### Example 2\n",
    "\n",
    "* After adding the `__init__` method into the example, we now have the most standard way of defining a class."
   ]
  },
  {
   "cell_type": "code",
   "execution_count": 104,
   "metadata": {
    "ExecuteTime": {
     "end_time": "2024-05-31T03:12:47.678032Z",
     "start_time": "2024-05-31T03:12:47.672220Z"
    }
   },
   "outputs": [],
   "source": [
    "class Robot:\n",
    "    Three_Laws = (\n",
    "\"\"\"A robot may not injure a human being or, through inaction, allow a human being to come to harm.\"\"\",\n",
    "\"\"\"A robot must obey the orders given to it by human beings, except where such orders would conflict with the First Law.,\"\"\",\n",
    "\"\"\"A robot must protect its own existence as long as such protection does not conflict with the First or Second Law.\"\"\"\n",
    ")\n",
    "    \n",
    "    def __init__(self, name, build_year):\n",
    "        self.name = name   \n",
    "        self.build_year = build_year\n",
    "        \n",
    "    def sayHi(self):\n",
    "        print(self.name, 'says hello to you')"
   ]
  },
  {
   "cell_type": "code",
   "execution_count": 105,
   "metadata": {
    "ExecuteTime": {
     "end_time": "2024-05-31T03:12:52.758177Z",
     "start_time": "2024-05-31T03:12:52.753571Z"
    }
   },
   "outputs": [
    {
     "name": "stdout",
     "output_type": "stream",
     "text": [
      "Marvin says hello to you\n"
     ]
    }
   ],
   "source": [
    "robot_Marvin = Robot('Marvin', 2016)\n",
    "robot_Marvin.sayHi()"
   ]
  },
  {
   "cell_type": "code",
   "execution_count": 106,
   "metadata": {
    "ExecuteTime": {
     "end_time": "2024-05-31T03:12:54.890479Z",
     "start_time": "2024-05-31T03:12:54.887483Z"
    }
   },
   "outputs": [
    {
     "name": "stdout",
     "output_type": "stream",
     "text": [
      "Alice says hello to you\n"
     ]
    }
   ],
   "source": [
    "robot_Alice = Robot('Alice', 2018)\n",
    "robot_Alice.sayHi()"
   ]
  },
  {
   "cell_type": "code",
   "execution_count": 107,
   "metadata": {
    "ExecuteTime": {
     "end_time": "2024-05-31T03:12:57.679590Z",
     "start_time": "2024-05-31T03:12:57.675157Z"
    }
   },
   "outputs": [
    {
     "data": {
      "text/plain": [
       "('A robot may not injure a human being or, through inaction, allow a human being to come to harm.',\n",
       " 'A robot must obey the orders given to it by human beings, except where such orders would conflict with the First Law.,',\n",
       " 'A robot must protect its own existence as long as such protection does not conflict with the First or Second Law.')"
      ]
     },
     "execution_count": 107,
     "metadata": {},
     "output_type": "execute_result"
    }
   ],
   "source": [
    "robot_Marvin.Three_Laws"
   ]
  },
  {
   "cell_type": "markdown",
   "metadata": {},
   "source": [
    "### The  `__del__` method\n",
    "\n",
    "* The **\\__del\\__** method is called \"destructor\", and is evoked as soon as when the instance is about to be destroyed."
   ]
  },
  {
   "cell_type": "markdown",
   "metadata": {},
   "source": [
    "#### Example 1"
   ]
  },
  {
   "cell_type": "code",
   "execution_count": 108,
   "metadata": {
    "ExecuteTime": {
     "end_time": "2024-05-31T03:13:29.917803Z",
     "start_time": "2024-05-31T03:13:29.913259Z"
    }
   },
   "outputs": [],
   "source": [
    "class Employee:\n",
    "    empCount = 0 # class variable\n",
    "\n",
    "    def __init__(self, name, salary): # Initialize the object\n",
    "        self.name = name # object variable\n",
    "        self.salary = salary # object variable\n",
    "        Employee.empCount += 1 # updating the class var.\n",
    "   \n",
    "    def displayCount(): \n",
    "        print(\"Total Employee %d\" % Employee.empCount)\n",
    "        \n",
    "    def sayHi(self):\n",
    "        print(self.name, 'says hello')\n",
    "\n",
    "    def displaySelf(self):\n",
    "        print(\"Name : %s's salary is: %d\"% (self.name, self.salary))\n",
    "    \n",
    "    def __del__(self):\n",
    "        print('%s is dead'% self.name)\n",
    "        Employee.empCount -= 1 "
   ]
  },
  {
   "cell_type": "code",
   "execution_count": 109,
   "metadata": {
    "ExecuteTime": {
     "end_time": "2024-05-31T03:13:34.159693Z",
     "start_time": "2024-05-31T03:13:34.157209Z"
    }
   },
   "outputs": [],
   "source": [
    "Bob = Employee('Bob', 100)"
   ]
  },
  {
   "cell_type": "code",
   "execution_count": 110,
   "metadata": {
    "ExecuteTime": {
     "end_time": "2024-05-31T03:13:36.634031Z",
     "start_time": "2024-05-31T03:13:36.631101Z"
    }
   },
   "outputs": [
    {
     "name": "stdout",
     "output_type": "stream",
     "text": [
      "Total Employee 1\n"
     ]
    }
   ],
   "source": [
    "Employee.displayCount()"
   ]
  },
  {
   "cell_type": "code",
   "execution_count": 111,
   "metadata": {
    "ExecuteTime": {
     "end_time": "2024-05-31T03:13:40.500326Z",
     "start_time": "2024-05-31T03:13:40.496619Z"
    }
   },
   "outputs": [
    {
     "data": {
      "text/plain": [
       "{'name': 'Bob', 'salary': 100}"
      ]
     },
     "execution_count": 111,
     "metadata": {},
     "output_type": "execute_result"
    }
   ],
   "source": [
    "Bob.__dict__"
   ]
  },
  {
   "cell_type": "code",
   "execution_count": 112,
   "metadata": {
    "ExecuteTime": {
     "end_time": "2024-05-31T03:13:43.945547Z",
     "start_time": "2024-05-31T03:13:43.940891Z"
    }
   },
   "outputs": [
    {
     "data": {
      "text/plain": [
       "mappingproxy({'__module__': '__main__',\n",
       "              'empCount': 1,\n",
       "              '__init__': <function __main__.Employee.__init__(self, name, salary)>,\n",
       "              'displayCount': <function __main__.Employee.displayCount()>,\n",
       "              'sayHi': <function __main__.Employee.sayHi(self)>,\n",
       "              'displaySelf': <function __main__.Employee.displaySelf(self)>,\n",
       "              '__del__': <function __main__.Employee.__del__(self)>,\n",
       "              '__dict__': <attribute '__dict__' of 'Employee' objects>,\n",
       "              '__weakref__': <attribute '__weakref__' of 'Employee' objects>,\n",
       "              '__doc__': None})"
      ]
     },
     "execution_count": 112,
     "metadata": {},
     "output_type": "execute_result"
    }
   ],
   "source": [
    "Employee.__dict__"
   ]
  },
  {
   "cell_type": "code",
   "execution_count": 113,
   "metadata": {
    "ExecuteTime": {
     "end_time": "2024-05-31T03:13:46.080610Z",
     "start_time": "2024-05-31T03:13:46.076569Z"
    }
   },
   "outputs": [
    {
     "name": "stdout",
     "output_type": "stream",
     "text": [
      "Name : Alice's salary is: 200\n"
     ]
    }
   ],
   "source": [
    "Alice = Employee('Alice', 200)\n",
    "Alice.displaySelf()"
   ]
  },
  {
   "cell_type": "markdown",
   "metadata": {},
   "source": [
    "* `displayCount()` method belongs to the class, not a specific object, because it does not have any input argument (not even *self*). Thus, `displayCount()` method cannot be called by an object (can only be called by class name `Employee`."
   ]
  },
  {
   "cell_type": "code",
   "execution_count": 114,
   "metadata": {
    "ExecuteTime": {
     "end_time": "2024-05-31T03:14:04.392467Z",
     "start_time": "2024-05-31T03:14:04.389156Z"
    }
   },
   "outputs": [
    {
     "name": "stdout",
     "output_type": "stream",
     "text": [
      "Total Employee 2\n"
     ]
    }
   ],
   "source": [
    "Employee.displayCount()"
   ]
  },
  {
   "cell_type": "code",
   "execution_count": 115,
   "metadata": {
    "ExecuteTime": {
     "end_time": "2024-05-31T03:14:13.299583Z",
     "start_time": "2024-05-31T03:14:13.296877Z"
    }
   },
   "outputs": [
    {
     "name": "stdout",
     "output_type": "stream",
     "text": [
      "Bob is dead\n"
     ]
    }
   ],
   "source": [
    "del Bob"
   ]
  },
  {
   "cell_type": "code",
   "execution_count": 116,
   "metadata": {
    "ExecuteTime": {
     "end_time": "2024-05-31T03:14:15.017373Z",
     "start_time": "2024-05-31T03:14:14.996553Z"
    }
   },
   "outputs": [
    {
     "ename": "NameError",
     "evalue": "name 'Bob' is not defined",
     "output_type": "error",
     "traceback": [
      "\u001b[0;31m---------------------------------------------------------------------------\u001b[0m",
      "\u001b[0;31mNameError\u001b[0m                                 Traceback (most recent call last)",
      "\u001b[0;32m/tmp/ipykernel_57414/1961192743.py\u001b[0m in \u001b[0;36m<module>\u001b[0;34m\u001b[0m\n\u001b[0;32m----> 1\u001b[0;31m \u001b[0mBob\u001b[0m\u001b[0;34m\u001b[0m\u001b[0;34m\u001b[0m\u001b[0m\n\u001b[0m",
      "\u001b[0;31mNameError\u001b[0m: name 'Bob' is not defined"
     ]
    }
   ],
   "source": [
    "Bob"
   ]
  },
  {
   "cell_type": "code",
   "execution_count": 117,
   "metadata": {
    "ExecuteTime": {
     "end_time": "2024-05-31T03:14:16.753111Z",
     "start_time": "2024-05-31T03:14:16.749586Z"
    }
   },
   "outputs": [
    {
     "name": "stdout",
     "output_type": "stream",
     "text": [
      "Total Employee 1\n"
     ]
    }
   ],
   "source": [
    "Employee.displayCount()"
   ]
  },
  {
   "cell_type": "markdown",
   "metadata": {},
   "source": [
    "* Note that the class variable \"empCount\" is a `reference` belonging to the **class**, existing in every `Employee` object.\n",
    "* Differently, `Bob` and `Alice` has distinct object variable `name` and `salary`. "
   ]
  },
  {
   "cell_type": "markdown",
   "metadata": {},
   "source": [
    "## Examples"
   ]
  },
  {
   "cell_type": "code",
   "execution_count": 79,
   "metadata": {
    "ExecuteTime": {
     "end_time": "2024-04-15T06:18:30.427942Z",
     "start_time": "2024-04-15T06:18:30.419997Z"
    }
   },
   "outputs": [],
   "source": [
    "class student: \n",
    "    \n",
    "    this_year = 2024\n",
    "    \n",
    "    def __init__(self, firstname, lastname, yearofbirth, major):\n",
    "        self.name = firstname.title() + \" \" + lastname.title() \n",
    "        self.major = major\n",
    "        self.yearofbirth = yearofbirth\n",
    "        self.gpa = None\n",
    "        self.average_points = 0\n",
    "        self.courses = []\n",
    "        \n",
    "    \n",
    "    def introduce(self):\n",
    "        self.age = self.this_year - self.yearofbirth\n",
    "        msg = \"Hi, I am {}. I am {} years old. I am a student in {}. Nice to meet you!\".format(\n",
    "            self.name, self.age, self.major)\n",
    "        \n",
    "        msg = msg + \"\\n My GPA score is {}\".format(self.gpa_score())\n",
    "        return msg \n",
    "        \n",
    "    def study(self, hours):     \n",
    "        ap = self.average_points\n",
    "        \n",
    "        if hours > 0 and hours < 0.5 :\n",
    "            ap += 5\n",
    "        elif hours >= 0.5 and hours < 2:\n",
    "            ap += 10\n",
    "        elif hours >= 2 and hours < 5:\n",
    "            ap += 20\n",
    "        elif hours >=5:\n",
    "            ap += 30\n",
    "        \n",
    "        self.average_points = min(100, ap)\n",
    "        \n",
    "        msg = \"Student {} has studied for {} hours. His average points is now {}\".format(\n",
    "            self.name, hours, self.average_points)\n",
    "        print(msg)\n",
    "        return msg\n",
    "    \n",
    "    def gaming(self, hours):\n",
    "        ap = self.average_points\n",
    "        \n",
    "        if hours > 0 and hours < 0.5 :\n",
    "            ap -= 5\n",
    "        elif hours >= 0.5 and hours < 2:\n",
    "            ap -= 10\n",
    "        elif hours >= 2 and hours < 5:\n",
    "            ap -= 20\n",
    "        elif hours >= 5:\n",
    "            ap -= 30\n",
    "        \n",
    "        self.average_points = max(0, ap)\n",
    "        \n",
    "        msg = \"Student {} has played games for {} hours. \\\n",
    "        His average points is now decreased to {}\".format(\n",
    "            self.name, hours, self.average_points)\n",
    "        \n",
    "        print(msg)\n",
    "        return msg\n",
    "    \n",
    "    def register_course(self, new_course):\n",
    "        self.courses.append(new_course)\n",
    "        msg = \"student {} has registred for {} his courses are now: \\n {}\".format(\n",
    "            self.name, new_course, self.courses)\n",
    "        print(msg)\n",
    "        return msg\n",
    "    \n",
    "    def gpa_score(self):\n",
    "        # note that I made up this formula (it is not your gpa)\n",
    "        gpa = self.average_points * 4 / 100\n",
    "        print(\"the student gpa is {}\".format(gpa))\n",
    "        return gpa\n",
    "        \n",
    "        "
   ]
  },
  {
   "cell_type": "code",
   "execution_count": 78,
   "metadata": {
    "ExecuteTime": {
     "end_time": "2024-04-15T06:14:43.858063Z",
     "start_time": "2024-04-15T06:14:43.852948Z"
    }
   },
   "outputs": [
    {
     "name": "stdout",
     "output_type": "stream",
     "text": [
      "Student Jiaqi Zhang has studied for 20 hours. His average points is now 30\n",
      "Student Jiaqi Zhang has studied for 10 hours. His average points is now 60\n",
      "Student Jiaqi Zhang has played games for 5 hours.         His average points is now decreased to 30\n",
      "student Jiaqi Zhang has registred for Linear Algebra his courses are now: \n",
      " ['Linear Algebra']\n",
      "the student gpa is 1.2\n"
     ]
    },
    {
     "data": {
      "text/plain": [
       "1.2"
      ]
     },
     "execution_count": 78,
     "metadata": {},
     "output_type": "execute_result"
    }
   ],
   "source": [
    "jiaqi = student(firstname=\"jiaqi\", lastname=\"zhang\", major=\"applied math\", yearofbirth = 2022)\n",
    "jiaqi.study(20)\n",
    "jiaqi.study(10)\n",
    "jiaqi.gaming(5)\n",
    "jiaqi.register_course(\"Linear Algebra\")\n",
    "jiaqi.gpa_score()"
   ]
  },
  {
   "cell_type": "code",
   "execution_count": null,
   "metadata": {
    "ExecuteTime": {
     "end_time": "2022-11-20T02:40:32.071518Z",
     "start_time": "2022-11-20T02:40:32.065571Z"
    }
   },
   "outputs": [],
   "source": [
    "# Practice defining your own class of \"student\"\n",
    "\n",
    "class student: \n",
    "    \n",
    "    # any information of the class of \"student\" \n",
    "    # that you would like to keep track of?\n",
    "    # define it here:\n",
    "    \n",
    "    \n",
    "    \n",
    "    # What a student is made of? Define the constructor:\n",
    "    def __init__(self, name, year, major, gpa):\n",
    "        self.name = name\n",
    "        self.year = year\n",
    "        self.major = major\n",
    "        self.gpa = gpa\n",
    "    \n",
    "    # for each behavior of a student instance, define it in below, respectively:\n",
    "    def follow_UIC_rules(self):\n",
    "        print('Every one in UIC should follow UIC rules 2018 version (updated)')  \n",
    "        \n",
    "    def method1(self):\n",
    "        pass\n",
    "    \n",
    "    def method2(self, param1):\n",
    "        pass\n",
    "    \n",
    "    def method3(self, param1, param2):\n",
    "        pass"
   ]
  },
  {
   "cell_type": "code",
   "execution_count": null,
   "metadata": {},
   "outputs": [],
   "source": [
    "# Test your \"student\" class here:\n"
   ]
  },
  {
   "cell_type": "markdown",
   "metadata": {
    "deletable": false,
    "editable": false,
    "nbgrader": {
     "cell_type": "markdown",
     "checksum": "a7901e663a3479cd19d38e907d541946",
     "grade": false,
     "grade_id": "cell-306326a90dd11557",
     "locked": true,
     "schema_version": 3,
     "solution": false,
     "task": false
    }
   },
   "source": [
    "## Exercise\n",
    "Create a Python class named `teacher` that has a constructor `__init__`. The constructor takes arguments `(self, first_name, last_name, year_birth, student_rating)` and initiate an instance with the following **attributes**:\n",
    "\n",
    "```py\n",
    "    first_name\n",
    "    last_name\n",
    "    year_birth\n",
    "    student_rating\n",
    "    email = first_name.lower() + last_name.lower() + \"@uic.edu.cn\"\n",
    "    courses = []\n",
    "    age = self.this_year - year_birth\n",
    "    friendliness = 50\n",
    "```\n",
    "\n",
    "`this_year` is a **class attribute** and it has the integer value 2023.\n",
    "\n",
    "The class has the following methods with description in the comments below:\n",
    "\n",
    "```py\n",
    "    def quality_class(self):\n",
    "        # Create a new variable called quality, and return quality according to the following conditions:\n",
    "        # if student_rating is above or equal 80, assign \"excellent\" to the variable quality, and return quality;\n",
    "        # if student_rating is between 60 (include 60) and 80, assign \"good\" to the variable quality, and return quality;\n",
    "        # if student_rating is between 40 (include 40) and 60, assign \"average\" to the variable quality, and return quality;\n",
    "        # if student_rating is lower than 40, assign \"bad\" to the variable quality, and return quality.\n",
    "    \n",
    "    \n",
    "    \n",
    "    def introduce(self):\n",
    "        # Return the message: \"Hi, my name is {}. I am your teacher. Students think that I am a(n) {} teacher.\".format(self.first_name, quality) \n",
    "        # The variable quality is the output of method quality_class(self)\n",
    "    \n",
    "    \n",
    "    \n",
    "    def add_course(self, new_course_name): \n",
    "        # This method adds the new_course_name to the courses list and returns a message. \n",
    "        # The max number of courses a teacher can teach is 5.\n",
    "        # When the number of course exceed the limit, return the message: \"Course limit reached: {} not added.\".format(new_course_name)\n",
    "        # Otherwise, return the message: \"{} added. Total courses to teach is {}.\".format(new_course_name, n_courses+1)\n",
    "    \n",
    "    \n",
    "    \n",
    "    def scold_student(self):\n",
    "        # student_rating should not be below 0.\n",
    "        # Decrease student_rating by 10 and return the message: \"teacher {} scold the students because they do not submit the assignment. His/her rating decreased to {}.\".format(self.last_name, self.student_rating)\n",
    "    \n",
    "    \n",
    "    \n",
    "    def help_student(self):\n",
    "        # student_rating should not be above 100.\n",
    "        # Increase student_rating by 10 and return the message: \"teacher {} help the students to work on the assignment. His/her rating increased to {}.\".format(self.last_name,  self.student_rating)\n",
    "    \n",
    "    \n",
    "    \n",
    "    def friendly_score(self):\n",
    "        # Return the friendly score of the teacher and assign the score to self.friendliness attribute.\n",
    "        # The score is calculated using the formula below.\n",
    "        # n_courses = len(self.courses)\n",
    "        # score = 0.5 * self.student_rating + 50*(1 - n_courses/5)\n",
    "```"
   ]
  },
  {
   "cell_type": "code",
   "execution_count": 118,
   "metadata": {
    "ExecuteTime": {
     "end_time": "2024-05-31T03:15:31.265049Z",
     "start_time": "2024-05-31T03:15:31.253511Z"
    },
    "deletable": false,
    "nbgrader": {
     "cell_type": "code",
     "checksum": "768c00a94cf9e926af2af249a40dc2af",
     "grade": false,
     "grade_id": "cell-1154eb105cdeaba3",
     "locked": false,
     "schema_version": 3,
     "solution": true,
     "task": false
    }
   },
   "outputs": [],
   "source": [
    "# Important notes to receive full score\n",
    "# 1. Do not change the name of the class.\n",
    "# 2. The constructor does not need to return anything.\n",
    "# 3. All other methods returns either a string message or a numeric variable (do not print).\n",
    "\n",
    "class teacher:\n",
    "    \n",
    "    this_year = 2023\n",
    "    \n",
    "    def __init__(self, first_name, last_name, year_birth, student_rating):\n",
    "        self.first_name = first_name\n",
    "        self.last_name = last_name\n",
    "        self.year_birth = year_birth\n",
    "        self.student_rating = student_rating\n",
    "        self.email = self.first_name.lower() + self.last_name.lower() + \"@uic.edu.cn\"\n",
    "        self.quality = ''\n",
    "        self.courses = []\n",
    "        self.friendliness = 0\n",
    "        self.age = self.this_year - year_birth\n",
    "        \n",
    "    \n",
    "    def quality_course(self):\n",
    "        if self.student_rating >= 80:\n",
    "            self.quality = 'excellent'\n",
    "        elif self.student_rating >= 60 and self.student_rating < 80:\n",
    "            self.quality = 'good'\n",
    "        elif self.student_rating >= 40 and self.student_rating < 60:\n",
    "            self.quality = 'average'\n",
    "        else:\n",
    "            self.quality = 'bad'\n",
    "        return self.quality\n",
    "    \n",
    "    def introduce(self):\n",
    "        msg = f\"Hi, my name is {self.first_name}. I an your teacher. Students think that I am a(n) {self.quality} teacher.\"\n",
    "        return msg\n",
    "    \n",
    "    def add_course(self, new_course_name): \n",
    "        n_courses = len(self.courses)\n",
    "        while  n_courses <= 5:\n",
    "            self.courses.append(new_course_name)\n",
    "            msg = \"{} added. Total courses to teach is {}.\".format(new_course_name, n_courses+1)\n",
    "            return msg\n",
    "        else:\n",
    "            msg = \"Course limit reached: {} not added.\".format(new_course_name)\n",
    "            return msg\n",
    "       \n",
    "    def scold_student(self):\n",
    "        self.student_rating = self.student_rating - 10\n",
    "        if self.student_rating < 0:\n",
    "            self.student_rating = 0\n",
    "        msg = \"teacher {} scold the students because they do not submit the assignment. His/her rating devreased to {}.\".format(self.last_name, self.student_rating)\n",
    "        return msg\n",
    "    \n",
    "    def help_student(self):\n",
    "        self.student_rating = self.student_rating + 10\n",
    "        if self.student_rating  > 100:\n",
    "            self.student_rating = 100\n",
    "        msg = \"teacher {} help the students to work on the assignment. His/her rating increased to {}.\".format(self.last_name,  self.student_rating)\n",
    "        return msg\n",
    "    \n",
    "    def friendly_score(self):\n",
    "        n_courses = len(self.courses)\n",
    "        score = 0.5 * self.student_rating + 50*(1 - n_courses/5)\n",
    "        self.friendliness = score\n",
    "        return self.friendliness"
   ]
  },
  {
   "cell_type": "code",
   "execution_count": 121,
   "metadata": {
    "ExecuteTime": {
     "end_time": "2024-05-31T03:15:41.050137Z",
     "start_time": "2024-05-31T03:15:41.045916Z"
    }
   },
   "outputs": [
    {
     "data": {
      "text/plain": [
       "['__class__',\n",
       " '__delattr__',\n",
       " '__dict__',\n",
       " '__dir__',\n",
       " '__doc__',\n",
       " '__eq__',\n",
       " '__format__',\n",
       " '__ge__',\n",
       " '__getattribute__',\n",
       " '__gt__',\n",
       " '__hash__',\n",
       " '__init__',\n",
       " '__init_subclass__',\n",
       " '__le__',\n",
       " '__lt__',\n",
       " '__module__',\n",
       " '__ne__',\n",
       " '__new__',\n",
       " '__reduce__',\n",
       " '__reduce_ex__',\n",
       " '__repr__',\n",
       " '__setattr__',\n",
       " '__sizeof__',\n",
       " '__str__',\n",
       " '__subclasshook__',\n",
       " '__weakref__',\n",
       " 'add_course',\n",
       " 'friendly_score',\n",
       " 'help_student',\n",
       " 'introduce',\n",
       " 'quality_course',\n",
       " 'scold_student',\n",
       " 'this_year']"
      ]
     },
     "execution_count": 121,
     "metadata": {},
     "output_type": "execute_result"
    }
   ],
   "source": [
    "dir(teacher)"
   ]
  },
  {
   "cell_type": "code",
   "execution_count": 122,
   "metadata": {
    "ExecuteTime": {
     "end_time": "2024-05-31T03:16:05.002335Z",
     "start_time": "2024-05-31T03:16:04.999178Z"
    },
    "deletable": false,
    "editable": false,
    "nbgrader": {
     "cell_type": "code",
     "checksum": "f1bffa1cdcc51fb33a76487b0620d151",
     "grade": false,
     "grade_id": "cell-c35ea21b487e0f4e",
     "locked": true,
     "schema_version": 3,
     "solution": false,
     "task": false
    }
   },
   "outputs": [],
   "source": [
    "# Test your code\n",
    "\n",
    "try:\n",
    "    instance = teacher(\"Mike\", \"Li\", 1985, 80)\n",
    "except:\n",
    "    raise(\"exception\")\n",
    "\n"
   ]
  },
  {
   "cell_type": "code",
   "execution_count": 142,
   "metadata": {
    "ExecuteTime": {
     "end_time": "2024-04-18T06:45:44.116737Z",
     "start_time": "2024-04-18T06:45:44.111507Z"
    },
    "code_folding": [],
    "deletable": false,
    "editable": false,
    "nbgrader": {
     "cell_type": "code",
     "checksum": "eeb27370eec7ee6dad795d07e667a2cb",
     "grade": false,
     "grade_id": "cell-6efd6328b94692d6",
     "locked": true,
     "schema_version": 3,
     "solution": false,
     "task": false
    }
   },
   "outputs": [
    {
     "name": "stdout",
     "output_type": "stream",
     "text": [
      "Hi, my name is Mike. I an your teacher. Students think that I am a(n)  teacher.\n",
      "teacher Li help the students to work on the assignment. His/her rating increased to 90.\n",
      "teacher Li scold the students because they do not submit the assignment. His/her rating devreased to 80.\n",
      "\n",
      "\n",
      "90.0\n",
      "[]\n",
      "Python added. Total courses to teach is 1.\n",
      "Communication added. Total courses to teach is 2.\n",
      "38\n",
      "\n",
      "\n",
      "mikeli@uic.edu.cn\n",
      "\n",
      "\n",
      "90.0\n",
      "\n",
      "\n",
      "2023\n"
     ]
    }
   ],
   "source": [
    "# Test your code\n",
    "print(instance.introduce())\n",
    "print(instance.help_student())\n",
    "print(instance.scold_student())\n",
    "print(\"\\n\")\n",
    "print(instance.friendly_score())\n",
    "print(instance.courses)\n",
    "print(instance.add_course(\"Python\"))\n",
    "print(instance.add_course(\"Communication\"))\n",
    "print(instance.age)\n",
    "print('\\n')\n",
    "print(instance.email)\n",
    "print('\\n')\n",
    "print(instance.friendliness)\n",
    "print('\\n')\n",
    "print(instance.this_year)"
   ]
  },
  {
   "cell_type": "code",
   "execution_count": null,
   "metadata": {
    "deletable": false,
    "editable": false,
    "nbgrader": {
     "cell_type": "code",
     "checksum": "361c2a18d7b31977b562ecf10f374da3",
     "grade": true,
     "grade_id": "cell-fd5451bf9ce76943",
     "locked": true,
     "points": 10,
     "schema_version": 3,
     "solution": false,
     "task": false
    }
   },
   "outputs": [],
   "source": []
  },
  {
   "cell_type": "code",
   "execution_count": null,
   "metadata": {
    "deletable": false,
    "editable": false,
    "nbgrader": {
     "cell_type": "code",
     "checksum": "8e6371d7ebb5a60e08e6362b8b90763b",
     "grade": true,
     "grade_id": "cell-986d5960f460a320",
     "locked": true,
     "points": 10,
     "schema_version": 3,
     "solution": false,
     "task": false
    }
   },
   "outputs": [],
   "source": []
  },
  {
   "cell_type": "code",
   "execution_count": null,
   "metadata": {
    "deletable": false,
    "editable": false,
    "nbgrader": {
     "cell_type": "code",
     "checksum": "1d1ceed725cd74b8c364bd9a9248a145",
     "grade": true,
     "grade_id": "cell-03eed3e00b84e04a",
     "locked": true,
     "points": 10,
     "schema_version": 3,
     "solution": false,
     "task": false
    }
   },
   "outputs": [],
   "source": []
  },
  {
   "cell_type": "code",
   "execution_count": null,
   "metadata": {
    "deletable": false,
    "editable": false,
    "nbgrader": {
     "cell_type": "code",
     "checksum": "233c43239c7508a8b2462aeecf7a8f10",
     "grade": true,
     "grade_id": "cell-738f1ebc9cafea40",
     "locked": true,
     "points": 10,
     "schema_version": 3,
     "solution": false,
     "task": false
    }
   },
   "outputs": [],
   "source": []
  },
  {
   "cell_type": "code",
   "execution_count": null,
   "metadata": {
    "deletable": false,
    "editable": false,
    "nbgrader": {
     "cell_type": "code",
     "checksum": "20b9a1502914131b9716095ff5f04dd1",
     "grade": true,
     "grade_id": "cell-43ee08cf81bd86ed",
     "locked": true,
     "points": 10,
     "schema_version": 3,
     "solution": false,
     "task": false
    }
   },
   "outputs": [],
   "source": []
  },
  {
   "cell_type": "code",
   "execution_count": null,
   "metadata": {
    "deletable": false,
    "editable": false,
    "nbgrader": {
     "cell_type": "code",
     "checksum": "36b6f5e9b52f47f9c78812d7a3c5a8aa",
     "grade": true,
     "grade_id": "cell-1bd14e1321d9ba94",
     "locked": true,
     "points": 10,
     "schema_version": 3,
     "solution": false,
     "task": false
    }
   },
   "outputs": [],
   "source": []
  },
  {
   "cell_type": "code",
   "execution_count": null,
   "metadata": {
    "deletable": false,
    "editable": false,
    "nbgrader": {
     "cell_type": "code",
     "checksum": "3d082ed16701efd8c2dca5dc6bcca69f",
     "grade": true,
     "grade_id": "cell-3890ba4e68df7da3",
     "locked": true,
     "points": 10,
     "schema_version": 3,
     "solution": false,
     "task": false
    }
   },
   "outputs": [],
   "source": []
  },
  {
   "cell_type": "code",
   "execution_count": null,
   "metadata": {
    "deletable": false,
    "editable": false,
    "nbgrader": {
     "cell_type": "code",
     "checksum": "242e2df908a169258075cb9d88616be0",
     "grade": true,
     "grade_id": "cell-12a7da9c716843ce",
     "locked": true,
     "points": 10,
     "schema_version": 3,
     "solution": false,
     "task": false
    }
   },
   "outputs": [],
   "source": []
  },
  {
   "cell_type": "code",
   "execution_count": null,
   "metadata": {
    "deletable": false,
    "editable": false,
    "nbgrader": {
     "cell_type": "code",
     "checksum": "37ff312bf9e71436338eea7dd76f335f",
     "grade": true,
     "grade_id": "cell-914fee4696b8fbf1",
     "locked": true,
     "points": 10,
     "schema_version": 3,
     "solution": false,
     "task": false
    }
   },
   "outputs": [],
   "source": []
  },
  {
   "cell_type": "code",
   "execution_count": null,
   "metadata": {
    "deletable": false,
    "editable": false,
    "nbgrader": {
     "cell_type": "code",
     "checksum": "cb077b6bcbbaac6a5fbdd4119ae54fe7",
     "grade": true,
     "grade_id": "cell-85b09ea8b1dbdf5a",
     "locked": true,
     "points": 10,
     "schema_version": 3,
     "solution": false,
     "task": false
    }
   },
   "outputs": [],
   "source": []
  },
  {
   "cell_type": "code",
   "execution_count": null,
   "metadata": {},
   "outputs": [],
   "source": []
  }
 ],
 "metadata": {
  "kernelspec": {
   "display_name": "Python 3 (ipykernel)",
   "language": "python",
   "name": "python3"
  },
  "language_info": {
   "codemirror_mode": {
    "name": "ipython",
    "version": 3
   },
   "file_extension": ".py",
   "mimetype": "text/x-python",
   "name": "python",
   "nbconvert_exporter": "python",
   "pygments_lexer": "ipython3",
   "version": "3.8.10"
  },
  "latex_envs": {
   "LaTeX_envs_menu_present": true,
   "autoclose": false,
   "autocomplete": true,
   "bibliofile": "biblio.bib",
   "cite_by": "apalike",
   "current_citInitial": 1,
   "eqLabelWithNumbers": true,
   "eqNumInitial": 1,
   "hotkeys": {
    "equation": "Ctrl-E",
    "itemize": "Ctrl-I"
   },
   "labels_anchors": false,
   "latex_user_defs": false,
   "report_style_numbering": false,
   "user_envs_cfg": false
  },
  "toc": {
   "base_numbering": "1",
   "nav_menu": {},
   "number_sections": true,
   "sideBar": true,
   "skip_h1_title": true,
   "title_cell": "Table of Contents",
   "title_sidebar": "Contents",
   "toc_cell": true,
   "toc_position": {
    "height": "calc(100% - 180px)",
    "left": "10px",
    "top": "150px",
    "width": "165px"
   },
   "toc_section_display": true,
   "toc_window_display": false
  }
 },
 "nbformat": 4,
 "nbformat_minor": 2
}
